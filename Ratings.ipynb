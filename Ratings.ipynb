{
 "cells": [
  {
   "cell_type": "code",
   "execution_count": 4,
   "id": "4a86a728",
   "metadata": {
    "ExecuteTime": {
     "end_time": "2021-10-31T06:23:31.415615Z",
     "start_time": "2021-10-31T06:23:28.418283Z"
    },
    "pycharm": {
     "name": "#%%\n"
    }
   },
   "outputs": [],
   "source": [
    "%reload_ext autoreload\n",
    "%autoreload 2\n",
    "\n",
    "import numpy as np\n",
    "import pandas as pd\n",
    "\n",
    "pd.options.display.max_columns, pd.options.display.max_rows = 500, 200\n",
    "pd.options.display.float_format = '{:.1f}'.format\n",
    "import warnings\n",
    "\n",
    "warnings.filterwarnings('ignore')\n",
    "import joblib\n",
    "\n",
    "from euro_soccer.preprocessing import DataPreprocessor\n",
    "from euro_soccer.glicko_soccer import GlickoSoccer"
   ]
  },
  {
   "cell_type": "code",
   "execution_count": 5,
   "outputs": [
    {
     "data": {
      "text/plain": "         date       home_team       away_team home_score away_score notes  \\\n0  03.08.2019         Влазния  Бесалиджа Лежа          3          1   NaN   \n1  29.07.2019  Бесалиджа Лежа        Поградец          3          2   NaN   \n2  30.05.2021       Кастриоти    Томори Берат          2          1   NaN   \n3  26.05.2021         Буррели    Томори Берат          1          2   NaN   \n4  23.05.2022  Кораби Пешкопи  Аполония Фиери          3          2   NaN   \n\n   country                                      league     season  \\\n0  Albania  Суперлига - Борьба за выживание - плей-офф  2019-2020   \n1  Albania  Суперлига - Борьба за выживание - плей-офф  2019-2020   \n2  Albania  Суперлига - Борьба за выживание - плей-офф  2020-2021   \n3  Albania  Суперлига - Борьба за выживание - плей-офф  2020-2021   \n4  Albania  Суперлига - Борьба за выживание - плей-офф  2021-2022   \n\n  tournament_type  \n0           first  \n1           first  \n2           first  \n3           first  \n4           first  ",
      "text/html": "<div>\n<style scoped>\n    .dataframe tbody tr th:only-of-type {\n        vertical-align: middle;\n    }\n\n    .dataframe tbody tr th {\n        vertical-align: top;\n    }\n\n    .dataframe thead th {\n        text-align: right;\n    }\n</style>\n<table border=\"1\" class=\"dataframe\">\n  <thead>\n    <tr style=\"text-align: right;\">\n      <th></th>\n      <th>date</th>\n      <th>home_team</th>\n      <th>away_team</th>\n      <th>home_score</th>\n      <th>away_score</th>\n      <th>notes</th>\n      <th>country</th>\n      <th>league</th>\n      <th>season</th>\n      <th>tournament_type</th>\n    </tr>\n  </thead>\n  <tbody>\n    <tr>\n      <th>0</th>\n      <td>03.08.2019</td>\n      <td>Влазния</td>\n      <td>Бесалиджа Лежа</td>\n      <td>3</td>\n      <td>1</td>\n      <td>NaN</td>\n      <td>Albania</td>\n      <td>Суперлига - Борьба за выживание - плей-офф</td>\n      <td>2019-2020</td>\n      <td>first</td>\n    </tr>\n    <tr>\n      <th>1</th>\n      <td>29.07.2019</td>\n      <td>Бесалиджа Лежа</td>\n      <td>Поградец</td>\n      <td>3</td>\n      <td>2</td>\n      <td>NaN</td>\n      <td>Albania</td>\n      <td>Суперлига - Борьба за выживание - плей-офф</td>\n      <td>2019-2020</td>\n      <td>first</td>\n    </tr>\n    <tr>\n      <th>2</th>\n      <td>30.05.2021</td>\n      <td>Кастриоти</td>\n      <td>Томори Берат</td>\n      <td>2</td>\n      <td>1</td>\n      <td>NaN</td>\n      <td>Albania</td>\n      <td>Суперлига - Борьба за выживание - плей-офф</td>\n      <td>2020-2021</td>\n      <td>first</td>\n    </tr>\n    <tr>\n      <th>3</th>\n      <td>26.05.2021</td>\n      <td>Буррели</td>\n      <td>Томори Берат</td>\n      <td>1</td>\n      <td>2</td>\n      <td>NaN</td>\n      <td>Albania</td>\n      <td>Суперлига - Борьба за выживание - плей-офф</td>\n      <td>2020-2021</td>\n      <td>first</td>\n    </tr>\n    <tr>\n      <th>4</th>\n      <td>23.05.2022</td>\n      <td>Кораби Пешкопи</td>\n      <td>Аполония Фиери</td>\n      <td>3</td>\n      <td>2</td>\n      <td>NaN</td>\n      <td>Albania</td>\n      <td>Суперлига - Борьба за выживание - плей-офф</td>\n      <td>2021-2022</td>\n      <td>first</td>\n    </tr>\n  </tbody>\n</table>\n</div>"
     },
     "execution_count": 5,
     "metadata": {},
     "output_type": "execute_result"
    }
   ],
   "source": [
    "matches = pd.read_csv('matches.csv')\n",
    "matches.head()"
   ],
   "metadata": {
    "collapsed": false,
    "pycharm": {
     "name": "#%%\n"
    }
   }
  },
  {
   "cell_type": "code",
   "execution_count": null,
   "id": "e83e46cd",
   "metadata": {
    "ExecuteTime": {
     "end_time": "2021-10-31T06:23:34.260370Z",
     "start_time": "2021-10-31T06:23:33.632554Z"
    },
    "scrolled": false,
    "pycharm": {
     "name": "#%%\n"
    }
   },
   "outputs": [],
   "source": [
    "matches = pd.read_csv('matches.csv')\n",
    "matches = DataPreprocessor(is_actual_draw_predictions=False).preprocessing(matches)\n",
    "matches.tail(5)"
   ]
  },
  {
   "cell_type": "code",
   "execution_count": 3,
   "outputs": [
    {
     "data": {
      "text/plain": "(122271, 12)"
     },
     "execution_count": 3,
     "metadata": {},
     "output_type": "execute_result"
    }
   ],
   "source": [
    "matches.shape"
   ],
   "metadata": {
    "collapsed": false,
    "pycharm": {
     "name": "#%%\n"
    }
   }
  },
  {
   "cell_type": "markdown",
   "source": [],
   "metadata": {
    "collapsed": false,
    "pycharm": {
     "name": "#%% md\n"
    }
   }
  },
  {
   "cell_type": "code",
   "execution_count": 21,
   "outputs": [],
   "source": [
    "count_matches, count_seasons, count_tournaments, teams_countries, uefa_teams_without_national = DataPreprocessor().test_data(matches)"
   ],
   "metadata": {
    "collapsed": false,
    "pycharm": {
     "name": "#%%\n"
    }
   }
  },
  {
   "cell_type": "markdown",
   "source": [],
   "metadata": {
    "collapsed": false,
    "pycharm": {
     "name": "#%% md\n"
    }
   }
  },
  {
   "cell_type": "markdown",
   "source": [],
   "metadata": {
    "collapsed": false,
    "pycharm": {
     "name": "#%% md\n"
    }
   }
  },
  {
   "cell_type": "code",
   "execution_count": 22,
   "outputs": [
    {
     "data": {
      "text/plain": "Empty DataFrame\nColumns: [country, tournament_type, season, number_matches]\nIndex: []",
      "text/html": "<div>\n<style scoped>\n    .dataframe tbody tr th:only-of-type {\n        vertical-align: middle;\n    }\n\n    .dataframe tbody tr th {\n        vertical-align: top;\n    }\n\n    .dataframe thead th {\n        text-align: right;\n    }\n</style>\n<table border=\"1\" class=\"dataframe\">\n  <thead>\n    <tr style=\"text-align: right;\">\n      <th></th>\n      <th>country</th>\n      <th>tournament_type</th>\n      <th>season</th>\n      <th>number_matches</th>\n    </tr>\n  </thead>\n  <tbody>\n  </tbody>\n</table>\n</div>"
     },
     "execution_count": 22,
     "metadata": {},
     "output_type": "execute_result"
    }
   ],
   "source": [
    "count_matches"
   ],
   "metadata": {
    "collapsed": false,
    "pycharm": {
     "name": "#%%\n"
    }
   }
  },
  {
   "cell_type": "code",
   "execution_count": 23,
   "outputs": [
    {
     "data": {
      "text/plain": "                     country  tournament_type  number_seasons\n60  Europa Conference League                3               1\n61  Europa Conference League                4               1",
      "text/html": "<div>\n<style scoped>\n    .dataframe tbody tr th:only-of-type {\n        vertical-align: middle;\n    }\n\n    .dataframe tbody tr th {\n        vertical-align: top;\n    }\n\n    .dataframe thead th {\n        text-align: right;\n    }\n</style>\n<table border=\"1\" class=\"dataframe\">\n  <thead>\n    <tr style=\"text-align: right;\">\n      <th></th>\n      <th>country</th>\n      <th>tournament_type</th>\n      <th>number_seasons</th>\n    </tr>\n  </thead>\n  <tbody>\n    <tr>\n      <th>60</th>\n      <td>Europa Conference League</td>\n      <td>3</td>\n      <td>1</td>\n    </tr>\n    <tr>\n      <th>61</th>\n      <td>Europa Conference League</td>\n      <td>4</td>\n      <td>1</td>\n    </tr>\n  </tbody>\n</table>\n</div>"
     },
     "execution_count": 23,
     "metadata": {},
     "output_type": "execute_result"
    }
   ],
   "source": [
    "count_seasons"
   ],
   "metadata": {
    "collapsed": false,
    "pycharm": {
     "name": "#%%\n"
    }
   }
  },
  {
   "cell_type": "code",
   "execution_count": 24,
   "outputs": [
    {
     "data": {
      "text/plain": "Empty DataFrame\nColumns: [country, number_tournaments, tournament_type]\nIndex: []",
      "text/html": "<div>\n<style scoped>\n    .dataframe tbody tr th:only-of-type {\n        vertical-align: middle;\n    }\n\n    .dataframe tbody tr th {\n        vertical-align: top;\n    }\n\n    .dataframe thead th {\n        text-align: right;\n    }\n</style>\n<table border=\"1\" class=\"dataframe\">\n  <thead>\n    <tr style=\"text-align: right;\">\n      <th></th>\n      <th>country</th>\n      <th>number_tournaments</th>\n      <th>tournament_type</th>\n    </tr>\n  </thead>\n  <tbody>\n  </tbody>\n</table>\n</div>"
     },
     "execution_count": 24,
     "metadata": {},
     "output_type": "execute_result"
    }
   ],
   "source": [
    "count_tournaments"
   ],
   "metadata": {
    "collapsed": false,
    "pycharm": {
     "name": "#%%\n"
    }
   }
  },
  {
   "cell_type": "code",
   "execution_count": 25,
   "outputs": [
    {
     "data": {
      "text/plain": "Empty DataFrame\nColumns: [home_team, teams_countries]\nIndex: []",
      "text/html": "<div>\n<style scoped>\n    .dataframe tbody tr th:only-of-type {\n        vertical-align: middle;\n    }\n\n    .dataframe tbody tr th {\n        vertical-align: top;\n    }\n\n    .dataframe thead th {\n        text-align: right;\n    }\n</style>\n<table border=\"1\" class=\"dataframe\">\n  <thead>\n    <tr style=\"text-align: right;\">\n      <th></th>\n      <th>home_team</th>\n      <th>teams_countries</th>\n    </tr>\n  </thead>\n  <tbody>\n  </tbody>\n</table>\n</div>"
     },
     "execution_count": 25,
     "metadata": {},
     "output_type": "execute_result"
    }
   ],
   "source": [
    "teams_countries"
   ],
   "metadata": {
    "collapsed": false,
    "pycharm": {
     "name": "#%%\n"
    }
   }
  },
  {
   "cell_type": "code",
   "execution_count": 26,
   "outputs": [
    {
     "data": {
      "text/plain": "[]"
     },
     "execution_count": 26,
     "metadata": {},
     "output_type": "execute_result"
    }
   ],
   "source": [
    "uefa_teams_without_national"
   ],
   "metadata": {
    "collapsed": false,
    "pycharm": {
     "name": "#%%\n"
    }
   }
  },
  {
   "cell_type": "code",
   "execution_count": 20,
   "outputs": [],
   "source": [],
   "metadata": {
    "collapsed": false,
    "pycharm": {
     "name": "#%%\n"
    }
   }
  },
  {
   "cell_type": "code",
   "execution_count": 20,
   "outputs": [],
   "source": [],
   "metadata": {
    "collapsed": false,
    "pycharm": {
     "name": "#%%\n"
    }
   }
  },
  {
   "cell_type": "code",
   "execution_count": 11,
   "outputs": [
    {
     "data": {
      "text/plain": "Europa League               2042\nBelgium                     1549\nSlovakia                    1107\nChampions League            1040\nFrance                       950\nTurkey                       848\nPortugal                     824\nHungary                      708\nCzech Republic               667\nSpain                        604\nSweden                       593\nNorway                       572\nDenmark                      519\nRomania                      516\nNetherlands                  494\nGreece                       471\nEngland                      463\nWales                        460\nScotland                     458\nEstonia                      449\nNorthern Ireland             444\nEuropa Conference League     422\nIceland                      370\nItaly                        361\nPoland                       342\nAustria                      315\nGermany                      314\nFinland                      305\nSwitzerland                  288\nAlbania                      282\nLuxembourg                   275\nMalta                        273\nBelarus                      267\nUkraine                      259\nIsrael                       252\nCroatia                      234\nMoldova                      212\nLatvia                       202\nBulgaria                     194\nNorth Macedonia              180\nBosnia And Herzegovina       173\nIreland                      169\nCyprus                       169\nSerbia                       158\nGeorgia                      151\nSan Marino                   149\nMontenegro                   145\nLithuania                    142\nSlovenia                     135\nKazakhstan                   128\nAzerbaijan                    85\nFaroe Islands                 83\nKosovo                        81\nArmenia                       78\nGibraltar                     65\nAndorra                       56\nName: country, dtype: int64"
     },
     "execution_count": 11,
     "metadata": {},
     "output_type": "execute_result"
    }
   ],
   "source": [
    "matches.loc[matches['tournament_type'] == \"cups\", 'country'].value_counts()"
   ],
   "metadata": {
    "collapsed": false,
    "pycharm": {
     "name": "#%%\n"
    }
   }
  },
  {
   "cell_type": "code",
   "execution_count": null,
   "outputs": [],
   "source": [],
   "metadata": {
    "collapsed": false,
    "pycharm": {
     "name": "#%%\n"
    }
   }
  },
  {
   "cell_type": "markdown",
   "source": [],
   "metadata": {
    "collapsed": false,
    "pycharm": {
     "name": "#%% md\n"
    }
   }
  },
  {
   "cell_type": "code",
   "execution_count": 38,
   "outputs": [
    {
     "name": "stdout",
     "output_type": "stream",
     "text": [
      "<class 'pandas.core.frame.DataFrame'>\n",
      "Int64Index: 116731 entries, 0 to 130989\n",
      "Data columns (total 11 columns):\n",
      " #   Column            Non-Null Count   Dtype         \n",
      "---  ------            --------------   -----         \n",
      " 0   index             116731 non-null  int64         \n",
      " 1   date              116731 non-null  datetime64[ns]\n",
      " 2   home_team         116731 non-null  object        \n",
      " 3   away_team         116731 non-null  object        \n",
      " 4   country           116731 non-null  object        \n",
      " 5   tournament        116731 non-null  object        \n",
      " 6   season            116731 non-null  int64         \n",
      " 7   tournament_type   116731 non-null  int64         \n",
      " 8   outcome           116731 non-null  object        \n",
      " 9   is_pandemic       116731 non-null  int64         \n",
      " 10  draw_probability  116731 non-null  float64       \n",
      "dtypes: datetime64[ns](1), float64(1), int64(4), object(5)\n",
      "memory usage: 10.7+ MB\n"
     ]
    }
   ],
   "source": [
    "matches.info()"
   ],
   "metadata": {
    "collapsed": false,
    "pycharm": {
     "name": "#%%\n"
    }
   }
  },
  {
   "cell_type": "code",
   "execution_count": 39,
   "id": "e991a1e8",
   "metadata": {
    "ExecuteTime": {
     "end_time": "2021-10-24T11:04:09.063149Z",
     "start_time": "2021-10-24T11:04:08.908334Z"
    },
    "pycharm": {
     "name": "#%%\n"
    }
   },
   "outputs": [],
   "source": [
    "# matches['draw_probability'].mean()"
   ]
  },
  {
   "cell_type": "code",
   "execution_count": 23,
   "id": "71ca8c4a",
   "metadata": {
    "ExecuteTime": {
     "end_time": "2021-10-23T08:31:55.616338Z",
     "start_time": "2021-10-23T08:31:55.175290Z"
    },
    "pycharm": {
     "name": "#%%\n"
    }
   },
   "outputs": [],
   "source": [
    "# # matches.loc[(matches['home_team'].str.contains('B')) & (matches['away_team'].str.contains('AS Roma'))]"
   ]
  },
  {
   "cell_type": "code",
   "execution_count": 24,
   "id": "d2bc426d",
   "metadata": {
    "ExecuteTime": {
     "end_time": "2021-10-17T16:50:39.263142Z",
     "start_time": "2021-10-17T16:50:39.201859Z"
    },
    "pycharm": {
     "name": "#%%\n"
    }
   },
   "outputs": [],
   "source": [
    "# matches.info()"
   ]
  },
  {
   "cell_type": "code",
   "execution_count": 25,
   "outputs": [],
   "source": [
    "# matches['season'].value_counts()"
   ],
   "metadata": {
    "collapsed": false,
    "pycharm": {
     "name": "#%%\n"
    }
   }
  },
  {
   "cell_type": "code",
   "execution_count": 26,
   "outputs": [],
   "source": [
    "# matches.loc[matches['tournament'].str.contains('Con')]"
   ],
   "metadata": {
    "collapsed": false,
    "pycharm": {
     "name": "#%%\n"
    }
   }
  },
  {
   "cell_type": "markdown",
   "id": "11653b5c",
   "metadata": {
    "pycharm": {
     "name": "#%% md\n"
    }
   },
   "source": [
    "# Fit Params"
   ]
  },
  {
   "cell_type": "markdown",
   "source": [],
   "metadata": {
    "collapsed": false,
    "pycharm": {
     "name": "#%% md\n"
    }
   }
  },
  {
   "cell_type": "code",
   "execution_count": null,
   "id": "da811e92",
   "metadata": {
    "ExecuteTime": {
     "end_time": "2021-10-11T10:45:05.038512Z",
     "start_time": "2021-10-11T10:42:55.647176Z"
    },
    "pycharm": {
     "name": "#%%\n"
    }
   },
   "outputs": [
    {
     "name": "stdout",
     "output_type": "stream",
     "text": [
      "Current Loss: 42044.85784972906\n",
      "Slovenia. First 1473\n",
      "Armenia. First 1554\n",
      "Hungary. First 1649\n",
      "Bulgaria. First 1439\n",
      "Portugal. First 1829\n",
      "Croatia. Second 1324\n",
      "Spain. Second 1775\n",
      "Moldova. First 1285\n",
      "Cyprus. First 1619\n",
      "Russia. First 1649\n",
      "Croatia. First 1664\n",
      "England. First 2014\n",
      "Ukraine. Second 1399\n",
      "Northern Ireland. Second 1067\n",
      "North Macedonia. Second 1028\n",
      "Sweden. Second 1528\n",
      "Israel. First 1572\n",
      "Northern Ireland. First 1377\n",
      "Scotland. Second 1370\n",
      "Switzerland. Second 1667\n",
      "Georgia. First 1357\n",
      "Portugal. Second 1665\n",
      "Albania. First 1293\n",
      "Armenia. Second 1253\n",
      "Scotland. First 1653\n",
      "Israel. Second 1425\n",
      "Belarus. Second 1093\n",
      "Serbia. First 1433\n",
      "Austria. Second 1627\n",
      "Greece. Second 1550\n",
      "Serbia. Second 1247\n",
      "Germany. First 1982\n",
      "Georgia. Second 1432\n",
      "Bosnia And Herzegovina. Second 1294\n",
      "Bulgaria. Second 1272\n",
      "Latvia. First 1437\n",
      "Netherlands. First 1762\n",
      "Kazakhstan. First 1432\n",
      "Albania. Second 1257\n",
      "Montenegro. First 1337\n",
      "North Macedonia. First 1282\n",
      "Belarus. First 1347\n",
      "Lithuania. Second 1157\n",
      "Ukraine. First 1597\n",
      "Belgium. Second 1617\n",
      "Lithuania. First 1402\n",
      "Bosnia And Herzegovina. First 1495\n",
      "Finland. Second 1272\n",
      "Hungary. Second 1317\n",
      "Wales. First 1247\n",
      "England. Second 1707\n",
      "San Marino. First 1183\n",
      "Gibraltar. First 1183\n",
      "France. First 1832\n"
     ]
    }
   ],
   "source": [
    "glicko = GlickoSoccer()  # 42049.32433702407\n",
    "league_params = glicko.fit_params(matches, 20, is_params_initialization=False)"
   ]
  },
  {
   "cell_type": "markdown",
   "source": [],
   "metadata": {
    "collapsed": false,
    "pycharm": {
     "name": "#%% md\n"
    }
   }
  },
  {
   "cell_type": "markdown",
   "source": [],
   "metadata": {
    "collapsed": false,
    "pycharm": {
     "name": "#%% md\n"
    }
   }
  },
  {
   "cell_type": "markdown",
   "source": [],
   "metadata": {
    "collapsed": false,
    "pycharm": {
     "name": "#%% md\n"
    }
   }
  },
  {
   "cell_type": "code",
   "execution_count": null,
   "outputs": [],
   "source": [],
   "metadata": {
    "collapsed": false,
    "pycharm": {
     "name": "#%%\n"
    }
   }
  },
  {
   "cell_type": "code",
   "execution_count": 13,
   "outputs": [
    {
     "data": {
      "text/plain": "{'init_mu': 1645,\n 'init_rd': 150,\n 'update_rd': 30,\n 'lift_update_mu': 70,\n 'home_advantage': 30,\n 'pandemic_home_advantage': 24,\n 'new_team_update_mu': 0}"
     },
     "execution_count": 13,
     "metadata": {},
     "output_type": "execute_result"
    }
   ],
   "source": [],
   "metadata": {
    "collapsed": false,
    "pycharm": {
     "name": "#%%\n"
    }
   }
  },
  {
   "cell_type": "code",
   "execution_count": null,
   "outputs": [],
   "source": [],
   "metadata": {
    "collapsed": false,
    "pycharm": {
     "name": "#%%\n"
    }
   }
  },
  {
   "cell_type": "code",
   "execution_count": null,
   "outputs": [],
   "source": [],
   "metadata": {
    "collapsed": false,
    "pycharm": {
     "name": "#%%\n"
    }
   }
  },
  {
   "cell_type": "code",
   "execution_count": null,
   "outputs": [],
   "source": [],
   "metadata": {
    "collapsed": false,
    "pycharm": {
     "name": "#%%\n"
    }
   }
  },
  {
   "cell_type": "code",
   "execution_count": null,
   "outputs": [],
   "source": [],
   "metadata": {
    "collapsed": false,
    "pycharm": {
     "name": "#%%\n"
    }
   }
  },
  {
   "cell_type": "code",
   "execution_count": null,
   "outputs": [],
   "source": [],
   "metadata": {
    "collapsed": false,
    "pycharm": {
     "name": "#%%\n"
    }
   }
  },
  {
   "cell_type": "markdown",
   "source": [],
   "metadata": {
    "collapsed": false,
    "pycharm": {
     "name": "#%% md\n"
    }
   }
  },
  {
   "cell_type": "markdown",
   "id": "c0b250f0",
   "metadata": {
    "pycharm": {
     "name": "#%% md\n"
    }
   },
   "source": [
    "# Ratings"
   ]
  },
  {
   "cell_type": "code",
   "execution_count": 29,
   "id": "4cd7df5b",
   "metadata": {
    "ExecuteTime": {
     "end_time": "2021-10-31T06:24:00.223216Z",
     "start_time": "2021-10-31T06:23:57.642851Z"
    },
    "scrolled": false,
    "pycharm": {
     "name": "#%%\n"
    }
   },
   "outputs": [
    {
     "data": {
      "text/plain": "     #                          league  rating\n0    1                  England. First  2182.6\n1    2                    Spain. First  2125.8\n2    3                  Germany. First  2111.3\n3    4                    Italy. First  2098.4\n4    5                   France. First  2035.6\n5    6                 Portugal. First  1985.5\n6    7              Netherlands. First  1936.3\n7    8                  Belgium. First  1895.2\n8    9                   Spain. Second  1881.4\n9   10                 Germany. Second  1864.6\n10  11                  Austria. First  1861.5\n11  12              Switzerland. First  1845.2\n12  13                   Russia. First  1827.7\n13  14                   Turkey. First  1822.8\n14  15                   Norway. First  1810.6\n15  16                   Poland. First  1807.5\n16  17                 England. Second  1796.4\n17  18                  Denmark. First  1794.3\n18  19                   Sweden. First  1782.7\n19  20                 Scotland. First  1778.8\n20  21                   Cyprus. First  1771.3\n21  22           Czech Republic. First  1766.0\n22  23                  Ukraine. First  1765.0\n23  24                   Greece. First  1755.3\n24  25                  Croatia. First  1739.3\n25  26                Portugal. Second  1737.1\n26  27                   Italy. Second  1736.8\n27  28                  France. Second  1728.6\n28  29                   Israel. First  1728.6\n29  30                  Hungary. First  1696.7\n30  31                  Romania. First  1694.1\n31  32             Switzerland. Second  1666.6\n32  33                   Serbia. First  1655.8\n33  34                 Austria. Second  1634.0\n34  35                  Russia. Second  1630.5\n35  36                 Bulgaria. First  1623.8\n36  37                 Slovenia. First  1616.6\n37  38   Bosnia And Herzegovina. First  1610.5\n38  39                  Turkey. Second  1605.5\n39  40                  Poland. Second  1580.0\n40  41               Azerbaijan. First  1574.2\n41  42                 Slovakia. First  1571.9\n42  43                  Sweden. Second  1569.7\n43  44                  Georgia. First  1563.1\n44  45                  Finland. First  1561.1\n45  46                  Greece. Second  1560.1\n46  47                  Norway. Second  1559.2\n47  48             Netherlands. Second  1549.6\n48  49                  Iceland. First  1546.6\n49  50                  Armenia. First  1544.7\n50  51                 Romania. Second  1537.9\n51  52               Kazakhstan. First  1537.7\n52  53                  Ireland. First  1531.3\n53  54                 Denmark. Second  1527.6\n54  55                 Belgium. Second  1522.9\n55  56                  Albania. First  1517.0\n56  57                  Belarus. First  1515.9\n57  58         Northern Ireland. First  1512.8\n58  59               Luxembourg. First  1486.3\n59  60                    Malta. First  1484.9\n60  61                  Israel. Second  1477.7\n61  62                Scotland. Second  1473.8\n62  63                 Ukraine. Second  1462.2\n63  64                   Kosovo. First  1460.7\n64  65                  Estonia. First  1452.9\n65  66               Montenegro. First  1451.6\n66  67                   Latvia. First  1443.7\n67  68                 Hungary. Second  1439.1\n68  69                Lithuania. First  1435.8\n69  70                  Moldova. First  1431.4\n70  71          North Macedonia. First  1421.7\n71  72                Slovenia. Second  1409.2\n72  73                  Cyprus. Second  1393.2\n73  74                 Croatia. Second  1392.0\n74  75          Czech Republic. Second  1380.6\n75  76            Faroe Islands. First  1370.3\n76  77  Bosnia And Herzegovina. Second  1355.6\n77  78                    Wales. First  1347.7\n78  79                  Serbia. Second  1343.2\n79  80                  Andorra. First  1341.1\n80  81              Kazakhstan. Second  1322.3\n81  82                 Georgia. Second  1306.2\n82  83                Bulgaria. Second  1301.4\n83  84                Slovakia. Second  1299.8\n84  85                 Albania. Second  1283.6\n85  86               San Marino. First  1276.8\n86  87                 Iceland. Second  1268.5\n87  88                   Malta. Second  1246.0\n88  89                Gibraltar. First  1245.2\n89  90                 Ireland. Second  1241.8\n90  91                 Armenia. Second  1222.4\n91  92                 Finland. Second  1213.7\n92  93               Lithuania. Second  1121.1\n93  94                 Belarus. Second  1114.7\n94  95         North Macedonia. Second  1089.5\n95  96                 Estonia. Second  1086.6\n96  97                  Latvia. Second  1066.4\n97  98        Northern Ireland. Second  1044.7",
      "text/html": "<div>\n<style scoped>\n    .dataframe tbody tr th:only-of-type {\n        vertical-align: middle;\n    }\n\n    .dataframe tbody tr th {\n        vertical-align: top;\n    }\n\n    .dataframe thead th {\n        text-align: right;\n    }\n</style>\n<table border=\"1\" class=\"dataframe\">\n  <thead>\n    <tr style=\"text-align: right;\">\n      <th></th>\n      <th>#</th>\n      <th>league</th>\n      <th>rating</th>\n    </tr>\n  </thead>\n  <tbody>\n    <tr>\n      <th>0</th>\n      <td>1</td>\n      <td>England. First</td>\n      <td>2182.6</td>\n    </tr>\n    <tr>\n      <th>1</th>\n      <td>2</td>\n      <td>Spain. First</td>\n      <td>2125.8</td>\n    </tr>\n    <tr>\n      <th>2</th>\n      <td>3</td>\n      <td>Germany. First</td>\n      <td>2111.3</td>\n    </tr>\n    <tr>\n      <th>3</th>\n      <td>4</td>\n      <td>Italy. First</td>\n      <td>2098.4</td>\n    </tr>\n    <tr>\n      <th>4</th>\n      <td>5</td>\n      <td>France. First</td>\n      <td>2035.6</td>\n    </tr>\n    <tr>\n      <th>5</th>\n      <td>6</td>\n      <td>Portugal. First</td>\n      <td>1985.5</td>\n    </tr>\n    <tr>\n      <th>6</th>\n      <td>7</td>\n      <td>Netherlands. First</td>\n      <td>1936.3</td>\n    </tr>\n    <tr>\n      <th>7</th>\n      <td>8</td>\n      <td>Belgium. First</td>\n      <td>1895.2</td>\n    </tr>\n    <tr>\n      <th>8</th>\n      <td>9</td>\n      <td>Spain. Second</td>\n      <td>1881.4</td>\n    </tr>\n    <tr>\n      <th>9</th>\n      <td>10</td>\n      <td>Germany. Second</td>\n      <td>1864.6</td>\n    </tr>\n    <tr>\n      <th>10</th>\n      <td>11</td>\n      <td>Austria. First</td>\n      <td>1861.5</td>\n    </tr>\n    <tr>\n      <th>11</th>\n      <td>12</td>\n      <td>Switzerland. First</td>\n      <td>1845.2</td>\n    </tr>\n    <tr>\n      <th>12</th>\n      <td>13</td>\n      <td>Russia. First</td>\n      <td>1827.7</td>\n    </tr>\n    <tr>\n      <th>13</th>\n      <td>14</td>\n      <td>Turkey. First</td>\n      <td>1822.8</td>\n    </tr>\n    <tr>\n      <th>14</th>\n      <td>15</td>\n      <td>Norway. First</td>\n      <td>1810.6</td>\n    </tr>\n    <tr>\n      <th>15</th>\n      <td>16</td>\n      <td>Poland. First</td>\n      <td>1807.5</td>\n    </tr>\n    <tr>\n      <th>16</th>\n      <td>17</td>\n      <td>England. Second</td>\n      <td>1796.4</td>\n    </tr>\n    <tr>\n      <th>17</th>\n      <td>18</td>\n      <td>Denmark. First</td>\n      <td>1794.3</td>\n    </tr>\n    <tr>\n      <th>18</th>\n      <td>19</td>\n      <td>Sweden. First</td>\n      <td>1782.7</td>\n    </tr>\n    <tr>\n      <th>19</th>\n      <td>20</td>\n      <td>Scotland. First</td>\n      <td>1778.8</td>\n    </tr>\n    <tr>\n      <th>20</th>\n      <td>21</td>\n      <td>Cyprus. First</td>\n      <td>1771.3</td>\n    </tr>\n    <tr>\n      <th>21</th>\n      <td>22</td>\n      <td>Czech Republic. First</td>\n      <td>1766.0</td>\n    </tr>\n    <tr>\n      <th>22</th>\n      <td>23</td>\n      <td>Ukraine. First</td>\n      <td>1765.0</td>\n    </tr>\n    <tr>\n      <th>23</th>\n      <td>24</td>\n      <td>Greece. First</td>\n      <td>1755.3</td>\n    </tr>\n    <tr>\n      <th>24</th>\n      <td>25</td>\n      <td>Croatia. First</td>\n      <td>1739.3</td>\n    </tr>\n    <tr>\n      <th>25</th>\n      <td>26</td>\n      <td>Portugal. Second</td>\n      <td>1737.1</td>\n    </tr>\n    <tr>\n      <th>26</th>\n      <td>27</td>\n      <td>Italy. Second</td>\n      <td>1736.8</td>\n    </tr>\n    <tr>\n      <th>27</th>\n      <td>28</td>\n      <td>France. Second</td>\n      <td>1728.6</td>\n    </tr>\n    <tr>\n      <th>28</th>\n      <td>29</td>\n      <td>Israel. First</td>\n      <td>1728.6</td>\n    </tr>\n    <tr>\n      <th>29</th>\n      <td>30</td>\n      <td>Hungary. First</td>\n      <td>1696.7</td>\n    </tr>\n    <tr>\n      <th>30</th>\n      <td>31</td>\n      <td>Romania. First</td>\n      <td>1694.1</td>\n    </tr>\n    <tr>\n      <th>31</th>\n      <td>32</td>\n      <td>Switzerland. Second</td>\n      <td>1666.6</td>\n    </tr>\n    <tr>\n      <th>32</th>\n      <td>33</td>\n      <td>Serbia. First</td>\n      <td>1655.8</td>\n    </tr>\n    <tr>\n      <th>33</th>\n      <td>34</td>\n      <td>Austria. Second</td>\n      <td>1634.0</td>\n    </tr>\n    <tr>\n      <th>34</th>\n      <td>35</td>\n      <td>Russia. Second</td>\n      <td>1630.5</td>\n    </tr>\n    <tr>\n      <th>35</th>\n      <td>36</td>\n      <td>Bulgaria. First</td>\n      <td>1623.8</td>\n    </tr>\n    <tr>\n      <th>36</th>\n      <td>37</td>\n      <td>Slovenia. First</td>\n      <td>1616.6</td>\n    </tr>\n    <tr>\n      <th>37</th>\n      <td>38</td>\n      <td>Bosnia And Herzegovina. First</td>\n      <td>1610.5</td>\n    </tr>\n    <tr>\n      <th>38</th>\n      <td>39</td>\n      <td>Turkey. Second</td>\n      <td>1605.5</td>\n    </tr>\n    <tr>\n      <th>39</th>\n      <td>40</td>\n      <td>Poland. Second</td>\n      <td>1580.0</td>\n    </tr>\n    <tr>\n      <th>40</th>\n      <td>41</td>\n      <td>Azerbaijan. First</td>\n      <td>1574.2</td>\n    </tr>\n    <tr>\n      <th>41</th>\n      <td>42</td>\n      <td>Slovakia. First</td>\n      <td>1571.9</td>\n    </tr>\n    <tr>\n      <th>42</th>\n      <td>43</td>\n      <td>Sweden. Second</td>\n      <td>1569.7</td>\n    </tr>\n    <tr>\n      <th>43</th>\n      <td>44</td>\n      <td>Georgia. First</td>\n      <td>1563.1</td>\n    </tr>\n    <tr>\n      <th>44</th>\n      <td>45</td>\n      <td>Finland. First</td>\n      <td>1561.1</td>\n    </tr>\n    <tr>\n      <th>45</th>\n      <td>46</td>\n      <td>Greece. Second</td>\n      <td>1560.1</td>\n    </tr>\n    <tr>\n      <th>46</th>\n      <td>47</td>\n      <td>Norway. Second</td>\n      <td>1559.2</td>\n    </tr>\n    <tr>\n      <th>47</th>\n      <td>48</td>\n      <td>Netherlands. Second</td>\n      <td>1549.6</td>\n    </tr>\n    <tr>\n      <th>48</th>\n      <td>49</td>\n      <td>Iceland. First</td>\n      <td>1546.6</td>\n    </tr>\n    <tr>\n      <th>49</th>\n      <td>50</td>\n      <td>Armenia. First</td>\n      <td>1544.7</td>\n    </tr>\n    <tr>\n      <th>50</th>\n      <td>51</td>\n      <td>Romania. Second</td>\n      <td>1537.9</td>\n    </tr>\n    <tr>\n      <th>51</th>\n      <td>52</td>\n      <td>Kazakhstan. First</td>\n      <td>1537.7</td>\n    </tr>\n    <tr>\n      <th>52</th>\n      <td>53</td>\n      <td>Ireland. First</td>\n      <td>1531.3</td>\n    </tr>\n    <tr>\n      <th>53</th>\n      <td>54</td>\n      <td>Denmark. Second</td>\n      <td>1527.6</td>\n    </tr>\n    <tr>\n      <th>54</th>\n      <td>55</td>\n      <td>Belgium. Second</td>\n      <td>1522.9</td>\n    </tr>\n    <tr>\n      <th>55</th>\n      <td>56</td>\n      <td>Albania. First</td>\n      <td>1517.0</td>\n    </tr>\n    <tr>\n      <th>56</th>\n      <td>57</td>\n      <td>Belarus. First</td>\n      <td>1515.9</td>\n    </tr>\n    <tr>\n      <th>57</th>\n      <td>58</td>\n      <td>Northern Ireland. First</td>\n      <td>1512.8</td>\n    </tr>\n    <tr>\n      <th>58</th>\n      <td>59</td>\n      <td>Luxembourg. First</td>\n      <td>1486.3</td>\n    </tr>\n    <tr>\n      <th>59</th>\n      <td>60</td>\n      <td>Malta. First</td>\n      <td>1484.9</td>\n    </tr>\n    <tr>\n      <th>60</th>\n      <td>61</td>\n      <td>Israel. Second</td>\n      <td>1477.7</td>\n    </tr>\n    <tr>\n      <th>61</th>\n      <td>62</td>\n      <td>Scotland. Second</td>\n      <td>1473.8</td>\n    </tr>\n    <tr>\n      <th>62</th>\n      <td>63</td>\n      <td>Ukraine. Second</td>\n      <td>1462.2</td>\n    </tr>\n    <tr>\n      <th>63</th>\n      <td>64</td>\n      <td>Kosovo. First</td>\n      <td>1460.7</td>\n    </tr>\n    <tr>\n      <th>64</th>\n      <td>65</td>\n      <td>Estonia. First</td>\n      <td>1452.9</td>\n    </tr>\n    <tr>\n      <th>65</th>\n      <td>66</td>\n      <td>Montenegro. First</td>\n      <td>1451.6</td>\n    </tr>\n    <tr>\n      <th>66</th>\n      <td>67</td>\n      <td>Latvia. First</td>\n      <td>1443.7</td>\n    </tr>\n    <tr>\n      <th>67</th>\n      <td>68</td>\n      <td>Hungary. Second</td>\n      <td>1439.1</td>\n    </tr>\n    <tr>\n      <th>68</th>\n      <td>69</td>\n      <td>Lithuania. First</td>\n      <td>1435.8</td>\n    </tr>\n    <tr>\n      <th>69</th>\n      <td>70</td>\n      <td>Moldova. First</td>\n      <td>1431.4</td>\n    </tr>\n    <tr>\n      <th>70</th>\n      <td>71</td>\n      <td>North Macedonia. First</td>\n      <td>1421.7</td>\n    </tr>\n    <tr>\n      <th>71</th>\n      <td>72</td>\n      <td>Slovenia. Second</td>\n      <td>1409.2</td>\n    </tr>\n    <tr>\n      <th>72</th>\n      <td>73</td>\n      <td>Cyprus. Second</td>\n      <td>1393.2</td>\n    </tr>\n    <tr>\n      <th>73</th>\n      <td>74</td>\n      <td>Croatia. Second</td>\n      <td>1392.0</td>\n    </tr>\n    <tr>\n      <th>74</th>\n      <td>75</td>\n      <td>Czech Republic. Second</td>\n      <td>1380.6</td>\n    </tr>\n    <tr>\n      <th>75</th>\n      <td>76</td>\n      <td>Faroe Islands. First</td>\n      <td>1370.3</td>\n    </tr>\n    <tr>\n      <th>76</th>\n      <td>77</td>\n      <td>Bosnia And Herzegovina. Second</td>\n      <td>1355.6</td>\n    </tr>\n    <tr>\n      <th>77</th>\n      <td>78</td>\n      <td>Wales. First</td>\n      <td>1347.7</td>\n    </tr>\n    <tr>\n      <th>78</th>\n      <td>79</td>\n      <td>Serbia. Second</td>\n      <td>1343.2</td>\n    </tr>\n    <tr>\n      <th>79</th>\n      <td>80</td>\n      <td>Andorra. First</td>\n      <td>1341.1</td>\n    </tr>\n    <tr>\n      <th>80</th>\n      <td>81</td>\n      <td>Kazakhstan. Second</td>\n      <td>1322.3</td>\n    </tr>\n    <tr>\n      <th>81</th>\n      <td>82</td>\n      <td>Georgia. Second</td>\n      <td>1306.2</td>\n    </tr>\n    <tr>\n      <th>82</th>\n      <td>83</td>\n      <td>Bulgaria. Second</td>\n      <td>1301.4</td>\n    </tr>\n    <tr>\n      <th>83</th>\n      <td>84</td>\n      <td>Slovakia. Second</td>\n      <td>1299.8</td>\n    </tr>\n    <tr>\n      <th>84</th>\n      <td>85</td>\n      <td>Albania. Second</td>\n      <td>1283.6</td>\n    </tr>\n    <tr>\n      <th>85</th>\n      <td>86</td>\n      <td>San Marino. First</td>\n      <td>1276.8</td>\n    </tr>\n    <tr>\n      <th>86</th>\n      <td>87</td>\n      <td>Iceland. Second</td>\n      <td>1268.5</td>\n    </tr>\n    <tr>\n      <th>87</th>\n      <td>88</td>\n      <td>Malta. Second</td>\n      <td>1246.0</td>\n    </tr>\n    <tr>\n      <th>88</th>\n      <td>89</td>\n      <td>Gibraltar. First</td>\n      <td>1245.2</td>\n    </tr>\n    <tr>\n      <th>89</th>\n      <td>90</td>\n      <td>Ireland. Second</td>\n      <td>1241.8</td>\n    </tr>\n    <tr>\n      <th>90</th>\n      <td>91</td>\n      <td>Armenia. Second</td>\n      <td>1222.4</td>\n    </tr>\n    <tr>\n      <th>91</th>\n      <td>92</td>\n      <td>Finland. Second</td>\n      <td>1213.7</td>\n    </tr>\n    <tr>\n      <th>92</th>\n      <td>93</td>\n      <td>Lithuania. Second</td>\n      <td>1121.1</td>\n    </tr>\n    <tr>\n      <th>93</th>\n      <td>94</td>\n      <td>Belarus. Second</td>\n      <td>1114.7</td>\n    </tr>\n    <tr>\n      <th>94</th>\n      <td>95</td>\n      <td>North Macedonia. Second</td>\n      <td>1089.5</td>\n    </tr>\n    <tr>\n      <th>95</th>\n      <td>96</td>\n      <td>Estonia. Second</td>\n      <td>1086.6</td>\n    </tr>\n    <tr>\n      <th>96</th>\n      <td>97</td>\n      <td>Latvia. Second</td>\n      <td>1066.4</td>\n    </tr>\n    <tr>\n      <th>97</th>\n      <td>98</td>\n      <td>Northern Ireland. Second</td>\n      <td>1044.7</td>\n    </tr>\n  </tbody>\n</table>\n</div>"
     },
     "execution_count": 29,
     "metadata": {},
     "output_type": "execute_result"
    }
   ],
   "source": [
    "glicko = GlickoSoccer()\n",
    "league_params = joblib.load('data/league_params.pkl')\n",
    "ratings = glicko.rate_teams(matches, league_params)\n",
    "ratings = glicko.ratings_to_df(ratings, matches)\n",
    "leagues_ratings = glicko.league_ratings(ratings, number_top_teams=10)\n",
    "leagues_ratings"
   ]
  },
  {
   "cell_type": "code",
   "execution_count": 32,
   "outputs": [
    {
     "data": {
      "text/plain": "     #                 league  rating   #                         league  \\\n0    1         England. First  2182.6  26               Portugal. Second   \n1    2           Spain. First  2125.8  27                  Italy. Second   \n2    3         Germany. First  2111.3  28                 France. Second   \n3    4           Italy. First  2098.4  29                  Israel. First   \n4    5          France. First  2035.6  30                 Hungary. First   \n5    6        Portugal. First  1985.5  31                 Romania. First   \n6    7     Netherlands. First  1936.3  32            Switzerland. Second   \n7    8         Belgium. First  1895.2  33                  Serbia. First   \n8    9          Spain. Second  1881.4  34                Austria. Second   \n9   10        Germany. Second  1864.6  35                 Russia. Second   \n10  11         Austria. First  1861.5  36                Bulgaria. First   \n11  12     Switzerland. First  1845.2  37                Slovenia. First   \n12  13          Russia. First  1827.7  38  Bosnia And Herzegovina. First   \n13  14          Turkey. First  1822.8  39                 Turkey. Second   \n14  15          Norway. First  1810.6  40                 Poland. Second   \n15  16          Poland. First  1807.5  41              Azerbaijan. First   \n16  17        England. Second  1796.4  42                Slovakia. First   \n17  18         Denmark. First  1794.3  43                 Sweden. Second   \n18  19          Sweden. First  1782.7  44                 Georgia. First   \n19  20        Scotland. First  1778.8  45                 Finland. First   \n20  21          Cyprus. First  1771.3  46                 Greece. Second   \n21  22  Czech Republic. First  1766.0  47                 Norway. Second   \n22  23         Ukraine. First  1765.0  48            Netherlands. Second   \n23  24          Greece. First  1755.3  49                 Iceland. First   \n24  25         Croatia. First  1739.3  50                 Armenia. First   \n\n    rating  \n0   1737.1  \n1   1736.8  \n2   1728.6  \n3   1728.6  \n4   1696.7  \n5   1694.1  \n6   1666.6  \n7   1655.8  \n8   1634.0  \n9   1630.5  \n10  1623.8  \n11  1616.6  \n12  1610.5  \n13  1605.5  \n14  1580.0  \n15  1574.2  \n16  1571.9  \n17  1569.7  \n18  1563.1  \n19  1561.1  \n20  1560.1  \n21  1559.2  \n22  1549.6  \n23  1546.6  \n24  1544.7  ",
      "text/html": "<div>\n<style scoped>\n    .dataframe tbody tr th:only-of-type {\n        vertical-align: middle;\n    }\n\n    .dataframe tbody tr th {\n        vertical-align: top;\n    }\n\n    .dataframe thead th {\n        text-align: right;\n    }\n</style>\n<table border=\"1\" class=\"dataframe\">\n  <thead>\n    <tr style=\"text-align: right;\">\n      <th></th>\n      <th>#</th>\n      <th>league</th>\n      <th>rating</th>\n      <th>#</th>\n      <th>league</th>\n      <th>rating</th>\n    </tr>\n  </thead>\n  <tbody>\n    <tr>\n      <th>0</th>\n      <td>1</td>\n      <td>England. First</td>\n      <td>2182.6</td>\n      <td>26</td>\n      <td>Portugal. Second</td>\n      <td>1737.1</td>\n    </tr>\n    <tr>\n      <th>1</th>\n      <td>2</td>\n      <td>Spain. First</td>\n      <td>2125.8</td>\n      <td>27</td>\n      <td>Italy. Second</td>\n      <td>1736.8</td>\n    </tr>\n    <tr>\n      <th>2</th>\n      <td>3</td>\n      <td>Germany. First</td>\n      <td>2111.3</td>\n      <td>28</td>\n      <td>France. Second</td>\n      <td>1728.6</td>\n    </tr>\n    <tr>\n      <th>3</th>\n      <td>4</td>\n      <td>Italy. First</td>\n      <td>2098.4</td>\n      <td>29</td>\n      <td>Israel. First</td>\n      <td>1728.6</td>\n    </tr>\n    <tr>\n      <th>4</th>\n      <td>5</td>\n      <td>France. First</td>\n      <td>2035.6</td>\n      <td>30</td>\n      <td>Hungary. First</td>\n      <td>1696.7</td>\n    </tr>\n    <tr>\n      <th>5</th>\n      <td>6</td>\n      <td>Portugal. First</td>\n      <td>1985.5</td>\n      <td>31</td>\n      <td>Romania. First</td>\n      <td>1694.1</td>\n    </tr>\n    <tr>\n      <th>6</th>\n      <td>7</td>\n      <td>Netherlands. First</td>\n      <td>1936.3</td>\n      <td>32</td>\n      <td>Switzerland. Second</td>\n      <td>1666.6</td>\n    </tr>\n    <tr>\n      <th>7</th>\n      <td>8</td>\n      <td>Belgium. First</td>\n      <td>1895.2</td>\n      <td>33</td>\n      <td>Serbia. First</td>\n      <td>1655.8</td>\n    </tr>\n    <tr>\n      <th>8</th>\n      <td>9</td>\n      <td>Spain. Second</td>\n      <td>1881.4</td>\n      <td>34</td>\n      <td>Austria. Second</td>\n      <td>1634.0</td>\n    </tr>\n    <tr>\n      <th>9</th>\n      <td>10</td>\n      <td>Germany. Second</td>\n      <td>1864.6</td>\n      <td>35</td>\n      <td>Russia. Second</td>\n      <td>1630.5</td>\n    </tr>\n    <tr>\n      <th>10</th>\n      <td>11</td>\n      <td>Austria. First</td>\n      <td>1861.5</td>\n      <td>36</td>\n      <td>Bulgaria. First</td>\n      <td>1623.8</td>\n    </tr>\n    <tr>\n      <th>11</th>\n      <td>12</td>\n      <td>Switzerland. First</td>\n      <td>1845.2</td>\n      <td>37</td>\n      <td>Slovenia. First</td>\n      <td>1616.6</td>\n    </tr>\n    <tr>\n      <th>12</th>\n      <td>13</td>\n      <td>Russia. First</td>\n      <td>1827.7</td>\n      <td>38</td>\n      <td>Bosnia And Herzegovina. First</td>\n      <td>1610.5</td>\n    </tr>\n    <tr>\n      <th>13</th>\n      <td>14</td>\n      <td>Turkey. First</td>\n      <td>1822.8</td>\n      <td>39</td>\n      <td>Turkey. Second</td>\n      <td>1605.5</td>\n    </tr>\n    <tr>\n      <th>14</th>\n      <td>15</td>\n      <td>Norway. First</td>\n      <td>1810.6</td>\n      <td>40</td>\n      <td>Poland. Second</td>\n      <td>1580.0</td>\n    </tr>\n    <tr>\n      <th>15</th>\n      <td>16</td>\n      <td>Poland. First</td>\n      <td>1807.5</td>\n      <td>41</td>\n      <td>Azerbaijan. First</td>\n      <td>1574.2</td>\n    </tr>\n    <tr>\n      <th>16</th>\n      <td>17</td>\n      <td>England. Second</td>\n      <td>1796.4</td>\n      <td>42</td>\n      <td>Slovakia. First</td>\n      <td>1571.9</td>\n    </tr>\n    <tr>\n      <th>17</th>\n      <td>18</td>\n      <td>Denmark. First</td>\n      <td>1794.3</td>\n      <td>43</td>\n      <td>Sweden. Second</td>\n      <td>1569.7</td>\n    </tr>\n    <tr>\n      <th>18</th>\n      <td>19</td>\n      <td>Sweden. First</td>\n      <td>1782.7</td>\n      <td>44</td>\n      <td>Georgia. First</td>\n      <td>1563.1</td>\n    </tr>\n    <tr>\n      <th>19</th>\n      <td>20</td>\n      <td>Scotland. First</td>\n      <td>1778.8</td>\n      <td>45</td>\n      <td>Finland. First</td>\n      <td>1561.1</td>\n    </tr>\n    <tr>\n      <th>20</th>\n      <td>21</td>\n      <td>Cyprus. First</td>\n      <td>1771.3</td>\n      <td>46</td>\n      <td>Greece. Second</td>\n      <td>1560.1</td>\n    </tr>\n    <tr>\n      <th>21</th>\n      <td>22</td>\n      <td>Czech Republic. First</td>\n      <td>1766.0</td>\n      <td>47</td>\n      <td>Norway. Second</td>\n      <td>1559.2</td>\n    </tr>\n    <tr>\n      <th>22</th>\n      <td>23</td>\n      <td>Ukraine. First</td>\n      <td>1765.0</td>\n      <td>48</td>\n      <td>Netherlands. Second</td>\n      <td>1549.6</td>\n    </tr>\n    <tr>\n      <th>23</th>\n      <td>24</td>\n      <td>Greece. First</td>\n      <td>1755.3</td>\n      <td>49</td>\n      <td>Iceland. First</td>\n      <td>1546.6</td>\n    </tr>\n    <tr>\n      <th>24</th>\n      <td>25</td>\n      <td>Croatia. First</td>\n      <td>1739.3</td>\n      <td>50</td>\n      <td>Armenia. First</td>\n      <td>1544.7</td>\n    </tr>\n  </tbody>\n</table>\n</div>"
     },
     "execution_count": 32,
     "metadata": {},
     "output_type": "execute_result"
    }
   ],
   "source": [
    "pd.concat([leagues_ratings[0:25].reset_index(drop=True),\n",
    "           leagues_ratings[25:50].reset_index(drop=True)], axis=1)"
   ],
   "metadata": {
    "collapsed": false,
    "pycharm": {
     "name": "#%%\n"
    }
   }
  },
  {
   "cell_type": "code",
   "execution_count": 31,
   "outputs": [
    {
     "data": {
      "text/plain": "     #                   league  rating   #                          league  \\\n0   51          Romania. Second  1537.9  75          Czech Republic. Second   \n1   52        Kazakhstan. First  1537.7  76            Faroe Islands. First   \n2   53           Ireland. First  1531.3  77  Bosnia And Herzegovina. Second   \n3   54          Denmark. Second  1527.6  78                    Wales. First   \n4   55          Belgium. Second  1522.9  79                  Serbia. Second   \n5   56           Albania. First  1517.0  80                  Andorra. First   \n6   57           Belarus. First  1515.9  81              Kazakhstan. Second   \n7   58  Northern Ireland. First  1512.8  82                 Georgia. Second   \n8   59        Luxembourg. First  1486.3  83                Bulgaria. Second   \n9   60             Malta. First  1484.9  84                Slovakia. Second   \n10  61           Israel. Second  1477.7  85                 Albania. Second   \n11  62         Scotland. Second  1473.8  86               San Marino. First   \n12  63          Ukraine. Second  1462.2  87                 Iceland. Second   \n13  64            Kosovo. First  1460.7  88                   Malta. Second   \n14  65           Estonia. First  1452.9  89                Gibraltar. First   \n15  66        Montenegro. First  1451.6  90                 Ireland. Second   \n16  67            Latvia. First  1443.7  91                 Armenia. Second   \n17  68          Hungary. Second  1439.1  92                 Finland. Second   \n18  69         Lithuania. First  1435.8  93               Lithuania. Second   \n19  70           Moldova. First  1431.4  94                 Belarus. Second   \n20  71   North Macedonia. First  1421.7  95         North Macedonia. Second   \n21  72         Slovenia. Second  1409.2  96                 Estonia. Second   \n22  73           Cyprus. Second  1393.2  97                  Latvia. Second   \n23  74          Croatia. Second  1392.0  98        Northern Ireland. Second   \n\n    rating  \n0   1380.6  \n1   1370.3  \n2   1355.6  \n3   1347.7  \n4   1343.2  \n5   1341.1  \n6   1322.3  \n7   1306.2  \n8   1301.4  \n9   1299.8  \n10  1283.6  \n11  1276.8  \n12  1268.5  \n13  1246.0  \n14  1245.2  \n15  1241.8  \n16  1222.4  \n17  1213.7  \n18  1121.1  \n19  1114.7  \n20  1089.5  \n21  1086.6  \n22  1066.4  \n23  1044.7  ",
      "text/html": "<div>\n<style scoped>\n    .dataframe tbody tr th:only-of-type {\n        vertical-align: middle;\n    }\n\n    .dataframe tbody tr th {\n        vertical-align: top;\n    }\n\n    .dataframe thead th {\n        text-align: right;\n    }\n</style>\n<table border=\"1\" class=\"dataframe\">\n  <thead>\n    <tr style=\"text-align: right;\">\n      <th></th>\n      <th>#</th>\n      <th>league</th>\n      <th>rating</th>\n      <th>#</th>\n      <th>league</th>\n      <th>rating</th>\n    </tr>\n  </thead>\n  <tbody>\n    <tr>\n      <th>0</th>\n      <td>51</td>\n      <td>Romania. Second</td>\n      <td>1537.9</td>\n      <td>75</td>\n      <td>Czech Republic. Second</td>\n      <td>1380.6</td>\n    </tr>\n    <tr>\n      <th>1</th>\n      <td>52</td>\n      <td>Kazakhstan. First</td>\n      <td>1537.7</td>\n      <td>76</td>\n      <td>Faroe Islands. First</td>\n      <td>1370.3</td>\n    </tr>\n    <tr>\n      <th>2</th>\n      <td>53</td>\n      <td>Ireland. First</td>\n      <td>1531.3</td>\n      <td>77</td>\n      <td>Bosnia And Herzegovina. Second</td>\n      <td>1355.6</td>\n    </tr>\n    <tr>\n      <th>3</th>\n      <td>54</td>\n      <td>Denmark. Second</td>\n      <td>1527.6</td>\n      <td>78</td>\n      <td>Wales. First</td>\n      <td>1347.7</td>\n    </tr>\n    <tr>\n      <th>4</th>\n      <td>55</td>\n      <td>Belgium. Second</td>\n      <td>1522.9</td>\n      <td>79</td>\n      <td>Serbia. Second</td>\n      <td>1343.2</td>\n    </tr>\n    <tr>\n      <th>5</th>\n      <td>56</td>\n      <td>Albania. First</td>\n      <td>1517.0</td>\n      <td>80</td>\n      <td>Andorra. First</td>\n      <td>1341.1</td>\n    </tr>\n    <tr>\n      <th>6</th>\n      <td>57</td>\n      <td>Belarus. First</td>\n      <td>1515.9</td>\n      <td>81</td>\n      <td>Kazakhstan. Second</td>\n      <td>1322.3</td>\n    </tr>\n    <tr>\n      <th>7</th>\n      <td>58</td>\n      <td>Northern Ireland. First</td>\n      <td>1512.8</td>\n      <td>82</td>\n      <td>Georgia. Second</td>\n      <td>1306.2</td>\n    </tr>\n    <tr>\n      <th>8</th>\n      <td>59</td>\n      <td>Luxembourg. First</td>\n      <td>1486.3</td>\n      <td>83</td>\n      <td>Bulgaria. Second</td>\n      <td>1301.4</td>\n    </tr>\n    <tr>\n      <th>9</th>\n      <td>60</td>\n      <td>Malta. First</td>\n      <td>1484.9</td>\n      <td>84</td>\n      <td>Slovakia. Second</td>\n      <td>1299.8</td>\n    </tr>\n    <tr>\n      <th>10</th>\n      <td>61</td>\n      <td>Israel. Second</td>\n      <td>1477.7</td>\n      <td>85</td>\n      <td>Albania. Second</td>\n      <td>1283.6</td>\n    </tr>\n    <tr>\n      <th>11</th>\n      <td>62</td>\n      <td>Scotland. Second</td>\n      <td>1473.8</td>\n      <td>86</td>\n      <td>San Marino. First</td>\n      <td>1276.8</td>\n    </tr>\n    <tr>\n      <th>12</th>\n      <td>63</td>\n      <td>Ukraine. Second</td>\n      <td>1462.2</td>\n      <td>87</td>\n      <td>Iceland. Second</td>\n      <td>1268.5</td>\n    </tr>\n    <tr>\n      <th>13</th>\n      <td>64</td>\n      <td>Kosovo. First</td>\n      <td>1460.7</td>\n      <td>88</td>\n      <td>Malta. Second</td>\n      <td>1246.0</td>\n    </tr>\n    <tr>\n      <th>14</th>\n      <td>65</td>\n      <td>Estonia. First</td>\n      <td>1452.9</td>\n      <td>89</td>\n      <td>Gibraltar. First</td>\n      <td>1245.2</td>\n    </tr>\n    <tr>\n      <th>15</th>\n      <td>66</td>\n      <td>Montenegro. First</td>\n      <td>1451.6</td>\n      <td>90</td>\n      <td>Ireland. Second</td>\n      <td>1241.8</td>\n    </tr>\n    <tr>\n      <th>16</th>\n      <td>67</td>\n      <td>Latvia. First</td>\n      <td>1443.7</td>\n      <td>91</td>\n      <td>Armenia. Second</td>\n      <td>1222.4</td>\n    </tr>\n    <tr>\n      <th>17</th>\n      <td>68</td>\n      <td>Hungary. Second</td>\n      <td>1439.1</td>\n      <td>92</td>\n      <td>Finland. Second</td>\n      <td>1213.7</td>\n    </tr>\n    <tr>\n      <th>18</th>\n      <td>69</td>\n      <td>Lithuania. First</td>\n      <td>1435.8</td>\n      <td>93</td>\n      <td>Lithuania. Second</td>\n      <td>1121.1</td>\n    </tr>\n    <tr>\n      <th>19</th>\n      <td>70</td>\n      <td>Moldova. First</td>\n      <td>1431.4</td>\n      <td>94</td>\n      <td>Belarus. Second</td>\n      <td>1114.7</td>\n    </tr>\n    <tr>\n      <th>20</th>\n      <td>71</td>\n      <td>North Macedonia. First</td>\n      <td>1421.7</td>\n      <td>95</td>\n      <td>North Macedonia. Second</td>\n      <td>1089.5</td>\n    </tr>\n    <tr>\n      <th>21</th>\n      <td>72</td>\n      <td>Slovenia. Second</td>\n      <td>1409.2</td>\n      <td>96</td>\n      <td>Estonia. Second</td>\n      <td>1086.6</td>\n    </tr>\n    <tr>\n      <th>22</th>\n      <td>73</td>\n      <td>Cyprus. Second</td>\n      <td>1393.2</td>\n      <td>97</td>\n      <td>Latvia. Second</td>\n      <td>1066.4</td>\n    </tr>\n    <tr>\n      <th>23</th>\n      <td>74</td>\n      <td>Croatia. Second</td>\n      <td>1392.0</td>\n      <td>98</td>\n      <td>Northern Ireland. Second</td>\n      <td>1044.7</td>\n    </tr>\n  </tbody>\n</table>\n</div>"
     },
     "execution_count": 31,
     "metadata": {},
     "output_type": "execute_result"
    }
   ],
   "source": [
    "pd.concat([leagues_ratings[50:74].reset_index(drop=True),\n",
    "           leagues_ratings[74:].reset_index(drop=True)], axis=1)"
   ],
   "metadata": {
    "collapsed": false,
    "pycharm": {
     "name": "#%%\n"
    }
   }
  },
  {
   "cell_type": "code",
   "execution_count": null,
   "outputs": [],
   "source": [],
   "metadata": {
    "collapsed": false,
    "pycharm": {
     "name": "#%%\n"
    }
   }
  },
  {
   "cell_type": "code",
   "execution_count": null,
   "outputs": [],
   "source": [],
   "metadata": {
    "collapsed": false,
    "pycharm": {
     "name": "#%%\n"
    }
   }
  },
  {
   "cell_type": "code",
   "execution_count": null,
   "outputs": [],
   "source": [],
   "metadata": {
    "collapsed": false,
    "pycharm": {
     "name": "#%%\n"
    }
   }
  },
  {
   "cell_type": "code",
   "execution_count": 9,
   "outputs": [],
   "source": [
    "leagues_ratings.to_csv('20.csv', index=False)"
   ],
   "metadata": {
    "collapsed": false,
    "pycharm": {
     "name": "#%%\n"
    }
   }
  },
  {
   "cell_type": "code",
   "execution_count": 6,
   "id": "c6157e65",
   "metadata": {
    "pycharm": {
     "name": "#%%\n"
    }
   },
   "outputs": [
    {
     "data": {
      "text/plain": "     #               team  rating              league\n0    1          Ливерпуль  2226.6      England. First\n1    2     Манчестер Сити  2209.9      England. First\n2    3              Порту  2143.5     Portugal. First\n3    4        Реал Мадрид  2141.1        Spain. First\n4    5            Бавария  2127.8      Germany. First\n5    6              Интер  2124.4        Italy. First\n6    7               Аякс  2106.9  Netherlands. First\n7    8              Челси  2102.0      England. First\n8    9              Милан  2070.3        Italy. First\n9   10           Спортинг  2063.9     Portugal. First\n10  11                ПСЖ  2052.5       France. First\n11  12            Бенфика  2040.9     Portugal. First\n12  13      Црвена Звезда  2039.4       Serbia. First\n13  14            Ювентус  2038.7        Italy. First\n14  15           Атлетико  2030.7        Spain. First\n15  16          Барселона  2028.5        Spain. First\n16  17            Арсенал  2022.2      England. First\n17  18          Тоттенхэм  2011.9      England. First\n18  19                ПСВ  2010.1  Netherlands. First\n19  20             Наполи  2008.7        Italy. First\n20  21            Севилья  2006.7        Spain. First\n21  22          Зальцбург  1993.5      Austria. First\n22  23         РБ Лейпциг  1992.6      Germany. First\n23  24         Боруссия Д  1988.0      Germany. First\n24  25  Манчестер Юнайтед  1987.3      England. First\n25  26               Рома  1973.3        Italy. First\n26  27              Бетис  1970.7        Spain. First\n27  28         Вильярреал  1968.6        Spain. First\n28  29      Динамо Загреб  1956.7      Croatia. First\n29  30              Байер  1956.5      Germany. First\n30  31           Аталанта  1954.5        Italy. First\n31  32           Вест Хэм  1953.9      England. First\n32  33          Фейеноорд  1953.6  Netherlands. First\n33  34          Рейнджерс  1952.1     Scotland. First\n34  35              Брага  1949.5     Portugal. First\n35  36      Реал Сосьедад  1947.0        Spain. First\n36  37           Партизан  1944.8       Serbia. First\n37  38              Лацио  1943.7        Italy. First\n38  39             Лестер  1941.3      England. First\n39  40             Монако  1938.3       France. First\n40  41               Лион  1934.1       France. First\n41  42             Селтик  1930.8     Scotland. First\n42  43         Айнтрахт Ф  1930.4      Germany. First\n43  44            Марсель  1927.9       France. First\n44  45              Флора  1920.8      Estonia. First\n45  46            Атлетик  1913.8        Spain. First\n46  47           Фрайбург  1912.4      Germany. First\n47  48            Брайтон  1911.2      England. First\n48  49      Шахтер Донецк  1910.0      Ukraine. First\n49  50         Копенгаген  1906.4      Denmark. First",
      "text/html": "<div>\n<style scoped>\n    .dataframe tbody tr th:only-of-type {\n        vertical-align: middle;\n    }\n\n    .dataframe tbody tr th {\n        vertical-align: top;\n    }\n\n    .dataframe thead th {\n        text-align: right;\n    }\n</style>\n<table border=\"1\" class=\"dataframe\">\n  <thead>\n    <tr style=\"text-align: right;\">\n      <th></th>\n      <th>#</th>\n      <th>team</th>\n      <th>rating</th>\n      <th>league</th>\n    </tr>\n  </thead>\n  <tbody>\n    <tr>\n      <th>0</th>\n      <td>1</td>\n      <td>Ливерпуль</td>\n      <td>2226.6</td>\n      <td>England. First</td>\n    </tr>\n    <tr>\n      <th>1</th>\n      <td>2</td>\n      <td>Манчестер Сити</td>\n      <td>2209.9</td>\n      <td>England. First</td>\n    </tr>\n    <tr>\n      <th>2</th>\n      <td>3</td>\n      <td>Порту</td>\n      <td>2143.5</td>\n      <td>Portugal. First</td>\n    </tr>\n    <tr>\n      <th>3</th>\n      <td>4</td>\n      <td>Реал Мадрид</td>\n      <td>2141.1</td>\n      <td>Spain. First</td>\n    </tr>\n    <tr>\n      <th>4</th>\n      <td>5</td>\n      <td>Бавария</td>\n      <td>2127.8</td>\n      <td>Germany. First</td>\n    </tr>\n    <tr>\n      <th>5</th>\n      <td>6</td>\n      <td>Интер</td>\n      <td>2124.4</td>\n      <td>Italy. First</td>\n    </tr>\n    <tr>\n      <th>6</th>\n      <td>7</td>\n      <td>Аякс</td>\n      <td>2106.9</td>\n      <td>Netherlands. First</td>\n    </tr>\n    <tr>\n      <th>7</th>\n      <td>8</td>\n      <td>Челси</td>\n      <td>2102.0</td>\n      <td>England. First</td>\n    </tr>\n    <tr>\n      <th>8</th>\n      <td>9</td>\n      <td>Милан</td>\n      <td>2070.3</td>\n      <td>Italy. First</td>\n    </tr>\n    <tr>\n      <th>9</th>\n      <td>10</td>\n      <td>Спортинг</td>\n      <td>2063.9</td>\n      <td>Portugal. First</td>\n    </tr>\n    <tr>\n      <th>10</th>\n      <td>11</td>\n      <td>ПСЖ</td>\n      <td>2052.5</td>\n      <td>France. First</td>\n    </tr>\n    <tr>\n      <th>11</th>\n      <td>12</td>\n      <td>Бенфика</td>\n      <td>2040.9</td>\n      <td>Portugal. First</td>\n    </tr>\n    <tr>\n      <th>12</th>\n      <td>13</td>\n      <td>Црвена Звезда</td>\n      <td>2039.4</td>\n      <td>Serbia. First</td>\n    </tr>\n    <tr>\n      <th>13</th>\n      <td>14</td>\n      <td>Ювентус</td>\n      <td>2038.7</td>\n      <td>Italy. First</td>\n    </tr>\n    <tr>\n      <th>14</th>\n      <td>15</td>\n      <td>Атлетико</td>\n      <td>2030.7</td>\n      <td>Spain. First</td>\n    </tr>\n    <tr>\n      <th>15</th>\n      <td>16</td>\n      <td>Барселона</td>\n      <td>2028.5</td>\n      <td>Spain. First</td>\n    </tr>\n    <tr>\n      <th>16</th>\n      <td>17</td>\n      <td>Арсенал</td>\n      <td>2022.2</td>\n      <td>England. First</td>\n    </tr>\n    <tr>\n      <th>17</th>\n      <td>18</td>\n      <td>Тоттенхэм</td>\n      <td>2011.9</td>\n      <td>England. First</td>\n    </tr>\n    <tr>\n      <th>18</th>\n      <td>19</td>\n      <td>ПСВ</td>\n      <td>2010.1</td>\n      <td>Netherlands. First</td>\n    </tr>\n    <tr>\n      <th>19</th>\n      <td>20</td>\n      <td>Наполи</td>\n      <td>2008.7</td>\n      <td>Italy. First</td>\n    </tr>\n    <tr>\n      <th>20</th>\n      <td>21</td>\n      <td>Севилья</td>\n      <td>2006.7</td>\n      <td>Spain. First</td>\n    </tr>\n    <tr>\n      <th>21</th>\n      <td>22</td>\n      <td>Зальцбург</td>\n      <td>1993.5</td>\n      <td>Austria. First</td>\n    </tr>\n    <tr>\n      <th>22</th>\n      <td>23</td>\n      <td>РБ Лейпциг</td>\n      <td>1992.6</td>\n      <td>Germany. First</td>\n    </tr>\n    <tr>\n      <th>23</th>\n      <td>24</td>\n      <td>Боруссия Д</td>\n      <td>1988.0</td>\n      <td>Germany. First</td>\n    </tr>\n    <tr>\n      <th>24</th>\n      <td>25</td>\n      <td>Манчестер Юнайтед</td>\n      <td>1987.3</td>\n      <td>England. First</td>\n    </tr>\n    <tr>\n      <th>25</th>\n      <td>26</td>\n      <td>Рома</td>\n      <td>1973.3</td>\n      <td>Italy. First</td>\n    </tr>\n    <tr>\n      <th>26</th>\n      <td>27</td>\n      <td>Бетис</td>\n      <td>1970.7</td>\n      <td>Spain. First</td>\n    </tr>\n    <tr>\n      <th>27</th>\n      <td>28</td>\n      <td>Вильярреал</td>\n      <td>1968.6</td>\n      <td>Spain. First</td>\n    </tr>\n    <tr>\n      <th>28</th>\n      <td>29</td>\n      <td>Динамо Загреб</td>\n      <td>1956.7</td>\n      <td>Croatia. First</td>\n    </tr>\n    <tr>\n      <th>29</th>\n      <td>30</td>\n      <td>Байер</td>\n      <td>1956.5</td>\n      <td>Germany. First</td>\n    </tr>\n    <tr>\n      <th>30</th>\n      <td>31</td>\n      <td>Аталанта</td>\n      <td>1954.5</td>\n      <td>Italy. First</td>\n    </tr>\n    <tr>\n      <th>31</th>\n      <td>32</td>\n      <td>Вест Хэм</td>\n      <td>1953.9</td>\n      <td>England. First</td>\n    </tr>\n    <tr>\n      <th>32</th>\n      <td>33</td>\n      <td>Фейеноорд</td>\n      <td>1953.6</td>\n      <td>Netherlands. First</td>\n    </tr>\n    <tr>\n      <th>33</th>\n      <td>34</td>\n      <td>Рейнджерс</td>\n      <td>1952.1</td>\n      <td>Scotland. First</td>\n    </tr>\n    <tr>\n      <th>34</th>\n      <td>35</td>\n      <td>Брага</td>\n      <td>1949.5</td>\n      <td>Portugal. First</td>\n    </tr>\n    <tr>\n      <th>35</th>\n      <td>36</td>\n      <td>Реал Сосьедад</td>\n      <td>1947.0</td>\n      <td>Spain. First</td>\n    </tr>\n    <tr>\n      <th>36</th>\n      <td>37</td>\n      <td>Партизан</td>\n      <td>1944.8</td>\n      <td>Serbia. First</td>\n    </tr>\n    <tr>\n      <th>37</th>\n      <td>38</td>\n      <td>Лацио</td>\n      <td>1943.7</td>\n      <td>Italy. First</td>\n    </tr>\n    <tr>\n      <th>38</th>\n      <td>39</td>\n      <td>Лестер</td>\n      <td>1941.3</td>\n      <td>England. First</td>\n    </tr>\n    <tr>\n      <th>39</th>\n      <td>40</td>\n      <td>Монако</td>\n      <td>1938.3</td>\n      <td>France. First</td>\n    </tr>\n    <tr>\n      <th>40</th>\n      <td>41</td>\n      <td>Лион</td>\n      <td>1934.1</td>\n      <td>France. First</td>\n    </tr>\n    <tr>\n      <th>41</th>\n      <td>42</td>\n      <td>Селтик</td>\n      <td>1930.8</td>\n      <td>Scotland. First</td>\n    </tr>\n    <tr>\n      <th>42</th>\n      <td>43</td>\n      <td>Айнтрахт Ф</td>\n      <td>1930.4</td>\n      <td>Germany. First</td>\n    </tr>\n    <tr>\n      <th>43</th>\n      <td>44</td>\n      <td>Марсель</td>\n      <td>1927.9</td>\n      <td>France. First</td>\n    </tr>\n    <tr>\n      <th>44</th>\n      <td>45</td>\n      <td>Флора</td>\n      <td>1920.8</td>\n      <td>Estonia. First</td>\n    </tr>\n    <tr>\n      <th>45</th>\n      <td>46</td>\n      <td>Атлетик</td>\n      <td>1913.8</td>\n      <td>Spain. First</td>\n    </tr>\n    <tr>\n      <th>46</th>\n      <td>47</td>\n      <td>Фрайбург</td>\n      <td>1912.4</td>\n      <td>Germany. First</td>\n    </tr>\n    <tr>\n      <th>47</th>\n      <td>48</td>\n      <td>Брайтон</td>\n      <td>1911.2</td>\n      <td>England. First</td>\n    </tr>\n    <tr>\n      <th>48</th>\n      <td>49</td>\n      <td>Шахтер Донецк</td>\n      <td>1910.0</td>\n      <td>Ukraine. First</td>\n    </tr>\n    <tr>\n      <th>49</th>\n      <td>50</td>\n      <td>Копенгаген</td>\n      <td>1906.4</td>\n      <td>Denmark. First</td>\n    </tr>\n  </tbody>\n</table>\n</div>"
     },
     "execution_count": 6,
     "metadata": {},
     "output_type": "execute_result"
    }
   ],
   "source": [
    "ratings.head(50)"
   ]
  },
  {
   "cell_type": "code",
   "execution_count": null,
   "outputs": [],
   "source": [],
   "metadata": {
    "collapsed": false,
    "pycharm": {
     "name": "#%%\n"
    }
   }
  },
  {
   "cell_type": "code",
   "execution_count": null,
   "outputs": [],
   "source": [],
   "metadata": {
    "collapsed": false,
    "pycharm": {
     "name": "#%%\n"
    }
   }
  },
  {
   "cell_type": "code",
   "execution_count": null,
   "outputs": [],
   "source": [],
   "metadata": {
    "collapsed": false,
    "pycharm": {
     "name": "#%%\n"
    }
   }
  },
  {
   "cell_type": "code",
   "execution_count": null,
   "outputs": [],
   "source": [],
   "metadata": {
    "collapsed": false,
    "pycharm": {
     "name": "#%%\n"
    }
   }
  },
  {
   "cell_type": "code",
   "execution_count": null,
   "outputs": [],
   "source": [],
   "metadata": {
    "collapsed": false,
    "pycharm": {
     "name": "#%%\n"
    }
   }
  },
  {
   "cell_type": "code",
   "execution_count": null,
   "outputs": [],
   "source": [],
   "metadata": {
    "collapsed": false,
    "pycharm": {
     "name": "#%%\n"
    }
   }
  },
  {
   "cell_type": "code",
   "execution_count": null,
   "outputs": [],
   "source": [],
   "metadata": {
    "collapsed": false,
    "pycharm": {
     "name": "#%%\n"
    }
   }
  },
  {
   "cell_type": "code",
   "execution_count": null,
   "outputs": [],
   "source": [],
   "metadata": {
    "collapsed": false,
    "pycharm": {
     "name": "#%%\n"
    }
   }
  },
  {
   "cell_type": "code",
   "execution_count": null,
   "outputs": [],
   "source": [],
   "metadata": {
    "collapsed": false,
    "pycharm": {
     "name": "#%%\n"
    }
   }
  },
  {
   "cell_type": "markdown",
   "id": "7ebcdb5e",
   "metadata": {
    "pycharm": {
     "name": "#%% md\n"
    }
   },
   "source": [
    "# Skellam"
   ]
  },
  {
   "cell_type": "code",
   "execution_count": 9,
   "id": "fdac8ee0",
   "metadata": {
    "ExecuteTime": {
     "end_time": "2021-10-16T16:01:42.563459Z",
     "start_time": "2021-10-16T16:01:42.504174Z"
    },
    "pycharm": {
     "name": "#%%\n"
    }
   },
   "outputs": [
    {
     "ename": "OSError",
     "evalue": "dlopen(/Users/andreyshelopugin/opt/anaconda3/lib/python3.8/site-packages/lightgbm/lib_lightgbm.so, 6): Library not loaded: /usr/local/opt/libomp/lib/libomp.dylib\n  Referenced from: /Users/andreyshelopugin/opt/anaconda3/lib/python3.8/site-packages/lightgbm/lib_lightgbm.so\n  Reason: image not found",
     "output_type": "error",
     "traceback": [
      "\u001B[0;31m---------------------------------------------------------------------------\u001B[0m",
      "\u001B[0;31mOSError\u001B[0m                                   Traceback (most recent call last)",
      "\u001B[0;32m/var/folders/pn/rskcs8bx49l1trxp7mnwcdyr0000gn/T/ipykernel_17825/4045259088.py\u001B[0m in \u001B[0;36m<module>\u001B[0;34m\u001B[0m\n\u001B[0;32m----> 1\u001B[0;31m \u001B[0;32mfrom\u001B[0m \u001B[0meuro_soccer\u001B[0m\u001B[0;34m.\u001B[0m\u001B[0mdraw_model\u001B[0m \u001B[0;32mimport\u001B[0m \u001B[0mDrawLightGBM\u001B[0m\u001B[0;34m\u001B[0m\u001B[0;34m\u001B[0m\u001B[0m\n\u001B[0m\u001B[1;32m      2\u001B[0m \u001B[0;34m\u001B[0m\u001B[0m\n\u001B[1;32m      3\u001B[0m \u001B[0mDrawLightGBM\u001B[0m\u001B[0;34m(\u001B[0m\u001B[0;34m)\u001B[0m\u001B[0;34m.\u001B[0m\u001B[0mcross_val_score\u001B[0m\u001B[0;34m(\u001B[0m\u001B[0;34m)\u001B[0m\u001B[0;34m\u001B[0m\u001B[0;34m\u001B[0m\u001B[0m\n",
      "\u001B[0;32m~/PycharmProjects/GlickoSoccer/euro_soccer/draw_model.py\u001B[0m in \u001B[0;36m<module>\u001B[0;34m\u001B[0m\n\u001B[1;32m      4\u001B[0m \u001B[0;32mimport\u001B[0m \u001B[0mpandas\u001B[0m \u001B[0;32mas\u001B[0m \u001B[0mpd\u001B[0m\u001B[0;34m\u001B[0m\u001B[0;34m\u001B[0m\u001B[0m\n\u001B[1;32m      5\u001B[0m \u001B[0;31m# import shap\u001B[0m\u001B[0;34m\u001B[0m\u001B[0;34m\u001B[0m\u001B[0;34m\u001B[0m\u001B[0m\n\u001B[0;32m----> 6\u001B[0;31m \u001B[0;32mfrom\u001B[0m \u001B[0mlightgbm\u001B[0m \u001B[0;32mimport\u001B[0m \u001B[0mLGBMRegressor\u001B[0m\u001B[0;34m\u001B[0m\u001B[0;34m\u001B[0m\u001B[0m\n\u001B[0m\u001B[1;32m      7\u001B[0m \u001B[0;32mimport\u001B[0m \u001B[0mlightgbm\u001B[0m \u001B[0;32mas\u001B[0m \u001B[0mlgb\u001B[0m\u001B[0;34m\u001B[0m\u001B[0;34m\u001B[0m\u001B[0m\n\u001B[1;32m      8\u001B[0m \u001B[0;32mfrom\u001B[0m \u001B[0mscipy\u001B[0m\u001B[0;34m.\u001B[0m\u001B[0mstats\u001B[0m \u001B[0;32mimport\u001B[0m \u001B[0mskellam\u001B[0m\u001B[0;34m\u001B[0m\u001B[0;34m\u001B[0m\u001B[0m\n",
      "\u001B[0;32m~/opt/anaconda3/lib/python3.8/site-packages/lightgbm/__init__.py\u001B[0m in \u001B[0;36m<module>\u001B[0;34m\u001B[0m\n\u001B[1;32m      6\u001B[0m \u001B[0;32mfrom\u001B[0m \u001B[0mpathlib\u001B[0m \u001B[0;32mimport\u001B[0m \u001B[0mPath\u001B[0m\u001B[0;34m\u001B[0m\u001B[0;34m\u001B[0m\u001B[0m\n\u001B[1;32m      7\u001B[0m \u001B[0;34m\u001B[0m\u001B[0m\n\u001B[0;32m----> 8\u001B[0;31m \u001B[0;32mfrom\u001B[0m \u001B[0;34m.\u001B[0m\u001B[0mbasic\u001B[0m \u001B[0;32mimport\u001B[0m \u001B[0mBooster\u001B[0m\u001B[0;34m,\u001B[0m \u001B[0mDataset\u001B[0m\u001B[0;34m,\u001B[0m \u001B[0mSequence\u001B[0m\u001B[0;34m,\u001B[0m \u001B[0mregister_logger\u001B[0m\u001B[0;34m\u001B[0m\u001B[0;34m\u001B[0m\u001B[0m\n\u001B[0m\u001B[1;32m      9\u001B[0m \u001B[0;32mfrom\u001B[0m \u001B[0;34m.\u001B[0m\u001B[0mcallback\u001B[0m \u001B[0;32mimport\u001B[0m \u001B[0mearly_stopping\u001B[0m\u001B[0;34m,\u001B[0m \u001B[0mlog_evaluation\u001B[0m\u001B[0;34m,\u001B[0m \u001B[0mprint_evaluation\u001B[0m\u001B[0;34m,\u001B[0m \u001B[0mrecord_evaluation\u001B[0m\u001B[0;34m,\u001B[0m \u001B[0mreset_parameter\u001B[0m\u001B[0;34m\u001B[0m\u001B[0;34m\u001B[0m\u001B[0m\n\u001B[1;32m     10\u001B[0m \u001B[0;32mfrom\u001B[0m \u001B[0;34m.\u001B[0m\u001B[0mengine\u001B[0m \u001B[0;32mimport\u001B[0m \u001B[0mCVBooster\u001B[0m\u001B[0;34m,\u001B[0m \u001B[0mcv\u001B[0m\u001B[0;34m,\u001B[0m \u001B[0mtrain\u001B[0m\u001B[0;34m\u001B[0m\u001B[0;34m\u001B[0m\u001B[0m\n",
      "\u001B[0;32m~/opt/anaconda3/lib/python3.8/site-packages/lightgbm/basic.py\u001B[0m in \u001B[0;36m<module>\u001B[0;34m\u001B[0m\n\u001B[1;32m    108\u001B[0m \u001B[0;34m\u001B[0m\u001B[0m\n\u001B[1;32m    109\u001B[0m \u001B[0;34m\u001B[0m\u001B[0m\n\u001B[0;32m--> 110\u001B[0;31m \u001B[0m_LIB\u001B[0m \u001B[0;34m=\u001B[0m \u001B[0m_load_lib\u001B[0m\u001B[0;34m(\u001B[0m\u001B[0;34m)\u001B[0m\u001B[0;34m\u001B[0m\u001B[0;34m\u001B[0m\u001B[0m\n\u001B[0m\u001B[1;32m    111\u001B[0m \u001B[0;34m\u001B[0m\u001B[0m\n\u001B[1;32m    112\u001B[0m \u001B[0;34m\u001B[0m\u001B[0m\n",
      "\u001B[0;32m~/opt/anaconda3/lib/python3.8/site-packages/lightgbm/basic.py\u001B[0m in \u001B[0;36m_load_lib\u001B[0;34m()\u001B[0m\n\u001B[1;32m     99\u001B[0m     \u001B[0;32mif\u001B[0m \u001B[0mlen\u001B[0m\u001B[0;34m(\u001B[0m\u001B[0mlib_path\u001B[0m\u001B[0;34m)\u001B[0m \u001B[0;34m==\u001B[0m \u001B[0;36m0\u001B[0m\u001B[0;34m:\u001B[0m\u001B[0;34m\u001B[0m\u001B[0;34m\u001B[0m\u001B[0m\n\u001B[1;32m    100\u001B[0m         \u001B[0;32mreturn\u001B[0m \u001B[0;32mNone\u001B[0m\u001B[0;34m\u001B[0m\u001B[0;34m\u001B[0m\u001B[0m\n\u001B[0;32m--> 101\u001B[0;31m     \u001B[0mlib\u001B[0m \u001B[0;34m=\u001B[0m \u001B[0mctypes\u001B[0m\u001B[0;34m.\u001B[0m\u001B[0mcdll\u001B[0m\u001B[0;34m.\u001B[0m\u001B[0mLoadLibrary\u001B[0m\u001B[0;34m(\u001B[0m\u001B[0mlib_path\u001B[0m\u001B[0;34m[\u001B[0m\u001B[0;36m0\u001B[0m\u001B[0;34m]\u001B[0m\u001B[0;34m)\u001B[0m\u001B[0;34m\u001B[0m\u001B[0;34m\u001B[0m\u001B[0m\n\u001B[0m\u001B[1;32m    102\u001B[0m     \u001B[0mlib\u001B[0m\u001B[0;34m.\u001B[0m\u001B[0mLGBM_GetLastError\u001B[0m\u001B[0;34m.\u001B[0m\u001B[0mrestype\u001B[0m \u001B[0;34m=\u001B[0m \u001B[0mctypes\u001B[0m\u001B[0;34m.\u001B[0m\u001B[0mc_char_p\u001B[0m\u001B[0;34m\u001B[0m\u001B[0;34m\u001B[0m\u001B[0m\n\u001B[1;32m    103\u001B[0m     \u001B[0mcallback\u001B[0m \u001B[0;34m=\u001B[0m \u001B[0mctypes\u001B[0m\u001B[0;34m.\u001B[0m\u001B[0mCFUNCTYPE\u001B[0m\u001B[0;34m(\u001B[0m\u001B[0;32mNone\u001B[0m\u001B[0;34m,\u001B[0m \u001B[0mctypes\u001B[0m\u001B[0;34m.\u001B[0m\u001B[0mc_char_p\u001B[0m\u001B[0;34m)\u001B[0m\u001B[0;34m\u001B[0m\u001B[0;34m\u001B[0m\u001B[0m\n",
      "\u001B[0;32m~/opt/anaconda3/lib/python3.8/ctypes/__init__.py\u001B[0m in \u001B[0;36mLoadLibrary\u001B[0;34m(self, name)\u001B[0m\n\u001B[1;32m    457\u001B[0m \u001B[0;34m\u001B[0m\u001B[0m\n\u001B[1;32m    458\u001B[0m     \u001B[0;32mdef\u001B[0m \u001B[0mLoadLibrary\u001B[0m\u001B[0;34m(\u001B[0m\u001B[0mself\u001B[0m\u001B[0;34m,\u001B[0m \u001B[0mname\u001B[0m\u001B[0;34m)\u001B[0m\u001B[0;34m:\u001B[0m\u001B[0;34m\u001B[0m\u001B[0;34m\u001B[0m\u001B[0m\n\u001B[0;32m--> 459\u001B[0;31m         \u001B[0;32mreturn\u001B[0m \u001B[0mself\u001B[0m\u001B[0;34m.\u001B[0m\u001B[0m_dlltype\u001B[0m\u001B[0;34m(\u001B[0m\u001B[0mname\u001B[0m\u001B[0;34m)\u001B[0m\u001B[0;34m\u001B[0m\u001B[0;34m\u001B[0m\u001B[0m\n\u001B[0m\u001B[1;32m    460\u001B[0m \u001B[0;34m\u001B[0m\u001B[0m\n\u001B[1;32m    461\u001B[0m \u001B[0mcdll\u001B[0m \u001B[0;34m=\u001B[0m \u001B[0mLibraryLoader\u001B[0m\u001B[0;34m(\u001B[0m\u001B[0mCDLL\u001B[0m\u001B[0;34m)\u001B[0m\u001B[0;34m\u001B[0m\u001B[0;34m\u001B[0m\u001B[0m\n",
      "\u001B[0;32m~/opt/anaconda3/lib/python3.8/ctypes/__init__.py\u001B[0m in \u001B[0;36m__init__\u001B[0;34m(self, name, mode, handle, use_errno, use_last_error, winmode)\u001B[0m\n\u001B[1;32m    379\u001B[0m \u001B[0;34m\u001B[0m\u001B[0m\n\u001B[1;32m    380\u001B[0m         \u001B[0;32mif\u001B[0m \u001B[0mhandle\u001B[0m \u001B[0;32mis\u001B[0m \u001B[0;32mNone\u001B[0m\u001B[0;34m:\u001B[0m\u001B[0;34m\u001B[0m\u001B[0;34m\u001B[0m\u001B[0m\n\u001B[0;32m--> 381\u001B[0;31m             \u001B[0mself\u001B[0m\u001B[0;34m.\u001B[0m\u001B[0m_handle\u001B[0m \u001B[0;34m=\u001B[0m \u001B[0m_dlopen\u001B[0m\u001B[0;34m(\u001B[0m\u001B[0mself\u001B[0m\u001B[0;34m.\u001B[0m\u001B[0m_name\u001B[0m\u001B[0;34m,\u001B[0m \u001B[0mmode\u001B[0m\u001B[0;34m)\u001B[0m\u001B[0;34m\u001B[0m\u001B[0;34m\u001B[0m\u001B[0m\n\u001B[0m\u001B[1;32m    382\u001B[0m         \u001B[0;32melse\u001B[0m\u001B[0;34m:\u001B[0m\u001B[0;34m\u001B[0m\u001B[0;34m\u001B[0m\u001B[0m\n\u001B[1;32m    383\u001B[0m             \u001B[0mself\u001B[0m\u001B[0;34m.\u001B[0m\u001B[0m_handle\u001B[0m \u001B[0;34m=\u001B[0m \u001B[0mhandle\u001B[0m\u001B[0;34m\u001B[0m\u001B[0;34m\u001B[0m\u001B[0m\n",
      "\u001B[0;31mOSError\u001B[0m: dlopen(/Users/andreyshelopugin/opt/anaconda3/lib/python3.8/site-packages/lightgbm/lib_lightgbm.so, 6): Library not loaded: /usr/local/opt/libomp/lib/libomp.dylib\n  Referenced from: /Users/andreyshelopugin/opt/anaconda3/lib/python3.8/site-packages/lightgbm/lib_lightgbm.so\n  Reason: image not found"
     ]
    }
   ],
   "source": [
    "# from euro_soccer.draw_model import DrawLightGBM\n",
    "\n",
    "DrawLightGBM().cross_val_score()"
   ]
  },
  {
   "cell_type": "code",
   "execution_count": null,
   "id": "312839bf",
   "metadata": {
    "pycharm": {
     "name": "#%%\n"
    }
   },
   "outputs": [],
   "source": []
  },
  {
   "cell_type": "code",
   "execution_count": 5,
   "id": "c2fcc9b7",
   "metadata": {
    "ExecuteTime": {
     "end_time": "2021-10-16T13:28:56.955628Z",
     "start_time": "2021-10-16T13:28:56.890048Z"
    },
    "pycharm": {
     "name": "#%%\n"
    }
   },
   "outputs": [
    {
     "data": {
      "text/html": [
       "<div>\n",
       "<style scoped>\n",
       "    .dataframe tbody tr th:only-of-type {\n",
       "        vertical-align: middle;\n",
       "    }\n",
       "\n",
       "    .dataframe tbody tr th {\n",
       "        vertical-align: top;\n",
       "    }\n",
       "\n",
       "    .dataframe thead th {\n",
       "        text-align: right;\n",
       "    }\n",
       "</style>\n",
       "<table border=\"1\" class=\"dataframe\">\n",
       "  <thead>\n",
       "    <tr style=\"text-align: right;\">\n",
       "      <th></th>\n",
       "      <th>team</th>\n",
       "      <th>score</th>\n",
       "      <th>index</th>\n",
       "      <th>is_home</th>\n",
       "      <th>avg_scoring_10</th>\n",
       "      <th>avg_scoring_20</th>\n",
       "      <th>is_pandemic</th>\n",
       "      <th>mean_score_10</th>\n",
       "      <th>median_score_10</th>\n",
       "      <th>mean_score_20</th>\n",
       "      <th>mean_score_10_against</th>\n",
       "      <th>median_score_10_against</th>\n",
       "      <th>mean_score_20_against</th>\n",
       "    </tr>\n",
       "  </thead>\n",
       "  <tbody>\n",
       "    <tr>\n",
       "      <th>129670</th>\n",
       "      <td>Den Bosch</td>\n",
       "      <td>2</td>\n",
       "      <td>69077</td>\n",
       "      <td>0</td>\n",
       "      <td>2.500000</td>\n",
       "      <td>2.5</td>\n",
       "      <td>1</td>\n",
       "      <td>1.800000</td>\n",
       "      <td>1.5</td>\n",
       "      <td>1.5</td>\n",
       "      <td>1.700000</td>\n",
       "      <td>1.0</td>\n",
       "      <td>2.0</td>\n",
       "    </tr>\n",
       "    <tr>\n",
       "      <th>4917</th>\n",
       "      <td>Dubnica</td>\n",
       "      <td>5</td>\n",
       "      <td>67608</td>\n",
       "      <td>1</td>\n",
       "      <td>1.444444</td>\n",
       "      <td>NaN</td>\n",
       "      <td>0</td>\n",
       "      <td>0.777778</td>\n",
       "      <td>1.0</td>\n",
       "      <td>1.0</td>\n",
       "      <td>3.222222</td>\n",
       "      <td>3.0</td>\n",
       "      <td>3.0</td>\n",
       "    </tr>\n",
       "    <tr>\n",
       "      <th>17732</th>\n",
       "      <td>Rapid Vienna</td>\n",
       "      <td>2</td>\n",
       "      <td>27656</td>\n",
       "      <td>1</td>\n",
       "      <td>2.400000</td>\n",
       "      <td>2.4</td>\n",
       "      <td>0</td>\n",
       "      <td>1.100000</td>\n",
       "      <td>0.5</td>\n",
       "      <td>1.0</td>\n",
       "      <td>0.600000</td>\n",
       "      <td>0.0</td>\n",
       "      <td>1.0</td>\n",
       "    </tr>\n",
       "    <tr>\n",
       "      <th>132205</th>\n",
       "      <td>Chambly</td>\n",
       "      <td>2</td>\n",
       "      <td>51277</td>\n",
       "      <td>0</td>\n",
       "      <td>1.200000</td>\n",
       "      <td>1.2</td>\n",
       "      <td>1</td>\n",
       "      <td>1.100000</td>\n",
       "      <td>0.5</td>\n",
       "      <td>1.0</td>\n",
       "      <td>0.800000</td>\n",
       "      <td>0.5</td>\n",
       "      <td>1.0</td>\n",
       "    </tr>\n",
       "    <tr>\n",
       "      <th>115031</th>\n",
       "      <td>Tobol</td>\n",
       "      <td>0</td>\n",
       "      <td>10064</td>\n",
       "      <td>0</td>\n",
       "      <td>1.300000</td>\n",
       "      <td>1.3</td>\n",
       "      <td>0</td>\n",
       "      <td>1.200000</td>\n",
       "      <td>1.0</td>\n",
       "      <td>1.0</td>\n",
       "      <td>0.300000</td>\n",
       "      <td>0.0</td>\n",
       "      <td>0.0</td>\n",
       "    </tr>\n",
       "  </tbody>\n",
       "</table>\n",
       "</div>"
      ],
      "text/plain": [
       "                team  score  index  is_home  avg_scoring_10  avg_scoring_20  \\\n",
       "129670     Den Bosch      2  69077        0        2.500000             2.5   \n",
       "4917         Dubnica      5  67608        1        1.444444             NaN   \n",
       "17732   Rapid Vienna      2  27656        1        2.400000             2.4   \n",
       "132205       Chambly      2  51277        0        1.200000             1.2   \n",
       "115031         Tobol      0  10064        0        1.300000             1.3   \n",
       "\n",
       "        is_pandemic  mean_score_10  median_score_10  mean_score_20  \\\n",
       "129670            1       1.800000              1.5            1.5   \n",
       "4917              0       0.777778              1.0            1.0   \n",
       "17732             0       1.100000              0.5            1.0   \n",
       "132205            1       1.100000              0.5            1.0   \n",
       "115031            0       1.200000              1.0            1.0   \n",
       "\n",
       "        mean_score_10_against  median_score_10_against  mean_score_20_against  \n",
       "129670               1.700000                      1.0                    2.0  \n",
       "4917                 3.222222                      3.0                    3.0  \n",
       "17732                0.600000                      0.0                    1.0  \n",
       "132205               0.800000                      0.5                    1.0  \n",
       "115031               0.300000                      0.0                    0.0  "
      ]
     },
     "execution_count": 5,
     "metadata": {},
     "output_type": "execute_result"
    }
   ],
   "source": [
    "# import joblib\n",
    "train = joblib.load('data/train.pkl')\n",
    "train.head()"
   ]
  },
  {
   "cell_type": "code",
   "execution_count": 6,
   "id": "fd266457",
   "metadata": {
    "ExecuteTime": {
     "end_time": "2021-10-16T13:30:08.902908Z",
     "start_time": "2021-10-16T13:30:08.869178Z"
    },
    "pycharm": {
     "name": "#%%\n"
    }
   },
   "outputs": [
    {
     "data": {
      "text/html": [
       "<div>\n",
       "<style scoped>\n",
       "    .dataframe tbody tr th:only-of-type {\n",
       "        vertical-align: middle;\n",
       "    }\n",
       "\n",
       "    .dataframe tbody tr th {\n",
       "        vertical-align: top;\n",
       "    }\n",
       "\n",
       "    .dataframe thead th {\n",
       "        text-align: right;\n",
       "    }\n",
       "</style>\n",
       "<table border=\"1\" class=\"dataframe\">\n",
       "  <thead>\n",
       "    <tr style=\"text-align: right;\">\n",
       "      <th></th>\n",
       "      <th>team</th>\n",
       "      <th>score</th>\n",
       "      <th>index</th>\n",
       "      <th>is_home</th>\n",
       "      <th>avg_scoring_10</th>\n",
       "      <th>avg_scoring_20</th>\n",
       "      <th>is_pandemic</th>\n",
       "      <th>mean_score_10</th>\n",
       "      <th>median_score_10</th>\n",
       "      <th>mean_score_20</th>\n",
       "      <th>mean_score_10_against</th>\n",
       "      <th>median_score_10_against</th>\n",
       "      <th>mean_score_20_against</th>\n",
       "    </tr>\n",
       "  </thead>\n",
       "  <tbody>\n",
       "    <tr>\n",
       "      <th>99593</th>\n",
       "      <td>Manchester City</td>\n",
       "      <td>2</td>\n",
       "      <td>8107</td>\n",
       "      <td>0</td>\n",
       "      <td>2.8</td>\n",
       "      <td>2.8</td>\n",
       "      <td>0</td>\n",
       "      <td>1.700000</td>\n",
       "      <td>1.5</td>\n",
       "      <td>2.0</td>\n",
       "      <td>1.000000</td>\n",
       "      <td>1.0</td>\n",
       "      <td>0.5</td>\n",
       "    </tr>\n",
       "    <tr>\n",
       "      <th>97208</th>\n",
       "      <td>Manchester City</td>\n",
       "      <td>1</td>\n",
       "      <td>75728</td>\n",
       "      <td>0</td>\n",
       "      <td>2.7</td>\n",
       "      <td>2.7</td>\n",
       "      <td>0</td>\n",
       "      <td>1.900000</td>\n",
       "      <td>2.0</td>\n",
       "      <td>2.0</td>\n",
       "      <td>1.300000</td>\n",
       "      <td>1.5</td>\n",
       "      <td>1.0</td>\n",
       "    </tr>\n",
       "    <tr>\n",
       "      <th>101412</th>\n",
       "      <td>Manchester City</td>\n",
       "      <td>3</td>\n",
       "      <td>8079</td>\n",
       "      <td>0</td>\n",
       "      <td>2.6</td>\n",
       "      <td>2.6</td>\n",
       "      <td>0</td>\n",
       "      <td>1.700000</td>\n",
       "      <td>1.5</td>\n",
       "      <td>2.0</td>\n",
       "      <td>0.800000</td>\n",
       "      <td>0.5</td>\n",
       "      <td>0.5</td>\n",
       "    </tr>\n",
       "    <tr>\n",
       "      <th>22198</th>\n",
       "      <td>Manchester City</td>\n",
       "      <td>1</td>\n",
       "      <td>8075</td>\n",
       "      <td>1</td>\n",
       "      <td>1.5</td>\n",
       "      <td>1.5</td>\n",
       "      <td>0</td>\n",
       "      <td>3.300000</td>\n",
       "      <td>3.0</td>\n",
       "      <td>3.0</td>\n",
       "      <td>0.900000</td>\n",
       "      <td>0.5</td>\n",
       "      <td>1.0</td>\n",
       "    </tr>\n",
       "    <tr>\n",
       "      <th>112351</th>\n",
       "      <td>Manchester City</td>\n",
       "      <td>3</td>\n",
       "      <td>89736</td>\n",
       "      <td>0</td>\n",
       "      <td>1.7</td>\n",
       "      <td>1.7</td>\n",
       "      <td>0</td>\n",
       "      <td>2.500000</td>\n",
       "      <td>2.5</td>\n",
       "      <td>2.0</td>\n",
       "      <td>0.700000</td>\n",
       "      <td>0.5</td>\n",
       "      <td>1.0</td>\n",
       "    </tr>\n",
       "    <tr>\n",
       "      <th>...</th>\n",
       "      <td>...</td>\n",
       "      <td>...</td>\n",
       "      <td>...</td>\n",
       "      <td>...</td>\n",
       "      <td>...</td>\n",
       "      <td>...</td>\n",
       "      <td>...</td>\n",
       "      <td>...</td>\n",
       "      <td>...</td>\n",
       "      <td>...</td>\n",
       "      <td>...</td>\n",
       "      <td>...</td>\n",
       "      <td>...</td>\n",
       "    </tr>\n",
       "    <tr>\n",
       "      <th>139024</th>\n",
       "      <td>Manchester City</td>\n",
       "      <td>4</td>\n",
       "      <td>82632</td>\n",
       "      <td>0</td>\n",
       "      <td>1.4</td>\n",
       "      <td>1.4</td>\n",
       "      <td>1</td>\n",
       "      <td>1.100000</td>\n",
       "      <td>1.0</td>\n",
       "      <td>1.0</td>\n",
       "      <td>0.400000</td>\n",
       "      <td>0.0</td>\n",
       "      <td>0.5</td>\n",
       "    </tr>\n",
       "    <tr>\n",
       "      <th>51661</th>\n",
       "      <td>Manchester City</td>\n",
       "      <td>2</td>\n",
       "      <td>82643</td>\n",
       "      <td>1</td>\n",
       "      <td>3.1</td>\n",
       "      <td>3.1</td>\n",
       "      <td>1</td>\n",
       "      <td>2.900000</td>\n",
       "      <td>2.5</td>\n",
       "      <td>2.0</td>\n",
       "      <td>0.600000</td>\n",
       "      <td>0.0</td>\n",
       "      <td>1.0</td>\n",
       "    </tr>\n",
       "    <tr>\n",
       "      <th>89840</th>\n",
       "      <td>Manchester City</td>\n",
       "      <td>3</td>\n",
       "      <td>80587</td>\n",
       "      <td>0</td>\n",
       "      <td>2.6</td>\n",
       "      <td>2.6</td>\n",
       "      <td>0</td>\n",
       "      <td>1.666667</td>\n",
       "      <td>1.0</td>\n",
       "      <td>1.0</td>\n",
       "      <td>1.777778</td>\n",
       "      <td>1.0</td>\n",
       "      <td>2.0</td>\n",
       "    </tr>\n",
       "    <tr>\n",
       "      <th>16367</th>\n",
       "      <td>Manchester City</td>\n",
       "      <td>3</td>\n",
       "      <td>8163</td>\n",
       "      <td>1</td>\n",
       "      <td>2.2</td>\n",
       "      <td>2.2</td>\n",
       "      <td>0</td>\n",
       "      <td>3.200000</td>\n",
       "      <td>3.0</td>\n",
       "      <td>3.0</td>\n",
       "      <td>0.900000</td>\n",
       "      <td>1.0</td>\n",
       "      <td>1.0</td>\n",
       "    </tr>\n",
       "    <tr>\n",
       "      <th>59587</th>\n",
       "      <td>Manchester City</td>\n",
       "      <td>2</td>\n",
       "      <td>11435</td>\n",
       "      <td>1</td>\n",
       "      <td>1.1</td>\n",
       "      <td>1.1</td>\n",
       "      <td>1</td>\n",
       "      <td>2.300000</td>\n",
       "      <td>2.0</td>\n",
       "      <td>2.0</td>\n",
       "      <td>0.900000</td>\n",
       "      <td>0.5</td>\n",
       "      <td>0.0</td>\n",
       "    </tr>\n",
       "  </tbody>\n",
       "</table>\n",
       "<p>128 rows × 13 columns</p>\n",
       "</div>"
      ],
      "text/plain": [
       "                   team  score  index  is_home  avg_scoring_10  \\\n",
       "99593   Manchester City      2   8107        0             2.8   \n",
       "97208   Manchester City      1  75728        0             2.7   \n",
       "101412  Manchester City      3   8079        0             2.6   \n",
       "22198   Manchester City      1   8075        1             1.5   \n",
       "112351  Manchester City      3  89736        0             1.7   \n",
       "...                 ...    ...    ...      ...             ...   \n",
       "139024  Manchester City      4  82632        0             1.4   \n",
       "51661   Manchester City      2  82643        1             3.1   \n",
       "89840   Manchester City      3  80587        0             2.6   \n",
       "16367   Manchester City      3   8163        1             2.2   \n",
       "59587   Manchester City      2  11435        1             1.1   \n",
       "\n",
       "        avg_scoring_20  is_pandemic  mean_score_10  median_score_10  \\\n",
       "99593              2.8            0       1.700000              1.5   \n",
       "97208              2.7            0       1.900000              2.0   \n",
       "101412             2.6            0       1.700000              1.5   \n",
       "22198              1.5            0       3.300000              3.0   \n",
       "112351             1.7            0       2.500000              2.5   \n",
       "...                ...          ...            ...              ...   \n",
       "139024             1.4            1       1.100000              1.0   \n",
       "51661              3.1            1       2.900000              2.5   \n",
       "89840              2.6            0       1.666667              1.0   \n",
       "16367              2.2            0       3.200000              3.0   \n",
       "59587              1.1            1       2.300000              2.0   \n",
       "\n",
       "        mean_score_20  mean_score_10_against  median_score_10_against  \\\n",
       "99593             2.0               1.000000                      1.0   \n",
       "97208             2.0               1.300000                      1.5   \n",
       "101412            2.0               0.800000                      0.5   \n",
       "22198             3.0               0.900000                      0.5   \n",
       "112351            2.0               0.700000                      0.5   \n",
       "...               ...                    ...                      ...   \n",
       "139024            1.0               0.400000                      0.0   \n",
       "51661             2.0               0.600000                      0.0   \n",
       "89840             1.0               1.777778                      1.0   \n",
       "16367             3.0               0.900000                      1.0   \n",
       "59587             2.0               0.900000                      0.5   \n",
       "\n",
       "        mean_score_20_against  \n",
       "99593                     0.5  \n",
       "97208                     1.0  \n",
       "101412                    0.5  \n",
       "22198                     1.0  \n",
       "112351                    1.0  \n",
       "...                       ...  \n",
       "139024                    0.5  \n",
       "51661                     1.0  \n",
       "89840                     2.0  \n",
       "16367                     1.0  \n",
       "59587                     0.0  \n",
       "\n",
       "[128 rows x 13 columns]"
      ]
     },
     "execution_count": 6,
     "metadata": {},
     "output_type": "execute_result"
    }
   ],
   "source": [
    "# train.loc[train['team'] == 'Manchester City']"
   ]
  },
  {
   "cell_type": "code",
   "execution_count": 7,
   "id": "d5ff79e2",
   "metadata": {
    "ExecuteTime": {
     "end_time": "2021-10-16T13:56:52.818523Z",
     "start_time": "2021-10-16T13:56:52.808515Z"
    },
    "pycharm": {
     "name": "#%%\n"
    }
   },
   "outputs": [
    {
     "data": {
      "text/plain": [
       "1.364716147298895"
      ]
     },
     "execution_count": 7,
     "metadata": {},
     "output_type": "execute_result"
    }
   ],
   "source": [
    "# train['avg_scoring_10'].mean()"
   ]
  },
  {
   "cell_type": "code",
   "execution_count": null,
   "outputs": [],
   "source": [],
   "metadata": {
    "collapsed": false,
    "pycharm": {
     "name": "#%%\n"
    }
   }
  }
 ],
 "metadata": {
  "kernelspec": {
   "display_name": "PyCharm (GlickoSoccer)",
   "language": "python",
   "name": "pycharm-128f8376"
  },
  "language_info": {
   "codemirror_mode": {
    "name": "ipython",
    "version": 3
   },
   "file_extension": ".py",
   "mimetype": "text/x-python",
   "name": "python",
   "nbconvert_exporter": "python",
   "pygments_lexer": "ipython3",
   "version": "3.9.7"
  }
 },
 "nbformat": 4,
 "nbformat_minor": 5
}