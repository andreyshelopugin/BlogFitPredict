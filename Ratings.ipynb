{
 "cells": [
  {
   "cell_type": "code",
   "execution_count": 4,
   "id": "4a86a728",
   "metadata": {
    "ExecuteTime": {
     "end_time": "2021-10-31T06:23:31.415615Z",
     "start_time": "2021-10-31T06:23:28.418283Z"
    },
    "pycharm": {
     "name": "#%%\n"
    }
   },
   "outputs": [],
   "source": [
    "%reload_ext autoreload\n",
    "%autoreload 2\n",
    "\n",
    "import numpy as np\n",
    "import pandas as pd\n",
    "\n",
    "pd.options.display.max_columns, pd.options.display.max_rows = 500, 200\n",
    "pd.options.display.float_format = '{:.3f}'.format\n",
    "import warnings\n",
    "\n",
    "warnings.filterwarnings('ignore')\n",
    "import joblib\n",
    "\n",
    "from euro_soccer.preprocessing import DataPreprocessor\n",
    "from euro_soccer.glicko_soccer import GlickoSoccer"
   ]
  },
  {
   "cell_type": "code",
   "execution_count": 5,
   "outputs": [
    {
     "data": {
      "text/plain": "         date home_team away_team home_score away_score notes  country  \\\n0  05.11.2011     Kalju     Paide          1          2   NaN  Estonia   \n\n         league season                            file_path tournament_type  \n0  Meistriliiga   2011  first/Estonia_Meistriliiga_2011.csv           first  ",
      "text/html": "<div>\n<style scoped>\n    .dataframe tbody tr th:only-of-type {\n        vertical-align: middle;\n    }\n\n    .dataframe tbody tr th {\n        vertical-align: top;\n    }\n\n    .dataframe thead th {\n        text-align: right;\n    }\n</style>\n<table border=\"1\" class=\"dataframe\">\n  <thead>\n    <tr style=\"text-align: right;\">\n      <th></th>\n      <th>date</th>\n      <th>home_team</th>\n      <th>away_team</th>\n      <th>home_score</th>\n      <th>away_score</th>\n      <th>notes</th>\n      <th>country</th>\n      <th>league</th>\n      <th>season</th>\n      <th>file_path</th>\n      <th>tournament_type</th>\n    </tr>\n  </thead>\n  <tbody>\n    <tr>\n      <th>0</th>\n      <td>05.11.2011</td>\n      <td>Kalju</td>\n      <td>Paide</td>\n      <td>1</td>\n      <td>2</td>\n      <td>NaN</td>\n      <td>Estonia</td>\n      <td>Meistriliiga</td>\n      <td>2011</td>\n      <td>first/Estonia_Meistriliiga_2011.csv</td>\n      <td>first</td>\n    </tr>\n  </tbody>\n</table>\n</div>"
     },
     "execution_count": 5,
     "metadata": {},
     "output_type": "execute_result"
    }
   ],
   "source": [
    "matches = pd.read_csv('data/matches.csv')\n",
    "matches.head(1)"
   ],
   "metadata": {
    "collapsed": false,
    "pycharm": {
     "name": "#%%\n"
    }
   }
  },
  {
   "cell_type": "code",
   "execution_count": 6,
   "id": "e83e46cd",
   "metadata": {
    "ExecuteTime": {
     "end_time": "2021-10-31T06:23:34.260370Z",
     "start_time": "2021-10-31T06:23:33.632554Z"
    },
    "scrolled": false,
    "pycharm": {
     "name": "#%%\n"
    }
   },
   "outputs": [
    {
     "data": {
      "text/plain": "        match_id       date home_team away_team  home_score  away_score  \\\n364563    274578 2022-06-05  Igman K.   Gorazde           2           0   \n364568    294428 2022-06-11    Girona  Tenerife           0           0   \n364569    108263 2022-06-11     Veria     Lamia           1           2   \n364570    108262 2022-06-18     Lamia     Veria           1           1   \n364571    294427 2022-06-19  Tenerife    Girona           1           3   \n\n                       country                           league  season  \\\n364563  Bosnia And Herzegovina                 Prva Liga - FBiH    2021   \n364568                   Spain  LaLiga2 - Promotion - Play Offs    2021   \n364569                  Greece        Super League - Relegation    2021   \n364570                  Greece        Super League - Relegation    2021   \n364571                   Spain  LaLiga2 - Promotion - Play Offs    2021   \n\n                                                file_path  tournament_type  \\\n364563  second/Bosnia And Herzegovina_Prva Liga - FBiH...                2   \n364568  second/Spain_LaLiga2 - Promotion - Play Offs_2...                2   \n364569  first/Greece_Super League - Relegation_2021-20...                1   \n364570  first/Greece_Super League - Relegation_2021-20...                1   \n364571  second/Spain_LaLiga2 - Promotion - Play Offs_2...                2   \n\n                            tournament outcome  is_pandemic  draw_probability  \n364563  Bosnia And Herzegovina. Second       H            0             0.229  \n364568                   Spain. Second       D            0             0.255  \n364569                   Greece. First       A            0             0.270  \n364570                   Greece. First       D            0             0.270  \n364571                   Spain. Second       A            0             0.273  ",
      "text/html": "<div>\n<style scoped>\n    .dataframe tbody tr th:only-of-type {\n        vertical-align: middle;\n    }\n\n    .dataframe tbody tr th {\n        vertical-align: top;\n    }\n\n    .dataframe thead th {\n        text-align: right;\n    }\n</style>\n<table border=\"1\" class=\"dataframe\">\n  <thead>\n    <tr style=\"text-align: right;\">\n      <th></th>\n      <th>match_id</th>\n      <th>date</th>\n      <th>home_team</th>\n      <th>away_team</th>\n      <th>home_score</th>\n      <th>away_score</th>\n      <th>country</th>\n      <th>league</th>\n      <th>season</th>\n      <th>file_path</th>\n      <th>tournament_type</th>\n      <th>tournament</th>\n      <th>outcome</th>\n      <th>is_pandemic</th>\n      <th>draw_probability</th>\n    </tr>\n  </thead>\n  <tbody>\n    <tr>\n      <th>364563</th>\n      <td>274578</td>\n      <td>2022-06-05</td>\n      <td>Igman K.</td>\n      <td>Gorazde</td>\n      <td>2</td>\n      <td>0</td>\n      <td>Bosnia And Herzegovina</td>\n      <td>Prva Liga - FBiH</td>\n      <td>2021</td>\n      <td>second/Bosnia And Herzegovina_Prva Liga - FBiH...</td>\n      <td>2</td>\n      <td>Bosnia And Herzegovina. Second</td>\n      <td>H</td>\n      <td>0</td>\n      <td>0.229</td>\n    </tr>\n    <tr>\n      <th>364568</th>\n      <td>294428</td>\n      <td>2022-06-11</td>\n      <td>Girona</td>\n      <td>Tenerife</td>\n      <td>0</td>\n      <td>0</td>\n      <td>Spain</td>\n      <td>LaLiga2 - Promotion - Play Offs</td>\n      <td>2021</td>\n      <td>second/Spain_LaLiga2 - Promotion - Play Offs_2...</td>\n      <td>2</td>\n      <td>Spain. Second</td>\n      <td>D</td>\n      <td>0</td>\n      <td>0.255</td>\n    </tr>\n    <tr>\n      <th>364569</th>\n      <td>108263</td>\n      <td>2022-06-11</td>\n      <td>Veria</td>\n      <td>Lamia</td>\n      <td>1</td>\n      <td>2</td>\n      <td>Greece</td>\n      <td>Super League - Relegation</td>\n      <td>2021</td>\n      <td>first/Greece_Super League - Relegation_2021-20...</td>\n      <td>1</td>\n      <td>Greece. First</td>\n      <td>A</td>\n      <td>0</td>\n      <td>0.270</td>\n    </tr>\n    <tr>\n      <th>364570</th>\n      <td>108262</td>\n      <td>2022-06-18</td>\n      <td>Lamia</td>\n      <td>Veria</td>\n      <td>1</td>\n      <td>1</td>\n      <td>Greece</td>\n      <td>Super League - Relegation</td>\n      <td>2021</td>\n      <td>first/Greece_Super League - Relegation_2021-20...</td>\n      <td>1</td>\n      <td>Greece. First</td>\n      <td>D</td>\n      <td>0</td>\n      <td>0.270</td>\n    </tr>\n    <tr>\n      <th>364571</th>\n      <td>294427</td>\n      <td>2022-06-19</td>\n      <td>Tenerife</td>\n      <td>Girona</td>\n      <td>1</td>\n      <td>3</td>\n      <td>Spain</td>\n      <td>LaLiga2 - Promotion - Play Offs</td>\n      <td>2021</td>\n      <td>second/Spain_LaLiga2 - Promotion - Play Offs_2...</td>\n      <td>2</td>\n      <td>Spain. Second</td>\n      <td>A</td>\n      <td>0</td>\n      <td>0.273</td>\n    </tr>\n  </tbody>\n</table>\n</div>"
     },
     "execution_count": 6,
     "metadata": {},
     "output_type": "execute_result"
    }
   ],
   "source": [
    "matches = DataPreprocessor(is_actual_draw_predictions=False).preprocessing()\n",
    "matches.tail(5)"
   ]
  },
  {
   "cell_type": "code",
   "execution_count": 11,
   "outputs": [
    {
     "data": {
      "text/plain": "(323356, 15)"
     },
     "execution_count": 11,
     "metadata": {},
     "output_type": "execute_result"
    }
   ],
   "source": [
    "matches.shape"
   ],
   "metadata": {
    "collapsed": false,
    "pycharm": {
     "name": "#%%\n"
    }
   }
  },
  {
   "cell_type": "code",
   "execution_count": 30,
   "outputs": [],
   "source": [
    "count_matches, count_seasons, count_tournaments, uefa_teams_without_national, duplicated_teams = DataPreprocessor().test_data(matches)"
   ],
   "metadata": {
    "collapsed": false,
    "pycharm": {
     "name": "#%%\n"
    }
   }
  },
  {
   "cell_type": "markdown",
   "source": [],
   "metadata": {
    "collapsed": false,
    "pycharm": {
     "name": "#%% md\n"
    }
   }
  },
  {
   "cell_type": "markdown",
   "source": [],
   "metadata": {
    "collapsed": false,
    "pycharm": {
     "name": "#%% md\n"
    }
   }
  },
  {
   "cell_type": "code",
   "execution_count": 31,
   "outputs": [
    {
     "data": {
      "text/plain": "       country  tournament_type  season  number_matches\n57   Argentina                2    2021              11\n540     Greece                2    2020              15",
      "text/html": "<div>\n<style scoped>\n    .dataframe tbody tr th:only-of-type {\n        vertical-align: middle;\n    }\n\n    .dataframe tbody tr th {\n        vertical-align: top;\n    }\n\n    .dataframe thead th {\n        text-align: right;\n    }\n</style>\n<table border=\"1\" class=\"dataframe\">\n  <thead>\n    <tr style=\"text-align: right;\">\n      <th></th>\n      <th>country</th>\n      <th>tournament_type</th>\n      <th>season</th>\n      <th>number_matches</th>\n    </tr>\n  </thead>\n  <tbody>\n    <tr>\n      <th>57</th>\n      <td>Argentina</td>\n      <td>2</td>\n      <td>2021</td>\n      <td>11</td>\n    </tr>\n    <tr>\n      <th>540</th>\n      <td>Greece</td>\n      <td>2</td>\n      <td>2020</td>\n      <td>15</td>\n    </tr>\n  </tbody>\n</table>\n</div>"
     },
     "execution_count": 31,
     "metadata": {},
     "output_type": "execute_result"
    }
   ],
   "source": [
    "count_matches"
   ],
   "metadata": {
    "collapsed": false,
    "pycharm": {
     "name": "#%%\n"
    }
   }
  },
  {
   "cell_type": "code",
   "execution_count": 32,
   "outputs": [
    {
     "data": {
      "text/plain": "           country  tournament_type  number_seasons\n20      Azerbaijan                2               2\n80   Faroe Islands                2               2\n103         Greece                2               2",
      "text/html": "<div>\n<style scoped>\n    .dataframe tbody tr th:only-of-type {\n        vertical-align: middle;\n    }\n\n    .dataframe tbody tr th {\n        vertical-align: top;\n    }\n\n    .dataframe thead th {\n        text-align: right;\n    }\n</style>\n<table border=\"1\" class=\"dataframe\">\n  <thead>\n    <tr style=\"text-align: right;\">\n      <th></th>\n      <th>country</th>\n      <th>tournament_type</th>\n      <th>number_seasons</th>\n    </tr>\n  </thead>\n  <tbody>\n    <tr>\n      <th>20</th>\n      <td>Azerbaijan</td>\n      <td>2</td>\n      <td>2</td>\n    </tr>\n    <tr>\n      <th>80</th>\n      <td>Faroe Islands</td>\n      <td>2</td>\n      <td>2</td>\n    </tr>\n    <tr>\n      <th>103</th>\n      <td>Greece</td>\n      <td>2</td>\n      <td>2</td>\n    </tr>\n  </tbody>\n</table>\n</div>"
     },
     "execution_count": 32,
     "metadata": {},
     "output_type": "execute_result"
    }
   ],
   "source": [
    "count_seasons"
   ],
   "metadata": {
    "collapsed": false,
    "pycharm": {
     "name": "#%%\n"
    }
   }
  },
  {
   "cell_type": "code",
   "execution_count": 33,
   "outputs": [
    {
     "data": {
      "text/plain": "Empty DataFrame\nColumns: [country, number_tournaments, tournament_type]\nIndex: []",
      "text/html": "<div>\n<style scoped>\n    .dataframe tbody tr th:only-of-type {\n        vertical-align: middle;\n    }\n\n    .dataframe tbody tr th {\n        vertical-align: top;\n    }\n\n    .dataframe thead th {\n        text-align: right;\n    }\n</style>\n<table border=\"1\" class=\"dataframe\">\n  <thead>\n    <tr style=\"text-align: right;\">\n      <th></th>\n      <th>country</th>\n      <th>number_tournaments</th>\n      <th>tournament_type</th>\n    </tr>\n  </thead>\n  <tbody>\n  </tbody>\n</table>\n</div>"
     },
     "execution_count": 33,
     "metadata": {},
     "output_type": "execute_result"
    }
   ],
   "source": [
    "count_tournaments"
   ],
   "metadata": {
    "collapsed": false,
    "pycharm": {
     "name": "#%%\n"
    }
   }
  },
  {
   "cell_type": "code",
   "execution_count": 34,
   "outputs": [
    {
     "data": {
      "text/plain": "[]"
     },
     "execution_count": 34,
     "metadata": {},
     "output_type": "execute_result"
    }
   ],
   "source": [
    "uefa_teams_without_national"
   ],
   "metadata": {
    "collapsed": false,
    "pycharm": {
     "name": "#%%\n"
    }
   }
  },
  {
   "cell_type": "code",
   "execution_count": 35,
   "outputs": [
    {
     "data": {
      "text/plain": "Empty DataFrame\nColumns: [home_team, country]\nIndex: []",
      "text/html": "<div>\n<style scoped>\n    .dataframe tbody tr th:only-of-type {\n        vertical-align: middle;\n    }\n\n    .dataframe tbody tr th {\n        vertical-align: top;\n    }\n\n    .dataframe thead th {\n        text-align: right;\n    }\n</style>\n<table border=\"1\" class=\"dataframe\">\n  <thead>\n    <tr style=\"text-align: right;\">\n      <th></th>\n      <th>home_team</th>\n      <th>country</th>\n    </tr>\n  </thead>\n  <tbody>\n  </tbody>\n</table>\n</div>"
     },
     "execution_count": 35,
     "metadata": {},
     "output_type": "execute_result"
    }
   ],
   "source": [
    "duplicated_teams"
   ],
   "metadata": {
    "collapsed": false,
    "pycharm": {
     "name": "#%%\n"
    }
   }
  },
  {
   "cell_type": "code",
   "execution_count": null,
   "outputs": [],
   "source": [],
   "metadata": {
    "collapsed": false,
    "pycharm": {
     "name": "#%%\n"
    }
   }
  },
  {
   "cell_type": "markdown",
   "source": [],
   "metadata": {
    "collapsed": false,
    "pycharm": {
     "name": "#%% md\n"
    }
   }
  },
  {
   "cell_type": "code",
   "execution_count": null,
   "outputs": [],
   "source": [
    "matches.info()"
   ],
   "metadata": {
    "collapsed": false,
    "pycharm": {
     "name": "#%%\n"
    }
   }
  },
  {
   "cell_type": "code",
   "execution_count": null,
   "id": "e991a1e8",
   "metadata": {
    "ExecuteTime": {
     "end_time": "2021-10-24T11:04:09.063149Z",
     "start_time": "2021-10-24T11:04:08.908334Z"
    },
    "pycharm": {
     "name": "#%%\n"
    }
   },
   "outputs": [],
   "source": [
    "# matches['draw_probability'].mean()"
   ]
  },
  {
   "cell_type": "code",
   "execution_count": null,
   "id": "71ca8c4a",
   "metadata": {
    "ExecuteTime": {
     "end_time": "2021-10-23T08:31:55.616338Z",
     "start_time": "2021-10-23T08:31:55.175290Z"
    },
    "pycharm": {
     "name": "#%%\n"
    }
   },
   "outputs": [],
   "source": [
    "# # matches.loc[(matches['home_team'].str.contains('B')) & (matches['away_team'].str.contains('AS Roma'))]"
   ]
  },
  {
   "cell_type": "code",
   "execution_count": null,
   "id": "d2bc426d",
   "metadata": {
    "ExecuteTime": {
     "end_time": "2021-10-17T16:50:39.263142Z",
     "start_time": "2021-10-17T16:50:39.201859Z"
    },
    "pycharm": {
     "name": "#%%\n"
    }
   },
   "outputs": [],
   "source": [
    "# matches.info()"
   ]
  },
  {
   "cell_type": "code",
   "execution_count": null,
   "outputs": [],
   "source": [
    "# matches['season'].value_counts()"
   ],
   "metadata": {
    "collapsed": false,
    "pycharm": {
     "name": "#%%\n"
    }
   }
  },
  {
   "cell_type": "code",
   "execution_count": null,
   "outputs": [],
   "source": [
    "# matches.loc[matches['tournament'].str.contains('Con')]"
   ],
   "metadata": {
    "collapsed": false,
    "pycharm": {
     "name": "#%%\n"
    }
   }
  },
  {
   "cell_type": "markdown",
   "id": "11653b5c",
   "metadata": {
    "pycharm": {
     "name": "#%% md\n"
    }
   },
   "source": [
    "# Fit Params"
   ]
  },
  {
   "cell_type": "markdown",
   "source": [],
   "metadata": {
    "collapsed": false,
    "pycharm": {
     "name": "#%% md\n"
    }
   }
  },
  {
   "cell_type": "code",
   "execution_count": 23,
   "id": "da811e92",
   "metadata": {
    "ExecuteTime": {
     "end_time": "2021-10-11T10:45:05.038512Z",
     "start_time": "2021-10-11T10:42:55.647176Z"
    },
    "pycharm": {
     "name": "#%%\n"
    }
   },
   "outputs": [
    {
     "name": "stdout",
     "output_type": "stream",
     "text": [
      "Current Loss: 44728.34473780513\n",
      "Russia. First 1500\n",
      "Estonia. First 1500\n",
      "Norway. Second 1500\n",
      "Armenia. Second 1500\n",
      "Slovakia. First 1500\n",
      "Northern Ireland. Second 1500\n",
      "Hungary. First 1500\n",
      "Belgium. First 1500\n",
      "Germany. First 1500\n",
      "San Marino. First 1500\n",
      "Ukraine. Second 1500\n",
      "Scotland. First 1500\n",
      "Bulgaria. First 1500\n",
      "Serbia. First 1500\n",
      "Argentina. Second 1500\n",
      "Georgia. Second 1500\n",
      "Azerbaijan. First 1500\n",
      "Romania. Second 1500\n",
      "Iceland. Second 1500\n",
      "Norway. First 1500\n",
      "Uruguay. First 1500\n",
      "Wales. First 1500\n",
      "Faroe Islands. First 1500\n",
      "Italy. First 1500\n",
      "Croatia. First 1500\n",
      "Lithuania. Second 1500\n",
      "Slovenia. Second 1500\n",
      "Switzerland. First 1500\n",
      "Brazil. Second 1500\n",
      "England. First 1500\n",
      "Scotland. Second 1500\n",
      "Albania. First 1500\n",
      "Kosovo. First 1500\n",
      "Ireland. First 1500\n",
      "Latvia. First 1500\n",
      "Argentina. First 1500\n",
      "Bosnia And Herzegovina. First 1500\n",
      "Belgium. Second 1500\n",
      "Brazil. First 1500\n",
      "Finland. Second 1500\n",
      "Ecuador. First 1500\n",
      "Netherlands. Second 1500\n",
      "Peru. First 1500\n",
      "Malta. First 1500\n",
      "Venezuela. First 1500\n",
      "Albania. Second 1500\n",
      "Faroe Islands. Second 1500\n",
      "Belarus. Second 1500\n",
      "Armenia. First 1500\n",
      "Switzerland. Second 1500\n",
      "Finland. First 1500\n",
      "Sweden. First 1500\n",
      "Ukraine. First 1500\n",
      "Estonia. Second 1500\n",
      "Turkey. Second 1500\n",
      "Netherlands. First 1500\n",
      "Chile. First 1500\n",
      "Portugal. First 1500\n",
      "Austria. Second 1500\n",
      "Romania. First 1500\n",
      "Luxembourg. First 1500\n",
      "Israel. Second 1500\n"
     ]
    },
    {
     "ename": "KeyboardInterrupt",
     "evalue": "",
     "output_type": "error",
     "traceback": [
      "\u001B[0;31m---------------------------------------------------------------------------\u001B[0m",
      "\u001B[0;31mKeyboardInterrupt\u001B[0m                         Traceback (most recent call last)",
      "Input \u001B[0;32mIn [23]\u001B[0m, in \u001B[0;36m<cell line: 2>\u001B[0;34m()\u001B[0m\n\u001B[1;32m      1\u001B[0m glicko \u001B[38;5;241m=\u001B[39m GlickoSoccer()  \u001B[38;5;66;03m#\u001B[39;00m\n\u001B[0;32m----> 2\u001B[0m league_params \u001B[38;5;241m=\u001B[39m \u001B[43mglicko\u001B[49m\u001B[38;5;241;43m.\u001B[39;49m\u001B[43mfit_params\u001B[49m\u001B[43m(\u001B[49m\u001B[43mmatches\u001B[49m\u001B[43m,\u001B[49m\u001B[43m \u001B[49m\u001B[38;5;241;43m1\u001B[39;49m\u001B[43m,\u001B[49m\u001B[43m \u001B[49m\u001B[43mis_params_initialization\u001B[49m\u001B[38;5;241;43m=\u001B[39;49m\u001B[38;5;28;43;01mTrue\u001B[39;49;00m\u001B[43m)\u001B[49m\n",
      "File \u001B[0;32m~/PycharmProjects/GlickoSoccer/euro_soccer/glicko_soccer.py:442\u001B[0m, in \u001B[0;36mGlickoSoccer.fit_params\u001B[0;34m(self, results, number_iterations, is_params_initialization)\u001B[0m\n\u001B[1;32m    439\u001B[0m \u001B[38;5;28;01mfor\u001B[39;00m country_params \u001B[38;5;129;01min\u001B[39;00m params_list:\n\u001B[1;32m    440\u001B[0m     league_params_copy[league]\u001B[38;5;241m.\u001B[39mupdate(\u001B[38;5;28mzip\u001B[39m(league_params_copy[league], country_params))\n\u001B[0;32m--> 442\u001B[0m     params_loss[country_params] \u001B[38;5;241m=\u001B[39m \u001B[38;5;28;43mself\u001B[39;49m\u001B[38;5;241;43m.\u001B[39;49m\u001B[43mcalculate_loss\u001B[49m\u001B[43m(\u001B[49m\u001B[43mresults\u001B[49m\u001B[43m,\u001B[49m\u001B[43m \u001B[49m\u001B[43mleague_params_copy\u001B[49m\u001B[43m,\u001B[49m\u001B[43m \u001B[49m\u001B[43mteam_leagues_all\u001B[49m\u001B[43m,\u001B[49m\u001B[43m \u001B[49m\u001B[43mmissed_prev\u001B[49m\u001B[43m,\u001B[49m\n\u001B[1;32m    443\u001B[0m \u001B[43m                                                      \u001B[49m\u001B[43mchanged\u001B[49m\u001B[43m,\u001B[49m\n\u001B[1;32m    444\u001B[0m \u001B[43m                                                      \u001B[49m\u001B[43msame\u001B[49m\u001B[43m,\u001B[49m\n\u001B[1;32m    445\u001B[0m \u001B[43m                                                      \u001B[49m\u001B[43mindexes_for_update\u001B[49m\u001B[43m)\u001B[49m\n\u001B[1;32m    447\u001B[0m optimal_params \u001B[38;5;241m=\u001B[39m \u001B[38;5;28mmin\u001B[39m(params_loss, key\u001B[38;5;241m=\u001B[39mparams_loss\u001B[38;5;241m.\u001B[39mget)\n\u001B[1;32m    449\u001B[0m \u001B[38;5;66;03m# if params_loss[optimal_params] < current_loss:\u001B[39;00m\n\u001B[1;32m    450\u001B[0m \u001B[38;5;66;03m#     optimal_params_dict = dict(zip(league_params_copy[league], optimal_params))\u001B[39;00m\n\u001B[1;32m    451\u001B[0m \u001B[38;5;66;03m#     league_params[league] = optimal_params_dict\u001B[39;00m\n\u001B[0;32m   (...)\u001B[0m\n\u001B[1;32m    455\u001B[0m \u001B[38;5;66;03m#\u001B[39;00m\n\u001B[1;32m    456\u001B[0m \u001B[38;5;66;03m#     current_loss = params_loss[optimal_params]\u001B[39;00m\n",
      "File \u001B[0;32m~/PycharmProjects/GlickoSoccer/euro_soccer/glicko_soccer.py:301\u001B[0m, in \u001B[0;36mGlickoSoccer.calculate_loss\u001B[0;34m(self, results, league_params, team_leagues_all, missed_previous_season, changed_league, same_league, indexes_for_update_ratings)\u001B[0m\n\u001B[1;32m    298\u001B[0m         log_loss_value \u001B[38;5;241m+\u001B[39m\u001B[38;5;241m=\u001B[39m three_outcomes_log_loss(win_probability, tie_probability, loss_probability, outcome)\n\u001B[1;32m    300\u001B[0m     \u001B[38;5;66;03m# update team ratings\u001B[39;00m\n\u001B[0;32m--> 301\u001B[0m     ratings[home_team], ratings[away_team] \u001B[38;5;241m=\u001B[39m \u001B[43mglicko\u001B[49m\u001B[38;5;241;43m.\u001B[39;49m\u001B[43mrate\u001B[49m\u001B[43m(\u001B[49m\u001B[43mhome_rating\u001B[49m\u001B[43m,\u001B[49m\n\u001B[1;32m    302\u001B[0m \u001B[43m                                                         \u001B[49m\u001B[43maway_rating\u001B[49m\u001B[43m,\u001B[49m\n\u001B[1;32m    303\u001B[0m \u001B[43m                                                         \u001B[49m\u001B[43mhome_advantage\u001B[49m\u001B[43m,\u001B[49m\n\u001B[1;32m    304\u001B[0m \u001B[43m                                                         \u001B[49m\u001B[43moutcome\u001B[49m\u001B[43m,\u001B[49m\n\u001B[1;32m    305\u001B[0m \u001B[43m                                                         \u001B[49m\u001B[43mskellam_draw_probability\u001B[49m\u001B[43m)\u001B[49m\n\u001B[1;32m    307\u001B[0m \u001B[38;5;28;01mreturn\u001B[39;00m log_loss_value\n",
      "File \u001B[0;32m~/PycharmProjects/GlickoSoccer/glicko2.py:224\u001B[0m, in \u001B[0;36mGlicko2.rate\u001B[0;34m(self, home_rating, away_rating, advantage, outcome, skellam_draw_probability)\u001B[0m\n\u001B[1;32m    221\u001B[0m \u001B[38;5;28;01melse\u001B[39;00m:\n\u001B[1;32m    222\u001B[0m     new_increased_home_rating \u001B[38;5;241m=\u001B[39m \u001B[38;5;28mself\u001B[39m\u001B[38;5;241m.\u001B[39m_update_rating(increased_home_rating, decreased_away_rating, \u001B[38;5;241m0\u001B[39m,\n\u001B[1;32m    223\u001B[0m                                                     skellam_draw_probability)\n\u001B[0;32m--> 224\u001B[0m     new_decreased_away_rating \u001B[38;5;241m=\u001B[39m \u001B[38;5;28;43mself\u001B[39;49m\u001B[38;5;241;43m.\u001B[39;49m\u001B[43m_update_rating\u001B[49m\u001B[43m(\u001B[49m\u001B[43mdecreased_away_rating\u001B[49m\u001B[43m,\u001B[49m\u001B[43m \u001B[49m\u001B[43mincreased_home_rating\u001B[49m\u001B[43m,\u001B[49m\u001B[43m \u001B[49m\u001B[38;5;241;43m1\u001B[39;49m\u001B[43m,\u001B[49m\n\u001B[1;32m    225\u001B[0m \u001B[43m                                                    \u001B[49m\u001B[43mskellam_draw_probability\u001B[49m\u001B[43m)\u001B[49m\n\u001B[1;32m    227\u001B[0m \u001B[38;5;66;03m# subtract advantage\u001B[39;00m\n\u001B[1;32m    228\u001B[0m updated_home_rating \u001B[38;5;241m=\u001B[39m \u001B[38;5;28mself\u001B[39m\u001B[38;5;241m.\u001B[39m_increase_mu(new_increased_home_rating, \u001B[38;5;241m-\u001B[39madvantage)\n",
      "File \u001B[0;32m~/PycharmProjects/GlickoSoccer/glicko2.py:163\u001B[0m, in \u001B[0;36mGlicko2._update_rating\u001B[0;34m(self, rating, rating_opp, outcome, skellam_draw_probability)\u001B[0m\n\u001B[1;32m    155\u001B[0m \u001B[38;5;124;03m\"\"\"\u001B[39;00m\n\u001B[1;32m    156\u001B[0m \u001B[38;5;124;03m    Run all steps.\u001B[39;00m\n\u001B[1;32m    157\u001B[0m \u001B[38;5;124;03m    Step 6. Update the rating deviation to the new pre-rating period value, φ*.\u001B[39;00m\n\u001B[1;32m    158\u001B[0m \u001B[38;5;124;03m    Step 7. Update the rating and RD to the new values, µ' and φ'.\u001B[39;00m\n\u001B[1;32m    159\u001B[0m \u001B[38;5;124;03m    Step 8. Convert ratings and RD’s back to original scale\u001B[39;00m\n\u001B[1;32m    160\u001B[0m \u001B[38;5;124;03m\"\"\"\u001B[39;00m\n\u001B[1;32m    162\u001B[0m rating \u001B[38;5;241m=\u001B[39m \u001B[38;5;28mself\u001B[39m\u001B[38;5;241m.\u001B[39m_convert_into_glicko2(rating)\n\u001B[0;32m--> 163\u001B[0m rating_opp \u001B[38;5;241m=\u001B[39m \u001B[38;5;28;43mself\u001B[39;49m\u001B[38;5;241;43m.\u001B[39;49m\u001B[43m_convert_into_glicko2\u001B[49m\u001B[43m(\u001B[49m\u001B[43mrating_opp\u001B[49m\u001B[43m)\u001B[49m\n\u001B[1;32m    165\u001B[0m mu \u001B[38;5;241m=\u001B[39m rating\u001B[38;5;241m.\u001B[39mmu\n\u001B[1;32m    166\u001B[0m phi \u001B[38;5;241m=\u001B[39m rating\u001B[38;5;241m.\u001B[39mrd\n",
      "File \u001B[0;32m~/PycharmProjects/GlickoSoccer/glicko2.py:33\u001B[0m, in \u001B[0;36mGlicko2._convert_into_glicko2\u001B[0;34m(self, rating)\u001B[0m\n\u001B[1;32m     31\u001B[0m mu \u001B[38;5;241m=\u001B[39m ((rating\u001B[38;5;241m.\u001B[39mmu \u001B[38;5;241m-\u001B[39m \u001B[38;5;28mself\u001B[39m\u001B[38;5;241m.\u001B[39mmu) \u001B[38;5;241m*\u001B[39m \u001B[38;5;28mself\u001B[39m\u001B[38;5;241m.\u001B[39mq)\n\u001B[1;32m     32\u001B[0m phi \u001B[38;5;241m=\u001B[39m (rating\u001B[38;5;241m.\u001B[39mrd \u001B[38;5;241m*\u001B[39m \u001B[38;5;28mself\u001B[39m\u001B[38;5;241m.\u001B[39mq)\n\u001B[0;32m---> 33\u001B[0m \u001B[38;5;28;01mreturn\u001B[39;00m \u001B[43mRating\u001B[49m\u001B[43m(\u001B[49m\u001B[43mmu\u001B[49m\u001B[43m,\u001B[49m\u001B[43m \u001B[49m\u001B[43mphi\u001B[49m\u001B[43m,\u001B[49m\u001B[43m \u001B[49m\u001B[43mrating\u001B[49m\u001B[38;5;241;43m.\u001B[39;49m\u001B[43mvolatility\u001B[49m\u001B[43m)\u001B[49m\n",
      "File \u001B[0;32m<string>:2\u001B[0m, in \u001B[0;36m__init__\u001B[0;34m(self, mu, rd, volatility)\u001B[0m\n",
      "\u001B[0;31mKeyboardInterrupt\u001B[0m: "
     ]
    }
   ],
   "source": [
    "glicko = GlickoSoccer()  #\n",
    "league_params = glicko.fit_params(matches, 1, is_params_initialization=True)"
   ]
  },
  {
   "cell_type": "markdown",
   "source": [],
   "metadata": {
    "collapsed": false,
    "pycharm": {
     "name": "#%% md\n"
    }
   }
  },
  {
   "cell_type": "markdown",
   "source": [],
   "metadata": {
    "collapsed": false,
    "pycharm": {
     "name": "#%% md\n"
    }
   }
  },
  {
   "cell_type": "markdown",
   "source": [],
   "metadata": {
    "collapsed": false,
    "pycharm": {
     "name": "#%% md\n"
    }
   }
  },
  {
   "cell_type": "code",
   "execution_count": null,
   "outputs": [],
   "source": [],
   "metadata": {
    "collapsed": false,
    "pycharm": {
     "name": "#%%\n"
    }
   }
  },
  {
   "cell_type": "code",
   "execution_count": null,
   "outputs": [],
   "source": [],
   "metadata": {
    "collapsed": false,
    "pycharm": {
     "name": "#%%\n"
    }
   }
  },
  {
   "cell_type": "code",
   "execution_count": null,
   "outputs": [],
   "source": [],
   "metadata": {
    "collapsed": false,
    "pycharm": {
     "name": "#%%\n"
    }
   }
  },
  {
   "cell_type": "code",
   "execution_count": null,
   "outputs": [],
   "source": [],
   "metadata": {
    "collapsed": false,
    "pycharm": {
     "name": "#%%\n"
    }
   }
  },
  {
   "cell_type": "code",
   "execution_count": null,
   "outputs": [],
   "source": [],
   "metadata": {
    "collapsed": false,
    "pycharm": {
     "name": "#%%\n"
    }
   }
  },
  {
   "cell_type": "code",
   "execution_count": null,
   "outputs": [],
   "source": [],
   "metadata": {
    "collapsed": false,
    "pycharm": {
     "name": "#%%\n"
    }
   }
  },
  {
   "cell_type": "markdown",
   "source": [],
   "metadata": {
    "collapsed": false,
    "pycharm": {
     "name": "#%% md\n"
    }
   }
  },
  {
   "cell_type": "markdown",
   "id": "c0b250f0",
   "metadata": {
    "pycharm": {
     "name": "#%% md\n"
    }
   },
   "source": [
    "# Ratings"
   ]
  },
  {
   "cell_type": "code",
   "execution_count": 54,
   "id": "4cd7df5b",
   "metadata": {
    "ExecuteTime": {
     "end_time": "2021-10-31T06:24:00.223216Z",
     "start_time": "2021-10-31T06:23:57.642851Z"
    },
    "scrolled": false,
    "pycharm": {
     "name": "#%%\n"
    }
   },
   "outputs": [
    {
     "data": {
      "text/plain": "       #                          league  rating\n0      1                  England. First  1889.1\n1      2                    Italy. First  1867.3\n2      3                    Spain. First  1849.4\n3      4                  Germany. First  1827.0\n4      5                   Cyprus. First  1801.3\n5      6                 Portugal. First  1778.8\n6      7                   France. First  1778.7\n7      8           Czech Republic. First  1777.4\n8      9         Northern Ireland. First  1775.1\n9     10                 Bulgaria. First  1773.3\n10    11                   Russia. First  1769.4\n11    12                   Norway. First  1768.8\n12    13                   Sweden. First  1763.3\n13    14                   Brazil. First  1756.7\n14    15              Netherlands. First  1755.9\n15    16                  Denmark. First  1752.5\n16    17                   Serbia. First  1752.4\n17    18                  Belgium. First  1748.0\n18    19                  Belarus. First  1747.6\n19    20                  Albania. First  1747.1\n20    21                   Turkey. First  1740.3\n21    22                  Croatia. First  1740.1\n22    23          North Macedonia. First  1734.7\n23    24   Bosnia And Herzegovina. First  1727.2\n24    25                  Finland. First  1720.7\n25    26                  Estonia. First  1718.5\n26    27               Luxembourg. First  1718.0\n27    28                  Austria. First  1713.4\n28    29                 Scotland. First  1711.0\n29    30                    Malta. First  1706.0\n30    31                  Romania. First  1703.9\n31    32                  Iceland. First  1697.0\n32    33                   Poland. First  1685.6\n33    34                Lithuania. First  1684.8\n34    35                 Slovakia. First  1679.5\n35    36                 Slovenia. First  1679.1\n36    37              Switzerland. First  1677.7\n37    38                  Hungary. First  1675.9\n38    39                  Georgia. First  1672.5\n39    40                   Greece. First  1671.4\n40    41                   Latvia. First  1670.9\n41    42                  Ireland. First  1656.0\n42    43               Kazakhstan. First  1652.3\n43    44                   Israel. First  1650.6\n44    45                  Uruguay. First  1644.3\n45    46                 Paraguay. First  1643.9\n46    47                  Ecuador. First  1641.2\n47    48            Faroe Islands. First  1638.1\n48    49                 Colombia. First  1636.1\n49    50                   Kosovo. First  1629.9\n50    51                     Peru. First  1629.2\n51    52                  Andorra. First  1612.3\n52    53                  Moldova. First  1610.3\n53    54               Montenegro. First  1608.0\n54    55                    Wales. First  1607.9\n55    56                  Armenia. First  1596.7\n56    57                    Chile. First  1591.3\n57    58                  Bolivia. First  1584.5\n58    59               Azerbaijan. First  1581.0\n59    60                Venezuela. First  1577.9\n60    61                Argentina. First  1559.5\n61    62                 Germany. Second  1547.1\n62    63                Gibraltar. First  1539.7\n63    64                 England. Second  1539.0\n64    65               San Marino. First  1537.3\n65    66                  Ukraine. First  1535.3\n66    67  Bosnia And Herzegovina. Second  1530.7\n67    68                  Brazil. Second  1523.3\n68    69                   Spain. Second  1515.0\n69    70              Azerbaijan. Second  1511.5\n70    71                  France. Second  1510.4\n71    72                  Turkey. Second  1509.8\n72    73                 Denmark. Second  1509.3\n73    74                  Poland. Second  1509.3\n74    75                Bulgaria. Second  1508.0\n75    76                 Albania. Second  1503.3\n76    77                  Russia. Second  1500.8\n77    78                  Sweden. Second  1499.8\n78    79                 Hungary. Second  1499.3\n79    80                   Malta. Second  1498.5\n80    81                   Italy. Second  1497.7\n81    82                 Croatia. Second  1492.7\n82    83         North Macedonia. Second  1490.0\n83    84                  Israel. Second  1486.8\n84    85                  Serbia. Second  1483.9\n85    86                  Norway. Second  1483.9\n86    87                 Finland. Second  1483.7\n87    88          Czech Republic. Second  1483.2\n88    89                Slovenia. Second  1482.7\n89    90                 Estonia. Second  1478.0\n90    91                 Romania. Second  1476.8\n91    92                 Georgia. Second  1475.6\n92    93                Scotland. Second  1469.0\n93    94                  Greece. Second  1466.2\n94    95                 Austria. Second  1464.2\n95    96             Switzerland. Second  1456.3\n96    97                Portugal. Second  1454.0\n97    98                 Belgium. Second  1453.9\n98    99                  Cyprus. Second  1446.6\n99   100                Slovakia. Second  1446.1\n100  101               Argentina. Second  1443.1\n101  102                 Ukraine. Second  1443.0\n102  103                 Belarus. Second  1432.7\n103  104                 Iceland. Second  1426.4\n104  105        Northern Ireland. Second  1418.4\n105  106                 Armenia. Second  1404.5\n106  107             Netherlands. Second  1400.1\n107  108               Lithuania. Second  1398.0\n108  109           Faroe Islands. Second  1396.0\n109  110              Kazakhstan. Second  1383.8\n110  111                  Latvia. Second  1379.0\n111  112                 Ireland. Second  1309.2",
      "text/html": "<div>\n<style scoped>\n    .dataframe tbody tr th:only-of-type {\n        vertical-align: middle;\n    }\n\n    .dataframe tbody tr th {\n        vertical-align: top;\n    }\n\n    .dataframe thead th {\n        text-align: right;\n    }\n</style>\n<table border=\"1\" class=\"dataframe\">\n  <thead>\n    <tr style=\"text-align: right;\">\n      <th></th>\n      <th>#</th>\n      <th>league</th>\n      <th>rating</th>\n    </tr>\n  </thead>\n  <tbody>\n    <tr>\n      <th>0</th>\n      <td>1</td>\n      <td>England. First</td>\n      <td>1889.1</td>\n    </tr>\n    <tr>\n      <th>1</th>\n      <td>2</td>\n      <td>Italy. First</td>\n      <td>1867.3</td>\n    </tr>\n    <tr>\n      <th>2</th>\n      <td>3</td>\n      <td>Spain. First</td>\n      <td>1849.4</td>\n    </tr>\n    <tr>\n      <th>3</th>\n      <td>4</td>\n      <td>Germany. First</td>\n      <td>1827.0</td>\n    </tr>\n    <tr>\n      <th>4</th>\n      <td>5</td>\n      <td>Cyprus. First</td>\n      <td>1801.3</td>\n    </tr>\n    <tr>\n      <th>5</th>\n      <td>6</td>\n      <td>Portugal. First</td>\n      <td>1778.8</td>\n    </tr>\n    <tr>\n      <th>6</th>\n      <td>7</td>\n      <td>France. First</td>\n      <td>1778.7</td>\n    </tr>\n    <tr>\n      <th>7</th>\n      <td>8</td>\n      <td>Czech Republic. First</td>\n      <td>1777.4</td>\n    </tr>\n    <tr>\n      <th>8</th>\n      <td>9</td>\n      <td>Northern Ireland. First</td>\n      <td>1775.1</td>\n    </tr>\n    <tr>\n      <th>9</th>\n      <td>10</td>\n      <td>Bulgaria. First</td>\n      <td>1773.3</td>\n    </tr>\n    <tr>\n      <th>10</th>\n      <td>11</td>\n      <td>Russia. First</td>\n      <td>1769.4</td>\n    </tr>\n    <tr>\n      <th>11</th>\n      <td>12</td>\n      <td>Norway. First</td>\n      <td>1768.8</td>\n    </tr>\n    <tr>\n      <th>12</th>\n      <td>13</td>\n      <td>Sweden. First</td>\n      <td>1763.3</td>\n    </tr>\n    <tr>\n      <th>13</th>\n      <td>14</td>\n      <td>Brazil. First</td>\n      <td>1756.7</td>\n    </tr>\n    <tr>\n      <th>14</th>\n      <td>15</td>\n      <td>Netherlands. First</td>\n      <td>1755.9</td>\n    </tr>\n    <tr>\n      <th>15</th>\n      <td>16</td>\n      <td>Denmark. First</td>\n      <td>1752.5</td>\n    </tr>\n    <tr>\n      <th>16</th>\n      <td>17</td>\n      <td>Serbia. First</td>\n      <td>1752.4</td>\n    </tr>\n    <tr>\n      <th>17</th>\n      <td>18</td>\n      <td>Belgium. First</td>\n      <td>1748.0</td>\n    </tr>\n    <tr>\n      <th>18</th>\n      <td>19</td>\n      <td>Belarus. First</td>\n      <td>1747.6</td>\n    </tr>\n    <tr>\n      <th>19</th>\n      <td>20</td>\n      <td>Albania. First</td>\n      <td>1747.1</td>\n    </tr>\n    <tr>\n      <th>20</th>\n      <td>21</td>\n      <td>Turkey. First</td>\n      <td>1740.3</td>\n    </tr>\n    <tr>\n      <th>21</th>\n      <td>22</td>\n      <td>Croatia. First</td>\n      <td>1740.1</td>\n    </tr>\n    <tr>\n      <th>22</th>\n      <td>23</td>\n      <td>North Macedonia. First</td>\n      <td>1734.7</td>\n    </tr>\n    <tr>\n      <th>23</th>\n      <td>24</td>\n      <td>Bosnia And Herzegovina. First</td>\n      <td>1727.2</td>\n    </tr>\n    <tr>\n      <th>24</th>\n      <td>25</td>\n      <td>Finland. First</td>\n      <td>1720.7</td>\n    </tr>\n    <tr>\n      <th>25</th>\n      <td>26</td>\n      <td>Estonia. First</td>\n      <td>1718.5</td>\n    </tr>\n    <tr>\n      <th>26</th>\n      <td>27</td>\n      <td>Luxembourg. First</td>\n      <td>1718.0</td>\n    </tr>\n    <tr>\n      <th>27</th>\n      <td>28</td>\n      <td>Austria. First</td>\n      <td>1713.4</td>\n    </tr>\n    <tr>\n      <th>28</th>\n      <td>29</td>\n      <td>Scotland. First</td>\n      <td>1711.0</td>\n    </tr>\n    <tr>\n      <th>29</th>\n      <td>30</td>\n      <td>Malta. First</td>\n      <td>1706.0</td>\n    </tr>\n    <tr>\n      <th>30</th>\n      <td>31</td>\n      <td>Romania. First</td>\n      <td>1703.9</td>\n    </tr>\n    <tr>\n      <th>31</th>\n      <td>32</td>\n      <td>Iceland. First</td>\n      <td>1697.0</td>\n    </tr>\n    <tr>\n      <th>32</th>\n      <td>33</td>\n      <td>Poland. First</td>\n      <td>1685.6</td>\n    </tr>\n    <tr>\n      <th>33</th>\n      <td>34</td>\n      <td>Lithuania. First</td>\n      <td>1684.8</td>\n    </tr>\n    <tr>\n      <th>34</th>\n      <td>35</td>\n      <td>Slovakia. First</td>\n      <td>1679.5</td>\n    </tr>\n    <tr>\n      <th>35</th>\n      <td>36</td>\n      <td>Slovenia. First</td>\n      <td>1679.1</td>\n    </tr>\n    <tr>\n      <th>36</th>\n      <td>37</td>\n      <td>Switzerland. First</td>\n      <td>1677.7</td>\n    </tr>\n    <tr>\n      <th>37</th>\n      <td>38</td>\n      <td>Hungary. First</td>\n      <td>1675.9</td>\n    </tr>\n    <tr>\n      <th>38</th>\n      <td>39</td>\n      <td>Georgia. First</td>\n      <td>1672.5</td>\n    </tr>\n    <tr>\n      <th>39</th>\n      <td>40</td>\n      <td>Greece. First</td>\n      <td>1671.4</td>\n    </tr>\n    <tr>\n      <th>40</th>\n      <td>41</td>\n      <td>Latvia. First</td>\n      <td>1670.9</td>\n    </tr>\n    <tr>\n      <th>41</th>\n      <td>42</td>\n      <td>Ireland. First</td>\n      <td>1656.0</td>\n    </tr>\n    <tr>\n      <th>42</th>\n      <td>43</td>\n      <td>Kazakhstan. First</td>\n      <td>1652.3</td>\n    </tr>\n    <tr>\n      <th>43</th>\n      <td>44</td>\n      <td>Israel. First</td>\n      <td>1650.6</td>\n    </tr>\n    <tr>\n      <th>44</th>\n      <td>45</td>\n      <td>Uruguay. First</td>\n      <td>1644.3</td>\n    </tr>\n    <tr>\n      <th>45</th>\n      <td>46</td>\n      <td>Paraguay. First</td>\n      <td>1643.9</td>\n    </tr>\n    <tr>\n      <th>46</th>\n      <td>47</td>\n      <td>Ecuador. First</td>\n      <td>1641.2</td>\n    </tr>\n    <tr>\n      <th>47</th>\n      <td>48</td>\n      <td>Faroe Islands. First</td>\n      <td>1638.1</td>\n    </tr>\n    <tr>\n      <th>48</th>\n      <td>49</td>\n      <td>Colombia. First</td>\n      <td>1636.1</td>\n    </tr>\n    <tr>\n      <th>49</th>\n      <td>50</td>\n      <td>Kosovo. First</td>\n      <td>1629.9</td>\n    </tr>\n    <tr>\n      <th>50</th>\n      <td>51</td>\n      <td>Peru. First</td>\n      <td>1629.2</td>\n    </tr>\n    <tr>\n      <th>51</th>\n      <td>52</td>\n      <td>Andorra. First</td>\n      <td>1612.3</td>\n    </tr>\n    <tr>\n      <th>52</th>\n      <td>53</td>\n      <td>Moldova. First</td>\n      <td>1610.3</td>\n    </tr>\n    <tr>\n      <th>53</th>\n      <td>54</td>\n      <td>Montenegro. First</td>\n      <td>1608.0</td>\n    </tr>\n    <tr>\n      <th>54</th>\n      <td>55</td>\n      <td>Wales. First</td>\n      <td>1607.9</td>\n    </tr>\n    <tr>\n      <th>55</th>\n      <td>56</td>\n      <td>Armenia. First</td>\n      <td>1596.7</td>\n    </tr>\n    <tr>\n      <th>56</th>\n      <td>57</td>\n      <td>Chile. First</td>\n      <td>1591.3</td>\n    </tr>\n    <tr>\n      <th>57</th>\n      <td>58</td>\n      <td>Bolivia. First</td>\n      <td>1584.5</td>\n    </tr>\n    <tr>\n      <th>58</th>\n      <td>59</td>\n      <td>Azerbaijan. First</td>\n      <td>1581.0</td>\n    </tr>\n    <tr>\n      <th>59</th>\n      <td>60</td>\n      <td>Venezuela. First</td>\n      <td>1577.9</td>\n    </tr>\n    <tr>\n      <th>60</th>\n      <td>61</td>\n      <td>Argentina. First</td>\n      <td>1559.5</td>\n    </tr>\n    <tr>\n      <th>61</th>\n      <td>62</td>\n      <td>Germany. Second</td>\n      <td>1547.1</td>\n    </tr>\n    <tr>\n      <th>62</th>\n      <td>63</td>\n      <td>Gibraltar. First</td>\n      <td>1539.7</td>\n    </tr>\n    <tr>\n      <th>63</th>\n      <td>64</td>\n      <td>England. Second</td>\n      <td>1539.0</td>\n    </tr>\n    <tr>\n      <th>64</th>\n      <td>65</td>\n      <td>San Marino. First</td>\n      <td>1537.3</td>\n    </tr>\n    <tr>\n      <th>65</th>\n      <td>66</td>\n      <td>Ukraine. First</td>\n      <td>1535.3</td>\n    </tr>\n    <tr>\n      <th>66</th>\n      <td>67</td>\n      <td>Bosnia And Herzegovina. Second</td>\n      <td>1530.7</td>\n    </tr>\n    <tr>\n      <th>67</th>\n      <td>68</td>\n      <td>Brazil. Second</td>\n      <td>1523.3</td>\n    </tr>\n    <tr>\n      <th>68</th>\n      <td>69</td>\n      <td>Spain. Second</td>\n      <td>1515.0</td>\n    </tr>\n    <tr>\n      <th>69</th>\n      <td>70</td>\n      <td>Azerbaijan. Second</td>\n      <td>1511.5</td>\n    </tr>\n    <tr>\n      <th>70</th>\n      <td>71</td>\n      <td>France. Second</td>\n      <td>1510.4</td>\n    </tr>\n    <tr>\n      <th>71</th>\n      <td>72</td>\n      <td>Turkey. Second</td>\n      <td>1509.8</td>\n    </tr>\n    <tr>\n      <th>72</th>\n      <td>73</td>\n      <td>Denmark. Second</td>\n      <td>1509.3</td>\n    </tr>\n    <tr>\n      <th>73</th>\n      <td>74</td>\n      <td>Poland. Second</td>\n      <td>1509.3</td>\n    </tr>\n    <tr>\n      <th>74</th>\n      <td>75</td>\n      <td>Bulgaria. Second</td>\n      <td>1508.0</td>\n    </tr>\n    <tr>\n      <th>75</th>\n      <td>76</td>\n      <td>Albania. Second</td>\n      <td>1503.3</td>\n    </tr>\n    <tr>\n      <th>76</th>\n      <td>77</td>\n      <td>Russia. Second</td>\n      <td>1500.8</td>\n    </tr>\n    <tr>\n      <th>77</th>\n      <td>78</td>\n      <td>Sweden. Second</td>\n      <td>1499.8</td>\n    </tr>\n    <tr>\n      <th>78</th>\n      <td>79</td>\n      <td>Hungary. Second</td>\n      <td>1499.3</td>\n    </tr>\n    <tr>\n      <th>79</th>\n      <td>80</td>\n      <td>Malta. Second</td>\n      <td>1498.5</td>\n    </tr>\n    <tr>\n      <th>80</th>\n      <td>81</td>\n      <td>Italy. Second</td>\n      <td>1497.7</td>\n    </tr>\n    <tr>\n      <th>81</th>\n      <td>82</td>\n      <td>Croatia. Second</td>\n      <td>1492.7</td>\n    </tr>\n    <tr>\n      <th>82</th>\n      <td>83</td>\n      <td>North Macedonia. Second</td>\n      <td>1490.0</td>\n    </tr>\n    <tr>\n      <th>83</th>\n      <td>84</td>\n      <td>Israel. Second</td>\n      <td>1486.8</td>\n    </tr>\n    <tr>\n      <th>84</th>\n      <td>85</td>\n      <td>Serbia. Second</td>\n      <td>1483.9</td>\n    </tr>\n    <tr>\n      <th>85</th>\n      <td>86</td>\n      <td>Norway. Second</td>\n      <td>1483.9</td>\n    </tr>\n    <tr>\n      <th>86</th>\n      <td>87</td>\n      <td>Finland. Second</td>\n      <td>1483.7</td>\n    </tr>\n    <tr>\n      <th>87</th>\n      <td>88</td>\n      <td>Czech Republic. Second</td>\n      <td>1483.2</td>\n    </tr>\n    <tr>\n      <th>88</th>\n      <td>89</td>\n      <td>Slovenia. Second</td>\n      <td>1482.7</td>\n    </tr>\n    <tr>\n      <th>89</th>\n      <td>90</td>\n      <td>Estonia. Second</td>\n      <td>1478.0</td>\n    </tr>\n    <tr>\n      <th>90</th>\n      <td>91</td>\n      <td>Romania. Second</td>\n      <td>1476.8</td>\n    </tr>\n    <tr>\n      <th>91</th>\n      <td>92</td>\n      <td>Georgia. Second</td>\n      <td>1475.6</td>\n    </tr>\n    <tr>\n      <th>92</th>\n      <td>93</td>\n      <td>Scotland. Second</td>\n      <td>1469.0</td>\n    </tr>\n    <tr>\n      <th>93</th>\n      <td>94</td>\n      <td>Greece. Second</td>\n      <td>1466.2</td>\n    </tr>\n    <tr>\n      <th>94</th>\n      <td>95</td>\n      <td>Austria. Second</td>\n      <td>1464.2</td>\n    </tr>\n    <tr>\n      <th>95</th>\n      <td>96</td>\n      <td>Switzerland. Second</td>\n      <td>1456.3</td>\n    </tr>\n    <tr>\n      <th>96</th>\n      <td>97</td>\n      <td>Portugal. Second</td>\n      <td>1454.0</td>\n    </tr>\n    <tr>\n      <th>97</th>\n      <td>98</td>\n      <td>Belgium. Second</td>\n      <td>1453.9</td>\n    </tr>\n    <tr>\n      <th>98</th>\n      <td>99</td>\n      <td>Cyprus. Second</td>\n      <td>1446.6</td>\n    </tr>\n    <tr>\n      <th>99</th>\n      <td>100</td>\n      <td>Slovakia. Second</td>\n      <td>1446.1</td>\n    </tr>\n    <tr>\n      <th>100</th>\n      <td>101</td>\n      <td>Argentina. Second</td>\n      <td>1443.1</td>\n    </tr>\n    <tr>\n      <th>101</th>\n      <td>102</td>\n      <td>Ukraine. Second</td>\n      <td>1443.0</td>\n    </tr>\n    <tr>\n      <th>102</th>\n      <td>103</td>\n      <td>Belarus. Second</td>\n      <td>1432.7</td>\n    </tr>\n    <tr>\n      <th>103</th>\n      <td>104</td>\n      <td>Iceland. Second</td>\n      <td>1426.4</td>\n    </tr>\n    <tr>\n      <th>104</th>\n      <td>105</td>\n      <td>Northern Ireland. Second</td>\n      <td>1418.4</td>\n    </tr>\n    <tr>\n      <th>105</th>\n      <td>106</td>\n      <td>Armenia. Second</td>\n      <td>1404.5</td>\n    </tr>\n    <tr>\n      <th>106</th>\n      <td>107</td>\n      <td>Netherlands. Second</td>\n      <td>1400.1</td>\n    </tr>\n    <tr>\n      <th>107</th>\n      <td>108</td>\n      <td>Lithuania. Second</td>\n      <td>1398.0</td>\n    </tr>\n    <tr>\n      <th>108</th>\n      <td>109</td>\n      <td>Faroe Islands. Second</td>\n      <td>1396.0</td>\n    </tr>\n    <tr>\n      <th>109</th>\n      <td>110</td>\n      <td>Kazakhstan. Second</td>\n      <td>1383.8</td>\n    </tr>\n    <tr>\n      <th>110</th>\n      <td>111</td>\n      <td>Latvia. Second</td>\n      <td>1379.0</td>\n    </tr>\n    <tr>\n      <th>111</th>\n      <td>112</td>\n      <td>Ireland. Second</td>\n      <td>1309.2</td>\n    </tr>\n  </tbody>\n</table>\n</div>"
     },
     "execution_count": 54,
     "metadata": {},
     "output_type": "execute_result"
    }
   ],
   "source": [
    "glicko = GlickoSoccer()\n",
    "league_params = joblib.load('data/league_params.pkl')\n",
    "ratings = glicko.rate_teams(matches, league_params)\n",
    "ratings = glicko.ratings_to_df(ratings, matches)\n",
    "leagues_ratings = glicko.league_ratings(ratings, number_top_teams=10)\n",
    "leagues_ratings"
   ]
  },
  {
   "cell_type": "code",
   "execution_count": null,
   "outputs": [],
   "source": [
    "pd.concat([leagues_ratings[0:25].reset_index(drop=True),\n",
    "           leagues_ratings[25:50].reset_index(drop=True)], axis=1)"
   ],
   "metadata": {
    "collapsed": false,
    "pycharm": {
     "name": "#%%\n"
    }
   }
  },
  {
   "cell_type": "code",
   "execution_count": null,
   "outputs": [],
   "source": [
    "pd.concat([leagues_ratings[50:74].reset_index(drop=True),\n",
    "           leagues_ratings[74:].reset_index(drop=True)], axis=1)"
   ],
   "metadata": {
    "collapsed": false,
    "pycharm": {
     "name": "#%%\n"
    }
   }
  },
  {
   "cell_type": "code",
   "execution_count": 55,
   "outputs": [
    {
     "data": {
      "text/plain": "         #             team  rating             league\n0        1    Crvena zvezda  2149.7      Serbia. First\n1        2  Manchester City  2118.9     England. First\n2        3            Flora  2115.8     Estonia. First\n3        4         FC Porto  2111.1    Portugal. First\n4        5          Levadia  2060.6     Estonia. First\n...    ...              ...     ...                ...\n2781  2782   Saldus/Brocenu  1090.9                NaN\n2782  2783      Aktobe Zhas  1078.1                NaN\n2783  2784           Cosmos  1059.4  San Marino. First\n2784  2785            Balvu  1052.5                NaN\n2785  2786         Plavinas  1043.8                NaN\n\n[2786 rows x 4 columns]",
      "text/html": "<div>\n<style scoped>\n    .dataframe tbody tr th:only-of-type {\n        vertical-align: middle;\n    }\n\n    .dataframe tbody tr th {\n        vertical-align: top;\n    }\n\n    .dataframe thead th {\n        text-align: right;\n    }\n</style>\n<table border=\"1\" class=\"dataframe\">\n  <thead>\n    <tr style=\"text-align: right;\">\n      <th></th>\n      <th>#</th>\n      <th>team</th>\n      <th>rating</th>\n      <th>league</th>\n    </tr>\n  </thead>\n  <tbody>\n    <tr>\n      <th>0</th>\n      <td>1</td>\n      <td>Crvena zvezda</td>\n      <td>2149.7</td>\n      <td>Serbia. First</td>\n    </tr>\n    <tr>\n      <th>1</th>\n      <td>2</td>\n      <td>Manchester City</td>\n      <td>2118.9</td>\n      <td>England. First</td>\n    </tr>\n    <tr>\n      <th>2</th>\n      <td>3</td>\n      <td>Flora</td>\n      <td>2115.8</td>\n      <td>Estonia. First</td>\n    </tr>\n    <tr>\n      <th>3</th>\n      <td>4</td>\n      <td>FC Porto</td>\n      <td>2111.1</td>\n      <td>Portugal. First</td>\n    </tr>\n    <tr>\n      <th>4</th>\n      <td>5</td>\n      <td>Levadia</td>\n      <td>2060.6</td>\n      <td>Estonia. First</td>\n    </tr>\n    <tr>\n      <th>...</th>\n      <td>...</td>\n      <td>...</td>\n      <td>...</td>\n      <td>...</td>\n    </tr>\n    <tr>\n      <th>2781</th>\n      <td>2782</td>\n      <td>Saldus/Brocenu</td>\n      <td>1090.9</td>\n      <td>NaN</td>\n    </tr>\n    <tr>\n      <th>2782</th>\n      <td>2783</td>\n      <td>Aktobe Zhas</td>\n      <td>1078.1</td>\n      <td>NaN</td>\n    </tr>\n    <tr>\n      <th>2783</th>\n      <td>2784</td>\n      <td>Cosmos</td>\n      <td>1059.4</td>\n      <td>San Marino. First</td>\n    </tr>\n    <tr>\n      <th>2784</th>\n      <td>2785</td>\n      <td>Balvu</td>\n      <td>1052.5</td>\n      <td>NaN</td>\n    </tr>\n    <tr>\n      <th>2785</th>\n      <td>2786</td>\n      <td>Plavinas</td>\n      <td>1043.8</td>\n      <td>NaN</td>\n    </tr>\n  </tbody>\n</table>\n<p>2786 rows × 4 columns</p>\n</div>"
     },
     "execution_count": 55,
     "metadata": {},
     "output_type": "execute_result"
    }
   ],
   "source": [
    "ratings"
   ],
   "metadata": {
    "collapsed": false,
    "pycharm": {
     "name": "#%%\n"
    }
   }
  },
  {
   "cell_type": "code",
   "execution_count": null,
   "outputs": [],
   "source": [],
   "metadata": {
    "collapsed": false,
    "pycharm": {
     "name": "#%%\n"
    }
   }
  },
  {
   "cell_type": "code",
   "execution_count": null,
   "outputs": [],
   "source": [],
   "metadata": {
    "collapsed": false,
    "pycharm": {
     "name": "#%%\n"
    }
   }
  },
  {
   "cell_type": "code",
   "execution_count": null,
   "outputs": [],
   "source": [
    "leagues_ratings.to_csv('20.csv', index=False)"
   ],
   "metadata": {
    "collapsed": false,
    "pycharm": {
     "name": "#%%\n"
    }
   }
  },
  {
   "cell_type": "code",
   "execution_count": null,
   "id": "c6157e65",
   "metadata": {
    "pycharm": {
     "name": "#%%\n"
    }
   },
   "outputs": [],
   "source": [
    "ratings.head(50)"
   ]
  },
  {
   "cell_type": "code",
   "execution_count": null,
   "outputs": [],
   "source": [],
   "metadata": {
    "collapsed": false,
    "pycharm": {
     "name": "#%%\n"
    }
   }
  },
  {
   "cell_type": "code",
   "execution_count": null,
   "outputs": [],
   "source": [],
   "metadata": {
    "collapsed": false,
    "pycharm": {
     "name": "#%%\n"
    }
   }
  },
  {
   "cell_type": "code",
   "execution_count": null,
   "outputs": [],
   "source": [],
   "metadata": {
    "collapsed": false,
    "pycharm": {
     "name": "#%%\n"
    }
   }
  },
  {
   "cell_type": "code",
   "execution_count": null,
   "outputs": [],
   "source": [],
   "metadata": {
    "collapsed": false,
    "pycharm": {
     "name": "#%%\n"
    }
   }
  },
  {
   "cell_type": "code",
   "execution_count": null,
   "outputs": [],
   "source": [],
   "metadata": {
    "collapsed": false,
    "pycharm": {
     "name": "#%%\n"
    }
   }
  },
  {
   "cell_type": "code",
   "execution_count": null,
   "outputs": [],
   "source": [],
   "metadata": {
    "collapsed": false,
    "pycharm": {
     "name": "#%%\n"
    }
   }
  },
  {
   "cell_type": "code",
   "execution_count": null,
   "outputs": [],
   "source": [],
   "metadata": {
    "collapsed": false,
    "pycharm": {
     "name": "#%%\n"
    }
   }
  },
  {
   "cell_type": "code",
   "execution_count": null,
   "outputs": [],
   "source": [],
   "metadata": {
    "collapsed": false,
    "pycharm": {
     "name": "#%%\n"
    }
   }
  },
  {
   "cell_type": "code",
   "execution_count": null,
   "outputs": [],
   "source": [],
   "metadata": {
    "collapsed": false,
    "pycharm": {
     "name": "#%%\n"
    }
   }
  },
  {
   "cell_type": "markdown",
   "id": "7ebcdb5e",
   "metadata": {
    "pycharm": {
     "name": "#%% md\n"
    }
   },
   "source": [
    "# Skellam"
   ]
  },
  {
   "cell_type": "code",
   "execution_count": 60,
   "outputs": [
    {
     "data": {
      "text/plain": "(323356, 14)"
     },
     "execution_count": 60,
     "metadata": {},
     "output_type": "execute_result"
    }
   ],
   "source": [
    "matches.shape"
   ],
   "metadata": {
    "collapsed": false,
    "pycharm": {
     "name": "#%%\n"
    }
   }
  },
  {
   "cell_type": "code",
   "execution_count": 62,
   "outputs": [
    {
     "data": {
      "text/plain": "209572    1\n148053    1\n19190     1\n19189     1\n352605    1\n         ..\n235533    1\n191178    1\n191177    1\n9060      1\n107852    1\nName: match_id, Length: 323356, dtype: int64"
     },
     "execution_count": 62,
     "metadata": {},
     "output_type": "execute_result"
    }
   ],
   "source": [
    "matches['match_id'].value_counts()"
   ],
   "metadata": {
    "collapsed": false,
    "pycharm": {
     "name": "#%%\n"
    }
   }
  },
  {
   "cell_type": "markdown",
   "source": [],
   "metadata": {
    "collapsed": false,
    "pycharm": {
     "name": "#%% md\n"
    }
   }
  },
  {
   "cell_type": "code",
   "execution_count": 7,
   "outputs": [],
   "source": [
    "from euro_soccer.outcomes_features import TrainCreator\n",
    "from euro_soccer.outcomes_catboost import OutcomesCatBoost\n",
    "\n",
    "train, validation, test = TrainCreator().train_validation_test(matches)"
   ],
   "metadata": {
    "collapsed": false,
    "pycharm": {
     "name": "#%%\n"
    }
   }
  },
  {
   "cell_type": "code",
   "execution_count": 8,
   "outputs": [
    {
     "data": {
      "text/plain": "            team  opp_team  score  match_id  is_home  avg_scoring_5  \\\n331510  AC Milan  Atalanta      2     59281     True          1.600   \n663550  Atalanta  AC Milan      0     59281    False          2.400   \n\n        avg_scoring_10  avg_scoring_20  avg_scoring_30  avg_scoring_5_against  \\\n331510           1.200           1.450           1.733                  1.800   \n663550           1.500           1.500           1.900                  0.400   \n\n        avg_scoring_10_against  avg_scoring_20_against  \\\n331510                   1.500                   1.300   \n663550                   0.300                   0.650   \n\n        avg_scoring_30_against  season  tournament_type    tournament  \\\n331510                   1.300    2021                1  Italy. First   \n663550                   0.933    2021                1  Italy. First   \n\n        is_pandemic        league    opp_league  location_mean_score_5  \\\n331510            0  Italy. First  Italy. First                  1.000   \n663550            0  Italy. First  Italy. First                  1.600   \n\n        location_mean_score_10  location_mean_score_20  \\\n331510                   1.000                   1.400   \n663550                   1.600                   2.150   \n\n        location_mean_score_30  location_median_score_5  \\\n331510                   1.267                    1.000   \n663550                   1.900                    1.000   \n\n        location_median_score_10  location_median_score_20  \\\n331510                     1.000                     1.000   \n663550                     1.000                     2.000   \n\n        location_median_score_30  location_mean_score_5_against  \\\n331510                     1.000                          0.200   \n663550                     2.000                          1.000   \n\n        location_mean_score_10_against  location_mean_score_20_against  \\\n331510                           0.500                           0.600   \n663550                           0.900                           1.100   \n\n        location_median_score_10_against  location_max_score_10  \n331510                             0.000                  3.000  \n663550                             1.000                  6.000  ",
      "text/html": "<div>\n<style scoped>\n    .dataframe tbody tr th:only-of-type {\n        vertical-align: middle;\n    }\n\n    .dataframe tbody tr th {\n        vertical-align: top;\n    }\n\n    .dataframe thead th {\n        text-align: right;\n    }\n</style>\n<table border=\"1\" class=\"dataframe\">\n  <thead>\n    <tr style=\"text-align: right;\">\n      <th></th>\n      <th>team</th>\n      <th>opp_team</th>\n      <th>score</th>\n      <th>match_id</th>\n      <th>is_home</th>\n      <th>avg_scoring_5</th>\n      <th>avg_scoring_10</th>\n      <th>avg_scoring_20</th>\n      <th>avg_scoring_30</th>\n      <th>avg_scoring_5_against</th>\n      <th>avg_scoring_10_against</th>\n      <th>avg_scoring_20_against</th>\n      <th>avg_scoring_30_against</th>\n      <th>season</th>\n      <th>tournament_type</th>\n      <th>tournament</th>\n      <th>is_pandemic</th>\n      <th>league</th>\n      <th>opp_league</th>\n      <th>location_mean_score_5</th>\n      <th>location_mean_score_10</th>\n      <th>location_mean_score_20</th>\n      <th>location_mean_score_30</th>\n      <th>location_median_score_5</th>\n      <th>location_median_score_10</th>\n      <th>location_median_score_20</th>\n      <th>location_median_score_30</th>\n      <th>location_mean_score_5_against</th>\n      <th>location_mean_score_10_against</th>\n      <th>location_mean_score_20_against</th>\n      <th>location_median_score_10_against</th>\n      <th>location_max_score_10</th>\n    </tr>\n  </thead>\n  <tbody>\n    <tr>\n      <th>331510</th>\n      <td>AC Milan</td>\n      <td>Atalanta</td>\n      <td>2</td>\n      <td>59281</td>\n      <td>True</td>\n      <td>1.600</td>\n      <td>1.200</td>\n      <td>1.450</td>\n      <td>1.733</td>\n      <td>1.800</td>\n      <td>1.500</td>\n      <td>1.300</td>\n      <td>1.300</td>\n      <td>2021</td>\n      <td>1</td>\n      <td>Italy. First</td>\n      <td>0</td>\n      <td>Italy. First</td>\n      <td>Italy. First</td>\n      <td>1.000</td>\n      <td>1.000</td>\n      <td>1.400</td>\n      <td>1.267</td>\n      <td>1.000</td>\n      <td>1.000</td>\n      <td>1.000</td>\n      <td>1.000</td>\n      <td>0.200</td>\n      <td>0.500</td>\n      <td>0.600</td>\n      <td>0.000</td>\n      <td>3.000</td>\n    </tr>\n    <tr>\n      <th>663550</th>\n      <td>Atalanta</td>\n      <td>AC Milan</td>\n      <td>0</td>\n      <td>59281</td>\n      <td>False</td>\n      <td>2.400</td>\n      <td>1.500</td>\n      <td>1.500</td>\n      <td>1.900</td>\n      <td>0.400</td>\n      <td>0.300</td>\n      <td>0.650</td>\n      <td>0.933</td>\n      <td>2021</td>\n      <td>1</td>\n      <td>Italy. First</td>\n      <td>0</td>\n      <td>Italy. First</td>\n      <td>Italy. First</td>\n      <td>1.600</td>\n      <td>1.600</td>\n      <td>2.150</td>\n      <td>1.900</td>\n      <td>1.000</td>\n      <td>1.000</td>\n      <td>2.000</td>\n      <td>2.000</td>\n      <td>1.000</td>\n      <td>0.900</td>\n      <td>1.100</td>\n      <td>1.000</td>\n      <td>6.000</td>\n    </tr>\n  </tbody>\n</table>\n</div>"
     },
     "execution_count": 8,
     "metadata": {},
     "output_type": "execute_result"
    }
   ],
   "source": [
    "test.loc[test['match_id'] == 59281]"
   ],
   "metadata": {
    "collapsed": false,
    "pycharm": {
     "name": "#%%\n"
    }
   }
  },
  {
   "cell_type": "code",
   "execution_count": 22,
   "outputs": [],
   "source": [
    "# train.head()"
   ],
   "metadata": {
    "collapsed": false,
    "pycharm": {
     "name": "#%%\n"
    }
   }
  },
  {
   "cell_type": "code",
   "execution_count": 23,
   "outputs": [],
   "source": [
    "# train.shape, validation.shape, test.shape"
   ],
   "metadata": {
    "collapsed": false,
    "pycharm": {
     "name": "#%%\n"
    }
   }
  },
  {
   "cell_type": "code",
   "execution_count": null,
   "outputs": [],
   "source": [
    "# train.info()"
   ],
   "metadata": {
    "collapsed": false,
    "pycharm": {
     "name": "#%%\n"
    }
   }
  },
  {
   "cell_type": "code",
   "execution_count": null,
   "outputs": [],
   "source": [
    "# train.columns"
   ],
   "metadata": {
    "collapsed": false,
    "pycharm": {
     "name": "#%%\n"
    }
   }
  },
  {
   "cell_type": "code",
   "execution_count": 10,
   "outputs": [
    {
     "name": "stdout",
     "output_type": "stream",
     "text": [
      "Training on fold [0/3]\n",
      "\n",
      "bestTest = 0.8808772133\n",
      "bestIteration = 499\n",
      "\n",
      "Training on fold [1/3]\n",
      "\n",
      "bestTest = 0.8817060924\n",
      "bestIteration = 498\n",
      "\n",
      "Training on fold [2/3]\n",
      "\n",
      "bestTest = 0.8802393858\n",
      "bestIteration = 499\n",
      "\n"
     ]
    },
    {
     "data": {
      "text/plain": "0.8809411074429802"
     },
     "execution_count": 10,
     "metadata": {},
     "output_type": "execute_result"
    }
   ],
   "source": [
    "OutcomesCatBoost().cross_val_score() # 0.8809411074429802"
   ],
   "metadata": {
    "collapsed": false,
    "pycharm": {
     "name": "#%%\n"
    }
   }
  },
  {
   "cell_type": "code",
   "execution_count": 11,
   "outputs": [
    {
     "name": "stderr",
     "output_type": "stream",
     "text": [
      "\u001B[32m[I 2022-09-05 13:26:16,734]\u001B[0m A new study created in memory with name: no-name-fd0ab093-5b7e-40bd-8a41-c3a9a9ae9d56\u001B[0m\n"
     ]
    },
    {
     "data": {
      "text/plain": "  0%|          | 0/50 [00:00<?, ?it/s]",
      "application/vnd.jupyter.widget-view+json": {
       "version_major": 2,
       "version_minor": 0,
       "model_id": "9635faf76ccf4a378b61abb6fa17ebe9"
      },
      "application/json": {
       "n": 0,
       "total": 50,
       "elapsed": 0.011672735214233398,
       "ncols": null,
       "nrows": null,
       "prefix": "",
       "ascii": false,
       "unit": "it",
       "unit_scale": false,
       "rate": null,
       "bar_format": null,
       "postfix": null,
       "unit_divisor": 1000,
       "initial": 0,
       "colour": null
      }
     },
     "metadata": {},
     "output_type": "display_data"
    },
    {
     "name": "stdout",
     "output_type": "stream",
     "text": [
      "Training on fold [0/3]\n",
      "\n",
      "bestTest = 0.8771514167\n",
      "bestIteration = 499\n",
      "\n",
      "Training on fold [1/3]\n",
      "\n",
      "bestTest = 0.8787924481\n",
      "bestIteration = 499\n",
      "\n",
      "Training on fold [2/3]\n",
      "\n",
      "bestTest = 0.8816225179\n",
      "bestIteration = 498\n",
      "\n",
      "\u001B[32m[I 2022-09-05 13:28:31,503]\u001B[0m Trial 0 finished with value: 0.8791890157487748 and parameters: {'learning_rate': 0.05857962074501933, 'colsample_bylevel': 0.7648679203843101, 'depth': 6, 'bootstrap_type': 'MVS', 'random_strength': 9.643484058967479}. Best is trial 0 with value: 0.8791890157487748.\u001B[0m\n",
      "Training on fold [0/3]\n",
      "\n",
      "bestTest = 0.8782675704\n",
      "bestIteration = 493\n",
      "\n",
      "Training on fold [1/3]\n",
      "\n",
      "bestTest = 0.8802543848\n",
      "bestIteration = 499\n",
      "\n",
      "Training on fold [2/3]\n",
      "\n",
      "bestTest = 0.882657021\n",
      "bestIteration = 497\n",
      "\n",
      "\u001B[32m[I 2022-09-05 13:31:16,338]\u001B[0m Trial 1 finished with value: 0.8803972388808629 and parameters: {'learning_rate': 0.048871459233877305, 'colsample_bylevel': 0.8081217537577374, 'depth': 7, 'bootstrap_type': 'Bayesian', 'random_strength': 2.8221214949332096, 'bagging_temperature': 2.2812847633709863}. Best is trial 0 with value: 0.8791890157487748.\u001B[0m\n",
      "Training on fold [0/3]\n",
      "\n",
      "bestTest = 0.8777953768\n",
      "bestIteration = 496\n",
      "\n",
      "Training on fold [1/3]\n",
      "\n",
      "bestTest = 0.8793195401\n",
      "bestIteration = 459\n",
      "\n",
      "Training on fold [2/3]\n",
      "\n",
      "bestTest = 0.8820578143\n",
      "bestIteration = 499\n",
      "\n",
      "\u001B[32m[I 2022-09-05 13:33:40,799]\u001B[0m Trial 2 finished with value: 0.8797366272774588 and parameters: {'learning_rate': 0.043355677093801434, 'colsample_bylevel': 0.5842402086601078, 'depth': 10, 'bootstrap_type': 'Bernoulli', 'random_strength': 6.7802002712984475, 'subsample': 0.27549908921361765}. Best is trial 0 with value: 0.8791890157487748.\u001B[0m\n",
      "Training on fold [0/3]\n",
      "\n",
      "bestTest = 0.8783864033\n",
      "bestIteration = 499\n",
      "\n",
      "Training on fold [1/3]\n",
      "\n",
      "bestTest = 0.8798464557\n",
      "bestIteration = 499\n",
      "\n",
      "Training on fold [2/3]\n",
      "\n",
      "bestTest = 0.8824435938\n",
      "bestIteration = 499\n",
      "\n",
      "\u001B[32m[I 2022-09-05 13:36:17,969]\u001B[0m Trial 3 finished with value: 0.8802254842644738 and parameters: {'learning_rate': 0.04120207054412839, 'colsample_bylevel': 0.5361868882918488, 'depth': 8, 'bootstrap_type': 'Bayesian', 'random_strength': 6.32343617579515, 'bagging_temperature': 2.6423721082733156}. Best is trial 0 with value: 0.8791890157487748.\u001B[0m\n",
      "Training on fold [0/3]\n",
      "\n",
      "bestTest = 0.8772899741\n",
      "bestIteration = 498\n",
      "\n",
      "Training on fold [1/3]\n",
      "\n",
      "bestTest = 0.8787475721\n",
      "bestIteration = 499\n",
      "\n",
      "Training on fold [2/3]\n",
      "\n",
      "bestTest = 0.8815726648\n",
      "bestIteration = 497\n",
      "\n",
      "\u001B[32m[I 2022-09-05 13:39:02,990]\u001B[0m Trial 4 finished with value: 0.8792046348885932 and parameters: {'learning_rate': 0.04308571332576212, 'colsample_bylevel': 0.6533370667221091, 'depth': 9, 'bootstrap_type': 'Bernoulli', 'random_strength': 6.975241342424438, 'subsample': 0.7437643252267593}. Best is trial 0 with value: 0.8791890157487748.\u001B[0m\n",
      "Training on fold [0/3]\n",
      "\n",
      "bestTest = 0.8776568681\n",
      "bestIteration = 445\n",
      "\n",
      "Training on fold [1/3]\n",
      "\n",
      "bestTest = 0.8793070229\n",
      "bestIteration = 322\n",
      "\n",
      "Training on fold [2/3]\n",
      "\n",
      "bestTest = 0.8819911152\n",
      "bestIteration = 379\n",
      "\n",
      "\u001B[32m[I 2022-09-05 13:41:12,249]\u001B[0m Trial 5 finished with value: 0.8796764753040134 and parameters: {'learning_rate': 0.04327493545840842, 'colsample_bylevel': 0.5250528813029347, 'depth': 10, 'bootstrap_type': 'Bernoulli', 'random_strength': 0.18103900243423265, 'subsample': 0.29430193419787887}. Best is trial 0 with value: 0.8791890157487748.\u001B[0m\n",
      "Training on fold [0/3]\n",
      "\n",
      "bestTest = 0.8828059078\n",
      "bestIteration = 271\n",
      "\n",
      "Training on fold [1/3]\n",
      "\n",
      "bestTest = 0.883822297\n",
      "bestIteration = 331\n",
      "\n",
      "Training on fold [2/3]\n",
      "\n",
      "bestTest = 0.8864697327\n",
      "bestIteration = 244\n",
      "\n",
      "\u001B[32m[I 2022-09-05 13:44:10,185]\u001B[0m Trial 6 finished with value: 0.8843924376569133 and parameters: {'learning_rate': 0.044660867944121295, 'colsample_bylevel': 0.7881209710245722, 'depth': 11, 'bootstrap_type': 'Bayesian', 'random_strength': 3.55546295477518, 'bagging_temperature': 9.286890771982762}. Best is trial 0 with value: 0.8791890157487748.\u001B[0m\n",
      "Training on fold [0/3]\n",
      "\n",
      "bestTest = 0.8781601512\n",
      "bestIteration = 499\n",
      "\n",
      "Training on fold [1/3]\n",
      "\n",
      "bestTest = 0.8801608205\n",
      "bestIteration = 497\n",
      "\n",
      "Training on fold [2/3]\n",
      "\n",
      "bestTest = 0.8827510331\n",
      "bestIteration = 499\n",
      "\n",
      "\u001B[32m[I 2022-09-05 13:46:07,552]\u001B[0m Trial 7 finished with value: 0.8803590293286442 and parameters: {'learning_rate': 0.058101144040674776, 'colsample_bylevel': 0.8191484645434176, 'depth': 7, 'bootstrap_type': 'Bernoulli', 'random_strength': 5.84613625892842, 'subsample': 0.18042016962029117}. Best is trial 0 with value: 0.8791890157487748.\u001B[0m\n",
      "Training on fold [0/3]\n",
      "\n",
      "bestTest = 0.8808153893\n",
      "bestIteration = 499\n",
      "\n",
      "Training on fold [1/3]\n",
      "\n",
      "bestTest = 0.8824937704\n",
      "bestIteration = 499\n",
      "\n",
      "Training on fold [2/3]\n",
      "\n",
      "bestTest = 0.8844926982\n",
      "bestIteration = 499\n",
      "\n",
      "\u001B[32m[I 2022-09-05 13:48:37,010]\u001B[0m Trial 8 finished with value: 0.8826006193008592 and parameters: {'learning_rate': 0.04519727768338008, 'colsample_bylevel': 0.8477078345550346, 'depth': 6, 'bootstrap_type': 'Bayesian', 'random_strength': 0.3749769664531336, 'bagging_temperature': 4.223843765095566}. Best is trial 0 with value: 0.8791890157487748.\u001B[0m\n",
      "Training on fold [0/3]\n",
      "\n",
      "bestTest = 0.8773411368\n",
      "bestIteration = 498\n",
      "\n",
      "Training on fold [1/3]\n",
      "\n",
      "bestTest = 0.8789486155\n",
      "bestIteration = 499\n",
      "\n",
      "Training on fold [2/3]\n",
      "\n",
      "bestTest = 0.8818098792\n",
      "bestIteration = 499\n",
      "\n",
      "\u001B[32m[I 2022-09-05 13:50:57,282]\u001B[0m Trial 9 finished with value: 0.8793673632852227 and parameters: {'learning_rate': 0.05740512440232696, 'colsample_bylevel': 0.9023638837170942, 'depth': 6, 'bootstrap_type': 'Bernoulli', 'random_strength': 5.186997773662132, 'subsample': 0.8116045645214184}. Best is trial 0 with value: 0.8791890157487748.\u001B[0m\n",
      "Training on fold [0/3]\n",
      "\n",
      "bestTest = 0.8770506405\n",
      "bestIteration = 494\n",
      "\n",
      "Training on fold [1/3]\n",
      "\n",
      "bestTest = 0.878430463\n",
      "bestIteration = 499\n",
      "\n",
      "Training on fold [2/3]\n",
      "\n",
      "bestTest = 0.8813683484\n",
      "bestIteration = 499\n",
      "\n",
      "\u001B[32m[I 2022-09-05 13:53:53,693]\u001B[0m Trial 10 finished with value: 0.8789514348231919 and parameters: {'learning_rate': 0.05332774774033691, 'colsample_bylevel': 0.9903636023101294, 'depth': 8, 'bootstrap_type': 'MVS', 'random_strength': 9.96031027753241}. Best is trial 10 with value: 0.8789514348231919.\u001B[0m\n",
      "Training on fold [0/3]\n",
      "\n",
      "bestTest = 0.8769601653\n",
      "bestIteration = 498\n",
      "\n",
      "Training on fold [1/3]\n",
      "\n",
      "bestTest = 0.8784613724\n",
      "bestIteration = 497\n",
      "\n",
      "Training on fold [2/3]\n",
      "\n",
      "bestTest = 0.8812001979\n",
      "bestIteration = 499\n",
      "\n",
      "\u001B[32m[I 2022-09-05 13:56:45,820]\u001B[0m Trial 11 finished with value: 0.878879344126731 and parameters: {'learning_rate': 0.053622314283705105, 'colsample_bylevel': 0.9783363463363435, 'depth': 8, 'bootstrap_type': 'MVS', 'random_strength': 9.647935550694465}. Best is trial 11 with value: 0.878879344126731.\u001B[0m\n",
      "Training on fold [0/3]\n",
      "\n",
      "bestTest = 0.8770292877\n",
      "bestIteration = 498\n",
      "\n",
      "Training on fold [1/3]\n",
      "\n",
      "bestTest = 0.8786138511\n",
      "bestIteration = 499\n",
      "\n",
      "Training on fold [2/3]\n",
      "\n",
      "bestTest = 0.8813413374\n",
      "bestIteration = 499\n",
      "\n",
      "\u001B[32m[I 2022-09-05 13:59:45,640]\u001B[0m Trial 12 finished with value: 0.8789963754658613 and parameters: {'learning_rate': 0.053232384383812066, 'colsample_bylevel': 0.991946154564769, 'depth': 8, 'bootstrap_type': 'MVS', 'random_strength': 9.471216980260643}. Best is trial 11 with value: 0.878879344126731.\u001B[0m\n",
      "Training on fold [0/3]\n",
      "\n",
      "bestTest = 0.8770160477\n",
      "bestIteration = 499\n",
      "\n",
      "Training on fold [1/3]\n",
      "\n",
      "bestTest = 0.8782819175\n",
      "bestIteration = 499\n",
      "\n",
      "Training on fold [2/3]\n",
      "\n",
      "bestTest = 0.8811749711\n",
      "bestIteration = 496\n",
      "\n",
      "\u001B[32m[I 2022-09-05 14:03:12,736]\u001B[0m Trial 13 finished with value: 0.8788256027486604 and parameters: {'learning_rate': 0.05279890424957572, 'colsample_bylevel': 0.9951694491851746, 'depth': 9, 'bootstrap_type': 'MVS', 'random_strength': 8.342309887860672}. Best is trial 13 with value: 0.8788256027486604.\u001B[0m\n",
      "Training on fold [0/3]\n",
      "\n",
      "bestTest = 0.8769018914\n",
      "bestIteration = 465\n",
      "\n",
      "Training on fold [1/3]\n",
      "\n",
      "bestTest = 0.8783616371\n",
      "bestIteration = 496\n",
      "\n",
      "Training on fold [2/3]\n",
      "\n",
      "bestTest = 0.8814109067\n",
      "bestIteration = 497\n",
      "\n",
      "\u001B[32m[I 2022-09-05 14:06:31,239]\u001B[0m Trial 14 finished with value: 0.8789013308562165 and parameters: {'learning_rate': 0.05172215731724377, 'colsample_bylevel': 0.9143200260806279, 'depth': 9, 'bootstrap_type': 'MVS', 'random_strength': 8.164989326200475}. Best is trial 13 with value: 0.8788256027486604.\u001B[0m\n",
      "Training on fold [0/3]\n",
      "\n",
      "bestTest = 0.877091406\n",
      "bestIteration = 492\n",
      "\n",
      "Training on fold [1/3]\n",
      "\n",
      "bestTest = 0.8784542741\n",
      "bestIteration = 491\n",
      "\n",
      "Training on fold [2/3]\n",
      "\n",
      "bestTest = 0.8813465737\n",
      "bestIteration = 477\n",
      "\n",
      "\u001B[32m[I 2022-09-05 14:10:05,908]\u001B[0m Trial 15 finished with value: 0.8789830600382662 and parameters: {'learning_rate': 0.04812367092856205, 'colsample_bylevel': 0.6790497521377525, 'depth': 10, 'bootstrap_type': 'MVS', 'random_strength': 8.123433769804212}. Best is trial 13 with value: 0.8788256027486604.\u001B[0m\n",
      "Training on fold [0/3]\n",
      "\n",
      "bestTest = 0.8770846535\n",
      "bestIteration = 498\n",
      "\n",
      "Training on fold [1/3]\n",
      "\n",
      "bestTest = 0.8784264912\n",
      "bestIteration = 484\n",
      "\n",
      "Training on fold [2/3]\n",
      "\n",
      "bestTest = 0.880957923\n",
      "bestIteration = 475\n",
      "\n",
      "\u001B[32m[I 2022-09-05 14:13:26,628]\u001B[0m Trial 16 finished with value: 0.8788253365532931 and parameters: {'learning_rate': 0.05445892707556053, 'colsample_bylevel': 0.9038820969879935, 'depth': 9, 'bootstrap_type': 'MVS', 'random_strength': 8.368240226518004}. Best is trial 16 with value: 0.8788253365532931.\u001B[0m\n",
      "Training on fold [0/3]\n",
      "\n",
      "bestTest = 0.8770529918\n",
      "bestIteration = 496\n",
      "\n",
      "Training on fold [1/3]\n",
      "\n",
      "bestTest = 0.8785485399\n",
      "bestIteration = 383\n",
      "\n",
      "Training on fold [2/3]\n",
      "\n",
      "bestTest = 0.8814501859\n",
      "bestIteration = 430\n",
      "\n",
      "\u001B[32m[I 2022-09-05 14:18:06,415]\u001B[0m Trial 17 finished with value: 0.8790488415038639 and parameters: {'learning_rate': 0.05063500814087069, 'colsample_bylevel': 0.895299861061229, 'depth': 11, 'bootstrap_type': 'MVS', 'random_strength': 8.045030482926542}. Best is trial 16 with value: 0.8788253365532931.\u001B[0m\n",
      "Training on fold [0/3]\n",
      "\n",
      "bestTest = 0.8768507685\n",
      "bestIteration = 457\n",
      "\n",
      "Training on fold [1/3]\n",
      "\n",
      "bestTest = 0.8782543551\n",
      "bestIteration = 403\n",
      "\n",
      "Training on fold [2/3]\n",
      "\n",
      "bestTest = 0.8810212884\n",
      "bestIteration = 494\n",
      "\n",
      "\u001B[32m[I 2022-09-05 14:22:10,956]\u001B[0m Trial 18 finished with value: 0.878716856358709 and parameters: {'learning_rate': 0.05543828449273568, 'colsample_bylevel': 0.9392459688209472, 'depth': 9, 'bootstrap_type': 'MVS', 'random_strength': 3.4757856323697665}. Best is trial 18 with value: 0.878716856358709.\u001B[0m\n",
      "Training on fold [0/3]\n",
      "\n",
      "bestTest = 0.87733367\n",
      "bestIteration = 304\n",
      "\n",
      "Training on fold [1/3]\n",
      "\n",
      "bestTest = 0.8783326038\n",
      "bestIteration = 376\n",
      "\n",
      "Training on fold [2/3]\n",
      "\n",
      "bestTest = 0.8812657002\n",
      "bestIteration = 424\n",
      "\n",
      "\u001B[32m[I 2022-09-05 14:25:45,422]\u001B[0m Trial 19 finished with value: 0.8790133563446686 and parameters: {'learning_rate': 0.05594090234162759, 'colsample_bylevel': 0.723366731637373, 'depth': 10, 'bootstrap_type': 'MVS', 'random_strength': 3.5636636728204127}. Best is trial 18 with value: 0.878716856358709.\u001B[0m\n",
      "Training on fold [0/3]\n",
      "\n",
      "bestTest = 0.8770325156\n",
      "bestIteration = 285\n",
      "\n",
      "Training on fold [1/3]\n",
      "\n",
      "bestTest = 0.8782920269\n",
      "bestIteration = 429\n",
      "\n",
      "Training on fold [2/3]\n",
      "\n",
      "bestTest = 0.880990634\n",
      "bestIteration = 452\n",
      "\n",
      "\u001B[32m[I 2022-09-05 14:29:04,921]\u001B[0m Trial 20 finished with value: 0.878802502260347 and parameters: {'learning_rate': 0.055210948576186865, 'colsample_bylevel': 0.9323240196706597, 'depth': 9, 'bootstrap_type': 'MVS', 'random_strength': 1.926665065289138}. Best is trial 18 with value: 0.878716856358709.\u001B[0m\n",
      "Training on fold [0/3]\n",
      "\n",
      "bestTest = 0.8768474198\n",
      "bestIteration = 401\n",
      "\n",
      "Training on fold [1/3]\n",
      "\n",
      "bestTest = 0.8782801225\n",
      "bestIteration = 499\n",
      "\n",
      "Training on fold [2/3]\n",
      "\n",
      "bestTest = 0.8810331716\n",
      "bestIteration = 419\n",
      "\n",
      "\u001B[32m[I 2022-09-05 14:33:11,839]\u001B[0m Trial 21 finished with value: 0.8787348088385301 and parameters: {'learning_rate': 0.05530600867113594, 'colsample_bylevel': 0.9404559670221493, 'depth': 9, 'bootstrap_type': 'MVS', 'random_strength': 1.6513798853549186}. Best is trial 18 with value: 0.878716856358709.\u001B[0m\n",
      "Training on fold [0/3]\n",
      "\n",
      "bestTest = 0.8770407354\n",
      "bestIteration = 313\n",
      "\n",
      "Training on fold [1/3]\n",
      "\n",
      "bestTest = 0.8782433699\n",
      "bestIteration = 460\n",
      "\n",
      "Training on fold [2/3]\n",
      "\n",
      "bestTest = 0.8812755684\n",
      "bestIteration = 394\n",
      "\n",
      "\u001B[32m[I 2022-09-05 14:36:46,213]\u001B[0m Trial 22 finished with value: 0.8788704334647909 and parameters: {'learning_rate': 0.0598582840106178, 'colsample_bylevel': 0.9350680847056096, 'depth': 9, 'bootstrap_type': 'MVS', 'random_strength': 1.7414988173310608}. Best is trial 18 with value: 0.878716856358709.\u001B[0m\n",
      "Training on fold [0/3]\n",
      "\n",
      "bestTest = 0.8770933596\n",
      "bestIteration = 258\n",
      "\n",
      "Training on fold [1/3]\n",
      "\n",
      "bestTest = 0.8784205185\n",
      "bestIteration = 368\n",
      "\n",
      "Training on fold [2/3]\n",
      "\n",
      "bestTest = 0.8812816351\n",
      "bestIteration = 340\n",
      "\n",
      "\u001B[32m[I 2022-09-05 14:40:11,818]\u001B[0m Trial 23 finished with value: 0.8789485828848133 and parameters: {'learning_rate': 0.056202423773674265, 'colsample_bylevel': 0.8672948163092146, 'depth': 10, 'bootstrap_type': 'MVS', 'random_strength': 1.6862172985473345}. Best is trial 18 with value: 0.878716856358709.\u001B[0m\n",
      "Training on fold [0/3]\n",
      "\n",
      "bestTest = 0.8768374969\n",
      "bestIteration = 499\n",
      "\n",
      "Training on fold [1/3]\n",
      "\n",
      "bestTest = 0.8782947721\n",
      "bestIteration = 499\n",
      "\n",
      "Training on fold [2/3]\n",
      "\n",
      "bestTest = 0.8811260013\n",
      "bestIteration = 495\n",
      "\n",
      "\u001B[32m[I 2022-09-05 14:43:25,601]\u001B[0m Trial 24 finished with value: 0.8787553136178858 and parameters: {'learning_rate': 0.055534351213268225, 'colsample_bylevel': 0.956178474894298, 'depth': 7, 'bootstrap_type': 'MVS', 'random_strength': 2.263697672150162}. Best is trial 18 with value: 0.878716856358709.\u001B[0m\n",
      "Training on fold [0/3]\n",
      "\n",
      "bestTest = 0.8771605612\n",
      "bestIteration = 499\n",
      "\n",
      "Training on fold [1/3]\n",
      "\n",
      "bestTest = 0.8784586588\n",
      "bestIteration = 499\n",
      "\n",
      "Training on fold [2/3]\n",
      "\n",
      "bestTest = 0.8812034003\n",
      "bestIteration = 499\n",
      "\n",
      "\u001B[32m[I 2022-09-05 14:46:37,023]\u001B[0m Trial 25 finished with value: 0.8789408734767757 and parameters: {'learning_rate': 0.05096759896591204, 'colsample_bylevel': 0.9452116368593538, 'depth': 7, 'bootstrap_type': 'MVS', 'random_strength': 4.192440671505408}. Best is trial 18 with value: 0.878716856358709.\u001B[0m\n",
      "Training on fold [0/3]\n",
      "\n",
      "bestTest = 0.8769082778\n",
      "bestIteration = 464\n",
      "\n",
      "Training on fold [1/3]\n",
      "\n",
      "bestTest = 0.87846369\n",
      "bestIteration = 498\n",
      "\n",
      "Training on fold [2/3]\n",
      "\n",
      "bestTest = 0.8811974577\n",
      "bestIteration = 496\n",
      "\n",
      "\u001B[32m[I 2022-09-05 14:49:45,285]\u001B[0m Trial 26 finished with value: 0.8788619036426631 and parameters: {'learning_rate': 0.047746834699716516, 'colsample_bylevel': 0.8548934740814894, 'depth': 7, 'bootstrap_type': 'MVS', 'random_strength': 0.9859770467712945}. Best is trial 18 with value: 0.878716856358709.\u001B[0m\n",
      "Training on fold [0/3]\n",
      "\n",
      "bestTest = 0.8769156556\n",
      "bestIteration = 493\n",
      "\n",
      "Training on fold [1/3]\n",
      "\n",
      "bestTest = 0.8782102394\n",
      "bestIteration = 495\n",
      "\n",
      "Training on fold [2/3]\n",
      "\n",
      "bestTest = 0.8810458286\n",
      "bestIteration = 498\n",
      "\n",
      "\u001B[32m[I 2022-09-05 14:53:26,912]\u001B[0m Trial 27 finished with value: 0.8787275785778382 and parameters: {'learning_rate': 0.056791052808917455, 'colsample_bylevel': 0.9486961273607994, 'depth': 8, 'bootstrap_type': 'MVS', 'random_strength': 2.3820383149471103}. Best is trial 18 with value: 0.878716856358709.\u001B[0m\n",
      "Training on fold [0/3]\n",
      "\n",
      "bestTest = 0.8818391678\n",
      "bestIteration = 496\n",
      "\n",
      "Training on fold [1/3]\n",
      "\n",
      "bestTest = 0.882966183\n",
      "bestIteration = 490\n",
      "\n",
      "Training on fold [2/3]\n",
      "\n",
      "bestTest = 0.885527247\n",
      "bestIteration = 469\n",
      "\n",
      "\u001B[32m[I 2022-09-05 14:57:20,068]\u001B[0m Trial 28 finished with value: 0.8834521945177854 and parameters: {'learning_rate': 0.059677835144347796, 'colsample_bylevel': 0.883921590002591, 'depth': 8, 'bootstrap_type': 'Bayesian', 'random_strength': 2.8244726764374257, 'bagging_temperature': 8.529419429184287}. Best is trial 18 with value: 0.878716856358709.\u001B[0m\n",
      "Training on fold [0/3]\n",
      "\n",
      "bestTest = 0.8767512124\n",
      "bestIteration = 499\n",
      "\n",
      "Training on fold [1/3]\n",
      "\n",
      "bestTest = 0.8783299182\n",
      "bestIteration = 493\n",
      "\n",
      "Training on fold [2/3]\n",
      "\n",
      "bestTest = 0.8812129234\n",
      "bestIteration = 498\n",
      "\n",
      "\u001B[32m[I 2022-09-05 15:00:46,414]\u001B[0m Trial 29 finished with value: 0.8787668405739897 and parameters: {'learning_rate': 0.057214500422641174, 'colsample_bylevel': 0.7458372599561881, 'depth': 8, 'bootstrap_type': 'MVS', 'random_strength': 4.31853756297752}. Best is trial 18 with value: 0.878716856358709.\u001B[0m\n",
      "Training on fold [0/3]\n",
      "\n",
      "bestTest = 0.8769192864\n",
      "bestIteration = 328\n",
      "\n",
      "Training on fold [1/3]\n",
      "\n",
      "bestTest = 0.8782363003\n",
      "bestIteration = 391\n",
      "\n",
      "Training on fold [2/3]\n",
      "\n",
      "bestTest = 0.8811009674\n",
      "bestIteration = 480\n",
      "\n",
      "\u001B[32m[I 2022-09-05 15:04:10,163]\u001B[0m Trial 30 finished with value: 0.8787694706358201 and parameters: {'learning_rate': 0.04980050166704605, 'colsample_bylevel': 0.8371836116357395, 'depth': 9, 'bootstrap_type': 'MVS', 'random_strength': 1.0093267047366832}. Best is trial 18 with value: 0.878716856358709.\u001B[0m\n",
      "Training on fold [0/3]\n",
      "\n",
      "bestTest = 0.8768862347\n",
      "bestIteration = 499\n",
      "\n",
      "Training on fold [1/3]\n",
      "\n",
      "bestTest = 0.878421666\n",
      "bestIteration = 499\n",
      "\n",
      "Training on fold [2/3]\n",
      "\n",
      "bestTest = 0.8813146622\n",
      "bestIteration = 494\n",
      "\n",
      "\u001B[32m[I 2022-09-05 15:07:32,575]\u001B[0m Trial 31 finished with value: 0.878875831358848 and parameters: {'learning_rate': 0.05609528621447481, 'colsample_bylevel': 0.959750094659272, 'depth': 7, 'bootstrap_type': 'MVS', 'random_strength': 2.5468837424108663}. Best is trial 18 with value: 0.878716856358709.\u001B[0m\n",
      "Training on fold [0/3]\n",
      "\n",
      "bestTest = 0.8767530352\n",
      "bestIteration = 499\n",
      "\n",
      "Training on fold [1/3]\n",
      "\n",
      "bestTest = 0.8782904601\n",
      "bestIteration = 494\n",
      "\n",
      "Training on fold [2/3]\n",
      "\n",
      "bestTest = 0.8810601537\n",
      "bestIteration = 489\n",
      "\n",
      "\u001B[32m[I 2022-09-05 15:11:15,900]\u001B[0m Trial 32 finished with value: 0.8787089791066078 and parameters: {'learning_rate': 0.054603667689763255, 'colsample_bylevel': 0.9546884540361428, 'depth': 8, 'bootstrap_type': 'MVS', 'random_strength': 2.4009087332979298}. Best is trial 32 with value: 0.8787089791066078.\u001B[0m\n",
      "Training on fold [0/3]\n",
      "\n",
      "bestTest = 0.8767645499\n",
      "bestIteration = 486\n",
      "\n",
      "Training on fold [1/3]\n",
      "\n",
      "bestTest = 0.8782875338\n",
      "bestIteration = 495\n",
      "\n",
      "Training on fold [2/3]\n",
      "\n",
      "bestTest = 0.8811034055\n",
      "bestIteration = 499\n",
      "\n",
      "\u001B[32m[I 2022-09-05 15:15:00,162]\u001B[0m Trial 33 finished with value: 0.8787229133492248 and parameters: {'learning_rate': 0.058389044482929975, 'colsample_bylevel': 0.9262582611691758, 'depth': 8, 'bootstrap_type': 'MVS', 'random_strength': 3.3294784910582567}. Best is trial 32 with value: 0.8787089791066078.\u001B[0m\n",
      "Training on fold [0/3]\n",
      "\n",
      "bestTest = 0.8767308126\n",
      "bestIteration = 499\n",
      "\n",
      "Training on fold [1/3]\n",
      "\n",
      "bestTest = 0.8782945213\n",
      "bestIteration = 457\n",
      "\n",
      "Training on fold [2/3]\n",
      "\n",
      "bestTest = 0.8811122223\n",
      "bestIteration = 461\n",
      "\n",
      "\u001B[32m[I 2022-09-05 15:18:37,290]\u001B[0m Trial 34 finished with value: 0.8787193781861952 and parameters: {'learning_rate': 0.05884291207557195, 'colsample_bylevel': 0.8764749889742869, 'depth': 8, 'bootstrap_type': 'MVS', 'random_strength': 3.4245766578695314}. Best is trial 32 with value: 0.8787089791066078.\u001B[0m\n",
      "Training on fold [0/3]\n",
      "\n",
      "bestTest = 0.8767955702\n",
      "bestIteration = 499\n",
      "\n",
      "Training on fold [1/3]\n",
      "\n",
      "bestTest = 0.8781422682\n",
      "bestIteration = 499\n",
      "\n",
      "Training on fold [2/3]\n",
      "\n",
      "bestTest = 0.8810996051\n",
      "bestIteration = 499\n",
      "\n",
      "\u001B[32m[I 2022-09-05 15:22:41,216]\u001B[0m Trial 35 finished with value: 0.8786791478082595 and parameters: {'learning_rate': 0.05876212832563756, 'colsample_bylevel': 0.8784114454494041, 'depth': 8, 'bootstrap_type': 'Bayesian', 'random_strength': 3.3894929121513946, 'bagging_temperature': 0.04100136073486649}. Best is trial 35 with value: 0.8786791478082595.\u001B[0m\n",
      "Training on fold [0/3]\n",
      "\n",
      "bestTest = 0.8768733151\n",
      "bestIteration = 499\n",
      "\n",
      "Training on fold [1/3]\n",
      "\n",
      "bestTest = 0.87855341\n",
      "bestIteration = 488\n",
      "\n",
      "Training on fold [2/3]\n",
      "\n",
      "bestTest = 0.8812834619\n",
      "bestIteration = 497\n",
      "\n",
      "\u001B[32m[I 2022-09-05 15:25:56,917]\u001B[0m Trial 36 finished with value: 0.8789081861259423 and parameters: {'learning_rate': 0.058902727991078464, 'colsample_bylevel': 0.7889514982440837, 'depth': 7, 'bootstrap_type': 'Bayesian', 'random_strength': 4.436428525250506, 'bagging_temperature': 0.2186550478220646}. Best is trial 35 with value: 0.8786791478082595.\u001B[0m\n",
      "Training on fold [0/3]\n",
      "\n",
      "bestTest = 0.8809448005\n",
      "bestIteration = 499\n",
      "\n",
      "Training on fold [1/3]\n",
      "\n",
      "bestTest = 0.8827261513\n",
      "bestIteration = 499\n",
      "\n",
      "Training on fold [2/3]\n",
      "\n",
      "bestTest = 0.8843688723\n",
      "bestIteration = 484\n",
      "\n",
      "\u001B[32m[I 2022-09-05 15:29:45,913]\u001B[0m Trial 37 finished with value: 0.882681754651199 and parameters: {'learning_rate': 0.058617756069101294, 'colsample_bylevel': 0.8778853990717268, 'depth': 8, 'bootstrap_type': 'Bayesian', 'random_strength': 5.118531928196553, 'bagging_temperature': 6.47200158364774}. Best is trial 35 with value: 0.8786791478082595.\u001B[0m\n",
      "Training on fold [0/3]\n",
      "\n",
      "bestTest = 0.8771073947\n",
      "bestIteration = 499\n",
      "\n",
      "Training on fold [1/3]\n",
      "\n",
      "bestTest = 0.8785614086\n",
      "bestIteration = 499\n",
      "\n",
      "Training on fold [2/3]\n",
      "\n",
      "bestTest = 0.8813564714\n",
      "bestIteration = 499\n",
      "\n",
      "\u001B[32m[I 2022-09-05 15:33:12,968]\u001B[0m Trial 38 finished with value: 0.8790084248774755 and parameters: {'learning_rate': 0.04034265548865633, 'colsample_bylevel': 0.8225656997996289, 'depth': 8, 'bootstrap_type': 'Bayesian', 'random_strength': 3.0624323449323243, 'bagging_temperature': 0.10413390240358057}. Best is trial 35 with value: 0.8786791478082595.\u001B[0m\n",
      "Training on fold [0/3]\n",
      "\n",
      "bestTest = 0.8808564193\n",
      "bestIteration = 498\n",
      "\n",
      "Training on fold [1/3]\n",
      "\n",
      "bestTest = 0.8826165549\n",
      "bestIteration = 442\n",
      "\n",
      "Training on fold [2/3]\n",
      "\n",
      "bestTest = 0.8852122077\n",
      "bestIteration = 497\n",
      "\n",
      "\u001B[32m[I 2022-09-05 15:37:30,109]\u001B[0m Trial 39 finished with value: 0.8829023716533501 and parameters: {'learning_rate': 0.05438882242039561, 'colsample_bylevel': 0.7892739309774731, 'depth': 9, 'bootstrap_type': 'Bayesian', 'random_strength': 3.7583826629464356, 'bagging_temperature': 6.153810499775683}. Best is trial 35 with value: 0.8786791478082595.\u001B[0m\n",
      "Training on fold [0/3]\n",
      "\n",
      "bestTest = 0.8772789497\n",
      "bestIteration = 499\n",
      "\n",
      "Training on fold [1/3]\n",
      "\n",
      "bestTest = 0.8791283758\n",
      "bestIteration = 499\n",
      "\n",
      "Training on fold [2/3]\n",
      "\n",
      "bestTest = 0.8817284251\n",
      "bestIteration = 499\n",
      "\n",
      "\u001B[32m[I 2022-09-05 15:40:24,389]\u001B[0m Trial 40 finished with value: 0.8793785835295146 and parameters: {'learning_rate': 0.057606920993546605, 'colsample_bylevel': 0.7552321636814606, 'depth': 7, 'bootstrap_type': 'Bernoulli', 'random_strength': 5.793488122587213, 'subsample': 0.536704875533269}. Best is trial 35 with value: 0.8786791478082595.\u001B[0m\n",
      "Training on fold [0/3]\n",
      "\n",
      "bestTest = 0.8783053773\n",
      "bestIteration = 484\n",
      "\n",
      "Training on fold [1/3]\n",
      "\n",
      "bestTest = 0.8800802834\n",
      "bestIteration = 499\n",
      "\n",
      "Training on fold [2/3]\n",
      "\n",
      "bestTest = 0.8823363999\n",
      "bestIteration = 492\n",
      "\n",
      "\u001B[32m[I 2022-09-05 15:44:47,489]\u001B[0m Trial 41 finished with value: 0.8802494000543568 and parameters: {'learning_rate': 0.05856627748382794, 'colsample_bylevel': 0.9106529278176482, 'depth': 8, 'bootstrap_type': 'Bayesian', 'random_strength': 3.2082247386105154, 'bagging_temperature': 2.6741276288014175}. Best is trial 35 with value: 0.8786791478082595.\u001B[0m\n",
      "Training on fold [0/3]\n",
      "\n",
      "bestTest = 0.8769066411\n",
      "bestIteration = 496\n",
      "\n",
      "Training on fold [1/3]\n",
      "\n",
      "bestTest = 0.8781277751\n",
      "bestIteration = 498\n",
      "\n",
      "Training on fold [2/3]\n",
      "\n",
      "bestTest = 0.8810520014\n",
      "bestIteration = 462\n",
      "\n",
      "\u001B[32m[I 2022-09-05 15:49:01,798]\u001B[0m Trial 42 finished with value: 0.8787095845744615 and parameters: {'learning_rate': 0.05989235854173339, 'colsample_bylevel': 0.9707503514986526, 'depth': 8, 'bootstrap_type': 'Bernoulli', 'random_strength': 4.729894008278887, 'subsample': 0.9688960723336767}. Best is trial 35 with value: 0.8786791478082595.\u001B[0m\n",
      "Training on fold [0/3]\n",
      "\n",
      "bestTest = 0.8768393038\n",
      "bestIteration = 497\n",
      "\n",
      "Training on fold [1/3]\n",
      "\n",
      "bestTest = 0.8781057932\n",
      "bestIteration = 484\n",
      "\n",
      "Training on fold [2/3]\n",
      "\n",
      "bestTest = 0.8811731521\n",
      "bestIteration = 420\n",
      "\n",
      "\u001B[32m[I 2022-09-05 15:53:01,446]\u001B[0m Trial 43 finished with value: 0.8787262450841672 and parameters: {'learning_rate': 0.05988233649409319, 'colsample_bylevel': 0.9671407499437232, 'depth': 8, 'bootstrap_type': 'Bernoulli', 'random_strength': 4.643866452569947, 'subsample': 0.9983545461054717}. Best is trial 35 with value: 0.8786791478082595.\u001B[0m\n",
      "Training on fold [0/3]\n",
      "\n",
      "bestTest = 0.8774048403\n",
      "bestIteration = 499\n",
      "\n",
      "Training on fold [1/3]\n",
      "\n",
      "bestTest = 0.8787110953\n",
      "bestIteration = 498\n",
      "\n",
      "Training on fold [2/3]\n",
      "\n",
      "bestTest = 0.8817955379\n",
      "bestIteration = 499\n",
      "\n",
      "\u001B[32m[I 2022-09-05 15:56:03,408]\u001B[0m Trial 44 finished with value: 0.8793049849570854 and parameters: {'learning_rate': 0.05691415900658738, 'colsample_bylevel': 0.6176006910956202, 'depth': 8, 'bootstrap_type': 'Bernoulli', 'random_strength': 5.394301025932982, 'subsample': 0.5100310627466011}. Best is trial 35 with value: 0.8786791478082595.\u001B[0m\n",
      "Training on fold [0/3]\n",
      "\n",
      "bestTest = 0.8773017437\n",
      "bestIteration = 499\n",
      "\n",
      "Training on fold [1/3]\n",
      "\n",
      "bestTest = 0.8788308901\n",
      "bestIteration = 493\n",
      "\n",
      "Training on fold [2/3]\n",
      "\n",
      "bestTest = 0.8820059373\n",
      "bestIteration = 499\n",
      "\n",
      "\u001B[32m[I 2022-09-05 15:59:07,789]\u001B[0m Trial 45 finished with value: 0.8793803332279445 and parameters: {'learning_rate': 0.05771390834431389, 'colsample_bylevel': 0.869366594027394, 'depth': 6, 'bootstrap_type': 'Bernoulli', 'random_strength': 3.8275848617890347, 'subsample': 0.9016374046957275}. Best is trial 35 with value: 0.8786791478082595.\u001B[0m\n",
      "Training on fold [0/3]\n",
      "\n",
      "bestTest = 0.8770244651\n",
      "bestIteration = 497\n",
      "\n",
      "Training on fold [1/3]\n",
      "\n",
      "bestTest = 0.878727514\n",
      "bestIteration = 498\n",
      "\n",
      "Training on fold [2/3]\n",
      "\n",
      "bestTest = 0.8813076848\n",
      "bestIteration = 499\n",
      "\n",
      "\u001B[32m[I 2022-09-05 16:03:01,955]\u001B[0m Trial 46 finished with value: 0.8790223400832274 and parameters: {'learning_rate': 0.05225112691429624, 'colsample_bylevel': 0.985649482538189, 'depth': 9, 'bootstrap_type': 'Bernoulli', 'random_strength': 6.584987125717316, 'subsample': 0.6547438820383291}. Best is trial 35 with value: 0.8786791478082595.\u001B[0m\n",
      "Training on fold [0/3]\n",
      "\n",
      "bestTest = 0.8773818491\n",
      "bestIteration = 499\n",
      "\n",
      "Training on fold [1/3]\n",
      "\n",
      "bestTest = 0.8791959487\n",
      "bestIteration = 499\n",
      "\n",
      "Training on fold [2/3]\n",
      "\n",
      "bestTest = 0.8818839479\n",
      "bestIteration = 499\n",
      "\n",
      "\u001B[32m[I 2022-09-05 16:06:07,519]\u001B[0m Trial 47 finished with value: 0.8794872485591082 and parameters: {'learning_rate': 0.054318467996394365, 'colsample_bylevel': 0.8410811861156224, 'depth': 8, 'bootstrap_type': 'Bernoulli', 'random_strength': 4.739340419053807, 'subsample': 0.4143683548013697}. Best is trial 35 with value: 0.8786791478082595.\u001B[0m\n",
      "Training on fold [0/3]\n",
      "\n",
      "bestTest = 0.8804811426\n",
      "bestIteration = 496\n",
      "\n",
      "Training on fold [1/3]\n",
      "\n",
      "bestTest = 0.882411931\n",
      "bestIteration = 499\n",
      "\n",
      "Training on fold [2/3]\n",
      "\n",
      "bestTest = 0.8842000419\n",
      "bestIteration = 497\n",
      "\n",
      "\u001B[32m[I 2022-09-05 16:09:13,714]\u001B[0m Trial 48 finished with value: 0.8823656219710267 and parameters: {'learning_rate': 0.05912085696792027, 'colsample_bylevel': 0.5428168536840936, 'depth': 7, 'bootstrap_type': 'Bayesian', 'random_strength': 3.9642397026978142, 'bagging_temperature': 4.754988133746058}. Best is trial 35 with value: 0.8786791478082595.\u001B[0m\n",
      "Training on fold [0/3]\n",
      "\n",
      "bestTest = 0.8773651835\n",
      "bestIteration = 328\n",
      "\n",
      "Training on fold [1/3]\n",
      "\n",
      "bestTest = 0.8784141539\n",
      "bestIteration = 491\n",
      "\n",
      "Training on fold [2/3]\n",
      "\n",
      "bestTest = 0.8817341337\n",
      "bestIteration = 387\n",
      "\n",
      "\u001B[32m[I 2022-09-05 16:13:59,324]\u001B[0m Trial 49 finished with value: 0.8791968707372297 and parameters: {'learning_rate': 0.04670538042817963, 'colsample_bylevel': 0.9124953767840147, 'depth': 10, 'bootstrap_type': 'Bernoulli', 'random_strength': 2.8155055882913387, 'subsample': 0.6769316749832659}. Best is trial 35 with value: 0.8786791478082595.\u001B[0m\n"
     ]
    }
   ],
   "source": [
    "experiments1 = OutcomesCatBoost().optuna_optimization(50)"
   ],
   "metadata": {
    "collapsed": false,
    "pycharm": {
     "name": "#%%\n"
    }
   }
  },
  {
   "cell_type": "code",
   "execution_count": 12,
   "outputs": [
    {
     "data": {
      "text/plain": "    number  value               duration  bagging_temperature bootstrap_type  \\\n35      35  0.879 0 days 00:04:03.704423                0.041       Bayesian   \n32      32  0.879 0 days 00:03:42.943585                  NaN            MVS   \n42      42  0.879 0 days 00:04:13.591497                  NaN      Bernoulli   \n18      18  0.879 0 days 00:04:04.384060                  NaN            MVS   \n34      34  0.879 0 days 00:03:36.962969                  NaN            MVS   \n33      33  0.879 0 days 00:03:44.085149                  NaN            MVS   \n43      43  0.879 0 days 00:03:59.490672                  NaN      Bernoulli   \n27      27  0.879 0 days 00:03:41.418698                  NaN            MVS   \n21      21  0.879 0 days 00:04:06.746170                  NaN            MVS   \n24      24  0.879 0 days 00:03:13.639142                  NaN            MVS   \n29      29  0.879 0 days 00:03:26.161242                  NaN            MVS   \n30      30  0.879 0 days 00:03:23.601242                  NaN            MVS   \n20      20  0.879 0 days 00:03:19.275972                  NaN            MVS   \n16      16  0.879 0 days 00:03:20.577903                  NaN            MVS   \n13      13  0.879 0 days 00:03:26.929746                  NaN            MVS   \n26      26  0.879 0 days 00:03:08.112402                  NaN            MVS   \n22      22  0.879 0 days 00:03:34.038149                  NaN            MVS   \n31      31  0.879 0 days 00:03:22.264712                  NaN            MVS   \n11      11  0.879 0 days 00:02:51.991572                  NaN            MVS   \n14      14  0.879 0 days 00:03:18.355489                  NaN            MVS   \n36      36  0.879 0 days 00:03:15.481218                0.219       Bayesian   \n25      25  0.879 0 days 00:03:11.273308                  NaN            MVS   \n23      23  0.879 0 days 00:03:25.451489                  NaN            MVS   \n10      10  0.879 0 days 00:02:56.271132                  NaN            MVS   \n15      15  0.879 0 days 00:03:34.532506                  NaN            MVS   \n12      12  0.879 0 days 00:02:59.656228                  NaN            MVS   \n38      38  0.879 0 days 00:03:26.890519                0.104       Bayesian   \n19      19  0.879 0 days 00:03:34.312133                  NaN            MVS   \n46      46  0.879 0 days 00:03:53.970477                  NaN      Bernoulli   \n17      17  0.879 0 days 00:04:39.625903                  NaN            MVS   \n0        0  0.879 0 days 00:02:14.221226                  NaN            MVS   \n49      49  0.879 0 days 00:04:45.374612                  NaN      Bernoulli   \n4        4  0.879 0 days 00:02:44.895747                  NaN      Bernoulli   \n44      44  0.879 0 days 00:03:01.760989                  NaN      Bernoulli   \n9        9  0.879 0 days 00:02:20.100945                  NaN      Bernoulli   \n40      40  0.879 0 days 00:02:54.074090                  NaN      Bernoulli   \n45      45  0.879 0 days 00:03:04.209561                  NaN      Bernoulli   \n47      47  0.879 0 days 00:03:05.353513                  NaN      Bernoulli   \n5        5  0.880 0 days 00:02:09.130258                  NaN      Bernoulli   \n2        2  0.880 0 days 00:02:24.316553                  NaN      Bernoulli   \n3        3  0.880 0 days 00:02:37.016505                2.642       Bayesian   \n41      41  0.880 0 days 00:04:22.863851                2.674       Bayesian   \n7        7  0.880 0 days 00:01:57.229910                  NaN      Bernoulli   \n1        1  0.880 0 days 00:02:44.690209                2.281       Bayesian   \n48      48  0.882 0 days 00:03:05.972636                4.755       Bayesian   \n8        8  0.883 0 days 00:02:29.305147                4.224       Bayesian   \n37      37  0.883 0 days 00:03:48.818473                6.472       Bayesian   \n39      39  0.883 0 days 00:04:16.978525                6.154       Bayesian   \n28      28  0.883 0 days 00:03:52.995170                8.529       Bayesian   \n6        6  0.884 0 days 00:02:57.796323                9.287       Bayesian   \n\n    colsample_bylevel  depth  learning_rate  random_strength  subsample  \n35              0.878      8          0.059            3.389        NaN  \n32              0.955      8          0.055            2.401        NaN  \n42              0.971      8          0.060            4.730      0.969  \n18              0.939      9          0.055            3.476        NaN  \n34              0.876      8          0.059            3.425        NaN  \n33              0.926      8          0.058            3.329        NaN  \n43              0.967      8          0.060            4.644      0.998  \n27              0.949      8          0.057            2.382        NaN  \n21              0.940      9          0.055            1.651        NaN  \n24              0.956      7          0.056            2.264        NaN  \n29              0.746      8          0.057            4.319        NaN  \n30              0.837      9          0.050            1.009        NaN  \n20              0.932      9          0.055            1.927        NaN  \n16              0.904      9          0.054            8.368        NaN  \n13              0.995      9          0.053            8.342        NaN  \n26              0.855      7          0.048            0.986        NaN  \n22              0.935      9          0.060            1.741        NaN  \n31              0.960      7          0.056            2.547        NaN  \n11              0.978      8          0.054            9.648        NaN  \n14              0.914      9          0.052            8.165        NaN  \n36              0.789      7          0.059            4.436        NaN  \n25              0.945      7          0.051            4.192        NaN  \n23              0.867     10          0.056            1.686        NaN  \n10              0.990      8          0.053            9.960        NaN  \n15              0.679     10          0.048            8.123        NaN  \n12              0.992      8          0.053            9.471        NaN  \n38              0.823      8          0.040            3.062        NaN  \n19              0.723     10          0.056            3.564        NaN  \n46              0.986      9          0.052            6.585      0.655  \n17              0.895     11          0.051            8.045        NaN  \n0               0.765      6          0.059            9.643        NaN  \n49              0.912     10          0.047            2.816      0.677  \n4               0.653      9          0.043            6.975      0.744  \n44              0.618      8          0.057            5.394      0.510  \n9               0.902      6          0.057            5.187      0.812  \n40              0.755      7          0.058            5.793      0.537  \n45              0.869      6          0.058            3.828      0.902  \n47              0.841      8          0.054            4.739      0.414  \n5               0.525     10          0.043            0.181      0.294  \n2               0.584     10          0.043            6.780      0.275  \n3               0.536      8          0.041            6.323        NaN  \n41              0.911      8          0.059            3.208        NaN  \n7               0.819      7          0.058            5.846      0.180  \n1               0.808      7          0.049            2.822        NaN  \n48              0.543      7          0.059            3.964        NaN  \n8               0.848      6          0.045            0.375        NaN  \n37              0.878      8          0.059            5.119        NaN  \n39              0.789      9          0.054            3.758        NaN  \n28              0.884      8          0.060            2.824        NaN  \n6               0.788     11          0.045            3.555        NaN  ",
      "text/html": "<div>\n<style scoped>\n    .dataframe tbody tr th:only-of-type {\n        vertical-align: middle;\n    }\n\n    .dataframe tbody tr th {\n        vertical-align: top;\n    }\n\n    .dataframe thead th {\n        text-align: right;\n    }\n</style>\n<table border=\"1\" class=\"dataframe\">\n  <thead>\n    <tr style=\"text-align: right;\">\n      <th></th>\n      <th>number</th>\n      <th>value</th>\n      <th>duration</th>\n      <th>bagging_temperature</th>\n      <th>bootstrap_type</th>\n      <th>colsample_bylevel</th>\n      <th>depth</th>\n      <th>learning_rate</th>\n      <th>random_strength</th>\n      <th>subsample</th>\n    </tr>\n  </thead>\n  <tbody>\n    <tr>\n      <th>35</th>\n      <td>35</td>\n      <td>0.879</td>\n      <td>0 days 00:04:03.704423</td>\n      <td>0.041</td>\n      <td>Bayesian</td>\n      <td>0.878</td>\n      <td>8</td>\n      <td>0.059</td>\n      <td>3.389</td>\n      <td>NaN</td>\n    </tr>\n    <tr>\n      <th>32</th>\n      <td>32</td>\n      <td>0.879</td>\n      <td>0 days 00:03:42.943585</td>\n      <td>NaN</td>\n      <td>MVS</td>\n      <td>0.955</td>\n      <td>8</td>\n      <td>0.055</td>\n      <td>2.401</td>\n      <td>NaN</td>\n    </tr>\n    <tr>\n      <th>42</th>\n      <td>42</td>\n      <td>0.879</td>\n      <td>0 days 00:04:13.591497</td>\n      <td>NaN</td>\n      <td>Bernoulli</td>\n      <td>0.971</td>\n      <td>8</td>\n      <td>0.060</td>\n      <td>4.730</td>\n      <td>0.969</td>\n    </tr>\n    <tr>\n      <th>18</th>\n      <td>18</td>\n      <td>0.879</td>\n      <td>0 days 00:04:04.384060</td>\n      <td>NaN</td>\n      <td>MVS</td>\n      <td>0.939</td>\n      <td>9</td>\n      <td>0.055</td>\n      <td>3.476</td>\n      <td>NaN</td>\n    </tr>\n    <tr>\n      <th>34</th>\n      <td>34</td>\n      <td>0.879</td>\n      <td>0 days 00:03:36.962969</td>\n      <td>NaN</td>\n      <td>MVS</td>\n      <td>0.876</td>\n      <td>8</td>\n      <td>0.059</td>\n      <td>3.425</td>\n      <td>NaN</td>\n    </tr>\n    <tr>\n      <th>33</th>\n      <td>33</td>\n      <td>0.879</td>\n      <td>0 days 00:03:44.085149</td>\n      <td>NaN</td>\n      <td>MVS</td>\n      <td>0.926</td>\n      <td>8</td>\n      <td>0.058</td>\n      <td>3.329</td>\n      <td>NaN</td>\n    </tr>\n    <tr>\n      <th>43</th>\n      <td>43</td>\n      <td>0.879</td>\n      <td>0 days 00:03:59.490672</td>\n      <td>NaN</td>\n      <td>Bernoulli</td>\n      <td>0.967</td>\n      <td>8</td>\n      <td>0.060</td>\n      <td>4.644</td>\n      <td>0.998</td>\n    </tr>\n    <tr>\n      <th>27</th>\n      <td>27</td>\n      <td>0.879</td>\n      <td>0 days 00:03:41.418698</td>\n      <td>NaN</td>\n      <td>MVS</td>\n      <td>0.949</td>\n      <td>8</td>\n      <td>0.057</td>\n      <td>2.382</td>\n      <td>NaN</td>\n    </tr>\n    <tr>\n      <th>21</th>\n      <td>21</td>\n      <td>0.879</td>\n      <td>0 days 00:04:06.746170</td>\n      <td>NaN</td>\n      <td>MVS</td>\n      <td>0.940</td>\n      <td>9</td>\n      <td>0.055</td>\n      <td>1.651</td>\n      <td>NaN</td>\n    </tr>\n    <tr>\n      <th>24</th>\n      <td>24</td>\n      <td>0.879</td>\n      <td>0 days 00:03:13.639142</td>\n      <td>NaN</td>\n      <td>MVS</td>\n      <td>0.956</td>\n      <td>7</td>\n      <td>0.056</td>\n      <td>2.264</td>\n      <td>NaN</td>\n    </tr>\n    <tr>\n      <th>29</th>\n      <td>29</td>\n      <td>0.879</td>\n      <td>0 days 00:03:26.161242</td>\n      <td>NaN</td>\n      <td>MVS</td>\n      <td>0.746</td>\n      <td>8</td>\n      <td>0.057</td>\n      <td>4.319</td>\n      <td>NaN</td>\n    </tr>\n    <tr>\n      <th>30</th>\n      <td>30</td>\n      <td>0.879</td>\n      <td>0 days 00:03:23.601242</td>\n      <td>NaN</td>\n      <td>MVS</td>\n      <td>0.837</td>\n      <td>9</td>\n      <td>0.050</td>\n      <td>1.009</td>\n      <td>NaN</td>\n    </tr>\n    <tr>\n      <th>20</th>\n      <td>20</td>\n      <td>0.879</td>\n      <td>0 days 00:03:19.275972</td>\n      <td>NaN</td>\n      <td>MVS</td>\n      <td>0.932</td>\n      <td>9</td>\n      <td>0.055</td>\n      <td>1.927</td>\n      <td>NaN</td>\n    </tr>\n    <tr>\n      <th>16</th>\n      <td>16</td>\n      <td>0.879</td>\n      <td>0 days 00:03:20.577903</td>\n      <td>NaN</td>\n      <td>MVS</td>\n      <td>0.904</td>\n      <td>9</td>\n      <td>0.054</td>\n      <td>8.368</td>\n      <td>NaN</td>\n    </tr>\n    <tr>\n      <th>13</th>\n      <td>13</td>\n      <td>0.879</td>\n      <td>0 days 00:03:26.929746</td>\n      <td>NaN</td>\n      <td>MVS</td>\n      <td>0.995</td>\n      <td>9</td>\n      <td>0.053</td>\n      <td>8.342</td>\n      <td>NaN</td>\n    </tr>\n    <tr>\n      <th>26</th>\n      <td>26</td>\n      <td>0.879</td>\n      <td>0 days 00:03:08.112402</td>\n      <td>NaN</td>\n      <td>MVS</td>\n      <td>0.855</td>\n      <td>7</td>\n      <td>0.048</td>\n      <td>0.986</td>\n      <td>NaN</td>\n    </tr>\n    <tr>\n      <th>22</th>\n      <td>22</td>\n      <td>0.879</td>\n      <td>0 days 00:03:34.038149</td>\n      <td>NaN</td>\n      <td>MVS</td>\n      <td>0.935</td>\n      <td>9</td>\n      <td>0.060</td>\n      <td>1.741</td>\n      <td>NaN</td>\n    </tr>\n    <tr>\n      <th>31</th>\n      <td>31</td>\n      <td>0.879</td>\n      <td>0 days 00:03:22.264712</td>\n      <td>NaN</td>\n      <td>MVS</td>\n      <td>0.960</td>\n      <td>7</td>\n      <td>0.056</td>\n      <td>2.547</td>\n      <td>NaN</td>\n    </tr>\n    <tr>\n      <th>11</th>\n      <td>11</td>\n      <td>0.879</td>\n      <td>0 days 00:02:51.991572</td>\n      <td>NaN</td>\n      <td>MVS</td>\n      <td>0.978</td>\n      <td>8</td>\n      <td>0.054</td>\n      <td>9.648</td>\n      <td>NaN</td>\n    </tr>\n    <tr>\n      <th>14</th>\n      <td>14</td>\n      <td>0.879</td>\n      <td>0 days 00:03:18.355489</td>\n      <td>NaN</td>\n      <td>MVS</td>\n      <td>0.914</td>\n      <td>9</td>\n      <td>0.052</td>\n      <td>8.165</td>\n      <td>NaN</td>\n    </tr>\n    <tr>\n      <th>36</th>\n      <td>36</td>\n      <td>0.879</td>\n      <td>0 days 00:03:15.481218</td>\n      <td>0.219</td>\n      <td>Bayesian</td>\n      <td>0.789</td>\n      <td>7</td>\n      <td>0.059</td>\n      <td>4.436</td>\n      <td>NaN</td>\n    </tr>\n    <tr>\n      <th>25</th>\n      <td>25</td>\n      <td>0.879</td>\n      <td>0 days 00:03:11.273308</td>\n      <td>NaN</td>\n      <td>MVS</td>\n      <td>0.945</td>\n      <td>7</td>\n      <td>0.051</td>\n      <td>4.192</td>\n      <td>NaN</td>\n    </tr>\n    <tr>\n      <th>23</th>\n      <td>23</td>\n      <td>0.879</td>\n      <td>0 days 00:03:25.451489</td>\n      <td>NaN</td>\n      <td>MVS</td>\n      <td>0.867</td>\n      <td>10</td>\n      <td>0.056</td>\n      <td>1.686</td>\n      <td>NaN</td>\n    </tr>\n    <tr>\n      <th>10</th>\n      <td>10</td>\n      <td>0.879</td>\n      <td>0 days 00:02:56.271132</td>\n      <td>NaN</td>\n      <td>MVS</td>\n      <td>0.990</td>\n      <td>8</td>\n      <td>0.053</td>\n      <td>9.960</td>\n      <td>NaN</td>\n    </tr>\n    <tr>\n      <th>15</th>\n      <td>15</td>\n      <td>0.879</td>\n      <td>0 days 00:03:34.532506</td>\n      <td>NaN</td>\n      <td>MVS</td>\n      <td>0.679</td>\n      <td>10</td>\n      <td>0.048</td>\n      <td>8.123</td>\n      <td>NaN</td>\n    </tr>\n    <tr>\n      <th>12</th>\n      <td>12</td>\n      <td>0.879</td>\n      <td>0 days 00:02:59.656228</td>\n      <td>NaN</td>\n      <td>MVS</td>\n      <td>0.992</td>\n      <td>8</td>\n      <td>0.053</td>\n      <td>9.471</td>\n      <td>NaN</td>\n    </tr>\n    <tr>\n      <th>38</th>\n      <td>38</td>\n      <td>0.879</td>\n      <td>0 days 00:03:26.890519</td>\n      <td>0.104</td>\n      <td>Bayesian</td>\n      <td>0.823</td>\n      <td>8</td>\n      <td>0.040</td>\n      <td>3.062</td>\n      <td>NaN</td>\n    </tr>\n    <tr>\n      <th>19</th>\n      <td>19</td>\n      <td>0.879</td>\n      <td>0 days 00:03:34.312133</td>\n      <td>NaN</td>\n      <td>MVS</td>\n      <td>0.723</td>\n      <td>10</td>\n      <td>0.056</td>\n      <td>3.564</td>\n      <td>NaN</td>\n    </tr>\n    <tr>\n      <th>46</th>\n      <td>46</td>\n      <td>0.879</td>\n      <td>0 days 00:03:53.970477</td>\n      <td>NaN</td>\n      <td>Bernoulli</td>\n      <td>0.986</td>\n      <td>9</td>\n      <td>0.052</td>\n      <td>6.585</td>\n      <td>0.655</td>\n    </tr>\n    <tr>\n      <th>17</th>\n      <td>17</td>\n      <td>0.879</td>\n      <td>0 days 00:04:39.625903</td>\n      <td>NaN</td>\n      <td>MVS</td>\n      <td>0.895</td>\n      <td>11</td>\n      <td>0.051</td>\n      <td>8.045</td>\n      <td>NaN</td>\n    </tr>\n    <tr>\n      <th>0</th>\n      <td>0</td>\n      <td>0.879</td>\n      <td>0 days 00:02:14.221226</td>\n      <td>NaN</td>\n      <td>MVS</td>\n      <td>0.765</td>\n      <td>6</td>\n      <td>0.059</td>\n      <td>9.643</td>\n      <td>NaN</td>\n    </tr>\n    <tr>\n      <th>49</th>\n      <td>49</td>\n      <td>0.879</td>\n      <td>0 days 00:04:45.374612</td>\n      <td>NaN</td>\n      <td>Bernoulli</td>\n      <td>0.912</td>\n      <td>10</td>\n      <td>0.047</td>\n      <td>2.816</td>\n      <td>0.677</td>\n    </tr>\n    <tr>\n      <th>4</th>\n      <td>4</td>\n      <td>0.879</td>\n      <td>0 days 00:02:44.895747</td>\n      <td>NaN</td>\n      <td>Bernoulli</td>\n      <td>0.653</td>\n      <td>9</td>\n      <td>0.043</td>\n      <td>6.975</td>\n      <td>0.744</td>\n    </tr>\n    <tr>\n      <th>44</th>\n      <td>44</td>\n      <td>0.879</td>\n      <td>0 days 00:03:01.760989</td>\n      <td>NaN</td>\n      <td>Bernoulli</td>\n      <td>0.618</td>\n      <td>8</td>\n      <td>0.057</td>\n      <td>5.394</td>\n      <td>0.510</td>\n    </tr>\n    <tr>\n      <th>9</th>\n      <td>9</td>\n      <td>0.879</td>\n      <td>0 days 00:02:20.100945</td>\n      <td>NaN</td>\n      <td>Bernoulli</td>\n      <td>0.902</td>\n      <td>6</td>\n      <td>0.057</td>\n      <td>5.187</td>\n      <td>0.812</td>\n    </tr>\n    <tr>\n      <th>40</th>\n      <td>40</td>\n      <td>0.879</td>\n      <td>0 days 00:02:54.074090</td>\n      <td>NaN</td>\n      <td>Bernoulli</td>\n      <td>0.755</td>\n      <td>7</td>\n      <td>0.058</td>\n      <td>5.793</td>\n      <td>0.537</td>\n    </tr>\n    <tr>\n      <th>45</th>\n      <td>45</td>\n      <td>0.879</td>\n      <td>0 days 00:03:04.209561</td>\n      <td>NaN</td>\n      <td>Bernoulli</td>\n      <td>0.869</td>\n      <td>6</td>\n      <td>0.058</td>\n      <td>3.828</td>\n      <td>0.902</td>\n    </tr>\n    <tr>\n      <th>47</th>\n      <td>47</td>\n      <td>0.879</td>\n      <td>0 days 00:03:05.353513</td>\n      <td>NaN</td>\n      <td>Bernoulli</td>\n      <td>0.841</td>\n      <td>8</td>\n      <td>0.054</td>\n      <td>4.739</td>\n      <td>0.414</td>\n    </tr>\n    <tr>\n      <th>5</th>\n      <td>5</td>\n      <td>0.880</td>\n      <td>0 days 00:02:09.130258</td>\n      <td>NaN</td>\n      <td>Bernoulli</td>\n      <td>0.525</td>\n      <td>10</td>\n      <td>0.043</td>\n      <td>0.181</td>\n      <td>0.294</td>\n    </tr>\n    <tr>\n      <th>2</th>\n      <td>2</td>\n      <td>0.880</td>\n      <td>0 days 00:02:24.316553</td>\n      <td>NaN</td>\n      <td>Bernoulli</td>\n      <td>0.584</td>\n      <td>10</td>\n      <td>0.043</td>\n      <td>6.780</td>\n      <td>0.275</td>\n    </tr>\n    <tr>\n      <th>3</th>\n      <td>3</td>\n      <td>0.880</td>\n      <td>0 days 00:02:37.016505</td>\n      <td>2.642</td>\n      <td>Bayesian</td>\n      <td>0.536</td>\n      <td>8</td>\n      <td>0.041</td>\n      <td>6.323</td>\n      <td>NaN</td>\n    </tr>\n    <tr>\n      <th>41</th>\n      <td>41</td>\n      <td>0.880</td>\n      <td>0 days 00:04:22.863851</td>\n      <td>2.674</td>\n      <td>Bayesian</td>\n      <td>0.911</td>\n      <td>8</td>\n      <td>0.059</td>\n      <td>3.208</td>\n      <td>NaN</td>\n    </tr>\n    <tr>\n      <th>7</th>\n      <td>7</td>\n      <td>0.880</td>\n      <td>0 days 00:01:57.229910</td>\n      <td>NaN</td>\n      <td>Bernoulli</td>\n      <td>0.819</td>\n      <td>7</td>\n      <td>0.058</td>\n      <td>5.846</td>\n      <td>0.180</td>\n    </tr>\n    <tr>\n      <th>1</th>\n      <td>1</td>\n      <td>0.880</td>\n      <td>0 days 00:02:44.690209</td>\n      <td>2.281</td>\n      <td>Bayesian</td>\n      <td>0.808</td>\n      <td>7</td>\n      <td>0.049</td>\n      <td>2.822</td>\n      <td>NaN</td>\n    </tr>\n    <tr>\n      <th>48</th>\n      <td>48</td>\n      <td>0.882</td>\n      <td>0 days 00:03:05.972636</td>\n      <td>4.755</td>\n      <td>Bayesian</td>\n      <td>0.543</td>\n      <td>7</td>\n      <td>0.059</td>\n      <td>3.964</td>\n      <td>NaN</td>\n    </tr>\n    <tr>\n      <th>8</th>\n      <td>8</td>\n      <td>0.883</td>\n      <td>0 days 00:02:29.305147</td>\n      <td>4.224</td>\n      <td>Bayesian</td>\n      <td>0.848</td>\n      <td>6</td>\n      <td>0.045</td>\n      <td>0.375</td>\n      <td>NaN</td>\n    </tr>\n    <tr>\n      <th>37</th>\n      <td>37</td>\n      <td>0.883</td>\n      <td>0 days 00:03:48.818473</td>\n      <td>6.472</td>\n      <td>Bayesian</td>\n      <td>0.878</td>\n      <td>8</td>\n      <td>0.059</td>\n      <td>5.119</td>\n      <td>NaN</td>\n    </tr>\n    <tr>\n      <th>39</th>\n      <td>39</td>\n      <td>0.883</td>\n      <td>0 days 00:04:16.978525</td>\n      <td>6.154</td>\n      <td>Bayesian</td>\n      <td>0.789</td>\n      <td>9</td>\n      <td>0.054</td>\n      <td>3.758</td>\n      <td>NaN</td>\n    </tr>\n    <tr>\n      <th>28</th>\n      <td>28</td>\n      <td>0.883</td>\n      <td>0 days 00:03:52.995170</td>\n      <td>8.529</td>\n      <td>Bayesian</td>\n      <td>0.884</td>\n      <td>8</td>\n      <td>0.060</td>\n      <td>2.824</td>\n      <td>NaN</td>\n    </tr>\n    <tr>\n      <th>6</th>\n      <td>6</td>\n      <td>0.884</td>\n      <td>0 days 00:02:57.796323</td>\n      <td>9.287</td>\n      <td>Bayesian</td>\n      <td>0.788</td>\n      <td>11</td>\n      <td>0.045</td>\n      <td>3.555</td>\n      <td>NaN</td>\n    </tr>\n  </tbody>\n</table>\n</div>"
     },
     "execution_count": 12,
     "metadata": {},
     "output_type": "execute_result"
    }
   ],
   "source": [
    "experiments1.head(50)"
   ],
   "metadata": {
    "collapsed": false,
    "pycharm": {
     "name": "#%%\n"
    }
   }
  },
  {
   "cell_type": "code",
   "execution_count": null,
   "outputs": [
    {
     "name": "stderr",
     "output_type": "stream",
     "text": [
      "\u001B[32m[I 2022-09-05 16:13:59,939]\u001B[0m A new study created in memory with name: no-name-0712e717-ebcb-435f-afcb-3045d2aedf40\u001B[0m\n"
     ]
    },
    {
     "data": {
      "text/plain": "  0%|          | 0/50 [00:00<?, ?it/s]",
      "application/vnd.jupyter.widget-view+json": {
       "version_major": 2,
       "version_minor": 0,
       "model_id": "d0d7ba356a93494991b1372ee08feda8"
      },
      "application/json": {
       "n": 0,
       "total": 50,
       "elapsed": 0.011144876480102539,
       "ncols": null,
       "nrows": null,
       "prefix": "",
       "ascii": false,
       "unit": "it",
       "unit_scale": false,
       "rate": null,
       "bar_format": null,
       "postfix": null,
       "unit_divisor": 1000,
       "initial": 0,
       "colour": null
      }
     },
     "metadata": {},
     "output_type": "display_data"
    },
    {
     "name": "stdout",
     "output_type": "stream",
     "text": [
      "Training on fold [0/3]\n",
      "\n",
      "bestTest = 0.8779271498\n",
      "bestIteration = 313\n",
      "\n",
      "Training on fold [1/3]\n",
      "\n",
      "bestTest = 0.8796417742\n",
      "bestIteration = 353\n",
      "\n",
      "Training on fold [2/3]\n",
      "\n",
      "bestTest = 0.8824086671\n",
      "bestIteration = 288\n",
      "\n",
      "\u001B[32m[I 2022-09-05 16:17:05,055]\u001B[0m Trial 0 finished with value: 0.880020248601202 and parameters: {'learning_rate': 0.05977582796437042, 'colsample_bylevel': 0.5267303930299649, 'depth': 10, 'bootstrap_type': 'Bayesian', 'random_strength': 5.518905296619517, 'bagging_temperature': 2.1275114839940654}. Best is trial 0 with value: 0.880020248601202.\u001B[0m\n",
      "Training on fold [0/3]\n",
      "\n",
      "bestTest = 0.8769717915\n",
      "bestIteration = 499\n",
      "\n",
      "Training on fold [1/3]\n",
      "\n",
      "bestTest = 0.8784261686\n",
      "bestIteration = 494\n",
      "\n",
      "Training on fold [2/3]\n",
      "\n",
      "bestTest = 0.8812588969\n",
      "bestIteration = 497\n",
      "\n",
      "\u001B[32m[I 2022-09-05 16:21:24,380]\u001B[0m Trial 1 finished with value: 0.8788895233294367 and parameters: {'learning_rate': 0.04899886210861662, 'colsample_bylevel': 0.9865415320261337, 'depth': 7, 'bootstrap_type': 'MVS', 'random_strength': 2.226277631228163}. Best is trial 1 with value: 0.8788895233294367.\u001B[0m\n",
      "Training on fold [0/3]\n",
      "\n",
      "bestTest = 0.8779380019\n",
      "bestIteration = 499\n",
      "\n",
      "Training on fold [1/3]\n",
      "\n",
      "bestTest = 0.8797666617\n",
      "bestIteration = 498\n",
      "\n",
      "Training on fold [2/3]\n",
      "\n",
      "bestTest = 0.8823099998\n",
      "bestIteration = 498\n",
      "\n",
      "\u001B[32m[I 2022-09-05 16:24:02,137]\u001B[0m Trial 2 finished with value: 0.8800049447246936 and parameters: {'learning_rate': 0.055669155745106474, 'colsample_bylevel': 0.6314289793860621, 'depth': 8, 'bootstrap_type': 'Bernoulli', 'random_strength': 8.49864086879569, 'subsample': 0.22402104496513575}. Best is trial 1 with value: 0.8788895233294367.\u001B[0m\n",
      "Training on fold [0/3]\n",
      "\n",
      "bestTest = 0.877005189\n",
      "bestIteration = 499\n",
      "\n",
      "Training on fold [1/3]\n",
      "\n",
      "bestTest = 0.8784068488\n",
      "bestIteration = 497\n",
      "\n",
      "Training on fold [2/3]\n",
      "\n",
      "bestTest = 0.8811615641\n",
      "bestIteration = 499\n",
      "\n",
      "\u001B[32m[I 2022-09-05 16:27:46,755]\u001B[0m Trial 3 finished with value: 0.8788584631588917 and parameters: {'learning_rate': 0.05300131413914276, 'colsample_bylevel': 0.5709190036489007, 'depth': 9, 'bootstrap_type': 'MVS', 'random_strength': 7.894782138585423}. Best is trial 3 with value: 0.8788584631588917.\u001B[0m\n",
      "Training on fold [0/3]\n",
      "\n",
      "bestTest = 0.877019954\n",
      "bestIteration = 497\n",
      "\n",
      "Training on fold [1/3]\n",
      "\n",
      "bestTest = 0.8784519135\n",
      "bestIteration = 499\n",
      "\n",
      "Training on fold [2/3]\n",
      "\n",
      "bestTest = 0.8813931217\n",
      "bestIteration = 482\n",
      "\n",
      "\u001B[32m[I 2022-09-05 16:32:40,751]\u001B[0m Trial 4 finished with value: 0.8789618255352104 and parameters: {'learning_rate': 0.05044333987646238, 'colsample_bylevel': 0.9186948695051975, 'depth': 9, 'bootstrap_type': 'Bernoulli', 'random_strength': 5.351158637094834, 'subsample': 0.8164518514475699}. Best is trial 3 with value: 0.8788584631588917.\u001B[0m\n",
      "Training on fold [0/3]\n",
      "\n",
      "bestTest = 0.8774245742\n",
      "bestIteration = 304\n",
      "\n",
      "Training on fold [1/3]\n",
      "\n",
      "bestTest = 0.878899533\n",
      "bestIteration = 324\n",
      "\n",
      "Training on fold [2/3]\n",
      "\n",
      "bestTest = 0.8814580461\n",
      "bestIteration = 366\n",
      "\n",
      "\u001B[32m[I 2022-09-05 16:37:24,203]\u001B[0m Trial 5 finished with value: 0.8792915821559458 and parameters: {'learning_rate': 0.05756626702765979, 'colsample_bylevel': 0.7505072955936563, 'depth': 11, 'bootstrap_type': 'Bayesian', 'random_strength': 5.7090445033516515, 'bagging_temperature': 0.3781807524652514}. Best is trial 3 with value: 0.8788584631588917.\u001B[0m\n",
      "Training on fold [0/3]\n",
      "\n",
      "bestTest = 0.8771291801\n",
      "bestIteration = 498\n",
      "\n",
      "Training on fold [1/3]\n",
      "\n",
      "bestTest = 0.8787883522\n",
      "bestIteration = 499\n",
      "\n",
      "Training on fold [2/3]\n",
      "\n",
      "bestTest = 0.8814633424\n",
      "bestIteration = 499\n",
      "\n",
      "\u001B[32m[I 2022-09-05 16:42:03,878]\u001B[0m Trial 6 finished with value: 0.8791273468938408 and parameters: {'learning_rate': 0.0492975085986406, 'colsample_bylevel': 0.8059878671485969, 'depth': 8, 'bootstrap_type': 'Bayesian', 'random_strength': 2.6797747720757172, 'bagging_temperature': 0.7356241492698645}. Best is trial 3 with value: 0.8788584631588917.\u001B[0m\n",
      "Training on fold [0/3]\n",
      "\n",
      "bestTest = 0.8773969626\n",
      "bestIteration = 499\n",
      "\n",
      "Training on fold [1/3]\n",
      "\n",
      "bestTest = 0.878863473\n",
      "bestIteration = 499\n",
      "\n",
      "Training on fold [2/3]\n",
      "\n",
      "bestTest = 0.881525924\n",
      "bestIteration = 499\n",
      "\n",
      "\u001B[32m[I 2022-09-05 16:45:52,838]\u001B[0m Trial 7 finished with value: 0.8792621198728586 and parameters: {'learning_rate': 0.04957483382493121, 'colsample_bylevel': 0.7034124729239974, 'depth': 7, 'bootstrap_type': 'MVS', 'random_strength': 9.250565996204191}. Best is trial 3 with value: 0.8788584631588917.\u001B[0m\n",
      "Training on fold [0/3]\n",
      "\n",
      "bestTest = 0.8776787668\n",
      "bestIteration = 496\n",
      "\n",
      "Training on fold [1/3]\n",
      "\n",
      "bestTest = 0.87929271\n",
      "bestIteration = 499\n",
      "\n",
      "Training on fold [2/3]\n",
      "\n",
      "bestTest = 0.8821921699\n",
      "bestIteration = 497\n",
      "\n",
      "\u001B[32m[I 2022-09-05 16:48:50,992]\u001B[0m Trial 8 finished with value: 0.879723240809517 and parameters: {'learning_rate': 0.051067986691065215, 'colsample_bylevel': 0.7136640695877908, 'depth': 7, 'bootstrap_type': 'Bernoulli', 'random_strength': 0.6751494471353302, 'subsample': 0.3474486848011872}. Best is trial 3 with value: 0.8788584631588917.\u001B[0m\n",
      "Training on fold [0/3]\n",
      "\n",
      "bestTest = 0.8771419876\n",
      "bestIteration = 499\n",
      "\n",
      "Training on fold [1/3]\n",
      "\n",
      "bestTest = 0.8788555151\n",
      "bestIteration = 499\n",
      "\n",
      "Training on fold [2/3]\n",
      "\n",
      "bestTest = 0.8814673918\n",
      "bestIteration = 498\n",
      "\n",
      "\u001B[32m[I 2022-09-05 16:51:54,733]\u001B[0m Trial 9 finished with value: 0.8791552652012595 and parameters: {'learning_rate': 0.058923324476566896, 'colsample_bylevel': 0.8581394886374221, 'depth': 6, 'bootstrap_type': 'MVS', 'random_strength': 6.405479567764175}. Best is trial 3 with value: 0.8788584631588917.\u001B[0m\n",
      "Training on fold [0/3]\n",
      "\n",
      "bestTest = 0.87689544\n",
      "bestIteration = 499\n",
      "\n",
      "Training on fold [1/3]\n",
      "\n",
      "bestTest = 0.8785509669\n",
      "bestIteration = 499\n",
      "\n",
      "Training on fold [2/3]\n",
      "\n",
      "bestTest = 0.8813998892\n",
      "bestIteration = 498\n",
      "\n",
      "\u001B[32m[I 2022-09-05 16:55:39,378]\u001B[0m Trial 10 finished with value: 0.8789518475489443 and parameters: {'learning_rate': 0.04123362127499567, 'colsample_bylevel': 0.5106365561598543, 'depth': 10, 'bootstrap_type': 'MVS', 'random_strength': 7.858522055502835}. Best is trial 3 with value: 0.8788584631588917.\u001B[0m\n",
      "Training on fold [0/3]\n",
      "\n",
      "bestTest = 0.8774423805\n",
      "bestIteration = 499\n",
      "\n",
      "Training on fold [1/3]\n",
      "\n",
      "bestTest = 0.8790805826\n",
      "bestIteration = 499\n",
      "\n",
      "Training on fold [2/3]\n",
      "\n",
      "bestTest = 0.8818888118\n",
      "bestIteration = 499\n",
      "\n",
      "\u001B[32m[I 2022-09-05 16:58:51,143]\u001B[0m Trial 11 finished with value: 0.879470591622247 and parameters: {'learning_rate': 0.043974977784142374, 'colsample_bylevel': 0.9914548236980494, 'depth': 6, 'bootstrap_type': 'MVS', 'random_strength': 3.21866160998726}. Best is trial 3 with value: 0.8788584631588917.\u001B[0m\n",
      "Training on fold [0/3]\n",
      "\n",
      "bestTest = 0.8767788859\n",
      "bestIteration = 499\n",
      "\n",
      "Training on fold [1/3]\n",
      "\n",
      "bestTest = 0.8783868688\n",
      "bestIteration = 487\n",
      "\n",
      "Training on fold [2/3]\n",
      "\n",
      "bestTest = 0.881235888\n",
      "bestIteration = 433\n",
      "\n",
      "\u001B[32m[I 2022-09-05 17:02:32,627]\u001B[0m Trial 12 finished with value: 0.8788184259615571 and parameters: {'learning_rate': 0.04538502387280522, 'colsample_bylevel': 0.6023434198707456, 'depth': 9, 'bootstrap_type': 'MVS', 'random_strength': 0.1891166283167487}. Best is trial 12 with value: 0.8788184259615571.\u001B[0m\n",
      "Training on fold [0/3]\n",
      "\n",
      "bestTest = 0.8768334875\n",
      "bestIteration = 406\n",
      "\n",
      "Training on fold [1/3]\n",
      "\n",
      "bestTest = 0.8783340399\n",
      "bestIteration = 498\n",
      "\n",
      "Training on fold [2/3]\n",
      "\n",
      "bestTest = 0.8811037905\n",
      "bestIteration = 498\n",
      "\n",
      "\u001B[32m[I 2022-09-05 17:06:11,406]\u001B[0m Trial 13 finished with value: 0.8787650941435482 and parameters: {'learning_rate': 0.04426734530078737, 'colsample_bylevel': 0.6042089042282391, 'depth': 9, 'bootstrap_type': 'MVS', 'random_strength': 0.22636157828148226}. Best is trial 13 with value: 0.8787650941435482.\u001B[0m\n",
      "Training on fold [0/3]\n",
      "\n",
      "bestTest = 0.8769912647\n",
      "bestIteration = 402\n",
      "\n",
      "Training on fold [1/3]\n",
      "\n",
      "bestTest = 0.8785221072\n",
      "bestIteration = 392\n",
      "\n",
      "Training on fold [2/3]\n",
      "\n",
      "bestTest = 0.8813668219\n",
      "bestIteration = 389\n",
      "\n",
      "\u001B[32m[I 2022-09-05 17:09:48,025]\u001B[0m Trial 14 finished with value: 0.8789736579293677 and parameters: {'learning_rate': 0.0453924192035091, 'colsample_bylevel': 0.6148135483314886, 'depth': 10, 'bootstrap_type': 'MVS', 'random_strength': 0.2543713201639281}. Best is trial 13 with value: 0.8787650941435482.\u001B[0m\n",
      "Training on fold [0/3]\n",
      "\n",
      "bestTest = 0.877021201\n",
      "bestIteration = 428\n",
      "\n",
      "Training on fold [1/3]\n",
      "\n",
      "bestTest = 0.8781939106\n",
      "bestIteration = 469\n",
      "\n",
      "Training on fold [2/3]\n",
      "\n",
      "bestTest = 0.8811697247\n",
      "bestIteration = 497\n",
      "\n",
      "\u001B[32m[I 2022-09-05 17:13:58,221]\u001B[0m Trial 15 finished with value: 0.878813423413633 and parameters: {'learning_rate': 0.045039746216664296, 'colsample_bylevel': 0.6472334719694077, 'depth': 9, 'bootstrap_type': 'MVS', 'random_strength': 1.395438262849174}. Best is trial 13 with value: 0.8787650941435482.\u001B[0m\n",
      "Training on fold [0/3]\n",
      "\n",
      "bestTest = 0.8768544308\n",
      "bestIteration = 369\n",
      "\n",
      "Training on fold [1/3]\n",
      "\n",
      "bestTest = 0.8784320468\n",
      "bestIteration = 355\n",
      "\n",
      "Training on fold [2/3]\n",
      "\n",
      "bestTest = 0.8812558649\n",
      "bestIteration = 366\n",
      "\n",
      "\u001B[32m[I 2022-09-05 17:21:56,218]\u001B[0m Trial 16 finished with value: 0.8788893178249575 and parameters: {'learning_rate': 0.04162360119445332, 'colsample_bylevel': 0.6672736863011686, 'depth': 11, 'bootstrap_type': 'MVS', 'random_strength': 1.5926433606834491}. Best is trial 13 with value: 0.8787650941435482.\u001B[0m\n",
      "Training on fold [0/3]\n",
      "\n",
      "bestTest = 0.8769162747\n",
      "bestIteration = 494\n",
      "\n",
      "Training on fold [1/3]\n",
      "\n",
      "bestTest = 0.8785776959\n",
      "bestIteration = 499\n",
      "\n",
      "Training on fold [2/3]\n",
      "\n",
      "bestTest = 0.8813552202\n",
      "bestIteration = 499\n",
      "\n",
      "\u001B[32m[I 2022-09-05 17:25:12,643]\u001B[0m Trial 17 finished with value: 0.8789502833881729 and parameters: {'learning_rate': 0.04658868131955487, 'colsample_bylevel': 0.5571120644015486, 'depth': 8, 'bootstrap_type': 'MVS', 'random_strength': 3.9343899086166587}. Best is trial 13 with value: 0.8787650941435482.\u001B[0m\n",
      "Training on fold [0/3]\n",
      "\n",
      "bestTest = 0.8819791035\n",
      "bestIteration = 491\n",
      "\n",
      "Training on fold [1/3]\n",
      "\n",
      "bestTest = 0.8831716792\n",
      "bestIteration = 395\n",
      "\n",
      "Training on fold [2/3]\n",
      "\n",
      "bestTest = 0.8857133901\n",
      "bestIteration = 447\n",
      "\n",
      "\u001B[32m[I 2022-09-05 17:29:56,767]\u001B[0m Trial 18 finished with value: 0.8836333804591968 and parameters: {'learning_rate': 0.04320527696258325, 'colsample_bylevel': 0.7589209713407412, 'depth': 10, 'bootstrap_type': 'Bayesian', 'random_strength': 1.2989738175097472, 'bagging_temperature': 9.47853196928062}. Best is trial 13 with value: 0.8787650941435482.\u001B[0m\n",
      "Training on fold [0/3]\n",
      "\n",
      "bestTest = 0.8771131677\n",
      "bestIteration = 491\n",
      "\n",
      "Training on fold [1/3]\n",
      "\n",
      "bestTest = 0.8786398199\n",
      "bestIteration = 496\n",
      "\n",
      "Training on fold [2/3]\n",
      "\n",
      "bestTest = 0.8815247208\n",
      "bestIteration = 493\n",
      "\n",
      "\u001B[32m[I 2022-09-05 17:34:25,528]\u001B[0m Trial 19 finished with value: 0.8790951412480802 and parameters: {'learning_rate': 0.040230630524172736, 'colsample_bylevel': 0.6554332875975268, 'depth': 9, 'bootstrap_type': 'Bernoulli', 'random_strength': 4.009575063427607, 'subsample': 0.9060919703410377}. Best is trial 13 with value: 0.8787650941435482.\u001B[0m\n",
      "Training on fold [0/3]\n",
      "\n",
      "bestTest = 0.8766741135\n",
      "bestIteration = 480\n",
      "\n",
      "Training on fold [1/3]\n",
      "\n",
      "bestTest = 0.8781722931\n",
      "bestIteration = 499\n",
      "\n",
      "Training on fold [2/3]\n",
      "\n",
      "bestTest = 0.8811878216\n",
      "bestIteration = 498\n",
      "\n",
      "\u001B[32m[I 2022-09-05 17:38:18,313]\u001B[0m Trial 20 finished with value: 0.8786829355274867 and parameters: {'learning_rate': 0.04707691317025523, 'colsample_bylevel': 0.8215497184797944, 'depth': 8, 'bootstrap_type': 'MVS', 'random_strength': 1.3142840414884296}. Best is trial 20 with value: 0.8786829355274867.\u001B[0m\n",
      "Training on fold [0/3]\n",
      "\n",
      "bestTest = 0.8767601687\n",
      "bestIteration = 499\n",
      "\n",
      "Training on fold [1/3]\n",
      "\n",
      "bestTest = 0.87819821\n",
      "bestIteration = 498\n",
      "\n",
      "Training on fold [2/3]\n",
      "\n",
      "bestTest = 0.8810121643\n",
      "bestIteration = 498\n",
      "\n",
      "\u001B[32m[I 2022-09-05 17:42:03,436]\u001B[0m Trial 21 finished with value: 0.8786581211144567 and parameters: {'learning_rate': 0.046945153288410285, 'colsample_bylevel': 0.8237141401577063, 'depth': 8, 'bootstrap_type': 'MVS', 'random_strength': 1.6741999855201894}. Best is trial 21 with value: 0.8786581211144567.\u001B[0m\n",
      "Training on fold [0/3]\n",
      "\n",
      "bestTest = 0.8767376588\n",
      "bestIteration = 499\n",
      "\n",
      "Training on fold [1/3]\n",
      "\n",
      "bestTest = 0.8784775829\n",
      "bestIteration = 498\n",
      "\n",
      "Training on fold [2/3]\n",
      "\n",
      "bestTest = 0.8812244777\n",
      "bestIteration = 498\n",
      "\n",
      "\u001B[32m[I 2022-09-05 17:45:45,096]\u001B[0m Trial 22 finished with value: 0.8788155531107747 and parameters: {'learning_rate': 0.04731096911004553, 'colsample_bylevel': 0.8321918274685423, 'depth': 8, 'bootstrap_type': 'MVS', 'random_strength': 2.3266716714282643}. Best is trial 21 with value: 0.8786581211144567.\u001B[0m\n",
      "Training on fold [0/3]\n",
      "\n",
      "bestTest = 0.8769131135\n",
      "bestIteration = 498\n",
      "\n",
      "Training on fold [1/3]\n",
      "\n",
      "bestTest = 0.8784394975\n",
      "bestIteration = 498\n",
      "\n",
      "Training on fold [2/3]\n",
      "\n",
      "bestTest = 0.8814198786\n",
      "bestIteration = 460\n",
      "\n",
      "\u001B[32m[I 2022-09-05 17:49:11,382]\u001B[0m Trial 23 finished with value: 0.878926131606027 and parameters: {'learning_rate': 0.047402771757639385, 'colsample_bylevel': 0.8922972103770471, 'depth': 7, 'bootstrap_type': 'MVS', 'random_strength': 1.2585523544050201}. Best is trial 21 with value: 0.8786581211144567.\u001B[0m\n",
      "Training on fold [0/3]\n",
      "\n",
      "bestTest = 0.8770015635\n",
      "bestIteration = 499\n",
      "\n",
      "Training on fold [1/3]\n",
      "\n",
      "bestTest = 0.8785516608\n",
      "bestIteration = 499\n",
      "\n",
      "Training on fold [2/3]\n",
      "\n",
      "bestTest = 0.8812715706\n",
      "bestIteration = 499\n",
      "\n",
      "\u001B[32m[I 2022-09-05 17:52:55,885]\u001B[0m Trial 24 finished with value: 0.8789415982827253 and parameters: {'learning_rate': 0.043240482554810486, 'colsample_bylevel': 0.7965078713563962, 'depth': 8, 'bootstrap_type': 'MVS', 'random_strength': 3.1289674633820157}. Best is trial 21 with value: 0.8786581211144567.\u001B[0m\n",
      "Training on fold [0/3]\n",
      "\n",
      "bestTest = 0.8769533642\n",
      "bestIteration = 496\n",
      "\n",
      "Training on fold [1/3]\n",
      "\n",
      "bestTest = 0.8784852257\n",
      "bestIteration = 499\n",
      "\n",
      "Training on fold [2/3]\n",
      "\n",
      "bestTest = 0.8812007268\n",
      "bestIteration = 499\n",
      "\n",
      "\u001B[32m[I 2022-09-05 17:56:42,282]\u001B[0m Trial 25 finished with value: 0.8788812418622493 and parameters: {'learning_rate': 0.04713101407236213, 'colsample_bylevel': 0.9227178323555287, 'depth': 8, 'bootstrap_type': 'MVS', 'random_strength': 4.4019457674956035}. Best is trial 21 with value: 0.8786581211144567.\u001B[0m\n",
      "Training on fold [0/3]\n",
      "\n",
      "bestTest = 0.8768866078\n",
      "bestIteration = 499\n",
      "\n",
      "Training on fold [1/3]\n",
      "\n",
      "bestTest = 0.8784923018\n",
      "bestIteration = 496\n",
      "\n",
      "Training on fold [2/3]\n",
      "\n",
      "bestTest = 0.8814436441\n",
      "bestIteration = 374\n",
      "\n",
      "\u001B[32m[I 2022-09-05 17:59:44,728]\u001B[0m Trial 26 finished with value: 0.8789607272575658 and parameters: {'learning_rate': 0.052902298762031987, 'colsample_bylevel': 0.7857220916442262, 'depth': 7, 'bootstrap_type': 'MVS', 'random_strength': 0.784384191830589}. Best is trial 21 with value: 0.8786581211144567.\u001B[0m\n",
      "Training on fold [0/3]\n",
      "\n",
      "bestTest = 0.8809049995\n",
      "bestIteration = 497\n",
      "\n",
      "Training on fold [1/3]\n",
      "\n",
      "bestTest = 0.8823099395\n",
      "bestIteration = 491\n",
      "\n",
      "Training on fold [2/3]\n",
      "\n",
      "bestTest = 0.8853095272\n",
      "bestIteration = 483\n",
      "\n",
      "\u001B[32m[I 2022-09-05 18:03:53,620]\u001B[0m Trial 27 finished with value: 0.8828485736745059 and parameters: {'learning_rate': 0.04424102443920279, 'colsample_bylevel': 0.7040857164693916, 'depth': 9, 'bootstrap_type': 'Bayesian', 'random_strength': 1.9524089403495979, 'bagging_temperature': 7.635672910132037}. Best is trial 21 with value: 0.8786581211144567.\u001B[0m\n",
      "Training on fold [0/3]\n",
      "\n",
      "bestTest = 0.8771068363\n",
      "bestIteration = 495\n",
      "\n",
      "Training on fold [1/3]\n",
      "\n",
      "bestTest = 0.8787802151\n",
      "bestIteration = 499\n",
      "\n",
      "Training on fold [2/3]\n",
      "\n",
      "bestTest = 0.8815592978\n",
      "bestIteration = 499\n",
      "\n",
      "\u001B[32m[I 2022-09-05 18:07:06,953]\u001B[0m Trial 28 finished with value: 0.8791504105387219 and parameters: {'learning_rate': 0.04621336116826026, 'colsample_bylevel': 0.8582515944348376, 'depth': 8, 'bootstrap_type': 'Bernoulli', 'random_strength': 3.0086083992240606, 'subsample': 0.5945390575479236}. Best is trial 21 with value: 0.8786581211144567.\u001B[0m\n",
      "Training on fold [0/3]\n",
      "\n",
      "bestTest = 0.8770287181\n",
      "bestIteration = 364\n",
      "\n",
      "Training on fold [1/3]\n",
      "\n",
      "bestTest = 0.8783765626\n",
      "bestIteration = 445\n",
      "\n",
      "Training on fold [2/3]\n",
      "\n",
      "bestTest = 0.8813806531\n",
      "bestIteration = 329\n",
      "\n",
      "\u001B[32m[I 2022-09-05 18:11:10,821]\u001B[0m Trial 29 finished with value: 0.8789532442383146 and parameters: {'learning_rate': 0.042670444572214826, 'colsample_bylevel': 0.8347600946303786, 'depth': 10, 'bootstrap_type': 'MVS', 'random_strength': 0.12795302485473914}. Best is trial 21 with value: 0.8786581211144567.\u001B[0m\n",
      "Training on fold [0/3]\n",
      "\n",
      "bestTest = 0.8797078445\n",
      "bestIteration = 499\n",
      "\n",
      "Training on fold [1/3]\n",
      "\n",
      "bestTest = 0.881819768\n",
      "bestIteration = 480\n",
      "\n",
      "Training on fold [2/3]\n",
      "\n",
      "bestTest = 0.8841269974\n",
      "bestIteration = 495\n",
      "\n",
      "\u001B[32m[I 2022-09-05 18:15:49,790]\u001B[0m Trial 30 finished with value: 0.8818851543765432 and parameters: {'learning_rate': 0.04801864650454149, 'colsample_bylevel': 0.9469588701258917, 'depth': 9, 'bootstrap_type': 'Bayesian', 'random_strength': 0.8568772087846271, 'bagging_temperature': 4.773345948393348}. Best is trial 21 with value: 0.8786581211144567.\u001B[0m\n",
      "Training on fold [0/3]\n",
      "\n",
      "bestTest = 0.87688962\n",
      "bestIteration = 371\n",
      "\n",
      "Training on fold [1/3]\n",
      "\n",
      "bestTest = 0.8782666223\n",
      "bestIteration = 499\n",
      "\n",
      "Training on fold [2/3]\n",
      "\n",
      "bestTest = 0.8812056406\n",
      "bestIteration = 446\n",
      "\n",
      "\u001B[32m[I 2022-09-05 18:19:02,725]\u001B[0m Trial 31 finished with value: 0.8787956081637937 and parameters: {'learning_rate': 0.04497090969018155, 'colsample_bylevel': 0.5518003746730759, 'depth': 9, 'bootstrap_type': 'MVS', 'random_strength': 1.7180538289690592}. Best is trial 21 with value: 0.8786581211144567.\u001B[0m\n",
      "Training on fold [0/3]\n",
      "\n",
      "bestTest = 0.8767724371\n",
      "bestIteration = 498\n",
      "\n",
      "Training on fold [1/3]\n",
      "\n",
      "bestTest = 0.8785064588\n",
      "bestIteration = 488\n",
      "\n",
      "Training on fold [2/3]\n",
      "\n",
      "bestTest = 0.8809322204\n",
      "bestIteration = 499\n",
      "\n",
      "\u001B[32m[I 2022-09-05 18:22:37,007]\u001B[0m Trial 32 finished with value: 0.8787422855500967 and parameters: {'learning_rate': 0.044446968971790485, 'colsample_bylevel': 0.5435993936543428, 'depth': 9, 'bootstrap_type': 'MVS', 'random_strength': 2.0313589055359023}. Best is trial 21 with value: 0.8786581211144567.\u001B[0m\n",
      "Training on fold [0/3]\n",
      "\n",
      "bestTest = 0.8772475709\n",
      "bestIteration = 499\n",
      "\n",
      "Training on fold [1/3]\n",
      "\n",
      "bestTest = 0.8787627199\n",
      "bestIteration = 495\n",
      "\n",
      "Training on fold [2/3]\n",
      "\n",
      "bestTest = 0.8815103179\n",
      "bestIteration = 498\n",
      "\n",
      "\u001B[32m[I 2022-09-05 18:25:35,035]\u001B[0m Trial 33 finished with value: 0.8791742665142553 and parameters: {'learning_rate': 0.04230772089633203, 'colsample_bylevel': 0.5061104734271149, 'depth': 8, 'bootstrap_type': 'MVS', 'random_strength': 2.626564028844388}. Best is trial 21 with value: 0.8786581211144567.\u001B[0m\n",
      "Training on fold [0/3]\n",
      "\n",
      "bestTest = 0.8771608781\n",
      "bestIteration = 329\n",
      "\n",
      "Training on fold [1/3]\n",
      "\n",
      "bestTest = 0.878482386\n",
      "bestIteration = 355\n",
      "\n",
      "Training on fold [2/3]\n",
      "\n",
      "bestTest = 0.8814088347\n",
      "bestIteration = 361\n",
      "\n",
      "\u001B[32m[I 2022-09-05 18:28:44,541]\u001B[0m Trial 34 finished with value: 0.8790276971214173 and parameters: {'learning_rate': 0.04814206949124628, 'colsample_bylevel': 0.5895196012245103, 'depth': 10, 'bootstrap_type': 'MVS', 'random_strength': 2.0531077384905103}. Best is trial 21 with value: 0.8786581211144567.\u001B[0m\n",
      "Training on fold [0/3]\n",
      "\n",
      "bestTest = 0.8771561432\n",
      "bestIteration = 497\n",
      "\n",
      "Training on fold [1/3]\n",
      "\n",
      "bestTest = 0.8787066345\n",
      "bestIteration = 497\n",
      "\n",
      "Training on fold [2/3]\n",
      "\n",
      "bestTest = 0.8814578754\n",
      "bestIteration = 498\n",
      "\n",
      "\u001B[32m[I 2022-09-05 18:31:30,454]\u001B[0m Trial 35 finished with value: 0.8791119790816007 and parameters: {'learning_rate': 0.04614622184145674, 'colsample_bylevel': 0.548552083781421, 'depth': 7, 'bootstrap_type': 'MVS', 'random_strength': 3.5180592164493896}. Best is trial 21 with value: 0.8786581211144567.\u001B[0m\n",
      "Training on fold [0/3]\n",
      "\n",
      "bestTest = 0.8768187449\n",
      "bestIteration = 498\n",
      "\n",
      "Training on fold [1/3]\n",
      "\n",
      "bestTest = 0.8783036025\n",
      "bestIteration = 499\n",
      "\n",
      "Training on fold [2/3]\n",
      "\n",
      "bestTest = 0.8814019177\n",
      "bestIteration = 499\n",
      "\n",
      "\u001B[32m[I 2022-09-05 18:34:51,130]\u001B[0m Trial 36 finished with value: 0.8788422444927524 and parameters: {'learning_rate': 0.05173900435788946, 'colsample_bylevel': 0.769813100145064, 'depth': 8, 'bootstrap_type': 'MVS', 'random_strength': 4.749630579230823}. Best is trial 21 with value: 0.8786581211144567.\u001B[0m\n",
      "Training on fold [0/3]\n",
      "\n",
      "bestTest = 0.8779190493\n",
      "bestIteration = 497\n",
      "\n",
      "Training on fold [1/3]\n",
      "\n",
      "bestTest = 0.8795914756\n",
      "bestIteration = 499\n",
      "\n",
      "Training on fold [2/3]\n",
      "\n",
      "bestTest = 0.882237402\n",
      "bestIteration = 498\n",
      "\n",
      "\u001B[32m[I 2022-09-05 18:38:11,856]\u001B[0m Trial 37 finished with value: 0.8799168723387673 and parameters: {'learning_rate': 0.04424675440934464, 'colsample_bylevel': 0.8850499127600786, 'depth': 9, 'bootstrap_type': 'Bernoulli', 'random_strength': 0.9140610968167453, 'subsample': 0.11228287447397511}. Best is trial 21 with value: 0.8786581211144567.\u001B[0m\n",
      "Training on fold [0/3]\n",
      "\n",
      "bestTest = 0.8769727832\n",
      "bestIteration = 475\n",
      "\n",
      "Training on fold [1/3]\n",
      "\n",
      "bestTest = 0.8784407082\n",
      "bestIteration = 497\n",
      "\n",
      "Training on fold [2/3]\n",
      "\n",
      "bestTest = 0.8812322512\n",
      "bestIteration = 496\n",
      "\n",
      "\u001B[32m[I 2022-09-05 18:41:42,852]\u001B[0m Trial 38 finished with value: 0.878885488324049 and parameters: {'learning_rate': 0.048424001262749386, 'colsample_bylevel': 0.5315070358263723, 'depth': 9, 'bootstrap_type': 'MVS', 'random_strength': 6.409889164326251}. Best is trial 21 with value: 0.8786581211144567.\u001B[0m\n",
      "Training on fold [0/3]\n",
      "\n",
      "bestTest = 0.8803936007\n",
      "bestIteration = 499\n",
      "\n",
      "Training on fold [1/3]\n",
      "\n",
      "bestTest = 0.8815954515\n",
      "bestIteration = 499\n",
      "\n",
      "Training on fold [2/3]\n",
      "\n",
      "bestTest = 0.8843373362\n",
      "bestIteration = 499\n",
      "\n",
      "\u001B[32m[I 2022-09-05 18:45:36,144]\u001B[0m Trial 39 finished with value: 0.8821087961505801 and parameters: {'learning_rate': 0.050136878713222026, 'colsample_bylevel': 0.7321490988266761, 'depth': 8, 'bootstrap_type': 'Bayesian', 'random_strength': 2.2353884443668006, 'bagging_temperature': 4.797043081771736}. Best is trial 21 with value: 0.8786581211144567.\u001B[0m\n",
      "Training on fold [0/3]\n",
      "\n",
      "bestTest = 0.8769699428\n",
      "bestIteration = 257\n",
      "\n",
      "Training on fold [1/3]\n",
      "\n",
      "bestTest = 0.8786380118\n",
      "bestIteration = 269\n",
      "\n",
      "Training on fold [2/3]\n",
      "\n",
      "bestTest = 0.8816132008\n",
      "bestIteration = 285\n",
      "\n",
      "\u001B[32m[I 2022-09-05 18:49:09,082]\u001B[0m Trial 40 finished with value: 0.8790992944139981 and parameters: {'learning_rate': 0.04886125484286556, 'colsample_bylevel': 0.8236405367950005, 'depth': 11, 'bootstrap_type': 'MVS', 'random_strength': 0.6277086349781259}. Best is trial 21 with value: 0.8786581211144567.\u001B[0m\n",
      "Training on fold [0/3]\n",
      "\n",
      "bestTest = 0.8769166026\n",
      "bestIteration = 497\n",
      "\n",
      "Training on fold [1/3]\n",
      "\n",
      "bestTest = 0.8783542143\n",
      "bestIteration = 499\n",
      "\n",
      "Training on fold [2/3]\n",
      "\n",
      "bestTest = 0.8810656721\n",
      "bestIteration = 499\n",
      "\n",
      "\u001B[32m[I 2022-09-05 18:53:03,955]\u001B[0m Trial 41 finished with value: 0.878782928146209 and parameters: {'learning_rate': 0.04469037404833841, 'colsample_bylevel': 0.5907009155702662, 'depth': 9, 'bootstrap_type': 'MVS', 'random_strength': 1.7235679799214008}. Best is trial 21 with value: 0.8786581211144567.\u001B[0m\n",
      "Training on fold [0/3]\n",
      "\n",
      "bestTest = 0.8768031357\n",
      "bestIteration = 492\n",
      "\n",
      "Training on fold [1/3]\n",
      "\n",
      "bestTest = 0.8782973639\n",
      "bestIteration = 499\n",
      "\n",
      "Training on fold [2/3]\n",
      "\n",
      "bestTest = 0.8814230904\n",
      "bestIteration = 409\n",
      "\n",
      "\u001B[32m[I 2022-09-05 18:56:42,695]\u001B[0m Trial 42 finished with value: 0.8788444524200099 and parameters: {'learning_rate': 0.04357912453247961, 'colsample_bylevel': 0.5827738300605123, 'depth': 9, 'bootstrap_type': 'MVS', 'random_strength': 1.2221487225038135}. Best is trial 21 with value: 0.8786581211144567.\u001B[0m\n",
      "Training on fold [0/3]\n",
      "\n",
      "bestTest = 0.876899379\n",
      "bestIteration = 497\n",
      "\n",
      "Training on fold [1/3]\n",
      "\n",
      "bestTest = 0.8783854892\n",
      "bestIteration = 490\n",
      "\n",
      "Training on fold [2/3]\n",
      "\n",
      "bestTest = 0.88124591\n",
      "bestIteration = 492\n",
      "\n",
      "\u001B[32m[I 2022-09-05 19:00:53,258]\u001B[0m Trial 43 finished with value: 0.8788476013372205 and parameters: {'learning_rate': 0.04582118895864704, 'colsample_bylevel': 0.6851636911055503, 'depth': 9, 'bootstrap_type': 'MVS', 'random_strength': 2.446225549340941}. Best is trial 21 with value: 0.8786581211144567.\u001B[0m\n",
      "Training on fold [0/3]\n",
      "\n",
      "bestTest = 0.8767900905\n",
      "bestIteration = 499\n",
      "\n",
      "Training on fold [1/3]\n",
      "\n",
      "bestTest = 0.8784496252\n",
      "bestIteration = 495\n",
      "\n",
      "Training on fold [2/3]\n",
      "\n",
      "bestTest = 0.8815354946\n",
      "bestIteration = 375\n",
      "\n",
      "\u001B[32m[I 2022-09-05 19:04:15,898]\u001B[0m Trial 44 finished with value: 0.8789298725279572 and parameters: {'learning_rate': 0.04455406368757372, 'colsample_bylevel': 0.6192253290554026, 'depth': 8, 'bootstrap_type': 'MVS', 'random_strength': 1.6667555217347703}. Best is trial 21 with value: 0.8786581211144567.\u001B[0m\n",
      "Training on fold [0/3]\n",
      "\n",
      "bestTest = 0.8772541486\n",
      "bestIteration = 498\n",
      "\n",
      "Training on fold [1/3]\n",
      "\n",
      "bestTest = 0.8790854891\n",
      "bestIteration = 495\n",
      "\n",
      "Training on fold [2/3]\n",
      "\n",
      "bestTest = 0.8819234989\n",
      "bestIteration = 499\n",
      "\n",
      "\u001B[32m[I 2022-09-05 19:07:01,674]\u001B[0m Trial 45 finished with value: 0.8794248269272215 and parameters: {'learning_rate': 0.054809092102714126, 'colsample_bylevel': 0.5693602143276962, 'depth': 7, 'bootstrap_type': 'Bernoulli', 'random_strength': 2.8342470286035883, 'subsample': 0.5414775841533739}. Best is trial 21 with value: 0.8786581211144567.\u001B[0m\n",
      "Training on fold [0/3]\n",
      "\n",
      "bestTest = 0.8769435233\n",
      "bestIteration = 402\n",
      "\n",
      "Training on fold [1/3]\n",
      "\n",
      "bestTest = 0.8786003144\n",
      "bestIteration = 498\n",
      "\n",
      "Training on fold [2/3]\n"
     ]
    }
   ],
   "source": [
    "experiments2 = OutcomesCatBoost().optuna_optimization(50)"
   ],
   "metadata": {
    "collapsed": false,
    "pycharm": {
     "name": "#%%\n",
     "is_executing": true
    }
   }
  },
  {
   "cell_type": "code",
   "execution_count": null,
   "outputs": [],
   "source": [
    "experiments2.head(50)"
   ],
   "metadata": {
    "collapsed": false,
    "pycharm": {
     "name": "#%%\n",
     "is_executing": true
    }
   }
  },
  {
   "cell_type": "code",
   "execution_count": null,
   "outputs": [],
   "source": [
    "t = pd.concat([experiments1, experiments2])\n",
    "t.sort_values(['value'], ascending=True)"
   ],
   "metadata": {
    "collapsed": false,
    "pycharm": {
     "name": "#%%\n"
    }
   }
  },
  {
   "cell_type": "code",
   "execution_count": null,
   "outputs": [],
   "source": [],
   "metadata": {
    "collapsed": false,
    "pycharm": {
     "name": "#%%\n"
    }
   }
  },
  {
   "cell_type": "code",
   "execution_count": null,
   "outputs": [],
   "source": [],
   "metadata": {
    "collapsed": false,
    "pycharm": {
     "name": "#%%\n"
    }
   }
  },
  {
   "cell_type": "code",
   "execution_count": 39,
   "outputs": [],
   "source": [
    "OutcomesCatBoost().save_model()"
   ],
   "metadata": {
    "collapsed": false,
    "pycharm": {
     "name": "#%%\n"
    }
   }
  },
  {
   "cell_type": "code",
   "execution_count": 7,
   "outputs": [],
   "source": [
    "predictions = OutcomesCatBoost().predict()"
   ],
   "metadata": {
    "collapsed": false,
    "pycharm": {
     "name": "#%%\n"
    }
   }
  },
  {
   "cell_type": "code",
   "execution_count": 8,
   "outputs": [
    {
     "data": {
      "text/plain": "    match_id  home_goals  away_goals  home_win  draw  away_win\n0       2165       1.359       1.114     0.424 0.269     0.307\n1       2166       1.381       1.085     0.437 0.269     0.295\n2       2459       1.217       1.240     0.358 0.273     0.369\n3       2460       1.634       1.291     0.455 0.243     0.303\n4       2461       1.147       1.184     0.350 0.281     0.368\n5       2462       1.264       0.917     0.444 0.287     0.269\n6       2463       1.465       0.935     0.494 0.265     0.241\n7       2464       1.484       1.098     0.461 0.259     0.280\n8       2465       1.120       1.461     0.290 0.260     0.450\n9       2466       1.401       1.361     0.382 0.255     0.363\n10      2467       1.087       0.918     0.391 0.307     0.303\n11      2468       1.267       1.123     0.397 0.276     0.327\n12      2469       1.275       1.190     0.384 0.272     0.344\n13      2470       1.249       1.262     0.362 0.269     0.368\n14      2471       1.681       0.972     0.540 0.242     0.218\n15      2472       1.244       1.325     0.348 0.266     0.386\n16      2473       1.190       0.908     0.424 0.296     0.280\n17      2474       1.164       1.140     0.364 0.283     0.352\n18      2475       1.387       0.947     0.471 0.273     0.257\n19      2476       1.337       1.213     0.396 0.266     0.338",
      "text/html": "<div>\n<style scoped>\n    .dataframe tbody tr th:only-of-type {\n        vertical-align: middle;\n    }\n\n    .dataframe tbody tr th {\n        vertical-align: top;\n    }\n\n    .dataframe thead th {\n        text-align: right;\n    }\n</style>\n<table border=\"1\" class=\"dataframe\">\n  <thead>\n    <tr style=\"text-align: right;\">\n      <th></th>\n      <th>match_id</th>\n      <th>home_goals</th>\n      <th>away_goals</th>\n      <th>home_win</th>\n      <th>draw</th>\n      <th>away_win</th>\n    </tr>\n  </thead>\n  <tbody>\n    <tr>\n      <th>0</th>\n      <td>2165</td>\n      <td>1.359</td>\n      <td>1.114</td>\n      <td>0.424</td>\n      <td>0.269</td>\n      <td>0.307</td>\n    </tr>\n    <tr>\n      <th>1</th>\n      <td>2166</td>\n      <td>1.381</td>\n      <td>1.085</td>\n      <td>0.437</td>\n      <td>0.269</td>\n      <td>0.295</td>\n    </tr>\n    <tr>\n      <th>2</th>\n      <td>2459</td>\n      <td>1.217</td>\n      <td>1.240</td>\n      <td>0.358</td>\n      <td>0.273</td>\n      <td>0.369</td>\n    </tr>\n    <tr>\n      <th>3</th>\n      <td>2460</td>\n      <td>1.634</td>\n      <td>1.291</td>\n      <td>0.455</td>\n      <td>0.243</td>\n      <td>0.303</td>\n    </tr>\n    <tr>\n      <th>4</th>\n      <td>2461</td>\n      <td>1.147</td>\n      <td>1.184</td>\n      <td>0.350</td>\n      <td>0.281</td>\n      <td>0.368</td>\n    </tr>\n    <tr>\n      <th>5</th>\n      <td>2462</td>\n      <td>1.264</td>\n      <td>0.917</td>\n      <td>0.444</td>\n      <td>0.287</td>\n      <td>0.269</td>\n    </tr>\n    <tr>\n      <th>6</th>\n      <td>2463</td>\n      <td>1.465</td>\n      <td>0.935</td>\n      <td>0.494</td>\n      <td>0.265</td>\n      <td>0.241</td>\n    </tr>\n    <tr>\n      <th>7</th>\n      <td>2464</td>\n      <td>1.484</td>\n      <td>1.098</td>\n      <td>0.461</td>\n      <td>0.259</td>\n      <td>0.280</td>\n    </tr>\n    <tr>\n      <th>8</th>\n      <td>2465</td>\n      <td>1.120</td>\n      <td>1.461</td>\n      <td>0.290</td>\n      <td>0.260</td>\n      <td>0.450</td>\n    </tr>\n    <tr>\n      <th>9</th>\n      <td>2466</td>\n      <td>1.401</td>\n      <td>1.361</td>\n      <td>0.382</td>\n      <td>0.255</td>\n      <td>0.363</td>\n    </tr>\n    <tr>\n      <th>10</th>\n      <td>2467</td>\n      <td>1.087</td>\n      <td>0.918</td>\n      <td>0.391</td>\n      <td>0.307</td>\n      <td>0.303</td>\n    </tr>\n    <tr>\n      <th>11</th>\n      <td>2468</td>\n      <td>1.267</td>\n      <td>1.123</td>\n      <td>0.397</td>\n      <td>0.276</td>\n      <td>0.327</td>\n    </tr>\n    <tr>\n      <th>12</th>\n      <td>2469</td>\n      <td>1.275</td>\n      <td>1.190</td>\n      <td>0.384</td>\n      <td>0.272</td>\n      <td>0.344</td>\n    </tr>\n    <tr>\n      <th>13</th>\n      <td>2470</td>\n      <td>1.249</td>\n      <td>1.262</td>\n      <td>0.362</td>\n      <td>0.269</td>\n      <td>0.368</td>\n    </tr>\n    <tr>\n      <th>14</th>\n      <td>2471</td>\n      <td>1.681</td>\n      <td>0.972</td>\n      <td>0.540</td>\n      <td>0.242</td>\n      <td>0.218</td>\n    </tr>\n    <tr>\n      <th>15</th>\n      <td>2472</td>\n      <td>1.244</td>\n      <td>1.325</td>\n      <td>0.348</td>\n      <td>0.266</td>\n      <td>0.386</td>\n    </tr>\n    <tr>\n      <th>16</th>\n      <td>2473</td>\n      <td>1.190</td>\n      <td>0.908</td>\n      <td>0.424</td>\n      <td>0.296</td>\n      <td>0.280</td>\n    </tr>\n    <tr>\n      <th>17</th>\n      <td>2474</td>\n      <td>1.164</td>\n      <td>1.140</td>\n      <td>0.364</td>\n      <td>0.283</td>\n      <td>0.352</td>\n    </tr>\n    <tr>\n      <th>18</th>\n      <td>2475</td>\n      <td>1.387</td>\n      <td>0.947</td>\n      <td>0.471</td>\n      <td>0.273</td>\n      <td>0.257</td>\n    </tr>\n    <tr>\n      <th>19</th>\n      <td>2476</td>\n      <td>1.337</td>\n      <td>1.213</td>\n      <td>0.396</td>\n      <td>0.266</td>\n      <td>0.338</td>\n    </tr>\n  </tbody>\n</table>\n</div>"
     },
     "execution_count": 8,
     "metadata": {},
     "output_type": "execute_result"
    }
   ],
   "source": [
    "predictions.head(20)"
   ],
   "metadata": {
    "collapsed": false,
    "pycharm": {
     "name": "#%%\n"
    }
   }
  },
  {
   "cell_type": "code",
   "execution_count": 11,
   "outputs": [],
   "source": [
    "t = predictions.merge(matches, on=['match_id'])"
   ],
   "metadata": {
    "collapsed": false,
    "pycharm": {
     "name": "#%%\n"
    }
   }
  },
  {
   "cell_type": "code",
   "execution_count": 12,
   "outputs": [
    {
     "data": {
      "text/plain": "       match_id  home_goals  away_goals  home_win  draw  away_win       date  \\\n9293      59281       1.540       1.528     0.383 0.240     0.377 2022-05-15   \n9314      59302       1.524       1.128     0.464 0.255     0.281 2022-05-01   \n9343      59331       1.489       0.840     0.525 0.263     0.212 2022-04-15   \n9355      59343       1.560       0.881     0.533 0.255     0.212 2022-04-04   \n9381      59369       1.657       1.190     0.483 0.243     0.274 2022-03-12   \n9404      59392       1.650       1.119     0.497 0.244     0.258 2022-02-25   \n9421      59409       1.731       1.069     0.529 0.237     0.234 2022-02-13   \n9435      59423       1.747       1.504     0.436 0.230     0.333 2022-01-23   \n9446      59434       1.778       0.962     0.566 0.232     0.202 2022-01-17   \n9466      59454       1.737       1.333     0.470 0.235     0.295 2022-01-06   \n9480      59468       1.810       1.584     0.434 0.225     0.341 2021-12-19   \n9509      59497       1.849       0.931     0.589 0.225     0.186 2021-12-04   \n9522      59510       1.893       1.303     0.512 0.224     0.264 2021-11-28   \n9540      59528       1.901       1.739     0.424 0.217     0.359 2021-11-07   \n9567      59555       1.905       1.052     0.573 0.222     0.206 2021-10-26   \n9587      59575       1.876       1.167     0.539 0.225     0.235 2021-10-16   \n9613      59601       1.804       1.109     0.537 0.231     0.232 2021-09-22   \n9632      59620       1.842       1.261     0.510 0.228     0.262 2021-09-12   \n9640      59628       1.685       1.034     0.526 0.242     0.232 2021-08-29   \n11249     70974       1.820       1.043     0.556 0.229     0.215 2021-05-16   \n11285     71010       1.519       1.085     0.473 0.256     0.271 2021-05-01   \n11306     71031       1.610       1.266     0.455 0.245     0.301 2021-04-21   \n11313     71038       1.605       0.996     0.516 0.249     0.235 2021-04-18   \n11339     71064       1.526       1.089     0.474 0.256     0.271 2021-04-03   \n11350     71075       1.645       1.333     0.448 0.241     0.311 2021-03-14   \n11371     71096       1.643       1.021     0.519 0.246     0.235 2021-03-03   \n11391     71116       1.849       1.697     0.421 0.221     0.359 2021-02-21   \n11410     71135       1.738       1.065     0.531 0.237     0.232 2021-02-07   \n11434     71159       1.906       1.795     0.414 0.216     0.370 2021-01-23   \n11456     71181       1.914       1.203     0.540 0.222     0.238 2021-01-09   \n11459     71184       1.966       1.668     0.452 0.216     0.332 2021-01-06   \n11479     71204       1.973       1.301     0.530 0.218     0.251 2020-12-23   \n11509     71234       2.018       1.160     0.572 0.214     0.214 2020-12-13   \n11532     71257       2.046       1.155     0.579 0.211     0.210 2020-11-29   \n11548     71273       2.120       1.074     0.613 0.203     0.184 2020-11-08   \n11569     71294       2.179       1.643     0.502 0.205     0.293 2020-10-26   \n11589     71314       2.040       1.200     0.568 0.212     0.220 2020-10-04   \n11610     71335       1.937       1.082     0.573 0.219     0.208 2020-09-21   \n51333    370727       1.961       1.145     0.563 0.218     0.219 2020-12-03   \n51367    370763       2.093       1.014     0.622 0.204     0.175 2020-11-05   \n51402    370799       2.150       1.266     0.576 0.205     0.219 2020-10-29   \n52518    416985       1.780       1.151     0.521 0.233     0.246 2021-01-12   \n52585    418457       1.446       1.366     0.392 0.252     0.356 2021-03-18   \n52597    418473       1.825       1.002     0.567 0.228     0.205 2021-02-25   \n52817    433320       2.230       1.221     0.602 0.198     0.200 2020-09-24   \n\n      home_team       away_team  home_score  away_score        country  \\\n9293   AC Milan        Atalanta           2           0          Italy   \n9314   AC Milan      Fiorentina           1           0          Italy   \n9343   AC Milan           Genoa           2           0          Italy   \n9355   AC Milan         Bologna           0           0          Italy   \n9381   AC Milan          Empoli           1           0          Italy   \n9404   AC Milan         Udinese           1           1          Italy   \n9421   AC Milan       Sampdoria           1           0          Italy   \n9435   AC Milan        Juventus           0           0          Italy   \n9446   AC Milan          Spezia           1           2          Italy   \n9466   AC Milan         AS Roma           3           1          Italy   \n9480   AC Milan          Napoli           0           1          Italy   \n9509   AC Milan     Salernitana           2           0          Italy   \n9522   AC Milan        Sassuolo           1           3          Italy   \n9540   AC Milan           Inter           1           1          Italy   \n9567   AC Milan          Torino           1           0          Italy   \n9587   AC Milan          Verona           3           2          Italy   \n9613   AC Milan         Venezia           2           0          Italy   \n9632   AC Milan           Lazio           2           0          Italy   \n9640   AC Milan        Cagliari           4           1          Italy   \n11249  AC Milan        Cagliari           0           0          Italy   \n11285  AC Milan       Benevento           2           0          Italy   \n11306  AC Milan        Sassuolo           1           2          Italy   \n11313  AC Milan           Genoa           2           1          Italy   \n11339  AC Milan       Sampdoria           1           1          Italy   \n11350  AC Milan          Napoli           0           1          Italy   \n11371  AC Milan         Udinese           1           1          Italy   \n11391  AC Milan           Inter           0           3          Italy   \n11410  AC Milan         Crotone           4           0          Italy   \n11434  AC Milan        Atalanta           0           3          Italy   \n11456  AC Milan          Torino           2           0          Italy   \n11459  AC Milan        Juventus           1           3          Italy   \n11479  AC Milan           Lazio           3           2          Italy   \n11509  AC Milan           Parma           2           2          Italy   \n11532  AC Milan      Fiorentina           2           0          Italy   \n11548  AC Milan          Verona           2           2          Italy   \n11569  AC Milan         AS Roma           3           3          Italy   \n11589  AC Milan          Spezia           3           0          Italy   \n11610  AC Milan         Bologna           2           0          Italy   \n51333  AC Milan          Celtic           4           2  Europa League   \n51367  AC Milan           Lille           0           3  Europa League   \n51402  AC Milan   Sparta Prague           3           0  Europa League   \n52518  AC Milan          Torino           1           0          Italy   \n52585  AC Milan  Manchester Utd           0           1  Europa League   \n52597  AC Milan   Crvena zvezda           1           1  Europa League   \n52817  AC Milan      Bodo/Glimt           3           2  Europa League   \n\n                              league  season  \\\n9293                         Serie A    2021   \n9314                         Serie A    2021   \n9343                         Serie A    2021   \n9355                         Serie A    2021   \n9381                         Serie A    2021   \n9404                         Serie A    2021   \n9421                         Serie A    2021   \n9435                         Serie A    2021   \n9446                         Serie A    2021   \n9466                         Serie A    2021   \n9480                         Serie A    2021   \n9509                         Serie A    2021   \n9522                         Serie A    2021   \n9540                         Serie A    2021   \n9567                         Serie A    2021   \n9587                         Serie A    2021   \n9613                         Serie A    2021   \n9632                         Serie A    2021   \n9640                         Serie A    2021   \n11249                        Serie A    2020   \n11285                        Serie A    2020   \n11306                        Serie A    2020   \n11313                        Serie A    2020   \n11339                        Serie A    2020   \n11350                        Serie A    2020   \n11371                        Serie A    2020   \n11391                        Serie A    2020   \n11410                        Serie A    2020   \n11434                        Serie A    2020   \n11456                        Serie A    2020   \n11459                        Serie A    2020   \n11479                        Serie A    2020   \n11509                        Serie A    2020   \n11532                        Serie A    2020   \n11548                        Serie A    2020   \n11569                        Serie A    2020   \n11589                        Serie A    2020   \n11610                        Serie A    2020   \n51333    Europa League - Group Stage    2020   \n51367    Europa League - Group Stage    2020   \n51402    Europa League - Group Stage    2020   \n52518                   Coppa Italia    2020   \n52585      Europa League - Play Offs    2020   \n52597      Europa League - Play Offs    2020   \n52817  Europa League - Qualification    2020   \n\n                                               file_path  tournament_type  \\\n9293                   first/Italy_Serie A_2021-2022.csv                1   \n9314                   first/Italy_Serie A_2021-2022.csv                1   \n9343                   first/Italy_Serie A_2021-2022.csv                1   \n9355                   first/Italy_Serie A_2021-2022.csv                1   \n9381                   first/Italy_Serie A_2021-2022.csv                1   \n9404                   first/Italy_Serie A_2021-2022.csv                1   \n9421                   first/Italy_Serie A_2021-2022.csv                1   \n9435                   first/Italy_Serie A_2021-2022.csv                1   \n9446                   first/Italy_Serie A_2021-2022.csv                1   \n9466                   first/Italy_Serie A_2021-2022.csv                1   \n9480                   first/Italy_Serie A_2021-2022.csv                1   \n9509                   first/Italy_Serie A_2021-2022.csv                1   \n9522                   first/Italy_Serie A_2021-2022.csv                1   \n9540                   first/Italy_Serie A_2021-2022.csv                1   \n9567                   first/Italy_Serie A_2021-2022.csv                1   \n9587                   first/Italy_Serie A_2021-2022.csv                1   \n9613                   first/Italy_Serie A_2021-2022.csv                1   \n9632                   first/Italy_Serie A_2021-2022.csv                1   \n9640                   first/Italy_Serie A_2021-2022.csv                1   \n11249                  first/Italy_Serie A_2020-2021.csv                1   \n11285                  first/Italy_Serie A_2020-2021.csv                1   \n11306                  first/Italy_Serie A_2020-2021.csv                1   \n11313                  first/Italy_Serie A_2020-2021.csv                1   \n11339                  first/Italy_Serie A_2020-2021.csv                1   \n11350                  first/Italy_Serie A_2020-2021.csv                1   \n11371                  first/Italy_Serie A_2020-2021.csv                1   \n11391                  first/Italy_Serie A_2020-2021.csv                1   \n11410                  first/Italy_Serie A_2020-2021.csv                1   \n11434                  first/Italy_Serie A_2020-2021.csv                1   \n11456                  first/Italy_Serie A_2020-2021.csv                1   \n11459                  first/Italy_Serie A_2020-2021.csv                1   \n11479                  first/Italy_Serie A_2020-2021.csv                1   \n11509                  first/Italy_Serie A_2020-2021.csv                1   \n11532                  first/Italy_Serie A_2020-2021.csv                1   \n11548                  first/Italy_Serie A_2020-2021.csv                1   \n11569                  first/Italy_Serie A_2020-2021.csv                1   \n11589                  first/Italy_Serie A_2020-2021.csv                1   \n11610                  first/Italy_Serie A_2020-2021.csv                1   \n51333  cups/Europa League_Europa League - Group Stage...                3   \n51367  cups/Europa League_Europa League - Group Stage...                3   \n51402  cups/Europa League_Europa League - Group Stage...                3   \n52518              cups/Italy_Coppa Italia_2020-2021.csv                3   \n52585  cups/Europa League_Europa League - Play Offs_2...                3   \n52597  cups/Europa League_Europa League - Play Offs_2...                3   \n52817  cups/Europa League_Europa League - Qualificati...                3   \n\n                tournament outcome  is_pandemic  draw_probability  \n9293          Italy. First       H            0             0.240  \n9314          Italy. First       H            0             0.255  \n9343          Italy. First       H            0             0.263  \n9355          Italy. First       D            0             0.255  \n9381          Italy. First       H            0             0.243  \n9404          Italy. First       D            0             0.244  \n9421          Italy. First       H            0             0.237  \n9435          Italy. First       D            0             0.230  \n9446          Italy. First       A            0             0.232  \n9466          Italy. First       H            0             0.235  \n9480          Italy. First       A            0             0.225  \n9509          Italy. First       H            0             0.225  \n9522          Italy. First       A            0             0.224  \n9540          Italy. First       D            0             0.217  \n9567          Italy. First       H            0             0.222  \n9587          Italy. First       H            0             0.225  \n9613          Italy. First       H            0             0.231  \n9632          Italy. First       H            0             0.228  \n9640          Italy. First       H            0             0.242  \n11249         Italy. First       D            1             0.229  \n11285         Italy. First       H            1             0.256  \n11306         Italy. First       A            1             0.245  \n11313         Italy. First       H            1             0.249  \n11339         Italy. First       D            1             0.256  \n11350         Italy. First       A            1             0.241  \n11371         Italy. First       D            1             0.246  \n11391         Italy. First       A            1             0.221  \n11410         Italy. First       H            1             0.237  \n11434         Italy. First       A            1             0.216  \n11456         Italy. First       H            1             0.222  \n11459         Italy. First       A            1             0.216  \n11479         Italy. First       H            1             0.218  \n11509         Italy. First       D            1             0.214  \n11532         Italy. First       H            1             0.211  \n11548         Italy. First       D            1             0.203  \n11569         Italy. First       D            1             0.205  \n11589         Italy. First       H            1             0.212  \n11610         Italy. First       H            1             0.219  \n51333  Europa League. Cups       H            1             0.218  \n51367  Europa League. Cups       A            1             0.204  \n51402  Europa League. Cups       H            1             0.205  \n52518          Italy. Cups       H            1             0.233  \n52585  Europa League. Cups       A            1             0.252  \n52597  Europa League. Cups       D            1             0.228  \n52817  Europa League. Cups       H            1             0.198  ",
      "text/html": "<div>\n<style scoped>\n    .dataframe tbody tr th:only-of-type {\n        vertical-align: middle;\n    }\n\n    .dataframe tbody tr th {\n        vertical-align: top;\n    }\n\n    .dataframe thead th {\n        text-align: right;\n    }\n</style>\n<table border=\"1\" class=\"dataframe\">\n  <thead>\n    <tr style=\"text-align: right;\">\n      <th></th>\n      <th>match_id</th>\n      <th>home_goals</th>\n      <th>away_goals</th>\n      <th>home_win</th>\n      <th>draw</th>\n      <th>away_win</th>\n      <th>date</th>\n      <th>home_team</th>\n      <th>away_team</th>\n      <th>home_score</th>\n      <th>away_score</th>\n      <th>country</th>\n      <th>league</th>\n      <th>season</th>\n      <th>file_path</th>\n      <th>tournament_type</th>\n      <th>tournament</th>\n      <th>outcome</th>\n      <th>is_pandemic</th>\n      <th>draw_probability</th>\n    </tr>\n  </thead>\n  <tbody>\n    <tr>\n      <th>9293</th>\n      <td>59281</td>\n      <td>1.540</td>\n      <td>1.528</td>\n      <td>0.383</td>\n      <td>0.240</td>\n      <td>0.377</td>\n      <td>2022-05-15</td>\n      <td>AC Milan</td>\n      <td>Atalanta</td>\n      <td>2</td>\n      <td>0</td>\n      <td>Italy</td>\n      <td>Serie A</td>\n      <td>2021</td>\n      <td>first/Italy_Serie A_2021-2022.csv</td>\n      <td>1</td>\n      <td>Italy. First</td>\n      <td>H</td>\n      <td>0</td>\n      <td>0.240</td>\n    </tr>\n    <tr>\n      <th>9314</th>\n      <td>59302</td>\n      <td>1.524</td>\n      <td>1.128</td>\n      <td>0.464</td>\n      <td>0.255</td>\n      <td>0.281</td>\n      <td>2022-05-01</td>\n      <td>AC Milan</td>\n      <td>Fiorentina</td>\n      <td>1</td>\n      <td>0</td>\n      <td>Italy</td>\n      <td>Serie A</td>\n      <td>2021</td>\n      <td>first/Italy_Serie A_2021-2022.csv</td>\n      <td>1</td>\n      <td>Italy. First</td>\n      <td>H</td>\n      <td>0</td>\n      <td>0.255</td>\n    </tr>\n    <tr>\n      <th>9343</th>\n      <td>59331</td>\n      <td>1.489</td>\n      <td>0.840</td>\n      <td>0.525</td>\n      <td>0.263</td>\n      <td>0.212</td>\n      <td>2022-04-15</td>\n      <td>AC Milan</td>\n      <td>Genoa</td>\n      <td>2</td>\n      <td>0</td>\n      <td>Italy</td>\n      <td>Serie A</td>\n      <td>2021</td>\n      <td>first/Italy_Serie A_2021-2022.csv</td>\n      <td>1</td>\n      <td>Italy. First</td>\n      <td>H</td>\n      <td>0</td>\n      <td>0.263</td>\n    </tr>\n    <tr>\n      <th>9355</th>\n      <td>59343</td>\n      <td>1.560</td>\n      <td>0.881</td>\n      <td>0.533</td>\n      <td>0.255</td>\n      <td>0.212</td>\n      <td>2022-04-04</td>\n      <td>AC Milan</td>\n      <td>Bologna</td>\n      <td>0</td>\n      <td>0</td>\n      <td>Italy</td>\n      <td>Serie A</td>\n      <td>2021</td>\n      <td>first/Italy_Serie A_2021-2022.csv</td>\n      <td>1</td>\n      <td>Italy. First</td>\n      <td>D</td>\n      <td>0</td>\n      <td>0.255</td>\n    </tr>\n    <tr>\n      <th>9381</th>\n      <td>59369</td>\n      <td>1.657</td>\n      <td>1.190</td>\n      <td>0.483</td>\n      <td>0.243</td>\n      <td>0.274</td>\n      <td>2022-03-12</td>\n      <td>AC Milan</td>\n      <td>Empoli</td>\n      <td>1</td>\n      <td>0</td>\n      <td>Italy</td>\n      <td>Serie A</td>\n      <td>2021</td>\n      <td>first/Italy_Serie A_2021-2022.csv</td>\n      <td>1</td>\n      <td>Italy. First</td>\n      <td>H</td>\n      <td>0</td>\n      <td>0.243</td>\n    </tr>\n    <tr>\n      <th>9404</th>\n      <td>59392</td>\n      <td>1.650</td>\n      <td>1.119</td>\n      <td>0.497</td>\n      <td>0.244</td>\n      <td>0.258</td>\n      <td>2022-02-25</td>\n      <td>AC Milan</td>\n      <td>Udinese</td>\n      <td>1</td>\n      <td>1</td>\n      <td>Italy</td>\n      <td>Serie A</td>\n      <td>2021</td>\n      <td>first/Italy_Serie A_2021-2022.csv</td>\n      <td>1</td>\n      <td>Italy. First</td>\n      <td>D</td>\n      <td>0</td>\n      <td>0.244</td>\n    </tr>\n    <tr>\n      <th>9421</th>\n      <td>59409</td>\n      <td>1.731</td>\n      <td>1.069</td>\n      <td>0.529</td>\n      <td>0.237</td>\n      <td>0.234</td>\n      <td>2022-02-13</td>\n      <td>AC Milan</td>\n      <td>Sampdoria</td>\n      <td>1</td>\n      <td>0</td>\n      <td>Italy</td>\n      <td>Serie A</td>\n      <td>2021</td>\n      <td>first/Italy_Serie A_2021-2022.csv</td>\n      <td>1</td>\n      <td>Italy. First</td>\n      <td>H</td>\n      <td>0</td>\n      <td>0.237</td>\n    </tr>\n    <tr>\n      <th>9435</th>\n      <td>59423</td>\n      <td>1.747</td>\n      <td>1.504</td>\n      <td>0.436</td>\n      <td>0.230</td>\n      <td>0.333</td>\n      <td>2022-01-23</td>\n      <td>AC Milan</td>\n      <td>Juventus</td>\n      <td>0</td>\n      <td>0</td>\n      <td>Italy</td>\n      <td>Serie A</td>\n      <td>2021</td>\n      <td>first/Italy_Serie A_2021-2022.csv</td>\n      <td>1</td>\n      <td>Italy. First</td>\n      <td>D</td>\n      <td>0</td>\n      <td>0.230</td>\n    </tr>\n    <tr>\n      <th>9446</th>\n      <td>59434</td>\n      <td>1.778</td>\n      <td>0.962</td>\n      <td>0.566</td>\n      <td>0.232</td>\n      <td>0.202</td>\n      <td>2022-01-17</td>\n      <td>AC Milan</td>\n      <td>Spezia</td>\n      <td>1</td>\n      <td>2</td>\n      <td>Italy</td>\n      <td>Serie A</td>\n      <td>2021</td>\n      <td>first/Italy_Serie A_2021-2022.csv</td>\n      <td>1</td>\n      <td>Italy. First</td>\n      <td>A</td>\n      <td>0</td>\n      <td>0.232</td>\n    </tr>\n    <tr>\n      <th>9466</th>\n      <td>59454</td>\n      <td>1.737</td>\n      <td>1.333</td>\n      <td>0.470</td>\n      <td>0.235</td>\n      <td>0.295</td>\n      <td>2022-01-06</td>\n      <td>AC Milan</td>\n      <td>AS Roma</td>\n      <td>3</td>\n      <td>1</td>\n      <td>Italy</td>\n      <td>Serie A</td>\n      <td>2021</td>\n      <td>first/Italy_Serie A_2021-2022.csv</td>\n      <td>1</td>\n      <td>Italy. First</td>\n      <td>H</td>\n      <td>0</td>\n      <td>0.235</td>\n    </tr>\n    <tr>\n      <th>9480</th>\n      <td>59468</td>\n      <td>1.810</td>\n      <td>1.584</td>\n      <td>0.434</td>\n      <td>0.225</td>\n      <td>0.341</td>\n      <td>2021-12-19</td>\n      <td>AC Milan</td>\n      <td>Napoli</td>\n      <td>0</td>\n      <td>1</td>\n      <td>Italy</td>\n      <td>Serie A</td>\n      <td>2021</td>\n      <td>first/Italy_Serie A_2021-2022.csv</td>\n      <td>1</td>\n      <td>Italy. First</td>\n      <td>A</td>\n      <td>0</td>\n      <td>0.225</td>\n    </tr>\n    <tr>\n      <th>9509</th>\n      <td>59497</td>\n      <td>1.849</td>\n      <td>0.931</td>\n      <td>0.589</td>\n      <td>0.225</td>\n      <td>0.186</td>\n      <td>2021-12-04</td>\n      <td>AC Milan</td>\n      <td>Salernitana</td>\n      <td>2</td>\n      <td>0</td>\n      <td>Italy</td>\n      <td>Serie A</td>\n      <td>2021</td>\n      <td>first/Italy_Serie A_2021-2022.csv</td>\n      <td>1</td>\n      <td>Italy. First</td>\n      <td>H</td>\n      <td>0</td>\n      <td>0.225</td>\n    </tr>\n    <tr>\n      <th>9522</th>\n      <td>59510</td>\n      <td>1.893</td>\n      <td>1.303</td>\n      <td>0.512</td>\n      <td>0.224</td>\n      <td>0.264</td>\n      <td>2021-11-28</td>\n      <td>AC Milan</td>\n      <td>Sassuolo</td>\n      <td>1</td>\n      <td>3</td>\n      <td>Italy</td>\n      <td>Serie A</td>\n      <td>2021</td>\n      <td>first/Italy_Serie A_2021-2022.csv</td>\n      <td>1</td>\n      <td>Italy. First</td>\n      <td>A</td>\n      <td>0</td>\n      <td>0.224</td>\n    </tr>\n    <tr>\n      <th>9540</th>\n      <td>59528</td>\n      <td>1.901</td>\n      <td>1.739</td>\n      <td>0.424</td>\n      <td>0.217</td>\n      <td>0.359</td>\n      <td>2021-11-07</td>\n      <td>AC Milan</td>\n      <td>Inter</td>\n      <td>1</td>\n      <td>1</td>\n      <td>Italy</td>\n      <td>Serie A</td>\n      <td>2021</td>\n      <td>first/Italy_Serie A_2021-2022.csv</td>\n      <td>1</td>\n      <td>Italy. First</td>\n      <td>D</td>\n      <td>0</td>\n      <td>0.217</td>\n    </tr>\n    <tr>\n      <th>9567</th>\n      <td>59555</td>\n      <td>1.905</td>\n      <td>1.052</td>\n      <td>0.573</td>\n      <td>0.222</td>\n      <td>0.206</td>\n      <td>2021-10-26</td>\n      <td>AC Milan</td>\n      <td>Torino</td>\n      <td>1</td>\n      <td>0</td>\n      <td>Italy</td>\n      <td>Serie A</td>\n      <td>2021</td>\n      <td>first/Italy_Serie A_2021-2022.csv</td>\n      <td>1</td>\n      <td>Italy. First</td>\n      <td>H</td>\n      <td>0</td>\n      <td>0.222</td>\n    </tr>\n    <tr>\n      <th>9587</th>\n      <td>59575</td>\n      <td>1.876</td>\n      <td>1.167</td>\n      <td>0.539</td>\n      <td>0.225</td>\n      <td>0.235</td>\n      <td>2021-10-16</td>\n      <td>AC Milan</td>\n      <td>Verona</td>\n      <td>3</td>\n      <td>2</td>\n      <td>Italy</td>\n      <td>Serie A</td>\n      <td>2021</td>\n      <td>first/Italy_Serie A_2021-2022.csv</td>\n      <td>1</td>\n      <td>Italy. First</td>\n      <td>H</td>\n      <td>0</td>\n      <td>0.225</td>\n    </tr>\n    <tr>\n      <th>9613</th>\n      <td>59601</td>\n      <td>1.804</td>\n      <td>1.109</td>\n      <td>0.537</td>\n      <td>0.231</td>\n      <td>0.232</td>\n      <td>2021-09-22</td>\n      <td>AC Milan</td>\n      <td>Venezia</td>\n      <td>2</td>\n      <td>0</td>\n      <td>Italy</td>\n      <td>Serie A</td>\n      <td>2021</td>\n      <td>first/Italy_Serie A_2021-2022.csv</td>\n      <td>1</td>\n      <td>Italy. First</td>\n      <td>H</td>\n      <td>0</td>\n      <td>0.231</td>\n    </tr>\n    <tr>\n      <th>9632</th>\n      <td>59620</td>\n      <td>1.842</td>\n      <td>1.261</td>\n      <td>0.510</td>\n      <td>0.228</td>\n      <td>0.262</td>\n      <td>2021-09-12</td>\n      <td>AC Milan</td>\n      <td>Lazio</td>\n      <td>2</td>\n      <td>0</td>\n      <td>Italy</td>\n      <td>Serie A</td>\n      <td>2021</td>\n      <td>first/Italy_Serie A_2021-2022.csv</td>\n      <td>1</td>\n      <td>Italy. First</td>\n      <td>H</td>\n      <td>0</td>\n      <td>0.228</td>\n    </tr>\n    <tr>\n      <th>9640</th>\n      <td>59628</td>\n      <td>1.685</td>\n      <td>1.034</td>\n      <td>0.526</td>\n      <td>0.242</td>\n      <td>0.232</td>\n      <td>2021-08-29</td>\n      <td>AC Milan</td>\n      <td>Cagliari</td>\n      <td>4</td>\n      <td>1</td>\n      <td>Italy</td>\n      <td>Serie A</td>\n      <td>2021</td>\n      <td>first/Italy_Serie A_2021-2022.csv</td>\n      <td>1</td>\n      <td>Italy. First</td>\n      <td>H</td>\n      <td>0</td>\n      <td>0.242</td>\n    </tr>\n    <tr>\n      <th>11249</th>\n      <td>70974</td>\n      <td>1.820</td>\n      <td>1.043</td>\n      <td>0.556</td>\n      <td>0.229</td>\n      <td>0.215</td>\n      <td>2021-05-16</td>\n      <td>AC Milan</td>\n      <td>Cagliari</td>\n      <td>0</td>\n      <td>0</td>\n      <td>Italy</td>\n      <td>Serie A</td>\n      <td>2020</td>\n      <td>first/Italy_Serie A_2020-2021.csv</td>\n      <td>1</td>\n      <td>Italy. First</td>\n      <td>D</td>\n      <td>1</td>\n      <td>0.229</td>\n    </tr>\n    <tr>\n      <th>11285</th>\n      <td>71010</td>\n      <td>1.519</td>\n      <td>1.085</td>\n      <td>0.473</td>\n      <td>0.256</td>\n      <td>0.271</td>\n      <td>2021-05-01</td>\n      <td>AC Milan</td>\n      <td>Benevento</td>\n      <td>2</td>\n      <td>0</td>\n      <td>Italy</td>\n      <td>Serie A</td>\n      <td>2020</td>\n      <td>first/Italy_Serie A_2020-2021.csv</td>\n      <td>1</td>\n      <td>Italy. First</td>\n      <td>H</td>\n      <td>1</td>\n      <td>0.256</td>\n    </tr>\n    <tr>\n      <th>11306</th>\n      <td>71031</td>\n      <td>1.610</td>\n      <td>1.266</td>\n      <td>0.455</td>\n      <td>0.245</td>\n      <td>0.301</td>\n      <td>2021-04-21</td>\n      <td>AC Milan</td>\n      <td>Sassuolo</td>\n      <td>1</td>\n      <td>2</td>\n      <td>Italy</td>\n      <td>Serie A</td>\n      <td>2020</td>\n      <td>first/Italy_Serie A_2020-2021.csv</td>\n      <td>1</td>\n      <td>Italy. First</td>\n      <td>A</td>\n      <td>1</td>\n      <td>0.245</td>\n    </tr>\n    <tr>\n      <th>11313</th>\n      <td>71038</td>\n      <td>1.605</td>\n      <td>0.996</td>\n      <td>0.516</td>\n      <td>0.249</td>\n      <td>0.235</td>\n      <td>2021-04-18</td>\n      <td>AC Milan</td>\n      <td>Genoa</td>\n      <td>2</td>\n      <td>1</td>\n      <td>Italy</td>\n      <td>Serie A</td>\n      <td>2020</td>\n      <td>first/Italy_Serie A_2020-2021.csv</td>\n      <td>1</td>\n      <td>Italy. First</td>\n      <td>H</td>\n      <td>1</td>\n      <td>0.249</td>\n    </tr>\n    <tr>\n      <th>11339</th>\n      <td>71064</td>\n      <td>1.526</td>\n      <td>1.089</td>\n      <td>0.474</td>\n      <td>0.256</td>\n      <td>0.271</td>\n      <td>2021-04-03</td>\n      <td>AC Milan</td>\n      <td>Sampdoria</td>\n      <td>1</td>\n      <td>1</td>\n      <td>Italy</td>\n      <td>Serie A</td>\n      <td>2020</td>\n      <td>first/Italy_Serie A_2020-2021.csv</td>\n      <td>1</td>\n      <td>Italy. First</td>\n      <td>D</td>\n      <td>1</td>\n      <td>0.256</td>\n    </tr>\n    <tr>\n      <th>11350</th>\n      <td>71075</td>\n      <td>1.645</td>\n      <td>1.333</td>\n      <td>0.448</td>\n      <td>0.241</td>\n      <td>0.311</td>\n      <td>2021-03-14</td>\n      <td>AC Milan</td>\n      <td>Napoli</td>\n      <td>0</td>\n      <td>1</td>\n      <td>Italy</td>\n      <td>Serie A</td>\n      <td>2020</td>\n      <td>first/Italy_Serie A_2020-2021.csv</td>\n      <td>1</td>\n      <td>Italy. First</td>\n      <td>A</td>\n      <td>1</td>\n      <td>0.241</td>\n    </tr>\n    <tr>\n      <th>11371</th>\n      <td>71096</td>\n      <td>1.643</td>\n      <td>1.021</td>\n      <td>0.519</td>\n      <td>0.246</td>\n      <td>0.235</td>\n      <td>2021-03-03</td>\n      <td>AC Milan</td>\n      <td>Udinese</td>\n      <td>1</td>\n      <td>1</td>\n      <td>Italy</td>\n      <td>Serie A</td>\n      <td>2020</td>\n      <td>first/Italy_Serie A_2020-2021.csv</td>\n      <td>1</td>\n      <td>Italy. First</td>\n      <td>D</td>\n      <td>1</td>\n      <td>0.246</td>\n    </tr>\n    <tr>\n      <th>11391</th>\n      <td>71116</td>\n      <td>1.849</td>\n      <td>1.697</td>\n      <td>0.421</td>\n      <td>0.221</td>\n      <td>0.359</td>\n      <td>2021-02-21</td>\n      <td>AC Milan</td>\n      <td>Inter</td>\n      <td>0</td>\n      <td>3</td>\n      <td>Italy</td>\n      <td>Serie A</td>\n      <td>2020</td>\n      <td>first/Italy_Serie A_2020-2021.csv</td>\n      <td>1</td>\n      <td>Italy. First</td>\n      <td>A</td>\n      <td>1</td>\n      <td>0.221</td>\n    </tr>\n    <tr>\n      <th>11410</th>\n      <td>71135</td>\n      <td>1.738</td>\n      <td>1.065</td>\n      <td>0.531</td>\n      <td>0.237</td>\n      <td>0.232</td>\n      <td>2021-02-07</td>\n      <td>AC Milan</td>\n      <td>Crotone</td>\n      <td>4</td>\n      <td>0</td>\n      <td>Italy</td>\n      <td>Serie A</td>\n      <td>2020</td>\n      <td>first/Italy_Serie A_2020-2021.csv</td>\n      <td>1</td>\n      <td>Italy. First</td>\n      <td>H</td>\n      <td>1</td>\n      <td>0.237</td>\n    </tr>\n    <tr>\n      <th>11434</th>\n      <td>71159</td>\n      <td>1.906</td>\n      <td>1.795</td>\n      <td>0.414</td>\n      <td>0.216</td>\n      <td>0.370</td>\n      <td>2021-01-23</td>\n      <td>AC Milan</td>\n      <td>Atalanta</td>\n      <td>0</td>\n      <td>3</td>\n      <td>Italy</td>\n      <td>Serie A</td>\n      <td>2020</td>\n      <td>first/Italy_Serie A_2020-2021.csv</td>\n      <td>1</td>\n      <td>Italy. First</td>\n      <td>A</td>\n      <td>1</td>\n      <td>0.216</td>\n    </tr>\n    <tr>\n      <th>11456</th>\n      <td>71181</td>\n      <td>1.914</td>\n      <td>1.203</td>\n      <td>0.540</td>\n      <td>0.222</td>\n      <td>0.238</td>\n      <td>2021-01-09</td>\n      <td>AC Milan</td>\n      <td>Torino</td>\n      <td>2</td>\n      <td>0</td>\n      <td>Italy</td>\n      <td>Serie A</td>\n      <td>2020</td>\n      <td>first/Italy_Serie A_2020-2021.csv</td>\n      <td>1</td>\n      <td>Italy. First</td>\n      <td>H</td>\n      <td>1</td>\n      <td>0.222</td>\n    </tr>\n    <tr>\n      <th>11459</th>\n      <td>71184</td>\n      <td>1.966</td>\n      <td>1.668</td>\n      <td>0.452</td>\n      <td>0.216</td>\n      <td>0.332</td>\n      <td>2021-01-06</td>\n      <td>AC Milan</td>\n      <td>Juventus</td>\n      <td>1</td>\n      <td>3</td>\n      <td>Italy</td>\n      <td>Serie A</td>\n      <td>2020</td>\n      <td>first/Italy_Serie A_2020-2021.csv</td>\n      <td>1</td>\n      <td>Italy. First</td>\n      <td>A</td>\n      <td>1</td>\n      <td>0.216</td>\n    </tr>\n    <tr>\n      <th>11479</th>\n      <td>71204</td>\n      <td>1.973</td>\n      <td>1.301</td>\n      <td>0.530</td>\n      <td>0.218</td>\n      <td>0.251</td>\n      <td>2020-12-23</td>\n      <td>AC Milan</td>\n      <td>Lazio</td>\n      <td>3</td>\n      <td>2</td>\n      <td>Italy</td>\n      <td>Serie A</td>\n      <td>2020</td>\n      <td>first/Italy_Serie A_2020-2021.csv</td>\n      <td>1</td>\n      <td>Italy. First</td>\n      <td>H</td>\n      <td>1</td>\n      <td>0.218</td>\n    </tr>\n    <tr>\n      <th>11509</th>\n      <td>71234</td>\n      <td>2.018</td>\n      <td>1.160</td>\n      <td>0.572</td>\n      <td>0.214</td>\n      <td>0.214</td>\n      <td>2020-12-13</td>\n      <td>AC Milan</td>\n      <td>Parma</td>\n      <td>2</td>\n      <td>2</td>\n      <td>Italy</td>\n      <td>Serie A</td>\n      <td>2020</td>\n      <td>first/Italy_Serie A_2020-2021.csv</td>\n      <td>1</td>\n      <td>Italy. First</td>\n      <td>D</td>\n      <td>1</td>\n      <td>0.214</td>\n    </tr>\n    <tr>\n      <th>11532</th>\n      <td>71257</td>\n      <td>2.046</td>\n      <td>1.155</td>\n      <td>0.579</td>\n      <td>0.211</td>\n      <td>0.210</td>\n      <td>2020-11-29</td>\n      <td>AC Milan</td>\n      <td>Fiorentina</td>\n      <td>2</td>\n      <td>0</td>\n      <td>Italy</td>\n      <td>Serie A</td>\n      <td>2020</td>\n      <td>first/Italy_Serie A_2020-2021.csv</td>\n      <td>1</td>\n      <td>Italy. First</td>\n      <td>H</td>\n      <td>1</td>\n      <td>0.211</td>\n    </tr>\n    <tr>\n      <th>11548</th>\n      <td>71273</td>\n      <td>2.120</td>\n      <td>1.074</td>\n      <td>0.613</td>\n      <td>0.203</td>\n      <td>0.184</td>\n      <td>2020-11-08</td>\n      <td>AC Milan</td>\n      <td>Verona</td>\n      <td>2</td>\n      <td>2</td>\n      <td>Italy</td>\n      <td>Serie A</td>\n      <td>2020</td>\n      <td>first/Italy_Serie A_2020-2021.csv</td>\n      <td>1</td>\n      <td>Italy. First</td>\n      <td>D</td>\n      <td>1</td>\n      <td>0.203</td>\n    </tr>\n    <tr>\n      <th>11569</th>\n      <td>71294</td>\n      <td>2.179</td>\n      <td>1.643</td>\n      <td>0.502</td>\n      <td>0.205</td>\n      <td>0.293</td>\n      <td>2020-10-26</td>\n      <td>AC Milan</td>\n      <td>AS Roma</td>\n      <td>3</td>\n      <td>3</td>\n      <td>Italy</td>\n      <td>Serie A</td>\n      <td>2020</td>\n      <td>first/Italy_Serie A_2020-2021.csv</td>\n      <td>1</td>\n      <td>Italy. First</td>\n      <td>D</td>\n      <td>1</td>\n      <td>0.205</td>\n    </tr>\n    <tr>\n      <th>11589</th>\n      <td>71314</td>\n      <td>2.040</td>\n      <td>1.200</td>\n      <td>0.568</td>\n      <td>0.212</td>\n      <td>0.220</td>\n      <td>2020-10-04</td>\n      <td>AC Milan</td>\n      <td>Spezia</td>\n      <td>3</td>\n      <td>0</td>\n      <td>Italy</td>\n      <td>Serie A</td>\n      <td>2020</td>\n      <td>first/Italy_Serie A_2020-2021.csv</td>\n      <td>1</td>\n      <td>Italy. First</td>\n      <td>H</td>\n      <td>1</td>\n      <td>0.212</td>\n    </tr>\n    <tr>\n      <th>11610</th>\n      <td>71335</td>\n      <td>1.937</td>\n      <td>1.082</td>\n      <td>0.573</td>\n      <td>0.219</td>\n      <td>0.208</td>\n      <td>2020-09-21</td>\n      <td>AC Milan</td>\n      <td>Bologna</td>\n      <td>2</td>\n      <td>0</td>\n      <td>Italy</td>\n      <td>Serie A</td>\n      <td>2020</td>\n      <td>first/Italy_Serie A_2020-2021.csv</td>\n      <td>1</td>\n      <td>Italy. First</td>\n      <td>H</td>\n      <td>1</td>\n      <td>0.219</td>\n    </tr>\n    <tr>\n      <th>51333</th>\n      <td>370727</td>\n      <td>1.961</td>\n      <td>1.145</td>\n      <td>0.563</td>\n      <td>0.218</td>\n      <td>0.219</td>\n      <td>2020-12-03</td>\n      <td>AC Milan</td>\n      <td>Celtic</td>\n      <td>4</td>\n      <td>2</td>\n      <td>Europa League</td>\n      <td>Europa League - Group Stage</td>\n      <td>2020</td>\n      <td>cups/Europa League_Europa League - Group Stage...</td>\n      <td>3</td>\n      <td>Europa League. Cups</td>\n      <td>H</td>\n      <td>1</td>\n      <td>0.218</td>\n    </tr>\n    <tr>\n      <th>51367</th>\n      <td>370763</td>\n      <td>2.093</td>\n      <td>1.014</td>\n      <td>0.622</td>\n      <td>0.204</td>\n      <td>0.175</td>\n      <td>2020-11-05</td>\n      <td>AC Milan</td>\n      <td>Lille</td>\n      <td>0</td>\n      <td>3</td>\n      <td>Europa League</td>\n      <td>Europa League - Group Stage</td>\n      <td>2020</td>\n      <td>cups/Europa League_Europa League - Group Stage...</td>\n      <td>3</td>\n      <td>Europa League. Cups</td>\n      <td>A</td>\n      <td>1</td>\n      <td>0.204</td>\n    </tr>\n    <tr>\n      <th>51402</th>\n      <td>370799</td>\n      <td>2.150</td>\n      <td>1.266</td>\n      <td>0.576</td>\n      <td>0.205</td>\n      <td>0.219</td>\n      <td>2020-10-29</td>\n      <td>AC Milan</td>\n      <td>Sparta Prague</td>\n      <td>3</td>\n      <td>0</td>\n      <td>Europa League</td>\n      <td>Europa League - Group Stage</td>\n      <td>2020</td>\n      <td>cups/Europa League_Europa League - Group Stage...</td>\n      <td>3</td>\n      <td>Europa League. Cups</td>\n      <td>H</td>\n      <td>1</td>\n      <td>0.205</td>\n    </tr>\n    <tr>\n      <th>52518</th>\n      <td>416985</td>\n      <td>1.780</td>\n      <td>1.151</td>\n      <td>0.521</td>\n      <td>0.233</td>\n      <td>0.246</td>\n      <td>2021-01-12</td>\n      <td>AC Milan</td>\n      <td>Torino</td>\n      <td>1</td>\n      <td>0</td>\n      <td>Italy</td>\n      <td>Coppa Italia</td>\n      <td>2020</td>\n      <td>cups/Italy_Coppa Italia_2020-2021.csv</td>\n      <td>3</td>\n      <td>Italy. Cups</td>\n      <td>H</td>\n      <td>1</td>\n      <td>0.233</td>\n    </tr>\n    <tr>\n      <th>52585</th>\n      <td>418457</td>\n      <td>1.446</td>\n      <td>1.366</td>\n      <td>0.392</td>\n      <td>0.252</td>\n      <td>0.356</td>\n      <td>2021-03-18</td>\n      <td>AC Milan</td>\n      <td>Manchester Utd</td>\n      <td>0</td>\n      <td>1</td>\n      <td>Europa League</td>\n      <td>Europa League - Play Offs</td>\n      <td>2020</td>\n      <td>cups/Europa League_Europa League - Play Offs_2...</td>\n      <td>3</td>\n      <td>Europa League. Cups</td>\n      <td>A</td>\n      <td>1</td>\n      <td>0.252</td>\n    </tr>\n    <tr>\n      <th>52597</th>\n      <td>418473</td>\n      <td>1.825</td>\n      <td>1.002</td>\n      <td>0.567</td>\n      <td>0.228</td>\n      <td>0.205</td>\n      <td>2021-02-25</td>\n      <td>AC Milan</td>\n      <td>Crvena zvezda</td>\n      <td>1</td>\n      <td>1</td>\n      <td>Europa League</td>\n      <td>Europa League - Play Offs</td>\n      <td>2020</td>\n      <td>cups/Europa League_Europa League - Play Offs_2...</td>\n      <td>3</td>\n      <td>Europa League. Cups</td>\n      <td>D</td>\n      <td>1</td>\n      <td>0.228</td>\n    </tr>\n    <tr>\n      <th>52817</th>\n      <td>433320</td>\n      <td>2.230</td>\n      <td>1.221</td>\n      <td>0.602</td>\n      <td>0.198</td>\n      <td>0.200</td>\n      <td>2020-09-24</td>\n      <td>AC Milan</td>\n      <td>Bodo/Glimt</td>\n      <td>3</td>\n      <td>2</td>\n      <td>Europa League</td>\n      <td>Europa League - Qualification</td>\n      <td>2020</td>\n      <td>cups/Europa League_Europa League - Qualificati...</td>\n      <td>3</td>\n      <td>Europa League. Cups</td>\n      <td>H</td>\n      <td>1</td>\n      <td>0.198</td>\n    </tr>\n  </tbody>\n</table>\n</div>"
     },
     "execution_count": 12,
     "metadata": {},
     "output_type": "execute_result"
    }
   ],
   "source": [
    "t.loc[t['home_team'].str.contains('Milan')]"
   ],
   "metadata": {
    "collapsed": false,
    "pycharm": {
     "name": "#%%\n"
    }
   }
  },
  {
   "cell_type": "code",
   "execution_count": 14,
   "outputs": [
    {
     "ename": "KeyError",
     "evalue": "'team'",
     "output_type": "error",
     "traceback": [
      "\u001B[0;31m---------------------------------------------------------------------------\u001B[0m",
      "\u001B[0;31mKeyError\u001B[0m                                  Traceback (most recent call last)",
      "File \u001B[0;32m~/PycharmProjects/GlickoSoccer/venv/lib/python3.10/site-packages/pandas/core/indexes/base.py:3629\u001B[0m, in \u001B[0;36mIndex.get_loc\u001B[0;34m(self, key, method, tolerance)\u001B[0m\n\u001B[1;32m   3628\u001B[0m \u001B[38;5;28;01mtry\u001B[39;00m:\n\u001B[0;32m-> 3629\u001B[0m     \u001B[38;5;28;01mreturn\u001B[39;00m \u001B[38;5;28;43mself\u001B[39;49m\u001B[38;5;241;43m.\u001B[39;49m\u001B[43m_engine\u001B[49m\u001B[38;5;241;43m.\u001B[39;49m\u001B[43mget_loc\u001B[49m\u001B[43m(\u001B[49m\u001B[43mcasted_key\u001B[49m\u001B[43m)\u001B[49m\n\u001B[1;32m   3630\u001B[0m \u001B[38;5;28;01mexcept\u001B[39;00m \u001B[38;5;167;01mKeyError\u001B[39;00m \u001B[38;5;28;01mas\u001B[39;00m err:\n",
      "File \u001B[0;32m~/PycharmProjects/GlickoSoccer/venv/lib/python3.10/site-packages/pandas/_libs/index.pyx:136\u001B[0m, in \u001B[0;36mpandas._libs.index.IndexEngine.get_loc\u001B[0;34m()\u001B[0m\n",
      "File \u001B[0;32m~/PycharmProjects/GlickoSoccer/venv/lib/python3.10/site-packages/pandas/_libs/index.pyx:163\u001B[0m, in \u001B[0;36mpandas._libs.index.IndexEngine.get_loc\u001B[0;34m()\u001B[0m\n",
      "File \u001B[0;32mpandas/_libs/hashtable_class_helper.pxi:5198\u001B[0m, in \u001B[0;36mpandas._libs.hashtable.PyObjectHashTable.get_item\u001B[0;34m()\u001B[0m\n",
      "File \u001B[0;32mpandas/_libs/hashtable_class_helper.pxi:5206\u001B[0m, in \u001B[0;36mpandas._libs.hashtable.PyObjectHashTable.get_item\u001B[0;34m()\u001B[0m\n",
      "\u001B[0;31mKeyError\u001B[0m: 'team'",
      "\nThe above exception was the direct cause of the following exception:\n",
      "\u001B[0;31mKeyError\u001B[0m                                  Traceback (most recent call last)",
      "Input \u001B[0;32mIn [14]\u001B[0m, in \u001B[0;36m<cell line: 1>\u001B[0;34m()\u001B[0m\n\u001B[0;32m----> 1\u001B[0m t\u001B[38;5;241m.\u001B[39mloc[\u001B[43mt\u001B[49m\u001B[43m[\u001B[49m\u001B[38;5;124;43m'\u001B[39;49m\u001B[38;5;124;43mteam\u001B[39;49m\u001B[38;5;124;43m'\u001B[39;49m\u001B[43m]\u001B[49m\u001B[38;5;241m.\u001B[39mstr\u001B[38;5;241m.\u001B[39mcontains(\u001B[38;5;124m'\u001B[39m\u001B[38;5;124mMilan\u001B[39m\u001B[38;5;124m'\u001B[39m) \u001B[38;5;241m&\u001B[39m t[\u001B[38;5;124m'\u001B[39m\u001B[38;5;124mopp_team\u001B[39m\u001B[38;5;124m'\u001B[39m]\u001B[38;5;241m.\u001B[39mstr\u001B[38;5;241m.\u001B[39mcontains(\u001B[38;5;124m'\u001B[39m\u001B[38;5;124mAtalanta\u001B[39m\u001B[38;5;124m'\u001B[39m)]\n",
      "File \u001B[0;32m~/PycharmProjects/GlickoSoccer/venv/lib/python3.10/site-packages/pandas/core/frame.py:3505\u001B[0m, in \u001B[0;36mDataFrame.__getitem__\u001B[0;34m(self, key)\u001B[0m\n\u001B[1;32m   3503\u001B[0m \u001B[38;5;28;01mif\u001B[39;00m \u001B[38;5;28mself\u001B[39m\u001B[38;5;241m.\u001B[39mcolumns\u001B[38;5;241m.\u001B[39mnlevels \u001B[38;5;241m>\u001B[39m \u001B[38;5;241m1\u001B[39m:\n\u001B[1;32m   3504\u001B[0m     \u001B[38;5;28;01mreturn\u001B[39;00m \u001B[38;5;28mself\u001B[39m\u001B[38;5;241m.\u001B[39m_getitem_multilevel(key)\n\u001B[0;32m-> 3505\u001B[0m indexer \u001B[38;5;241m=\u001B[39m \u001B[38;5;28;43mself\u001B[39;49m\u001B[38;5;241;43m.\u001B[39;49m\u001B[43mcolumns\u001B[49m\u001B[38;5;241;43m.\u001B[39;49m\u001B[43mget_loc\u001B[49m\u001B[43m(\u001B[49m\u001B[43mkey\u001B[49m\u001B[43m)\u001B[49m\n\u001B[1;32m   3506\u001B[0m \u001B[38;5;28;01mif\u001B[39;00m is_integer(indexer):\n\u001B[1;32m   3507\u001B[0m     indexer \u001B[38;5;241m=\u001B[39m [indexer]\n",
      "File \u001B[0;32m~/PycharmProjects/GlickoSoccer/venv/lib/python3.10/site-packages/pandas/core/indexes/base.py:3631\u001B[0m, in \u001B[0;36mIndex.get_loc\u001B[0;34m(self, key, method, tolerance)\u001B[0m\n\u001B[1;32m   3629\u001B[0m     \u001B[38;5;28;01mreturn\u001B[39;00m \u001B[38;5;28mself\u001B[39m\u001B[38;5;241m.\u001B[39m_engine\u001B[38;5;241m.\u001B[39mget_loc(casted_key)\n\u001B[1;32m   3630\u001B[0m \u001B[38;5;28;01mexcept\u001B[39;00m \u001B[38;5;167;01mKeyError\u001B[39;00m \u001B[38;5;28;01mas\u001B[39;00m err:\n\u001B[0;32m-> 3631\u001B[0m     \u001B[38;5;28;01mraise\u001B[39;00m \u001B[38;5;167;01mKeyError\u001B[39;00m(key) \u001B[38;5;28;01mfrom\u001B[39;00m \u001B[38;5;21;01merr\u001B[39;00m\n\u001B[1;32m   3632\u001B[0m \u001B[38;5;28;01mexcept\u001B[39;00m \u001B[38;5;167;01mTypeError\u001B[39;00m:\n\u001B[1;32m   3633\u001B[0m     \u001B[38;5;66;03m# If we have a listlike key, _check_indexing_error will raise\u001B[39;00m\n\u001B[1;32m   3634\u001B[0m     \u001B[38;5;66;03m#  InvalidIndexError. Otherwise we fall through and re-raise\u001B[39;00m\n\u001B[1;32m   3635\u001B[0m     \u001B[38;5;66;03m#  the TypeError.\u001B[39;00m\n\u001B[1;32m   3636\u001B[0m     \u001B[38;5;28mself\u001B[39m\u001B[38;5;241m.\u001B[39m_check_indexing_error(key)\n",
      "\u001B[0;31mKeyError\u001B[0m: 'team'"
     ]
    }
   ],
   "source": [
    "t.loc[t['team'].str.contains('Milan') & t['opp_team'].str.contains('Atalanta')]"
   ],
   "metadata": {
    "collapsed": false,
    "pycharm": {
     "name": "#%%\n"
    }
   }
  },
  {
   "cell_type": "code",
   "execution_count": 15,
   "outputs": [
    {
     "data": {
      "text/plain": "            team  opp_team  score  match_id  is_home  avg_scoring_5  \\\n331510  AC Milan  Atalanta      2     59281     True          1.600   \n663550  Atalanta  AC Milan      0     59281    False          2.400   \n\n        avg_scoring_10  avg_scoring_20  avg_scoring_30  avg_scoring_5_against  \\\n331510           1.200           1.450           1.733                  1.200   \n663550           1.500           1.500           1.900                  1.600   \n\n        avg_scoring_10_against  avg_scoring_20_against  \\\n331510                   1.000                   1.350   \n663550                   1.400                   1.000   \n\n        avg_scoring_30_against  season  tournament_type    tournament  \\\n331510                   1.267    2021                1  Italy. First   \n663550                   1.069    2021                1  Italy. First   \n\n        is_pandemic        league    opp_league  location_mean_score_5  \\\n331510            0  Italy. First  Italy. First                  1.000   \n663550            0  Italy. First  Italy. First                  1.600   \n\n        location_mean_score_10  location_mean_score_20  \\\n331510                   1.000                   1.400   \n663550                   1.600                   2.150   \n\n        location_mean_score_30  location_median_score_5  \\\n331510                   1.267                    1.000   \n663550                   1.900                    1.000   \n\n        location_median_score_10  location_median_score_20  \\\n331510                     1.000                     1.000   \n663550                     1.000                     2.000   \n\n        location_median_score_30  location_mean_score_5_against  \\\n331510                     1.000                          0.200   \n663550                     2.000                          1.000   \n\n        location_mean_score_10_against  location_mean_score_20_against  \\\n331510                           0.500                           0.600   \n663550                           0.900                           1.100   \n\n        location_median_score_10_against  location_max_score_10  \n331510                             0.000                  3.000  \n663550                             1.000                  6.000  ",
      "text/html": "<div>\n<style scoped>\n    .dataframe tbody tr th:only-of-type {\n        vertical-align: middle;\n    }\n\n    .dataframe tbody tr th {\n        vertical-align: top;\n    }\n\n    .dataframe thead th {\n        text-align: right;\n    }\n</style>\n<table border=\"1\" class=\"dataframe\">\n  <thead>\n    <tr style=\"text-align: right;\">\n      <th></th>\n      <th>team</th>\n      <th>opp_team</th>\n      <th>score</th>\n      <th>match_id</th>\n      <th>is_home</th>\n      <th>avg_scoring_5</th>\n      <th>avg_scoring_10</th>\n      <th>avg_scoring_20</th>\n      <th>avg_scoring_30</th>\n      <th>avg_scoring_5_against</th>\n      <th>avg_scoring_10_against</th>\n      <th>avg_scoring_20_against</th>\n      <th>avg_scoring_30_against</th>\n      <th>season</th>\n      <th>tournament_type</th>\n      <th>tournament</th>\n      <th>is_pandemic</th>\n      <th>league</th>\n      <th>opp_league</th>\n      <th>location_mean_score_5</th>\n      <th>location_mean_score_10</th>\n      <th>location_mean_score_20</th>\n      <th>location_mean_score_30</th>\n      <th>location_median_score_5</th>\n      <th>location_median_score_10</th>\n      <th>location_median_score_20</th>\n      <th>location_median_score_30</th>\n      <th>location_mean_score_5_against</th>\n      <th>location_mean_score_10_against</th>\n      <th>location_mean_score_20_against</th>\n      <th>location_median_score_10_against</th>\n      <th>location_max_score_10</th>\n    </tr>\n  </thead>\n  <tbody>\n    <tr>\n      <th>331510</th>\n      <td>AC Milan</td>\n      <td>Atalanta</td>\n      <td>2</td>\n      <td>59281</td>\n      <td>True</td>\n      <td>1.600</td>\n      <td>1.200</td>\n      <td>1.450</td>\n      <td>1.733</td>\n      <td>1.200</td>\n      <td>1.000</td>\n      <td>1.350</td>\n      <td>1.267</td>\n      <td>2021</td>\n      <td>1</td>\n      <td>Italy. First</td>\n      <td>0</td>\n      <td>Italy. First</td>\n      <td>Italy. First</td>\n      <td>1.000</td>\n      <td>1.000</td>\n      <td>1.400</td>\n      <td>1.267</td>\n      <td>1.000</td>\n      <td>1.000</td>\n      <td>1.000</td>\n      <td>1.000</td>\n      <td>0.200</td>\n      <td>0.500</td>\n      <td>0.600</td>\n      <td>0.000</td>\n      <td>3.000</td>\n    </tr>\n    <tr>\n      <th>663550</th>\n      <td>Atalanta</td>\n      <td>AC Milan</td>\n      <td>0</td>\n      <td>59281</td>\n      <td>False</td>\n      <td>2.400</td>\n      <td>1.500</td>\n      <td>1.500</td>\n      <td>1.900</td>\n      <td>1.600</td>\n      <td>1.400</td>\n      <td>1.000</td>\n      <td>1.069</td>\n      <td>2021</td>\n      <td>1</td>\n      <td>Italy. First</td>\n      <td>0</td>\n      <td>Italy. First</td>\n      <td>Italy. First</td>\n      <td>1.600</td>\n      <td>1.600</td>\n      <td>2.150</td>\n      <td>1.900</td>\n      <td>1.000</td>\n      <td>1.000</td>\n      <td>2.000</td>\n      <td>2.000</td>\n      <td>1.000</td>\n      <td>0.900</td>\n      <td>1.100</td>\n      <td>1.000</td>\n      <td>6.000</td>\n    </tr>\n  </tbody>\n</table>\n</div>"
     },
     "execution_count": 15,
     "metadata": {},
     "output_type": "execute_result"
    }
   ],
   "source": [
    "test.loc[test['match_id'] == 59281]"
   ],
   "metadata": {
    "collapsed": false,
    "pycharm": {
     "name": "#%%\n"
    }
   }
  },
  {
   "cell_type": "code",
   "execution_count": null,
   "outputs": [],
   "source": [],
   "metadata": {
    "collapsed": false,
    "pycharm": {
     "name": "#%%\n"
    }
   }
  }
 ],
 "metadata": {
  "kernelspec": {
   "name": "python3",
   "language": "python",
   "display_name": "Python 3 (ipykernel)"
  },
  "language_info": {
   "codemirror_mode": {
    "name": "ipython",
    "version": 3
   },
   "file_extension": ".py",
   "mimetype": "text/x-python",
   "name": "python",
   "nbconvert_exporter": "python",
   "pygments_lexer": "ipython3",
   "version": "3.9.7"
  }
 },
 "nbformat": 4,
 "nbformat_minor": 5
}