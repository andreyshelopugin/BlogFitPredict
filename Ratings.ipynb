{
 "cells": [
  {
   "cell_type": "code",
   "execution_count": 1,
   "outputs": [],
   "source": [
    "%reload_ext autoreload\n",
    "%autoreload 2\n",
    "\n",
    "import pandas as pd\n",
    "\n",
    "pd.options.display.max_columns, pd.options.display.max_rows = 500, 200\n",
    "pd.options.display.float_format = '{:.3f}'.format\n",
    "import joblib\n",
    "import warnings\n",
    "warnings.filterwarnings('ignore')\n",
    "\n",
    "from soccer.preprocessing import DataPreprocessor\n",
    "from soccer.glicko_soccer import GlickoSoccer"
   ],
   "metadata": {
    "collapsed": false,
    "pycharm": {
     "name": "#%%\n"
    }
   }
  },
  {
   "cell_type": "markdown",
   "source": [
    "Preprocessing"
   ],
   "metadata": {
    "collapsed": false,
    "pycharm": {
     "name": "#%% md\n"
    }
   }
  },
  {
   "cell_type": "code",
   "execution_count": 2,
   "outputs": [
    {
     "data": {
      "text/plain": "         date home_team   away_team home_score away_score notes  country  \\\n0  05.11.2011     Kalju       Paide          1          2   NaN  Estonia   \n1  05.11.2011   Levadia  Kuressaare          4          0   NaN  Estonia   \n2  05.11.2011     Narva    Sillamae          2          3   NaN  Estonia   \n3  05.11.2011   Tammeka    Lasnamae          9          0   NaN  Estonia   \n4  05.11.2011  Viljandi       Flora          2          4   NaN  Estonia   \n\n         league season tournament_type  \n0  Meistriliiga   2011           first  \n1  Meistriliiga   2011           first  \n2  Meistriliiga   2011           first  \n3  Meistriliiga   2011           first  \n4  Meistriliiga   2011           first  ",
      "text/html": "<div>\n<style scoped>\n    .dataframe tbody tr th:only-of-type {\n        vertical-align: middle;\n    }\n\n    .dataframe tbody tr th {\n        vertical-align: top;\n    }\n\n    .dataframe thead th {\n        text-align: right;\n    }\n</style>\n<table border=\"1\" class=\"dataframe\">\n  <thead>\n    <tr style=\"text-align: right;\">\n      <th></th>\n      <th>date</th>\n      <th>home_team</th>\n      <th>away_team</th>\n      <th>home_score</th>\n      <th>away_score</th>\n      <th>notes</th>\n      <th>country</th>\n      <th>league</th>\n      <th>season</th>\n      <th>tournament_type</th>\n    </tr>\n  </thead>\n  <tbody>\n    <tr>\n      <th>0</th>\n      <td>05.11.2011</td>\n      <td>Kalju</td>\n      <td>Paide</td>\n      <td>1</td>\n      <td>2</td>\n      <td>NaN</td>\n      <td>Estonia</td>\n      <td>Meistriliiga</td>\n      <td>2011</td>\n      <td>first</td>\n    </tr>\n    <tr>\n      <th>1</th>\n      <td>05.11.2011</td>\n      <td>Levadia</td>\n      <td>Kuressaare</td>\n      <td>4</td>\n      <td>0</td>\n      <td>NaN</td>\n      <td>Estonia</td>\n      <td>Meistriliiga</td>\n      <td>2011</td>\n      <td>first</td>\n    </tr>\n    <tr>\n      <th>2</th>\n      <td>05.11.2011</td>\n      <td>Narva</td>\n      <td>Sillamae</td>\n      <td>2</td>\n      <td>3</td>\n      <td>NaN</td>\n      <td>Estonia</td>\n      <td>Meistriliiga</td>\n      <td>2011</td>\n      <td>first</td>\n    </tr>\n    <tr>\n      <th>3</th>\n      <td>05.11.2011</td>\n      <td>Tammeka</td>\n      <td>Lasnamae</td>\n      <td>9</td>\n      <td>0</td>\n      <td>NaN</td>\n      <td>Estonia</td>\n      <td>Meistriliiga</td>\n      <td>2011</td>\n      <td>first</td>\n    </tr>\n    <tr>\n      <th>4</th>\n      <td>05.11.2011</td>\n      <td>Viljandi</td>\n      <td>Flora</td>\n      <td>2</td>\n      <td>4</td>\n      <td>NaN</td>\n      <td>Estonia</td>\n      <td>Meistriliiga</td>\n      <td>2011</td>\n      <td>first</td>\n    </tr>\n  </tbody>\n</table>\n</div>"
     },
     "execution_count": 2,
     "metadata": {},
     "output_type": "execute_result"
    }
   ],
   "source": [
    "raw_matches = pd.read_csv('data/matches.csv')\n",
    "raw_matches.head()"
   ],
   "metadata": {
    "collapsed": false,
    "pycharm": {
     "name": "#%%\n"
    }
   }
  },
  {
   "cell_type": "code",
   "execution_count": 3,
   "outputs": [
    {
     "data": {
      "text/plain": "        match_id       date        home_team          away_team  home_score  \\\n370292    274719 2022-06-05  Jedinstvo Bihac  Gradina Srebrenik           1   \n370297    294572 2022-06-11           Girona           Tenerife           0   \n370298    108308 2022-06-11            Veria              Lamia           1   \n370299    108307 2022-06-18            Lamia              Veria           1   \n370300    294571 2022-06-19         Tenerife             Girona           1   \n\n        away_score                 country                           league  \\\n370292           0  Bosnia And Herzegovina                 Prva Liga - FBiH   \n370297           0                   Spain  LaLiga2 - Promotion - Play Offs   \n370298           2                  Greece        Super League - Relegation   \n370299           1                  Greece        Super League - Relegation   \n370300           3                   Spain  LaLiga2 - Promotion - Play Offs   \n\n        season  tournament_type                      tournament outcome  \\\n370292    2021                2  Bosnia And Herzegovina. Second       H   \n370297    2021                2                   Spain. Second       D   \n370298    2021                1                   Greece. First       A   \n370299    2021                1                   Greece. First       D   \n370300    2021                2                   Spain. Second       A   \n\n        is_pandemic  draw_probability  \n370292            0             0.235  \n370297            0             0.279  \n370298            0             0.329  \n370299            0             0.281  \n370300            0             0.305  ",
      "text/html": "<div>\n<style scoped>\n    .dataframe tbody tr th:only-of-type {\n        vertical-align: middle;\n    }\n\n    .dataframe tbody tr th {\n        vertical-align: top;\n    }\n\n    .dataframe thead th {\n        text-align: right;\n    }\n</style>\n<table border=\"1\" class=\"dataframe\">\n  <thead>\n    <tr style=\"text-align: right;\">\n      <th></th>\n      <th>match_id</th>\n      <th>date</th>\n      <th>home_team</th>\n      <th>away_team</th>\n      <th>home_score</th>\n      <th>away_score</th>\n      <th>country</th>\n      <th>league</th>\n      <th>season</th>\n      <th>tournament_type</th>\n      <th>tournament</th>\n      <th>outcome</th>\n      <th>is_pandemic</th>\n      <th>draw_probability</th>\n    </tr>\n  </thead>\n  <tbody>\n    <tr>\n      <th>370292</th>\n      <td>274719</td>\n      <td>2022-06-05</td>\n      <td>Jedinstvo Bihac</td>\n      <td>Gradina Srebrenik</td>\n      <td>1</td>\n      <td>0</td>\n      <td>Bosnia And Herzegovina</td>\n      <td>Prva Liga - FBiH</td>\n      <td>2021</td>\n      <td>2</td>\n      <td>Bosnia And Herzegovina. Second</td>\n      <td>H</td>\n      <td>0</td>\n      <td>0.235</td>\n    </tr>\n    <tr>\n      <th>370297</th>\n      <td>294572</td>\n      <td>2022-06-11</td>\n      <td>Girona</td>\n      <td>Tenerife</td>\n      <td>0</td>\n      <td>0</td>\n      <td>Spain</td>\n      <td>LaLiga2 - Promotion - Play Offs</td>\n      <td>2021</td>\n      <td>2</td>\n      <td>Spain. Second</td>\n      <td>D</td>\n      <td>0</td>\n      <td>0.279</td>\n    </tr>\n    <tr>\n      <th>370298</th>\n      <td>108308</td>\n      <td>2022-06-11</td>\n      <td>Veria</td>\n      <td>Lamia</td>\n      <td>1</td>\n      <td>2</td>\n      <td>Greece</td>\n      <td>Super League - Relegation</td>\n      <td>2021</td>\n      <td>1</td>\n      <td>Greece. First</td>\n      <td>A</td>\n      <td>0</td>\n      <td>0.329</td>\n    </tr>\n    <tr>\n      <th>370299</th>\n      <td>108307</td>\n      <td>2022-06-18</td>\n      <td>Lamia</td>\n      <td>Veria</td>\n      <td>1</td>\n      <td>1</td>\n      <td>Greece</td>\n      <td>Super League - Relegation</td>\n      <td>2021</td>\n      <td>1</td>\n      <td>Greece. First</td>\n      <td>D</td>\n      <td>0</td>\n      <td>0.281</td>\n    </tr>\n    <tr>\n      <th>370300</th>\n      <td>294571</td>\n      <td>2022-06-19</td>\n      <td>Tenerife</td>\n      <td>Girona</td>\n      <td>1</td>\n      <td>3</td>\n      <td>Spain</td>\n      <td>LaLiga2 - Promotion - Play Offs</td>\n      <td>2021</td>\n      <td>2</td>\n      <td>Spain. Second</td>\n      <td>A</td>\n      <td>0</td>\n      <td>0.305</td>\n    </tr>\n  </tbody>\n</table>\n</div>"
     },
     "execution_count": 3,
     "metadata": {},
     "output_type": "execute_result"
    }
   ],
   "source": [
    "matches = DataPreprocessor(is_actual_draw_predictions=True).preprocessing(raw_matches)\n",
    "matches.tail(5)"
   ],
   "metadata": {
    "collapsed": false,
    "pycharm": {
     "name": "#%%\n"
    }
   }
  },
  {
   "cell_type": "markdown",
   "source": [
    "Fit parameters"
   ],
   "metadata": {
    "collapsed": false,
    "pycharm": {
     "name": "#%% md\n"
    }
   }
  },
  {
   "cell_type": "code",
   "execution_count": null,
   "outputs": [],
   "source": [
    "matches = DataPreprocessor(is_actual_draw_predictions=True, max_season=2019).preprocessing()\n",
    "\n",
    "league_params = GlickoSoccer().fit_params(matches, number_iterations=100, is_params_initialization=False)\n",
    "league_params"
   ],
   "metadata": {
    "collapsed": false,
    "pycharm": {
     "name": "#%%\n"
    }
   }
  },
  {
   "cell_type": "markdown",
   "source": [
    "Ratings"
   ],
   "metadata": {
    "collapsed": false,
    "pycharm": {
     "name": "#%% md\n"
    }
   }
  },
  {
   "cell_type": "code",
   "execution_count": 4,
   "outputs": [
    {
     "data": {
      "text/plain": "     #              team   rating              league  is_europe\n0    1         Liverpool 2324.768      England. First       True\n1    2   Manchester City 2322.166      England. First       True\n2    3       Real Madrid 2286.032        Spain. First       True\n3    4     Bayern Munich 2255.672      Germany. First       True\n4    5             Inter 2225.255        Italy. First       True\n5    6           Chelsea 2217.639      England. First       True\n6    7       Atl. Madrid 2170.242        Spain. First       True\n7    8          FC Porto 2169.666     Portugal. First       True\n8    9         Barcelona 2165.708        Spain. First       True\n9   10          AC Milan 2159.974        Italy. First       True\n10  11          Paris SG 2156.949       France. First       True\n11  12          Salzburg 2146.032      Austria. First       True\n12  13           Sevilla 2143.938        Spain. First       True\n13  14           Arsenal 2130.739      England. First       True\n14  15          Juventus 2127.970        Italy. First       True\n15  16              Ajax 2125.818  Netherlands. First       True\n16  17        RB Leipzig 2119.216      Germany. First       True\n17  18         Tottenham 2117.767      England. First       True\n18  19  Shakhtar Donetsk 2115.570      Ukraine. First       True\n19  20          Dortmund 2115.501      Germany. First       True\n20  21        Villarreal 2103.033        Spain. First       True\n21  22             Betis 2100.456        Spain. First       True\n22  23            Napoli 2100.350        Italy. First       True\n23  24    Manchester Utd 2097.561      England. First       True\n24  25  Bayer Leverkusen 2083.531      Germany. First       True\n25  26     Crvena zvezda 2082.697       Serbia. First       True\n26  27     Real Sociedad 2081.286        Spain. First       True\n27  28          Sporting 2074.722     Portugal. First       True\n28  29           AS Roma 2059.089        Italy. First       True\n29  30          West Ham 2055.538      England. First       True",
      "text/html": "<div>\n<style scoped>\n    .dataframe tbody tr th:only-of-type {\n        vertical-align: middle;\n    }\n\n    .dataframe tbody tr th {\n        vertical-align: top;\n    }\n\n    .dataframe thead th {\n        text-align: right;\n    }\n</style>\n<table border=\"1\" class=\"dataframe\">\n  <thead>\n    <tr style=\"text-align: right;\">\n      <th></th>\n      <th>#</th>\n      <th>team</th>\n      <th>rating</th>\n      <th>league</th>\n      <th>is_europe</th>\n    </tr>\n  </thead>\n  <tbody>\n    <tr>\n      <th>0</th>\n      <td>1</td>\n      <td>Liverpool</td>\n      <td>2324.768</td>\n      <td>England. First</td>\n      <td>True</td>\n    </tr>\n    <tr>\n      <th>1</th>\n      <td>2</td>\n      <td>Manchester City</td>\n      <td>2322.166</td>\n      <td>England. First</td>\n      <td>True</td>\n    </tr>\n    <tr>\n      <th>2</th>\n      <td>3</td>\n      <td>Real Madrid</td>\n      <td>2286.032</td>\n      <td>Spain. First</td>\n      <td>True</td>\n    </tr>\n    <tr>\n      <th>3</th>\n      <td>4</td>\n      <td>Bayern Munich</td>\n      <td>2255.672</td>\n      <td>Germany. First</td>\n      <td>True</td>\n    </tr>\n    <tr>\n      <th>4</th>\n      <td>5</td>\n      <td>Inter</td>\n      <td>2225.255</td>\n      <td>Italy. First</td>\n      <td>True</td>\n    </tr>\n    <tr>\n      <th>5</th>\n      <td>6</td>\n      <td>Chelsea</td>\n      <td>2217.639</td>\n      <td>England. First</td>\n      <td>True</td>\n    </tr>\n    <tr>\n      <th>6</th>\n      <td>7</td>\n      <td>Atl. Madrid</td>\n      <td>2170.242</td>\n      <td>Spain. First</td>\n      <td>True</td>\n    </tr>\n    <tr>\n      <th>7</th>\n      <td>8</td>\n      <td>FC Porto</td>\n      <td>2169.666</td>\n      <td>Portugal. First</td>\n      <td>True</td>\n    </tr>\n    <tr>\n      <th>8</th>\n      <td>9</td>\n      <td>Barcelona</td>\n      <td>2165.708</td>\n      <td>Spain. First</td>\n      <td>True</td>\n    </tr>\n    <tr>\n      <th>9</th>\n      <td>10</td>\n      <td>AC Milan</td>\n      <td>2159.974</td>\n      <td>Italy. First</td>\n      <td>True</td>\n    </tr>\n    <tr>\n      <th>10</th>\n      <td>11</td>\n      <td>Paris SG</td>\n      <td>2156.949</td>\n      <td>France. First</td>\n      <td>True</td>\n    </tr>\n    <tr>\n      <th>11</th>\n      <td>12</td>\n      <td>Salzburg</td>\n      <td>2146.032</td>\n      <td>Austria. First</td>\n      <td>True</td>\n    </tr>\n    <tr>\n      <th>12</th>\n      <td>13</td>\n      <td>Sevilla</td>\n      <td>2143.938</td>\n      <td>Spain. First</td>\n      <td>True</td>\n    </tr>\n    <tr>\n      <th>13</th>\n      <td>14</td>\n      <td>Arsenal</td>\n      <td>2130.739</td>\n      <td>England. First</td>\n      <td>True</td>\n    </tr>\n    <tr>\n      <th>14</th>\n      <td>15</td>\n      <td>Juventus</td>\n      <td>2127.970</td>\n      <td>Italy. First</td>\n      <td>True</td>\n    </tr>\n    <tr>\n      <th>15</th>\n      <td>16</td>\n      <td>Ajax</td>\n      <td>2125.818</td>\n      <td>Netherlands. First</td>\n      <td>True</td>\n    </tr>\n    <tr>\n      <th>16</th>\n      <td>17</td>\n      <td>RB Leipzig</td>\n      <td>2119.216</td>\n      <td>Germany. First</td>\n      <td>True</td>\n    </tr>\n    <tr>\n      <th>17</th>\n      <td>18</td>\n      <td>Tottenham</td>\n      <td>2117.767</td>\n      <td>England. First</td>\n      <td>True</td>\n    </tr>\n    <tr>\n      <th>18</th>\n      <td>19</td>\n      <td>Shakhtar Donetsk</td>\n      <td>2115.570</td>\n      <td>Ukraine. First</td>\n      <td>True</td>\n    </tr>\n    <tr>\n      <th>19</th>\n      <td>20</td>\n      <td>Dortmund</td>\n      <td>2115.501</td>\n      <td>Germany. First</td>\n      <td>True</td>\n    </tr>\n    <tr>\n      <th>20</th>\n      <td>21</td>\n      <td>Villarreal</td>\n      <td>2103.033</td>\n      <td>Spain. First</td>\n      <td>True</td>\n    </tr>\n    <tr>\n      <th>21</th>\n      <td>22</td>\n      <td>Betis</td>\n      <td>2100.456</td>\n      <td>Spain. First</td>\n      <td>True</td>\n    </tr>\n    <tr>\n      <th>22</th>\n      <td>23</td>\n      <td>Napoli</td>\n      <td>2100.350</td>\n      <td>Italy. First</td>\n      <td>True</td>\n    </tr>\n    <tr>\n      <th>23</th>\n      <td>24</td>\n      <td>Manchester Utd</td>\n      <td>2097.561</td>\n      <td>England. First</td>\n      <td>True</td>\n    </tr>\n    <tr>\n      <th>24</th>\n      <td>25</td>\n      <td>Bayer Leverkusen</td>\n      <td>2083.531</td>\n      <td>Germany. First</td>\n      <td>True</td>\n    </tr>\n    <tr>\n      <th>25</th>\n      <td>26</td>\n      <td>Crvena zvezda</td>\n      <td>2082.697</td>\n      <td>Serbia. First</td>\n      <td>True</td>\n    </tr>\n    <tr>\n      <th>26</th>\n      <td>27</td>\n      <td>Real Sociedad</td>\n      <td>2081.286</td>\n      <td>Spain. First</td>\n      <td>True</td>\n    </tr>\n    <tr>\n      <th>27</th>\n      <td>28</td>\n      <td>Sporting</td>\n      <td>2074.722</td>\n      <td>Portugal. First</td>\n      <td>True</td>\n    </tr>\n    <tr>\n      <th>28</th>\n      <td>29</td>\n      <td>AS Roma</td>\n      <td>2059.089</td>\n      <td>Italy. First</td>\n      <td>True</td>\n    </tr>\n    <tr>\n      <th>29</th>\n      <td>30</td>\n      <td>West Ham</td>\n      <td>2055.538</td>\n      <td>England. First</td>\n      <td>True</td>\n    </tr>\n  </tbody>\n</table>\n</div>"
     },
     "execution_count": 4,
     "metadata": {},
     "output_type": "execute_result"
    }
   ],
   "source": [
    "league_params = joblib.load('data/league_params.pkl')\n",
    "club_ratings = GlickoSoccer().rate_teams(matches, league_params)\n",
    "club_ratings = GlickoSoccer().ratings_to_df(club_ratings, matches)\n",
    "europe_leagues_ratings, south_america_leagues_ratings = GlickoSoccer().league_ratings(club_ratings, number_top_teams=5)\n",
    "club_ratings.head(30)"
   ],
   "metadata": {
    "collapsed": false,
    "pycharm": {
     "name": "#%%\n"
    }
   }
  },
  {
   "cell_type": "code",
   "execution_count": 5,
   "outputs": [
    {
     "data": {
      "text/plain": "     #                          league   rating\n0    1                  England. First 2222.616\n1    2                    Spain. First 2173.791\n2    3                    Italy. First 2134.528\n3    4                  Germany. First 2125.740\n4    5                   France. First 2047.183\n5    6                 Portugal. First 2003.650\n6    7              Netherlands. First 1969.510\n7    8                   Spain. Second 1927.749\n8    9                  Austria. First 1927.117\n9   10                  Ukraine. First 1917.165\n10  11                  Belgium. First 1914.028\n11  12                   Russia. First 1905.776\n12  13           Czech Republic. First 1901.452\n13  14                   Turkey. First 1893.882\n14  15              Switzerland. First 1887.366\n15  16                  Croatia. First 1876.848\n16  17                   Greece. First 1873.275\n17  18                 Germany. Second 1866.441\n18  19                 England. Second 1859.505\n19  20                  Romania. First 1852.216\n20  21                  Denmark. First 1849.088\n21  22                   Sweden. First 1833.672\n22  23                 Scotland. First 1829.716\n23  24                   Norway. First 1821.930\n24  25                  France. Second 1818.227\n25  26                   Israel. First 1816.744\n26  27                   Serbia. First 1813.854\n27  28                   Poland. First 1812.889\n28  29                   Italy. Second 1800.770\n29  30                 Bulgaria. First 1772.607\n30  31                   Cyprus. First 1759.655\n31  32                 Slovakia. First 1756.121\n32  33                 Slovenia. First 1746.002\n33  34                  Hungary. First 1741.473\n34  35                  Belarus. First 1739.103\n35  36               Azerbaijan. First 1725.759\n36  37                  Finland. First 1719.000\n37  38                  Russia. Second 1702.949\n38  39                   Latvia. First 1699.503\n39  40                  Turkey. Second 1695.809\n40  41               Kazakhstan. First 1691.944\n41  42   Bosnia And Herzegovina. First 1688.265\n42  43             Switzerland. Second 1676.025\n43  44                  Moldova. First 1672.510\n44  45                Portugal. Second 1669.405\n45  46                Lithuania. First 1664.247\n46  47          North Macedonia. First 1659.310\n47  48                 Romania. Second 1654.681\n48  49                 Austria. Second 1653.639\n49  50                  Georgia. First 1648.461\n50  51                  Greece. Second 1646.431\n51  52                  Iceland. First 1636.271\n52  53                  Armenia. First 1635.108\n53  54         Northern Ireland. First 1624.850\n54  55                 Ukraine. Second 1617.979\n55  56                  Ireland. First 1616.102\n56  57                    Malta. First 1613.249\n57  58               Luxembourg. First 1613.229\n58  59                  Albania. First 1611.201\n59  60                 Denmark. Second 1609.712\n60  61            Faroe Islands. First 1604.062\n61  62                  Poland. Second 1598.007\n62  63                 Belgium. Second 1595.532\n63  64             Netherlands. Second 1584.961\n64  65                  Estonia. First 1578.151\n65  66                 Hungary. Second 1567.602\n66  67               Montenegro. First 1558.675\n67  68                 Croatia. Second 1552.703\n68  69                Scotland. Second 1547.217\n69  70                Slovenia. Second 1541.084\n70  71                  Sweden. Second 1540.137\n71  72                Slovakia. Second 1539.095\n72  73                  Israel. Second 1529.750\n73  74                  Norway. Second 1528.627\n74  75                Gibraltar. First 1522.389\n75  76          Czech Republic. Second 1519.231\n76  77                    Wales. First 1512.382\n77  78                  Serbia. Second 1511.256\n78  79                   Kosovo. First 1496.772\n79  80                Bulgaria. Second 1474.996\n80  81                  Cyprus. Second 1462.624\n81  82                 Finland. Second 1454.558\n82  83         North Macedonia. Second 1449.941\n83  84                 Georgia. Second 1445.610\n84  85                  Andorra. First 1424.232\n85  86                 Belarus. Second 1424.007\n86  87  Bosnia And Herzegovina. Second 1402.676\n87  88                 Iceland. Second 1395.369\n88  89              Kazakhstan. Second 1363.406\n89  90                 Albania. Second 1359.337\n90  91               Lithuania. Second 1352.946\n91  92               San Marino. First 1344.648\n92  93                   Malta. Second 1336.287\n93  94                 Ireland. Second 1332.864\n94  95                 Armenia. Second 1214.842\n95  96                 Estonia. Second 1201.817\n96  97                  Latvia. Second 1198.270\n97  98        Northern Ireland. Second 1185.948",
      "text/html": "<div>\n<style scoped>\n    .dataframe tbody tr th:only-of-type {\n        vertical-align: middle;\n    }\n\n    .dataframe tbody tr th {\n        vertical-align: top;\n    }\n\n    .dataframe thead th {\n        text-align: right;\n    }\n</style>\n<table border=\"1\" class=\"dataframe\">\n  <thead>\n    <tr style=\"text-align: right;\">\n      <th></th>\n      <th>#</th>\n      <th>league</th>\n      <th>rating</th>\n    </tr>\n  </thead>\n  <tbody>\n    <tr>\n      <th>0</th>\n      <td>1</td>\n      <td>England. First</td>\n      <td>2222.616</td>\n    </tr>\n    <tr>\n      <th>1</th>\n      <td>2</td>\n      <td>Spain. First</td>\n      <td>2173.791</td>\n    </tr>\n    <tr>\n      <th>2</th>\n      <td>3</td>\n      <td>Italy. First</td>\n      <td>2134.528</td>\n    </tr>\n    <tr>\n      <th>3</th>\n      <td>4</td>\n      <td>Germany. First</td>\n      <td>2125.740</td>\n    </tr>\n    <tr>\n      <th>4</th>\n      <td>5</td>\n      <td>France. First</td>\n      <td>2047.183</td>\n    </tr>\n    <tr>\n      <th>5</th>\n      <td>6</td>\n      <td>Portugal. First</td>\n      <td>2003.650</td>\n    </tr>\n    <tr>\n      <th>6</th>\n      <td>7</td>\n      <td>Netherlands. First</td>\n      <td>1969.510</td>\n    </tr>\n    <tr>\n      <th>7</th>\n      <td>8</td>\n      <td>Spain. Second</td>\n      <td>1927.749</td>\n    </tr>\n    <tr>\n      <th>8</th>\n      <td>9</td>\n      <td>Austria. First</td>\n      <td>1927.117</td>\n    </tr>\n    <tr>\n      <th>9</th>\n      <td>10</td>\n      <td>Ukraine. First</td>\n      <td>1917.165</td>\n    </tr>\n    <tr>\n      <th>10</th>\n      <td>11</td>\n      <td>Belgium. First</td>\n      <td>1914.028</td>\n    </tr>\n    <tr>\n      <th>11</th>\n      <td>12</td>\n      <td>Russia. First</td>\n      <td>1905.776</td>\n    </tr>\n    <tr>\n      <th>12</th>\n      <td>13</td>\n      <td>Czech Republic. First</td>\n      <td>1901.452</td>\n    </tr>\n    <tr>\n      <th>13</th>\n      <td>14</td>\n      <td>Turkey. First</td>\n      <td>1893.882</td>\n    </tr>\n    <tr>\n      <th>14</th>\n      <td>15</td>\n      <td>Switzerland. First</td>\n      <td>1887.366</td>\n    </tr>\n    <tr>\n      <th>15</th>\n      <td>16</td>\n      <td>Croatia. First</td>\n      <td>1876.848</td>\n    </tr>\n    <tr>\n      <th>16</th>\n      <td>17</td>\n      <td>Greece. First</td>\n      <td>1873.275</td>\n    </tr>\n    <tr>\n      <th>17</th>\n      <td>18</td>\n      <td>Germany. Second</td>\n      <td>1866.441</td>\n    </tr>\n    <tr>\n      <th>18</th>\n      <td>19</td>\n      <td>England. Second</td>\n      <td>1859.505</td>\n    </tr>\n    <tr>\n      <th>19</th>\n      <td>20</td>\n      <td>Romania. First</td>\n      <td>1852.216</td>\n    </tr>\n    <tr>\n      <th>20</th>\n      <td>21</td>\n      <td>Denmark. First</td>\n      <td>1849.088</td>\n    </tr>\n    <tr>\n      <th>21</th>\n      <td>22</td>\n      <td>Sweden. First</td>\n      <td>1833.672</td>\n    </tr>\n    <tr>\n      <th>22</th>\n      <td>23</td>\n      <td>Scotland. First</td>\n      <td>1829.716</td>\n    </tr>\n    <tr>\n      <th>23</th>\n      <td>24</td>\n      <td>Norway. First</td>\n      <td>1821.930</td>\n    </tr>\n    <tr>\n      <th>24</th>\n      <td>25</td>\n      <td>France. Second</td>\n      <td>1818.227</td>\n    </tr>\n    <tr>\n      <th>25</th>\n      <td>26</td>\n      <td>Israel. First</td>\n      <td>1816.744</td>\n    </tr>\n    <tr>\n      <th>26</th>\n      <td>27</td>\n      <td>Serbia. First</td>\n      <td>1813.854</td>\n    </tr>\n    <tr>\n      <th>27</th>\n      <td>28</td>\n      <td>Poland. First</td>\n      <td>1812.889</td>\n    </tr>\n    <tr>\n      <th>28</th>\n      <td>29</td>\n      <td>Italy. Second</td>\n      <td>1800.770</td>\n    </tr>\n    <tr>\n      <th>29</th>\n      <td>30</td>\n      <td>Bulgaria. First</td>\n      <td>1772.607</td>\n    </tr>\n    <tr>\n      <th>30</th>\n      <td>31</td>\n      <td>Cyprus. First</td>\n      <td>1759.655</td>\n    </tr>\n    <tr>\n      <th>31</th>\n      <td>32</td>\n      <td>Slovakia. First</td>\n      <td>1756.121</td>\n    </tr>\n    <tr>\n      <th>32</th>\n      <td>33</td>\n      <td>Slovenia. First</td>\n      <td>1746.002</td>\n    </tr>\n    <tr>\n      <th>33</th>\n      <td>34</td>\n      <td>Hungary. First</td>\n      <td>1741.473</td>\n    </tr>\n    <tr>\n      <th>34</th>\n      <td>35</td>\n      <td>Belarus. First</td>\n      <td>1739.103</td>\n    </tr>\n    <tr>\n      <th>35</th>\n      <td>36</td>\n      <td>Azerbaijan. First</td>\n      <td>1725.759</td>\n    </tr>\n    <tr>\n      <th>36</th>\n      <td>37</td>\n      <td>Finland. First</td>\n      <td>1719.000</td>\n    </tr>\n    <tr>\n      <th>37</th>\n      <td>38</td>\n      <td>Russia. Second</td>\n      <td>1702.949</td>\n    </tr>\n    <tr>\n      <th>38</th>\n      <td>39</td>\n      <td>Latvia. First</td>\n      <td>1699.503</td>\n    </tr>\n    <tr>\n      <th>39</th>\n      <td>40</td>\n      <td>Turkey. Second</td>\n      <td>1695.809</td>\n    </tr>\n    <tr>\n      <th>40</th>\n      <td>41</td>\n      <td>Kazakhstan. First</td>\n      <td>1691.944</td>\n    </tr>\n    <tr>\n      <th>41</th>\n      <td>42</td>\n      <td>Bosnia And Herzegovina. First</td>\n      <td>1688.265</td>\n    </tr>\n    <tr>\n      <th>42</th>\n      <td>43</td>\n      <td>Switzerland. Second</td>\n      <td>1676.025</td>\n    </tr>\n    <tr>\n      <th>43</th>\n      <td>44</td>\n      <td>Moldova. First</td>\n      <td>1672.510</td>\n    </tr>\n    <tr>\n      <th>44</th>\n      <td>45</td>\n      <td>Portugal. Second</td>\n      <td>1669.405</td>\n    </tr>\n    <tr>\n      <th>45</th>\n      <td>46</td>\n      <td>Lithuania. First</td>\n      <td>1664.247</td>\n    </tr>\n    <tr>\n      <th>46</th>\n      <td>47</td>\n      <td>North Macedonia. First</td>\n      <td>1659.310</td>\n    </tr>\n    <tr>\n      <th>47</th>\n      <td>48</td>\n      <td>Romania. Second</td>\n      <td>1654.681</td>\n    </tr>\n    <tr>\n      <th>48</th>\n      <td>49</td>\n      <td>Austria. Second</td>\n      <td>1653.639</td>\n    </tr>\n    <tr>\n      <th>49</th>\n      <td>50</td>\n      <td>Georgia. First</td>\n      <td>1648.461</td>\n    </tr>\n    <tr>\n      <th>50</th>\n      <td>51</td>\n      <td>Greece. Second</td>\n      <td>1646.431</td>\n    </tr>\n    <tr>\n      <th>51</th>\n      <td>52</td>\n      <td>Iceland. First</td>\n      <td>1636.271</td>\n    </tr>\n    <tr>\n      <th>52</th>\n      <td>53</td>\n      <td>Armenia. First</td>\n      <td>1635.108</td>\n    </tr>\n    <tr>\n      <th>53</th>\n      <td>54</td>\n      <td>Northern Ireland. First</td>\n      <td>1624.850</td>\n    </tr>\n    <tr>\n      <th>54</th>\n      <td>55</td>\n      <td>Ukraine. Second</td>\n      <td>1617.979</td>\n    </tr>\n    <tr>\n      <th>55</th>\n      <td>56</td>\n      <td>Ireland. First</td>\n      <td>1616.102</td>\n    </tr>\n    <tr>\n      <th>56</th>\n      <td>57</td>\n      <td>Malta. First</td>\n      <td>1613.249</td>\n    </tr>\n    <tr>\n      <th>57</th>\n      <td>58</td>\n      <td>Luxembourg. First</td>\n      <td>1613.229</td>\n    </tr>\n    <tr>\n      <th>58</th>\n      <td>59</td>\n      <td>Albania. First</td>\n      <td>1611.201</td>\n    </tr>\n    <tr>\n      <th>59</th>\n      <td>60</td>\n      <td>Denmark. Second</td>\n      <td>1609.712</td>\n    </tr>\n    <tr>\n      <th>60</th>\n      <td>61</td>\n      <td>Faroe Islands. First</td>\n      <td>1604.062</td>\n    </tr>\n    <tr>\n      <th>61</th>\n      <td>62</td>\n      <td>Poland. Second</td>\n      <td>1598.007</td>\n    </tr>\n    <tr>\n      <th>62</th>\n      <td>63</td>\n      <td>Belgium. Second</td>\n      <td>1595.532</td>\n    </tr>\n    <tr>\n      <th>63</th>\n      <td>64</td>\n      <td>Netherlands. Second</td>\n      <td>1584.961</td>\n    </tr>\n    <tr>\n      <th>64</th>\n      <td>65</td>\n      <td>Estonia. First</td>\n      <td>1578.151</td>\n    </tr>\n    <tr>\n      <th>65</th>\n      <td>66</td>\n      <td>Hungary. Second</td>\n      <td>1567.602</td>\n    </tr>\n    <tr>\n      <th>66</th>\n      <td>67</td>\n      <td>Montenegro. First</td>\n      <td>1558.675</td>\n    </tr>\n    <tr>\n      <th>67</th>\n      <td>68</td>\n      <td>Croatia. Second</td>\n      <td>1552.703</td>\n    </tr>\n    <tr>\n      <th>68</th>\n      <td>69</td>\n      <td>Scotland. Second</td>\n      <td>1547.217</td>\n    </tr>\n    <tr>\n      <th>69</th>\n      <td>70</td>\n      <td>Slovenia. Second</td>\n      <td>1541.084</td>\n    </tr>\n    <tr>\n      <th>70</th>\n      <td>71</td>\n      <td>Sweden. Second</td>\n      <td>1540.137</td>\n    </tr>\n    <tr>\n      <th>71</th>\n      <td>72</td>\n      <td>Slovakia. Second</td>\n      <td>1539.095</td>\n    </tr>\n    <tr>\n      <th>72</th>\n      <td>73</td>\n      <td>Israel. Second</td>\n      <td>1529.750</td>\n    </tr>\n    <tr>\n      <th>73</th>\n      <td>74</td>\n      <td>Norway. Second</td>\n      <td>1528.627</td>\n    </tr>\n    <tr>\n      <th>74</th>\n      <td>75</td>\n      <td>Gibraltar. First</td>\n      <td>1522.389</td>\n    </tr>\n    <tr>\n      <th>75</th>\n      <td>76</td>\n      <td>Czech Republic. Second</td>\n      <td>1519.231</td>\n    </tr>\n    <tr>\n      <th>76</th>\n      <td>77</td>\n      <td>Wales. First</td>\n      <td>1512.382</td>\n    </tr>\n    <tr>\n      <th>77</th>\n      <td>78</td>\n      <td>Serbia. Second</td>\n      <td>1511.256</td>\n    </tr>\n    <tr>\n      <th>78</th>\n      <td>79</td>\n      <td>Kosovo. First</td>\n      <td>1496.772</td>\n    </tr>\n    <tr>\n      <th>79</th>\n      <td>80</td>\n      <td>Bulgaria. Second</td>\n      <td>1474.996</td>\n    </tr>\n    <tr>\n      <th>80</th>\n      <td>81</td>\n      <td>Cyprus. Second</td>\n      <td>1462.624</td>\n    </tr>\n    <tr>\n      <th>81</th>\n      <td>82</td>\n      <td>Finland. Second</td>\n      <td>1454.558</td>\n    </tr>\n    <tr>\n      <th>82</th>\n      <td>83</td>\n      <td>North Macedonia. Second</td>\n      <td>1449.941</td>\n    </tr>\n    <tr>\n      <th>83</th>\n      <td>84</td>\n      <td>Georgia. Second</td>\n      <td>1445.610</td>\n    </tr>\n    <tr>\n      <th>84</th>\n      <td>85</td>\n      <td>Andorra. First</td>\n      <td>1424.232</td>\n    </tr>\n    <tr>\n      <th>85</th>\n      <td>86</td>\n      <td>Belarus. Second</td>\n      <td>1424.007</td>\n    </tr>\n    <tr>\n      <th>86</th>\n      <td>87</td>\n      <td>Bosnia And Herzegovina. Second</td>\n      <td>1402.676</td>\n    </tr>\n    <tr>\n      <th>87</th>\n      <td>88</td>\n      <td>Iceland. Second</td>\n      <td>1395.369</td>\n    </tr>\n    <tr>\n      <th>88</th>\n      <td>89</td>\n      <td>Kazakhstan. Second</td>\n      <td>1363.406</td>\n    </tr>\n    <tr>\n      <th>89</th>\n      <td>90</td>\n      <td>Albania. Second</td>\n      <td>1359.337</td>\n    </tr>\n    <tr>\n      <th>90</th>\n      <td>91</td>\n      <td>Lithuania. Second</td>\n      <td>1352.946</td>\n    </tr>\n    <tr>\n      <th>91</th>\n      <td>92</td>\n      <td>San Marino. First</td>\n      <td>1344.648</td>\n    </tr>\n    <tr>\n      <th>92</th>\n      <td>93</td>\n      <td>Malta. Second</td>\n      <td>1336.287</td>\n    </tr>\n    <tr>\n      <th>93</th>\n      <td>94</td>\n      <td>Ireland. Second</td>\n      <td>1332.864</td>\n    </tr>\n    <tr>\n      <th>94</th>\n      <td>95</td>\n      <td>Armenia. Second</td>\n      <td>1214.842</td>\n    </tr>\n    <tr>\n      <th>95</th>\n      <td>96</td>\n      <td>Estonia. Second</td>\n      <td>1201.817</td>\n    </tr>\n    <tr>\n      <th>96</th>\n      <td>97</td>\n      <td>Latvia. Second</td>\n      <td>1198.270</td>\n    </tr>\n    <tr>\n      <th>97</th>\n      <td>98</td>\n      <td>Northern Ireland. Second</td>\n      <td>1185.948</td>\n    </tr>\n  </tbody>\n</table>\n</div>"
     },
     "execution_count": 5,
     "metadata": {},
     "output_type": "execute_result"
    }
   ],
   "source": [
    "south_america_leagues_ratings"
   ],
   "metadata": {
    "collapsed": false,
    "pycharm": {
     "name": "#%%\n"
    }
   }
  },
  {
   "cell_type": "code",
   "source": [
    "south_america_leagues_ratings"
   ],
   "metadata": {
    "collapsed": false,
    "pycharm": {
     "name": "#%%\n"
    }
   },
   "execution_count": 6,
   "outputs": [
    {
     "data": {
      "text/plain": "     #             league   rating\n0    1      Brazil. First 1881.520\n1    2   Argentina. First 1822.127\n2    3     Ecuador. First 1739.322\n3    4    Colombia. First 1731.711\n4    5    Paraguay. First 1720.733\n5    6     Uruguay. First 1684.345\n6    7     Brazil. Second 1670.574\n7    8  Argentina. Second 1658.215\n8    9     Bolivia. First 1651.507\n9   10       Chile. First 1639.772\n10  11        Peru. First 1579.510\n11  12   Venezuela. First 1563.410",
      "text/html": "<div>\n<style scoped>\n    .dataframe tbody tr th:only-of-type {\n        vertical-align: middle;\n    }\n\n    .dataframe tbody tr th {\n        vertical-align: top;\n    }\n\n    .dataframe thead th {\n        text-align: right;\n    }\n</style>\n<table border=\"1\" class=\"dataframe\">\n  <thead>\n    <tr style=\"text-align: right;\">\n      <th></th>\n      <th>#</th>\n      <th>league</th>\n      <th>rating</th>\n    </tr>\n  </thead>\n  <tbody>\n    <tr>\n      <th>0</th>\n      <td>1</td>\n      <td>Brazil. First</td>\n      <td>1881.520</td>\n    </tr>\n    <tr>\n      <th>1</th>\n      <td>2</td>\n      <td>Argentina. First</td>\n      <td>1822.127</td>\n    </tr>\n    <tr>\n      <th>2</th>\n      <td>3</td>\n      <td>Ecuador. First</td>\n      <td>1739.322</td>\n    </tr>\n    <tr>\n      <th>3</th>\n      <td>4</td>\n      <td>Colombia. First</td>\n      <td>1731.711</td>\n    </tr>\n    <tr>\n      <th>4</th>\n      <td>5</td>\n      <td>Paraguay. First</td>\n      <td>1720.733</td>\n    </tr>\n    <tr>\n      <th>5</th>\n      <td>6</td>\n      <td>Uruguay. First</td>\n      <td>1684.345</td>\n    </tr>\n    <tr>\n      <th>6</th>\n      <td>7</td>\n      <td>Brazil. Second</td>\n      <td>1670.574</td>\n    </tr>\n    <tr>\n      <th>7</th>\n      <td>8</td>\n      <td>Argentina. Second</td>\n      <td>1658.215</td>\n    </tr>\n    <tr>\n      <th>8</th>\n      <td>9</td>\n      <td>Bolivia. First</td>\n      <td>1651.507</td>\n    </tr>\n    <tr>\n      <th>9</th>\n      <td>10</td>\n      <td>Chile. First</td>\n      <td>1639.772</td>\n    </tr>\n    <tr>\n      <th>10</th>\n      <td>11</td>\n      <td>Peru. First</td>\n      <td>1579.510</td>\n    </tr>\n    <tr>\n      <th>11</th>\n      <td>12</td>\n      <td>Venezuela. First</td>\n      <td>1563.410</td>\n    </tr>\n  </tbody>\n</table>\n</div>"
     },
     "execution_count": 6,
     "metadata": {},
     "output_type": "execute_result"
    }
   ]
  },
  {
   "cell_type": "code",
   "execution_count": 6,
   "outputs": [
    {
     "ename": "NameError",
     "evalue": "name 'CatBoost' is not defined",
     "output_type": "error",
     "traceback": [
      "\u001B[0;31m---------------------------------------------------------------------------\u001B[0m",
      "\u001B[0;31mNameError\u001B[0m                                 Traceback (most recent call last)",
      "Input \u001B[0;32mIn [6]\u001B[0m, in \u001B[0;36m<cell line: 1>\u001B[0;34m()\u001B[0m\n\u001B[0;32m----> 1\u001B[0m \u001B[43mCatBoost\u001B[49m\n",
      "\u001B[0;31mNameError\u001B[0m: name 'CatBoost' is not defined"
     ]
    }
   ],
   "source": [
    "from soccer.outcomes_features import TrainCreator\n",
    "from soccer.outcomes_catboost import OutcomesCatBoost\n",
    "\n",
    "train, validation, test = TrainCreator().train_validation_test(matches)"
   ],
   "metadata": {
    "collapsed": false,
    "pycharm": {
     "name": "#%%\n"
    }
   }
  },
  {
   "cell_type": "code",
   "execution_count": null,
   "outputs": [],
   "source": [
    "OutcomesCatBoost().cross_val_score()"
   ],
   "metadata": {
    "collapsed": false,
    "pycharm": {
     "name": "#%%\n"
    }
   }
  },
  {
   "cell_type": "code",
   "execution_count": null,
   "outputs": [],
   "source": [
    "experiments = OutcomesCatBoost().optuna_optimization(1000)"
   ],
   "metadata": {
    "collapsed": false,
    "pycharm": {
     "name": "#%%\n"
    }
   }
  },
  {
   "cell_type": "code",
   "execution_count": null,
   "outputs": [],
   "source": [
    "experiments.head(200)"
   ],
   "metadata": {
    "collapsed": false,
    "pycharm": {
     "name": "#%%\n"
    }
   }
  },
  {
   "cell_type": "code",
   "execution_count": null,
   "outputs": [],
   "source": [
    "OutcomesCatBoost().save_model()"
   ],
   "metadata": {
    "collapsed": false,
    "pycharm": {
     "name": "#%%\n"
    }
   }
  },
  {
   "cell_type": "code",
   "execution_count": null,
   "outputs": [],
   "source": [
    "predictions = OutcomesCatBoost().predict()"
   ],
   "metadata": {
    "collapsed": false,
    "pycharm": {
     "name": "#%%\n"
    }
   }
  },
  {
   "cell_type": "code",
   "execution_count": null,
   "outputs": [],
   "source": [
    "predictions = predictions.merge(matches, on=['match_id'])\n",
    "predictions.head(20)"
   ],
   "metadata": {
    "collapsed": false,
    "pycharm": {
     "name": "#%%\n"
    }
   }
  },
  {
   "cell_type": "markdown",
   "source": [
    "Compare Models"
   ],
   "metadata": {
    "collapsed": false,
    "pycharm": {
     "name": "#%% md\n"
    }
   }
  },
  {
   "cell_type": "code",
   "execution_count": 9,
   "outputs": [
    {
     "name": "stdout",
     "output_type": "stream",
     "text": [
      "Catboost Loss: 0.5894359213389553\n",
      "Glicko Loss: 0.584571185497871\n"
     ]
    },
    {
     "data": {
      "text/plain": "   match_id  season       date         home_team            away_team outcome  \\\n0      7403    2020 2020-01-14  Nacional Uruguay            Wanderers       H   \n1    205262    2020 2020-01-16           Danubio          Cerro Largo       A   \n2    205261    2020 2020-01-16          CA Cerro              Penarol       D   \n3    205259    2020 2020-01-17             Fenix  River Plate Uruguay       D   \n4    205260    2020 2020-01-17          Progreso      Montevideo City       D   \n\n   home_win_cb  draw_cb  away_win_cb  home_win_glicko  draw_glicko  \\\n0        0.620    0.216        0.163            0.723        0.166   \n1        0.309    0.279        0.412            0.334        0.284   \n2        0.301    0.295        0.404            0.156        0.221   \n3        0.357    0.272        0.371            0.341        0.283   \n4        0.494    0.262        0.243            0.573        0.237   \n\n   away_win_glicko  \n0            0.111  \n1            0.382  \n2            0.623  \n3            0.376  \n4            0.189  ",
      "text/html": "<div>\n<style scoped>\n    .dataframe tbody tr th:only-of-type {\n        vertical-align: middle;\n    }\n\n    .dataframe tbody tr th {\n        vertical-align: top;\n    }\n\n    .dataframe thead th {\n        text-align: right;\n    }\n</style>\n<table border=\"1\" class=\"dataframe\">\n  <thead>\n    <tr style=\"text-align: right;\">\n      <th></th>\n      <th>match_id</th>\n      <th>season</th>\n      <th>date</th>\n      <th>home_team</th>\n      <th>away_team</th>\n      <th>outcome</th>\n      <th>home_win_cb</th>\n      <th>draw_cb</th>\n      <th>away_win_cb</th>\n      <th>home_win_glicko</th>\n      <th>draw_glicko</th>\n      <th>away_win_glicko</th>\n    </tr>\n  </thead>\n  <tbody>\n    <tr>\n      <th>0</th>\n      <td>7403</td>\n      <td>2020</td>\n      <td>2020-01-14</td>\n      <td>Nacional Uruguay</td>\n      <td>Wanderers</td>\n      <td>H</td>\n      <td>0.620</td>\n      <td>0.216</td>\n      <td>0.163</td>\n      <td>0.723</td>\n      <td>0.166</td>\n      <td>0.111</td>\n    </tr>\n    <tr>\n      <th>1</th>\n      <td>205262</td>\n      <td>2020</td>\n      <td>2020-01-16</td>\n      <td>Danubio</td>\n      <td>Cerro Largo</td>\n      <td>A</td>\n      <td>0.309</td>\n      <td>0.279</td>\n      <td>0.412</td>\n      <td>0.334</td>\n      <td>0.284</td>\n      <td>0.382</td>\n    </tr>\n    <tr>\n      <th>2</th>\n      <td>205261</td>\n      <td>2020</td>\n      <td>2020-01-16</td>\n      <td>CA Cerro</td>\n      <td>Penarol</td>\n      <td>D</td>\n      <td>0.301</td>\n      <td>0.295</td>\n      <td>0.404</td>\n      <td>0.156</td>\n      <td>0.221</td>\n      <td>0.623</td>\n    </tr>\n    <tr>\n      <th>3</th>\n      <td>205259</td>\n      <td>2020</td>\n      <td>2020-01-17</td>\n      <td>Fenix</td>\n      <td>River Plate Uruguay</td>\n      <td>D</td>\n      <td>0.357</td>\n      <td>0.272</td>\n      <td>0.371</td>\n      <td>0.341</td>\n      <td>0.283</td>\n      <td>0.376</td>\n    </tr>\n    <tr>\n      <th>4</th>\n      <td>205260</td>\n      <td>2020</td>\n      <td>2020-01-17</td>\n      <td>Progreso</td>\n      <td>Montevideo City</td>\n      <td>D</td>\n      <td>0.494</td>\n      <td>0.262</td>\n      <td>0.243</td>\n      <td>0.573</td>\n      <td>0.237</td>\n      <td>0.189</td>\n    </tr>\n  </tbody>\n</table>\n</div>"
     },
     "execution_count": 9,
     "metadata": {},
     "output_type": "execute_result"
    }
   ],
   "source": [
    "from soccer.compare_predictions import compare_predictions\n",
    "\n",
    "predictions = compare_predictions(2020)\n",
    "predictions.head()"
   ],
   "metadata": {
    "collapsed": false,
    "pycharm": {
     "name": "#%%\n"
    }
   }
  },
  {
   "cell_type": "code",
   "execution_count": 7,
   "outputs": [
    {
     "name": "stdout",
     "output_type": "stream",
     "text": [
      "Catboost Loss: 0.5894359213389553\n",
      "Glicko-2 Loss: 0.584571185497871\n",
      "Original Glicko-2 Loss: 0.5933047650134288\n"
     ]
    },
    {
     "data": {
      "text/plain": "   match_id  season       date         home_team            away_team outcome  \\\n0      7403    2020 2020-01-14  Nacional Uruguay            Wanderers       H   \n1    205262    2020 2020-01-16           Danubio          Cerro Largo       A   \n2    205261    2020 2020-01-16          CA Cerro              Penarol       D   \n3    205259    2020 2020-01-17             Fenix  River Plate Uruguay       D   \n4    205260    2020 2020-01-17          Progreso      Montevideo City       D   \n\n   home_win_cb  draw_cb  away_win_cb  home_win_glicko  draw_glicko  \\\n0        0.620    0.216        0.163            0.723        0.166   \n1        0.309    0.279        0.412            0.334        0.284   \n2        0.301    0.295        0.404            0.156        0.221   \n3        0.357    0.272        0.371            0.341        0.283   \n4        0.494    0.262        0.243            0.573        0.237   \n\n   away_win_glicko  home_win_original_glicko  draw_original_glicko  \\\n0            0.111                     0.629                 0.212   \n1            0.382                     0.296                 0.272   \n2            0.623                     0.156                 0.210   \n3            0.376                     0.296                 0.272   \n4            0.189                     0.493                 0.260   \n\n   away_win_original_glicko  \n0                     0.158  \n1                     0.431  \n2                     0.634  \n3                     0.431  \n4                     0.247  ",
      "text/html": "<div>\n<style scoped>\n    .dataframe tbody tr th:only-of-type {\n        vertical-align: middle;\n    }\n\n    .dataframe tbody tr th {\n        vertical-align: top;\n    }\n\n    .dataframe thead th {\n        text-align: right;\n    }\n</style>\n<table border=\"1\" class=\"dataframe\">\n  <thead>\n    <tr style=\"text-align: right;\">\n      <th></th>\n      <th>match_id</th>\n      <th>season</th>\n      <th>date</th>\n      <th>home_team</th>\n      <th>away_team</th>\n      <th>outcome</th>\n      <th>home_win_cb</th>\n      <th>draw_cb</th>\n      <th>away_win_cb</th>\n      <th>home_win_glicko</th>\n      <th>draw_glicko</th>\n      <th>away_win_glicko</th>\n      <th>home_win_original_glicko</th>\n      <th>draw_original_glicko</th>\n      <th>away_win_original_glicko</th>\n    </tr>\n  </thead>\n  <tbody>\n    <tr>\n      <th>0</th>\n      <td>7403</td>\n      <td>2020</td>\n      <td>2020-01-14</td>\n      <td>Nacional Uruguay</td>\n      <td>Wanderers</td>\n      <td>H</td>\n      <td>0.620</td>\n      <td>0.216</td>\n      <td>0.163</td>\n      <td>0.723</td>\n      <td>0.166</td>\n      <td>0.111</td>\n      <td>0.629</td>\n      <td>0.212</td>\n      <td>0.158</td>\n    </tr>\n    <tr>\n      <th>1</th>\n      <td>205262</td>\n      <td>2020</td>\n      <td>2020-01-16</td>\n      <td>Danubio</td>\n      <td>Cerro Largo</td>\n      <td>A</td>\n      <td>0.309</td>\n      <td>0.279</td>\n      <td>0.412</td>\n      <td>0.334</td>\n      <td>0.284</td>\n      <td>0.382</td>\n      <td>0.296</td>\n      <td>0.272</td>\n      <td>0.431</td>\n    </tr>\n    <tr>\n      <th>2</th>\n      <td>205261</td>\n      <td>2020</td>\n      <td>2020-01-16</td>\n      <td>CA Cerro</td>\n      <td>Penarol</td>\n      <td>D</td>\n      <td>0.301</td>\n      <td>0.295</td>\n      <td>0.404</td>\n      <td>0.156</td>\n      <td>0.221</td>\n      <td>0.623</td>\n      <td>0.156</td>\n      <td>0.210</td>\n      <td>0.634</td>\n    </tr>\n    <tr>\n      <th>3</th>\n      <td>205259</td>\n      <td>2020</td>\n      <td>2020-01-17</td>\n      <td>Fenix</td>\n      <td>River Plate Uruguay</td>\n      <td>D</td>\n      <td>0.357</td>\n      <td>0.272</td>\n      <td>0.371</td>\n      <td>0.341</td>\n      <td>0.283</td>\n      <td>0.376</td>\n      <td>0.296</td>\n      <td>0.272</td>\n      <td>0.431</td>\n    </tr>\n    <tr>\n      <th>4</th>\n      <td>205260</td>\n      <td>2020</td>\n      <td>2020-01-17</td>\n      <td>Progreso</td>\n      <td>Montevideo City</td>\n      <td>D</td>\n      <td>0.494</td>\n      <td>0.262</td>\n      <td>0.243</td>\n      <td>0.573</td>\n      <td>0.237</td>\n      <td>0.189</td>\n      <td>0.493</td>\n      <td>0.260</td>\n      <td>0.247</td>\n    </tr>\n  </tbody>\n</table>\n</div>"
     },
     "execution_count": 7,
     "metadata": {},
     "output_type": "execute_result"
    }
   ],
   "source": [
    "from soccer.compare_predictions import compare_predictions\n",
    "\n",
    "predictions = compare_predictions(start_season=2020)\n",
    "predictions.head()"
   ],
   "metadata": {
    "collapsed": false,
    "pycharm": {
     "name": "#%%\n"
    }
   }
  },
  {
   "cell_type": "code",
   "execution_count": null,
   "outputs": [],
   "source": [],
   "metadata": {
    "collapsed": false,
    "pycharm": {
     "name": "#%%\n"
    }
   }
  }
 ],
 "metadata": {
  "kernelspec": {
   "name": "python3",
   "language": "python",
   "display_name": "Python 3 (ipykernel)"
  },
  "language_info": {
   "codemirror_mode": {
    "name": "ipython",
    "version": 3
   },
   "file_extension": ".py",
   "mimetype": "text/x-python",
   "name": "python",
   "nbconvert_exporter": "python",
   "pygments_lexer": "ipython3",
   "version": "3.9.7"
  }
 },
 "nbformat": 4,
 "nbformat_minor": 5
}