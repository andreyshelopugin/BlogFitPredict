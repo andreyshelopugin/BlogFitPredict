{
 "cells": [
  {
   "cell_type": "code",
   "execution_count": 1,
   "id": "4a86a728",
   "metadata": {
    "ExecuteTime": {
     "end_time": "2021-10-31T06:23:31.415615Z",
     "start_time": "2021-10-31T06:23:28.418283Z"
    }
   },
   "outputs": [],
   "source": [
    "%reload_ext autoreload\n",
    "%autoreload 2\n",
    "\n",
    "import numpy as np\n",
    "import pandas as pd\n",
    "pd.options.display.max_columns, pd.options.display.max_rows = 500, 200\n",
    "pd.options.display.float_format = '{:.1f}'.format\n",
    "import warnings\n",
    "warnings.filterwarnings('ignore')\n",
    "import joblib\n",
    "\n",
    "from euro_soccer.preprocessing import DataPreprocessor\n",
    "from euro_soccer.glicko_soccer import GlickoSoccer"
   ]
  },
  {
   "cell_type": "code",
   "execution_count": 2,
   "id": "e83e46cd",
   "metadata": {
    "ExecuteTime": {
     "end_time": "2021-10-31T06:23:34.260370Z",
     "start_time": "2021-10-31T06:23:33.632554Z"
    },
    "scrolled": false
   },
   "outputs": [
    {
     "data": {
      "text/plain": "         index       date     home_team away_team country  \\\n130638  309703 2022-12-31  Hapoel Afula   H. Akko  Israel   \n\n                   tournament  season  tournament_type outcome  is_pandemic  \\\n130638  Israel. Leumit League    2021                2       D            0   \n\n        draw_probability  \n130638               0.3  ",
      "text/html": "<div>\n<style scoped>\n    .dataframe tbody tr th:only-of-type {\n        vertical-align: middle;\n    }\n\n    .dataframe tbody tr th {\n        vertical-align: top;\n    }\n\n    .dataframe thead th {\n        text-align: right;\n    }\n</style>\n<table border=\"1\" class=\"dataframe\">\n  <thead>\n    <tr style=\"text-align: right;\">\n      <th></th>\n      <th>index</th>\n      <th>date</th>\n      <th>home_team</th>\n      <th>away_team</th>\n      <th>country</th>\n      <th>tournament</th>\n      <th>season</th>\n      <th>tournament_type</th>\n      <th>outcome</th>\n      <th>is_pandemic</th>\n      <th>draw_probability</th>\n    </tr>\n  </thead>\n  <tbody>\n    <tr>\n      <th>130638</th>\n      <td>309703</td>\n      <td>2022-12-31</td>\n      <td>Hapoel Afula</td>\n      <td>H. Akko</td>\n      <td>Israel</td>\n      <td>Israel. Leumit League</td>\n      <td>2021</td>\n      <td>2</td>\n      <td>D</td>\n      <td>0</td>\n      <td>0.3</td>\n    </tr>\n  </tbody>\n</table>\n</div>"
     },
     "execution_count": 2,
     "metadata": {},
     "output_type": "execute_result"
    }
   ],
   "source": [
    "matches = pd.read_csv('matches.csv')\n",
    "matches = DataPreprocessor().preprocessing(matches)\n",
    "matches.tail(1)"
   ]
  },
  {
   "cell_type": "code",
   "execution_count": 4,
   "outputs": [],
   "source": [
    "count_matches, count_seasons, count_tournaments = DataPreprocessor().test_data(matches)"
   ],
   "metadata": {
    "collapsed": false,
    "pycharm": {
     "name": "#%%\n"
    }
   }
  },
  {
   "cell_type": "code",
   "execution_count": 8,
   "outputs": [],
   "source": [
    "# count_matches"
   ],
   "metadata": {
    "collapsed": false,
    "pycharm": {
     "name": "#%%\n"
    }
   }
  },
  {
   "cell_type": "code",
   "execution_count": 9,
   "outputs": [],
   "source": [
    "# count_seasons"
   ],
   "metadata": {
    "collapsed": false,
    "pycharm": {
     "name": "#%%\n"
    }
   }
  },
  {
   "cell_type": "code",
   "execution_count": 10,
   "outputs": [],
   "source": [
    "# count_tournaments"
   ],
   "metadata": {
    "collapsed": false,
    "pycharm": {
     "name": "#%%\n"
    }
   }
  },
  {
   "cell_type": "markdown",
   "source": [],
   "metadata": {
    "collapsed": false,
    "pycharm": {
     "name": "#%% md\n"
    }
   }
  },
  {
   "cell_type": "code",
   "execution_count": 11,
   "outputs": [
    {
     "name": "stdout",
     "output_type": "stream",
     "text": [
      "<class 'pandas.core.frame.DataFrame'>\n",
      "Int64Index: 115657 entries, 0 to 130638\n",
      "Data columns (total 11 columns):\n",
      " #   Column            Non-Null Count   Dtype         \n",
      "---  ------            --------------   -----         \n",
      " 0   index             115657 non-null  int64         \n",
      " 1   date              115657 non-null  datetime64[ns]\n",
      " 2   home_team         115657 non-null  object        \n",
      " 3   away_team         115657 non-null  object        \n",
      " 4   country           115657 non-null  object        \n",
      " 5   tournament        115657 non-null  object        \n",
      " 6   season            115657 non-null  int64         \n",
      " 7   tournament_type   115657 non-null  int64         \n",
      " 8   outcome           115657 non-null  object        \n",
      " 9   is_pandemic       115657 non-null  int64         \n",
      " 10  draw_probability  115657 non-null  float64       \n",
      "dtypes: datetime64[ns](1), float64(1), int64(4), object(5)\n",
      "memory usage: 10.6+ MB\n"
     ]
    }
   ],
   "source": [
    "matches.info()"
   ],
   "metadata": {
    "collapsed": false,
    "pycharm": {
     "name": "#%%\n"
    }
   }
  },
  {
   "cell_type": "code",
   "execution_count": 22,
   "id": "e991a1e8",
   "metadata": {
    "ExecuteTime": {
     "end_time": "2021-10-24T11:04:09.063149Z",
     "start_time": "2021-10-24T11:04:08.908334Z"
    }
   },
   "outputs": [],
   "source": [
    "# matches['draw_probability'].mean()"
   ]
  },
  {
   "cell_type": "code",
   "execution_count": 23,
   "id": "71ca8c4a",
   "metadata": {
    "ExecuteTime": {
     "end_time": "2021-10-23T08:31:55.616338Z",
     "start_time": "2021-10-23T08:31:55.175290Z"
    }
   },
   "outputs": [],
   "source": [
    "# # matches.loc[(matches['home_team'].str.contains('B')) & (matches['away_team'].str.contains('AS Roma'))]"
   ]
  },
  {
   "cell_type": "code",
   "execution_count": 24,
   "id": "d2bc426d",
   "metadata": {
    "ExecuteTime": {
     "end_time": "2021-10-17T16:50:39.263142Z",
     "start_time": "2021-10-17T16:50:39.201859Z"
    }
   },
   "outputs": [],
   "source": [
    "# matches.info()"
   ]
  },
  {
   "cell_type": "code",
   "execution_count": 25,
   "outputs": [],
   "source": [
    "# matches['season'].value_counts()"
   ],
   "metadata": {
    "collapsed": false,
    "pycharm": {
     "name": "#%%\n"
    }
   }
  },
  {
   "cell_type": "code",
   "execution_count": 26,
   "outputs": [],
   "source": [
    "# matches.loc[matches['tournament'].str.contains('Con')]"
   ],
   "metadata": {
    "collapsed": false,
    "pycharm": {
     "name": "#%%\n"
    }
   }
  },
  {
   "cell_type": "code",
   "execution_count": 27,
   "outputs": [],
   "source": [
    "# matches.loc[matches['country'].str.contains('Uz')]"
   ],
   "metadata": {
    "collapsed": false,
    "pycharm": {
     "name": "#%%\n"
    }
   }
  },
  {
   "cell_type": "markdown",
   "id": "11653b5c",
   "metadata": {},
   "source": [
    "# Fit Params"
   ]
  },
  {
   "cell_type": "code",
   "execution_count": null,
   "id": "da811e92",
   "metadata": {
    "ExecuteTime": {
     "end_time": "2021-10-11T10:45:05.038512Z",
     "start_time": "2021-10-11T10:42:55.647176Z"
    }
   },
   "outputs": [
    {
     "name": "stdout",
     "output_type": "stream",
     "text": [
      "Current Loss: 39105.23423495512\n",
      "Wales. Cymru Premier Loss down by: 0.19\n",
      "{'init_mu': 1310, 'init_rd': 140, 'update_rd': 34, 'lift_update_mu': 20, 'home_advantage': 28, 'pandemic_home_advantage': 19, 'new_team_update_mu': 0}\n",
      "England. Championship Loss down by: 0.29\n",
      "{'init_mu': 1530, 'init_rd': 140, 'update_rd': 34, 'lift_update_mu': -20, 'home_advantage': 28, 'pandemic_home_advantage': 19, 'new_team_update_mu': -102}\n",
      "Israel. Leumit League Loss down by: 0.13\n",
      "{'init_mu': 1390, 'init_rd': 140, 'update_rd': 34, 'lift_update_mu': -80, 'home_advantage': 28, 'pandemic_home_advantage': 19, 'new_team_update_mu': -22}\n",
      "England. Premier League Loss down by: 0.17\n",
      "{'init_mu': 1690, 'init_rd': 140, 'update_rd': 34, 'lift_update_mu': 80, 'home_advantage': 28, 'pandemic_home_advantage': 19, 'new_team_update_mu': 0}\n",
      "Gibraltar. National League Loss down by: 0.87\n",
      "{'init_mu': 1380, 'init_rd': 140, 'update_rd': 34, 'lift_update_mu': 20, 'home_advantage': 28, 'pandemic_home_advantage': 19, 'new_team_update_mu': 0}\n",
      "Italy. Serie A Loss down by: 1.43\n",
      "{'init_mu': 1680, 'init_rd': 140, 'update_rd': 34, 'lift_update_mu': 100, 'home_advantage': 28, 'pandemic_home_advantage': 19, 'new_team_update_mu': 0}\n",
      "France. Ligue 1 Loss down by: 0.47\n",
      "{'init_mu': 1680, 'init_rd': 140, 'update_rd': 34, 'lift_update_mu': 100, 'home_advantage': 28, 'pandemic_home_advantage': 19, 'new_team_update_mu': 0}\n",
      "Malta. Challenge League Loss down by: 1.09\n",
      "{'init_mu': 1360, 'init_rd': 140, 'update_rd': 34, 'lift_update_mu': -80, 'home_advantage': 28, 'pandemic_home_advantage': 19, 'new_team_update_mu': -122}\n",
      "Cyprus. Division 2 Loss down by: 0.17\n",
      "{'init_mu': 1360, 'init_rd': 140, 'update_rd': 34, 'lift_update_mu': -40, 'home_advantage': 28, 'pandemic_home_advantage': 19, 'new_team_update_mu': -82}\n",
      "Malta. Premier League Loss down by: 0.1\n",
      "{'init_mu': 1440, 'init_rd': 140, 'update_rd': 34, 'lift_update_mu': 40, 'home_advantage': 28, 'pandemic_home_advantage': 19, 'new_team_update_mu': 0}\n",
      "Italy. Serie B Loss down by: 0.42\n",
      "{'init_mu': 1480, 'init_rd': 140, 'update_rd': 34, 'lift_update_mu': -40, 'home_advantage': 28, 'pandemic_home_advantage': 19, 'new_team_update_mu': -82}\n",
      "Netherlands. Eerste Divisie Loss down by: 0.65\n",
      "{'init_mu': 1480, 'init_rd': 140, 'update_rd': 34, 'lift_update_mu': 0, 'home_advantage': 28, 'pandemic_home_advantage': 19, 'new_team_update_mu': 0}\n",
      "Netherlands. Eredivisie Loss down by: 0.5\n",
      "{'init_mu': 1640, 'init_rd': 140, 'update_rd': 34, 'lift_update_mu': 80, 'home_advantage': 28, 'pandemic_home_advantage': 19, 'new_team_update_mu': 0}\n",
      "Belgium. Jupiler Pro League Loss down by: 0.15\n",
      "{'init_mu': 1640, 'init_rd': 140, 'update_rd': 34, 'lift_update_mu': 80, 'home_advantage': 28, 'pandemic_home_advantage': 19, 'new_team_update_mu': 0}\n",
      "Turkey. 1. Lig Loss down by: 0.18\n",
      "{'init_mu': 1440, 'init_rd': 140, 'update_rd': 34, 'lift_update_mu': -40, 'home_advantage': 28, 'pandemic_home_advantage': 19, 'new_team_update_mu': -2}\n",
      "Belgium. 1B Pro League Loss down by: 0.04\n",
      "{'init_mu': 1580, 'init_rd': 140, 'update_rd': 34, 'lift_update_mu': -80, 'home_advantage': 28, 'pandemic_home_advantage': 19, 'new_team_update_mu': -122}\n",
      "Turkey. Super Lig Loss down by: 0.01\n",
      "{'init_mu': 1580, 'init_rd': 140, 'update_rd': 34, 'lift_update_mu': 40, 'home_advantage': 28, 'pandemic_home_advantage': 19, 'new_team_update_mu': 0}\n",
      "Germany. Bundesliga Loss down by: 3.22\n",
      "{'init_mu': 1640, 'init_rd': 140, 'update_rd': 34, 'lift_update_mu': 80, 'home_advantage': 28, 'pandemic_home_advantage': 19, 'new_team_update_mu': 0}\n",
      "Albania. Superliga Loss down by: 0.37\n",
      "{'init_mu': 1440, 'init_rd': 140, 'update_rd': 34, 'lift_update_mu': 80, 'home_advantage': 28, 'pandemic_home_advantage': 19, 'new_team_update_mu': 0}\n",
      "Andorra. Primera Divisió Loss down by: 0.44\n",
      "{'init_mu': 1420, 'init_rd': 140, 'update_rd': 34, 'lift_update_mu': 0, 'home_advantage': 28, 'pandemic_home_advantage': 19, 'new_team_update_mu': 0}\n",
      "Germany. 2. Bundesliga Loss down by: 0.62\n",
      "{'init_mu': 1560, 'init_rd': 140, 'update_rd': 34, 'lift_update_mu': 0, 'home_advantage': 28, 'pandemic_home_advantage': 19, 'new_team_update_mu': -42}\n",
      "Austria. Bundesliga Loss down by: 0.31\n",
      "{'init_mu': 1640, 'init_rd': 140, 'update_rd': 34, 'lift_update_mu': 40, 'home_advantage': 28, 'pandemic_home_advantage': 19, 'new_team_update_mu': 0}\n",
      "Switzerland. Super League Loss down by: 0.86\n",
      "{'init_mu': 1640, 'init_rd': 140, 'update_rd': 34, 'lift_update_mu': 80, 'home_advantage': 28, 'pandemic_home_advantage': 19, 'new_team_update_mu': 0}\n",
      "San Marino. Campionato Sammarinese Loss down by: 0.73\n",
      "{'init_mu': 1360, 'init_rd': 140, 'update_rd': 34, 'lift_update_mu': 0, 'home_advantage': 28, 'pandemic_home_advantage': 19, 'new_team_update_mu': 0}\n",
      "Poland. Ekstraklasa Loss down by: 0.77\n",
      "{'init_mu': 1640, 'init_rd': 140, 'update_rd': 34, 'lift_update_mu': 80, 'home_advantage': 28, 'pandemic_home_advantage': 19, 'new_team_update_mu': 0}\n",
      "Croatia. 1. HNL Loss down by: 0.35\n",
      "{'init_mu': 1640, 'init_rd': 140, 'update_rd': 34, 'lift_update_mu': 80, 'home_advantage': 28, 'pandemic_home_advantage': 19, 'new_team_update_mu': 0}\n",
      "Romania. Liga 1 Loss down by: 0.13\n",
      "{'init_mu': 1520, 'init_rd': 140, 'update_rd': 34, 'lift_update_mu': 0, 'home_advantage': 28, 'pandemic_home_advantage': 19, 'new_team_update_mu': 0}\n",
      "Czech Republic. 1. Liga Loss down by: 0.23\n",
      "{'init_mu': 1640, 'init_rd': 140, 'update_rd': 34, 'lift_update_mu': 40, 'home_advantage': 28, 'pandemic_home_advantage': 19, 'new_team_update_mu': 0}\n",
      "Albania. First Division Loss down by: 0.92\n",
      "{'init_mu': 1360, 'init_rd': 140, 'update_rd': 34, 'lift_update_mu': -80, 'home_advantage': 28, 'pandemic_home_advantage': 19, 'new_team_update_mu': -122}\n",
      "Hungary. OTP Bank Liga Loss down by: 0.43\n",
      "{'init_mu': 1640, 'init_rd': 140, 'update_rd': 34, 'lift_update_mu': 80, 'home_advantage': 28, 'pandemic_home_advantage': 19, 'new_team_update_mu': 0}\n",
      "Georgia. Crystalbet Erovnuli Liga Loss down by: 0.08\n",
      "{'init_mu': 1440, 'init_rd': 140, 'update_rd': 34, 'lift_update_mu': 0, 'home_advantage': 28, 'pandemic_home_advantage': 19, 'new_team_update_mu': 0}\n",
      "Serbia. Super Liga Loss down by: 0.45\n",
      "{'init_mu': 1520, 'init_rd': 140, 'update_rd': 34, 'lift_update_mu': 40, 'home_advantage': 28, 'pandemic_home_advantage': 19, 'new_team_update_mu': 0}\n",
      "North Macedonia. 1. MFL Loss down by: 0.09\n",
      "{'init_mu': 1640, 'init_rd': 140, 'update_rd': 34, 'lift_update_mu': 40, 'home_advantage': 28, 'pandemic_home_advantage': 19, 'new_team_update_mu': 0}\n",
      "Bulgaria. Parva liga Loss down by: 0.11\n",
      "{'init_mu': 1500, 'init_rd': 140, 'update_rd': 34, 'lift_update_mu': 40, 'home_advantage': 28, 'pandemic_home_advantage': 19, 'new_team_update_mu': 0}\n",
      "Hungary. Merkantil Bank Liga Loss down by: 1.03\n",
      "{'init_mu': 1360, 'init_rd': 140, 'update_rd': 34, 'lift_update_mu': -80, 'home_advantage': 28, 'pandemic_home_advantage': 19, 'new_team_update_mu': -42}\n",
      "Luxembourg. National Division Loss down by: 0.28\n",
      "{'init_mu': 1360, 'init_rd': 140, 'update_rd': 34, 'lift_update_mu': 0, 'home_advantage': 28, 'pandemic_home_advantage': 19, 'new_team_update_mu': 0}\n",
      "Austria. 2. Liga Loss down by: 0.01\n",
      "{'init_mu': 1480, 'init_rd': 140, 'update_rd': 34, 'lift_update_mu': -40, 'home_advantage': 28, 'pandemic_home_advantage': 19, 'new_team_update_mu': -2}\n",
      "Slovakia. Fortuna liga Loss down by: 0.01\n",
      "{'init_mu': 1640, 'init_rd': 140, 'update_rd': 34, 'lift_update_mu': 40, 'home_advantage': 28, 'pandemic_home_advantage': 19, 'new_team_update_mu': 0}\n",
      "Denmark. Superliga Loss down by: 0.25\n",
      "{'init_mu': 1640, 'init_rd': 140, 'update_rd': 34, 'lift_update_mu': 80, 'home_advantage': 28, 'pandemic_home_advantage': 19, 'new_team_update_mu': 0}\n",
      "Croatia. 2. HNL Loss down by: 0.42\n",
      "{'init_mu': 1360, 'init_rd': 140, 'update_rd': 34, 'lift_update_mu': -40, 'home_advantage': 28, 'pandemic_home_advantage': 19, 'new_team_update_mu': -42}\n",
      "Bulgaria. Vtora liga Loss down by: 1.34\n",
      "{'init_mu': 1360, 'init_rd': 140, 'update_rd': 34, 'lift_update_mu': -40, 'home_advantage': 28, 'pandemic_home_advantage': 19, 'new_team_update_mu': -122}\n",
      "Slovenia. Prva liga Loss down by: 0.48\n",
      "{'init_mu': 1580, 'init_rd': 140, 'update_rd': 34, 'lift_update_mu': 80, 'home_advantage': 28, 'pandemic_home_advantage': 19, 'new_team_update_mu': 0}\n",
      "North Macedonia. 2. MFL Loss down by: 2.36\n",
      "{'init_mu': 1400, 'init_rd': 140, 'update_rd': 34, 'lift_update_mu': -60, 'home_advantage': 28, 'pandemic_home_advantage': 19, 'new_team_update_mu': -102}\n"
     ]
    }
   ],
   "source": [
    "glicko = GlickoSoccer()\n",
    "league_params = glicko.fit_params(matches, 50, is_params_initialization=False)"
   ]
  },
  {
   "cell_type": "markdown",
   "id": "c0b250f0",
   "metadata": {},
   "source": [
    "# Ratings"
   ]
  },
  {
   "cell_type": "code",
   "execution_count": 12,
   "id": "4cd7df5b",
   "metadata": {
    "ExecuteTime": {
     "end_time": "2021-10-31T06:24:00.223216Z",
     "start_time": "2021-10-31T06:23:57.642851Z"
    },
    "scrolled": false
   },
   "outputs": [
    {
     "data": {
      "text/plain": "     #                                             league  rating\n0    1                            England. Premier League  1820.3\n1    2                                     Italy. Serie A  1776.2\n2    3                                      Spain. LaLiga  1774.9\n3    4                                Germany. Bundesliga  1744.1\n4    5                            Netherlands. Eredivisie  1736.4\n5    6                                    France. Ligue 1  1733.2\n6    7                             Cyprus. First Division  1727.8\n7    8                                Norway. Eliteserien  1710.4\n8    9                            Czech Republic. 1. Liga  1707.7\n9   10                            Portugal. Primeira Liga  1706.4\n10  11                             Belarus. Vysshaya Liga  1700.1\n11  12                                Sweden. Allsvenskan  1697.9\n12  13                                 Serbia. Super Liga  1696.4\n13  14                 Northern Ireland. NIFL Premiership  1691.2\n14  15                               Bulgaria. Parva liga  1691.0\n15  16                                 Denmark. Superliga  1685.9\n16  17                              Malta. Premier League  1685.1\n17  18                             Finland. Veikkausliiga  1676.8\n18  19             Bosnia And Herzegovina. Premier League  1672.4\n19  20                              Scotland. Premiership  1672.1\n20  21                            North Macedonia. 1. MFL  1671.4\n21  22                                  Turkey. Super Lig  1668.9\n22  23                                Israel. Ligat ha'Al  1664.7\n23  24                                Iceland. Pepsideild  1664.2\n24  25                               Greece. Super League  1662.7\n25  26                          Ireland. Premier Division  1662.0\n26  27                                  Lithuania. A Lyga  1661.4\n27  28                            Ukraine. Premier League  1660.9\n28  29                                Poland. Ekstraklasa  1659.8\n29  30                  Georgia. Crystalbet Erovnuli Liga  1656.3\n30  31                      Luxembourg. National Division  1654.9\n31  32                                Austria. Bundesliga  1654.4\n32  33                             Russia. Premier League  1653.1\n33  34                             Hungary. OTP Bank Liga  1651.4\n34  35                        Belgium. Jupiler Pro League  1647.2\n35  36                                Slovenia. Prva liga  1647.0\n36  37                                    Romania. Liga 1  1645.0\n37  38                                 Albania. Superliga  1642.8\n38  39                                    Croatia. 1. HNL  1641.8\n39  40                         Kazakhstan. Premier League  1641.3\n40  41                          Switzerland. Super League  1640.6\n41  42                      Faroe Islands. Premier League  1634.0\n42  43                             Slovakia. Fortuna liga  1630.4\n43  44                              Estonia. Meistriliiga  1626.1\n44  45                           Latvia. Optibet Virsliga  1622.4\n45  46                           Andorra. Primera Divisió  1617.3\n46  47                                  Kosovo. Superliga  1615.6\n47  48                 San Marino. Campionato Sammarinese  1604.5\n48  49                               Wales. Cymru Premier  1601.4\n49  50                   Montenegro. Prva Crnogorska Liga  1597.8\n50  51                         Moldova. Divizia Nationala  1593.0\n51  52                         Azerbaijan. Premier League  1563.9\n52  53  Armenia. VBET Premier League - Championship Group  1549.9\n53  54                         Gibraltar. National League  1548.3",
      "text/html": "<div>\n<style scoped>\n    .dataframe tbody tr th:only-of-type {\n        vertical-align: middle;\n    }\n\n    .dataframe tbody tr th {\n        vertical-align: top;\n    }\n\n    .dataframe thead th {\n        text-align: right;\n    }\n</style>\n<table border=\"1\" class=\"dataframe\">\n  <thead>\n    <tr style=\"text-align: right;\">\n      <th></th>\n      <th>#</th>\n      <th>league</th>\n      <th>rating</th>\n    </tr>\n  </thead>\n  <tbody>\n    <tr>\n      <th>0</th>\n      <td>1</td>\n      <td>England. Premier League</td>\n      <td>1820.3</td>\n    </tr>\n    <tr>\n      <th>1</th>\n      <td>2</td>\n      <td>Italy. Serie A</td>\n      <td>1776.2</td>\n    </tr>\n    <tr>\n      <th>2</th>\n      <td>3</td>\n      <td>Spain. LaLiga</td>\n      <td>1774.9</td>\n    </tr>\n    <tr>\n      <th>3</th>\n      <td>4</td>\n      <td>Germany. Bundesliga</td>\n      <td>1744.1</td>\n    </tr>\n    <tr>\n      <th>4</th>\n      <td>5</td>\n      <td>Netherlands. Eredivisie</td>\n      <td>1736.4</td>\n    </tr>\n    <tr>\n      <th>5</th>\n      <td>6</td>\n      <td>France. Ligue 1</td>\n      <td>1733.2</td>\n    </tr>\n    <tr>\n      <th>6</th>\n      <td>7</td>\n      <td>Cyprus. First Division</td>\n      <td>1727.8</td>\n    </tr>\n    <tr>\n      <th>7</th>\n      <td>8</td>\n      <td>Norway. Eliteserien</td>\n      <td>1710.4</td>\n    </tr>\n    <tr>\n      <th>8</th>\n      <td>9</td>\n      <td>Czech Republic. 1. Liga</td>\n      <td>1707.7</td>\n    </tr>\n    <tr>\n      <th>9</th>\n      <td>10</td>\n      <td>Portugal. Primeira Liga</td>\n      <td>1706.4</td>\n    </tr>\n    <tr>\n      <th>10</th>\n      <td>11</td>\n      <td>Belarus. Vysshaya Liga</td>\n      <td>1700.1</td>\n    </tr>\n    <tr>\n      <th>11</th>\n      <td>12</td>\n      <td>Sweden. Allsvenskan</td>\n      <td>1697.9</td>\n    </tr>\n    <tr>\n      <th>12</th>\n      <td>13</td>\n      <td>Serbia. Super Liga</td>\n      <td>1696.4</td>\n    </tr>\n    <tr>\n      <th>13</th>\n      <td>14</td>\n      <td>Northern Ireland. NIFL Premiership</td>\n      <td>1691.2</td>\n    </tr>\n    <tr>\n      <th>14</th>\n      <td>15</td>\n      <td>Bulgaria. Parva liga</td>\n      <td>1691.0</td>\n    </tr>\n    <tr>\n      <th>15</th>\n      <td>16</td>\n      <td>Denmark. Superliga</td>\n      <td>1685.9</td>\n    </tr>\n    <tr>\n      <th>16</th>\n      <td>17</td>\n      <td>Malta. Premier League</td>\n      <td>1685.1</td>\n    </tr>\n    <tr>\n      <th>17</th>\n      <td>18</td>\n      <td>Finland. Veikkausliiga</td>\n      <td>1676.8</td>\n    </tr>\n    <tr>\n      <th>18</th>\n      <td>19</td>\n      <td>Bosnia And Herzegovina. Premier League</td>\n      <td>1672.4</td>\n    </tr>\n    <tr>\n      <th>19</th>\n      <td>20</td>\n      <td>Scotland. Premiership</td>\n      <td>1672.1</td>\n    </tr>\n    <tr>\n      <th>20</th>\n      <td>21</td>\n      <td>North Macedonia. 1. MFL</td>\n      <td>1671.4</td>\n    </tr>\n    <tr>\n      <th>21</th>\n      <td>22</td>\n      <td>Turkey. Super Lig</td>\n      <td>1668.9</td>\n    </tr>\n    <tr>\n      <th>22</th>\n      <td>23</td>\n      <td>Israel. Ligat ha'Al</td>\n      <td>1664.7</td>\n    </tr>\n    <tr>\n      <th>23</th>\n      <td>24</td>\n      <td>Iceland. Pepsideild</td>\n      <td>1664.2</td>\n    </tr>\n    <tr>\n      <th>24</th>\n      <td>25</td>\n      <td>Greece. Super League</td>\n      <td>1662.7</td>\n    </tr>\n    <tr>\n      <th>25</th>\n      <td>26</td>\n      <td>Ireland. Premier Division</td>\n      <td>1662.0</td>\n    </tr>\n    <tr>\n      <th>26</th>\n      <td>27</td>\n      <td>Lithuania. A Lyga</td>\n      <td>1661.4</td>\n    </tr>\n    <tr>\n      <th>27</th>\n      <td>28</td>\n      <td>Ukraine. Premier League</td>\n      <td>1660.9</td>\n    </tr>\n    <tr>\n      <th>28</th>\n      <td>29</td>\n      <td>Poland. Ekstraklasa</td>\n      <td>1659.8</td>\n    </tr>\n    <tr>\n      <th>29</th>\n      <td>30</td>\n      <td>Georgia. Crystalbet Erovnuli Liga</td>\n      <td>1656.3</td>\n    </tr>\n    <tr>\n      <th>30</th>\n      <td>31</td>\n      <td>Luxembourg. National Division</td>\n      <td>1654.9</td>\n    </tr>\n    <tr>\n      <th>31</th>\n      <td>32</td>\n      <td>Austria. Bundesliga</td>\n      <td>1654.4</td>\n    </tr>\n    <tr>\n      <th>32</th>\n      <td>33</td>\n      <td>Russia. Premier League</td>\n      <td>1653.1</td>\n    </tr>\n    <tr>\n      <th>33</th>\n      <td>34</td>\n      <td>Hungary. OTP Bank Liga</td>\n      <td>1651.4</td>\n    </tr>\n    <tr>\n      <th>34</th>\n      <td>35</td>\n      <td>Belgium. Jupiler Pro League</td>\n      <td>1647.2</td>\n    </tr>\n    <tr>\n      <th>35</th>\n      <td>36</td>\n      <td>Slovenia. Prva liga</td>\n      <td>1647.0</td>\n    </tr>\n    <tr>\n      <th>36</th>\n      <td>37</td>\n      <td>Romania. Liga 1</td>\n      <td>1645.0</td>\n    </tr>\n    <tr>\n      <th>37</th>\n      <td>38</td>\n      <td>Albania. Superliga</td>\n      <td>1642.8</td>\n    </tr>\n    <tr>\n      <th>38</th>\n      <td>39</td>\n      <td>Croatia. 1. HNL</td>\n      <td>1641.8</td>\n    </tr>\n    <tr>\n      <th>39</th>\n      <td>40</td>\n      <td>Kazakhstan. Premier League</td>\n      <td>1641.3</td>\n    </tr>\n    <tr>\n      <th>40</th>\n      <td>41</td>\n      <td>Switzerland. Super League</td>\n      <td>1640.6</td>\n    </tr>\n    <tr>\n      <th>41</th>\n      <td>42</td>\n      <td>Faroe Islands. Premier League</td>\n      <td>1634.0</td>\n    </tr>\n    <tr>\n      <th>42</th>\n      <td>43</td>\n      <td>Slovakia. Fortuna liga</td>\n      <td>1630.4</td>\n    </tr>\n    <tr>\n      <th>43</th>\n      <td>44</td>\n      <td>Estonia. Meistriliiga</td>\n      <td>1626.1</td>\n    </tr>\n    <tr>\n      <th>44</th>\n      <td>45</td>\n      <td>Latvia. Optibet Virsliga</td>\n      <td>1622.4</td>\n    </tr>\n    <tr>\n      <th>45</th>\n      <td>46</td>\n      <td>Andorra. Primera Divisió</td>\n      <td>1617.3</td>\n    </tr>\n    <tr>\n      <th>46</th>\n      <td>47</td>\n      <td>Kosovo. Superliga</td>\n      <td>1615.6</td>\n    </tr>\n    <tr>\n      <th>47</th>\n      <td>48</td>\n      <td>San Marino. Campionato Sammarinese</td>\n      <td>1604.5</td>\n    </tr>\n    <tr>\n      <th>48</th>\n      <td>49</td>\n      <td>Wales. Cymru Premier</td>\n      <td>1601.4</td>\n    </tr>\n    <tr>\n      <th>49</th>\n      <td>50</td>\n      <td>Montenegro. Prva Crnogorska Liga</td>\n      <td>1597.8</td>\n    </tr>\n    <tr>\n      <th>50</th>\n      <td>51</td>\n      <td>Moldova. Divizia Nationala</td>\n      <td>1593.0</td>\n    </tr>\n    <tr>\n      <th>51</th>\n      <td>52</td>\n      <td>Azerbaijan. Premier League</td>\n      <td>1563.9</td>\n    </tr>\n    <tr>\n      <th>52</th>\n      <td>53</td>\n      <td>Armenia. VBET Premier League - Championship Group</td>\n      <td>1549.9</td>\n    </tr>\n    <tr>\n      <th>53</th>\n      <td>54</td>\n      <td>Gibraltar. National League</td>\n      <td>1548.3</td>\n    </tr>\n  </tbody>\n</table>\n</div>"
     },
     "execution_count": 12,
     "metadata": {},
     "output_type": "execute_result"
    }
   ],
   "source": [
    "glicko = GlickoSoccer()\n",
    "# league_params = joblib.load('data/league_params.pkl')\n",
    "league_params = glicko._league_params_initialization(matches)\n",
    "ratings = glicko.rate_teams(matches, league_params)\n",
    "ratings = glicko.ratings_to_df(ratings, matches)\n",
    "leagues_ratings = glicko.league_ratings(ratings, number_top_teams=10)\n",
    "first_leagues = set(matches.loc[matches['tournament_type'] == 1, 'tournament'])\n",
    "leagues_ratings = leagues_ratings.loc[leagues_ratings['league'].isin(first_leagues)]\n",
    "leagues_ratings.head(60)"
   ]
  },
  {
   "cell_type": "code",
   "execution_count": 6,
   "outputs": [
    {
     "data": {
      "text/plain": "     #                                             league  rating\n0    1                            England. Premier League  1834.3\n1    2                                     Italy. Serie A  1799.0\n2    3                                      Spain. LaLiga  1793.3\n3    4                                Germany. Bundesliga  1756.7\n4    5                             Cyprus. First Division  1742.2\n5    6                                    France. Ligue 1  1737.8\n6    7                            Netherlands. Eredivisie  1730.5\n7    8                            Portugal. Primeira Liga  1722.2\n8    9                             Belarus. Vysshaya Liga  1709.9\n9   10                                 Serbia. Super Liga  1709.4\n10  11                            Czech Republic. 1. Liga  1709.1\n11  12                                Sweden. Allsvenskan  1708.7\n12  13                                Norway. Eliteserien  1707.8\n13  14                                  Lithuania. A Lyga  1700.1\n14  15                 Northern Ireland. NIFL Premiership  1700.0\n15  16                               Bulgaria. Parva liga  1698.5\n16  17                                 Denmark. Superliga  1687.5\n17  18                            North Macedonia. 1. MFL  1684.6\n18  19                              Malta. Premier League  1679.0\n19  20                                  Turkey. Super Lig  1677.7\n20  21             Bosnia And Herzegovina. Premier League  1677.3\n21  22                             Finland. Veikkausliiga  1672.6\n22  23                             Russia. Premier League  1669.7\n23  24                            Ukraine. Premier League  1668.8\n24  25                              Scotland. Premiership  1666.2\n25  26                                Austria. Bundesliga  1665.4\n26  27                                Israel. Ligat ha'Al  1661.0\n27  28                                    Croatia. 1. HNL  1659.8\n28  29                             Hungary. OTP Bank Liga  1658.5\n29  30                                Iceland. Pepsideild  1657.4\n30  31                                Poland. Ekstraklasa  1656.4\n31  32                        Belgium. Jupiler Pro League  1651.7\n32  33                                 Albania. Superliga  1651.7\n33  34                                    Romania. Liga 1  1647.7\n34  35                         Kazakhstan. Premier League  1644.8\n35  36                          Switzerland. Super League  1642.2\n36  37                  Georgia. Crystalbet Erovnuli Liga  1641.9\n37  38                               Greece. Super League  1640.8\n38  39                                Slovenia. Prva liga  1640.3\n39  40                          Ireland. Premier Division  1630.1\n40  41                           Latvia. Optibet Virsliga  1630.0\n41  42                      Luxembourg. National Division  1629.6\n42  43                              Estonia. Meistriliiga  1629.2\n43  44                           Uzbekistan. Super League  1626.6\n44  45                             Slovakia. Fortuna liga  1618.2\n45  46                      Faroe Islands. Premier League  1603.9\n46  47                               Wales. Cymru Premier  1580.5\n47  48                                  Kosovo. Superliga  1568.5\n48  49                           Andorra. Primera Divisió  1562.8\n49  50                   Montenegro. Prva Crnogorska Liga  1561.5\n51  52                         Moldova. Divizia Nationala  1555.5\n52  53                         Azerbaijan. Premier League  1550.6\n56  57                 San Marino. Campionato Sammarinese  1537.6\n63  64  Armenia. VBET Premier League - Championship Group  1524.7\n64  65                         Gibraltar. National League  1524.6",
      "text/html": "<div>\n<style scoped>\n    .dataframe tbody tr th:only-of-type {\n        vertical-align: middle;\n    }\n\n    .dataframe tbody tr th {\n        vertical-align: top;\n    }\n\n    .dataframe thead th {\n        text-align: right;\n    }\n</style>\n<table border=\"1\" class=\"dataframe\">\n  <thead>\n    <tr style=\"text-align: right;\">\n      <th></th>\n      <th>#</th>\n      <th>league</th>\n      <th>rating</th>\n    </tr>\n  </thead>\n  <tbody>\n    <tr>\n      <th>0</th>\n      <td>1</td>\n      <td>England. Premier League</td>\n      <td>1834.3</td>\n    </tr>\n    <tr>\n      <th>1</th>\n      <td>2</td>\n      <td>Italy. Serie A</td>\n      <td>1799.0</td>\n    </tr>\n    <tr>\n      <th>2</th>\n      <td>3</td>\n      <td>Spain. LaLiga</td>\n      <td>1793.3</td>\n    </tr>\n    <tr>\n      <th>3</th>\n      <td>4</td>\n      <td>Germany. Bundesliga</td>\n      <td>1756.7</td>\n    </tr>\n    <tr>\n      <th>4</th>\n      <td>5</td>\n      <td>Cyprus. First Division</td>\n      <td>1742.2</td>\n    </tr>\n    <tr>\n      <th>5</th>\n      <td>6</td>\n      <td>France. Ligue 1</td>\n      <td>1737.8</td>\n    </tr>\n    <tr>\n      <th>6</th>\n      <td>7</td>\n      <td>Netherlands. Eredivisie</td>\n      <td>1730.5</td>\n    </tr>\n    <tr>\n      <th>7</th>\n      <td>8</td>\n      <td>Portugal. Primeira Liga</td>\n      <td>1722.2</td>\n    </tr>\n    <tr>\n      <th>8</th>\n      <td>9</td>\n      <td>Belarus. Vysshaya Liga</td>\n      <td>1709.9</td>\n    </tr>\n    <tr>\n      <th>9</th>\n      <td>10</td>\n      <td>Serbia. Super Liga</td>\n      <td>1709.4</td>\n    </tr>\n    <tr>\n      <th>10</th>\n      <td>11</td>\n      <td>Czech Republic. 1. Liga</td>\n      <td>1709.1</td>\n    </tr>\n    <tr>\n      <th>11</th>\n      <td>12</td>\n      <td>Sweden. Allsvenskan</td>\n      <td>1708.7</td>\n    </tr>\n    <tr>\n      <th>12</th>\n      <td>13</td>\n      <td>Norway. Eliteserien</td>\n      <td>1707.8</td>\n    </tr>\n    <tr>\n      <th>13</th>\n      <td>14</td>\n      <td>Lithuania. A Lyga</td>\n      <td>1700.1</td>\n    </tr>\n    <tr>\n      <th>14</th>\n      <td>15</td>\n      <td>Northern Ireland. NIFL Premiership</td>\n      <td>1700.0</td>\n    </tr>\n    <tr>\n      <th>15</th>\n      <td>16</td>\n      <td>Bulgaria. Parva liga</td>\n      <td>1698.5</td>\n    </tr>\n    <tr>\n      <th>16</th>\n      <td>17</td>\n      <td>Denmark. Superliga</td>\n      <td>1687.5</td>\n    </tr>\n    <tr>\n      <th>17</th>\n      <td>18</td>\n      <td>North Macedonia. 1. MFL</td>\n      <td>1684.6</td>\n    </tr>\n    <tr>\n      <th>18</th>\n      <td>19</td>\n      <td>Malta. Premier League</td>\n      <td>1679.0</td>\n    </tr>\n    <tr>\n      <th>19</th>\n      <td>20</td>\n      <td>Turkey. Super Lig</td>\n      <td>1677.7</td>\n    </tr>\n    <tr>\n      <th>20</th>\n      <td>21</td>\n      <td>Bosnia And Herzegovina. Premier League</td>\n      <td>1677.3</td>\n    </tr>\n    <tr>\n      <th>21</th>\n      <td>22</td>\n      <td>Finland. Veikkausliiga</td>\n      <td>1672.6</td>\n    </tr>\n    <tr>\n      <th>22</th>\n      <td>23</td>\n      <td>Russia. Premier League</td>\n      <td>1669.7</td>\n    </tr>\n    <tr>\n      <th>23</th>\n      <td>24</td>\n      <td>Ukraine. Premier League</td>\n      <td>1668.8</td>\n    </tr>\n    <tr>\n      <th>24</th>\n      <td>25</td>\n      <td>Scotland. Premiership</td>\n      <td>1666.2</td>\n    </tr>\n    <tr>\n      <th>25</th>\n      <td>26</td>\n      <td>Austria. Bundesliga</td>\n      <td>1665.4</td>\n    </tr>\n    <tr>\n      <th>26</th>\n      <td>27</td>\n      <td>Israel. Ligat ha'Al</td>\n      <td>1661.0</td>\n    </tr>\n    <tr>\n      <th>27</th>\n      <td>28</td>\n      <td>Croatia. 1. HNL</td>\n      <td>1659.8</td>\n    </tr>\n    <tr>\n      <th>28</th>\n      <td>29</td>\n      <td>Hungary. OTP Bank Liga</td>\n      <td>1658.5</td>\n    </tr>\n    <tr>\n      <th>29</th>\n      <td>30</td>\n      <td>Iceland. Pepsideild</td>\n      <td>1657.4</td>\n    </tr>\n    <tr>\n      <th>30</th>\n      <td>31</td>\n      <td>Poland. Ekstraklasa</td>\n      <td>1656.4</td>\n    </tr>\n    <tr>\n      <th>31</th>\n      <td>32</td>\n      <td>Belgium. Jupiler Pro League</td>\n      <td>1651.7</td>\n    </tr>\n    <tr>\n      <th>32</th>\n      <td>33</td>\n      <td>Albania. Superliga</td>\n      <td>1651.7</td>\n    </tr>\n    <tr>\n      <th>33</th>\n      <td>34</td>\n      <td>Romania. Liga 1</td>\n      <td>1647.7</td>\n    </tr>\n    <tr>\n      <th>34</th>\n      <td>35</td>\n      <td>Kazakhstan. Premier League</td>\n      <td>1644.8</td>\n    </tr>\n    <tr>\n      <th>35</th>\n      <td>36</td>\n      <td>Switzerland. Super League</td>\n      <td>1642.2</td>\n    </tr>\n    <tr>\n      <th>36</th>\n      <td>37</td>\n      <td>Georgia. Crystalbet Erovnuli Liga</td>\n      <td>1641.9</td>\n    </tr>\n    <tr>\n      <th>37</th>\n      <td>38</td>\n      <td>Greece. Super League</td>\n      <td>1640.8</td>\n    </tr>\n    <tr>\n      <th>38</th>\n      <td>39</td>\n      <td>Slovenia. Prva liga</td>\n      <td>1640.3</td>\n    </tr>\n    <tr>\n      <th>39</th>\n      <td>40</td>\n      <td>Ireland. Premier Division</td>\n      <td>1630.1</td>\n    </tr>\n    <tr>\n      <th>40</th>\n      <td>41</td>\n      <td>Latvia. Optibet Virsliga</td>\n      <td>1630.0</td>\n    </tr>\n    <tr>\n      <th>41</th>\n      <td>42</td>\n      <td>Luxembourg. National Division</td>\n      <td>1629.6</td>\n    </tr>\n    <tr>\n      <th>42</th>\n      <td>43</td>\n      <td>Estonia. Meistriliiga</td>\n      <td>1629.2</td>\n    </tr>\n    <tr>\n      <th>43</th>\n      <td>44</td>\n      <td>Uzbekistan. Super League</td>\n      <td>1626.6</td>\n    </tr>\n    <tr>\n      <th>44</th>\n      <td>45</td>\n      <td>Slovakia. Fortuna liga</td>\n      <td>1618.2</td>\n    </tr>\n    <tr>\n      <th>45</th>\n      <td>46</td>\n      <td>Faroe Islands. Premier League</td>\n      <td>1603.9</td>\n    </tr>\n    <tr>\n      <th>46</th>\n      <td>47</td>\n      <td>Wales. Cymru Premier</td>\n      <td>1580.5</td>\n    </tr>\n    <tr>\n      <th>47</th>\n      <td>48</td>\n      <td>Kosovo. Superliga</td>\n      <td>1568.5</td>\n    </tr>\n    <tr>\n      <th>48</th>\n      <td>49</td>\n      <td>Andorra. Primera Divisió</td>\n      <td>1562.8</td>\n    </tr>\n    <tr>\n      <th>49</th>\n      <td>50</td>\n      <td>Montenegro. Prva Crnogorska Liga</td>\n      <td>1561.5</td>\n    </tr>\n    <tr>\n      <th>51</th>\n      <td>52</td>\n      <td>Moldova. Divizia Nationala</td>\n      <td>1555.5</td>\n    </tr>\n    <tr>\n      <th>52</th>\n      <td>53</td>\n      <td>Azerbaijan. Premier League</td>\n      <td>1550.6</td>\n    </tr>\n    <tr>\n      <th>56</th>\n      <td>57</td>\n      <td>San Marino. Campionato Sammarinese</td>\n      <td>1537.6</td>\n    </tr>\n    <tr>\n      <th>63</th>\n      <td>64</td>\n      <td>Armenia. VBET Premier League - Championship Group</td>\n      <td>1524.7</td>\n    </tr>\n    <tr>\n      <th>64</th>\n      <td>65</td>\n      <td>Gibraltar. National League</td>\n      <td>1524.6</td>\n    </tr>\n  </tbody>\n</table>\n</div>"
     },
     "execution_count": 6,
     "metadata": {},
     "output_type": "execute_result"
    }
   ],
   "source": [
    "leagues_ratings.head(60)"
   ],
   "metadata": {
    "collapsed": false,
    "pycharm": {
     "name": "#%%\n"
    }
   }
  },
  {
   "cell_type": "code",
   "execution_count": 13,
   "id": "c6157e65",
   "metadata": {},
   "outputs": [
    {
     "data": {
      "text/plain": "     #                team  rating                                  league\n0    1           Liverpool  2005.1                 England. Premier League\n1    2       Bayern Munich  1996.6                     Germany. Bundesliga\n2    3       Crvena zvezda  1986.9                      Serbia. Super Liga\n3    4     Manchester City  1979.8                 England. Premier League\n4    5            FC Porto  1958.9                 Portugal. Primeira Liga\n5    6         Real Madrid  1954.9                           Spain. LaLiga\n6    7                Ajax  1949.3                 Netherlands. Eredivisie\n7    8             Rangers  1947.9                   Scotland. Premiership\n8    9    Sheriff Tiraspol  1923.7              Moldova. Divizia Nationala\n9   10               Inter  1916.5                          Italy. Serie A\n10  11            Partizan  1916.2                      Serbia. Super Liga\n11  12            Klaksvik  1914.4           Faroe Islands. Premier League\n12  13         HB Torshavn  1905.7           Faroe Islands. Premier League\n13  14            Sporting  1904.1                 Portugal. Primeira Liga\n14  15                 PSV  1899.3                 Netherlands. Eredivisie\n15  16             Chelsea  1892.7                 England. Premier League\n16  17            Paris SG  1889.7                         France. Ligue 1\n17  18       Slavia Prague  1886.3                 Czech Republic. 1. Liga\n18  19                 RFS  1885.3                Latvia. Optibet Virsliga\n19  20          Bodo/Glimt  1884.4                     Norway. Eliteserien\n20  21                 TNS  1883.9                    Wales. Cymru Premier\n21  22                BATE  1883.6                  Belarus. Vysshaya Liga\n22  23           Europa FC  1875.4              Gibraltar. National League\n23  24            Juventus  1874.9                          Italy. Serie A\n24  25               Flora  1871.3                   Estonia. Meistriliiga\n25  26            AC Milan  1871.0                          Italy. Serie A\n26  27             Levadia  1868.8                   Estonia. Meistriliiga\n27  28    Shakhtar Donetsk  1868.8                 Ukraine. Premier League\n28  29            Salzburg  1865.2                     Austria. Bundesliga\n29  30           D. Zagreb  1865.1                         Croatia. 1. HNL\n30  31              Celtic  1862.1                   Scotland. Premiership\n31  32    Benfica Portugal  1859.2                 Portugal. Primeira Liga\n32  33  Olympiacos Piraeus  1855.7                    Greece. Super League\n33  34   Slovan Bratislava  1852.5                  Slovakia. Fortuna liga\n34  35            Zalgiris  1844.1                       Lithuania. A Lyga\n35  36       Maccabi Haifa  1842.6                     Israel. Ligat ha'Al\n36  37           Barcelona  1838.3                           Spain. LaLiga\n37  38            Linfield  1836.8      Northern Ireland. NIFL Premiership\n38  39          Hibernians  1835.3                   Malta. Premier League\n39  40         Atl. Madrid  1832.7                           Spain. LaLiga\n40  41       FC Copenhagen  1831.6                      Denmark. Superliga\n41  42            Zrinjski  1831.1  Bosnia And Herzegovina. Premier League\n42  43          Ludogorets  1827.9                    Bulgaria. Parva liga\n43  44         Midtjylland  1827.8                      Denmark. Superliga\n44  45             Sevilla  1827.7                           Spain. LaLiga\n45  46             Apollon  1826.9                  Cyprus. First Division\n46  47           Tottenham  1823.0                 England. Premier League\n47  48           Feyenoord  1821.9                 Netherlands. Eredivisie\n48  49      Manchester Utd  1819.2                 England. Premier League\n49  50           Dyn. Kyiv  1818.9                 Ukraine. Premier League",
      "text/html": "<div>\n<style scoped>\n    .dataframe tbody tr th:only-of-type {\n        vertical-align: middle;\n    }\n\n    .dataframe tbody tr th {\n        vertical-align: top;\n    }\n\n    .dataframe thead th {\n        text-align: right;\n    }\n</style>\n<table border=\"1\" class=\"dataframe\">\n  <thead>\n    <tr style=\"text-align: right;\">\n      <th></th>\n      <th>#</th>\n      <th>team</th>\n      <th>rating</th>\n      <th>league</th>\n    </tr>\n  </thead>\n  <tbody>\n    <tr>\n      <th>0</th>\n      <td>1</td>\n      <td>Liverpool</td>\n      <td>2005.1</td>\n      <td>England. Premier League</td>\n    </tr>\n    <tr>\n      <th>1</th>\n      <td>2</td>\n      <td>Bayern Munich</td>\n      <td>1996.6</td>\n      <td>Germany. Bundesliga</td>\n    </tr>\n    <tr>\n      <th>2</th>\n      <td>3</td>\n      <td>Crvena zvezda</td>\n      <td>1986.9</td>\n      <td>Serbia. Super Liga</td>\n    </tr>\n    <tr>\n      <th>3</th>\n      <td>4</td>\n      <td>Manchester City</td>\n      <td>1979.8</td>\n      <td>England. Premier League</td>\n    </tr>\n    <tr>\n      <th>4</th>\n      <td>5</td>\n      <td>FC Porto</td>\n      <td>1958.9</td>\n      <td>Portugal. Primeira Liga</td>\n    </tr>\n    <tr>\n      <th>5</th>\n      <td>6</td>\n      <td>Real Madrid</td>\n      <td>1954.9</td>\n      <td>Spain. LaLiga</td>\n    </tr>\n    <tr>\n      <th>6</th>\n      <td>7</td>\n      <td>Ajax</td>\n      <td>1949.3</td>\n      <td>Netherlands. Eredivisie</td>\n    </tr>\n    <tr>\n      <th>7</th>\n      <td>8</td>\n      <td>Rangers</td>\n      <td>1947.9</td>\n      <td>Scotland. Premiership</td>\n    </tr>\n    <tr>\n      <th>8</th>\n      <td>9</td>\n      <td>Sheriff Tiraspol</td>\n      <td>1923.7</td>\n      <td>Moldova. Divizia Nationala</td>\n    </tr>\n    <tr>\n      <th>9</th>\n      <td>10</td>\n      <td>Inter</td>\n      <td>1916.5</td>\n      <td>Italy. Serie A</td>\n    </tr>\n    <tr>\n      <th>10</th>\n      <td>11</td>\n      <td>Partizan</td>\n      <td>1916.2</td>\n      <td>Serbia. Super Liga</td>\n    </tr>\n    <tr>\n      <th>11</th>\n      <td>12</td>\n      <td>Klaksvik</td>\n      <td>1914.4</td>\n      <td>Faroe Islands. Premier League</td>\n    </tr>\n    <tr>\n      <th>12</th>\n      <td>13</td>\n      <td>HB Torshavn</td>\n      <td>1905.7</td>\n      <td>Faroe Islands. Premier League</td>\n    </tr>\n    <tr>\n      <th>13</th>\n      <td>14</td>\n      <td>Sporting</td>\n      <td>1904.1</td>\n      <td>Portugal. Primeira Liga</td>\n    </tr>\n    <tr>\n      <th>14</th>\n      <td>15</td>\n      <td>PSV</td>\n      <td>1899.3</td>\n      <td>Netherlands. Eredivisie</td>\n    </tr>\n    <tr>\n      <th>15</th>\n      <td>16</td>\n      <td>Chelsea</td>\n      <td>1892.7</td>\n      <td>England. Premier League</td>\n    </tr>\n    <tr>\n      <th>16</th>\n      <td>17</td>\n      <td>Paris SG</td>\n      <td>1889.7</td>\n      <td>France. Ligue 1</td>\n    </tr>\n    <tr>\n      <th>17</th>\n      <td>18</td>\n      <td>Slavia Prague</td>\n      <td>1886.3</td>\n      <td>Czech Republic. 1. Liga</td>\n    </tr>\n    <tr>\n      <th>18</th>\n      <td>19</td>\n      <td>RFS</td>\n      <td>1885.3</td>\n      <td>Latvia. Optibet Virsliga</td>\n    </tr>\n    <tr>\n      <th>19</th>\n      <td>20</td>\n      <td>Bodo/Glimt</td>\n      <td>1884.4</td>\n      <td>Norway. Eliteserien</td>\n    </tr>\n    <tr>\n      <th>20</th>\n      <td>21</td>\n      <td>TNS</td>\n      <td>1883.9</td>\n      <td>Wales. Cymru Premier</td>\n    </tr>\n    <tr>\n      <th>21</th>\n      <td>22</td>\n      <td>BATE</td>\n      <td>1883.6</td>\n      <td>Belarus. Vysshaya Liga</td>\n    </tr>\n    <tr>\n      <th>22</th>\n      <td>23</td>\n      <td>Europa FC</td>\n      <td>1875.4</td>\n      <td>Gibraltar. National League</td>\n    </tr>\n    <tr>\n      <th>23</th>\n      <td>24</td>\n      <td>Juventus</td>\n      <td>1874.9</td>\n      <td>Italy. Serie A</td>\n    </tr>\n    <tr>\n      <th>24</th>\n      <td>25</td>\n      <td>Flora</td>\n      <td>1871.3</td>\n      <td>Estonia. Meistriliiga</td>\n    </tr>\n    <tr>\n      <th>25</th>\n      <td>26</td>\n      <td>AC Milan</td>\n      <td>1871.0</td>\n      <td>Italy. Serie A</td>\n    </tr>\n    <tr>\n      <th>26</th>\n      <td>27</td>\n      <td>Levadia</td>\n      <td>1868.8</td>\n      <td>Estonia. Meistriliiga</td>\n    </tr>\n    <tr>\n      <th>27</th>\n      <td>28</td>\n      <td>Shakhtar Donetsk</td>\n      <td>1868.8</td>\n      <td>Ukraine. Premier League</td>\n    </tr>\n    <tr>\n      <th>28</th>\n      <td>29</td>\n      <td>Salzburg</td>\n      <td>1865.2</td>\n      <td>Austria. Bundesliga</td>\n    </tr>\n    <tr>\n      <th>29</th>\n      <td>30</td>\n      <td>D. Zagreb</td>\n      <td>1865.1</td>\n      <td>Croatia. 1. HNL</td>\n    </tr>\n    <tr>\n      <th>30</th>\n      <td>31</td>\n      <td>Celtic</td>\n      <td>1862.1</td>\n      <td>Scotland. Premiership</td>\n    </tr>\n    <tr>\n      <th>31</th>\n      <td>32</td>\n      <td>Benfica Portugal</td>\n      <td>1859.2</td>\n      <td>Portugal. Primeira Liga</td>\n    </tr>\n    <tr>\n      <th>32</th>\n      <td>33</td>\n      <td>Olympiacos Piraeus</td>\n      <td>1855.7</td>\n      <td>Greece. Super League</td>\n    </tr>\n    <tr>\n      <th>33</th>\n      <td>34</td>\n      <td>Slovan Bratislava</td>\n      <td>1852.5</td>\n      <td>Slovakia. Fortuna liga</td>\n    </tr>\n    <tr>\n      <th>34</th>\n      <td>35</td>\n      <td>Zalgiris</td>\n      <td>1844.1</td>\n      <td>Lithuania. A Lyga</td>\n    </tr>\n    <tr>\n      <th>35</th>\n      <td>36</td>\n      <td>Maccabi Haifa</td>\n      <td>1842.6</td>\n      <td>Israel. Ligat ha'Al</td>\n    </tr>\n    <tr>\n      <th>36</th>\n      <td>37</td>\n      <td>Barcelona</td>\n      <td>1838.3</td>\n      <td>Spain. LaLiga</td>\n    </tr>\n    <tr>\n      <th>37</th>\n      <td>38</td>\n      <td>Linfield</td>\n      <td>1836.8</td>\n      <td>Northern Ireland. NIFL Premiership</td>\n    </tr>\n    <tr>\n      <th>38</th>\n      <td>39</td>\n      <td>Hibernians</td>\n      <td>1835.3</td>\n      <td>Malta. Premier League</td>\n    </tr>\n    <tr>\n      <th>39</th>\n      <td>40</td>\n      <td>Atl. Madrid</td>\n      <td>1832.7</td>\n      <td>Spain. LaLiga</td>\n    </tr>\n    <tr>\n      <th>40</th>\n      <td>41</td>\n      <td>FC Copenhagen</td>\n      <td>1831.6</td>\n      <td>Denmark. Superliga</td>\n    </tr>\n    <tr>\n      <th>41</th>\n      <td>42</td>\n      <td>Zrinjski</td>\n      <td>1831.1</td>\n      <td>Bosnia And Herzegovina. Premier League</td>\n    </tr>\n    <tr>\n      <th>42</th>\n      <td>43</td>\n      <td>Ludogorets</td>\n      <td>1827.9</td>\n      <td>Bulgaria. Parva liga</td>\n    </tr>\n    <tr>\n      <th>43</th>\n      <td>44</td>\n      <td>Midtjylland</td>\n      <td>1827.8</td>\n      <td>Denmark. Superliga</td>\n    </tr>\n    <tr>\n      <th>44</th>\n      <td>45</td>\n      <td>Sevilla</td>\n      <td>1827.7</td>\n      <td>Spain. LaLiga</td>\n    </tr>\n    <tr>\n      <th>45</th>\n      <td>46</td>\n      <td>Apollon</td>\n      <td>1826.9</td>\n      <td>Cyprus. First Division</td>\n    </tr>\n    <tr>\n      <th>46</th>\n      <td>47</td>\n      <td>Tottenham</td>\n      <td>1823.0</td>\n      <td>England. Premier League</td>\n    </tr>\n    <tr>\n      <th>47</th>\n      <td>48</td>\n      <td>Feyenoord</td>\n      <td>1821.9</td>\n      <td>Netherlands. Eredivisie</td>\n    </tr>\n    <tr>\n      <th>48</th>\n      <td>49</td>\n      <td>Manchester Utd</td>\n      <td>1819.2</td>\n      <td>England. Premier League</td>\n    </tr>\n    <tr>\n      <th>49</th>\n      <td>50</td>\n      <td>Dyn. Kyiv</td>\n      <td>1818.9</td>\n      <td>Ukraine. Premier League</td>\n    </tr>\n  </tbody>\n</table>\n</div>"
     },
     "execution_count": 13,
     "metadata": {},
     "output_type": "execute_result"
    }
   ],
   "source": [
    "ratings.head(50)"
   ]
  },
  {
   "cell_type": "markdown",
   "id": "7ebcdb5e",
   "metadata": {},
   "source": [
    "# Skellam"
   ]
  },
  {
   "cell_type": "code",
   "execution_count": 9,
   "id": "fdac8ee0",
   "metadata": {
    "ExecuteTime": {
     "end_time": "2021-10-16T16:01:42.563459Z",
     "start_time": "2021-10-16T16:01:42.504174Z"
    }
   },
   "outputs": [
    {
     "ename": "OSError",
     "evalue": "dlopen(/Users/andreyshelopugin/opt/anaconda3/lib/python3.8/site-packages/lightgbm/lib_lightgbm.so, 6): Library not loaded: /usr/local/opt/libomp/lib/libomp.dylib\n  Referenced from: /Users/andreyshelopugin/opt/anaconda3/lib/python3.8/site-packages/lightgbm/lib_lightgbm.so\n  Reason: image not found",
     "output_type": "error",
     "traceback": [
      "\u001B[0;31m---------------------------------------------------------------------------\u001B[0m",
      "\u001B[0;31mOSError\u001B[0m                                   Traceback (most recent call last)",
      "\u001B[0;32m/var/folders/pn/rskcs8bx49l1trxp7mnwcdyr0000gn/T/ipykernel_17825/4045259088.py\u001B[0m in \u001B[0;36m<module>\u001B[0;34m\u001B[0m\n\u001B[0;32m----> 1\u001B[0;31m \u001B[0;32mfrom\u001B[0m \u001B[0meuro_soccer\u001B[0m\u001B[0;34m.\u001B[0m\u001B[0mdraw_model\u001B[0m \u001B[0;32mimport\u001B[0m \u001B[0mDrawLightGBM\u001B[0m\u001B[0;34m\u001B[0m\u001B[0;34m\u001B[0m\u001B[0m\n\u001B[0m\u001B[1;32m      2\u001B[0m \u001B[0;34m\u001B[0m\u001B[0m\n\u001B[1;32m      3\u001B[0m \u001B[0mDrawLightGBM\u001B[0m\u001B[0;34m(\u001B[0m\u001B[0;34m)\u001B[0m\u001B[0;34m.\u001B[0m\u001B[0mcross_val_score\u001B[0m\u001B[0;34m(\u001B[0m\u001B[0;34m)\u001B[0m\u001B[0;34m\u001B[0m\u001B[0;34m\u001B[0m\u001B[0m\n",
      "\u001B[0;32m~/PycharmProjects/GlickoSoccer/euro_soccer/draw_model.py\u001B[0m in \u001B[0;36m<module>\u001B[0;34m\u001B[0m\n\u001B[1;32m      4\u001B[0m \u001B[0;32mimport\u001B[0m \u001B[0mpandas\u001B[0m \u001B[0;32mas\u001B[0m \u001B[0mpd\u001B[0m\u001B[0;34m\u001B[0m\u001B[0;34m\u001B[0m\u001B[0m\n\u001B[1;32m      5\u001B[0m \u001B[0;31m# import shap\u001B[0m\u001B[0;34m\u001B[0m\u001B[0;34m\u001B[0m\u001B[0;34m\u001B[0m\u001B[0m\n\u001B[0;32m----> 6\u001B[0;31m \u001B[0;32mfrom\u001B[0m \u001B[0mlightgbm\u001B[0m \u001B[0;32mimport\u001B[0m \u001B[0mLGBMRegressor\u001B[0m\u001B[0;34m\u001B[0m\u001B[0;34m\u001B[0m\u001B[0m\n\u001B[0m\u001B[1;32m      7\u001B[0m \u001B[0;32mimport\u001B[0m \u001B[0mlightgbm\u001B[0m \u001B[0;32mas\u001B[0m \u001B[0mlgb\u001B[0m\u001B[0;34m\u001B[0m\u001B[0;34m\u001B[0m\u001B[0m\n\u001B[1;32m      8\u001B[0m \u001B[0;32mfrom\u001B[0m \u001B[0mscipy\u001B[0m\u001B[0;34m.\u001B[0m\u001B[0mstats\u001B[0m \u001B[0;32mimport\u001B[0m \u001B[0mskellam\u001B[0m\u001B[0;34m\u001B[0m\u001B[0;34m\u001B[0m\u001B[0m\n",
      "\u001B[0;32m~/opt/anaconda3/lib/python3.8/site-packages/lightgbm/__init__.py\u001B[0m in \u001B[0;36m<module>\u001B[0;34m\u001B[0m\n\u001B[1;32m      6\u001B[0m \u001B[0;32mfrom\u001B[0m \u001B[0mpathlib\u001B[0m \u001B[0;32mimport\u001B[0m \u001B[0mPath\u001B[0m\u001B[0;34m\u001B[0m\u001B[0;34m\u001B[0m\u001B[0m\n\u001B[1;32m      7\u001B[0m \u001B[0;34m\u001B[0m\u001B[0m\n\u001B[0;32m----> 8\u001B[0;31m \u001B[0;32mfrom\u001B[0m \u001B[0;34m.\u001B[0m\u001B[0mbasic\u001B[0m \u001B[0;32mimport\u001B[0m \u001B[0mBooster\u001B[0m\u001B[0;34m,\u001B[0m \u001B[0mDataset\u001B[0m\u001B[0;34m,\u001B[0m \u001B[0mSequence\u001B[0m\u001B[0;34m,\u001B[0m \u001B[0mregister_logger\u001B[0m\u001B[0;34m\u001B[0m\u001B[0;34m\u001B[0m\u001B[0m\n\u001B[0m\u001B[1;32m      9\u001B[0m \u001B[0;32mfrom\u001B[0m \u001B[0;34m.\u001B[0m\u001B[0mcallback\u001B[0m \u001B[0;32mimport\u001B[0m \u001B[0mearly_stopping\u001B[0m\u001B[0;34m,\u001B[0m \u001B[0mlog_evaluation\u001B[0m\u001B[0;34m,\u001B[0m \u001B[0mprint_evaluation\u001B[0m\u001B[0;34m,\u001B[0m \u001B[0mrecord_evaluation\u001B[0m\u001B[0;34m,\u001B[0m \u001B[0mreset_parameter\u001B[0m\u001B[0;34m\u001B[0m\u001B[0;34m\u001B[0m\u001B[0m\n\u001B[1;32m     10\u001B[0m \u001B[0;32mfrom\u001B[0m \u001B[0;34m.\u001B[0m\u001B[0mengine\u001B[0m \u001B[0;32mimport\u001B[0m \u001B[0mCVBooster\u001B[0m\u001B[0;34m,\u001B[0m \u001B[0mcv\u001B[0m\u001B[0;34m,\u001B[0m \u001B[0mtrain\u001B[0m\u001B[0;34m\u001B[0m\u001B[0;34m\u001B[0m\u001B[0m\n",
      "\u001B[0;32m~/opt/anaconda3/lib/python3.8/site-packages/lightgbm/basic.py\u001B[0m in \u001B[0;36m<module>\u001B[0;34m\u001B[0m\n\u001B[1;32m    108\u001B[0m \u001B[0;34m\u001B[0m\u001B[0m\n\u001B[1;32m    109\u001B[0m \u001B[0;34m\u001B[0m\u001B[0m\n\u001B[0;32m--> 110\u001B[0;31m \u001B[0m_LIB\u001B[0m \u001B[0;34m=\u001B[0m \u001B[0m_load_lib\u001B[0m\u001B[0;34m(\u001B[0m\u001B[0;34m)\u001B[0m\u001B[0;34m\u001B[0m\u001B[0;34m\u001B[0m\u001B[0m\n\u001B[0m\u001B[1;32m    111\u001B[0m \u001B[0;34m\u001B[0m\u001B[0m\n\u001B[1;32m    112\u001B[0m \u001B[0;34m\u001B[0m\u001B[0m\n",
      "\u001B[0;32m~/opt/anaconda3/lib/python3.8/site-packages/lightgbm/basic.py\u001B[0m in \u001B[0;36m_load_lib\u001B[0;34m()\u001B[0m\n\u001B[1;32m     99\u001B[0m     \u001B[0;32mif\u001B[0m \u001B[0mlen\u001B[0m\u001B[0;34m(\u001B[0m\u001B[0mlib_path\u001B[0m\u001B[0;34m)\u001B[0m \u001B[0;34m==\u001B[0m \u001B[0;36m0\u001B[0m\u001B[0;34m:\u001B[0m\u001B[0;34m\u001B[0m\u001B[0;34m\u001B[0m\u001B[0m\n\u001B[1;32m    100\u001B[0m         \u001B[0;32mreturn\u001B[0m \u001B[0;32mNone\u001B[0m\u001B[0;34m\u001B[0m\u001B[0;34m\u001B[0m\u001B[0m\n\u001B[0;32m--> 101\u001B[0;31m     \u001B[0mlib\u001B[0m \u001B[0;34m=\u001B[0m \u001B[0mctypes\u001B[0m\u001B[0;34m.\u001B[0m\u001B[0mcdll\u001B[0m\u001B[0;34m.\u001B[0m\u001B[0mLoadLibrary\u001B[0m\u001B[0;34m(\u001B[0m\u001B[0mlib_path\u001B[0m\u001B[0;34m[\u001B[0m\u001B[0;36m0\u001B[0m\u001B[0;34m]\u001B[0m\u001B[0;34m)\u001B[0m\u001B[0;34m\u001B[0m\u001B[0;34m\u001B[0m\u001B[0m\n\u001B[0m\u001B[1;32m    102\u001B[0m     \u001B[0mlib\u001B[0m\u001B[0;34m.\u001B[0m\u001B[0mLGBM_GetLastError\u001B[0m\u001B[0;34m.\u001B[0m\u001B[0mrestype\u001B[0m \u001B[0;34m=\u001B[0m \u001B[0mctypes\u001B[0m\u001B[0;34m.\u001B[0m\u001B[0mc_char_p\u001B[0m\u001B[0;34m\u001B[0m\u001B[0;34m\u001B[0m\u001B[0m\n\u001B[1;32m    103\u001B[0m     \u001B[0mcallback\u001B[0m \u001B[0;34m=\u001B[0m \u001B[0mctypes\u001B[0m\u001B[0;34m.\u001B[0m\u001B[0mCFUNCTYPE\u001B[0m\u001B[0;34m(\u001B[0m\u001B[0;32mNone\u001B[0m\u001B[0;34m,\u001B[0m \u001B[0mctypes\u001B[0m\u001B[0;34m.\u001B[0m\u001B[0mc_char_p\u001B[0m\u001B[0;34m)\u001B[0m\u001B[0;34m\u001B[0m\u001B[0;34m\u001B[0m\u001B[0m\n",
      "\u001B[0;32m~/opt/anaconda3/lib/python3.8/ctypes/__init__.py\u001B[0m in \u001B[0;36mLoadLibrary\u001B[0;34m(self, name)\u001B[0m\n\u001B[1;32m    457\u001B[0m \u001B[0;34m\u001B[0m\u001B[0m\n\u001B[1;32m    458\u001B[0m     \u001B[0;32mdef\u001B[0m \u001B[0mLoadLibrary\u001B[0m\u001B[0;34m(\u001B[0m\u001B[0mself\u001B[0m\u001B[0;34m,\u001B[0m \u001B[0mname\u001B[0m\u001B[0;34m)\u001B[0m\u001B[0;34m:\u001B[0m\u001B[0;34m\u001B[0m\u001B[0;34m\u001B[0m\u001B[0m\n\u001B[0;32m--> 459\u001B[0;31m         \u001B[0;32mreturn\u001B[0m \u001B[0mself\u001B[0m\u001B[0;34m.\u001B[0m\u001B[0m_dlltype\u001B[0m\u001B[0;34m(\u001B[0m\u001B[0mname\u001B[0m\u001B[0;34m)\u001B[0m\u001B[0;34m\u001B[0m\u001B[0;34m\u001B[0m\u001B[0m\n\u001B[0m\u001B[1;32m    460\u001B[0m \u001B[0;34m\u001B[0m\u001B[0m\n\u001B[1;32m    461\u001B[0m \u001B[0mcdll\u001B[0m \u001B[0;34m=\u001B[0m \u001B[0mLibraryLoader\u001B[0m\u001B[0;34m(\u001B[0m\u001B[0mCDLL\u001B[0m\u001B[0;34m)\u001B[0m\u001B[0;34m\u001B[0m\u001B[0;34m\u001B[0m\u001B[0m\n",
      "\u001B[0;32m~/opt/anaconda3/lib/python3.8/ctypes/__init__.py\u001B[0m in \u001B[0;36m__init__\u001B[0;34m(self, name, mode, handle, use_errno, use_last_error, winmode)\u001B[0m\n\u001B[1;32m    379\u001B[0m \u001B[0;34m\u001B[0m\u001B[0m\n\u001B[1;32m    380\u001B[0m         \u001B[0;32mif\u001B[0m \u001B[0mhandle\u001B[0m \u001B[0;32mis\u001B[0m \u001B[0;32mNone\u001B[0m\u001B[0;34m:\u001B[0m\u001B[0;34m\u001B[0m\u001B[0;34m\u001B[0m\u001B[0m\n\u001B[0;32m--> 381\u001B[0;31m             \u001B[0mself\u001B[0m\u001B[0;34m.\u001B[0m\u001B[0m_handle\u001B[0m \u001B[0;34m=\u001B[0m \u001B[0m_dlopen\u001B[0m\u001B[0;34m(\u001B[0m\u001B[0mself\u001B[0m\u001B[0;34m.\u001B[0m\u001B[0m_name\u001B[0m\u001B[0;34m,\u001B[0m \u001B[0mmode\u001B[0m\u001B[0;34m)\u001B[0m\u001B[0;34m\u001B[0m\u001B[0;34m\u001B[0m\u001B[0m\n\u001B[0m\u001B[1;32m    382\u001B[0m         \u001B[0;32melse\u001B[0m\u001B[0;34m:\u001B[0m\u001B[0;34m\u001B[0m\u001B[0;34m\u001B[0m\u001B[0m\n\u001B[1;32m    383\u001B[0m             \u001B[0mself\u001B[0m\u001B[0;34m.\u001B[0m\u001B[0m_handle\u001B[0m \u001B[0;34m=\u001B[0m \u001B[0mhandle\u001B[0m\u001B[0;34m\u001B[0m\u001B[0;34m\u001B[0m\u001B[0m\n",
      "\u001B[0;31mOSError\u001B[0m: dlopen(/Users/andreyshelopugin/opt/anaconda3/lib/python3.8/site-packages/lightgbm/lib_lightgbm.so, 6): Library not loaded: /usr/local/opt/libomp/lib/libomp.dylib\n  Referenced from: /Users/andreyshelopugin/opt/anaconda3/lib/python3.8/site-packages/lightgbm/lib_lightgbm.so\n  Reason: image not found"
     ]
    }
   ],
   "source": [
    "# from euro_soccer.draw_model import DrawLightGBM\n",
    "\n",
    "DrawLightGBM().cross_val_score()"
   ]
  },
  {
   "cell_type": "code",
   "execution_count": null,
   "id": "312839bf",
   "metadata": {},
   "outputs": [],
   "source": []
  },
  {
   "cell_type": "code",
   "execution_count": 5,
   "id": "c2fcc9b7",
   "metadata": {
    "ExecuteTime": {
     "end_time": "2021-10-16T13:28:56.955628Z",
     "start_time": "2021-10-16T13:28:56.890048Z"
    }
   },
   "outputs": [
    {
     "data": {
      "text/html": [
       "<div>\n",
       "<style scoped>\n",
       "    .dataframe tbody tr th:only-of-type {\n",
       "        vertical-align: middle;\n",
       "    }\n",
       "\n",
       "    .dataframe tbody tr th {\n",
       "        vertical-align: top;\n",
       "    }\n",
       "\n",
       "    .dataframe thead th {\n",
       "        text-align: right;\n",
       "    }\n",
       "</style>\n",
       "<table border=\"1\" class=\"dataframe\">\n",
       "  <thead>\n",
       "    <tr style=\"text-align: right;\">\n",
       "      <th></th>\n",
       "      <th>team</th>\n",
       "      <th>score</th>\n",
       "      <th>index</th>\n",
       "      <th>is_home</th>\n",
       "      <th>avg_scoring_10</th>\n",
       "      <th>avg_scoring_20</th>\n",
       "      <th>is_pandemic</th>\n",
       "      <th>mean_score_10</th>\n",
       "      <th>median_score_10</th>\n",
       "      <th>mean_score_20</th>\n",
       "      <th>mean_score_10_against</th>\n",
       "      <th>median_score_10_against</th>\n",
       "      <th>mean_score_20_against</th>\n",
       "    </tr>\n",
       "  </thead>\n",
       "  <tbody>\n",
       "    <tr>\n",
       "      <th>129670</th>\n",
       "      <td>Den Bosch</td>\n",
       "      <td>2</td>\n",
       "      <td>69077</td>\n",
       "      <td>0</td>\n",
       "      <td>2.500000</td>\n",
       "      <td>2.5</td>\n",
       "      <td>1</td>\n",
       "      <td>1.800000</td>\n",
       "      <td>1.5</td>\n",
       "      <td>1.5</td>\n",
       "      <td>1.700000</td>\n",
       "      <td>1.0</td>\n",
       "      <td>2.0</td>\n",
       "    </tr>\n",
       "    <tr>\n",
       "      <th>4917</th>\n",
       "      <td>Dubnica</td>\n",
       "      <td>5</td>\n",
       "      <td>67608</td>\n",
       "      <td>1</td>\n",
       "      <td>1.444444</td>\n",
       "      <td>NaN</td>\n",
       "      <td>0</td>\n",
       "      <td>0.777778</td>\n",
       "      <td>1.0</td>\n",
       "      <td>1.0</td>\n",
       "      <td>3.222222</td>\n",
       "      <td>3.0</td>\n",
       "      <td>3.0</td>\n",
       "    </tr>\n",
       "    <tr>\n",
       "      <th>17732</th>\n",
       "      <td>Rapid Vienna</td>\n",
       "      <td>2</td>\n",
       "      <td>27656</td>\n",
       "      <td>1</td>\n",
       "      <td>2.400000</td>\n",
       "      <td>2.4</td>\n",
       "      <td>0</td>\n",
       "      <td>1.100000</td>\n",
       "      <td>0.5</td>\n",
       "      <td>1.0</td>\n",
       "      <td>0.600000</td>\n",
       "      <td>0.0</td>\n",
       "      <td>1.0</td>\n",
       "    </tr>\n",
       "    <tr>\n",
       "      <th>132205</th>\n",
       "      <td>Chambly</td>\n",
       "      <td>2</td>\n",
       "      <td>51277</td>\n",
       "      <td>0</td>\n",
       "      <td>1.200000</td>\n",
       "      <td>1.2</td>\n",
       "      <td>1</td>\n",
       "      <td>1.100000</td>\n",
       "      <td>0.5</td>\n",
       "      <td>1.0</td>\n",
       "      <td>0.800000</td>\n",
       "      <td>0.5</td>\n",
       "      <td>1.0</td>\n",
       "    </tr>\n",
       "    <tr>\n",
       "      <th>115031</th>\n",
       "      <td>Tobol</td>\n",
       "      <td>0</td>\n",
       "      <td>10064</td>\n",
       "      <td>0</td>\n",
       "      <td>1.300000</td>\n",
       "      <td>1.3</td>\n",
       "      <td>0</td>\n",
       "      <td>1.200000</td>\n",
       "      <td>1.0</td>\n",
       "      <td>1.0</td>\n",
       "      <td>0.300000</td>\n",
       "      <td>0.0</td>\n",
       "      <td>0.0</td>\n",
       "    </tr>\n",
       "  </tbody>\n",
       "</table>\n",
       "</div>"
      ],
      "text/plain": [
       "                team  score  index  is_home  avg_scoring_10  avg_scoring_20  \\\n",
       "129670     Den Bosch      2  69077        0        2.500000             2.5   \n",
       "4917         Dubnica      5  67608        1        1.444444             NaN   \n",
       "17732   Rapid Vienna      2  27656        1        2.400000             2.4   \n",
       "132205       Chambly      2  51277        0        1.200000             1.2   \n",
       "115031         Tobol      0  10064        0        1.300000             1.3   \n",
       "\n",
       "        is_pandemic  mean_score_10  median_score_10  mean_score_20  \\\n",
       "129670            1       1.800000              1.5            1.5   \n",
       "4917              0       0.777778              1.0            1.0   \n",
       "17732             0       1.100000              0.5            1.0   \n",
       "132205            1       1.100000              0.5            1.0   \n",
       "115031            0       1.200000              1.0            1.0   \n",
       "\n",
       "        mean_score_10_against  median_score_10_against  mean_score_20_against  \n",
       "129670               1.700000                      1.0                    2.0  \n",
       "4917                 3.222222                      3.0                    3.0  \n",
       "17732                0.600000                      0.0                    1.0  \n",
       "132205               0.800000                      0.5                    1.0  \n",
       "115031               0.300000                      0.0                    0.0  "
      ]
     },
     "execution_count": 5,
     "metadata": {},
     "output_type": "execute_result"
    }
   ],
   "source": [
    "# import joblib\n",
    "train = joblib.load('data/train.pkl')\n",
    "train.head()"
   ]
  },
  {
   "cell_type": "code",
   "execution_count": 6,
   "id": "fd266457",
   "metadata": {
    "ExecuteTime": {
     "end_time": "2021-10-16T13:30:08.902908Z",
     "start_time": "2021-10-16T13:30:08.869178Z"
    }
   },
   "outputs": [
    {
     "data": {
      "text/html": [
       "<div>\n",
       "<style scoped>\n",
       "    .dataframe tbody tr th:only-of-type {\n",
       "        vertical-align: middle;\n",
       "    }\n",
       "\n",
       "    .dataframe tbody tr th {\n",
       "        vertical-align: top;\n",
       "    }\n",
       "\n",
       "    .dataframe thead th {\n",
       "        text-align: right;\n",
       "    }\n",
       "</style>\n",
       "<table border=\"1\" class=\"dataframe\">\n",
       "  <thead>\n",
       "    <tr style=\"text-align: right;\">\n",
       "      <th></th>\n",
       "      <th>team</th>\n",
       "      <th>score</th>\n",
       "      <th>index</th>\n",
       "      <th>is_home</th>\n",
       "      <th>avg_scoring_10</th>\n",
       "      <th>avg_scoring_20</th>\n",
       "      <th>is_pandemic</th>\n",
       "      <th>mean_score_10</th>\n",
       "      <th>median_score_10</th>\n",
       "      <th>mean_score_20</th>\n",
       "      <th>mean_score_10_against</th>\n",
       "      <th>median_score_10_against</th>\n",
       "      <th>mean_score_20_against</th>\n",
       "    </tr>\n",
       "  </thead>\n",
       "  <tbody>\n",
       "    <tr>\n",
       "      <th>99593</th>\n",
       "      <td>Manchester City</td>\n",
       "      <td>2</td>\n",
       "      <td>8107</td>\n",
       "      <td>0</td>\n",
       "      <td>2.8</td>\n",
       "      <td>2.8</td>\n",
       "      <td>0</td>\n",
       "      <td>1.700000</td>\n",
       "      <td>1.5</td>\n",
       "      <td>2.0</td>\n",
       "      <td>1.000000</td>\n",
       "      <td>1.0</td>\n",
       "      <td>0.5</td>\n",
       "    </tr>\n",
       "    <tr>\n",
       "      <th>97208</th>\n",
       "      <td>Manchester City</td>\n",
       "      <td>1</td>\n",
       "      <td>75728</td>\n",
       "      <td>0</td>\n",
       "      <td>2.7</td>\n",
       "      <td>2.7</td>\n",
       "      <td>0</td>\n",
       "      <td>1.900000</td>\n",
       "      <td>2.0</td>\n",
       "      <td>2.0</td>\n",
       "      <td>1.300000</td>\n",
       "      <td>1.5</td>\n",
       "      <td>1.0</td>\n",
       "    </tr>\n",
       "    <tr>\n",
       "      <th>101412</th>\n",
       "      <td>Manchester City</td>\n",
       "      <td>3</td>\n",
       "      <td>8079</td>\n",
       "      <td>0</td>\n",
       "      <td>2.6</td>\n",
       "      <td>2.6</td>\n",
       "      <td>0</td>\n",
       "      <td>1.700000</td>\n",
       "      <td>1.5</td>\n",
       "      <td>2.0</td>\n",
       "      <td>0.800000</td>\n",
       "      <td>0.5</td>\n",
       "      <td>0.5</td>\n",
       "    </tr>\n",
       "    <tr>\n",
       "      <th>22198</th>\n",
       "      <td>Manchester City</td>\n",
       "      <td>1</td>\n",
       "      <td>8075</td>\n",
       "      <td>1</td>\n",
       "      <td>1.5</td>\n",
       "      <td>1.5</td>\n",
       "      <td>0</td>\n",
       "      <td>3.300000</td>\n",
       "      <td>3.0</td>\n",
       "      <td>3.0</td>\n",
       "      <td>0.900000</td>\n",
       "      <td>0.5</td>\n",
       "      <td>1.0</td>\n",
       "    </tr>\n",
       "    <tr>\n",
       "      <th>112351</th>\n",
       "      <td>Manchester City</td>\n",
       "      <td>3</td>\n",
       "      <td>89736</td>\n",
       "      <td>0</td>\n",
       "      <td>1.7</td>\n",
       "      <td>1.7</td>\n",
       "      <td>0</td>\n",
       "      <td>2.500000</td>\n",
       "      <td>2.5</td>\n",
       "      <td>2.0</td>\n",
       "      <td>0.700000</td>\n",
       "      <td>0.5</td>\n",
       "      <td>1.0</td>\n",
       "    </tr>\n",
       "    <tr>\n",
       "      <th>...</th>\n",
       "      <td>...</td>\n",
       "      <td>...</td>\n",
       "      <td>...</td>\n",
       "      <td>...</td>\n",
       "      <td>...</td>\n",
       "      <td>...</td>\n",
       "      <td>...</td>\n",
       "      <td>...</td>\n",
       "      <td>...</td>\n",
       "      <td>...</td>\n",
       "      <td>...</td>\n",
       "      <td>...</td>\n",
       "      <td>...</td>\n",
       "    </tr>\n",
       "    <tr>\n",
       "      <th>139024</th>\n",
       "      <td>Manchester City</td>\n",
       "      <td>4</td>\n",
       "      <td>82632</td>\n",
       "      <td>0</td>\n",
       "      <td>1.4</td>\n",
       "      <td>1.4</td>\n",
       "      <td>1</td>\n",
       "      <td>1.100000</td>\n",
       "      <td>1.0</td>\n",
       "      <td>1.0</td>\n",
       "      <td>0.400000</td>\n",
       "      <td>0.0</td>\n",
       "      <td>0.5</td>\n",
       "    </tr>\n",
       "    <tr>\n",
       "      <th>51661</th>\n",
       "      <td>Manchester City</td>\n",
       "      <td>2</td>\n",
       "      <td>82643</td>\n",
       "      <td>1</td>\n",
       "      <td>3.1</td>\n",
       "      <td>3.1</td>\n",
       "      <td>1</td>\n",
       "      <td>2.900000</td>\n",
       "      <td>2.5</td>\n",
       "      <td>2.0</td>\n",
       "      <td>0.600000</td>\n",
       "      <td>0.0</td>\n",
       "      <td>1.0</td>\n",
       "    </tr>\n",
       "    <tr>\n",
       "      <th>89840</th>\n",
       "      <td>Manchester City</td>\n",
       "      <td>3</td>\n",
       "      <td>80587</td>\n",
       "      <td>0</td>\n",
       "      <td>2.6</td>\n",
       "      <td>2.6</td>\n",
       "      <td>0</td>\n",
       "      <td>1.666667</td>\n",
       "      <td>1.0</td>\n",
       "      <td>1.0</td>\n",
       "      <td>1.777778</td>\n",
       "      <td>1.0</td>\n",
       "      <td>2.0</td>\n",
       "    </tr>\n",
       "    <tr>\n",
       "      <th>16367</th>\n",
       "      <td>Manchester City</td>\n",
       "      <td>3</td>\n",
       "      <td>8163</td>\n",
       "      <td>1</td>\n",
       "      <td>2.2</td>\n",
       "      <td>2.2</td>\n",
       "      <td>0</td>\n",
       "      <td>3.200000</td>\n",
       "      <td>3.0</td>\n",
       "      <td>3.0</td>\n",
       "      <td>0.900000</td>\n",
       "      <td>1.0</td>\n",
       "      <td>1.0</td>\n",
       "    </tr>\n",
       "    <tr>\n",
       "      <th>59587</th>\n",
       "      <td>Manchester City</td>\n",
       "      <td>2</td>\n",
       "      <td>11435</td>\n",
       "      <td>1</td>\n",
       "      <td>1.1</td>\n",
       "      <td>1.1</td>\n",
       "      <td>1</td>\n",
       "      <td>2.300000</td>\n",
       "      <td>2.0</td>\n",
       "      <td>2.0</td>\n",
       "      <td>0.900000</td>\n",
       "      <td>0.5</td>\n",
       "      <td>0.0</td>\n",
       "    </tr>\n",
       "  </tbody>\n",
       "</table>\n",
       "<p>128 rows × 13 columns</p>\n",
       "</div>"
      ],
      "text/plain": [
       "                   team  score  index  is_home  avg_scoring_10  \\\n",
       "99593   Manchester City      2   8107        0             2.8   \n",
       "97208   Manchester City      1  75728        0             2.7   \n",
       "101412  Manchester City      3   8079        0             2.6   \n",
       "22198   Manchester City      1   8075        1             1.5   \n",
       "112351  Manchester City      3  89736        0             1.7   \n",
       "...                 ...    ...    ...      ...             ...   \n",
       "139024  Manchester City      4  82632        0             1.4   \n",
       "51661   Manchester City      2  82643        1             3.1   \n",
       "89840   Manchester City      3  80587        0             2.6   \n",
       "16367   Manchester City      3   8163        1             2.2   \n",
       "59587   Manchester City      2  11435        1             1.1   \n",
       "\n",
       "        avg_scoring_20  is_pandemic  mean_score_10  median_score_10  \\\n",
       "99593              2.8            0       1.700000              1.5   \n",
       "97208              2.7            0       1.900000              2.0   \n",
       "101412             2.6            0       1.700000              1.5   \n",
       "22198              1.5            0       3.300000              3.0   \n",
       "112351             1.7            0       2.500000              2.5   \n",
       "...                ...          ...            ...              ...   \n",
       "139024             1.4            1       1.100000              1.0   \n",
       "51661              3.1            1       2.900000              2.5   \n",
       "89840              2.6            0       1.666667              1.0   \n",
       "16367              2.2            0       3.200000              3.0   \n",
       "59587              1.1            1       2.300000              2.0   \n",
       "\n",
       "        mean_score_20  mean_score_10_against  median_score_10_against  \\\n",
       "99593             2.0               1.000000                      1.0   \n",
       "97208             2.0               1.300000                      1.5   \n",
       "101412            2.0               0.800000                      0.5   \n",
       "22198             3.0               0.900000                      0.5   \n",
       "112351            2.0               0.700000                      0.5   \n",
       "...               ...                    ...                      ...   \n",
       "139024            1.0               0.400000                      0.0   \n",
       "51661             2.0               0.600000                      0.0   \n",
       "89840             1.0               1.777778                      1.0   \n",
       "16367             3.0               0.900000                      1.0   \n",
       "59587             2.0               0.900000                      0.5   \n",
       "\n",
       "        mean_score_20_against  \n",
       "99593                     0.5  \n",
       "97208                     1.0  \n",
       "101412                    0.5  \n",
       "22198                     1.0  \n",
       "112351                    1.0  \n",
       "...                       ...  \n",
       "139024                    0.5  \n",
       "51661                     1.0  \n",
       "89840                     2.0  \n",
       "16367                     1.0  \n",
       "59587                     0.0  \n",
       "\n",
       "[128 rows x 13 columns]"
      ]
     },
     "execution_count": 6,
     "metadata": {},
     "output_type": "execute_result"
    }
   ],
   "source": [
    "# train.loc[train['team'] == 'Manchester City']"
   ]
  },
  {
   "cell_type": "code",
   "execution_count": 7,
   "id": "d5ff79e2",
   "metadata": {
    "ExecuteTime": {
     "end_time": "2021-10-16T13:56:52.818523Z",
     "start_time": "2021-10-16T13:56:52.808515Z"
    }
   },
   "outputs": [
    {
     "data": {
      "text/plain": [
       "1.364716147298895"
      ]
     },
     "execution_count": 7,
     "metadata": {},
     "output_type": "execute_result"
    }
   ],
   "source": [
    "# train['avg_scoring_10'].mean()"
   ]
  },
  {
   "cell_type": "code",
   "execution_count": null,
   "outputs": [],
   "source": [],
   "metadata": {
    "collapsed": false,
    "pycharm": {
     "name": "#%%\n"
    }
   }
  }
 ],
 "metadata": {
  "kernelspec": {
   "display_name": "PyCharm (GlickoSoccer)",
   "language": "python",
   "name": "pycharm-128f8376"
  },
  "language_info": {
   "codemirror_mode": {
    "name": "ipython",
    "version": 3
   },
   "file_extension": ".py",
   "mimetype": "text/x-python",
   "name": "python",
   "nbconvert_exporter": "python",
   "pygments_lexer": "ipython3",
   "version": "3.9.7"
  }
 },
 "nbformat": 4,
 "nbformat_minor": 5
}