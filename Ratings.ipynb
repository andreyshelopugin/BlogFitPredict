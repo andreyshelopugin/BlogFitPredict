{
 "cells": [
  {
   "cell_type": "code",
   "execution_count": 1,
   "id": "4a86a728",
   "metadata": {
    "ExecuteTime": {
     "end_time": "2021-10-31T06:23:31.415615Z",
     "start_time": "2021-10-31T06:23:28.418283Z"
    }
   },
   "outputs": [],
   "source": [
    "%reload_ext autoreload\n",
    "%autoreload 2\n",
    "\n",
    "import numpy as np\n",
    "import pandas as pd\n",
    "pd.options.display.max_columns, pd.options.display.max_rows = 500, 200\n",
    "pd.options.display.float_format = '{:.1f}'.format\n",
    "import warnings\n",
    "warnings.filterwarnings('ignore')\n",
    "import joblib\n",
    "\n",
    "from euro_soccer.preprocessing import DataPreprocessor\n",
    "from euro_soccer.glicko_soccer import GlickoSoccer"
   ]
  },
  {
   "cell_type": "code",
   "execution_count": 2,
   "id": "e83e46cd",
   "metadata": {
    "ExecuteTime": {
     "end_time": "2021-10-31T06:23:34.260370Z",
     "start_time": "2021-10-31T06:23:33.632554Z"
    },
    "scrolled": false
   },
   "outputs": [
    {
     "name": "stdout",
     "output_type": "stream",
     "text": [
      "[LightGBM] [Warning] bagging_freq is set=2, subsample_freq=0 will be ignored. Current value: bagging_freq=2\n",
      "[LightGBM] [Warning] feature_fraction is set=0.5, colsample_bytree=1.0 will be ignored. Current value: feature_fraction=0.5\n",
      "[LightGBM] [Warning] bagging_fraction is set=0.7, subsample=1.0 will be ignored. Current value: bagging_fraction=0.7\n",
      "[LightGBM] [Warning] lambda_l2 is set=5.648, reg_lambda=0.0 will be ignored. Current value: lambda_l2=5.648\n",
      "[LightGBM] [Warning] min_data_in_leaf is set=20, min_child_samples=20 will be ignored. Current value: min_data_in_leaf=20\n",
      "[LightGBM] [Warning] lambda_l1 is set=0.0, reg_alpha=0.0 will be ignored. Current value: lambda_l1=0.0\n"
     ]
    },
    {
     "data": {
      "text/plain": "         index       date   home_team       away_team country  \\\n130651  309702 2022-12-31  H. Raanana  Ramat Hasharon  Israel   \n\n                   tournament  season  tournament_type outcome  is_pandemic  \\\n130651  Israel. Leumit League    2021                2       H            0   \n\n        draw_probability  \n130651               0.3  ",
      "text/html": "<div>\n<style scoped>\n    .dataframe tbody tr th:only-of-type {\n        vertical-align: middle;\n    }\n\n    .dataframe tbody tr th {\n        vertical-align: top;\n    }\n\n    .dataframe thead th {\n        text-align: right;\n    }\n</style>\n<table border=\"1\" class=\"dataframe\">\n  <thead>\n    <tr style=\"text-align: right;\">\n      <th></th>\n      <th>index</th>\n      <th>date</th>\n      <th>home_team</th>\n      <th>away_team</th>\n      <th>country</th>\n      <th>tournament</th>\n      <th>season</th>\n      <th>tournament_type</th>\n      <th>outcome</th>\n      <th>is_pandemic</th>\n      <th>draw_probability</th>\n    </tr>\n  </thead>\n  <tbody>\n    <tr>\n      <th>130651</th>\n      <td>309702</td>\n      <td>2022-12-31</td>\n      <td>H. Raanana</td>\n      <td>Ramat Hasharon</td>\n      <td>Israel</td>\n      <td>Israel. Leumit League</td>\n      <td>2021</td>\n      <td>2</td>\n      <td>H</td>\n      <td>0</td>\n      <td>0.3</td>\n    </tr>\n  </tbody>\n</table>\n</div>"
     },
     "execution_count": 2,
     "metadata": {},
     "output_type": "execute_result"
    }
   ],
   "source": [
    "matches = pd.read_csv('matches.csv')\n",
    "matches = DataPreprocessor(is_actual_draw_predictions=True).preprocessing(matches)\n",
    "matches.tail(1)"
   ]
  },
  {
   "cell_type": "code",
   "execution_count": 12,
   "outputs": [],
   "source": [
    "count_matches, count_seasons, count_tournaments = DataPreprocessor().test_data(matches)"
   ],
   "metadata": {
    "collapsed": false,
    "pycharm": {
     "name": "#%%\n"
    }
   }
  },
  {
   "cell_type": "code",
   "execution_count": 13,
   "outputs": [
    {
     "data": {
      "text/plain": "Empty DataFrame\nColumns: [country, tournament_type, season, number_matches]\nIndex: []",
      "text/html": "<div>\n<style scoped>\n    .dataframe tbody tr th:only-of-type {\n        vertical-align: middle;\n    }\n\n    .dataframe tbody tr th {\n        vertical-align: top;\n    }\n\n    .dataframe thead th {\n        text-align: right;\n    }\n</style>\n<table border=\"1\" class=\"dataframe\">\n  <thead>\n    <tr style=\"text-align: right;\">\n      <th></th>\n      <th>country</th>\n      <th>tournament_type</th>\n      <th>season</th>\n      <th>number_matches</th>\n    </tr>\n  </thead>\n  <tbody>\n  </tbody>\n</table>\n</div>"
     },
     "execution_count": 13,
     "metadata": {},
     "output_type": "execute_result"
    }
   ],
   "source": [
    "count_matches"
   ],
   "metadata": {
    "collapsed": false,
    "pycharm": {
     "name": "#%%\n"
    }
   }
  },
  {
   "cell_type": "code",
   "execution_count": 14,
   "outputs": [
    {
     "data": {
      "text/plain": "                     country  tournament_type  number_seasons\n59  Europa Conference League                3               1\n60  Europa Conference League                4               1",
      "text/html": "<div>\n<style scoped>\n    .dataframe tbody tr th:only-of-type {\n        vertical-align: middle;\n    }\n\n    .dataframe tbody tr th {\n        vertical-align: top;\n    }\n\n    .dataframe thead th {\n        text-align: right;\n    }\n</style>\n<table border=\"1\" class=\"dataframe\">\n  <thead>\n    <tr style=\"text-align: right;\">\n      <th></th>\n      <th>country</th>\n      <th>tournament_type</th>\n      <th>number_seasons</th>\n    </tr>\n  </thead>\n  <tbody>\n    <tr>\n      <th>59</th>\n      <td>Europa Conference League</td>\n      <td>3</td>\n      <td>1</td>\n    </tr>\n    <tr>\n      <th>60</th>\n      <td>Europa Conference League</td>\n      <td>4</td>\n      <td>1</td>\n    </tr>\n  </tbody>\n</table>\n</div>"
     },
     "execution_count": 14,
     "metadata": {},
     "output_type": "execute_result"
    }
   ],
   "source": [
    "count_seasons"
   ],
   "metadata": {
    "collapsed": false,
    "pycharm": {
     "name": "#%%\n"
    }
   }
  },
  {
   "cell_type": "code",
   "execution_count": 15,
   "outputs": [
    {
     "data": {
      "text/plain": "Empty DataFrame\nColumns: [country, number_tournaments, tournament_type]\nIndex: []",
      "text/html": "<div>\n<style scoped>\n    .dataframe tbody tr th:only-of-type {\n        vertical-align: middle;\n    }\n\n    .dataframe tbody tr th {\n        vertical-align: top;\n    }\n\n    .dataframe thead th {\n        text-align: right;\n    }\n</style>\n<table border=\"1\" class=\"dataframe\">\n  <thead>\n    <tr style=\"text-align: right;\">\n      <th></th>\n      <th>country</th>\n      <th>number_tournaments</th>\n      <th>tournament_type</th>\n    </tr>\n  </thead>\n  <tbody>\n  </tbody>\n</table>\n</div>"
     },
     "execution_count": 15,
     "metadata": {},
     "output_type": "execute_result"
    }
   ],
   "source": [
    "count_tournaments"
   ],
   "metadata": {
    "collapsed": false,
    "pycharm": {
     "name": "#%%\n"
    }
   }
  },
  {
   "cell_type": "markdown",
   "source": [],
   "metadata": {
    "collapsed": false,
    "pycharm": {
     "name": "#%% md\n"
    }
   }
  },
  {
   "cell_type": "code",
   "execution_count": 16,
   "outputs": [
    {
     "name": "stdout",
     "output_type": "stream",
     "text": [
      "<class 'pandas.core.frame.DataFrame'>\n",
      "Int64Index: 115670 entries, 0 to 130651\n",
      "Data columns (total 11 columns):\n",
      " #   Column            Non-Null Count   Dtype         \n",
      "---  ------            --------------   -----         \n",
      " 0   index             115670 non-null  int64         \n",
      " 1   date              115670 non-null  datetime64[ns]\n",
      " 2   home_team         115670 non-null  object        \n",
      " 3   away_team         115670 non-null  object        \n",
      " 4   country           115670 non-null  object        \n",
      " 5   tournament        115670 non-null  object        \n",
      " 6   season            115670 non-null  int64         \n",
      " 7   tournament_type   115670 non-null  int64         \n",
      " 8   outcome           115670 non-null  object        \n",
      " 9   is_pandemic       115670 non-null  int64         \n",
      " 10  draw_probability  115670 non-null  float64       \n",
      "dtypes: datetime64[ns](1), float64(1), int64(4), object(5)\n",
      "memory usage: 10.6+ MB\n"
     ]
    }
   ],
   "source": [
    "matches.info()"
   ],
   "metadata": {
    "collapsed": false,
    "pycharm": {
     "name": "#%%\n"
    }
   }
  },
  {
   "cell_type": "code",
   "execution_count": 22,
   "id": "e991a1e8",
   "metadata": {
    "ExecuteTime": {
     "end_time": "2021-10-24T11:04:09.063149Z",
     "start_time": "2021-10-24T11:04:08.908334Z"
    }
   },
   "outputs": [],
   "source": [
    "# matches['draw_probability'].mean()"
   ]
  },
  {
   "cell_type": "code",
   "execution_count": 23,
   "id": "71ca8c4a",
   "metadata": {
    "ExecuteTime": {
     "end_time": "2021-10-23T08:31:55.616338Z",
     "start_time": "2021-10-23T08:31:55.175290Z"
    }
   },
   "outputs": [],
   "source": [
    "# # matches.loc[(matches['home_team'].str.contains('B')) & (matches['away_team'].str.contains('AS Roma'))]"
   ]
  },
  {
   "cell_type": "code",
   "execution_count": 24,
   "id": "d2bc426d",
   "metadata": {
    "ExecuteTime": {
     "end_time": "2021-10-17T16:50:39.263142Z",
     "start_time": "2021-10-17T16:50:39.201859Z"
    }
   },
   "outputs": [],
   "source": [
    "# matches.info()"
   ]
  },
  {
   "cell_type": "code",
   "execution_count": 25,
   "outputs": [],
   "source": [
    "# matches['season'].value_counts()"
   ],
   "metadata": {
    "collapsed": false,
    "pycharm": {
     "name": "#%%\n"
    }
   }
  },
  {
   "cell_type": "code",
   "execution_count": 26,
   "outputs": [],
   "source": [
    "# matches.loc[matches['tournament'].str.contains('Con')]"
   ],
   "metadata": {
    "collapsed": false,
    "pycharm": {
     "name": "#%%\n"
    }
   }
  },
  {
   "cell_type": "code",
   "execution_count": 27,
   "outputs": [],
   "source": [
    "# matches.loc[matches['country'].str.contains('Uz')]"
   ],
   "metadata": {
    "collapsed": false,
    "pycharm": {
     "name": "#%%\n"
    }
   }
  },
  {
   "cell_type": "markdown",
   "id": "11653b5c",
   "metadata": {},
   "source": [
    "# Fit Params"
   ]
  },
  {
   "cell_type": "markdown",
   "source": [],
   "metadata": {
    "collapsed": false
   }
  },
  {
   "cell_type": "code",
   "execution_count": null,
   "id": "da811e92",
   "metadata": {
    "ExecuteTime": {
     "end_time": "2021-10-11T10:45:05.038512Z",
     "start_time": "2021-10-11T10:42:55.647176Z"
    },
    "pycharm": {
     "is_executing": true
    }
   },
   "outputs": [
    {
     "name": "stdout",
     "output_type": "stream",
     "text": [
      "Current Loss: 27552.243972951943\n",
      "############################################################################\n",
      "\n",
      "Best Draw Parameter: -0.5537\n",
      "\n",
      "############################################################################\n",
      "\n",
      "Best Volatility Parameter: 0.10400000000000001\n",
      "\n"
     ]
    }
   ],
   "source": [
    "glicko = GlickoSoccer() # 38773 38756\n",
    "league_params = glicko.fit_params(matches, 100, is_params_initialization=False)"
   ]
  },
  {
   "cell_type": "code",
   "execution_count": null,
   "outputs": [],
   "source": [],
   "metadata": {
    "collapsed": false,
    "pycharm": {
     "name": "#%%\n"
    }
   }
  },
  {
   "cell_type": "markdown",
   "source": [],
   "metadata": {
    "collapsed": false
   }
  },
  {
   "cell_type": "markdown",
   "id": "c0b250f0",
   "metadata": {},
   "source": [
    "# Ratings"
   ]
  },
  {
   "cell_type": "code",
   "execution_count": 24,
   "id": "4cd7df5b",
   "metadata": {
    "ExecuteTime": {
     "end_time": "2021-10-31T06:24:00.223216Z",
     "start_time": "2021-10-31T06:23:57.642851Z"
    },
    "scrolled": false
   },
   "outputs": [
    {
     "data": {
      "text/plain": "     #                                             league  rating\n0    1                            England. Premier League  2093.0\n1    2                                     Italy. Serie A  2021.2\n2    3                                      Spain. LaLiga  2021.1\n3    4                            Portugal. Primeira Liga  1984.5\n4    5                                Germany. Bundesliga  1981.8\n5    6                                    France. Ligue 1  1958.9\n6    7                            Netherlands. Eredivisie  1948.3\n7    8                      Faroe Islands. Premier League  1812.7\n8    9                              Scotland. Premiership  1808.5\n9   10                        Belgium. Jupiler Pro League  1804.3\n10  11                            Czech Republic. 1. Liga  1801.6\n11  12                             Cyprus. First Division  1797.8\n12  13                                 Serbia. Super Liga  1792.1\n13  14                                Norway. Eliteserien  1786.1\n14  15                                Austria. Bundesliga  1783.9\n15  16                          Switzerland. Super League  1782.9\n16  17                             Belarus. Vysshaya Liga  1782.6\n17  18                                    Croatia. 1. HNL  1775.2\n18  19                            Ukraine. Premier League  1774.9\n19  20                               Greece. Super League  1769.9\n20  21                                Sweden. Allsvenskan  1767.2\n21  22                                 Denmark. Superliga  1762.5\n22  23                                Israel. Ligat ha'Al  1757.9\n23  24                      Luxembourg. National Division  1757.3\n24  25                           Latvia. Optibet Virsliga  1755.1\n25  26                                     Spain. LaLiga2  1753.1\n26  27                         Moldova. Divizia Nationala  1752.2\n27  28             Bosnia And Herzegovina. Premier League  1746.6\n28  29                                  Kosovo. Superliga  1744.5\n29  30                               Bulgaria. Parva liga  1743.9\n30  31                             Finland. Veikkausliiga  1737.6\n31  32                          Ireland. Premier Division  1736.8\n32  33                                Iceland. Pepsideild  1734.7\n33  34                              Estonia. Meistriliiga  1730.6\n34  35                         Gibraltar. National League  1730.3\n35  36                                  Lithuania. A Lyga  1726.8\n36  37                                  Turkey. Super Lig  1726.4\n37  38                  Georgia. Crystalbet Erovnuli Liga  1721.6\n38  39                             Slovakia. Fortuna liga  1718.8\n39  40                             Russia. Premier League  1718.3\n40  41                            North Macedonia. 1. MFL  1715.2\n41  42                              England. Championship  1710.9\n42  43                             Germany. 2. Bundesliga  1709.5\n43  44                         Kazakhstan. Premier League  1702.6\n44  45                                Poland. Ekstraklasa  1700.4\n45  46                   Montenegro. Prva Crnogorska Liga  1697.7\n46  47                             Hungary. OTP Bank Liga  1696.4\n47  48                                    France. Ligue 2  1695.5\n48  49                                Slovenia. Prva liga  1694.8\n49  50                                     Italy. Serie B  1684.7\n50  51                 Northern Ireland. NIFL Premiership  1680.5\n51  52                          Portugal. Liga Portugal 2  1677.0\n52  53                         Azerbaijan. Premier League  1666.6\n53  54  Armenia. VBET Premier League - Championship Group  1665.6\n54  55                                    Romania. Liga 1  1653.3\n55  56                              Malta. Premier League  1640.1\n56  57                           Andorra. Primera Divisió  1639.0\n57  58                        Netherlands. Eerste Divisie  1622.2\n58  59                                 Albania. Superliga  1588.6\n59  60                               Wales. Cymru Premier  1585.0\n60  61                            North Macedonia. 2. MFL  1564.4\n61  62                                     Turkey. 1. Lig  1547.5\n62  63                      Switzerland. Challenge League  1544.6\n63  64                 San Marino. Campionato Sammarinese  1544.4\n64  65                                 Cyprus. Division 2  1538.4\n65  66                           Iceland. Inkasso-deildin  1537.8\n66  67                             Greece. Super League 2  1534.8\n67  68                                  Slovakia. 2. liga  1532.2\n68  69                             Belgium. 1B Pro League  1514.9\n69  70                                   Slovenia. 2. SNL  1505.7\n70  71                       Hungary. Merkantil Bank Liga  1502.9\n71  72                                        Russia. FNL  1498.8\n72  73                               Bulgaria. Vtora liga  1497.8\n73  74                                  Serbia. Prva Liga  1496.4\n74  75                              Denmark. 1st Division  1495.4\n75  76                             Scotland. Championship  1493.5\n76  77                                 Poland. Division 1  1489.0\n77  78                                Norway. OBOS-ligaen  1487.9\n78  79                               Ukraine. Persha Liga  1485.2\n79  80                              Israel. Leumit League  1484.8\n80  81                                    Romania. Liga 2  1482.8\n81  82           Bosnia And Herzegovina. Prva Liga - FBiH  1466.1\n82  83                                Ireland. Division 1  1459.6\n83  84                                 Sweden. Superettan  1454.2\n84  85                Georgia. Crystalbet Erovnuli Liga 2  1451.6\n85  86                         Czech Republic. Division 2  1448.7\n86  87                                   Finland. Ykkonen  1446.5\n87  88                                   Austria. 2. Liga  1438.3\n88  89                                  Lithuania. I Lyga  1422.7\n89  90                                    Croatia. 2. HNL  1421.6\n90  91                                  Estonia. Esiliiga  1412.4\n91  92                         Kazakhstan. First Division  1405.4\n92  93                             Belarus. Pershaya Liga  1404.1\n93  94                            Malta. Challenge League  1396.3\n94  95                            Albania. First Division  1378.1\n95  96                                    Latvia. 1. Liga  1332.1\n96  97                Northern Ireland. NIFL Championship  1212.3",
      "text/html": "<div>\n<style scoped>\n    .dataframe tbody tr th:only-of-type {\n        vertical-align: middle;\n    }\n\n    .dataframe tbody tr th {\n        vertical-align: top;\n    }\n\n    .dataframe thead th {\n        text-align: right;\n    }\n</style>\n<table border=\"1\" class=\"dataframe\">\n  <thead>\n    <tr style=\"text-align: right;\">\n      <th></th>\n      <th>#</th>\n      <th>league</th>\n      <th>rating</th>\n    </tr>\n  </thead>\n  <tbody>\n    <tr>\n      <th>0</th>\n      <td>1</td>\n      <td>England. Premier League</td>\n      <td>2093.0</td>\n    </tr>\n    <tr>\n      <th>1</th>\n      <td>2</td>\n      <td>Italy. Serie A</td>\n      <td>2021.2</td>\n    </tr>\n    <tr>\n      <th>2</th>\n      <td>3</td>\n      <td>Spain. LaLiga</td>\n      <td>2021.1</td>\n    </tr>\n    <tr>\n      <th>3</th>\n      <td>4</td>\n      <td>Portugal. Primeira Liga</td>\n      <td>1984.5</td>\n    </tr>\n    <tr>\n      <th>4</th>\n      <td>5</td>\n      <td>Germany. Bundesliga</td>\n      <td>1981.8</td>\n    </tr>\n    <tr>\n      <th>5</th>\n      <td>6</td>\n      <td>France. Ligue 1</td>\n      <td>1958.9</td>\n    </tr>\n    <tr>\n      <th>6</th>\n      <td>7</td>\n      <td>Netherlands. Eredivisie</td>\n      <td>1948.3</td>\n    </tr>\n    <tr>\n      <th>7</th>\n      <td>8</td>\n      <td>Faroe Islands. Premier League</td>\n      <td>1812.7</td>\n    </tr>\n    <tr>\n      <th>8</th>\n      <td>9</td>\n      <td>Scotland. Premiership</td>\n      <td>1808.5</td>\n    </tr>\n    <tr>\n      <th>9</th>\n      <td>10</td>\n      <td>Belgium. Jupiler Pro League</td>\n      <td>1804.3</td>\n    </tr>\n    <tr>\n      <th>10</th>\n      <td>11</td>\n      <td>Czech Republic. 1. Liga</td>\n      <td>1801.6</td>\n    </tr>\n    <tr>\n      <th>11</th>\n      <td>12</td>\n      <td>Cyprus. First Division</td>\n      <td>1797.8</td>\n    </tr>\n    <tr>\n      <th>12</th>\n      <td>13</td>\n      <td>Serbia. Super Liga</td>\n      <td>1792.1</td>\n    </tr>\n    <tr>\n      <th>13</th>\n      <td>14</td>\n      <td>Norway. Eliteserien</td>\n      <td>1786.1</td>\n    </tr>\n    <tr>\n      <th>14</th>\n      <td>15</td>\n      <td>Austria. Bundesliga</td>\n      <td>1783.9</td>\n    </tr>\n    <tr>\n      <th>15</th>\n      <td>16</td>\n      <td>Switzerland. Super League</td>\n      <td>1782.9</td>\n    </tr>\n    <tr>\n      <th>16</th>\n      <td>17</td>\n      <td>Belarus. Vysshaya Liga</td>\n      <td>1782.6</td>\n    </tr>\n    <tr>\n      <th>17</th>\n      <td>18</td>\n      <td>Croatia. 1. HNL</td>\n      <td>1775.2</td>\n    </tr>\n    <tr>\n      <th>18</th>\n      <td>19</td>\n      <td>Ukraine. Premier League</td>\n      <td>1774.9</td>\n    </tr>\n    <tr>\n      <th>19</th>\n      <td>20</td>\n      <td>Greece. Super League</td>\n      <td>1769.9</td>\n    </tr>\n    <tr>\n      <th>20</th>\n      <td>21</td>\n      <td>Sweden. Allsvenskan</td>\n      <td>1767.2</td>\n    </tr>\n    <tr>\n      <th>21</th>\n      <td>22</td>\n      <td>Denmark. Superliga</td>\n      <td>1762.5</td>\n    </tr>\n    <tr>\n      <th>22</th>\n      <td>23</td>\n      <td>Israel. Ligat ha'Al</td>\n      <td>1757.9</td>\n    </tr>\n    <tr>\n      <th>23</th>\n      <td>24</td>\n      <td>Luxembourg. National Division</td>\n      <td>1757.3</td>\n    </tr>\n    <tr>\n      <th>24</th>\n      <td>25</td>\n      <td>Latvia. Optibet Virsliga</td>\n      <td>1755.1</td>\n    </tr>\n    <tr>\n      <th>25</th>\n      <td>26</td>\n      <td>Spain. LaLiga2</td>\n      <td>1753.1</td>\n    </tr>\n    <tr>\n      <th>26</th>\n      <td>27</td>\n      <td>Moldova. Divizia Nationala</td>\n      <td>1752.2</td>\n    </tr>\n    <tr>\n      <th>27</th>\n      <td>28</td>\n      <td>Bosnia And Herzegovina. Premier League</td>\n      <td>1746.6</td>\n    </tr>\n    <tr>\n      <th>28</th>\n      <td>29</td>\n      <td>Kosovo. Superliga</td>\n      <td>1744.5</td>\n    </tr>\n    <tr>\n      <th>29</th>\n      <td>30</td>\n      <td>Bulgaria. Parva liga</td>\n      <td>1743.9</td>\n    </tr>\n    <tr>\n      <th>30</th>\n      <td>31</td>\n      <td>Finland. Veikkausliiga</td>\n      <td>1737.6</td>\n    </tr>\n    <tr>\n      <th>31</th>\n      <td>32</td>\n      <td>Ireland. Premier Division</td>\n      <td>1736.8</td>\n    </tr>\n    <tr>\n      <th>32</th>\n      <td>33</td>\n      <td>Iceland. Pepsideild</td>\n      <td>1734.7</td>\n    </tr>\n    <tr>\n      <th>33</th>\n      <td>34</td>\n      <td>Estonia. Meistriliiga</td>\n      <td>1730.6</td>\n    </tr>\n    <tr>\n      <th>34</th>\n      <td>35</td>\n      <td>Gibraltar. National League</td>\n      <td>1730.3</td>\n    </tr>\n    <tr>\n      <th>35</th>\n      <td>36</td>\n      <td>Lithuania. A Lyga</td>\n      <td>1726.8</td>\n    </tr>\n    <tr>\n      <th>36</th>\n      <td>37</td>\n      <td>Turkey. Super Lig</td>\n      <td>1726.4</td>\n    </tr>\n    <tr>\n      <th>37</th>\n      <td>38</td>\n      <td>Georgia. Crystalbet Erovnuli Liga</td>\n      <td>1721.6</td>\n    </tr>\n    <tr>\n      <th>38</th>\n      <td>39</td>\n      <td>Slovakia. Fortuna liga</td>\n      <td>1718.8</td>\n    </tr>\n    <tr>\n      <th>39</th>\n      <td>40</td>\n      <td>Russia. Premier League</td>\n      <td>1718.3</td>\n    </tr>\n    <tr>\n      <th>40</th>\n      <td>41</td>\n      <td>North Macedonia. 1. MFL</td>\n      <td>1715.2</td>\n    </tr>\n    <tr>\n      <th>41</th>\n      <td>42</td>\n      <td>England. Championship</td>\n      <td>1710.9</td>\n    </tr>\n    <tr>\n      <th>42</th>\n      <td>43</td>\n      <td>Germany. 2. Bundesliga</td>\n      <td>1709.5</td>\n    </tr>\n    <tr>\n      <th>43</th>\n      <td>44</td>\n      <td>Kazakhstan. Premier League</td>\n      <td>1702.6</td>\n    </tr>\n    <tr>\n      <th>44</th>\n      <td>45</td>\n      <td>Poland. Ekstraklasa</td>\n      <td>1700.4</td>\n    </tr>\n    <tr>\n      <th>45</th>\n      <td>46</td>\n      <td>Montenegro. Prva Crnogorska Liga</td>\n      <td>1697.7</td>\n    </tr>\n    <tr>\n      <th>46</th>\n      <td>47</td>\n      <td>Hungary. OTP Bank Liga</td>\n      <td>1696.4</td>\n    </tr>\n    <tr>\n      <th>47</th>\n      <td>48</td>\n      <td>France. Ligue 2</td>\n      <td>1695.5</td>\n    </tr>\n    <tr>\n      <th>48</th>\n      <td>49</td>\n      <td>Slovenia. Prva liga</td>\n      <td>1694.8</td>\n    </tr>\n    <tr>\n      <th>49</th>\n      <td>50</td>\n      <td>Italy. Serie B</td>\n      <td>1684.7</td>\n    </tr>\n    <tr>\n      <th>50</th>\n      <td>51</td>\n      <td>Northern Ireland. NIFL Premiership</td>\n      <td>1680.5</td>\n    </tr>\n    <tr>\n      <th>51</th>\n      <td>52</td>\n      <td>Portugal. Liga Portugal 2</td>\n      <td>1677.0</td>\n    </tr>\n    <tr>\n      <th>52</th>\n      <td>53</td>\n      <td>Azerbaijan. Premier League</td>\n      <td>1666.6</td>\n    </tr>\n    <tr>\n      <th>53</th>\n      <td>54</td>\n      <td>Armenia. VBET Premier League - Championship Group</td>\n      <td>1665.6</td>\n    </tr>\n    <tr>\n      <th>54</th>\n      <td>55</td>\n      <td>Romania. Liga 1</td>\n      <td>1653.3</td>\n    </tr>\n    <tr>\n      <th>55</th>\n      <td>56</td>\n      <td>Malta. Premier League</td>\n      <td>1640.1</td>\n    </tr>\n    <tr>\n      <th>56</th>\n      <td>57</td>\n      <td>Andorra. Primera Divisió</td>\n      <td>1639.0</td>\n    </tr>\n    <tr>\n      <th>57</th>\n      <td>58</td>\n      <td>Netherlands. Eerste Divisie</td>\n      <td>1622.2</td>\n    </tr>\n    <tr>\n      <th>58</th>\n      <td>59</td>\n      <td>Albania. Superliga</td>\n      <td>1588.6</td>\n    </tr>\n    <tr>\n      <th>59</th>\n      <td>60</td>\n      <td>Wales. Cymru Premier</td>\n      <td>1585.0</td>\n    </tr>\n    <tr>\n      <th>60</th>\n      <td>61</td>\n      <td>North Macedonia. 2. MFL</td>\n      <td>1564.4</td>\n    </tr>\n    <tr>\n      <th>61</th>\n      <td>62</td>\n      <td>Turkey. 1. Lig</td>\n      <td>1547.5</td>\n    </tr>\n    <tr>\n      <th>62</th>\n      <td>63</td>\n      <td>Switzerland. Challenge League</td>\n      <td>1544.6</td>\n    </tr>\n    <tr>\n      <th>63</th>\n      <td>64</td>\n      <td>San Marino. Campionato Sammarinese</td>\n      <td>1544.4</td>\n    </tr>\n    <tr>\n      <th>64</th>\n      <td>65</td>\n      <td>Cyprus. Division 2</td>\n      <td>1538.4</td>\n    </tr>\n    <tr>\n      <th>65</th>\n      <td>66</td>\n      <td>Iceland. Inkasso-deildin</td>\n      <td>1537.8</td>\n    </tr>\n    <tr>\n      <th>66</th>\n      <td>67</td>\n      <td>Greece. Super League 2</td>\n      <td>1534.8</td>\n    </tr>\n    <tr>\n      <th>67</th>\n      <td>68</td>\n      <td>Slovakia. 2. liga</td>\n      <td>1532.2</td>\n    </tr>\n    <tr>\n      <th>68</th>\n      <td>69</td>\n      <td>Belgium. 1B Pro League</td>\n      <td>1514.9</td>\n    </tr>\n    <tr>\n      <th>69</th>\n      <td>70</td>\n      <td>Slovenia. 2. SNL</td>\n      <td>1505.7</td>\n    </tr>\n    <tr>\n      <th>70</th>\n      <td>71</td>\n      <td>Hungary. Merkantil Bank Liga</td>\n      <td>1502.9</td>\n    </tr>\n    <tr>\n      <th>71</th>\n      <td>72</td>\n      <td>Russia. FNL</td>\n      <td>1498.8</td>\n    </tr>\n    <tr>\n      <th>72</th>\n      <td>73</td>\n      <td>Bulgaria. Vtora liga</td>\n      <td>1497.8</td>\n    </tr>\n    <tr>\n      <th>73</th>\n      <td>74</td>\n      <td>Serbia. Prva Liga</td>\n      <td>1496.4</td>\n    </tr>\n    <tr>\n      <th>74</th>\n      <td>75</td>\n      <td>Denmark. 1st Division</td>\n      <td>1495.4</td>\n    </tr>\n    <tr>\n      <th>75</th>\n      <td>76</td>\n      <td>Scotland. Championship</td>\n      <td>1493.5</td>\n    </tr>\n    <tr>\n      <th>76</th>\n      <td>77</td>\n      <td>Poland. Division 1</td>\n      <td>1489.0</td>\n    </tr>\n    <tr>\n      <th>77</th>\n      <td>78</td>\n      <td>Norway. OBOS-ligaen</td>\n      <td>1487.9</td>\n    </tr>\n    <tr>\n      <th>78</th>\n      <td>79</td>\n      <td>Ukraine. Persha Liga</td>\n      <td>1485.2</td>\n    </tr>\n    <tr>\n      <th>79</th>\n      <td>80</td>\n      <td>Israel. Leumit League</td>\n      <td>1484.8</td>\n    </tr>\n    <tr>\n      <th>80</th>\n      <td>81</td>\n      <td>Romania. Liga 2</td>\n      <td>1482.8</td>\n    </tr>\n    <tr>\n      <th>81</th>\n      <td>82</td>\n      <td>Bosnia And Herzegovina. Prva Liga - FBiH</td>\n      <td>1466.1</td>\n    </tr>\n    <tr>\n      <th>82</th>\n      <td>83</td>\n      <td>Ireland. Division 1</td>\n      <td>1459.6</td>\n    </tr>\n    <tr>\n      <th>83</th>\n      <td>84</td>\n      <td>Sweden. Superettan</td>\n      <td>1454.2</td>\n    </tr>\n    <tr>\n      <th>84</th>\n      <td>85</td>\n      <td>Georgia. Crystalbet Erovnuli Liga 2</td>\n      <td>1451.6</td>\n    </tr>\n    <tr>\n      <th>85</th>\n      <td>86</td>\n      <td>Czech Republic. Division 2</td>\n      <td>1448.7</td>\n    </tr>\n    <tr>\n      <th>86</th>\n      <td>87</td>\n      <td>Finland. Ykkonen</td>\n      <td>1446.5</td>\n    </tr>\n    <tr>\n      <th>87</th>\n      <td>88</td>\n      <td>Austria. 2. Liga</td>\n      <td>1438.3</td>\n    </tr>\n    <tr>\n      <th>88</th>\n      <td>89</td>\n      <td>Lithuania. I Lyga</td>\n      <td>1422.7</td>\n    </tr>\n    <tr>\n      <th>89</th>\n      <td>90</td>\n      <td>Croatia. 2. HNL</td>\n      <td>1421.6</td>\n    </tr>\n    <tr>\n      <th>90</th>\n      <td>91</td>\n      <td>Estonia. Esiliiga</td>\n      <td>1412.4</td>\n    </tr>\n    <tr>\n      <th>91</th>\n      <td>92</td>\n      <td>Kazakhstan. First Division</td>\n      <td>1405.4</td>\n    </tr>\n    <tr>\n      <th>92</th>\n      <td>93</td>\n      <td>Belarus. Pershaya Liga</td>\n      <td>1404.1</td>\n    </tr>\n    <tr>\n      <th>93</th>\n      <td>94</td>\n      <td>Malta. Challenge League</td>\n      <td>1396.3</td>\n    </tr>\n    <tr>\n      <th>94</th>\n      <td>95</td>\n      <td>Albania. First Division</td>\n      <td>1378.1</td>\n    </tr>\n    <tr>\n      <th>95</th>\n      <td>96</td>\n      <td>Latvia. 1. Liga</td>\n      <td>1332.1</td>\n    </tr>\n    <tr>\n      <th>96</th>\n      <td>97</td>\n      <td>Northern Ireland. NIFL Championship</td>\n      <td>1212.3</td>\n    </tr>\n  </tbody>\n</table>\n</div>"
     },
     "execution_count": 24,
     "metadata": {},
     "output_type": "execute_result"
    }
   ],
   "source": [
    "glicko = GlickoSoccer()\n",
    "league_params = joblib.load('data/league_params.pkl')\n",
    "# league_params = glicko._league_params_initialization(matches)\n",
    "ratings = glicko.rate_teams(matches, league_params)\n",
    "ratings = glicko.ratings_to_df(ratings, matches)\n",
    "leagues_ratings = glicko.league_ratings(ratings, number_top_teams=5)\n",
    "# first_leagues = set(matches.loc[matches['tournament_type'] == 1, 'tournament'])\n",
    "# leagues_ratings = leagues_ratings.loc[leagues_ratings['league'].isin(first_leagues)]\n",
    "leagues_ratings"
   ]
  },
  {
   "cell_type": "code",
   "execution_count": 8,
   "id": "c6157e65",
   "metadata": {},
   "outputs": [
    {
     "data": {
      "text/plain": "     #                team  rating                         league\n0    1           Liverpool  2126.8        England. Premier League\n1    2       Bayern Munich  2100.9            Germany. Bundesliga\n2    3     Manchester City  2099.0        England. Premier League\n3    4            FC Porto  2069.3        Portugal. Primeira Liga\n4    5         Real Madrid  2064.1                  Spain. LaLiga\n5    6                Ajax  2038.0        Netherlands. Eredivisie\n6    7               Inter  2024.6                 Italy. Serie A\n7    8             Chelsea  2008.4        England. Premier League\n8    9            Sporting  2008.0        Portugal. Primeira Liga\n9   10       Crvena zvezda  2007.7             Serbia. Super Liga\n10  11            Paris SG  1994.3                France. Ligue 1\n11  12             Rangers  1993.1          Scotland. Premiership\n12  13            AC Milan  1981.6                 Italy. Serie A\n13  14            Juventus  1978.2                 Italy. Serie A\n14  15                 PSV  1976.0        Netherlands. Eredivisie\n15  16    Benfica Portugal  1971.1        Portugal. Primeira Liga\n16  17    Sheriff Tiraspol  1965.1     Moldova. Divizia Nationala\n17  18         Atl. Madrid  1947.4                  Spain. LaLiga\n18  19           Barcelona  1945.6                  Spain. LaLiga\n19  20            Klaksvik  1944.8  Faroe Islands. Premier League\n20  21      Manchester Utd  1940.8        England. Premier League\n21  22             Sevilla  1937.8                  Spain. LaLiga\n22  23         HB Torshavn  1934.1  Faroe Islands. Premier League\n23  24           Tottenham  1933.5        England. Premier League\n24  25            Partizan  1932.5             Serbia. Super Liga\n25  26             Arsenal  1930.5        England. Premier League\n26  27            Atalanta  1922.2                 Italy. Serie A\n27  28            Salzburg  1916.3            Austria. Bundesliga\n28  29       Slavia Prague  1915.6        Czech Republic. 1. Liga\n29  30    Shakhtar Donetsk  1913.1        Ukraine. Premier League\n30  31              Celtic  1911.6          Scotland. Premiership\n31  32           Europa FC  1909.3     Gibraltar. National League\n32  33             AS Roma  1908.4                 Italy. Serie A\n33  34                 RFS  1902.1       Latvia. Optibet Virsliga\n34  35          Bodo/Glimt  1902.0            Norway. Eliteserien\n35  36  Olympiacos Piraeus  1901.2           Greece. Super League\n36  37              Napoli  1896.6                 Italy. Serie A\n37  38               Lille  1896.5                France. Ligue 1\n38  39           Feyenoord  1895.4        Netherlands. Eredivisie\n39  40            Dortmund  1894.8            Germany. Bundesliga\n40  41             Apollon  1892.5         Cyprus. First Division\n41  42               Braga  1890.7        Portugal. Primeira Liga\n42  43                BATE  1890.5         Belarus. Vysshaya Liga\n43  44           D. Zagreb  1889.1                Croatia. 1. HNL\n44  45          Villarreal  1884.8                  Spain. LaLiga\n45  46          RB Leipzig  1883.9            Germany. Bundesliga\n46  47    Bayer Leverkusen  1883.6            Germany. Bundesliga\n47  48                Lyon  1883.3                France. Ligue 1\n48  49               Flora  1883.3          Estonia. Meistriliiga\n49  50            West Ham  1879.0        England. Premier League",
      "text/html": "<div>\n<style scoped>\n    .dataframe tbody tr th:only-of-type {\n        vertical-align: middle;\n    }\n\n    .dataframe tbody tr th {\n        vertical-align: top;\n    }\n\n    .dataframe thead th {\n        text-align: right;\n    }\n</style>\n<table border=\"1\" class=\"dataframe\">\n  <thead>\n    <tr style=\"text-align: right;\">\n      <th></th>\n      <th>#</th>\n      <th>team</th>\n      <th>rating</th>\n      <th>league</th>\n    </tr>\n  </thead>\n  <tbody>\n    <tr>\n      <th>0</th>\n      <td>1</td>\n      <td>Liverpool</td>\n      <td>2126.8</td>\n      <td>England. Premier League</td>\n    </tr>\n    <tr>\n      <th>1</th>\n      <td>2</td>\n      <td>Bayern Munich</td>\n      <td>2100.9</td>\n      <td>Germany. Bundesliga</td>\n    </tr>\n    <tr>\n      <th>2</th>\n      <td>3</td>\n      <td>Manchester City</td>\n      <td>2099.0</td>\n      <td>England. Premier League</td>\n    </tr>\n    <tr>\n      <th>3</th>\n      <td>4</td>\n      <td>FC Porto</td>\n      <td>2069.3</td>\n      <td>Portugal. Primeira Liga</td>\n    </tr>\n    <tr>\n      <th>4</th>\n      <td>5</td>\n      <td>Real Madrid</td>\n      <td>2064.1</td>\n      <td>Spain. LaLiga</td>\n    </tr>\n    <tr>\n      <th>5</th>\n      <td>6</td>\n      <td>Ajax</td>\n      <td>2038.0</td>\n      <td>Netherlands. Eredivisie</td>\n    </tr>\n    <tr>\n      <th>6</th>\n      <td>7</td>\n      <td>Inter</td>\n      <td>2024.6</td>\n      <td>Italy. Serie A</td>\n    </tr>\n    <tr>\n      <th>7</th>\n      <td>8</td>\n      <td>Chelsea</td>\n      <td>2008.4</td>\n      <td>England. Premier League</td>\n    </tr>\n    <tr>\n      <th>8</th>\n      <td>9</td>\n      <td>Sporting</td>\n      <td>2008.0</td>\n      <td>Portugal. Primeira Liga</td>\n    </tr>\n    <tr>\n      <th>9</th>\n      <td>10</td>\n      <td>Crvena zvezda</td>\n      <td>2007.7</td>\n      <td>Serbia. Super Liga</td>\n    </tr>\n    <tr>\n      <th>10</th>\n      <td>11</td>\n      <td>Paris SG</td>\n      <td>1994.3</td>\n      <td>France. Ligue 1</td>\n    </tr>\n    <tr>\n      <th>11</th>\n      <td>12</td>\n      <td>Rangers</td>\n      <td>1993.1</td>\n      <td>Scotland. Premiership</td>\n    </tr>\n    <tr>\n      <th>12</th>\n      <td>13</td>\n      <td>AC Milan</td>\n      <td>1981.6</td>\n      <td>Italy. Serie A</td>\n    </tr>\n    <tr>\n      <th>13</th>\n      <td>14</td>\n      <td>Juventus</td>\n      <td>1978.2</td>\n      <td>Italy. Serie A</td>\n    </tr>\n    <tr>\n      <th>14</th>\n      <td>15</td>\n      <td>PSV</td>\n      <td>1976.0</td>\n      <td>Netherlands. Eredivisie</td>\n    </tr>\n    <tr>\n      <th>15</th>\n      <td>16</td>\n      <td>Benfica Portugal</td>\n      <td>1971.1</td>\n      <td>Portugal. Primeira Liga</td>\n    </tr>\n    <tr>\n      <th>16</th>\n      <td>17</td>\n      <td>Sheriff Tiraspol</td>\n      <td>1965.1</td>\n      <td>Moldova. Divizia Nationala</td>\n    </tr>\n    <tr>\n      <th>17</th>\n      <td>18</td>\n      <td>Atl. Madrid</td>\n      <td>1947.4</td>\n      <td>Spain. LaLiga</td>\n    </tr>\n    <tr>\n      <th>18</th>\n      <td>19</td>\n      <td>Barcelona</td>\n      <td>1945.6</td>\n      <td>Spain. LaLiga</td>\n    </tr>\n    <tr>\n      <th>19</th>\n      <td>20</td>\n      <td>Klaksvik</td>\n      <td>1944.8</td>\n      <td>Faroe Islands. Premier League</td>\n    </tr>\n    <tr>\n      <th>20</th>\n      <td>21</td>\n      <td>Manchester Utd</td>\n      <td>1940.8</td>\n      <td>England. Premier League</td>\n    </tr>\n    <tr>\n      <th>21</th>\n      <td>22</td>\n      <td>Sevilla</td>\n      <td>1937.8</td>\n      <td>Spain. LaLiga</td>\n    </tr>\n    <tr>\n      <th>22</th>\n      <td>23</td>\n      <td>HB Torshavn</td>\n      <td>1934.1</td>\n      <td>Faroe Islands. Premier League</td>\n    </tr>\n    <tr>\n      <th>23</th>\n      <td>24</td>\n      <td>Tottenham</td>\n      <td>1933.5</td>\n      <td>England. Premier League</td>\n    </tr>\n    <tr>\n      <th>24</th>\n      <td>25</td>\n      <td>Partizan</td>\n      <td>1932.5</td>\n      <td>Serbia. Super Liga</td>\n    </tr>\n    <tr>\n      <th>25</th>\n      <td>26</td>\n      <td>Arsenal</td>\n      <td>1930.5</td>\n      <td>England. Premier League</td>\n    </tr>\n    <tr>\n      <th>26</th>\n      <td>27</td>\n      <td>Atalanta</td>\n      <td>1922.2</td>\n      <td>Italy. Serie A</td>\n    </tr>\n    <tr>\n      <th>27</th>\n      <td>28</td>\n      <td>Salzburg</td>\n      <td>1916.3</td>\n      <td>Austria. Bundesliga</td>\n    </tr>\n    <tr>\n      <th>28</th>\n      <td>29</td>\n      <td>Slavia Prague</td>\n      <td>1915.6</td>\n      <td>Czech Republic. 1. Liga</td>\n    </tr>\n    <tr>\n      <th>29</th>\n      <td>30</td>\n      <td>Shakhtar Donetsk</td>\n      <td>1913.1</td>\n      <td>Ukraine. Premier League</td>\n    </tr>\n    <tr>\n      <th>30</th>\n      <td>31</td>\n      <td>Celtic</td>\n      <td>1911.6</td>\n      <td>Scotland. Premiership</td>\n    </tr>\n    <tr>\n      <th>31</th>\n      <td>32</td>\n      <td>Europa FC</td>\n      <td>1909.3</td>\n      <td>Gibraltar. National League</td>\n    </tr>\n    <tr>\n      <th>32</th>\n      <td>33</td>\n      <td>AS Roma</td>\n      <td>1908.4</td>\n      <td>Italy. Serie A</td>\n    </tr>\n    <tr>\n      <th>33</th>\n      <td>34</td>\n      <td>RFS</td>\n      <td>1902.1</td>\n      <td>Latvia. Optibet Virsliga</td>\n    </tr>\n    <tr>\n      <th>34</th>\n      <td>35</td>\n      <td>Bodo/Glimt</td>\n      <td>1902.0</td>\n      <td>Norway. Eliteserien</td>\n    </tr>\n    <tr>\n      <th>35</th>\n      <td>36</td>\n      <td>Olympiacos Piraeus</td>\n      <td>1901.2</td>\n      <td>Greece. Super League</td>\n    </tr>\n    <tr>\n      <th>36</th>\n      <td>37</td>\n      <td>Napoli</td>\n      <td>1896.6</td>\n      <td>Italy. Serie A</td>\n    </tr>\n    <tr>\n      <th>37</th>\n      <td>38</td>\n      <td>Lille</td>\n      <td>1896.5</td>\n      <td>France. Ligue 1</td>\n    </tr>\n    <tr>\n      <th>38</th>\n      <td>39</td>\n      <td>Feyenoord</td>\n      <td>1895.4</td>\n      <td>Netherlands. Eredivisie</td>\n    </tr>\n    <tr>\n      <th>39</th>\n      <td>40</td>\n      <td>Dortmund</td>\n      <td>1894.8</td>\n      <td>Germany. Bundesliga</td>\n    </tr>\n    <tr>\n      <th>40</th>\n      <td>41</td>\n      <td>Apollon</td>\n      <td>1892.5</td>\n      <td>Cyprus. First Division</td>\n    </tr>\n    <tr>\n      <th>41</th>\n      <td>42</td>\n      <td>Braga</td>\n      <td>1890.7</td>\n      <td>Portugal. Primeira Liga</td>\n    </tr>\n    <tr>\n      <th>42</th>\n      <td>43</td>\n      <td>BATE</td>\n      <td>1890.5</td>\n      <td>Belarus. Vysshaya Liga</td>\n    </tr>\n    <tr>\n      <th>43</th>\n      <td>44</td>\n      <td>D. Zagreb</td>\n      <td>1889.1</td>\n      <td>Croatia. 1. HNL</td>\n    </tr>\n    <tr>\n      <th>44</th>\n      <td>45</td>\n      <td>Villarreal</td>\n      <td>1884.8</td>\n      <td>Spain. LaLiga</td>\n    </tr>\n    <tr>\n      <th>45</th>\n      <td>46</td>\n      <td>RB Leipzig</td>\n      <td>1883.9</td>\n      <td>Germany. Bundesliga</td>\n    </tr>\n    <tr>\n      <th>46</th>\n      <td>47</td>\n      <td>Bayer Leverkusen</td>\n      <td>1883.6</td>\n      <td>Germany. Bundesliga</td>\n    </tr>\n    <tr>\n      <th>47</th>\n      <td>48</td>\n      <td>Lyon</td>\n      <td>1883.3</td>\n      <td>France. Ligue 1</td>\n    </tr>\n    <tr>\n      <th>48</th>\n      <td>49</td>\n      <td>Flora</td>\n      <td>1883.3</td>\n      <td>Estonia. Meistriliiga</td>\n    </tr>\n    <tr>\n      <th>49</th>\n      <td>50</td>\n      <td>West Ham</td>\n      <td>1879.0</td>\n      <td>England. Premier League</td>\n    </tr>\n  </tbody>\n</table>\n</div>"
     },
     "execution_count": 8,
     "metadata": {},
     "output_type": "execute_result"
    }
   ],
   "source": [
    "ratings.head(50)"
   ]
  },
  {
   "cell_type": "markdown",
   "id": "7ebcdb5e",
   "metadata": {},
   "source": [
    "# Skellam"
   ]
  },
  {
   "cell_type": "code",
   "execution_count": 9,
   "id": "fdac8ee0",
   "metadata": {
    "ExecuteTime": {
     "end_time": "2021-10-16T16:01:42.563459Z",
     "start_time": "2021-10-16T16:01:42.504174Z"
    }
   },
   "outputs": [
    {
     "ename": "OSError",
     "evalue": "dlopen(/Users/andreyshelopugin/opt/anaconda3/lib/python3.8/site-packages/lightgbm/lib_lightgbm.so, 6): Library not loaded: /usr/local/opt/libomp/lib/libomp.dylib\n  Referenced from: /Users/andreyshelopugin/opt/anaconda3/lib/python3.8/site-packages/lightgbm/lib_lightgbm.so\n  Reason: image not found",
     "output_type": "error",
     "traceback": [
      "\u001B[0;31m---------------------------------------------------------------------------\u001B[0m",
      "\u001B[0;31mOSError\u001B[0m                                   Traceback (most recent call last)",
      "\u001B[0;32m/var/folders/pn/rskcs8bx49l1trxp7mnwcdyr0000gn/T/ipykernel_17825/4045259088.py\u001B[0m in \u001B[0;36m<module>\u001B[0;34m\u001B[0m\n\u001B[0;32m----> 1\u001B[0;31m \u001B[0;32mfrom\u001B[0m \u001B[0meuro_soccer\u001B[0m\u001B[0;34m.\u001B[0m\u001B[0mdraw_model\u001B[0m \u001B[0;32mimport\u001B[0m \u001B[0mDrawLightGBM\u001B[0m\u001B[0;34m\u001B[0m\u001B[0;34m\u001B[0m\u001B[0m\n\u001B[0m\u001B[1;32m      2\u001B[0m \u001B[0;34m\u001B[0m\u001B[0m\n\u001B[1;32m      3\u001B[0m \u001B[0mDrawLightGBM\u001B[0m\u001B[0;34m(\u001B[0m\u001B[0;34m)\u001B[0m\u001B[0;34m.\u001B[0m\u001B[0mcross_val_score\u001B[0m\u001B[0;34m(\u001B[0m\u001B[0;34m)\u001B[0m\u001B[0;34m\u001B[0m\u001B[0;34m\u001B[0m\u001B[0m\n",
      "\u001B[0;32m~/PycharmProjects/GlickoSoccer/euro_soccer/draw_model.py\u001B[0m in \u001B[0;36m<module>\u001B[0;34m\u001B[0m\n\u001B[1;32m      4\u001B[0m \u001B[0;32mimport\u001B[0m \u001B[0mpandas\u001B[0m \u001B[0;32mas\u001B[0m \u001B[0mpd\u001B[0m\u001B[0;34m\u001B[0m\u001B[0;34m\u001B[0m\u001B[0m\n\u001B[1;32m      5\u001B[0m \u001B[0;31m# import shap\u001B[0m\u001B[0;34m\u001B[0m\u001B[0;34m\u001B[0m\u001B[0;34m\u001B[0m\u001B[0m\n\u001B[0;32m----> 6\u001B[0;31m \u001B[0;32mfrom\u001B[0m \u001B[0mlightgbm\u001B[0m \u001B[0;32mimport\u001B[0m \u001B[0mLGBMRegressor\u001B[0m\u001B[0;34m\u001B[0m\u001B[0;34m\u001B[0m\u001B[0m\n\u001B[0m\u001B[1;32m      7\u001B[0m \u001B[0;32mimport\u001B[0m \u001B[0mlightgbm\u001B[0m \u001B[0;32mas\u001B[0m \u001B[0mlgb\u001B[0m\u001B[0;34m\u001B[0m\u001B[0;34m\u001B[0m\u001B[0m\n\u001B[1;32m      8\u001B[0m \u001B[0;32mfrom\u001B[0m \u001B[0mscipy\u001B[0m\u001B[0;34m.\u001B[0m\u001B[0mstats\u001B[0m \u001B[0;32mimport\u001B[0m \u001B[0mskellam\u001B[0m\u001B[0;34m\u001B[0m\u001B[0;34m\u001B[0m\u001B[0m\n",
      "\u001B[0;32m~/opt/anaconda3/lib/python3.8/site-packages/lightgbm/__init__.py\u001B[0m in \u001B[0;36m<module>\u001B[0;34m\u001B[0m\n\u001B[1;32m      6\u001B[0m \u001B[0;32mfrom\u001B[0m \u001B[0mpathlib\u001B[0m \u001B[0;32mimport\u001B[0m \u001B[0mPath\u001B[0m\u001B[0;34m\u001B[0m\u001B[0;34m\u001B[0m\u001B[0m\n\u001B[1;32m      7\u001B[0m \u001B[0;34m\u001B[0m\u001B[0m\n\u001B[0;32m----> 8\u001B[0;31m \u001B[0;32mfrom\u001B[0m \u001B[0;34m.\u001B[0m\u001B[0mbasic\u001B[0m \u001B[0;32mimport\u001B[0m \u001B[0mBooster\u001B[0m\u001B[0;34m,\u001B[0m \u001B[0mDataset\u001B[0m\u001B[0;34m,\u001B[0m \u001B[0mSequence\u001B[0m\u001B[0;34m,\u001B[0m \u001B[0mregister_logger\u001B[0m\u001B[0;34m\u001B[0m\u001B[0;34m\u001B[0m\u001B[0m\n\u001B[0m\u001B[1;32m      9\u001B[0m \u001B[0;32mfrom\u001B[0m \u001B[0;34m.\u001B[0m\u001B[0mcallback\u001B[0m \u001B[0;32mimport\u001B[0m \u001B[0mearly_stopping\u001B[0m\u001B[0;34m,\u001B[0m \u001B[0mlog_evaluation\u001B[0m\u001B[0;34m,\u001B[0m \u001B[0mprint_evaluation\u001B[0m\u001B[0;34m,\u001B[0m \u001B[0mrecord_evaluation\u001B[0m\u001B[0;34m,\u001B[0m \u001B[0mreset_parameter\u001B[0m\u001B[0;34m\u001B[0m\u001B[0;34m\u001B[0m\u001B[0m\n\u001B[1;32m     10\u001B[0m \u001B[0;32mfrom\u001B[0m \u001B[0;34m.\u001B[0m\u001B[0mengine\u001B[0m \u001B[0;32mimport\u001B[0m \u001B[0mCVBooster\u001B[0m\u001B[0;34m,\u001B[0m \u001B[0mcv\u001B[0m\u001B[0;34m,\u001B[0m \u001B[0mtrain\u001B[0m\u001B[0;34m\u001B[0m\u001B[0;34m\u001B[0m\u001B[0m\n",
      "\u001B[0;32m~/opt/anaconda3/lib/python3.8/site-packages/lightgbm/basic.py\u001B[0m in \u001B[0;36m<module>\u001B[0;34m\u001B[0m\n\u001B[1;32m    108\u001B[0m \u001B[0;34m\u001B[0m\u001B[0m\n\u001B[1;32m    109\u001B[0m \u001B[0;34m\u001B[0m\u001B[0m\n\u001B[0;32m--> 110\u001B[0;31m \u001B[0m_LIB\u001B[0m \u001B[0;34m=\u001B[0m \u001B[0m_load_lib\u001B[0m\u001B[0;34m(\u001B[0m\u001B[0;34m)\u001B[0m\u001B[0;34m\u001B[0m\u001B[0;34m\u001B[0m\u001B[0m\n\u001B[0m\u001B[1;32m    111\u001B[0m \u001B[0;34m\u001B[0m\u001B[0m\n\u001B[1;32m    112\u001B[0m \u001B[0;34m\u001B[0m\u001B[0m\n",
      "\u001B[0;32m~/opt/anaconda3/lib/python3.8/site-packages/lightgbm/basic.py\u001B[0m in \u001B[0;36m_load_lib\u001B[0;34m()\u001B[0m\n\u001B[1;32m     99\u001B[0m     \u001B[0;32mif\u001B[0m \u001B[0mlen\u001B[0m\u001B[0;34m(\u001B[0m\u001B[0mlib_path\u001B[0m\u001B[0;34m)\u001B[0m \u001B[0;34m==\u001B[0m \u001B[0;36m0\u001B[0m\u001B[0;34m:\u001B[0m\u001B[0;34m\u001B[0m\u001B[0;34m\u001B[0m\u001B[0m\n\u001B[1;32m    100\u001B[0m         \u001B[0;32mreturn\u001B[0m \u001B[0;32mNone\u001B[0m\u001B[0;34m\u001B[0m\u001B[0;34m\u001B[0m\u001B[0m\n\u001B[0;32m--> 101\u001B[0;31m     \u001B[0mlib\u001B[0m \u001B[0;34m=\u001B[0m \u001B[0mctypes\u001B[0m\u001B[0;34m.\u001B[0m\u001B[0mcdll\u001B[0m\u001B[0;34m.\u001B[0m\u001B[0mLoadLibrary\u001B[0m\u001B[0;34m(\u001B[0m\u001B[0mlib_path\u001B[0m\u001B[0;34m[\u001B[0m\u001B[0;36m0\u001B[0m\u001B[0;34m]\u001B[0m\u001B[0;34m)\u001B[0m\u001B[0;34m\u001B[0m\u001B[0;34m\u001B[0m\u001B[0m\n\u001B[0m\u001B[1;32m    102\u001B[0m     \u001B[0mlib\u001B[0m\u001B[0;34m.\u001B[0m\u001B[0mLGBM_GetLastError\u001B[0m\u001B[0;34m.\u001B[0m\u001B[0mrestype\u001B[0m \u001B[0;34m=\u001B[0m \u001B[0mctypes\u001B[0m\u001B[0;34m.\u001B[0m\u001B[0mc_char_p\u001B[0m\u001B[0;34m\u001B[0m\u001B[0;34m\u001B[0m\u001B[0m\n\u001B[1;32m    103\u001B[0m     \u001B[0mcallback\u001B[0m \u001B[0;34m=\u001B[0m \u001B[0mctypes\u001B[0m\u001B[0;34m.\u001B[0m\u001B[0mCFUNCTYPE\u001B[0m\u001B[0;34m(\u001B[0m\u001B[0;32mNone\u001B[0m\u001B[0;34m,\u001B[0m \u001B[0mctypes\u001B[0m\u001B[0;34m.\u001B[0m\u001B[0mc_char_p\u001B[0m\u001B[0;34m)\u001B[0m\u001B[0;34m\u001B[0m\u001B[0;34m\u001B[0m\u001B[0m\n",
      "\u001B[0;32m~/opt/anaconda3/lib/python3.8/ctypes/__init__.py\u001B[0m in \u001B[0;36mLoadLibrary\u001B[0;34m(self, name)\u001B[0m\n\u001B[1;32m    457\u001B[0m \u001B[0;34m\u001B[0m\u001B[0m\n\u001B[1;32m    458\u001B[0m     \u001B[0;32mdef\u001B[0m \u001B[0mLoadLibrary\u001B[0m\u001B[0;34m(\u001B[0m\u001B[0mself\u001B[0m\u001B[0;34m,\u001B[0m \u001B[0mname\u001B[0m\u001B[0;34m)\u001B[0m\u001B[0;34m:\u001B[0m\u001B[0;34m\u001B[0m\u001B[0;34m\u001B[0m\u001B[0m\n\u001B[0;32m--> 459\u001B[0;31m         \u001B[0;32mreturn\u001B[0m \u001B[0mself\u001B[0m\u001B[0;34m.\u001B[0m\u001B[0m_dlltype\u001B[0m\u001B[0;34m(\u001B[0m\u001B[0mname\u001B[0m\u001B[0;34m)\u001B[0m\u001B[0;34m\u001B[0m\u001B[0;34m\u001B[0m\u001B[0m\n\u001B[0m\u001B[1;32m    460\u001B[0m \u001B[0;34m\u001B[0m\u001B[0m\n\u001B[1;32m    461\u001B[0m \u001B[0mcdll\u001B[0m \u001B[0;34m=\u001B[0m \u001B[0mLibraryLoader\u001B[0m\u001B[0;34m(\u001B[0m\u001B[0mCDLL\u001B[0m\u001B[0;34m)\u001B[0m\u001B[0;34m\u001B[0m\u001B[0;34m\u001B[0m\u001B[0m\n",
      "\u001B[0;32m~/opt/anaconda3/lib/python3.8/ctypes/__init__.py\u001B[0m in \u001B[0;36m__init__\u001B[0;34m(self, name, mode, handle, use_errno, use_last_error, winmode)\u001B[0m\n\u001B[1;32m    379\u001B[0m \u001B[0;34m\u001B[0m\u001B[0m\n\u001B[1;32m    380\u001B[0m         \u001B[0;32mif\u001B[0m \u001B[0mhandle\u001B[0m \u001B[0;32mis\u001B[0m \u001B[0;32mNone\u001B[0m\u001B[0;34m:\u001B[0m\u001B[0;34m\u001B[0m\u001B[0;34m\u001B[0m\u001B[0m\n\u001B[0;32m--> 381\u001B[0;31m             \u001B[0mself\u001B[0m\u001B[0;34m.\u001B[0m\u001B[0m_handle\u001B[0m \u001B[0;34m=\u001B[0m \u001B[0m_dlopen\u001B[0m\u001B[0;34m(\u001B[0m\u001B[0mself\u001B[0m\u001B[0;34m.\u001B[0m\u001B[0m_name\u001B[0m\u001B[0;34m,\u001B[0m \u001B[0mmode\u001B[0m\u001B[0;34m)\u001B[0m\u001B[0;34m\u001B[0m\u001B[0;34m\u001B[0m\u001B[0m\n\u001B[0m\u001B[1;32m    382\u001B[0m         \u001B[0;32melse\u001B[0m\u001B[0;34m:\u001B[0m\u001B[0;34m\u001B[0m\u001B[0;34m\u001B[0m\u001B[0m\n\u001B[1;32m    383\u001B[0m             \u001B[0mself\u001B[0m\u001B[0;34m.\u001B[0m\u001B[0m_handle\u001B[0m \u001B[0;34m=\u001B[0m \u001B[0mhandle\u001B[0m\u001B[0;34m\u001B[0m\u001B[0;34m\u001B[0m\u001B[0m\n",
      "\u001B[0;31mOSError\u001B[0m: dlopen(/Users/andreyshelopugin/opt/anaconda3/lib/python3.8/site-packages/lightgbm/lib_lightgbm.so, 6): Library not loaded: /usr/local/opt/libomp/lib/libomp.dylib\n  Referenced from: /Users/andreyshelopugin/opt/anaconda3/lib/python3.8/site-packages/lightgbm/lib_lightgbm.so\n  Reason: image not found"
     ]
    }
   ],
   "source": [
    "# from euro_soccer.draw_model import DrawLightGBM\n",
    "\n",
    "DrawLightGBM().cross_val_score()"
   ]
  },
  {
   "cell_type": "code",
   "execution_count": null,
   "id": "312839bf",
   "metadata": {},
   "outputs": [],
   "source": []
  },
  {
   "cell_type": "code",
   "execution_count": 5,
   "id": "c2fcc9b7",
   "metadata": {
    "ExecuteTime": {
     "end_time": "2021-10-16T13:28:56.955628Z",
     "start_time": "2021-10-16T13:28:56.890048Z"
    }
   },
   "outputs": [
    {
     "data": {
      "text/html": [
       "<div>\n",
       "<style scoped>\n",
       "    .dataframe tbody tr th:only-of-type {\n",
       "        vertical-align: middle;\n",
       "    }\n",
       "\n",
       "    .dataframe tbody tr th {\n",
       "        vertical-align: top;\n",
       "    }\n",
       "\n",
       "    .dataframe thead th {\n",
       "        text-align: right;\n",
       "    }\n",
       "</style>\n",
       "<table border=\"1\" class=\"dataframe\">\n",
       "  <thead>\n",
       "    <tr style=\"text-align: right;\">\n",
       "      <th></th>\n",
       "      <th>team</th>\n",
       "      <th>score</th>\n",
       "      <th>index</th>\n",
       "      <th>is_home</th>\n",
       "      <th>avg_scoring_10</th>\n",
       "      <th>avg_scoring_20</th>\n",
       "      <th>is_pandemic</th>\n",
       "      <th>mean_score_10</th>\n",
       "      <th>median_score_10</th>\n",
       "      <th>mean_score_20</th>\n",
       "      <th>mean_score_10_against</th>\n",
       "      <th>median_score_10_against</th>\n",
       "      <th>mean_score_20_against</th>\n",
       "    </tr>\n",
       "  </thead>\n",
       "  <tbody>\n",
       "    <tr>\n",
       "      <th>129670</th>\n",
       "      <td>Den Bosch</td>\n",
       "      <td>2</td>\n",
       "      <td>69077</td>\n",
       "      <td>0</td>\n",
       "      <td>2.500000</td>\n",
       "      <td>2.5</td>\n",
       "      <td>1</td>\n",
       "      <td>1.800000</td>\n",
       "      <td>1.5</td>\n",
       "      <td>1.5</td>\n",
       "      <td>1.700000</td>\n",
       "      <td>1.0</td>\n",
       "      <td>2.0</td>\n",
       "    </tr>\n",
       "    <tr>\n",
       "      <th>4917</th>\n",
       "      <td>Dubnica</td>\n",
       "      <td>5</td>\n",
       "      <td>67608</td>\n",
       "      <td>1</td>\n",
       "      <td>1.444444</td>\n",
       "      <td>NaN</td>\n",
       "      <td>0</td>\n",
       "      <td>0.777778</td>\n",
       "      <td>1.0</td>\n",
       "      <td>1.0</td>\n",
       "      <td>3.222222</td>\n",
       "      <td>3.0</td>\n",
       "      <td>3.0</td>\n",
       "    </tr>\n",
       "    <tr>\n",
       "      <th>17732</th>\n",
       "      <td>Rapid Vienna</td>\n",
       "      <td>2</td>\n",
       "      <td>27656</td>\n",
       "      <td>1</td>\n",
       "      <td>2.400000</td>\n",
       "      <td>2.4</td>\n",
       "      <td>0</td>\n",
       "      <td>1.100000</td>\n",
       "      <td>0.5</td>\n",
       "      <td>1.0</td>\n",
       "      <td>0.600000</td>\n",
       "      <td>0.0</td>\n",
       "      <td>1.0</td>\n",
       "    </tr>\n",
       "    <tr>\n",
       "      <th>132205</th>\n",
       "      <td>Chambly</td>\n",
       "      <td>2</td>\n",
       "      <td>51277</td>\n",
       "      <td>0</td>\n",
       "      <td>1.200000</td>\n",
       "      <td>1.2</td>\n",
       "      <td>1</td>\n",
       "      <td>1.100000</td>\n",
       "      <td>0.5</td>\n",
       "      <td>1.0</td>\n",
       "      <td>0.800000</td>\n",
       "      <td>0.5</td>\n",
       "      <td>1.0</td>\n",
       "    </tr>\n",
       "    <tr>\n",
       "      <th>115031</th>\n",
       "      <td>Tobol</td>\n",
       "      <td>0</td>\n",
       "      <td>10064</td>\n",
       "      <td>0</td>\n",
       "      <td>1.300000</td>\n",
       "      <td>1.3</td>\n",
       "      <td>0</td>\n",
       "      <td>1.200000</td>\n",
       "      <td>1.0</td>\n",
       "      <td>1.0</td>\n",
       "      <td>0.300000</td>\n",
       "      <td>0.0</td>\n",
       "      <td>0.0</td>\n",
       "    </tr>\n",
       "  </tbody>\n",
       "</table>\n",
       "</div>"
      ],
      "text/plain": [
       "                team  score  index  is_home  avg_scoring_10  avg_scoring_20  \\\n",
       "129670     Den Bosch      2  69077        0        2.500000             2.5   \n",
       "4917         Dubnica      5  67608        1        1.444444             NaN   \n",
       "17732   Rapid Vienna      2  27656        1        2.400000             2.4   \n",
       "132205       Chambly      2  51277        0        1.200000             1.2   \n",
       "115031         Tobol      0  10064        0        1.300000             1.3   \n",
       "\n",
       "        is_pandemic  mean_score_10  median_score_10  mean_score_20  \\\n",
       "129670            1       1.800000              1.5            1.5   \n",
       "4917              0       0.777778              1.0            1.0   \n",
       "17732             0       1.100000              0.5            1.0   \n",
       "132205            1       1.100000              0.5            1.0   \n",
       "115031            0       1.200000              1.0            1.0   \n",
       "\n",
       "        mean_score_10_against  median_score_10_against  mean_score_20_against  \n",
       "129670               1.700000                      1.0                    2.0  \n",
       "4917                 3.222222                      3.0                    3.0  \n",
       "17732                0.600000                      0.0                    1.0  \n",
       "132205               0.800000                      0.5                    1.0  \n",
       "115031               0.300000                      0.0                    0.0  "
      ]
     },
     "execution_count": 5,
     "metadata": {},
     "output_type": "execute_result"
    }
   ],
   "source": [
    "# import joblib\n",
    "train = joblib.load('data/train.pkl')\n",
    "train.head()"
   ]
  },
  {
   "cell_type": "code",
   "execution_count": 6,
   "id": "fd266457",
   "metadata": {
    "ExecuteTime": {
     "end_time": "2021-10-16T13:30:08.902908Z",
     "start_time": "2021-10-16T13:30:08.869178Z"
    }
   },
   "outputs": [
    {
     "data": {
      "text/html": [
       "<div>\n",
       "<style scoped>\n",
       "    .dataframe tbody tr th:only-of-type {\n",
       "        vertical-align: middle;\n",
       "    }\n",
       "\n",
       "    .dataframe tbody tr th {\n",
       "        vertical-align: top;\n",
       "    }\n",
       "\n",
       "    .dataframe thead th {\n",
       "        text-align: right;\n",
       "    }\n",
       "</style>\n",
       "<table border=\"1\" class=\"dataframe\">\n",
       "  <thead>\n",
       "    <tr style=\"text-align: right;\">\n",
       "      <th></th>\n",
       "      <th>team</th>\n",
       "      <th>score</th>\n",
       "      <th>index</th>\n",
       "      <th>is_home</th>\n",
       "      <th>avg_scoring_10</th>\n",
       "      <th>avg_scoring_20</th>\n",
       "      <th>is_pandemic</th>\n",
       "      <th>mean_score_10</th>\n",
       "      <th>median_score_10</th>\n",
       "      <th>mean_score_20</th>\n",
       "      <th>mean_score_10_against</th>\n",
       "      <th>median_score_10_against</th>\n",
       "      <th>mean_score_20_against</th>\n",
       "    </tr>\n",
       "  </thead>\n",
       "  <tbody>\n",
       "    <tr>\n",
       "      <th>99593</th>\n",
       "      <td>Manchester City</td>\n",
       "      <td>2</td>\n",
       "      <td>8107</td>\n",
       "      <td>0</td>\n",
       "      <td>2.8</td>\n",
       "      <td>2.8</td>\n",
       "      <td>0</td>\n",
       "      <td>1.700000</td>\n",
       "      <td>1.5</td>\n",
       "      <td>2.0</td>\n",
       "      <td>1.000000</td>\n",
       "      <td>1.0</td>\n",
       "      <td>0.5</td>\n",
       "    </tr>\n",
       "    <tr>\n",
       "      <th>97208</th>\n",
       "      <td>Manchester City</td>\n",
       "      <td>1</td>\n",
       "      <td>75728</td>\n",
       "      <td>0</td>\n",
       "      <td>2.7</td>\n",
       "      <td>2.7</td>\n",
       "      <td>0</td>\n",
       "      <td>1.900000</td>\n",
       "      <td>2.0</td>\n",
       "      <td>2.0</td>\n",
       "      <td>1.300000</td>\n",
       "      <td>1.5</td>\n",
       "      <td>1.0</td>\n",
       "    </tr>\n",
       "    <tr>\n",
       "      <th>101412</th>\n",
       "      <td>Manchester City</td>\n",
       "      <td>3</td>\n",
       "      <td>8079</td>\n",
       "      <td>0</td>\n",
       "      <td>2.6</td>\n",
       "      <td>2.6</td>\n",
       "      <td>0</td>\n",
       "      <td>1.700000</td>\n",
       "      <td>1.5</td>\n",
       "      <td>2.0</td>\n",
       "      <td>0.800000</td>\n",
       "      <td>0.5</td>\n",
       "      <td>0.5</td>\n",
       "    </tr>\n",
       "    <tr>\n",
       "      <th>22198</th>\n",
       "      <td>Manchester City</td>\n",
       "      <td>1</td>\n",
       "      <td>8075</td>\n",
       "      <td>1</td>\n",
       "      <td>1.5</td>\n",
       "      <td>1.5</td>\n",
       "      <td>0</td>\n",
       "      <td>3.300000</td>\n",
       "      <td>3.0</td>\n",
       "      <td>3.0</td>\n",
       "      <td>0.900000</td>\n",
       "      <td>0.5</td>\n",
       "      <td>1.0</td>\n",
       "    </tr>\n",
       "    <tr>\n",
       "      <th>112351</th>\n",
       "      <td>Manchester City</td>\n",
       "      <td>3</td>\n",
       "      <td>89736</td>\n",
       "      <td>0</td>\n",
       "      <td>1.7</td>\n",
       "      <td>1.7</td>\n",
       "      <td>0</td>\n",
       "      <td>2.500000</td>\n",
       "      <td>2.5</td>\n",
       "      <td>2.0</td>\n",
       "      <td>0.700000</td>\n",
       "      <td>0.5</td>\n",
       "      <td>1.0</td>\n",
       "    </tr>\n",
       "    <tr>\n",
       "      <th>...</th>\n",
       "      <td>...</td>\n",
       "      <td>...</td>\n",
       "      <td>...</td>\n",
       "      <td>...</td>\n",
       "      <td>...</td>\n",
       "      <td>...</td>\n",
       "      <td>...</td>\n",
       "      <td>...</td>\n",
       "      <td>...</td>\n",
       "      <td>...</td>\n",
       "      <td>...</td>\n",
       "      <td>...</td>\n",
       "      <td>...</td>\n",
       "    </tr>\n",
       "    <tr>\n",
       "      <th>139024</th>\n",
       "      <td>Manchester City</td>\n",
       "      <td>4</td>\n",
       "      <td>82632</td>\n",
       "      <td>0</td>\n",
       "      <td>1.4</td>\n",
       "      <td>1.4</td>\n",
       "      <td>1</td>\n",
       "      <td>1.100000</td>\n",
       "      <td>1.0</td>\n",
       "      <td>1.0</td>\n",
       "      <td>0.400000</td>\n",
       "      <td>0.0</td>\n",
       "      <td>0.5</td>\n",
       "    </tr>\n",
       "    <tr>\n",
       "      <th>51661</th>\n",
       "      <td>Manchester City</td>\n",
       "      <td>2</td>\n",
       "      <td>82643</td>\n",
       "      <td>1</td>\n",
       "      <td>3.1</td>\n",
       "      <td>3.1</td>\n",
       "      <td>1</td>\n",
       "      <td>2.900000</td>\n",
       "      <td>2.5</td>\n",
       "      <td>2.0</td>\n",
       "      <td>0.600000</td>\n",
       "      <td>0.0</td>\n",
       "      <td>1.0</td>\n",
       "    </tr>\n",
       "    <tr>\n",
       "      <th>89840</th>\n",
       "      <td>Manchester City</td>\n",
       "      <td>3</td>\n",
       "      <td>80587</td>\n",
       "      <td>0</td>\n",
       "      <td>2.6</td>\n",
       "      <td>2.6</td>\n",
       "      <td>0</td>\n",
       "      <td>1.666667</td>\n",
       "      <td>1.0</td>\n",
       "      <td>1.0</td>\n",
       "      <td>1.777778</td>\n",
       "      <td>1.0</td>\n",
       "      <td>2.0</td>\n",
       "    </tr>\n",
       "    <tr>\n",
       "      <th>16367</th>\n",
       "      <td>Manchester City</td>\n",
       "      <td>3</td>\n",
       "      <td>8163</td>\n",
       "      <td>1</td>\n",
       "      <td>2.2</td>\n",
       "      <td>2.2</td>\n",
       "      <td>0</td>\n",
       "      <td>3.200000</td>\n",
       "      <td>3.0</td>\n",
       "      <td>3.0</td>\n",
       "      <td>0.900000</td>\n",
       "      <td>1.0</td>\n",
       "      <td>1.0</td>\n",
       "    </tr>\n",
       "    <tr>\n",
       "      <th>59587</th>\n",
       "      <td>Manchester City</td>\n",
       "      <td>2</td>\n",
       "      <td>11435</td>\n",
       "      <td>1</td>\n",
       "      <td>1.1</td>\n",
       "      <td>1.1</td>\n",
       "      <td>1</td>\n",
       "      <td>2.300000</td>\n",
       "      <td>2.0</td>\n",
       "      <td>2.0</td>\n",
       "      <td>0.900000</td>\n",
       "      <td>0.5</td>\n",
       "      <td>0.0</td>\n",
       "    </tr>\n",
       "  </tbody>\n",
       "</table>\n",
       "<p>128 rows × 13 columns</p>\n",
       "</div>"
      ],
      "text/plain": [
       "                   team  score  index  is_home  avg_scoring_10  \\\n",
       "99593   Manchester City      2   8107        0             2.8   \n",
       "97208   Manchester City      1  75728        0             2.7   \n",
       "101412  Manchester City      3   8079        0             2.6   \n",
       "22198   Manchester City      1   8075        1             1.5   \n",
       "112351  Manchester City      3  89736        0             1.7   \n",
       "...                 ...    ...    ...      ...             ...   \n",
       "139024  Manchester City      4  82632        0             1.4   \n",
       "51661   Manchester City      2  82643        1             3.1   \n",
       "89840   Manchester City      3  80587        0             2.6   \n",
       "16367   Manchester City      3   8163        1             2.2   \n",
       "59587   Manchester City      2  11435        1             1.1   \n",
       "\n",
       "        avg_scoring_20  is_pandemic  mean_score_10  median_score_10  \\\n",
       "99593              2.8            0       1.700000              1.5   \n",
       "97208              2.7            0       1.900000              2.0   \n",
       "101412             2.6            0       1.700000              1.5   \n",
       "22198              1.5            0       3.300000              3.0   \n",
       "112351             1.7            0       2.500000              2.5   \n",
       "...                ...          ...            ...              ...   \n",
       "139024             1.4            1       1.100000              1.0   \n",
       "51661              3.1            1       2.900000              2.5   \n",
       "89840              2.6            0       1.666667              1.0   \n",
       "16367              2.2            0       3.200000              3.0   \n",
       "59587              1.1            1       2.300000              2.0   \n",
       "\n",
       "        mean_score_20  mean_score_10_against  median_score_10_against  \\\n",
       "99593             2.0               1.000000                      1.0   \n",
       "97208             2.0               1.300000                      1.5   \n",
       "101412            2.0               0.800000                      0.5   \n",
       "22198             3.0               0.900000                      0.5   \n",
       "112351            2.0               0.700000                      0.5   \n",
       "...               ...                    ...                      ...   \n",
       "139024            1.0               0.400000                      0.0   \n",
       "51661             2.0               0.600000                      0.0   \n",
       "89840             1.0               1.777778                      1.0   \n",
       "16367             3.0               0.900000                      1.0   \n",
       "59587             2.0               0.900000                      0.5   \n",
       "\n",
       "        mean_score_20_against  \n",
       "99593                     0.5  \n",
       "97208                     1.0  \n",
       "101412                    0.5  \n",
       "22198                     1.0  \n",
       "112351                    1.0  \n",
       "...                       ...  \n",
       "139024                    0.5  \n",
       "51661                     1.0  \n",
       "89840                     2.0  \n",
       "16367                     1.0  \n",
       "59587                     0.0  \n",
       "\n",
       "[128 rows x 13 columns]"
      ]
     },
     "execution_count": 6,
     "metadata": {},
     "output_type": "execute_result"
    }
   ],
   "source": [
    "# train.loc[train['team'] == 'Manchester City']"
   ]
  },
  {
   "cell_type": "code",
   "execution_count": 7,
   "id": "d5ff79e2",
   "metadata": {
    "ExecuteTime": {
     "end_time": "2021-10-16T13:56:52.818523Z",
     "start_time": "2021-10-16T13:56:52.808515Z"
    }
   },
   "outputs": [
    {
     "data": {
      "text/plain": [
       "1.364716147298895"
      ]
     },
     "execution_count": 7,
     "metadata": {},
     "output_type": "execute_result"
    }
   ],
   "source": [
    "# train['avg_scoring_10'].mean()"
   ]
  },
  {
   "cell_type": "code",
   "execution_count": null,
   "outputs": [],
   "source": [],
   "metadata": {
    "collapsed": false,
    "pycharm": {
     "name": "#%%\n"
    }
   }
  }
 ],
 "metadata": {
  "kernelspec": {
   "display_name": "PyCharm (GlickoSoccer)",
   "language": "python",
   "name": "pycharm-128f8376"
  },
  "language_info": {
   "codemirror_mode": {
    "name": "ipython",
    "version": 3
   },
   "file_extension": ".py",
   "mimetype": "text/x-python",
   "name": "python",
   "nbconvert_exporter": "python",
   "pygments_lexer": "ipython3",
   "version": "3.9.7"
  }
 },
 "nbformat": 4,
 "nbformat_minor": 5
}