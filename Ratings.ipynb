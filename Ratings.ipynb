{
 "cells": [
  {
   "cell_type": "code",
   "execution_count": 120,
   "outputs": [],
   "source": [
    "%reload_ext autoreload\n",
    "%autoreload 2\n",
    "\n",
    "import pandas as pd\n",
    "\n",
    "pd.options.display.max_columns, pd.options.display.max_rows = 500, 200\n",
    "pd.options.display.float_format = '{:.1f}'.format\n",
    "import joblib\n",
    "import warnings\n",
    "warnings.filterwarnings('ignore')\n",
    "\n",
    "from soccer.preprocessing import DataPreprocessor\n",
    "from soccer.glicko_soccer import GlickoSoccer"
   ],
   "metadata": {
    "collapsed": false,
    "pycharm": {
     "name": "#%%\n"
    },
    "ExecuteTime": {
     "end_time": "2023-09-27T18:17:21.177744Z",
     "start_time": "2023-09-27T18:17:21.100064Z"
    }
   }
  },
  {
   "cell_type": "markdown",
   "source": [
    "Preprocessing"
   ],
   "metadata": {
    "collapsed": false,
    "pycharm": {
     "name": "#%% md\n"
    }
   }
  },
  {
   "cell_type": "code",
   "execution_count": 68,
   "outputs": [
    {
     "data": {
      "text/plain": "         date home_team   away_team home_score away_score notes  country  \\\n0  05.11.2011     Kalju       Paide          1          2   NaN  Estonia   \n1  05.11.2011   Levadia  Kuressaare          4          0   NaN  Estonia   \n2  05.11.2011     Narva    Sillamae          2          3   NaN  Estonia   \n3  05.11.2011   Tammeka    Lasnamae          9          0   NaN  Estonia   \n4  05.11.2011  Viljandi       Flora          2          4   NaN  Estonia   \n\n         league season                            file_path tournament_type  \n0  Meistriliiga   2011  first/Estonia_Meistriliiga_2011.csv           first  \n1  Meistriliiga   2011  first/Estonia_Meistriliiga_2011.csv           first  \n2  Meistriliiga   2011  first/Estonia_Meistriliiga_2011.csv           first  \n3  Meistriliiga   2011  first/Estonia_Meistriliiga_2011.csv           first  \n4  Meistriliiga   2011  first/Estonia_Meistriliiga_2011.csv           first  ",
      "text/html": "<div>\n<style scoped>\n    .dataframe tbody tr th:only-of-type {\n        vertical-align: middle;\n    }\n\n    .dataframe tbody tr th {\n        vertical-align: top;\n    }\n\n    .dataframe thead th {\n        text-align: right;\n    }\n</style>\n<table border=\"1\" class=\"dataframe\">\n  <thead>\n    <tr style=\"text-align: right;\">\n      <th></th>\n      <th>date</th>\n      <th>home_team</th>\n      <th>away_team</th>\n      <th>home_score</th>\n      <th>away_score</th>\n      <th>notes</th>\n      <th>country</th>\n      <th>league</th>\n      <th>season</th>\n      <th>file_path</th>\n      <th>tournament_type</th>\n    </tr>\n  </thead>\n  <tbody>\n    <tr>\n      <th>0</th>\n      <td>05.11.2011</td>\n      <td>Kalju</td>\n      <td>Paide</td>\n      <td>1</td>\n      <td>2</td>\n      <td>NaN</td>\n      <td>Estonia</td>\n      <td>Meistriliiga</td>\n      <td>2011</td>\n      <td>first/Estonia_Meistriliiga_2011.csv</td>\n      <td>first</td>\n    </tr>\n    <tr>\n      <th>1</th>\n      <td>05.11.2011</td>\n      <td>Levadia</td>\n      <td>Kuressaare</td>\n      <td>4</td>\n      <td>0</td>\n      <td>NaN</td>\n      <td>Estonia</td>\n      <td>Meistriliiga</td>\n      <td>2011</td>\n      <td>first/Estonia_Meistriliiga_2011.csv</td>\n      <td>first</td>\n    </tr>\n    <tr>\n      <th>2</th>\n      <td>05.11.2011</td>\n      <td>Narva</td>\n      <td>Sillamae</td>\n      <td>2</td>\n      <td>3</td>\n      <td>NaN</td>\n      <td>Estonia</td>\n      <td>Meistriliiga</td>\n      <td>2011</td>\n      <td>first/Estonia_Meistriliiga_2011.csv</td>\n      <td>first</td>\n    </tr>\n    <tr>\n      <th>3</th>\n      <td>05.11.2011</td>\n      <td>Tammeka</td>\n      <td>Lasnamae</td>\n      <td>9</td>\n      <td>0</td>\n      <td>NaN</td>\n      <td>Estonia</td>\n      <td>Meistriliiga</td>\n      <td>2011</td>\n      <td>first/Estonia_Meistriliiga_2011.csv</td>\n      <td>first</td>\n    </tr>\n    <tr>\n      <th>4</th>\n      <td>05.11.2011</td>\n      <td>Viljandi</td>\n      <td>Flora</td>\n      <td>2</td>\n      <td>4</td>\n      <td>NaN</td>\n      <td>Estonia</td>\n      <td>Meistriliiga</td>\n      <td>2011</td>\n      <td>first/Estonia_Meistriliiga_2011.csv</td>\n      <td>first</td>\n    </tr>\n  </tbody>\n</table>\n</div>"
     },
     "execution_count": 68,
     "metadata": {},
     "output_type": "execute_result"
    }
   ],
   "source": [
    "raw_matches = pd.read_csv('data/matches.csv')\n",
    "raw_matches.head()"
   ],
   "metadata": {
    "collapsed": false,
    "pycharm": {
     "name": "#%%\n"
    },
    "ExecuteTime": {
     "end_time": "2023-09-27T16:13:00.517477Z",
     "start_time": "2023-09-27T16:13:00.020318Z"
    }
   }
  },
  {
   "cell_type": "code",
   "execution_count": 69,
   "outputs": [
    {
     "data": {
      "text/plain": "(470298, 11)"
     },
     "execution_count": 69,
     "metadata": {},
     "output_type": "execute_result"
    }
   ],
   "source": [
    "raw_matches.shape"
   ],
   "metadata": {
    "collapsed": false,
    "ExecuteTime": {
     "end_time": "2023-09-27T16:13:00.567676Z",
     "start_time": "2023-09-27T16:13:00.518764Z"
    }
   }
  },
  {
   "cell_type": "markdown",
   "source": [
    "Fit parameters"
   ],
   "metadata": {
    "collapsed": false,
    "pycharm": {
     "name": "#%% md\n"
    }
   }
  },
  {
   "cell_type": "code",
   "execution_count": 90,
   "outputs": [],
   "source": [
    "matches = DataPreprocessor(is_actual_draw_predictions=False, max_season=2023, is_train=False).preprocessing()"
   ],
   "metadata": {
    "collapsed": false,
    "pycharm": {
     "name": "#%%\n"
    },
    "ExecuteTime": {
     "end_time": "2023-09-27T16:54:42.983734Z",
     "start_time": "2023-09-27T16:54:31.876136Z"
    }
   }
  },
  {
   "cell_type": "code",
   "execution_count": 91,
   "outputs": [],
   "source": [
    "# it works a lot of time\n",
    "# league_params = GlickoSoccer().fit_params(matches, number_iterations=100, is_params_initialization=True)\n",
    "# league_params"
   ],
   "metadata": {
    "collapsed": false,
    "ExecuteTime": {
     "end_time": "2023-09-27T16:54:42.984415Z",
     "start_time": "2023-09-27T16:54:42.934573Z"
    }
   }
  },
  {
   "cell_type": "markdown",
   "source": [
    "Ratings"
   ],
   "metadata": {
    "collapsed": false,
    "pycharm": {
     "name": "#%% md\n"
    }
   }
  },
  {
   "cell_type": "code",
   "execution_count": 125,
   "outputs": [
    {
     "data": {
      "text/plain": "     #                 team  rating              league  is_europe\n0    1      Manchester City  2237.7      England. First       True\n1    2        Bayern Munich  2175.0      Germany. First       True\n2    3             FC Porto  2135.9     Portugal. First       True\n3    4          Real Madrid  2125.4        Spain. First       True\n4    5               Napoli  2121.7        Italy. First       True\n5    6                Inter  2116.4        Italy. First       True\n6    7            Liverpool  2111.2      England. First       True\n7    8              Arsenal  2101.2      England. First       True\n8    9       Manchester Utd  2099.5      England. First       True\n9   10           RB Leipzig  2096.4      Germany. First       True\n10  11     Benfica Portugal  2093.1     Portugal. First       True\n11  12            Barcelona  2078.6        Spain. First       True\n12  13             Salzburg  2078.2      Austria. First       True\n13  14             Dortmund  2077.2      Germany. First       True\n14  15             Paris SG  2068.2       France. First       True\n15  16             AC Milan  2047.5        Italy. First       True\n16  17            Newcastle  2044.3      England. First       True\n17  18          Atl. Madrid  2039.6        Spain. First       True\n18  19             Juventus  2033.9        Italy. First       True\n19  20        Crvena zvezda  2023.9       Serbia. First       True\n20  21                  PSV  2022.3  Netherlands. First       True\n21  22               Celtic  2015.7     Scotland. First       True\n22  23          Sporting CP  2015.4     Portugal. First       True\n23  24            Feyenoord  2014.1  Netherlands. First       True\n24  25     Rangers Scotland  2010.9     Scotland. First       True\n25  26                 Lens  2006.4       France. First       True\n26  27                Zenit  2006.2       Russia. First       True\n27  28     Shakhtar Donetsk  2004.7      Ukraine. First       True\n28  29           Young Boys  2003.6  Switzerland. First       True\n29  30         Union Berlin  2001.2      Germany. First       True\n30  31                Lazio  2000.3        Italy. First       True\n31  32             Freiburg  1999.8      Germany. First       True\n32  33        Real Sociedad  1995.0        Spain. First       True\n33  34            Tottenham  1991.5      England. First       True\n34  35                 Ajax  1991.2  Netherlands. First       True\n35  36             Brighton  1990.1      England. First       True\n36  37              AS Roma  1988.2        Italy. First       True\n37  38                Rakow  1982.7       Poland. First       True\n38  39           Fenerbahce  1978.0       Turkey. First       True\n39  40              Chelsea  1976.6      England. First       True\n40  41             Atalanta  1973.5        Italy. First       True\n41  42     Bayer Leverkusen  1973.0      Germany. First       True\n42  43  Eintracht Frankfurt  1968.0      Germany. First       True\n43  44                Braga  1967.6     Portugal. First       True\n44  45          Aston Villa  1967.5      England. First       True\n45  46      Royale Union SG  1963.4      Belgium. First       True\n46  47            Marseille  1962.1       France. First       True\n47  48            Palmeiras  1961.0       Brazil. First      False\n48  49            Brentford  1958.7      England. First       True\n49  50           Villarreal  1958.4        Spain. First       True",
      "text/html": "<div>\n<style scoped>\n    .dataframe tbody tr th:only-of-type {\n        vertical-align: middle;\n    }\n\n    .dataframe tbody tr th {\n        vertical-align: top;\n    }\n\n    .dataframe thead th {\n        text-align: right;\n    }\n</style>\n<table border=\"1\" class=\"dataframe\">\n  <thead>\n    <tr style=\"text-align: right;\">\n      <th></th>\n      <th>#</th>\n      <th>team</th>\n      <th>rating</th>\n      <th>league</th>\n      <th>is_europe</th>\n    </tr>\n  </thead>\n  <tbody>\n    <tr>\n      <th>0</th>\n      <td>1</td>\n      <td>Manchester City</td>\n      <td>2237.7</td>\n      <td>England. First</td>\n      <td>True</td>\n    </tr>\n    <tr>\n      <th>1</th>\n      <td>2</td>\n      <td>Bayern Munich</td>\n      <td>2175.0</td>\n      <td>Germany. First</td>\n      <td>True</td>\n    </tr>\n    <tr>\n      <th>2</th>\n      <td>3</td>\n      <td>FC Porto</td>\n      <td>2135.9</td>\n      <td>Portugal. First</td>\n      <td>True</td>\n    </tr>\n    <tr>\n      <th>3</th>\n      <td>4</td>\n      <td>Real Madrid</td>\n      <td>2125.4</td>\n      <td>Spain. First</td>\n      <td>True</td>\n    </tr>\n    <tr>\n      <th>4</th>\n      <td>5</td>\n      <td>Napoli</td>\n      <td>2121.7</td>\n      <td>Italy. First</td>\n      <td>True</td>\n    </tr>\n    <tr>\n      <th>5</th>\n      <td>6</td>\n      <td>Inter</td>\n      <td>2116.4</td>\n      <td>Italy. First</td>\n      <td>True</td>\n    </tr>\n    <tr>\n      <th>6</th>\n      <td>7</td>\n      <td>Liverpool</td>\n      <td>2111.2</td>\n      <td>England. First</td>\n      <td>True</td>\n    </tr>\n    <tr>\n      <th>7</th>\n      <td>8</td>\n      <td>Arsenal</td>\n      <td>2101.2</td>\n      <td>England. First</td>\n      <td>True</td>\n    </tr>\n    <tr>\n      <th>8</th>\n      <td>9</td>\n      <td>Manchester Utd</td>\n      <td>2099.5</td>\n      <td>England. First</td>\n      <td>True</td>\n    </tr>\n    <tr>\n      <th>9</th>\n      <td>10</td>\n      <td>RB Leipzig</td>\n      <td>2096.4</td>\n      <td>Germany. First</td>\n      <td>True</td>\n    </tr>\n    <tr>\n      <th>10</th>\n      <td>11</td>\n      <td>Benfica Portugal</td>\n      <td>2093.1</td>\n      <td>Portugal. First</td>\n      <td>True</td>\n    </tr>\n    <tr>\n      <th>11</th>\n      <td>12</td>\n      <td>Barcelona</td>\n      <td>2078.6</td>\n      <td>Spain. First</td>\n      <td>True</td>\n    </tr>\n    <tr>\n      <th>12</th>\n      <td>13</td>\n      <td>Salzburg</td>\n      <td>2078.2</td>\n      <td>Austria. First</td>\n      <td>True</td>\n    </tr>\n    <tr>\n      <th>13</th>\n      <td>14</td>\n      <td>Dortmund</td>\n      <td>2077.2</td>\n      <td>Germany. First</td>\n      <td>True</td>\n    </tr>\n    <tr>\n      <th>14</th>\n      <td>15</td>\n      <td>Paris SG</td>\n      <td>2068.2</td>\n      <td>France. First</td>\n      <td>True</td>\n    </tr>\n    <tr>\n      <th>15</th>\n      <td>16</td>\n      <td>AC Milan</td>\n      <td>2047.5</td>\n      <td>Italy. First</td>\n      <td>True</td>\n    </tr>\n    <tr>\n      <th>16</th>\n      <td>17</td>\n      <td>Newcastle</td>\n      <td>2044.3</td>\n      <td>England. First</td>\n      <td>True</td>\n    </tr>\n    <tr>\n      <th>17</th>\n      <td>18</td>\n      <td>Atl. Madrid</td>\n      <td>2039.6</td>\n      <td>Spain. First</td>\n      <td>True</td>\n    </tr>\n    <tr>\n      <th>18</th>\n      <td>19</td>\n      <td>Juventus</td>\n      <td>2033.9</td>\n      <td>Italy. First</td>\n      <td>True</td>\n    </tr>\n    <tr>\n      <th>19</th>\n      <td>20</td>\n      <td>Crvena zvezda</td>\n      <td>2023.9</td>\n      <td>Serbia. First</td>\n      <td>True</td>\n    </tr>\n    <tr>\n      <th>20</th>\n      <td>21</td>\n      <td>PSV</td>\n      <td>2022.3</td>\n      <td>Netherlands. First</td>\n      <td>True</td>\n    </tr>\n    <tr>\n      <th>21</th>\n      <td>22</td>\n      <td>Celtic</td>\n      <td>2015.7</td>\n      <td>Scotland. First</td>\n      <td>True</td>\n    </tr>\n    <tr>\n      <th>22</th>\n      <td>23</td>\n      <td>Sporting CP</td>\n      <td>2015.4</td>\n      <td>Portugal. First</td>\n      <td>True</td>\n    </tr>\n    <tr>\n      <th>23</th>\n      <td>24</td>\n      <td>Feyenoord</td>\n      <td>2014.1</td>\n      <td>Netherlands. First</td>\n      <td>True</td>\n    </tr>\n    <tr>\n      <th>24</th>\n      <td>25</td>\n      <td>Rangers Scotland</td>\n      <td>2010.9</td>\n      <td>Scotland. First</td>\n      <td>True</td>\n    </tr>\n    <tr>\n      <th>25</th>\n      <td>26</td>\n      <td>Lens</td>\n      <td>2006.4</td>\n      <td>France. First</td>\n      <td>True</td>\n    </tr>\n    <tr>\n      <th>26</th>\n      <td>27</td>\n      <td>Zenit</td>\n      <td>2006.2</td>\n      <td>Russia. First</td>\n      <td>True</td>\n    </tr>\n    <tr>\n      <th>27</th>\n      <td>28</td>\n      <td>Shakhtar Donetsk</td>\n      <td>2004.7</td>\n      <td>Ukraine. First</td>\n      <td>True</td>\n    </tr>\n    <tr>\n      <th>28</th>\n      <td>29</td>\n      <td>Young Boys</td>\n      <td>2003.6</td>\n      <td>Switzerland. First</td>\n      <td>True</td>\n    </tr>\n    <tr>\n      <th>29</th>\n      <td>30</td>\n      <td>Union Berlin</td>\n      <td>2001.2</td>\n      <td>Germany. First</td>\n      <td>True</td>\n    </tr>\n    <tr>\n      <th>30</th>\n      <td>31</td>\n      <td>Lazio</td>\n      <td>2000.3</td>\n      <td>Italy. First</td>\n      <td>True</td>\n    </tr>\n    <tr>\n      <th>31</th>\n      <td>32</td>\n      <td>Freiburg</td>\n      <td>1999.8</td>\n      <td>Germany. First</td>\n      <td>True</td>\n    </tr>\n    <tr>\n      <th>32</th>\n      <td>33</td>\n      <td>Real Sociedad</td>\n      <td>1995.0</td>\n      <td>Spain. First</td>\n      <td>True</td>\n    </tr>\n    <tr>\n      <th>33</th>\n      <td>34</td>\n      <td>Tottenham</td>\n      <td>1991.5</td>\n      <td>England. First</td>\n      <td>True</td>\n    </tr>\n    <tr>\n      <th>34</th>\n      <td>35</td>\n      <td>Ajax</td>\n      <td>1991.2</td>\n      <td>Netherlands. First</td>\n      <td>True</td>\n    </tr>\n    <tr>\n      <th>35</th>\n      <td>36</td>\n      <td>Brighton</td>\n      <td>1990.1</td>\n      <td>England. First</td>\n      <td>True</td>\n    </tr>\n    <tr>\n      <th>36</th>\n      <td>37</td>\n      <td>AS Roma</td>\n      <td>1988.2</td>\n      <td>Italy. First</td>\n      <td>True</td>\n    </tr>\n    <tr>\n      <th>37</th>\n      <td>38</td>\n      <td>Rakow</td>\n      <td>1982.7</td>\n      <td>Poland. First</td>\n      <td>True</td>\n    </tr>\n    <tr>\n      <th>38</th>\n      <td>39</td>\n      <td>Fenerbahce</td>\n      <td>1978.0</td>\n      <td>Turkey. First</td>\n      <td>True</td>\n    </tr>\n    <tr>\n      <th>39</th>\n      <td>40</td>\n      <td>Chelsea</td>\n      <td>1976.6</td>\n      <td>England. First</td>\n      <td>True</td>\n    </tr>\n    <tr>\n      <th>40</th>\n      <td>41</td>\n      <td>Atalanta</td>\n      <td>1973.5</td>\n      <td>Italy. First</td>\n      <td>True</td>\n    </tr>\n    <tr>\n      <th>41</th>\n      <td>42</td>\n      <td>Bayer Leverkusen</td>\n      <td>1973.0</td>\n      <td>Germany. First</td>\n      <td>True</td>\n    </tr>\n    <tr>\n      <th>42</th>\n      <td>43</td>\n      <td>Eintracht Frankfurt</td>\n      <td>1968.0</td>\n      <td>Germany. First</td>\n      <td>True</td>\n    </tr>\n    <tr>\n      <th>43</th>\n      <td>44</td>\n      <td>Braga</td>\n      <td>1967.6</td>\n      <td>Portugal. First</td>\n      <td>True</td>\n    </tr>\n    <tr>\n      <th>44</th>\n      <td>45</td>\n      <td>Aston Villa</td>\n      <td>1967.5</td>\n      <td>England. First</td>\n      <td>True</td>\n    </tr>\n    <tr>\n      <th>45</th>\n      <td>46</td>\n      <td>Royale Union SG</td>\n      <td>1963.4</td>\n      <td>Belgium. First</td>\n      <td>True</td>\n    </tr>\n    <tr>\n      <th>46</th>\n      <td>47</td>\n      <td>Marseille</td>\n      <td>1962.1</td>\n      <td>France. First</td>\n      <td>True</td>\n    </tr>\n    <tr>\n      <th>47</th>\n      <td>48</td>\n      <td>Palmeiras</td>\n      <td>1961.0</td>\n      <td>Brazil. First</td>\n      <td>False</td>\n    </tr>\n    <tr>\n      <th>48</th>\n      <td>49</td>\n      <td>Brentford</td>\n      <td>1958.7</td>\n      <td>England. First</td>\n      <td>True</td>\n    </tr>\n    <tr>\n      <th>49</th>\n      <td>50</td>\n      <td>Villarreal</td>\n      <td>1958.4</td>\n      <td>Spain. First</td>\n      <td>True</td>\n    </tr>\n  </tbody>\n</table>\n</div>"
     },
     "execution_count": 125,
     "metadata": {},
     "output_type": "execute_result"
    }
   ],
   "source": [
    "league_params = joblib.load('data/league_params.pkl')\n",
    "club_ratings = GlickoSoccer().rate_teams(matches, league_params)\n",
    "club_ratings = GlickoSoccer().ratings_to_df(club_ratings, matches)\n",
    "europe_leagues_ratings, south_america_leagues_ratings = GlickoSoccer().league_ratings(club_ratings, number_top_teams=5)\n",
    "\n",
    "club_ratings.head(50)"
   ],
   "metadata": {
    "collapsed": false,
    "pycharm": {
     "name": "#%%\n"
    },
    "ExecuteTime": {
     "end_time": "2023-09-27T19:08:42.221514Z",
     "start_time": "2023-09-27T19:08:36.969265Z"
    }
   }
  },
  {
   "cell_type": "code",
   "execution_count": 126,
   "outputs": [
    {
     "data": {
      "text/plain": "     #                          league  rating\n0    1                  England. First  2118.8\n1    2                  Germany. First  2069.9\n2    3                    Italy. First  2064.0\n3    4                    Spain. First  2039.4\n4    5                 Portugal. First  2000.7\n5    6                   France. First  1981.4\n6    7              Netherlands. First  1965.8\n7    8                  Belgium. First  1923.3\n8    9                   Turkey. First  1911.9\n9   10                   Russia. First  1906.5\n10  11                  Austria. First  1899.3\n11  12              Switzerland. First  1893.4\n12  13                   Poland. First  1890.7\n13  14                   Sweden. First  1883.9\n14  15                  Ukraine. First  1878.1\n15  16                   Greece. First  1868.8\n16  17                  Denmark. First  1852.3\n17  18           Czech Republic. First  1832.4\n18  19                 Scotland. First  1826.2\n19  20                   Israel. First  1817.1\n20  21                   Serbia. First  1816.6\n21  22                 Bulgaria. First  1809.7\n22  23                   Norway. First  1808.1\n23  24                  Romania. First  1807.6\n24  25                  Croatia. First  1807.2\n25  26                   Cyprus. First  1795.4\n26  27                 Germany. Second  1785.3\n27  28                   Latvia. First  1767.9\n28  29                   Italy. Second  1767.6\n29  30                 England. Second  1766.0\n30  31                   Spain. Second  1763.3\n31  32                 Slovenia. First  1749.0\n32  33                 Slovakia. First  1748.5\n33  34                  Belarus. First  1735.6\n34  35                  Armenia. First  1732.3\n35  36                  Hungary. First  1727.1\n36  37                  Georgia. First  1726.1\n37  38   Bosnia And Herzegovina. First  1724.8\n38  39                  Finland. First  1721.9\n39  40                  France. Second  1721.9\n40  41         Northern Ireland. First  1706.5\n41  42               Azerbaijan. First  1704.0\n42  43             Switzerland. Second  1700.7\n43  44                  Ireland. First  1698.4\n44  45                  Turkey. Second  1689.6\n45  46                  Russia. Second  1684.8\n46  47               Kazakhstan. First  1683.2\n47  48                  Poland. Second  1671.4\n48  49                  Iceland. First  1669.8\n49  50                Lithuania. First  1661.7\n50  51          North Macedonia. First  1651.8\n51  52                Portugal. Second  1646.9\n52  53                   Kosovo. First  1642.1\n53  54               Luxembourg. First  1640.6\n54  55                  Estonia. First  1637.8\n55  56                  Moldova. First  1636.9\n56  57                    Malta. First  1622.7\n57  58                 Austria. Second  1619.6\n58  59                 Denmark. Second  1616.9\n59  60            Faroe Islands. First  1615.1\n60  61                  Albania. First  1614.2\n61  62                Gibraltar. First  1612.3\n62  63                  Greece. Second  1611.2\n63  64             Netherlands. Second  1602.1\n64  65                  Sweden. Second  1587.9\n65  66                 Belgium. Second  1581.6\n66  67                 Romania. Second  1577.1\n67  68               Montenegro. First  1562.7\n68  69                 Hungary. Second  1557.3\n69  70                    Wales. First  1556.8\n70  71                  Israel. Second  1553.7\n71  72                Scotland. Second  1532.3\n72  73                 Croatia. Second  1525.0\n73  74                 Ukraine. Second  1519.7\n74  75                Slovenia. Second  1517.7\n75  76                  Norway. Second  1516.7\n76  77                Slovakia. Second  1490.9\n77  78              Kazakhstan. Second  1477.3\n78  79                  Serbia. Second  1473.3\n79  80         North Macedonia. Second  1466.5\n80  81                Bulgaria. Second  1460.6\n81  82                 Georgia. Second  1456.8\n82  83  Bosnia And Herzegovina. Second  1456.6\n83  84          Czech Republic. Second  1453.2\n84  85                  Andorra. First  1443.9\n85  86                 Armenia. Second  1443.3\n86  87                  Cyprus. Second  1436.2\n87  88                 Finland. Second  1430.4\n88  89                 Ireland. Second  1427.2\n89  90               San Marino. First  1412.1\n90  91                 Belarus. Second  1409.0\n91  92                 Albania. Second  1374.1\n92  93                  Latvia. Second  1365.0\n93  94                 Iceland. Second  1362.8\n94  95                   Malta. Second  1327.4\n95  96               Lithuania. Second  1316.7\n96  97                 Estonia. Second  1304.2\n97  98        Northern Ireland. Second  1276.8",
      "text/html": "<div>\n<style scoped>\n    .dataframe tbody tr th:only-of-type {\n        vertical-align: middle;\n    }\n\n    .dataframe tbody tr th {\n        vertical-align: top;\n    }\n\n    .dataframe thead th {\n        text-align: right;\n    }\n</style>\n<table border=\"1\" class=\"dataframe\">\n  <thead>\n    <tr style=\"text-align: right;\">\n      <th></th>\n      <th>#</th>\n      <th>league</th>\n      <th>rating</th>\n    </tr>\n  </thead>\n  <tbody>\n    <tr>\n      <th>0</th>\n      <td>1</td>\n      <td>England. First</td>\n      <td>2118.8</td>\n    </tr>\n    <tr>\n      <th>1</th>\n      <td>2</td>\n      <td>Germany. First</td>\n      <td>2069.9</td>\n    </tr>\n    <tr>\n      <th>2</th>\n      <td>3</td>\n      <td>Italy. First</td>\n      <td>2064.0</td>\n    </tr>\n    <tr>\n      <th>3</th>\n      <td>4</td>\n      <td>Spain. First</td>\n      <td>2039.4</td>\n    </tr>\n    <tr>\n      <th>4</th>\n      <td>5</td>\n      <td>Portugal. First</td>\n      <td>2000.7</td>\n    </tr>\n    <tr>\n      <th>5</th>\n      <td>6</td>\n      <td>France. First</td>\n      <td>1981.4</td>\n    </tr>\n    <tr>\n      <th>6</th>\n      <td>7</td>\n      <td>Netherlands. First</td>\n      <td>1965.8</td>\n    </tr>\n    <tr>\n      <th>7</th>\n      <td>8</td>\n      <td>Belgium. First</td>\n      <td>1923.3</td>\n    </tr>\n    <tr>\n      <th>8</th>\n      <td>9</td>\n      <td>Turkey. First</td>\n      <td>1911.9</td>\n    </tr>\n    <tr>\n      <th>9</th>\n      <td>10</td>\n      <td>Russia. First</td>\n      <td>1906.5</td>\n    </tr>\n    <tr>\n      <th>10</th>\n      <td>11</td>\n      <td>Austria. First</td>\n      <td>1899.3</td>\n    </tr>\n    <tr>\n      <th>11</th>\n      <td>12</td>\n      <td>Switzerland. First</td>\n      <td>1893.4</td>\n    </tr>\n    <tr>\n      <th>12</th>\n      <td>13</td>\n      <td>Poland. First</td>\n      <td>1890.7</td>\n    </tr>\n    <tr>\n      <th>13</th>\n      <td>14</td>\n      <td>Sweden. First</td>\n      <td>1883.9</td>\n    </tr>\n    <tr>\n      <th>14</th>\n      <td>15</td>\n      <td>Ukraine. First</td>\n      <td>1878.1</td>\n    </tr>\n    <tr>\n      <th>15</th>\n      <td>16</td>\n      <td>Greece. First</td>\n      <td>1868.8</td>\n    </tr>\n    <tr>\n      <th>16</th>\n      <td>17</td>\n      <td>Denmark. First</td>\n      <td>1852.3</td>\n    </tr>\n    <tr>\n      <th>17</th>\n      <td>18</td>\n      <td>Czech Republic. First</td>\n      <td>1832.4</td>\n    </tr>\n    <tr>\n      <th>18</th>\n      <td>19</td>\n      <td>Scotland. First</td>\n      <td>1826.2</td>\n    </tr>\n    <tr>\n      <th>19</th>\n      <td>20</td>\n      <td>Israel. First</td>\n      <td>1817.1</td>\n    </tr>\n    <tr>\n      <th>20</th>\n      <td>21</td>\n      <td>Serbia. First</td>\n      <td>1816.6</td>\n    </tr>\n    <tr>\n      <th>21</th>\n      <td>22</td>\n      <td>Bulgaria. First</td>\n      <td>1809.7</td>\n    </tr>\n    <tr>\n      <th>22</th>\n      <td>23</td>\n      <td>Norway. First</td>\n      <td>1808.1</td>\n    </tr>\n    <tr>\n      <th>23</th>\n      <td>24</td>\n      <td>Romania. First</td>\n      <td>1807.6</td>\n    </tr>\n    <tr>\n      <th>24</th>\n      <td>25</td>\n      <td>Croatia. First</td>\n      <td>1807.2</td>\n    </tr>\n    <tr>\n      <th>25</th>\n      <td>26</td>\n      <td>Cyprus. First</td>\n      <td>1795.4</td>\n    </tr>\n    <tr>\n      <th>26</th>\n      <td>27</td>\n      <td>Germany. Second</td>\n      <td>1785.3</td>\n    </tr>\n    <tr>\n      <th>27</th>\n      <td>28</td>\n      <td>Latvia. First</td>\n      <td>1767.9</td>\n    </tr>\n    <tr>\n      <th>28</th>\n      <td>29</td>\n      <td>Italy. Second</td>\n      <td>1767.6</td>\n    </tr>\n    <tr>\n      <th>29</th>\n      <td>30</td>\n      <td>England. Second</td>\n      <td>1766.0</td>\n    </tr>\n    <tr>\n      <th>30</th>\n      <td>31</td>\n      <td>Spain. Second</td>\n      <td>1763.3</td>\n    </tr>\n    <tr>\n      <th>31</th>\n      <td>32</td>\n      <td>Slovenia. First</td>\n      <td>1749.0</td>\n    </tr>\n    <tr>\n      <th>32</th>\n      <td>33</td>\n      <td>Slovakia. First</td>\n      <td>1748.5</td>\n    </tr>\n    <tr>\n      <th>33</th>\n      <td>34</td>\n      <td>Belarus. First</td>\n      <td>1735.6</td>\n    </tr>\n    <tr>\n      <th>34</th>\n      <td>35</td>\n      <td>Armenia. First</td>\n      <td>1732.3</td>\n    </tr>\n    <tr>\n      <th>35</th>\n      <td>36</td>\n      <td>Hungary. First</td>\n      <td>1727.1</td>\n    </tr>\n    <tr>\n      <th>36</th>\n      <td>37</td>\n      <td>Georgia. First</td>\n      <td>1726.1</td>\n    </tr>\n    <tr>\n      <th>37</th>\n      <td>38</td>\n      <td>Bosnia And Herzegovina. First</td>\n      <td>1724.8</td>\n    </tr>\n    <tr>\n      <th>38</th>\n      <td>39</td>\n      <td>Finland. First</td>\n      <td>1721.9</td>\n    </tr>\n    <tr>\n      <th>39</th>\n      <td>40</td>\n      <td>France. Second</td>\n      <td>1721.9</td>\n    </tr>\n    <tr>\n      <th>40</th>\n      <td>41</td>\n      <td>Northern Ireland. First</td>\n      <td>1706.5</td>\n    </tr>\n    <tr>\n      <th>41</th>\n      <td>42</td>\n      <td>Azerbaijan. First</td>\n      <td>1704.0</td>\n    </tr>\n    <tr>\n      <th>42</th>\n      <td>43</td>\n      <td>Switzerland. Second</td>\n      <td>1700.7</td>\n    </tr>\n    <tr>\n      <th>43</th>\n      <td>44</td>\n      <td>Ireland. First</td>\n      <td>1698.4</td>\n    </tr>\n    <tr>\n      <th>44</th>\n      <td>45</td>\n      <td>Turkey. Second</td>\n      <td>1689.6</td>\n    </tr>\n    <tr>\n      <th>45</th>\n      <td>46</td>\n      <td>Russia. Second</td>\n      <td>1684.8</td>\n    </tr>\n    <tr>\n      <th>46</th>\n      <td>47</td>\n      <td>Kazakhstan. First</td>\n      <td>1683.2</td>\n    </tr>\n    <tr>\n      <th>47</th>\n      <td>48</td>\n      <td>Poland. Second</td>\n      <td>1671.4</td>\n    </tr>\n    <tr>\n      <th>48</th>\n      <td>49</td>\n      <td>Iceland. First</td>\n      <td>1669.8</td>\n    </tr>\n    <tr>\n      <th>49</th>\n      <td>50</td>\n      <td>Lithuania. First</td>\n      <td>1661.7</td>\n    </tr>\n    <tr>\n      <th>50</th>\n      <td>51</td>\n      <td>North Macedonia. First</td>\n      <td>1651.8</td>\n    </tr>\n    <tr>\n      <th>51</th>\n      <td>52</td>\n      <td>Portugal. Second</td>\n      <td>1646.9</td>\n    </tr>\n    <tr>\n      <th>52</th>\n      <td>53</td>\n      <td>Kosovo. First</td>\n      <td>1642.1</td>\n    </tr>\n    <tr>\n      <th>53</th>\n      <td>54</td>\n      <td>Luxembourg. First</td>\n      <td>1640.6</td>\n    </tr>\n    <tr>\n      <th>54</th>\n      <td>55</td>\n      <td>Estonia. First</td>\n      <td>1637.8</td>\n    </tr>\n    <tr>\n      <th>55</th>\n      <td>56</td>\n      <td>Moldova. First</td>\n      <td>1636.9</td>\n    </tr>\n    <tr>\n      <th>56</th>\n      <td>57</td>\n      <td>Malta. First</td>\n      <td>1622.7</td>\n    </tr>\n    <tr>\n      <th>57</th>\n      <td>58</td>\n      <td>Austria. Second</td>\n      <td>1619.6</td>\n    </tr>\n    <tr>\n      <th>58</th>\n      <td>59</td>\n      <td>Denmark. Second</td>\n      <td>1616.9</td>\n    </tr>\n    <tr>\n      <th>59</th>\n      <td>60</td>\n      <td>Faroe Islands. First</td>\n      <td>1615.1</td>\n    </tr>\n    <tr>\n      <th>60</th>\n      <td>61</td>\n      <td>Albania. First</td>\n      <td>1614.2</td>\n    </tr>\n    <tr>\n      <th>61</th>\n      <td>62</td>\n      <td>Gibraltar. First</td>\n      <td>1612.3</td>\n    </tr>\n    <tr>\n      <th>62</th>\n      <td>63</td>\n      <td>Greece. Second</td>\n      <td>1611.2</td>\n    </tr>\n    <tr>\n      <th>63</th>\n      <td>64</td>\n      <td>Netherlands. Second</td>\n      <td>1602.1</td>\n    </tr>\n    <tr>\n      <th>64</th>\n      <td>65</td>\n      <td>Sweden. Second</td>\n      <td>1587.9</td>\n    </tr>\n    <tr>\n      <th>65</th>\n      <td>66</td>\n      <td>Belgium. Second</td>\n      <td>1581.6</td>\n    </tr>\n    <tr>\n      <th>66</th>\n      <td>67</td>\n      <td>Romania. Second</td>\n      <td>1577.1</td>\n    </tr>\n    <tr>\n      <th>67</th>\n      <td>68</td>\n      <td>Montenegro. First</td>\n      <td>1562.7</td>\n    </tr>\n    <tr>\n      <th>68</th>\n      <td>69</td>\n      <td>Hungary. Second</td>\n      <td>1557.3</td>\n    </tr>\n    <tr>\n      <th>69</th>\n      <td>70</td>\n      <td>Wales. First</td>\n      <td>1556.8</td>\n    </tr>\n    <tr>\n      <th>70</th>\n      <td>71</td>\n      <td>Israel. Second</td>\n      <td>1553.7</td>\n    </tr>\n    <tr>\n      <th>71</th>\n      <td>72</td>\n      <td>Scotland. Second</td>\n      <td>1532.3</td>\n    </tr>\n    <tr>\n      <th>72</th>\n      <td>73</td>\n      <td>Croatia. Second</td>\n      <td>1525.0</td>\n    </tr>\n    <tr>\n      <th>73</th>\n      <td>74</td>\n      <td>Ukraine. Second</td>\n      <td>1519.7</td>\n    </tr>\n    <tr>\n      <th>74</th>\n      <td>75</td>\n      <td>Slovenia. Second</td>\n      <td>1517.7</td>\n    </tr>\n    <tr>\n      <th>75</th>\n      <td>76</td>\n      <td>Norway. Second</td>\n      <td>1516.7</td>\n    </tr>\n    <tr>\n      <th>76</th>\n      <td>77</td>\n      <td>Slovakia. Second</td>\n      <td>1490.9</td>\n    </tr>\n    <tr>\n      <th>77</th>\n      <td>78</td>\n      <td>Kazakhstan. Second</td>\n      <td>1477.3</td>\n    </tr>\n    <tr>\n      <th>78</th>\n      <td>79</td>\n      <td>Serbia. Second</td>\n      <td>1473.3</td>\n    </tr>\n    <tr>\n      <th>79</th>\n      <td>80</td>\n      <td>North Macedonia. Second</td>\n      <td>1466.5</td>\n    </tr>\n    <tr>\n      <th>80</th>\n      <td>81</td>\n      <td>Bulgaria. Second</td>\n      <td>1460.6</td>\n    </tr>\n    <tr>\n      <th>81</th>\n      <td>82</td>\n      <td>Georgia. Second</td>\n      <td>1456.8</td>\n    </tr>\n    <tr>\n      <th>82</th>\n      <td>83</td>\n      <td>Bosnia And Herzegovina. Second</td>\n      <td>1456.6</td>\n    </tr>\n    <tr>\n      <th>83</th>\n      <td>84</td>\n      <td>Czech Republic. Second</td>\n      <td>1453.2</td>\n    </tr>\n    <tr>\n      <th>84</th>\n      <td>85</td>\n      <td>Andorra. First</td>\n      <td>1443.9</td>\n    </tr>\n    <tr>\n      <th>85</th>\n      <td>86</td>\n      <td>Armenia. Second</td>\n      <td>1443.3</td>\n    </tr>\n    <tr>\n      <th>86</th>\n      <td>87</td>\n      <td>Cyprus. Second</td>\n      <td>1436.2</td>\n    </tr>\n    <tr>\n      <th>87</th>\n      <td>88</td>\n      <td>Finland. Second</td>\n      <td>1430.4</td>\n    </tr>\n    <tr>\n      <th>88</th>\n      <td>89</td>\n      <td>Ireland. Second</td>\n      <td>1427.2</td>\n    </tr>\n    <tr>\n      <th>89</th>\n      <td>90</td>\n      <td>San Marino. First</td>\n      <td>1412.1</td>\n    </tr>\n    <tr>\n      <th>90</th>\n      <td>91</td>\n      <td>Belarus. Second</td>\n      <td>1409.0</td>\n    </tr>\n    <tr>\n      <th>91</th>\n      <td>92</td>\n      <td>Albania. Second</td>\n      <td>1374.1</td>\n    </tr>\n    <tr>\n      <th>92</th>\n      <td>93</td>\n      <td>Latvia. Second</td>\n      <td>1365.0</td>\n    </tr>\n    <tr>\n      <th>93</th>\n      <td>94</td>\n      <td>Iceland. Second</td>\n      <td>1362.8</td>\n    </tr>\n    <tr>\n      <th>94</th>\n      <td>95</td>\n      <td>Malta. Second</td>\n      <td>1327.4</td>\n    </tr>\n    <tr>\n      <th>95</th>\n      <td>96</td>\n      <td>Lithuania. Second</td>\n      <td>1316.7</td>\n    </tr>\n    <tr>\n      <th>96</th>\n      <td>97</td>\n      <td>Estonia. Second</td>\n      <td>1304.2</td>\n    </tr>\n    <tr>\n      <th>97</th>\n      <td>98</td>\n      <td>Northern Ireland. Second</td>\n      <td>1276.8</td>\n    </tr>\n  </tbody>\n</table>\n</div>"
     },
     "execution_count": 126,
     "metadata": {},
     "output_type": "execute_result"
    }
   ],
   "source": [
    "europe_leagues_ratings"
   ],
   "metadata": {
    "collapsed": false,
    "pycharm": {
     "name": "#%%\n"
    },
    "ExecuteTime": {
     "end_time": "2023-09-27T19:08:42.737032Z",
     "start_time": "2023-09-27T19:08:42.641165Z"
    }
   }
  },
  {
   "cell_type": "code",
   "source": [
    "south_america_leagues_ratings"
   ],
   "metadata": {
    "collapsed": false,
    "pycharm": {
     "name": "#%%\n"
    },
    "ExecuteTime": {
     "end_time": "2023-09-27T19:08:43.002134Z",
     "start_time": "2023-09-27T19:08:42.938200Z"
    }
   },
   "execution_count": 127,
   "outputs": [
    {
     "data": {
      "text/plain": "     #             league  rating\n0    1      Brazil. First  1868.4\n1    2   Argentina. First  1779.9\n2    3    Paraguay. First  1743.8\n3    4     Ecuador. First  1720.2\n4    5     Brazil. Second  1676.0\n5    6     Uruguay. First  1673.1\n6    7    Colombia. First  1665.6\n7    8       Chile. First  1605.5\n8    9  Argentina. Second  1604.4\n9   10        Peru. First  1592.5\n10  11   Venezuela. First  1557.8\n11  12     Bolivia. First  1556.2",
      "text/html": "<div>\n<style scoped>\n    .dataframe tbody tr th:only-of-type {\n        vertical-align: middle;\n    }\n\n    .dataframe tbody tr th {\n        vertical-align: top;\n    }\n\n    .dataframe thead th {\n        text-align: right;\n    }\n</style>\n<table border=\"1\" class=\"dataframe\">\n  <thead>\n    <tr style=\"text-align: right;\">\n      <th></th>\n      <th>#</th>\n      <th>league</th>\n      <th>rating</th>\n    </tr>\n  </thead>\n  <tbody>\n    <tr>\n      <th>0</th>\n      <td>1</td>\n      <td>Brazil. First</td>\n      <td>1868.4</td>\n    </tr>\n    <tr>\n      <th>1</th>\n      <td>2</td>\n      <td>Argentina. First</td>\n      <td>1779.9</td>\n    </tr>\n    <tr>\n      <th>2</th>\n      <td>3</td>\n      <td>Paraguay. First</td>\n      <td>1743.8</td>\n    </tr>\n    <tr>\n      <th>3</th>\n      <td>4</td>\n      <td>Ecuador. First</td>\n      <td>1720.2</td>\n    </tr>\n    <tr>\n      <th>4</th>\n      <td>5</td>\n      <td>Brazil. Second</td>\n      <td>1676.0</td>\n    </tr>\n    <tr>\n      <th>5</th>\n      <td>6</td>\n      <td>Uruguay. First</td>\n      <td>1673.1</td>\n    </tr>\n    <tr>\n      <th>6</th>\n      <td>7</td>\n      <td>Colombia. First</td>\n      <td>1665.6</td>\n    </tr>\n    <tr>\n      <th>7</th>\n      <td>8</td>\n      <td>Chile. First</td>\n      <td>1605.5</td>\n    </tr>\n    <tr>\n      <th>8</th>\n      <td>9</td>\n      <td>Argentina. Second</td>\n      <td>1604.4</td>\n    </tr>\n    <tr>\n      <th>9</th>\n      <td>10</td>\n      <td>Peru. First</td>\n      <td>1592.5</td>\n    </tr>\n    <tr>\n      <th>10</th>\n      <td>11</td>\n      <td>Venezuela. First</td>\n      <td>1557.8</td>\n    </tr>\n    <tr>\n      <th>11</th>\n      <td>12</td>\n      <td>Bolivia. First</td>\n      <td>1556.2</td>\n    </tr>\n  </tbody>\n</table>\n</div>"
     },
     "execution_count": 127,
     "metadata": {},
     "output_type": "execute_result"
    }
   ]
  },
  {
   "cell_type": "code",
   "execution_count": null,
   "outputs": [],
   "source": [],
   "metadata": {
    "collapsed": false
   }
  },
  {
   "cell_type": "raw",
   "source": [
    "Compare Models"
   ],
   "metadata": {
    "collapsed": false
   }
  },
  {
   "cell_type": "code",
   "execution_count": 98,
   "outputs": [
    {
     "name": "stdout",
     "output_type": "stream",
     "text": [
      "[LightGBM] [Warning] lambda_l1 is set=1.26258, reg_alpha=0.0 will be ignored. Current value: lambda_l1=1.26258\n",
      "[LightGBM] [Warning] bagging_freq is set=8, subsample_freq=0 will be ignored. Current value: bagging_freq=8\n",
      "[LightGBM] [Warning] lambda_l2 is set=9.50238, reg_lambda=0.0 will be ignored. Current value: lambda_l2=9.50238\n",
      "[LightGBM] [Warning] bagging_fraction is set=0.844, subsample=1.0 will be ignored. Current value: bagging_fraction=0.844\n",
      "[LightGBM] [Warning] min_data_in_leaf is set=20, min_child_samples=20 will be ignored. Current value: min_data_in_leaf=20\n",
      "[LightGBM] [Warning] feature_fraction is set=0.45, colsample_bytree=1.0 will be ignored. Current value: feature_fraction=0.45\n"
     ]
    },
    {
     "data": {
      "text/plain": "               model   loss\n0           Catboost 0.5931\n1           LightGBM 0.5896\n2  Modified Glicko-2 0.5832\n3  Original Glicko-2 0.5949",
      "text/html": "<div>\n<style scoped>\n    .dataframe tbody tr th:only-of-type {\n        vertical-align: middle;\n    }\n\n    .dataframe tbody tr th {\n        vertical-align: top;\n    }\n\n    .dataframe thead th {\n        text-align: right;\n    }\n</style>\n<table border=\"1\" class=\"dataframe\">\n  <thead>\n    <tr style=\"text-align: right;\">\n      <th></th>\n      <th>model</th>\n      <th>loss</th>\n    </tr>\n  </thead>\n  <tbody>\n    <tr>\n      <th>0</th>\n      <td>Catboost</td>\n      <td>0.5931</td>\n    </tr>\n    <tr>\n      <th>1</th>\n      <td>LightGBM</td>\n      <td>0.5896</td>\n    </tr>\n    <tr>\n      <th>2</th>\n      <td>Modified Glicko-2</td>\n      <td>0.5832</td>\n    </tr>\n    <tr>\n      <th>3</th>\n      <td>Original Glicko-2</td>\n      <td>0.5949</td>\n    </tr>\n  </tbody>\n</table>\n</div>"
     },
     "execution_count": 98,
     "metadata": {},
     "output_type": "execute_result"
    }
   ],
   "source": [
    "from soccer.compare_models import compare_models\n",
    "\n",
    "predictions = compare_models(start_season=2021)\n",
    "predictions.head()"
   ],
   "metadata": {
    "collapsed": false,
    "ExecuteTime": {
     "end_time": "2023-09-27T17:36:09.389749Z",
     "start_time": "2023-09-27T17:35:09.262531Z"
    }
   }
  },
  {
   "cell_type": "code",
   "execution_count": null,
   "outputs": [],
   "source": [],
   "metadata": {
    "collapsed": false
   }
  },
  {
   "cell_type": "code",
   "execution_count": null,
   "outputs": [],
   "source": [],
   "metadata": {
    "collapsed": false
   }
  },
  {
   "cell_type": "code",
   "execution_count": null,
   "outputs": [],
   "source": [],
   "metadata": {
    "collapsed": false
   }
  }
 ],
 "metadata": {
  "kernelspec": {
   "name": "python3",
   "language": "python",
   "display_name": "Python 3 (ipykernel)"
  },
  "language_info": {
   "codemirror_mode": {
    "name": "ipython",
    "version": 3
   },
   "file_extension": ".py",
   "mimetype": "text/x-python",
   "name": "python",
   "nbconvert_exporter": "python",
   "pygments_lexer": "ipython3",
   "version": "3.9.7"
  }
 },
 "nbformat": 4,
 "nbformat_minor": 5
}
