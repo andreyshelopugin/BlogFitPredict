{
 "cells": [
  {
   "cell_type": "code",
   "execution_count": 3,
   "id": "4a86a728",
   "metadata": {
    "ExecuteTime": {
     "end_time": "2021-10-31T06:23:31.415615Z",
     "start_time": "2021-10-31T06:23:28.418283Z"
    },
    "pycharm": {
     "name": "#%%\n"
    }
   },
   "outputs": [],
   "source": [
    "%reload_ext autoreload\n",
    "%autoreload 2\n",
    "\n",
    "import numpy as np\n",
    "import pandas as pd\n",
    "\n",
    "pd.options.display.max_columns, pd.options.display.max_rows = 500, 200\n",
    "pd.options.display.float_format = '{:.2f}'.format\n",
    "import warnings\n",
    "\n",
    "warnings.filterwarnings('ignore')\n",
    "import joblib\n",
    "\n",
    "from euro_soccer.preprocessing import DataPreprocessor\n",
    "from euro_soccer.glicko_soccer import GlickoSoccer"
   ]
  },
  {
   "cell_type": "code",
   "execution_count": null,
   "outputs": [],
   "source": [
    "matches = pd.read_csv('data/matches.csv')\n",
    "matches.head(1)"
   ],
   "metadata": {
    "collapsed": false,
    "pycharm": {
     "name": "#%%\n"
    }
   }
  },
  {
   "cell_type": "code",
   "execution_count": 10,
   "id": "e83e46cd",
   "metadata": {
    "ExecuteTime": {
     "end_time": "2021-10-31T06:23:34.260370Z",
     "start_time": "2021-10-31T06:23:33.632554Z"
    },
    "scrolled": false,
    "pycharm": {
     "name": "#%%\n"
    }
   },
   "outputs": [
    {
     "data": {
      "text/plain": "        match_id       date        home_team          away_team  home_score  \\\n355730    268359 2022-06-05  Jedinstvo Bihac  Gradina Srebrenik           1   \n355731    268358 2022-06-05         Igman K.            Gorazde           2   \n355732    268357 2022-06-05       HNK Orasje         Mladost DK           4   \n355733    107853 2022-06-11            Veria              Lamia           1   \n355734    107852 2022-06-18            Lamia              Veria           1   \n\n        away_score                 country                     league  season  \\\n355730           0  Bosnia And Herzegovina           Prva Liga - FBiH    2021   \n355731           0  Bosnia And Herzegovina           Prva Liga - FBiH    2021   \n355732           0  Bosnia And Herzegovina           Prva Liga - FBiH    2021   \n355733           2                  Greece  Super League - Relegation    2021   \n355734           1                  Greece  Super League - Relegation    2021   \n\n                                                file_path  tournament_type  \\\n355730  second/Bosnia And Herzegovina_Prva Liga - FBiH...                2   \n355731  second/Bosnia And Herzegovina_Prva Liga - FBiH...                2   \n355732  second/Bosnia And Herzegovina_Prva Liga - FBiH...                2   \n355733  first/Greece_Super League - Relegation_2021-20...                1   \n355734  first/Greece_Super League - Relegation_2021-20...                1   \n\n                            tournament outcome  is_pandemic  draw_probability  \n355730  Bosnia And Herzegovina. Second       H            0              0.26  \n355731  Bosnia And Herzegovina. Second       H            0              0.24  \n355732  Bosnia And Herzegovina. Second       H            0              0.24  \n355733                   Greece. First       A            0              0.28  \n355734                   Greece. First       D            0              0.34  ",
      "text/html": "<div>\n<style scoped>\n    .dataframe tbody tr th:only-of-type {\n        vertical-align: middle;\n    }\n\n    .dataframe tbody tr th {\n        vertical-align: top;\n    }\n\n    .dataframe thead th {\n        text-align: right;\n    }\n</style>\n<table border=\"1\" class=\"dataframe\">\n  <thead>\n    <tr style=\"text-align: right;\">\n      <th></th>\n      <th>match_id</th>\n      <th>date</th>\n      <th>home_team</th>\n      <th>away_team</th>\n      <th>home_score</th>\n      <th>away_score</th>\n      <th>country</th>\n      <th>league</th>\n      <th>season</th>\n      <th>file_path</th>\n      <th>tournament_type</th>\n      <th>tournament</th>\n      <th>outcome</th>\n      <th>is_pandemic</th>\n      <th>draw_probability</th>\n    </tr>\n  </thead>\n  <tbody>\n    <tr>\n      <th>355730</th>\n      <td>268359</td>\n      <td>2022-06-05</td>\n      <td>Jedinstvo Bihac</td>\n      <td>Gradina Srebrenik</td>\n      <td>1</td>\n      <td>0</td>\n      <td>Bosnia And Herzegovina</td>\n      <td>Prva Liga - FBiH</td>\n      <td>2021</td>\n      <td>second/Bosnia And Herzegovina_Prva Liga - FBiH...</td>\n      <td>2</td>\n      <td>Bosnia And Herzegovina. Second</td>\n      <td>H</td>\n      <td>0</td>\n      <td>0.26</td>\n    </tr>\n    <tr>\n      <th>355731</th>\n      <td>268358</td>\n      <td>2022-06-05</td>\n      <td>Igman K.</td>\n      <td>Gorazde</td>\n      <td>2</td>\n      <td>0</td>\n      <td>Bosnia And Herzegovina</td>\n      <td>Prva Liga - FBiH</td>\n      <td>2021</td>\n      <td>second/Bosnia And Herzegovina_Prva Liga - FBiH...</td>\n      <td>2</td>\n      <td>Bosnia And Herzegovina. Second</td>\n      <td>H</td>\n      <td>0</td>\n      <td>0.24</td>\n    </tr>\n    <tr>\n      <th>355732</th>\n      <td>268357</td>\n      <td>2022-06-05</td>\n      <td>HNK Orasje</td>\n      <td>Mladost DK</td>\n      <td>4</td>\n      <td>0</td>\n      <td>Bosnia And Herzegovina</td>\n      <td>Prva Liga - FBiH</td>\n      <td>2021</td>\n      <td>second/Bosnia And Herzegovina_Prva Liga - FBiH...</td>\n      <td>2</td>\n      <td>Bosnia And Herzegovina. Second</td>\n      <td>H</td>\n      <td>0</td>\n      <td>0.24</td>\n    </tr>\n    <tr>\n      <th>355733</th>\n      <td>107853</td>\n      <td>2022-06-11</td>\n      <td>Veria</td>\n      <td>Lamia</td>\n      <td>1</td>\n      <td>2</td>\n      <td>Greece</td>\n      <td>Super League - Relegation</td>\n      <td>2021</td>\n      <td>first/Greece_Super League - Relegation_2021-20...</td>\n      <td>1</td>\n      <td>Greece. First</td>\n      <td>A</td>\n      <td>0</td>\n      <td>0.28</td>\n    </tr>\n    <tr>\n      <th>355734</th>\n      <td>107852</td>\n      <td>2022-06-18</td>\n      <td>Lamia</td>\n      <td>Veria</td>\n      <td>1</td>\n      <td>1</td>\n      <td>Greece</td>\n      <td>Super League - Relegation</td>\n      <td>2021</td>\n      <td>first/Greece_Super League - Relegation_2021-20...</td>\n      <td>1</td>\n      <td>Greece. First</td>\n      <td>D</td>\n      <td>0</td>\n      <td>0.34</td>\n    </tr>\n  </tbody>\n</table>\n</div>"
     },
     "execution_count": 10,
     "metadata": {},
     "output_type": "execute_result"
    }
   ],
   "source": [
    "matches = DataPreprocessor(is_actual_draw_predictions=False).preprocessing()\n",
    "matches.tail(5)"
   ]
  },
  {
   "cell_type": "code",
   "execution_count": 11,
   "outputs": [
    {
     "data": {
      "text/plain": "(323356, 15)"
     },
     "execution_count": 11,
     "metadata": {},
     "output_type": "execute_result"
    }
   ],
   "source": [
    "matches.shape"
   ],
   "metadata": {
    "collapsed": false,
    "pycharm": {
     "name": "#%%\n"
    }
   }
  },
  {
   "cell_type": "code",
   "execution_count": 30,
   "outputs": [],
   "source": [
    "count_matches, count_seasons, count_tournaments, uefa_teams_without_national, duplicated_teams = DataPreprocessor().test_data(matches)"
   ],
   "metadata": {
    "collapsed": false,
    "pycharm": {
     "name": "#%%\n"
    }
   }
  },
  {
   "cell_type": "markdown",
   "source": [],
   "metadata": {
    "collapsed": false,
    "pycharm": {
     "name": "#%% md\n"
    }
   }
  },
  {
   "cell_type": "markdown",
   "source": [],
   "metadata": {
    "collapsed": false,
    "pycharm": {
     "name": "#%% md\n"
    }
   }
  },
  {
   "cell_type": "code",
   "execution_count": 31,
   "outputs": [
    {
     "data": {
      "text/plain": "       country  tournament_type  season  number_matches\n57   Argentina                2    2021              11\n540     Greece                2    2020              15",
      "text/html": "<div>\n<style scoped>\n    .dataframe tbody tr th:only-of-type {\n        vertical-align: middle;\n    }\n\n    .dataframe tbody tr th {\n        vertical-align: top;\n    }\n\n    .dataframe thead th {\n        text-align: right;\n    }\n</style>\n<table border=\"1\" class=\"dataframe\">\n  <thead>\n    <tr style=\"text-align: right;\">\n      <th></th>\n      <th>country</th>\n      <th>tournament_type</th>\n      <th>season</th>\n      <th>number_matches</th>\n    </tr>\n  </thead>\n  <tbody>\n    <tr>\n      <th>57</th>\n      <td>Argentina</td>\n      <td>2</td>\n      <td>2021</td>\n      <td>11</td>\n    </tr>\n    <tr>\n      <th>540</th>\n      <td>Greece</td>\n      <td>2</td>\n      <td>2020</td>\n      <td>15</td>\n    </tr>\n  </tbody>\n</table>\n</div>"
     },
     "execution_count": 31,
     "metadata": {},
     "output_type": "execute_result"
    }
   ],
   "source": [
    "count_matches"
   ],
   "metadata": {
    "collapsed": false,
    "pycharm": {
     "name": "#%%\n"
    }
   }
  },
  {
   "cell_type": "code",
   "execution_count": 32,
   "outputs": [
    {
     "data": {
      "text/plain": "           country  tournament_type  number_seasons\n20      Azerbaijan                2               2\n80   Faroe Islands                2               2\n103         Greece                2               2",
      "text/html": "<div>\n<style scoped>\n    .dataframe tbody tr th:only-of-type {\n        vertical-align: middle;\n    }\n\n    .dataframe tbody tr th {\n        vertical-align: top;\n    }\n\n    .dataframe thead th {\n        text-align: right;\n    }\n</style>\n<table border=\"1\" class=\"dataframe\">\n  <thead>\n    <tr style=\"text-align: right;\">\n      <th></th>\n      <th>country</th>\n      <th>tournament_type</th>\n      <th>number_seasons</th>\n    </tr>\n  </thead>\n  <tbody>\n    <tr>\n      <th>20</th>\n      <td>Azerbaijan</td>\n      <td>2</td>\n      <td>2</td>\n    </tr>\n    <tr>\n      <th>80</th>\n      <td>Faroe Islands</td>\n      <td>2</td>\n      <td>2</td>\n    </tr>\n    <tr>\n      <th>103</th>\n      <td>Greece</td>\n      <td>2</td>\n      <td>2</td>\n    </tr>\n  </tbody>\n</table>\n</div>"
     },
     "execution_count": 32,
     "metadata": {},
     "output_type": "execute_result"
    }
   ],
   "source": [
    "count_seasons"
   ],
   "metadata": {
    "collapsed": false,
    "pycharm": {
     "name": "#%%\n"
    }
   }
  },
  {
   "cell_type": "code",
   "execution_count": 33,
   "outputs": [
    {
     "data": {
      "text/plain": "Empty DataFrame\nColumns: [country, number_tournaments, tournament_type]\nIndex: []",
      "text/html": "<div>\n<style scoped>\n    .dataframe tbody tr th:only-of-type {\n        vertical-align: middle;\n    }\n\n    .dataframe tbody tr th {\n        vertical-align: top;\n    }\n\n    .dataframe thead th {\n        text-align: right;\n    }\n</style>\n<table border=\"1\" class=\"dataframe\">\n  <thead>\n    <tr style=\"text-align: right;\">\n      <th></th>\n      <th>country</th>\n      <th>number_tournaments</th>\n      <th>tournament_type</th>\n    </tr>\n  </thead>\n  <tbody>\n  </tbody>\n</table>\n</div>"
     },
     "execution_count": 33,
     "metadata": {},
     "output_type": "execute_result"
    }
   ],
   "source": [
    "count_tournaments"
   ],
   "metadata": {
    "collapsed": false,
    "pycharm": {
     "name": "#%%\n"
    }
   }
  },
  {
   "cell_type": "code",
   "execution_count": 34,
   "outputs": [
    {
     "data": {
      "text/plain": "[]"
     },
     "execution_count": 34,
     "metadata": {},
     "output_type": "execute_result"
    }
   ],
   "source": [
    "uefa_teams_without_national"
   ],
   "metadata": {
    "collapsed": false,
    "pycharm": {
     "name": "#%%\n"
    }
   }
  },
  {
   "cell_type": "code",
   "execution_count": 35,
   "outputs": [
    {
     "data": {
      "text/plain": "Empty DataFrame\nColumns: [home_team, country]\nIndex: []",
      "text/html": "<div>\n<style scoped>\n    .dataframe tbody tr th:only-of-type {\n        vertical-align: middle;\n    }\n\n    .dataframe tbody tr th {\n        vertical-align: top;\n    }\n\n    .dataframe thead th {\n        text-align: right;\n    }\n</style>\n<table border=\"1\" class=\"dataframe\">\n  <thead>\n    <tr style=\"text-align: right;\">\n      <th></th>\n      <th>home_team</th>\n      <th>country</th>\n    </tr>\n  </thead>\n  <tbody>\n  </tbody>\n</table>\n</div>"
     },
     "execution_count": 35,
     "metadata": {},
     "output_type": "execute_result"
    }
   ],
   "source": [
    "duplicated_teams"
   ],
   "metadata": {
    "collapsed": false,
    "pycharm": {
     "name": "#%%\n"
    }
   }
  },
  {
   "cell_type": "code",
   "execution_count": null,
   "outputs": [],
   "source": [],
   "metadata": {
    "collapsed": false,
    "pycharm": {
     "name": "#%%\n"
    }
   }
  },
  {
   "cell_type": "markdown",
   "source": [],
   "metadata": {
    "collapsed": false,
    "pycharm": {
     "name": "#%% md\n"
    }
   }
  },
  {
   "cell_type": "code",
   "execution_count": null,
   "outputs": [],
   "source": [
    "matches.info()"
   ],
   "metadata": {
    "collapsed": false,
    "pycharm": {
     "name": "#%%\n"
    }
   }
  },
  {
   "cell_type": "code",
   "execution_count": null,
   "id": "e991a1e8",
   "metadata": {
    "ExecuteTime": {
     "end_time": "2021-10-24T11:04:09.063149Z",
     "start_time": "2021-10-24T11:04:08.908334Z"
    },
    "pycharm": {
     "name": "#%%\n"
    }
   },
   "outputs": [],
   "source": [
    "# matches['draw_probability'].mean()"
   ]
  },
  {
   "cell_type": "code",
   "execution_count": null,
   "id": "71ca8c4a",
   "metadata": {
    "ExecuteTime": {
     "end_time": "2021-10-23T08:31:55.616338Z",
     "start_time": "2021-10-23T08:31:55.175290Z"
    },
    "pycharm": {
     "name": "#%%\n"
    }
   },
   "outputs": [],
   "source": [
    "# # matches.loc[(matches['home_team'].str.contains('B')) & (matches['away_team'].str.contains('AS Roma'))]"
   ]
  },
  {
   "cell_type": "code",
   "execution_count": null,
   "id": "d2bc426d",
   "metadata": {
    "ExecuteTime": {
     "end_time": "2021-10-17T16:50:39.263142Z",
     "start_time": "2021-10-17T16:50:39.201859Z"
    },
    "pycharm": {
     "name": "#%%\n"
    }
   },
   "outputs": [],
   "source": [
    "# matches.info()"
   ]
  },
  {
   "cell_type": "code",
   "execution_count": null,
   "outputs": [],
   "source": [
    "# matches['season'].value_counts()"
   ],
   "metadata": {
    "collapsed": false,
    "pycharm": {
     "name": "#%%\n"
    }
   }
  },
  {
   "cell_type": "code",
   "execution_count": null,
   "outputs": [],
   "source": [
    "# matches.loc[matches['tournament'].str.contains('Con')]"
   ],
   "metadata": {
    "collapsed": false,
    "pycharm": {
     "name": "#%%\n"
    }
   }
  },
  {
   "cell_type": "markdown",
   "id": "11653b5c",
   "metadata": {
    "pycharm": {
     "name": "#%% md\n"
    }
   },
   "source": [
    "# Fit Params"
   ]
  },
  {
   "cell_type": "markdown",
   "source": [],
   "metadata": {
    "collapsed": false,
    "pycharm": {
     "name": "#%% md\n"
    }
   }
  },
  {
   "cell_type": "code",
   "execution_count": 23,
   "id": "da811e92",
   "metadata": {
    "ExecuteTime": {
     "end_time": "2021-10-11T10:45:05.038512Z",
     "start_time": "2021-10-11T10:42:55.647176Z"
    },
    "pycharm": {
     "name": "#%%\n"
    }
   },
   "outputs": [
    {
     "name": "stdout",
     "output_type": "stream",
     "text": [
      "Current Loss: 44728.34473780513\n",
      "Russia. First 1500\n",
      "Estonia. First 1500\n",
      "Norway. Second 1500\n",
      "Armenia. Second 1500\n",
      "Slovakia. First 1500\n",
      "Northern Ireland. Second 1500\n",
      "Hungary. First 1500\n",
      "Belgium. First 1500\n",
      "Germany. First 1500\n",
      "San Marino. First 1500\n",
      "Ukraine. Second 1500\n",
      "Scotland. First 1500\n",
      "Bulgaria. First 1500\n",
      "Serbia. First 1500\n",
      "Argentina. Second 1500\n",
      "Georgia. Second 1500\n",
      "Azerbaijan. First 1500\n",
      "Romania. Second 1500\n",
      "Iceland. Second 1500\n",
      "Norway. First 1500\n",
      "Uruguay. First 1500\n",
      "Wales. First 1500\n",
      "Faroe Islands. First 1500\n",
      "Italy. First 1500\n",
      "Croatia. First 1500\n",
      "Lithuania. Second 1500\n",
      "Slovenia. Second 1500\n",
      "Switzerland. First 1500\n",
      "Brazil. Second 1500\n",
      "England. First 1500\n",
      "Scotland. Second 1500\n",
      "Albania. First 1500\n",
      "Kosovo. First 1500\n",
      "Ireland. First 1500\n",
      "Latvia. First 1500\n",
      "Argentina. First 1500\n",
      "Bosnia And Herzegovina. First 1500\n",
      "Belgium. Second 1500\n",
      "Brazil. First 1500\n",
      "Finland. Second 1500\n",
      "Ecuador. First 1500\n",
      "Netherlands. Second 1500\n",
      "Peru. First 1500\n",
      "Malta. First 1500\n",
      "Venezuela. First 1500\n",
      "Albania. Second 1500\n",
      "Faroe Islands. Second 1500\n",
      "Belarus. Second 1500\n",
      "Armenia. First 1500\n",
      "Switzerland. Second 1500\n",
      "Finland. First 1500\n",
      "Sweden. First 1500\n",
      "Ukraine. First 1500\n",
      "Estonia. Second 1500\n",
      "Turkey. Second 1500\n",
      "Netherlands. First 1500\n",
      "Chile. First 1500\n",
      "Portugal. First 1500\n",
      "Austria. Second 1500\n",
      "Romania. First 1500\n",
      "Luxembourg. First 1500\n",
      "Israel. Second 1500\n"
     ]
    },
    {
     "ename": "KeyboardInterrupt",
     "evalue": "",
     "output_type": "error",
     "traceback": [
      "\u001B[0;31m---------------------------------------------------------------------------\u001B[0m",
      "\u001B[0;31mKeyboardInterrupt\u001B[0m                         Traceback (most recent call last)",
      "Input \u001B[0;32mIn [23]\u001B[0m, in \u001B[0;36m<cell line: 2>\u001B[0;34m()\u001B[0m\n\u001B[1;32m      1\u001B[0m glicko \u001B[38;5;241m=\u001B[39m GlickoSoccer()  \u001B[38;5;66;03m#\u001B[39;00m\n\u001B[0;32m----> 2\u001B[0m league_params \u001B[38;5;241m=\u001B[39m \u001B[43mglicko\u001B[49m\u001B[38;5;241;43m.\u001B[39;49m\u001B[43mfit_params\u001B[49m\u001B[43m(\u001B[49m\u001B[43mmatches\u001B[49m\u001B[43m,\u001B[49m\u001B[43m \u001B[49m\u001B[38;5;241;43m1\u001B[39;49m\u001B[43m,\u001B[49m\u001B[43m \u001B[49m\u001B[43mis_params_initialization\u001B[49m\u001B[38;5;241;43m=\u001B[39;49m\u001B[38;5;28;43;01mTrue\u001B[39;49;00m\u001B[43m)\u001B[49m\n",
      "File \u001B[0;32m~/PycharmProjects/GlickoSoccer/euro_soccer/glicko_soccer.py:442\u001B[0m, in \u001B[0;36mGlickoSoccer.fit_params\u001B[0;34m(self, results, number_iterations, is_params_initialization)\u001B[0m\n\u001B[1;32m    439\u001B[0m \u001B[38;5;28;01mfor\u001B[39;00m country_params \u001B[38;5;129;01min\u001B[39;00m params_list:\n\u001B[1;32m    440\u001B[0m     league_params_copy[league]\u001B[38;5;241m.\u001B[39mupdate(\u001B[38;5;28mzip\u001B[39m(league_params_copy[league], country_params))\n\u001B[0;32m--> 442\u001B[0m     params_loss[country_params] \u001B[38;5;241m=\u001B[39m \u001B[38;5;28;43mself\u001B[39;49m\u001B[38;5;241;43m.\u001B[39;49m\u001B[43mcalculate_loss\u001B[49m\u001B[43m(\u001B[49m\u001B[43mresults\u001B[49m\u001B[43m,\u001B[49m\u001B[43m \u001B[49m\u001B[43mleague_params_copy\u001B[49m\u001B[43m,\u001B[49m\u001B[43m \u001B[49m\u001B[43mteam_leagues_all\u001B[49m\u001B[43m,\u001B[49m\u001B[43m \u001B[49m\u001B[43mmissed_prev\u001B[49m\u001B[43m,\u001B[49m\n\u001B[1;32m    443\u001B[0m \u001B[43m                                                      \u001B[49m\u001B[43mchanged\u001B[49m\u001B[43m,\u001B[49m\n\u001B[1;32m    444\u001B[0m \u001B[43m                                                      \u001B[49m\u001B[43msame\u001B[49m\u001B[43m,\u001B[49m\n\u001B[1;32m    445\u001B[0m \u001B[43m                                                      \u001B[49m\u001B[43mindexes_for_update\u001B[49m\u001B[43m)\u001B[49m\n\u001B[1;32m    447\u001B[0m optimal_params \u001B[38;5;241m=\u001B[39m \u001B[38;5;28mmin\u001B[39m(params_loss, key\u001B[38;5;241m=\u001B[39mparams_loss\u001B[38;5;241m.\u001B[39mget)\n\u001B[1;32m    449\u001B[0m \u001B[38;5;66;03m# if params_loss[optimal_params] < current_loss:\u001B[39;00m\n\u001B[1;32m    450\u001B[0m \u001B[38;5;66;03m#     optimal_params_dict = dict(zip(league_params_copy[league], optimal_params))\u001B[39;00m\n\u001B[1;32m    451\u001B[0m \u001B[38;5;66;03m#     league_params[league] = optimal_params_dict\u001B[39;00m\n\u001B[0;32m   (...)\u001B[0m\n\u001B[1;32m    455\u001B[0m \u001B[38;5;66;03m#\u001B[39;00m\n\u001B[1;32m    456\u001B[0m \u001B[38;5;66;03m#     current_loss = params_loss[optimal_params]\u001B[39;00m\n",
      "File \u001B[0;32m~/PycharmProjects/GlickoSoccer/euro_soccer/glicko_soccer.py:301\u001B[0m, in \u001B[0;36mGlickoSoccer.calculate_loss\u001B[0;34m(self, results, league_params, team_leagues_all, missed_previous_season, changed_league, same_league, indexes_for_update_ratings)\u001B[0m\n\u001B[1;32m    298\u001B[0m         log_loss_value \u001B[38;5;241m+\u001B[39m\u001B[38;5;241m=\u001B[39m three_outcomes_log_loss(win_probability, tie_probability, loss_probability, outcome)\n\u001B[1;32m    300\u001B[0m     \u001B[38;5;66;03m# update team ratings\u001B[39;00m\n\u001B[0;32m--> 301\u001B[0m     ratings[home_team], ratings[away_team] \u001B[38;5;241m=\u001B[39m \u001B[43mglicko\u001B[49m\u001B[38;5;241;43m.\u001B[39;49m\u001B[43mrate\u001B[49m\u001B[43m(\u001B[49m\u001B[43mhome_rating\u001B[49m\u001B[43m,\u001B[49m\n\u001B[1;32m    302\u001B[0m \u001B[43m                                                         \u001B[49m\u001B[43maway_rating\u001B[49m\u001B[43m,\u001B[49m\n\u001B[1;32m    303\u001B[0m \u001B[43m                                                         \u001B[49m\u001B[43mhome_advantage\u001B[49m\u001B[43m,\u001B[49m\n\u001B[1;32m    304\u001B[0m \u001B[43m                                                         \u001B[49m\u001B[43moutcome\u001B[49m\u001B[43m,\u001B[49m\n\u001B[1;32m    305\u001B[0m \u001B[43m                                                         \u001B[49m\u001B[43mskellam_draw_probability\u001B[49m\u001B[43m)\u001B[49m\n\u001B[1;32m    307\u001B[0m \u001B[38;5;28;01mreturn\u001B[39;00m log_loss_value\n",
      "File \u001B[0;32m~/PycharmProjects/GlickoSoccer/glicko2.py:224\u001B[0m, in \u001B[0;36mGlicko2.rate\u001B[0;34m(self, home_rating, away_rating, advantage, outcome, skellam_draw_probability)\u001B[0m\n\u001B[1;32m    221\u001B[0m \u001B[38;5;28;01melse\u001B[39;00m:\n\u001B[1;32m    222\u001B[0m     new_increased_home_rating \u001B[38;5;241m=\u001B[39m \u001B[38;5;28mself\u001B[39m\u001B[38;5;241m.\u001B[39m_update_rating(increased_home_rating, decreased_away_rating, \u001B[38;5;241m0\u001B[39m,\n\u001B[1;32m    223\u001B[0m                                                     skellam_draw_probability)\n\u001B[0;32m--> 224\u001B[0m     new_decreased_away_rating \u001B[38;5;241m=\u001B[39m \u001B[38;5;28;43mself\u001B[39;49m\u001B[38;5;241;43m.\u001B[39;49m\u001B[43m_update_rating\u001B[49m\u001B[43m(\u001B[49m\u001B[43mdecreased_away_rating\u001B[49m\u001B[43m,\u001B[49m\u001B[43m \u001B[49m\u001B[43mincreased_home_rating\u001B[49m\u001B[43m,\u001B[49m\u001B[43m \u001B[49m\u001B[38;5;241;43m1\u001B[39;49m\u001B[43m,\u001B[49m\n\u001B[1;32m    225\u001B[0m \u001B[43m                                                    \u001B[49m\u001B[43mskellam_draw_probability\u001B[49m\u001B[43m)\u001B[49m\n\u001B[1;32m    227\u001B[0m \u001B[38;5;66;03m# subtract advantage\u001B[39;00m\n\u001B[1;32m    228\u001B[0m updated_home_rating \u001B[38;5;241m=\u001B[39m \u001B[38;5;28mself\u001B[39m\u001B[38;5;241m.\u001B[39m_increase_mu(new_increased_home_rating, \u001B[38;5;241m-\u001B[39madvantage)\n",
      "File \u001B[0;32m~/PycharmProjects/GlickoSoccer/glicko2.py:163\u001B[0m, in \u001B[0;36mGlicko2._update_rating\u001B[0;34m(self, rating, rating_opp, outcome, skellam_draw_probability)\u001B[0m\n\u001B[1;32m    155\u001B[0m \u001B[38;5;124;03m\"\"\"\u001B[39;00m\n\u001B[1;32m    156\u001B[0m \u001B[38;5;124;03m    Run all steps.\u001B[39;00m\n\u001B[1;32m    157\u001B[0m \u001B[38;5;124;03m    Step 6. Update the rating deviation to the new pre-rating period value, φ*.\u001B[39;00m\n\u001B[1;32m    158\u001B[0m \u001B[38;5;124;03m    Step 7. Update the rating and RD to the new values, µ' and φ'.\u001B[39;00m\n\u001B[1;32m    159\u001B[0m \u001B[38;5;124;03m    Step 8. Convert ratings and RD’s back to original scale\u001B[39;00m\n\u001B[1;32m    160\u001B[0m \u001B[38;5;124;03m\"\"\"\u001B[39;00m\n\u001B[1;32m    162\u001B[0m rating \u001B[38;5;241m=\u001B[39m \u001B[38;5;28mself\u001B[39m\u001B[38;5;241m.\u001B[39m_convert_into_glicko2(rating)\n\u001B[0;32m--> 163\u001B[0m rating_opp \u001B[38;5;241m=\u001B[39m \u001B[38;5;28;43mself\u001B[39;49m\u001B[38;5;241;43m.\u001B[39;49m\u001B[43m_convert_into_glicko2\u001B[49m\u001B[43m(\u001B[49m\u001B[43mrating_opp\u001B[49m\u001B[43m)\u001B[49m\n\u001B[1;32m    165\u001B[0m mu \u001B[38;5;241m=\u001B[39m rating\u001B[38;5;241m.\u001B[39mmu\n\u001B[1;32m    166\u001B[0m phi \u001B[38;5;241m=\u001B[39m rating\u001B[38;5;241m.\u001B[39mrd\n",
      "File \u001B[0;32m~/PycharmProjects/GlickoSoccer/glicko2.py:33\u001B[0m, in \u001B[0;36mGlicko2._convert_into_glicko2\u001B[0;34m(self, rating)\u001B[0m\n\u001B[1;32m     31\u001B[0m mu \u001B[38;5;241m=\u001B[39m ((rating\u001B[38;5;241m.\u001B[39mmu \u001B[38;5;241m-\u001B[39m \u001B[38;5;28mself\u001B[39m\u001B[38;5;241m.\u001B[39mmu) \u001B[38;5;241m*\u001B[39m \u001B[38;5;28mself\u001B[39m\u001B[38;5;241m.\u001B[39mq)\n\u001B[1;32m     32\u001B[0m phi \u001B[38;5;241m=\u001B[39m (rating\u001B[38;5;241m.\u001B[39mrd \u001B[38;5;241m*\u001B[39m \u001B[38;5;28mself\u001B[39m\u001B[38;5;241m.\u001B[39mq)\n\u001B[0;32m---> 33\u001B[0m \u001B[38;5;28;01mreturn\u001B[39;00m \u001B[43mRating\u001B[49m\u001B[43m(\u001B[49m\u001B[43mmu\u001B[49m\u001B[43m,\u001B[49m\u001B[43m \u001B[49m\u001B[43mphi\u001B[49m\u001B[43m,\u001B[49m\u001B[43m \u001B[49m\u001B[43mrating\u001B[49m\u001B[38;5;241;43m.\u001B[39;49m\u001B[43mvolatility\u001B[49m\u001B[43m)\u001B[49m\n",
      "File \u001B[0;32m<string>:2\u001B[0m, in \u001B[0;36m__init__\u001B[0;34m(self, mu, rd, volatility)\u001B[0m\n",
      "\u001B[0;31mKeyboardInterrupt\u001B[0m: "
     ]
    }
   ],
   "source": [
    "glicko = GlickoSoccer()  #\n",
    "league_params = glicko.fit_params(matches, 1, is_params_initialization=True)"
   ]
  },
  {
   "cell_type": "markdown",
   "source": [],
   "metadata": {
    "collapsed": false,
    "pycharm": {
     "name": "#%% md\n"
    }
   }
  },
  {
   "cell_type": "markdown",
   "source": [],
   "metadata": {
    "collapsed": false,
    "pycharm": {
     "name": "#%% md\n"
    }
   }
  },
  {
   "cell_type": "markdown",
   "source": [],
   "metadata": {
    "collapsed": false,
    "pycharm": {
     "name": "#%% md\n"
    }
   }
  },
  {
   "cell_type": "code",
   "execution_count": null,
   "outputs": [],
   "source": [],
   "metadata": {
    "collapsed": false,
    "pycharm": {
     "name": "#%%\n"
    }
   }
  },
  {
   "cell_type": "code",
   "execution_count": null,
   "outputs": [],
   "source": [],
   "metadata": {
    "collapsed": false,
    "pycharm": {
     "name": "#%%\n"
    }
   }
  },
  {
   "cell_type": "code",
   "execution_count": null,
   "outputs": [],
   "source": [],
   "metadata": {
    "collapsed": false,
    "pycharm": {
     "name": "#%%\n"
    }
   }
  },
  {
   "cell_type": "code",
   "execution_count": null,
   "outputs": [],
   "source": [],
   "metadata": {
    "collapsed": false,
    "pycharm": {
     "name": "#%%\n"
    }
   }
  },
  {
   "cell_type": "code",
   "execution_count": null,
   "outputs": [],
   "source": [],
   "metadata": {
    "collapsed": false,
    "pycharm": {
     "name": "#%%\n"
    }
   }
  },
  {
   "cell_type": "code",
   "execution_count": null,
   "outputs": [],
   "source": [],
   "metadata": {
    "collapsed": false,
    "pycharm": {
     "name": "#%%\n"
    }
   }
  },
  {
   "cell_type": "markdown",
   "source": [],
   "metadata": {
    "collapsed": false,
    "pycharm": {
     "name": "#%% md\n"
    }
   }
  },
  {
   "cell_type": "markdown",
   "id": "c0b250f0",
   "metadata": {
    "pycharm": {
     "name": "#%% md\n"
    }
   },
   "source": [
    "# Ratings"
   ]
  },
  {
   "cell_type": "code",
   "execution_count": 54,
   "id": "4cd7df5b",
   "metadata": {
    "ExecuteTime": {
     "end_time": "2021-10-31T06:24:00.223216Z",
     "start_time": "2021-10-31T06:23:57.642851Z"
    },
    "scrolled": false,
    "pycharm": {
     "name": "#%%\n"
    }
   },
   "outputs": [
    {
     "data": {
      "text/plain": "       #                          league  rating\n0      1                  England. First  1889.1\n1      2                    Italy. First  1867.3\n2      3                    Spain. First  1849.4\n3      4                  Germany. First  1827.0\n4      5                   Cyprus. First  1801.3\n5      6                 Portugal. First  1778.8\n6      7                   France. First  1778.7\n7      8           Czech Republic. First  1777.4\n8      9         Northern Ireland. First  1775.1\n9     10                 Bulgaria. First  1773.3\n10    11                   Russia. First  1769.4\n11    12                   Norway. First  1768.8\n12    13                   Sweden. First  1763.3\n13    14                   Brazil. First  1756.7\n14    15              Netherlands. First  1755.9\n15    16                  Denmark. First  1752.5\n16    17                   Serbia. First  1752.4\n17    18                  Belgium. First  1748.0\n18    19                  Belarus. First  1747.6\n19    20                  Albania. First  1747.1\n20    21                   Turkey. First  1740.3\n21    22                  Croatia. First  1740.1\n22    23          North Macedonia. First  1734.7\n23    24   Bosnia And Herzegovina. First  1727.2\n24    25                  Finland. First  1720.7\n25    26                  Estonia. First  1718.5\n26    27               Luxembourg. First  1718.0\n27    28                  Austria. First  1713.4\n28    29                 Scotland. First  1711.0\n29    30                    Malta. First  1706.0\n30    31                  Romania. First  1703.9\n31    32                  Iceland. First  1697.0\n32    33                   Poland. First  1685.6\n33    34                Lithuania. First  1684.8\n34    35                 Slovakia. First  1679.5\n35    36                 Slovenia. First  1679.1\n36    37              Switzerland. First  1677.7\n37    38                  Hungary. First  1675.9\n38    39                  Georgia. First  1672.5\n39    40                   Greece. First  1671.4\n40    41                   Latvia. First  1670.9\n41    42                  Ireland. First  1656.0\n42    43               Kazakhstan. First  1652.3\n43    44                   Israel. First  1650.6\n44    45                  Uruguay. First  1644.3\n45    46                 Paraguay. First  1643.9\n46    47                  Ecuador. First  1641.2\n47    48            Faroe Islands. First  1638.1\n48    49                 Colombia. First  1636.1\n49    50                   Kosovo. First  1629.9\n50    51                     Peru. First  1629.2\n51    52                  Andorra. First  1612.3\n52    53                  Moldova. First  1610.3\n53    54               Montenegro. First  1608.0\n54    55                    Wales. First  1607.9\n55    56                  Armenia. First  1596.7\n56    57                    Chile. First  1591.3\n57    58                  Bolivia. First  1584.5\n58    59               Azerbaijan. First  1581.0\n59    60                Venezuela. First  1577.9\n60    61                Argentina. First  1559.5\n61    62                 Germany. Second  1547.1\n62    63                Gibraltar. First  1539.7\n63    64                 England. Second  1539.0\n64    65               San Marino. First  1537.3\n65    66                  Ukraine. First  1535.3\n66    67  Bosnia And Herzegovina. Second  1530.7\n67    68                  Brazil. Second  1523.3\n68    69                   Spain. Second  1515.0\n69    70              Azerbaijan. Second  1511.5\n70    71                  France. Second  1510.4\n71    72                  Turkey. Second  1509.8\n72    73                 Denmark. Second  1509.3\n73    74                  Poland. Second  1509.3\n74    75                Bulgaria. Second  1508.0\n75    76                 Albania. Second  1503.3\n76    77                  Russia. Second  1500.8\n77    78                  Sweden. Second  1499.8\n78    79                 Hungary. Second  1499.3\n79    80                   Malta. Second  1498.5\n80    81                   Italy. Second  1497.7\n81    82                 Croatia. Second  1492.7\n82    83         North Macedonia. Second  1490.0\n83    84                  Israel. Second  1486.8\n84    85                  Serbia. Second  1483.9\n85    86                  Norway. Second  1483.9\n86    87                 Finland. Second  1483.7\n87    88          Czech Republic. Second  1483.2\n88    89                Slovenia. Second  1482.7\n89    90                 Estonia. Second  1478.0\n90    91                 Romania. Second  1476.8\n91    92                 Georgia. Second  1475.6\n92    93                Scotland. Second  1469.0\n93    94                  Greece. Second  1466.2\n94    95                 Austria. Second  1464.2\n95    96             Switzerland. Second  1456.3\n96    97                Portugal. Second  1454.0\n97    98                 Belgium. Second  1453.9\n98    99                  Cyprus. Second  1446.6\n99   100                Slovakia. Second  1446.1\n100  101               Argentina. Second  1443.1\n101  102                 Ukraine. Second  1443.0\n102  103                 Belarus. Second  1432.7\n103  104                 Iceland. Second  1426.4\n104  105        Northern Ireland. Second  1418.4\n105  106                 Armenia. Second  1404.5\n106  107             Netherlands. Second  1400.1\n107  108               Lithuania. Second  1398.0\n108  109           Faroe Islands. Second  1396.0\n109  110              Kazakhstan. Second  1383.8\n110  111                  Latvia. Second  1379.0\n111  112                 Ireland. Second  1309.2",
      "text/html": "<div>\n<style scoped>\n    .dataframe tbody tr th:only-of-type {\n        vertical-align: middle;\n    }\n\n    .dataframe tbody tr th {\n        vertical-align: top;\n    }\n\n    .dataframe thead th {\n        text-align: right;\n    }\n</style>\n<table border=\"1\" class=\"dataframe\">\n  <thead>\n    <tr style=\"text-align: right;\">\n      <th></th>\n      <th>#</th>\n      <th>league</th>\n      <th>rating</th>\n    </tr>\n  </thead>\n  <tbody>\n    <tr>\n      <th>0</th>\n      <td>1</td>\n      <td>England. First</td>\n      <td>1889.1</td>\n    </tr>\n    <tr>\n      <th>1</th>\n      <td>2</td>\n      <td>Italy. First</td>\n      <td>1867.3</td>\n    </tr>\n    <tr>\n      <th>2</th>\n      <td>3</td>\n      <td>Spain. First</td>\n      <td>1849.4</td>\n    </tr>\n    <tr>\n      <th>3</th>\n      <td>4</td>\n      <td>Germany. First</td>\n      <td>1827.0</td>\n    </tr>\n    <tr>\n      <th>4</th>\n      <td>5</td>\n      <td>Cyprus. First</td>\n      <td>1801.3</td>\n    </tr>\n    <tr>\n      <th>5</th>\n      <td>6</td>\n      <td>Portugal. First</td>\n      <td>1778.8</td>\n    </tr>\n    <tr>\n      <th>6</th>\n      <td>7</td>\n      <td>France. First</td>\n      <td>1778.7</td>\n    </tr>\n    <tr>\n      <th>7</th>\n      <td>8</td>\n      <td>Czech Republic. First</td>\n      <td>1777.4</td>\n    </tr>\n    <tr>\n      <th>8</th>\n      <td>9</td>\n      <td>Northern Ireland. First</td>\n      <td>1775.1</td>\n    </tr>\n    <tr>\n      <th>9</th>\n      <td>10</td>\n      <td>Bulgaria. First</td>\n      <td>1773.3</td>\n    </tr>\n    <tr>\n      <th>10</th>\n      <td>11</td>\n      <td>Russia. First</td>\n      <td>1769.4</td>\n    </tr>\n    <tr>\n      <th>11</th>\n      <td>12</td>\n      <td>Norway. First</td>\n      <td>1768.8</td>\n    </tr>\n    <tr>\n      <th>12</th>\n      <td>13</td>\n      <td>Sweden. First</td>\n      <td>1763.3</td>\n    </tr>\n    <tr>\n      <th>13</th>\n      <td>14</td>\n      <td>Brazil. First</td>\n      <td>1756.7</td>\n    </tr>\n    <tr>\n      <th>14</th>\n      <td>15</td>\n      <td>Netherlands. First</td>\n      <td>1755.9</td>\n    </tr>\n    <tr>\n      <th>15</th>\n      <td>16</td>\n      <td>Denmark. First</td>\n      <td>1752.5</td>\n    </tr>\n    <tr>\n      <th>16</th>\n      <td>17</td>\n      <td>Serbia. First</td>\n      <td>1752.4</td>\n    </tr>\n    <tr>\n      <th>17</th>\n      <td>18</td>\n      <td>Belgium. First</td>\n      <td>1748.0</td>\n    </tr>\n    <tr>\n      <th>18</th>\n      <td>19</td>\n      <td>Belarus. First</td>\n      <td>1747.6</td>\n    </tr>\n    <tr>\n      <th>19</th>\n      <td>20</td>\n      <td>Albania. First</td>\n      <td>1747.1</td>\n    </tr>\n    <tr>\n      <th>20</th>\n      <td>21</td>\n      <td>Turkey. First</td>\n      <td>1740.3</td>\n    </tr>\n    <tr>\n      <th>21</th>\n      <td>22</td>\n      <td>Croatia. First</td>\n      <td>1740.1</td>\n    </tr>\n    <tr>\n      <th>22</th>\n      <td>23</td>\n      <td>North Macedonia. First</td>\n      <td>1734.7</td>\n    </tr>\n    <tr>\n      <th>23</th>\n      <td>24</td>\n      <td>Bosnia And Herzegovina. First</td>\n      <td>1727.2</td>\n    </tr>\n    <tr>\n      <th>24</th>\n      <td>25</td>\n      <td>Finland. First</td>\n      <td>1720.7</td>\n    </tr>\n    <tr>\n      <th>25</th>\n      <td>26</td>\n      <td>Estonia. First</td>\n      <td>1718.5</td>\n    </tr>\n    <tr>\n      <th>26</th>\n      <td>27</td>\n      <td>Luxembourg. First</td>\n      <td>1718.0</td>\n    </tr>\n    <tr>\n      <th>27</th>\n      <td>28</td>\n      <td>Austria. First</td>\n      <td>1713.4</td>\n    </tr>\n    <tr>\n      <th>28</th>\n      <td>29</td>\n      <td>Scotland. First</td>\n      <td>1711.0</td>\n    </tr>\n    <tr>\n      <th>29</th>\n      <td>30</td>\n      <td>Malta. First</td>\n      <td>1706.0</td>\n    </tr>\n    <tr>\n      <th>30</th>\n      <td>31</td>\n      <td>Romania. First</td>\n      <td>1703.9</td>\n    </tr>\n    <tr>\n      <th>31</th>\n      <td>32</td>\n      <td>Iceland. First</td>\n      <td>1697.0</td>\n    </tr>\n    <tr>\n      <th>32</th>\n      <td>33</td>\n      <td>Poland. First</td>\n      <td>1685.6</td>\n    </tr>\n    <tr>\n      <th>33</th>\n      <td>34</td>\n      <td>Lithuania. First</td>\n      <td>1684.8</td>\n    </tr>\n    <tr>\n      <th>34</th>\n      <td>35</td>\n      <td>Slovakia. First</td>\n      <td>1679.5</td>\n    </tr>\n    <tr>\n      <th>35</th>\n      <td>36</td>\n      <td>Slovenia. First</td>\n      <td>1679.1</td>\n    </tr>\n    <tr>\n      <th>36</th>\n      <td>37</td>\n      <td>Switzerland. First</td>\n      <td>1677.7</td>\n    </tr>\n    <tr>\n      <th>37</th>\n      <td>38</td>\n      <td>Hungary. First</td>\n      <td>1675.9</td>\n    </tr>\n    <tr>\n      <th>38</th>\n      <td>39</td>\n      <td>Georgia. First</td>\n      <td>1672.5</td>\n    </tr>\n    <tr>\n      <th>39</th>\n      <td>40</td>\n      <td>Greece. First</td>\n      <td>1671.4</td>\n    </tr>\n    <tr>\n      <th>40</th>\n      <td>41</td>\n      <td>Latvia. First</td>\n      <td>1670.9</td>\n    </tr>\n    <tr>\n      <th>41</th>\n      <td>42</td>\n      <td>Ireland. First</td>\n      <td>1656.0</td>\n    </tr>\n    <tr>\n      <th>42</th>\n      <td>43</td>\n      <td>Kazakhstan. First</td>\n      <td>1652.3</td>\n    </tr>\n    <tr>\n      <th>43</th>\n      <td>44</td>\n      <td>Israel. First</td>\n      <td>1650.6</td>\n    </tr>\n    <tr>\n      <th>44</th>\n      <td>45</td>\n      <td>Uruguay. First</td>\n      <td>1644.3</td>\n    </tr>\n    <tr>\n      <th>45</th>\n      <td>46</td>\n      <td>Paraguay. First</td>\n      <td>1643.9</td>\n    </tr>\n    <tr>\n      <th>46</th>\n      <td>47</td>\n      <td>Ecuador. First</td>\n      <td>1641.2</td>\n    </tr>\n    <tr>\n      <th>47</th>\n      <td>48</td>\n      <td>Faroe Islands. First</td>\n      <td>1638.1</td>\n    </tr>\n    <tr>\n      <th>48</th>\n      <td>49</td>\n      <td>Colombia. First</td>\n      <td>1636.1</td>\n    </tr>\n    <tr>\n      <th>49</th>\n      <td>50</td>\n      <td>Kosovo. First</td>\n      <td>1629.9</td>\n    </tr>\n    <tr>\n      <th>50</th>\n      <td>51</td>\n      <td>Peru. First</td>\n      <td>1629.2</td>\n    </tr>\n    <tr>\n      <th>51</th>\n      <td>52</td>\n      <td>Andorra. First</td>\n      <td>1612.3</td>\n    </tr>\n    <tr>\n      <th>52</th>\n      <td>53</td>\n      <td>Moldova. First</td>\n      <td>1610.3</td>\n    </tr>\n    <tr>\n      <th>53</th>\n      <td>54</td>\n      <td>Montenegro. First</td>\n      <td>1608.0</td>\n    </tr>\n    <tr>\n      <th>54</th>\n      <td>55</td>\n      <td>Wales. First</td>\n      <td>1607.9</td>\n    </tr>\n    <tr>\n      <th>55</th>\n      <td>56</td>\n      <td>Armenia. First</td>\n      <td>1596.7</td>\n    </tr>\n    <tr>\n      <th>56</th>\n      <td>57</td>\n      <td>Chile. First</td>\n      <td>1591.3</td>\n    </tr>\n    <tr>\n      <th>57</th>\n      <td>58</td>\n      <td>Bolivia. First</td>\n      <td>1584.5</td>\n    </tr>\n    <tr>\n      <th>58</th>\n      <td>59</td>\n      <td>Azerbaijan. First</td>\n      <td>1581.0</td>\n    </tr>\n    <tr>\n      <th>59</th>\n      <td>60</td>\n      <td>Venezuela. First</td>\n      <td>1577.9</td>\n    </tr>\n    <tr>\n      <th>60</th>\n      <td>61</td>\n      <td>Argentina. First</td>\n      <td>1559.5</td>\n    </tr>\n    <tr>\n      <th>61</th>\n      <td>62</td>\n      <td>Germany. Second</td>\n      <td>1547.1</td>\n    </tr>\n    <tr>\n      <th>62</th>\n      <td>63</td>\n      <td>Gibraltar. First</td>\n      <td>1539.7</td>\n    </tr>\n    <tr>\n      <th>63</th>\n      <td>64</td>\n      <td>England. Second</td>\n      <td>1539.0</td>\n    </tr>\n    <tr>\n      <th>64</th>\n      <td>65</td>\n      <td>San Marino. First</td>\n      <td>1537.3</td>\n    </tr>\n    <tr>\n      <th>65</th>\n      <td>66</td>\n      <td>Ukraine. First</td>\n      <td>1535.3</td>\n    </tr>\n    <tr>\n      <th>66</th>\n      <td>67</td>\n      <td>Bosnia And Herzegovina. Second</td>\n      <td>1530.7</td>\n    </tr>\n    <tr>\n      <th>67</th>\n      <td>68</td>\n      <td>Brazil. Second</td>\n      <td>1523.3</td>\n    </tr>\n    <tr>\n      <th>68</th>\n      <td>69</td>\n      <td>Spain. Second</td>\n      <td>1515.0</td>\n    </tr>\n    <tr>\n      <th>69</th>\n      <td>70</td>\n      <td>Azerbaijan. Second</td>\n      <td>1511.5</td>\n    </tr>\n    <tr>\n      <th>70</th>\n      <td>71</td>\n      <td>France. Second</td>\n      <td>1510.4</td>\n    </tr>\n    <tr>\n      <th>71</th>\n      <td>72</td>\n      <td>Turkey. Second</td>\n      <td>1509.8</td>\n    </tr>\n    <tr>\n      <th>72</th>\n      <td>73</td>\n      <td>Denmark. Second</td>\n      <td>1509.3</td>\n    </tr>\n    <tr>\n      <th>73</th>\n      <td>74</td>\n      <td>Poland. Second</td>\n      <td>1509.3</td>\n    </tr>\n    <tr>\n      <th>74</th>\n      <td>75</td>\n      <td>Bulgaria. Second</td>\n      <td>1508.0</td>\n    </tr>\n    <tr>\n      <th>75</th>\n      <td>76</td>\n      <td>Albania. Second</td>\n      <td>1503.3</td>\n    </tr>\n    <tr>\n      <th>76</th>\n      <td>77</td>\n      <td>Russia. Second</td>\n      <td>1500.8</td>\n    </tr>\n    <tr>\n      <th>77</th>\n      <td>78</td>\n      <td>Sweden. Second</td>\n      <td>1499.8</td>\n    </tr>\n    <tr>\n      <th>78</th>\n      <td>79</td>\n      <td>Hungary. Second</td>\n      <td>1499.3</td>\n    </tr>\n    <tr>\n      <th>79</th>\n      <td>80</td>\n      <td>Malta. Second</td>\n      <td>1498.5</td>\n    </tr>\n    <tr>\n      <th>80</th>\n      <td>81</td>\n      <td>Italy. Second</td>\n      <td>1497.7</td>\n    </tr>\n    <tr>\n      <th>81</th>\n      <td>82</td>\n      <td>Croatia. Second</td>\n      <td>1492.7</td>\n    </tr>\n    <tr>\n      <th>82</th>\n      <td>83</td>\n      <td>North Macedonia. Second</td>\n      <td>1490.0</td>\n    </tr>\n    <tr>\n      <th>83</th>\n      <td>84</td>\n      <td>Israel. Second</td>\n      <td>1486.8</td>\n    </tr>\n    <tr>\n      <th>84</th>\n      <td>85</td>\n      <td>Serbia. Second</td>\n      <td>1483.9</td>\n    </tr>\n    <tr>\n      <th>85</th>\n      <td>86</td>\n      <td>Norway. Second</td>\n      <td>1483.9</td>\n    </tr>\n    <tr>\n      <th>86</th>\n      <td>87</td>\n      <td>Finland. Second</td>\n      <td>1483.7</td>\n    </tr>\n    <tr>\n      <th>87</th>\n      <td>88</td>\n      <td>Czech Republic. Second</td>\n      <td>1483.2</td>\n    </tr>\n    <tr>\n      <th>88</th>\n      <td>89</td>\n      <td>Slovenia. Second</td>\n      <td>1482.7</td>\n    </tr>\n    <tr>\n      <th>89</th>\n      <td>90</td>\n      <td>Estonia. Second</td>\n      <td>1478.0</td>\n    </tr>\n    <tr>\n      <th>90</th>\n      <td>91</td>\n      <td>Romania. Second</td>\n      <td>1476.8</td>\n    </tr>\n    <tr>\n      <th>91</th>\n      <td>92</td>\n      <td>Georgia. Second</td>\n      <td>1475.6</td>\n    </tr>\n    <tr>\n      <th>92</th>\n      <td>93</td>\n      <td>Scotland. Second</td>\n      <td>1469.0</td>\n    </tr>\n    <tr>\n      <th>93</th>\n      <td>94</td>\n      <td>Greece. Second</td>\n      <td>1466.2</td>\n    </tr>\n    <tr>\n      <th>94</th>\n      <td>95</td>\n      <td>Austria. Second</td>\n      <td>1464.2</td>\n    </tr>\n    <tr>\n      <th>95</th>\n      <td>96</td>\n      <td>Switzerland. Second</td>\n      <td>1456.3</td>\n    </tr>\n    <tr>\n      <th>96</th>\n      <td>97</td>\n      <td>Portugal. Second</td>\n      <td>1454.0</td>\n    </tr>\n    <tr>\n      <th>97</th>\n      <td>98</td>\n      <td>Belgium. Second</td>\n      <td>1453.9</td>\n    </tr>\n    <tr>\n      <th>98</th>\n      <td>99</td>\n      <td>Cyprus. Second</td>\n      <td>1446.6</td>\n    </tr>\n    <tr>\n      <th>99</th>\n      <td>100</td>\n      <td>Slovakia. Second</td>\n      <td>1446.1</td>\n    </tr>\n    <tr>\n      <th>100</th>\n      <td>101</td>\n      <td>Argentina. Second</td>\n      <td>1443.1</td>\n    </tr>\n    <tr>\n      <th>101</th>\n      <td>102</td>\n      <td>Ukraine. Second</td>\n      <td>1443.0</td>\n    </tr>\n    <tr>\n      <th>102</th>\n      <td>103</td>\n      <td>Belarus. Second</td>\n      <td>1432.7</td>\n    </tr>\n    <tr>\n      <th>103</th>\n      <td>104</td>\n      <td>Iceland. Second</td>\n      <td>1426.4</td>\n    </tr>\n    <tr>\n      <th>104</th>\n      <td>105</td>\n      <td>Northern Ireland. Second</td>\n      <td>1418.4</td>\n    </tr>\n    <tr>\n      <th>105</th>\n      <td>106</td>\n      <td>Armenia. Second</td>\n      <td>1404.5</td>\n    </tr>\n    <tr>\n      <th>106</th>\n      <td>107</td>\n      <td>Netherlands. Second</td>\n      <td>1400.1</td>\n    </tr>\n    <tr>\n      <th>107</th>\n      <td>108</td>\n      <td>Lithuania. Second</td>\n      <td>1398.0</td>\n    </tr>\n    <tr>\n      <th>108</th>\n      <td>109</td>\n      <td>Faroe Islands. Second</td>\n      <td>1396.0</td>\n    </tr>\n    <tr>\n      <th>109</th>\n      <td>110</td>\n      <td>Kazakhstan. Second</td>\n      <td>1383.8</td>\n    </tr>\n    <tr>\n      <th>110</th>\n      <td>111</td>\n      <td>Latvia. Second</td>\n      <td>1379.0</td>\n    </tr>\n    <tr>\n      <th>111</th>\n      <td>112</td>\n      <td>Ireland. Second</td>\n      <td>1309.2</td>\n    </tr>\n  </tbody>\n</table>\n</div>"
     },
     "execution_count": 54,
     "metadata": {},
     "output_type": "execute_result"
    }
   ],
   "source": [
    "glicko = GlickoSoccer()\n",
    "league_params = joblib.load('data/league_params.pkl')\n",
    "ratings = glicko.rate_teams(matches, league_params)\n",
    "ratings = glicko.ratings_to_df(ratings, matches)\n",
    "leagues_ratings = glicko.league_ratings(ratings, number_top_teams=10)\n",
    "leagues_ratings"
   ]
  },
  {
   "cell_type": "code",
   "execution_count": null,
   "outputs": [],
   "source": [
    "pd.concat([leagues_ratings[0:25].reset_index(drop=True),\n",
    "           leagues_ratings[25:50].reset_index(drop=True)], axis=1)"
   ],
   "metadata": {
    "collapsed": false,
    "pycharm": {
     "name": "#%%\n"
    }
   }
  },
  {
   "cell_type": "code",
   "execution_count": null,
   "outputs": [],
   "source": [
    "pd.concat([leagues_ratings[50:74].reset_index(drop=True),\n",
    "           leagues_ratings[74:].reset_index(drop=True)], axis=1)"
   ],
   "metadata": {
    "collapsed": false,
    "pycharm": {
     "name": "#%%\n"
    }
   }
  },
  {
   "cell_type": "code",
   "execution_count": 55,
   "outputs": [
    {
     "data": {
      "text/plain": "         #             team  rating             league\n0        1    Crvena zvezda  2149.7      Serbia. First\n1        2  Manchester City  2118.9     England. First\n2        3            Flora  2115.8     Estonia. First\n3        4         FC Porto  2111.1    Portugal. First\n4        5          Levadia  2060.6     Estonia. First\n...    ...              ...     ...                ...\n2781  2782   Saldus/Brocenu  1090.9                NaN\n2782  2783      Aktobe Zhas  1078.1                NaN\n2783  2784           Cosmos  1059.4  San Marino. First\n2784  2785            Balvu  1052.5                NaN\n2785  2786         Plavinas  1043.8                NaN\n\n[2786 rows x 4 columns]",
      "text/html": "<div>\n<style scoped>\n    .dataframe tbody tr th:only-of-type {\n        vertical-align: middle;\n    }\n\n    .dataframe tbody tr th {\n        vertical-align: top;\n    }\n\n    .dataframe thead th {\n        text-align: right;\n    }\n</style>\n<table border=\"1\" class=\"dataframe\">\n  <thead>\n    <tr style=\"text-align: right;\">\n      <th></th>\n      <th>#</th>\n      <th>team</th>\n      <th>rating</th>\n      <th>league</th>\n    </tr>\n  </thead>\n  <tbody>\n    <tr>\n      <th>0</th>\n      <td>1</td>\n      <td>Crvena zvezda</td>\n      <td>2149.7</td>\n      <td>Serbia. First</td>\n    </tr>\n    <tr>\n      <th>1</th>\n      <td>2</td>\n      <td>Manchester City</td>\n      <td>2118.9</td>\n      <td>England. First</td>\n    </tr>\n    <tr>\n      <th>2</th>\n      <td>3</td>\n      <td>Flora</td>\n      <td>2115.8</td>\n      <td>Estonia. First</td>\n    </tr>\n    <tr>\n      <th>3</th>\n      <td>4</td>\n      <td>FC Porto</td>\n      <td>2111.1</td>\n      <td>Portugal. First</td>\n    </tr>\n    <tr>\n      <th>4</th>\n      <td>5</td>\n      <td>Levadia</td>\n      <td>2060.6</td>\n      <td>Estonia. First</td>\n    </tr>\n    <tr>\n      <th>...</th>\n      <td>...</td>\n      <td>...</td>\n      <td>...</td>\n      <td>...</td>\n    </tr>\n    <tr>\n      <th>2781</th>\n      <td>2782</td>\n      <td>Saldus/Brocenu</td>\n      <td>1090.9</td>\n      <td>NaN</td>\n    </tr>\n    <tr>\n      <th>2782</th>\n      <td>2783</td>\n      <td>Aktobe Zhas</td>\n      <td>1078.1</td>\n      <td>NaN</td>\n    </tr>\n    <tr>\n      <th>2783</th>\n      <td>2784</td>\n      <td>Cosmos</td>\n      <td>1059.4</td>\n      <td>San Marino. First</td>\n    </tr>\n    <tr>\n      <th>2784</th>\n      <td>2785</td>\n      <td>Balvu</td>\n      <td>1052.5</td>\n      <td>NaN</td>\n    </tr>\n    <tr>\n      <th>2785</th>\n      <td>2786</td>\n      <td>Plavinas</td>\n      <td>1043.8</td>\n      <td>NaN</td>\n    </tr>\n  </tbody>\n</table>\n<p>2786 rows × 4 columns</p>\n</div>"
     },
     "execution_count": 55,
     "metadata": {},
     "output_type": "execute_result"
    }
   ],
   "source": [
    "ratings"
   ],
   "metadata": {
    "collapsed": false,
    "pycharm": {
     "name": "#%%\n"
    }
   }
  },
  {
   "cell_type": "code",
   "execution_count": null,
   "outputs": [],
   "source": [],
   "metadata": {
    "collapsed": false,
    "pycharm": {
     "name": "#%%\n"
    }
   }
  },
  {
   "cell_type": "code",
   "execution_count": null,
   "outputs": [],
   "source": [],
   "metadata": {
    "collapsed": false,
    "pycharm": {
     "name": "#%%\n"
    }
   }
  },
  {
   "cell_type": "code",
   "execution_count": null,
   "outputs": [],
   "source": [
    "leagues_ratings.to_csv('20.csv', index=False)"
   ],
   "metadata": {
    "collapsed": false,
    "pycharm": {
     "name": "#%%\n"
    }
   }
  },
  {
   "cell_type": "code",
   "execution_count": null,
   "id": "c6157e65",
   "metadata": {
    "pycharm": {
     "name": "#%%\n"
    }
   },
   "outputs": [],
   "source": [
    "ratings.head(50)"
   ]
  },
  {
   "cell_type": "code",
   "execution_count": null,
   "outputs": [],
   "source": [],
   "metadata": {
    "collapsed": false,
    "pycharm": {
     "name": "#%%\n"
    }
   }
  },
  {
   "cell_type": "code",
   "execution_count": null,
   "outputs": [],
   "source": [],
   "metadata": {
    "collapsed": false,
    "pycharm": {
     "name": "#%%\n"
    }
   }
  },
  {
   "cell_type": "code",
   "execution_count": null,
   "outputs": [],
   "source": [],
   "metadata": {
    "collapsed": false,
    "pycharm": {
     "name": "#%%\n"
    }
   }
  },
  {
   "cell_type": "code",
   "execution_count": null,
   "outputs": [],
   "source": [],
   "metadata": {
    "collapsed": false,
    "pycharm": {
     "name": "#%%\n"
    }
   }
  },
  {
   "cell_type": "code",
   "execution_count": null,
   "outputs": [],
   "source": [],
   "metadata": {
    "collapsed": false,
    "pycharm": {
     "name": "#%%\n"
    }
   }
  },
  {
   "cell_type": "code",
   "execution_count": null,
   "outputs": [],
   "source": [],
   "metadata": {
    "collapsed": false,
    "pycharm": {
     "name": "#%%\n"
    }
   }
  },
  {
   "cell_type": "code",
   "execution_count": null,
   "outputs": [],
   "source": [],
   "metadata": {
    "collapsed": false,
    "pycharm": {
     "name": "#%%\n"
    }
   }
  },
  {
   "cell_type": "code",
   "execution_count": null,
   "outputs": [],
   "source": [],
   "metadata": {
    "collapsed": false,
    "pycharm": {
     "name": "#%%\n"
    }
   }
  },
  {
   "cell_type": "code",
   "execution_count": null,
   "outputs": [],
   "source": [],
   "metadata": {
    "collapsed": false,
    "pycharm": {
     "name": "#%%\n"
    }
   }
  },
  {
   "cell_type": "markdown",
   "id": "7ebcdb5e",
   "metadata": {
    "pycharm": {
     "name": "#%% md\n"
    }
   },
   "source": [
    "# Skellam"
   ]
  },
  {
   "cell_type": "code",
   "execution_count": 60,
   "outputs": [
    {
     "data": {
      "text/plain": "(323356, 14)"
     },
     "execution_count": 60,
     "metadata": {},
     "output_type": "execute_result"
    }
   ],
   "source": [
    "matches.shape"
   ],
   "metadata": {
    "collapsed": false,
    "pycharm": {
     "name": "#%%\n"
    }
   }
  },
  {
   "cell_type": "code",
   "execution_count": 62,
   "outputs": [
    {
     "data": {
      "text/plain": "209572    1\n148053    1\n19190     1\n19189     1\n352605    1\n         ..\n235533    1\n191178    1\n191177    1\n9060      1\n107852    1\nName: match_id, Length: 323356, dtype: int64"
     },
     "execution_count": 62,
     "metadata": {},
     "output_type": "execute_result"
    }
   ],
   "source": [
    "matches['match_id'].value_counts()"
   ],
   "metadata": {
    "collapsed": false,
    "pycharm": {
     "name": "#%%\n"
    }
   }
  },
  {
   "cell_type": "markdown",
   "source": [],
   "metadata": {
    "collapsed": false,
    "pycharm": {
     "name": "#%% md\n"
    }
   }
  },
  {
   "cell_type": "code",
   "execution_count": 12,
   "outputs": [],
   "source": [
    "from euro_soccer.outcomes_features import TrainCreator\n",
    "from euro_soccer.outcomes_catboost import OutcomesCatBoost\n",
    "\n",
    "train, validation, test = TrainCreator().train_validation_test(matches)"
   ],
   "metadata": {
    "collapsed": false,
    "pycharm": {
     "name": "#%%\n"
    }
   }
  },
  {
   "cell_type": "code",
   "execution_count": 13,
   "outputs": [
    {
     "data": {
      "text/plain": "                   team  score  match_id  is_home  avg_scoring_5  \\\n229690     St Johnstone      1    183403     True           1.80   \n327160            Rudar      3    102056    False           1.75   \n140299            Gefle      2    191041     True           1.40   \n582928            Molde      3      6032    False           0.80   \n209379  Merani Martvili      1    218335     True           1.40   \n\n        avg_scoring_10  avg_scoring_20  avg_scoring_30  season  \\\n229690            1.30            1.05            0.97    2018   \n327160            1.44            1.05            1.21    2010   \n140299            1.10            1.60            1.67    2015   \n582928            1.30            1.30            1.27    2019   \n209379            1.20            1.20            1.17    2017   \n\n        tournament_type       tournament  is_pandemic           league  \\\n229690                1  Scotland. First            0  Scotland. First   \n327160                1  Slovenia. First            0  Slovenia. First   \n140299                1    Sweden. First            0    Sweden. First   \n582928                1    Norway. First            0    Norway. First   \n209379                2  Georgia. Second            0  Georgia. Second   \n\n             opp_league  location_mean_score_5  location_mean_score_10  \\\n229690  Scotland. First                   0.80                    0.80   \n327160  Slovenia. First                   1.75                    1.11   \n140299    Sweden. First                   1.40                    1.50   \n582928    Norway. First                   1.60                    1.70   \n209379  Georgia. Second                   2.40                    2.60   \n\n        location_mean_score_20  location_mean_score_30  \\\n229690                    0.90                    1.00   \n327160                    1.11                    1.17   \n140299                    1.20                    1.13   \n582928                    1.85                    1.67   \n209379                    2.35                    2.00   \n\n        location_median_score_5  location_median_score_10  \\\n229690                     1.00                      1.00   \n327160                     2.00                      1.00   \n140299                     2.00                      1.50   \n582928                     2.00                      2.00   \n209379                     3.00                      2.50   \n\n        location_median_score_20  location_median_score_30  \\\n229690                      1.00                      1.00   \n327160                      1.00                      1.00   \n140299                      1.00                      1.00   \n582928                      2.00                      2.00   \n209379                      2.00                      2.00   \n\n        location_mean_score_5_against  location_mean_score_10_against  \\\n229690                           0.60                            1.20   \n327160                           0.75                            1.56   \n140299                           0.40                            0.80   \n582928                           1.20                            1.60   \n209379                           0.40                            0.40   \n\n        location_mean_score_20_against  location_median_score_10_against  \\\n229690                            1.45                              1.00   \n327160                            1.58                              1.00   \n140299                            0.70                              1.00   \n582928                            1.45                              1.50   \n209379                            0.70                              0.00   \n\n        location_max_score_10  \n229690                   2.00  \n327160                   3.00  \n140299                   3.00  \n582928                   4.00  \n209379                   5.00  ",
      "text/html": "<div>\n<style scoped>\n    .dataframe tbody tr th:only-of-type {\n        vertical-align: middle;\n    }\n\n    .dataframe tbody tr th {\n        vertical-align: top;\n    }\n\n    .dataframe thead th {\n        text-align: right;\n    }\n</style>\n<table border=\"1\" class=\"dataframe\">\n  <thead>\n    <tr style=\"text-align: right;\">\n      <th></th>\n      <th>team</th>\n      <th>score</th>\n      <th>match_id</th>\n      <th>is_home</th>\n      <th>avg_scoring_5</th>\n      <th>avg_scoring_10</th>\n      <th>avg_scoring_20</th>\n      <th>avg_scoring_30</th>\n      <th>season</th>\n      <th>tournament_type</th>\n      <th>tournament</th>\n      <th>is_pandemic</th>\n      <th>league</th>\n      <th>opp_league</th>\n      <th>location_mean_score_5</th>\n      <th>location_mean_score_10</th>\n      <th>location_mean_score_20</th>\n      <th>location_mean_score_30</th>\n      <th>location_median_score_5</th>\n      <th>location_median_score_10</th>\n      <th>location_median_score_20</th>\n      <th>location_median_score_30</th>\n      <th>location_mean_score_5_against</th>\n      <th>location_mean_score_10_against</th>\n      <th>location_mean_score_20_against</th>\n      <th>location_median_score_10_against</th>\n      <th>location_max_score_10</th>\n    </tr>\n  </thead>\n  <tbody>\n    <tr>\n      <th>229690</th>\n      <td>St Johnstone</td>\n      <td>1</td>\n      <td>183403</td>\n      <td>True</td>\n      <td>1.80</td>\n      <td>1.30</td>\n      <td>1.05</td>\n      <td>0.97</td>\n      <td>2018</td>\n      <td>1</td>\n      <td>Scotland. First</td>\n      <td>0</td>\n      <td>Scotland. First</td>\n      <td>Scotland. First</td>\n      <td>0.80</td>\n      <td>0.80</td>\n      <td>0.90</td>\n      <td>1.00</td>\n      <td>1.00</td>\n      <td>1.00</td>\n      <td>1.00</td>\n      <td>1.00</td>\n      <td>0.60</td>\n      <td>1.20</td>\n      <td>1.45</td>\n      <td>1.00</td>\n      <td>2.00</td>\n    </tr>\n    <tr>\n      <th>327160</th>\n      <td>Rudar</td>\n      <td>3</td>\n      <td>102056</td>\n      <td>False</td>\n      <td>1.75</td>\n      <td>1.44</td>\n      <td>1.05</td>\n      <td>1.21</td>\n      <td>2010</td>\n      <td>1</td>\n      <td>Slovenia. First</td>\n      <td>0</td>\n      <td>Slovenia. First</td>\n      <td>Slovenia. First</td>\n      <td>1.75</td>\n      <td>1.11</td>\n      <td>1.11</td>\n      <td>1.17</td>\n      <td>2.00</td>\n      <td>1.00</td>\n      <td>1.00</td>\n      <td>1.00</td>\n      <td>0.75</td>\n      <td>1.56</td>\n      <td>1.58</td>\n      <td>1.00</td>\n      <td>3.00</td>\n    </tr>\n    <tr>\n      <th>140299</th>\n      <td>Gefle</td>\n      <td>2</td>\n      <td>191041</td>\n      <td>True</td>\n      <td>1.40</td>\n      <td>1.10</td>\n      <td>1.60</td>\n      <td>1.67</td>\n      <td>2015</td>\n      <td>1</td>\n      <td>Sweden. First</td>\n      <td>0</td>\n      <td>Sweden. First</td>\n      <td>Sweden. First</td>\n      <td>1.40</td>\n      <td>1.50</td>\n      <td>1.20</td>\n      <td>1.13</td>\n      <td>2.00</td>\n      <td>1.50</td>\n      <td>1.00</td>\n      <td>1.00</td>\n      <td>0.40</td>\n      <td>0.80</td>\n      <td>0.70</td>\n      <td>1.00</td>\n      <td>3.00</td>\n    </tr>\n    <tr>\n      <th>582928</th>\n      <td>Molde</td>\n      <td>3</td>\n      <td>6032</td>\n      <td>False</td>\n      <td>0.80</td>\n      <td>1.30</td>\n      <td>1.30</td>\n      <td>1.27</td>\n      <td>2019</td>\n      <td>1</td>\n      <td>Norway. First</td>\n      <td>0</td>\n      <td>Norway. First</td>\n      <td>Norway. First</td>\n      <td>1.60</td>\n      <td>1.70</td>\n      <td>1.85</td>\n      <td>1.67</td>\n      <td>2.00</td>\n      <td>2.00</td>\n      <td>2.00</td>\n      <td>2.00</td>\n      <td>1.20</td>\n      <td>1.60</td>\n      <td>1.45</td>\n      <td>1.50</td>\n      <td>4.00</td>\n    </tr>\n    <tr>\n      <th>209379</th>\n      <td>Merani Martvili</td>\n      <td>1</td>\n      <td>218335</td>\n      <td>True</td>\n      <td>1.40</td>\n      <td>1.20</td>\n      <td>1.20</td>\n      <td>1.17</td>\n      <td>2017</td>\n      <td>2</td>\n      <td>Georgia. Second</td>\n      <td>0</td>\n      <td>Georgia. Second</td>\n      <td>Georgia. Second</td>\n      <td>2.40</td>\n      <td>2.60</td>\n      <td>2.35</td>\n      <td>2.00</td>\n      <td>3.00</td>\n      <td>2.50</td>\n      <td>2.00</td>\n      <td>2.00</td>\n      <td>0.40</td>\n      <td>0.40</td>\n      <td>0.70</td>\n      <td>0.00</td>\n      <td>5.00</td>\n    </tr>\n  </tbody>\n</table>\n</div>"
     },
     "execution_count": 13,
     "metadata": {},
     "output_type": "execute_result"
    }
   ],
   "source": [
    "train.head()"
   ],
   "metadata": {
    "collapsed": false,
    "pycharm": {
     "name": "#%%\n"
    }
   }
  },
  {
   "cell_type": "code",
   "execution_count": 14,
   "outputs": [
    {
     "data": {
      "text/plain": "((502380, 27), (55820, 27), (88512, 27))"
     },
     "execution_count": 14,
     "metadata": {},
     "output_type": "execute_result"
    }
   ],
   "source": [
    "train.shape, validation.shape, test.shape"
   ],
   "metadata": {
    "collapsed": false,
    "pycharm": {
     "name": "#%%\n"
    }
   }
  },
  {
   "cell_type": "code",
   "execution_count": 15,
   "outputs": [
    {
     "name": "stdout",
     "output_type": "stream",
     "text": [
      "<class 'pandas.core.frame.DataFrame'>\n",
      "Int64Index: 502380 entries, 229690 to 189636\n",
      "Data columns (total 27 columns):\n",
      " #   Column                            Non-Null Count   Dtype  \n",
      "---  ------                            --------------   -----  \n",
      " 0   team                              502380 non-null  object \n",
      " 1   score                             502380 non-null  int64  \n",
      " 2   match_id                          502380 non-null  int64  \n",
      " 3   is_home                           502380 non-null  bool   \n",
      " 4   avg_scoring_5                     502380 non-null  float64\n",
      " 5   avg_scoring_10                    502380 non-null  float64\n",
      " 6   avg_scoring_20                    502380 non-null  float64\n",
      " 7   avg_scoring_30                    502380 non-null  float64\n",
      " 8   season                            502380 non-null  int64  \n",
      " 9   tournament_type                   502380 non-null  int64  \n",
      " 10  tournament                        502380 non-null  object \n",
      " 11  is_pandemic                       502380 non-null  int64  \n",
      " 12  league                            502380 non-null  object \n",
      " 13  opp_league                        502380 non-null  object \n",
      " 14  location_mean_score_5             502374 non-null  float64\n",
      " 15  location_mean_score_10            502370 non-null  float64\n",
      " 16  location_mean_score_20            502362 non-null  float64\n",
      " 17  location_mean_score_30            502345 non-null  float64\n",
      " 18  location_median_score_5           502374 non-null  float64\n",
      " 19  location_median_score_10          502370 non-null  float64\n",
      " 20  location_median_score_20          502362 non-null  float64\n",
      " 21  location_median_score_30          502345 non-null  float64\n",
      " 22  location_mean_score_5_against     502374 non-null  float64\n",
      " 23  location_mean_score_10_against    502370 non-null  float64\n",
      " 24  location_mean_score_20_against    502362 non-null  float64\n",
      " 25  location_median_score_10_against  502370 non-null  float64\n",
      " 26  location_max_score_10             502370 non-null  float64\n",
      "dtypes: bool(1), float64(17), int64(5), object(4)\n",
      "memory usage: 104.0+ MB\n"
     ]
    }
   ],
   "source": [
    "train.info()"
   ],
   "metadata": {
    "collapsed": false,
    "pycharm": {
     "name": "#%%\n"
    }
   }
  },
  {
   "cell_type": "code",
   "execution_count": 16,
   "outputs": [],
   "source": [
    "# train.columns"
   ],
   "metadata": {
    "collapsed": false,
    "pycharm": {
     "name": "#%%\n"
    }
   }
  },
  {
   "cell_type": "code",
   "execution_count": 33,
   "outputs": [],
   "source": [],
   "metadata": {
    "collapsed": false,
    "pycharm": {
     "name": "#%%\n"
    }
   }
  },
  {
   "cell_type": "code",
   "execution_count": 128,
   "outputs": [],
   "source": [
    "OutcomesCatBoost().save_model()"
   ],
   "metadata": {
    "collapsed": false,
    "pycharm": {
     "name": "#%%\n"
    }
   }
  },
  {
   "cell_type": "code",
   "execution_count": 17,
   "outputs": [],
   "source": [
    "predictions = OutcomesCatBoost().predict()"
   ],
   "metadata": {
    "collapsed": false,
    "pycharm": {
     "name": "#%%\n"
    }
   }
  },
  {
   "cell_type": "code",
   "execution_count": 18,
   "outputs": [
    {
     "data": {
      "text/plain": "    match_id  home_goals  away_goals  home_win  draw  away_win\n0       2165        1.34        1.35      0.37  0.26      0.37\n1       2166        1.31        1.15      0.40  0.27      0.32\n2       2459        1.19        1.42      0.32  0.26      0.42\n3       2460        1.59        1.44      0.41  0.24      0.35\n4       2461        1.19        1.27      0.35  0.27      0.38\n5       2462        1.34        1.06      0.43  0.27      0.30\n6       2463        1.62        1.12      0.49  0.25      0.26\n7       2464        1.43        1.24      0.42  0.26      0.33\n8       2465        1.09        1.33      0.31  0.27      0.42\n9       2466        1.47        1.61      0.35  0.24      0.41\n10      2467        1.07        0.96      0.38  0.31      0.32\n11      2468        1.22        1.33      0.34  0.27      0.39\n12      2469        1.25        1.36      0.34  0.26      0.40\n13      2470        1.18        1.47      0.31  0.26      0.44\n14      2471        1.82        1.17      0.53  0.23      0.24\n15      2472        1.30        1.77      0.28  0.23      0.48\n16      2473        1.19        1.05      0.39  0.29      0.32\n17      2474        1.17        1.34      0.33  0.27      0.41\n18      2475        1.43        0.99      0.47  0.27      0.26\n19      2476        1.39        1.35      0.38  0.26      0.36",
      "text/html": "<div>\n<style scoped>\n    .dataframe tbody tr th:only-of-type {\n        vertical-align: middle;\n    }\n\n    .dataframe tbody tr th {\n        vertical-align: top;\n    }\n\n    .dataframe thead th {\n        text-align: right;\n    }\n</style>\n<table border=\"1\" class=\"dataframe\">\n  <thead>\n    <tr style=\"text-align: right;\">\n      <th></th>\n      <th>match_id</th>\n      <th>home_goals</th>\n      <th>away_goals</th>\n      <th>home_win</th>\n      <th>draw</th>\n      <th>away_win</th>\n    </tr>\n  </thead>\n  <tbody>\n    <tr>\n      <th>0</th>\n      <td>2165</td>\n      <td>1.34</td>\n      <td>1.35</td>\n      <td>0.37</td>\n      <td>0.26</td>\n      <td>0.37</td>\n    </tr>\n    <tr>\n      <th>1</th>\n      <td>2166</td>\n      <td>1.31</td>\n      <td>1.15</td>\n      <td>0.40</td>\n      <td>0.27</td>\n      <td>0.32</td>\n    </tr>\n    <tr>\n      <th>2</th>\n      <td>2459</td>\n      <td>1.19</td>\n      <td>1.42</td>\n      <td>0.32</td>\n      <td>0.26</td>\n      <td>0.42</td>\n    </tr>\n    <tr>\n      <th>3</th>\n      <td>2460</td>\n      <td>1.59</td>\n      <td>1.44</td>\n      <td>0.41</td>\n      <td>0.24</td>\n      <td>0.35</td>\n    </tr>\n    <tr>\n      <th>4</th>\n      <td>2461</td>\n      <td>1.19</td>\n      <td>1.27</td>\n      <td>0.35</td>\n      <td>0.27</td>\n      <td>0.38</td>\n    </tr>\n    <tr>\n      <th>5</th>\n      <td>2462</td>\n      <td>1.34</td>\n      <td>1.06</td>\n      <td>0.43</td>\n      <td>0.27</td>\n      <td>0.30</td>\n    </tr>\n    <tr>\n      <th>6</th>\n      <td>2463</td>\n      <td>1.62</td>\n      <td>1.12</td>\n      <td>0.49</td>\n      <td>0.25</td>\n      <td>0.26</td>\n    </tr>\n    <tr>\n      <th>7</th>\n      <td>2464</td>\n      <td>1.43</td>\n      <td>1.24</td>\n      <td>0.42</td>\n      <td>0.26</td>\n      <td>0.33</td>\n    </tr>\n    <tr>\n      <th>8</th>\n      <td>2465</td>\n      <td>1.09</td>\n      <td>1.33</td>\n      <td>0.31</td>\n      <td>0.27</td>\n      <td>0.42</td>\n    </tr>\n    <tr>\n      <th>9</th>\n      <td>2466</td>\n      <td>1.47</td>\n      <td>1.61</td>\n      <td>0.35</td>\n      <td>0.24</td>\n      <td>0.41</td>\n    </tr>\n    <tr>\n      <th>10</th>\n      <td>2467</td>\n      <td>1.07</td>\n      <td>0.96</td>\n      <td>0.38</td>\n      <td>0.31</td>\n      <td>0.32</td>\n    </tr>\n    <tr>\n      <th>11</th>\n      <td>2468</td>\n      <td>1.22</td>\n      <td>1.33</td>\n      <td>0.34</td>\n      <td>0.27</td>\n      <td>0.39</td>\n    </tr>\n    <tr>\n      <th>12</th>\n      <td>2469</td>\n      <td>1.25</td>\n      <td>1.36</td>\n      <td>0.34</td>\n      <td>0.26</td>\n      <td>0.40</td>\n    </tr>\n    <tr>\n      <th>13</th>\n      <td>2470</td>\n      <td>1.18</td>\n      <td>1.47</td>\n      <td>0.31</td>\n      <td>0.26</td>\n      <td>0.44</td>\n    </tr>\n    <tr>\n      <th>14</th>\n      <td>2471</td>\n      <td>1.82</td>\n      <td>1.17</td>\n      <td>0.53</td>\n      <td>0.23</td>\n      <td>0.24</td>\n    </tr>\n    <tr>\n      <th>15</th>\n      <td>2472</td>\n      <td>1.30</td>\n      <td>1.77</td>\n      <td>0.28</td>\n      <td>0.23</td>\n      <td>0.48</td>\n    </tr>\n    <tr>\n      <th>16</th>\n      <td>2473</td>\n      <td>1.19</td>\n      <td>1.05</td>\n      <td>0.39</td>\n      <td>0.29</td>\n      <td>0.32</td>\n    </tr>\n    <tr>\n      <th>17</th>\n      <td>2474</td>\n      <td>1.17</td>\n      <td>1.34</td>\n      <td>0.33</td>\n      <td>0.27</td>\n      <td>0.41</td>\n    </tr>\n    <tr>\n      <th>18</th>\n      <td>2475</td>\n      <td>1.43</td>\n      <td>0.99</td>\n      <td>0.47</td>\n      <td>0.27</td>\n      <td>0.26</td>\n    </tr>\n    <tr>\n      <th>19</th>\n      <td>2476</td>\n      <td>1.39</td>\n      <td>1.35</td>\n      <td>0.38</td>\n      <td>0.26</td>\n      <td>0.36</td>\n    </tr>\n  </tbody>\n</table>\n</div>"
     },
     "execution_count": 18,
     "metadata": {},
     "output_type": "execute_result"
    }
   ],
   "source": [
    "predictions.head(20)"
   ],
   "metadata": {
    "collapsed": false,
    "pycharm": {
     "name": "#%%\n"
    }
   }
  },
  {
   "cell_type": "code",
   "execution_count": 19,
   "outputs": [],
   "source": [
    "t = predictions.merge(matches, on=['match_id'])"
   ],
   "metadata": {
    "collapsed": false,
    "pycharm": {
     "name": "#%%\n"
    }
   }
  },
  {
   "cell_type": "code",
   "execution_count": 20,
   "outputs": [
    {
     "data": {
      "text/plain": "       match_id  home_goals  away_goals  home_win  draw  away_win       date  \\\n9293      59023        1.33        1.57      0.33  0.25      0.43 2022-05-15   \n9314      59044        1.40        1.12      0.43  0.27      0.30 2022-05-01   \n9343      59073        1.53        0.94      0.51  0.26      0.23 2022-04-15   \n9355      59085        1.40        1.00      0.46  0.27      0.27 2022-04-04   \n9381      59111        1.38        1.20      0.41  0.26      0.33 2022-03-12   \n9404      59134        1.40        1.16      0.43  0.26      0.31 2022-02-25   \n9421      59151        1.43        1.07      0.45  0.27      0.28 2022-02-13   \n9435      59165        1.42        1.57      0.35  0.24      0.41 2022-01-23   \n9446      59176        1.54        0.98      0.50  0.26      0.24 2022-01-17   \n9466      59196        1.44        1.37      0.39  0.25      0.36 2022-01-06   \n9480      59210        1.44        1.51      0.36  0.25      0.39 2021-12-19   \n9509      59239        1.59        1.08      0.49  0.25      0.26 2021-12-04   \n9522      59252        1.57        1.34      0.43  0.25      0.33 2021-11-28   \n9540      59270        1.54        1.50      0.39  0.24      0.37 2021-11-07   \n9567      59297        1.63        1.05      0.51  0.25      0.24 2021-10-26   \n9587      59317        1.60        1.14      0.48  0.25      0.27 2021-10-16   \n9613      59343        1.56        1.15      0.47  0.25      0.28 2021-09-22   \n9632      59362        1.53        1.04      0.49  0.26      0.26 2021-09-12   \n9640      59370        1.45        1.09      0.45  0.26      0.28 2021-08-29   \n11249     70635        1.52        1.09      0.47  0.26      0.27 2021-05-16   \n11285     70671        1.46        1.19      0.43  0.26      0.31 2021-05-01   \n11306     70692        1.46        1.22      0.43  0.26      0.32 2021-04-21   \n11313     70699        1.49        1.03      0.48  0.26      0.26 2021-04-18   \n11339     70725        1.41        1.14      0.43  0.26      0.30 2021-04-03   \n11350     70736        1.51        1.13      0.46  0.26      0.28 2021-03-14   \n11371     70757        1.65        1.14      0.49  0.24      0.26 2021-03-03   \n11391     70777        1.77        1.56      0.43  0.23      0.34 2021-02-21   \n11410     70796        1.65        1.06      0.51  0.24      0.24 2021-02-07   \n11434     70820        1.73        1.74      0.39  0.22      0.39 2021-01-23   \n11456     70842        1.72        1.15      0.51  0.24      0.26 2021-01-09   \n11459     70845        1.79        1.58      0.43  0.23      0.34 2021-01-06   \n11479     70865        1.75        1.31      0.48  0.23      0.29 2020-12-23   \n11509     70895        1.85        1.19      0.53  0.23      0.24 2020-12-13   \n11532     70918        1.83        1.20      0.52  0.23      0.25 2020-11-29   \n11548     70934        1.85        0.98      0.58  0.23      0.20 2020-11-08   \n11569     70955        1.78        1.52      0.44  0.23      0.33 2020-10-26   \n11589     70975        1.79        1.23      0.51  0.23      0.26 2020-10-04   \n11610     70996        1.74        1.15      0.51  0.24      0.25 2020-09-21   \n43013    358575        1.80        1.15      0.53  0.23      0.24 2020-12-03   \n43047    358611        1.97        0.99      0.60  0.21      0.18 2020-11-05   \n43082    358647        1.92        1.23      0.54  0.22      0.24 2020-10-29   \n43838    404071        1.67        1.14      0.50  0.24      0.26 2021-01-12   \n43905    405490        1.40        1.37      0.38  0.25      0.37 2021-03-18   \n43917    405506        1.75        0.95      0.56  0.23      0.20 2021-02-25   \n44133    420290        2.12        1.05      0.62  0.20      0.18 2020-09-24   \n\n      home_team       away_team  home_score  away_score        country  \\\n9293   AC Milan        Atalanta           2           0          Italy   \n9314   AC Milan      Fiorentina           1           0          Italy   \n9343   AC Milan           Genoa           2           0          Italy   \n9355   AC Milan         Bologna           0           0          Italy   \n9381   AC Milan          Empoli           1           0          Italy   \n9404   AC Milan         Udinese           1           1          Italy   \n9421   AC Milan       Sampdoria           1           0          Italy   \n9435   AC Milan        Juventus           0           0          Italy   \n9446   AC Milan          Spezia           1           2          Italy   \n9466   AC Milan         AS Roma           3           1          Italy   \n9480   AC Milan          Napoli           0           1          Italy   \n9509   AC Milan     Salernitana           2           0          Italy   \n9522   AC Milan        Sassuolo           1           3          Italy   \n9540   AC Milan           Inter           1           1          Italy   \n9567   AC Milan          Torino           1           0          Italy   \n9587   AC Milan          Verona           3           2          Italy   \n9613   AC Milan         Venezia           2           0          Italy   \n9632   AC Milan           Lazio           2           0          Italy   \n9640   AC Milan        Cagliari           4           1          Italy   \n11249  AC Milan        Cagliari           0           0          Italy   \n11285  AC Milan       Benevento           2           0          Italy   \n11306  AC Milan        Sassuolo           1           2          Italy   \n11313  AC Milan           Genoa           2           1          Italy   \n11339  AC Milan       Sampdoria           1           1          Italy   \n11350  AC Milan          Napoli           0           1          Italy   \n11371  AC Milan         Udinese           1           1          Italy   \n11391  AC Milan           Inter           0           3          Italy   \n11410  AC Milan         Crotone           4           0          Italy   \n11434  AC Milan        Atalanta           0           3          Italy   \n11456  AC Milan          Torino           2           0          Italy   \n11459  AC Milan        Juventus           1           3          Italy   \n11479  AC Milan           Lazio           3           2          Italy   \n11509  AC Milan           Parma           2           2          Italy   \n11532  AC Milan      Fiorentina           2           0          Italy   \n11548  AC Milan          Verona           2           2          Italy   \n11569  AC Milan         AS Roma           3           3          Italy   \n11589  AC Milan          Spezia           3           0          Italy   \n11610  AC Milan         Bologna           2           0          Italy   \n43013  AC Milan          Celtic           4           2  Europa League   \n43047  AC Milan           Lille           0           3  Europa League   \n43082  AC Milan   Sparta Prague           3           0  Europa League   \n43838  AC Milan          Torino           1           0          Italy   \n43905  AC Milan  Manchester Utd           0           1  Europa League   \n43917  AC Milan   Crvena zvezda           1           1  Europa League   \n44133  AC Milan      Bodo/Glimt           3           2  Europa League   \n\n                              league  season  \\\n9293                         Serie A    2021   \n9314                         Serie A    2021   \n9343                         Serie A    2021   \n9355                         Serie A    2021   \n9381                         Serie A    2021   \n9404                         Serie A    2021   \n9421                         Serie A    2021   \n9435                         Serie A    2021   \n9446                         Serie A    2021   \n9466                         Serie A    2021   \n9480                         Serie A    2021   \n9509                         Serie A    2021   \n9522                         Serie A    2021   \n9540                         Serie A    2021   \n9567                         Serie A    2021   \n9587                         Serie A    2021   \n9613                         Serie A    2021   \n9632                         Serie A    2021   \n9640                         Serie A    2021   \n11249                        Serie A    2020   \n11285                        Serie A    2020   \n11306                        Serie A    2020   \n11313                        Serie A    2020   \n11339                        Serie A    2020   \n11350                        Serie A    2020   \n11371                        Serie A    2020   \n11391                        Serie A    2020   \n11410                        Serie A    2020   \n11434                        Serie A    2020   \n11456                        Serie A    2020   \n11459                        Serie A    2020   \n11479                        Serie A    2020   \n11509                        Serie A    2020   \n11532                        Serie A    2020   \n11548                        Serie A    2020   \n11569                        Serie A    2020   \n11589                        Serie A    2020   \n11610                        Serie A    2020   \n43013    Europa League - Group Stage    2020   \n43047    Europa League - Group Stage    2020   \n43082    Europa League - Group Stage    2020   \n43838                   Coppa Italia    2020   \n43905      Europa League - Play Offs    2020   \n43917      Europa League - Play Offs    2020   \n44133  Europa League - Qualification    2020   \n\n                                               file_path  tournament_type  \\\n9293                   first/Italy_Serie A_2021-2022.csv                1   \n9314                   first/Italy_Serie A_2021-2022.csv                1   \n9343                   first/Italy_Serie A_2021-2022.csv                1   \n9355                   first/Italy_Serie A_2021-2022.csv                1   \n9381                   first/Italy_Serie A_2021-2022.csv                1   \n9404                   first/Italy_Serie A_2021-2022.csv                1   \n9421                   first/Italy_Serie A_2021-2022.csv                1   \n9435                   first/Italy_Serie A_2021-2022.csv                1   \n9446                   first/Italy_Serie A_2021-2022.csv                1   \n9466                   first/Italy_Serie A_2021-2022.csv                1   \n9480                   first/Italy_Serie A_2021-2022.csv                1   \n9509                   first/Italy_Serie A_2021-2022.csv                1   \n9522                   first/Italy_Serie A_2021-2022.csv                1   \n9540                   first/Italy_Serie A_2021-2022.csv                1   \n9567                   first/Italy_Serie A_2021-2022.csv                1   \n9587                   first/Italy_Serie A_2021-2022.csv                1   \n9613                   first/Italy_Serie A_2021-2022.csv                1   \n9632                   first/Italy_Serie A_2021-2022.csv                1   \n9640                   first/Italy_Serie A_2021-2022.csv                1   \n11249                  first/Italy_Serie A_2020-2021.csv                1   \n11285                  first/Italy_Serie A_2020-2021.csv                1   \n11306                  first/Italy_Serie A_2020-2021.csv                1   \n11313                  first/Italy_Serie A_2020-2021.csv                1   \n11339                  first/Italy_Serie A_2020-2021.csv                1   \n11350                  first/Italy_Serie A_2020-2021.csv                1   \n11371                  first/Italy_Serie A_2020-2021.csv                1   \n11391                  first/Italy_Serie A_2020-2021.csv                1   \n11410                  first/Italy_Serie A_2020-2021.csv                1   \n11434                  first/Italy_Serie A_2020-2021.csv                1   \n11456                  first/Italy_Serie A_2020-2021.csv                1   \n11459                  first/Italy_Serie A_2020-2021.csv                1   \n11479                  first/Italy_Serie A_2020-2021.csv                1   \n11509                  first/Italy_Serie A_2020-2021.csv                1   \n11532                  first/Italy_Serie A_2020-2021.csv                1   \n11548                  first/Italy_Serie A_2020-2021.csv                1   \n11569                  first/Italy_Serie A_2020-2021.csv                1   \n11589                  first/Italy_Serie A_2020-2021.csv                1   \n11610                  first/Italy_Serie A_2020-2021.csv                1   \n43013  cups/Europa League_Europa League - Group Stage...                3   \n43047  cups/Europa League_Europa League - Group Stage...                3   \n43082  cups/Europa League_Europa League - Group Stage...                3   \n43838              cups/Italy_Coppa Italia_2020-2021.csv                3   \n43905  cups/Europa League_Europa League - Play Offs_2...                3   \n43917  cups/Europa League_Europa League - Play Offs_2...                3   \n44133  cups/Europa League_Europa League - Qualificati...                3   \n\n                tournament outcome  is_pandemic  draw_probability  \n9293          Italy. First       H            0              0.25  \n9314          Italy. First       H            0              0.27  \n9343          Italy. First       H            0              0.26  \n9355          Italy. First       D            0              0.27  \n9381          Italy. First       H            0              0.26  \n9404          Italy. First       D            0              0.26  \n9421          Italy. First       H            0              0.27  \n9435          Italy. First       D            0              0.24  \n9446          Italy. First       A            0              0.26  \n9466          Italy. First       H            0              0.25  \n9480          Italy. First       A            0              0.25  \n9509          Italy. First       H            0              0.25  \n9522          Italy. First       A            0              0.25  \n9540          Italy. First       D            0              0.24  \n9567          Italy. First       H            0              0.25  \n9587          Italy. First       H            0              0.25  \n9613          Italy. First       H            0              0.25  \n9632          Italy. First       H            0              0.26  \n9640          Italy. First       H            0              0.26  \n11249         Italy. First       D            1              0.26  \n11285         Italy. First       H            1              0.26  \n11306         Italy. First       A            1              0.26  \n11313         Italy. First       H            1              0.26  \n11339         Italy. First       D            1              0.26  \n11350         Italy. First       A            1              0.26  \n11371         Italy. First       D            1              0.24  \n11391         Italy. First       A            1              0.23  \n11410         Italy. First       H            1              0.24  \n11434         Italy. First       A            1              0.22  \n11456         Italy. First       H            1              0.24  \n11459         Italy. First       A            1              0.23  \n11479         Italy. First       H            1              0.23  \n11509         Italy. First       D            1              0.23  \n11532         Italy. First       H            1              0.23  \n11548         Italy. First       D            1              0.23  \n11569         Italy. First       D            1              0.23  \n11589         Italy. First       H            1              0.23  \n11610         Italy. First       H            1              0.24  \n43013  Europa League. Cups       H            1              0.23  \n43047  Europa League. Cups       A            1              0.21  \n43082  Europa League. Cups       H            1              0.22  \n43838          Italy. Cups       H            1              0.24  \n43905  Europa League. Cups       A            1              0.25  \n43917  Europa League. Cups       D            1              0.23  \n44133  Europa League. Cups       H            1              0.20  ",
      "text/html": "<div>\n<style scoped>\n    .dataframe tbody tr th:only-of-type {\n        vertical-align: middle;\n    }\n\n    .dataframe tbody tr th {\n        vertical-align: top;\n    }\n\n    .dataframe thead th {\n        text-align: right;\n    }\n</style>\n<table border=\"1\" class=\"dataframe\">\n  <thead>\n    <tr style=\"text-align: right;\">\n      <th></th>\n      <th>match_id</th>\n      <th>home_goals</th>\n      <th>away_goals</th>\n      <th>home_win</th>\n      <th>draw</th>\n      <th>away_win</th>\n      <th>date</th>\n      <th>home_team</th>\n      <th>away_team</th>\n      <th>home_score</th>\n      <th>away_score</th>\n      <th>country</th>\n      <th>league</th>\n      <th>season</th>\n      <th>file_path</th>\n      <th>tournament_type</th>\n      <th>tournament</th>\n      <th>outcome</th>\n      <th>is_pandemic</th>\n      <th>draw_probability</th>\n    </tr>\n  </thead>\n  <tbody>\n    <tr>\n      <th>9293</th>\n      <td>59023</td>\n      <td>1.33</td>\n      <td>1.57</td>\n      <td>0.33</td>\n      <td>0.25</td>\n      <td>0.43</td>\n      <td>2022-05-15</td>\n      <td>AC Milan</td>\n      <td>Atalanta</td>\n      <td>2</td>\n      <td>0</td>\n      <td>Italy</td>\n      <td>Serie A</td>\n      <td>2021</td>\n      <td>first/Italy_Serie A_2021-2022.csv</td>\n      <td>1</td>\n      <td>Italy. First</td>\n      <td>H</td>\n      <td>0</td>\n      <td>0.25</td>\n    </tr>\n    <tr>\n      <th>9314</th>\n      <td>59044</td>\n      <td>1.40</td>\n      <td>1.12</td>\n      <td>0.43</td>\n      <td>0.27</td>\n      <td>0.30</td>\n      <td>2022-05-01</td>\n      <td>AC Milan</td>\n      <td>Fiorentina</td>\n      <td>1</td>\n      <td>0</td>\n      <td>Italy</td>\n      <td>Serie A</td>\n      <td>2021</td>\n      <td>first/Italy_Serie A_2021-2022.csv</td>\n      <td>1</td>\n      <td>Italy. First</td>\n      <td>H</td>\n      <td>0</td>\n      <td>0.27</td>\n    </tr>\n    <tr>\n      <th>9343</th>\n      <td>59073</td>\n      <td>1.53</td>\n      <td>0.94</td>\n      <td>0.51</td>\n      <td>0.26</td>\n      <td>0.23</td>\n      <td>2022-04-15</td>\n      <td>AC Milan</td>\n      <td>Genoa</td>\n      <td>2</td>\n      <td>0</td>\n      <td>Italy</td>\n      <td>Serie A</td>\n      <td>2021</td>\n      <td>first/Italy_Serie A_2021-2022.csv</td>\n      <td>1</td>\n      <td>Italy. First</td>\n      <td>H</td>\n      <td>0</td>\n      <td>0.26</td>\n    </tr>\n    <tr>\n      <th>9355</th>\n      <td>59085</td>\n      <td>1.40</td>\n      <td>1.00</td>\n      <td>0.46</td>\n      <td>0.27</td>\n      <td>0.27</td>\n      <td>2022-04-04</td>\n      <td>AC Milan</td>\n      <td>Bologna</td>\n      <td>0</td>\n      <td>0</td>\n      <td>Italy</td>\n      <td>Serie A</td>\n      <td>2021</td>\n      <td>first/Italy_Serie A_2021-2022.csv</td>\n      <td>1</td>\n      <td>Italy. First</td>\n      <td>D</td>\n      <td>0</td>\n      <td>0.27</td>\n    </tr>\n    <tr>\n      <th>9381</th>\n      <td>59111</td>\n      <td>1.38</td>\n      <td>1.20</td>\n      <td>0.41</td>\n      <td>0.26</td>\n      <td>0.33</td>\n      <td>2022-03-12</td>\n      <td>AC Milan</td>\n      <td>Empoli</td>\n      <td>1</td>\n      <td>0</td>\n      <td>Italy</td>\n      <td>Serie A</td>\n      <td>2021</td>\n      <td>first/Italy_Serie A_2021-2022.csv</td>\n      <td>1</td>\n      <td>Italy. First</td>\n      <td>H</td>\n      <td>0</td>\n      <td>0.26</td>\n    </tr>\n    <tr>\n      <th>9404</th>\n      <td>59134</td>\n      <td>1.40</td>\n      <td>1.16</td>\n      <td>0.43</td>\n      <td>0.26</td>\n      <td>0.31</td>\n      <td>2022-02-25</td>\n      <td>AC Milan</td>\n      <td>Udinese</td>\n      <td>1</td>\n      <td>1</td>\n      <td>Italy</td>\n      <td>Serie A</td>\n      <td>2021</td>\n      <td>first/Italy_Serie A_2021-2022.csv</td>\n      <td>1</td>\n      <td>Italy. First</td>\n      <td>D</td>\n      <td>0</td>\n      <td>0.26</td>\n    </tr>\n    <tr>\n      <th>9421</th>\n      <td>59151</td>\n      <td>1.43</td>\n      <td>1.07</td>\n      <td>0.45</td>\n      <td>0.27</td>\n      <td>0.28</td>\n      <td>2022-02-13</td>\n      <td>AC Milan</td>\n      <td>Sampdoria</td>\n      <td>1</td>\n      <td>0</td>\n      <td>Italy</td>\n      <td>Serie A</td>\n      <td>2021</td>\n      <td>first/Italy_Serie A_2021-2022.csv</td>\n      <td>1</td>\n      <td>Italy. First</td>\n      <td>H</td>\n      <td>0</td>\n      <td>0.27</td>\n    </tr>\n    <tr>\n      <th>9435</th>\n      <td>59165</td>\n      <td>1.42</td>\n      <td>1.57</td>\n      <td>0.35</td>\n      <td>0.24</td>\n      <td>0.41</td>\n      <td>2022-01-23</td>\n      <td>AC Milan</td>\n      <td>Juventus</td>\n      <td>0</td>\n      <td>0</td>\n      <td>Italy</td>\n      <td>Serie A</td>\n      <td>2021</td>\n      <td>first/Italy_Serie A_2021-2022.csv</td>\n      <td>1</td>\n      <td>Italy. First</td>\n      <td>D</td>\n      <td>0</td>\n      <td>0.24</td>\n    </tr>\n    <tr>\n      <th>9446</th>\n      <td>59176</td>\n      <td>1.54</td>\n      <td>0.98</td>\n      <td>0.50</td>\n      <td>0.26</td>\n      <td>0.24</td>\n      <td>2022-01-17</td>\n      <td>AC Milan</td>\n      <td>Spezia</td>\n      <td>1</td>\n      <td>2</td>\n      <td>Italy</td>\n      <td>Serie A</td>\n      <td>2021</td>\n      <td>first/Italy_Serie A_2021-2022.csv</td>\n      <td>1</td>\n      <td>Italy. First</td>\n      <td>A</td>\n      <td>0</td>\n      <td>0.26</td>\n    </tr>\n    <tr>\n      <th>9466</th>\n      <td>59196</td>\n      <td>1.44</td>\n      <td>1.37</td>\n      <td>0.39</td>\n      <td>0.25</td>\n      <td>0.36</td>\n      <td>2022-01-06</td>\n      <td>AC Milan</td>\n      <td>AS Roma</td>\n      <td>3</td>\n      <td>1</td>\n      <td>Italy</td>\n      <td>Serie A</td>\n      <td>2021</td>\n      <td>first/Italy_Serie A_2021-2022.csv</td>\n      <td>1</td>\n      <td>Italy. First</td>\n      <td>H</td>\n      <td>0</td>\n      <td>0.25</td>\n    </tr>\n    <tr>\n      <th>9480</th>\n      <td>59210</td>\n      <td>1.44</td>\n      <td>1.51</td>\n      <td>0.36</td>\n      <td>0.25</td>\n      <td>0.39</td>\n      <td>2021-12-19</td>\n      <td>AC Milan</td>\n      <td>Napoli</td>\n      <td>0</td>\n      <td>1</td>\n      <td>Italy</td>\n      <td>Serie A</td>\n      <td>2021</td>\n      <td>first/Italy_Serie A_2021-2022.csv</td>\n      <td>1</td>\n      <td>Italy. First</td>\n      <td>A</td>\n      <td>0</td>\n      <td>0.25</td>\n    </tr>\n    <tr>\n      <th>9509</th>\n      <td>59239</td>\n      <td>1.59</td>\n      <td>1.08</td>\n      <td>0.49</td>\n      <td>0.25</td>\n      <td>0.26</td>\n      <td>2021-12-04</td>\n      <td>AC Milan</td>\n      <td>Salernitana</td>\n      <td>2</td>\n      <td>0</td>\n      <td>Italy</td>\n      <td>Serie A</td>\n      <td>2021</td>\n      <td>first/Italy_Serie A_2021-2022.csv</td>\n      <td>1</td>\n      <td>Italy. First</td>\n      <td>H</td>\n      <td>0</td>\n      <td>0.25</td>\n    </tr>\n    <tr>\n      <th>9522</th>\n      <td>59252</td>\n      <td>1.57</td>\n      <td>1.34</td>\n      <td>0.43</td>\n      <td>0.25</td>\n      <td>0.33</td>\n      <td>2021-11-28</td>\n      <td>AC Milan</td>\n      <td>Sassuolo</td>\n      <td>1</td>\n      <td>3</td>\n      <td>Italy</td>\n      <td>Serie A</td>\n      <td>2021</td>\n      <td>first/Italy_Serie A_2021-2022.csv</td>\n      <td>1</td>\n      <td>Italy. First</td>\n      <td>A</td>\n      <td>0</td>\n      <td>0.25</td>\n    </tr>\n    <tr>\n      <th>9540</th>\n      <td>59270</td>\n      <td>1.54</td>\n      <td>1.50</td>\n      <td>0.39</td>\n      <td>0.24</td>\n      <td>0.37</td>\n      <td>2021-11-07</td>\n      <td>AC Milan</td>\n      <td>Inter</td>\n      <td>1</td>\n      <td>1</td>\n      <td>Italy</td>\n      <td>Serie A</td>\n      <td>2021</td>\n      <td>first/Italy_Serie A_2021-2022.csv</td>\n      <td>1</td>\n      <td>Italy. First</td>\n      <td>D</td>\n      <td>0</td>\n      <td>0.24</td>\n    </tr>\n    <tr>\n      <th>9567</th>\n      <td>59297</td>\n      <td>1.63</td>\n      <td>1.05</td>\n      <td>0.51</td>\n      <td>0.25</td>\n      <td>0.24</td>\n      <td>2021-10-26</td>\n      <td>AC Milan</td>\n      <td>Torino</td>\n      <td>1</td>\n      <td>0</td>\n      <td>Italy</td>\n      <td>Serie A</td>\n      <td>2021</td>\n      <td>first/Italy_Serie A_2021-2022.csv</td>\n      <td>1</td>\n      <td>Italy. First</td>\n      <td>H</td>\n      <td>0</td>\n      <td>0.25</td>\n    </tr>\n    <tr>\n      <th>9587</th>\n      <td>59317</td>\n      <td>1.60</td>\n      <td>1.14</td>\n      <td>0.48</td>\n      <td>0.25</td>\n      <td>0.27</td>\n      <td>2021-10-16</td>\n      <td>AC Milan</td>\n      <td>Verona</td>\n      <td>3</td>\n      <td>2</td>\n      <td>Italy</td>\n      <td>Serie A</td>\n      <td>2021</td>\n      <td>first/Italy_Serie A_2021-2022.csv</td>\n      <td>1</td>\n      <td>Italy. First</td>\n      <td>H</td>\n      <td>0</td>\n      <td>0.25</td>\n    </tr>\n    <tr>\n      <th>9613</th>\n      <td>59343</td>\n      <td>1.56</td>\n      <td>1.15</td>\n      <td>0.47</td>\n      <td>0.25</td>\n      <td>0.28</td>\n      <td>2021-09-22</td>\n      <td>AC Milan</td>\n      <td>Venezia</td>\n      <td>2</td>\n      <td>0</td>\n      <td>Italy</td>\n      <td>Serie A</td>\n      <td>2021</td>\n      <td>first/Italy_Serie A_2021-2022.csv</td>\n      <td>1</td>\n      <td>Italy. First</td>\n      <td>H</td>\n      <td>0</td>\n      <td>0.25</td>\n    </tr>\n    <tr>\n      <th>9632</th>\n      <td>59362</td>\n      <td>1.53</td>\n      <td>1.04</td>\n      <td>0.49</td>\n      <td>0.26</td>\n      <td>0.26</td>\n      <td>2021-09-12</td>\n      <td>AC Milan</td>\n      <td>Lazio</td>\n      <td>2</td>\n      <td>0</td>\n      <td>Italy</td>\n      <td>Serie A</td>\n      <td>2021</td>\n      <td>first/Italy_Serie A_2021-2022.csv</td>\n      <td>1</td>\n      <td>Italy. First</td>\n      <td>H</td>\n      <td>0</td>\n      <td>0.26</td>\n    </tr>\n    <tr>\n      <th>9640</th>\n      <td>59370</td>\n      <td>1.45</td>\n      <td>1.09</td>\n      <td>0.45</td>\n      <td>0.26</td>\n      <td>0.28</td>\n      <td>2021-08-29</td>\n      <td>AC Milan</td>\n      <td>Cagliari</td>\n      <td>4</td>\n      <td>1</td>\n      <td>Italy</td>\n      <td>Serie A</td>\n      <td>2021</td>\n      <td>first/Italy_Serie A_2021-2022.csv</td>\n      <td>1</td>\n      <td>Italy. First</td>\n      <td>H</td>\n      <td>0</td>\n      <td>0.26</td>\n    </tr>\n    <tr>\n      <th>11249</th>\n      <td>70635</td>\n      <td>1.52</td>\n      <td>1.09</td>\n      <td>0.47</td>\n      <td>0.26</td>\n      <td>0.27</td>\n      <td>2021-05-16</td>\n      <td>AC Milan</td>\n      <td>Cagliari</td>\n      <td>0</td>\n      <td>0</td>\n      <td>Italy</td>\n      <td>Serie A</td>\n      <td>2020</td>\n      <td>first/Italy_Serie A_2020-2021.csv</td>\n      <td>1</td>\n      <td>Italy. First</td>\n      <td>D</td>\n      <td>1</td>\n      <td>0.26</td>\n    </tr>\n    <tr>\n      <th>11285</th>\n      <td>70671</td>\n      <td>1.46</td>\n      <td>1.19</td>\n      <td>0.43</td>\n      <td>0.26</td>\n      <td>0.31</td>\n      <td>2021-05-01</td>\n      <td>AC Milan</td>\n      <td>Benevento</td>\n      <td>2</td>\n      <td>0</td>\n      <td>Italy</td>\n      <td>Serie A</td>\n      <td>2020</td>\n      <td>first/Italy_Serie A_2020-2021.csv</td>\n      <td>1</td>\n      <td>Italy. First</td>\n      <td>H</td>\n      <td>1</td>\n      <td>0.26</td>\n    </tr>\n    <tr>\n      <th>11306</th>\n      <td>70692</td>\n      <td>1.46</td>\n      <td>1.22</td>\n      <td>0.43</td>\n      <td>0.26</td>\n      <td>0.32</td>\n      <td>2021-04-21</td>\n      <td>AC Milan</td>\n      <td>Sassuolo</td>\n      <td>1</td>\n      <td>2</td>\n      <td>Italy</td>\n      <td>Serie A</td>\n      <td>2020</td>\n      <td>first/Italy_Serie A_2020-2021.csv</td>\n      <td>1</td>\n      <td>Italy. First</td>\n      <td>A</td>\n      <td>1</td>\n      <td>0.26</td>\n    </tr>\n    <tr>\n      <th>11313</th>\n      <td>70699</td>\n      <td>1.49</td>\n      <td>1.03</td>\n      <td>0.48</td>\n      <td>0.26</td>\n      <td>0.26</td>\n      <td>2021-04-18</td>\n      <td>AC Milan</td>\n      <td>Genoa</td>\n      <td>2</td>\n      <td>1</td>\n      <td>Italy</td>\n      <td>Serie A</td>\n      <td>2020</td>\n      <td>first/Italy_Serie A_2020-2021.csv</td>\n      <td>1</td>\n      <td>Italy. First</td>\n      <td>H</td>\n      <td>1</td>\n      <td>0.26</td>\n    </tr>\n    <tr>\n      <th>11339</th>\n      <td>70725</td>\n      <td>1.41</td>\n      <td>1.14</td>\n      <td>0.43</td>\n      <td>0.26</td>\n      <td>0.30</td>\n      <td>2021-04-03</td>\n      <td>AC Milan</td>\n      <td>Sampdoria</td>\n      <td>1</td>\n      <td>1</td>\n      <td>Italy</td>\n      <td>Serie A</td>\n      <td>2020</td>\n      <td>first/Italy_Serie A_2020-2021.csv</td>\n      <td>1</td>\n      <td>Italy. First</td>\n      <td>D</td>\n      <td>1</td>\n      <td>0.26</td>\n    </tr>\n    <tr>\n      <th>11350</th>\n      <td>70736</td>\n      <td>1.51</td>\n      <td>1.13</td>\n      <td>0.46</td>\n      <td>0.26</td>\n      <td>0.28</td>\n      <td>2021-03-14</td>\n      <td>AC Milan</td>\n      <td>Napoli</td>\n      <td>0</td>\n      <td>1</td>\n      <td>Italy</td>\n      <td>Serie A</td>\n      <td>2020</td>\n      <td>first/Italy_Serie A_2020-2021.csv</td>\n      <td>1</td>\n      <td>Italy. First</td>\n      <td>A</td>\n      <td>1</td>\n      <td>0.26</td>\n    </tr>\n    <tr>\n      <th>11371</th>\n      <td>70757</td>\n      <td>1.65</td>\n      <td>1.14</td>\n      <td>0.49</td>\n      <td>0.24</td>\n      <td>0.26</td>\n      <td>2021-03-03</td>\n      <td>AC Milan</td>\n      <td>Udinese</td>\n      <td>1</td>\n      <td>1</td>\n      <td>Italy</td>\n      <td>Serie A</td>\n      <td>2020</td>\n      <td>first/Italy_Serie A_2020-2021.csv</td>\n      <td>1</td>\n      <td>Italy. First</td>\n      <td>D</td>\n      <td>1</td>\n      <td>0.24</td>\n    </tr>\n    <tr>\n      <th>11391</th>\n      <td>70777</td>\n      <td>1.77</td>\n      <td>1.56</td>\n      <td>0.43</td>\n      <td>0.23</td>\n      <td>0.34</td>\n      <td>2021-02-21</td>\n      <td>AC Milan</td>\n      <td>Inter</td>\n      <td>0</td>\n      <td>3</td>\n      <td>Italy</td>\n      <td>Serie A</td>\n      <td>2020</td>\n      <td>first/Italy_Serie A_2020-2021.csv</td>\n      <td>1</td>\n      <td>Italy. First</td>\n      <td>A</td>\n      <td>1</td>\n      <td>0.23</td>\n    </tr>\n    <tr>\n      <th>11410</th>\n      <td>70796</td>\n      <td>1.65</td>\n      <td>1.06</td>\n      <td>0.51</td>\n      <td>0.24</td>\n      <td>0.24</td>\n      <td>2021-02-07</td>\n      <td>AC Milan</td>\n      <td>Crotone</td>\n      <td>4</td>\n      <td>0</td>\n      <td>Italy</td>\n      <td>Serie A</td>\n      <td>2020</td>\n      <td>first/Italy_Serie A_2020-2021.csv</td>\n      <td>1</td>\n      <td>Italy. First</td>\n      <td>H</td>\n      <td>1</td>\n      <td>0.24</td>\n    </tr>\n    <tr>\n      <th>11434</th>\n      <td>70820</td>\n      <td>1.73</td>\n      <td>1.74</td>\n      <td>0.39</td>\n      <td>0.22</td>\n      <td>0.39</td>\n      <td>2021-01-23</td>\n      <td>AC Milan</td>\n      <td>Atalanta</td>\n      <td>0</td>\n      <td>3</td>\n      <td>Italy</td>\n      <td>Serie A</td>\n      <td>2020</td>\n      <td>first/Italy_Serie A_2020-2021.csv</td>\n      <td>1</td>\n      <td>Italy. First</td>\n      <td>A</td>\n      <td>1</td>\n      <td>0.22</td>\n    </tr>\n    <tr>\n      <th>11456</th>\n      <td>70842</td>\n      <td>1.72</td>\n      <td>1.15</td>\n      <td>0.51</td>\n      <td>0.24</td>\n      <td>0.26</td>\n      <td>2021-01-09</td>\n      <td>AC Milan</td>\n      <td>Torino</td>\n      <td>2</td>\n      <td>0</td>\n      <td>Italy</td>\n      <td>Serie A</td>\n      <td>2020</td>\n      <td>first/Italy_Serie A_2020-2021.csv</td>\n      <td>1</td>\n      <td>Italy. First</td>\n      <td>H</td>\n      <td>1</td>\n      <td>0.24</td>\n    </tr>\n    <tr>\n      <th>11459</th>\n      <td>70845</td>\n      <td>1.79</td>\n      <td>1.58</td>\n      <td>0.43</td>\n      <td>0.23</td>\n      <td>0.34</td>\n      <td>2021-01-06</td>\n      <td>AC Milan</td>\n      <td>Juventus</td>\n      <td>1</td>\n      <td>3</td>\n      <td>Italy</td>\n      <td>Serie A</td>\n      <td>2020</td>\n      <td>first/Italy_Serie A_2020-2021.csv</td>\n      <td>1</td>\n      <td>Italy. First</td>\n      <td>A</td>\n      <td>1</td>\n      <td>0.23</td>\n    </tr>\n    <tr>\n      <th>11479</th>\n      <td>70865</td>\n      <td>1.75</td>\n      <td>1.31</td>\n      <td>0.48</td>\n      <td>0.23</td>\n      <td>0.29</td>\n      <td>2020-12-23</td>\n      <td>AC Milan</td>\n      <td>Lazio</td>\n      <td>3</td>\n      <td>2</td>\n      <td>Italy</td>\n      <td>Serie A</td>\n      <td>2020</td>\n      <td>first/Italy_Serie A_2020-2021.csv</td>\n      <td>1</td>\n      <td>Italy. First</td>\n      <td>H</td>\n      <td>1</td>\n      <td>0.23</td>\n    </tr>\n    <tr>\n      <th>11509</th>\n      <td>70895</td>\n      <td>1.85</td>\n      <td>1.19</td>\n      <td>0.53</td>\n      <td>0.23</td>\n      <td>0.24</td>\n      <td>2020-12-13</td>\n      <td>AC Milan</td>\n      <td>Parma</td>\n      <td>2</td>\n      <td>2</td>\n      <td>Italy</td>\n      <td>Serie A</td>\n      <td>2020</td>\n      <td>first/Italy_Serie A_2020-2021.csv</td>\n      <td>1</td>\n      <td>Italy. First</td>\n      <td>D</td>\n      <td>1</td>\n      <td>0.23</td>\n    </tr>\n    <tr>\n      <th>11532</th>\n      <td>70918</td>\n      <td>1.83</td>\n      <td>1.20</td>\n      <td>0.52</td>\n      <td>0.23</td>\n      <td>0.25</td>\n      <td>2020-11-29</td>\n      <td>AC Milan</td>\n      <td>Fiorentina</td>\n      <td>2</td>\n      <td>0</td>\n      <td>Italy</td>\n      <td>Serie A</td>\n      <td>2020</td>\n      <td>first/Italy_Serie A_2020-2021.csv</td>\n      <td>1</td>\n      <td>Italy. First</td>\n      <td>H</td>\n      <td>1</td>\n      <td>0.23</td>\n    </tr>\n    <tr>\n      <th>11548</th>\n      <td>70934</td>\n      <td>1.85</td>\n      <td>0.98</td>\n      <td>0.58</td>\n      <td>0.23</td>\n      <td>0.20</td>\n      <td>2020-11-08</td>\n      <td>AC Milan</td>\n      <td>Verona</td>\n      <td>2</td>\n      <td>2</td>\n      <td>Italy</td>\n      <td>Serie A</td>\n      <td>2020</td>\n      <td>first/Italy_Serie A_2020-2021.csv</td>\n      <td>1</td>\n      <td>Italy. First</td>\n      <td>D</td>\n      <td>1</td>\n      <td>0.23</td>\n    </tr>\n    <tr>\n      <th>11569</th>\n      <td>70955</td>\n      <td>1.78</td>\n      <td>1.52</td>\n      <td>0.44</td>\n      <td>0.23</td>\n      <td>0.33</td>\n      <td>2020-10-26</td>\n      <td>AC Milan</td>\n      <td>AS Roma</td>\n      <td>3</td>\n      <td>3</td>\n      <td>Italy</td>\n      <td>Serie A</td>\n      <td>2020</td>\n      <td>first/Italy_Serie A_2020-2021.csv</td>\n      <td>1</td>\n      <td>Italy. First</td>\n      <td>D</td>\n      <td>1</td>\n      <td>0.23</td>\n    </tr>\n    <tr>\n      <th>11589</th>\n      <td>70975</td>\n      <td>1.79</td>\n      <td>1.23</td>\n      <td>0.51</td>\n      <td>0.23</td>\n      <td>0.26</td>\n      <td>2020-10-04</td>\n      <td>AC Milan</td>\n      <td>Spezia</td>\n      <td>3</td>\n      <td>0</td>\n      <td>Italy</td>\n      <td>Serie A</td>\n      <td>2020</td>\n      <td>first/Italy_Serie A_2020-2021.csv</td>\n      <td>1</td>\n      <td>Italy. First</td>\n      <td>H</td>\n      <td>1</td>\n      <td>0.23</td>\n    </tr>\n    <tr>\n      <th>11610</th>\n      <td>70996</td>\n      <td>1.74</td>\n      <td>1.15</td>\n      <td>0.51</td>\n      <td>0.24</td>\n      <td>0.25</td>\n      <td>2020-09-21</td>\n      <td>AC Milan</td>\n      <td>Bologna</td>\n      <td>2</td>\n      <td>0</td>\n      <td>Italy</td>\n      <td>Serie A</td>\n      <td>2020</td>\n      <td>first/Italy_Serie A_2020-2021.csv</td>\n      <td>1</td>\n      <td>Italy. First</td>\n      <td>H</td>\n      <td>1</td>\n      <td>0.24</td>\n    </tr>\n    <tr>\n      <th>43013</th>\n      <td>358575</td>\n      <td>1.80</td>\n      <td>1.15</td>\n      <td>0.53</td>\n      <td>0.23</td>\n      <td>0.24</td>\n      <td>2020-12-03</td>\n      <td>AC Milan</td>\n      <td>Celtic</td>\n      <td>4</td>\n      <td>2</td>\n      <td>Europa League</td>\n      <td>Europa League - Group Stage</td>\n      <td>2020</td>\n      <td>cups/Europa League_Europa League - Group Stage...</td>\n      <td>3</td>\n      <td>Europa League. Cups</td>\n      <td>H</td>\n      <td>1</td>\n      <td>0.23</td>\n    </tr>\n    <tr>\n      <th>43047</th>\n      <td>358611</td>\n      <td>1.97</td>\n      <td>0.99</td>\n      <td>0.60</td>\n      <td>0.21</td>\n      <td>0.18</td>\n      <td>2020-11-05</td>\n      <td>AC Milan</td>\n      <td>Lille</td>\n      <td>0</td>\n      <td>3</td>\n      <td>Europa League</td>\n      <td>Europa League - Group Stage</td>\n      <td>2020</td>\n      <td>cups/Europa League_Europa League - Group Stage...</td>\n      <td>3</td>\n      <td>Europa League. Cups</td>\n      <td>A</td>\n      <td>1</td>\n      <td>0.21</td>\n    </tr>\n    <tr>\n      <th>43082</th>\n      <td>358647</td>\n      <td>1.92</td>\n      <td>1.23</td>\n      <td>0.54</td>\n      <td>0.22</td>\n      <td>0.24</td>\n      <td>2020-10-29</td>\n      <td>AC Milan</td>\n      <td>Sparta Prague</td>\n      <td>3</td>\n      <td>0</td>\n      <td>Europa League</td>\n      <td>Europa League - Group Stage</td>\n      <td>2020</td>\n      <td>cups/Europa League_Europa League - Group Stage...</td>\n      <td>3</td>\n      <td>Europa League. Cups</td>\n      <td>H</td>\n      <td>1</td>\n      <td>0.22</td>\n    </tr>\n    <tr>\n      <th>43838</th>\n      <td>404071</td>\n      <td>1.67</td>\n      <td>1.14</td>\n      <td>0.50</td>\n      <td>0.24</td>\n      <td>0.26</td>\n      <td>2021-01-12</td>\n      <td>AC Milan</td>\n      <td>Torino</td>\n      <td>1</td>\n      <td>0</td>\n      <td>Italy</td>\n      <td>Coppa Italia</td>\n      <td>2020</td>\n      <td>cups/Italy_Coppa Italia_2020-2021.csv</td>\n      <td>3</td>\n      <td>Italy. Cups</td>\n      <td>H</td>\n      <td>1</td>\n      <td>0.24</td>\n    </tr>\n    <tr>\n      <th>43905</th>\n      <td>405490</td>\n      <td>1.40</td>\n      <td>1.37</td>\n      <td>0.38</td>\n      <td>0.25</td>\n      <td>0.37</td>\n      <td>2021-03-18</td>\n      <td>AC Milan</td>\n      <td>Manchester Utd</td>\n      <td>0</td>\n      <td>1</td>\n      <td>Europa League</td>\n      <td>Europa League - Play Offs</td>\n      <td>2020</td>\n      <td>cups/Europa League_Europa League - Play Offs_2...</td>\n      <td>3</td>\n      <td>Europa League. Cups</td>\n      <td>A</td>\n      <td>1</td>\n      <td>0.25</td>\n    </tr>\n    <tr>\n      <th>43917</th>\n      <td>405506</td>\n      <td>1.75</td>\n      <td>0.95</td>\n      <td>0.56</td>\n      <td>0.23</td>\n      <td>0.20</td>\n      <td>2021-02-25</td>\n      <td>AC Milan</td>\n      <td>Crvena zvezda</td>\n      <td>1</td>\n      <td>1</td>\n      <td>Europa League</td>\n      <td>Europa League - Play Offs</td>\n      <td>2020</td>\n      <td>cups/Europa League_Europa League - Play Offs_2...</td>\n      <td>3</td>\n      <td>Europa League. Cups</td>\n      <td>D</td>\n      <td>1</td>\n      <td>0.23</td>\n    </tr>\n    <tr>\n      <th>44133</th>\n      <td>420290</td>\n      <td>2.12</td>\n      <td>1.05</td>\n      <td>0.62</td>\n      <td>0.20</td>\n      <td>0.18</td>\n      <td>2020-09-24</td>\n      <td>AC Milan</td>\n      <td>Bodo/Glimt</td>\n      <td>3</td>\n      <td>2</td>\n      <td>Europa League</td>\n      <td>Europa League - Qualification</td>\n      <td>2020</td>\n      <td>cups/Europa League_Europa League - Qualificati...</td>\n      <td>3</td>\n      <td>Europa League. Cups</td>\n      <td>H</td>\n      <td>1</td>\n      <td>0.20</td>\n    </tr>\n  </tbody>\n</table>\n</div>"
     },
     "execution_count": 20,
     "metadata": {},
     "output_type": "execute_result"
    }
   ],
   "source": [
    "t.loc[t['home_team'].str.contains('Milan')]"
   ],
   "metadata": {
    "collapsed": false,
    "pycharm": {
     "name": "#%%\n"
    }
   }
  },
  {
   "cell_type": "code",
   "execution_count": null,
   "outputs": [],
   "source": [],
   "metadata": {
    "collapsed": false,
    "pycharm": {
     "name": "#%%\n"
    }
   }
  }
 ],
 "metadata": {
  "kernelspec": {
   "name": "python3",
   "language": "python",
   "display_name": "Python 3 (ipykernel)"
  },
  "language_info": {
   "codemirror_mode": {
    "name": "ipython",
    "version": 3
   },
   "file_extension": ".py",
   "mimetype": "text/x-python",
   "name": "python",
   "nbconvert_exporter": "python",
   "pygments_lexer": "ipython3",
   "version": "3.9.7"
  }
 },
 "nbformat": 4,
 "nbformat_minor": 5
}