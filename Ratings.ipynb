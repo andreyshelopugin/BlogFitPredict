{
 "cells": [
  {
   "cell_type": "code",
   "execution_count": 43,
   "id": "4a86a728",
   "metadata": {
    "ExecuteTime": {
     "end_time": "2021-10-31T06:23:31.415615Z",
     "start_time": "2021-10-31T06:23:28.418283Z"
    },
    "pycharm": {
     "name": "#%%\n"
    }
   },
   "outputs": [],
   "source": [
    "%reload_ext autoreload\n",
    "%autoreload 2\n",
    "\n",
    "import numpy as np\n",
    "import pandas as pd\n",
    "\n",
    "pd.options.display.max_columns, pd.options.display.max_rows = 500, 200\n",
    "pd.options.display.float_format = '{:.1f}'.format\n",
    "import warnings\n",
    "\n",
    "warnings.filterwarnings('ignore')\n",
    "import joblib\n",
    "\n",
    "from euro_soccer.preprocessing import DataPreprocessor\n",
    "from euro_soccer.glicko_soccer import GlickoSoccer"
   ]
  },
  {
   "cell_type": "code",
   "execution_count": 44,
   "outputs": [
    {
     "data": {
      "text/plain": "         date home_team   away_team home_score away_score notes  country  \\\n0  05.11.2011     Kalju       Paide          1          2   NaN  Estonia   \n1  05.11.2011   Levadia  Kuressaare          4          0   NaN  Estonia   \n2  05.11.2011     Narva    Sillamae          2          3   NaN  Estonia   \n3  05.11.2011   Tammeka    Lasnamae          9          0   NaN  Estonia   \n4  05.11.2011  Viljandi       Flora          2          4   NaN  Estonia   \n\n         league season                            file_path tournament_type  \n0  Meistriliiga   2011  first/Estonia_Meistriliiga_2011.csv           first  \n1  Meistriliiga   2011  first/Estonia_Meistriliiga_2011.csv           first  \n2  Meistriliiga   2011  first/Estonia_Meistriliiga_2011.csv           first  \n3  Meistriliiga   2011  first/Estonia_Meistriliiga_2011.csv           first  \n4  Meistriliiga   2011  first/Estonia_Meistriliiga_2011.csv           first  ",
      "text/html": "<div>\n<style scoped>\n    .dataframe tbody tr th:only-of-type {\n        vertical-align: middle;\n    }\n\n    .dataframe tbody tr th {\n        vertical-align: top;\n    }\n\n    .dataframe thead th {\n        text-align: right;\n    }\n</style>\n<table border=\"1\" class=\"dataframe\">\n  <thead>\n    <tr style=\"text-align: right;\">\n      <th></th>\n      <th>date</th>\n      <th>home_team</th>\n      <th>away_team</th>\n      <th>home_score</th>\n      <th>away_score</th>\n      <th>notes</th>\n      <th>country</th>\n      <th>league</th>\n      <th>season</th>\n      <th>file_path</th>\n      <th>tournament_type</th>\n    </tr>\n  </thead>\n  <tbody>\n    <tr>\n      <th>0</th>\n      <td>05.11.2011</td>\n      <td>Kalju</td>\n      <td>Paide</td>\n      <td>1</td>\n      <td>2</td>\n      <td>NaN</td>\n      <td>Estonia</td>\n      <td>Meistriliiga</td>\n      <td>2011</td>\n      <td>first/Estonia_Meistriliiga_2011.csv</td>\n      <td>first</td>\n    </tr>\n    <tr>\n      <th>1</th>\n      <td>05.11.2011</td>\n      <td>Levadia</td>\n      <td>Kuressaare</td>\n      <td>4</td>\n      <td>0</td>\n      <td>NaN</td>\n      <td>Estonia</td>\n      <td>Meistriliiga</td>\n      <td>2011</td>\n      <td>first/Estonia_Meistriliiga_2011.csv</td>\n      <td>first</td>\n    </tr>\n    <tr>\n      <th>2</th>\n      <td>05.11.2011</td>\n      <td>Narva</td>\n      <td>Sillamae</td>\n      <td>2</td>\n      <td>3</td>\n      <td>NaN</td>\n      <td>Estonia</td>\n      <td>Meistriliiga</td>\n      <td>2011</td>\n      <td>first/Estonia_Meistriliiga_2011.csv</td>\n      <td>first</td>\n    </tr>\n    <tr>\n      <th>3</th>\n      <td>05.11.2011</td>\n      <td>Tammeka</td>\n      <td>Lasnamae</td>\n      <td>9</td>\n      <td>0</td>\n      <td>NaN</td>\n      <td>Estonia</td>\n      <td>Meistriliiga</td>\n      <td>2011</td>\n      <td>first/Estonia_Meistriliiga_2011.csv</td>\n      <td>first</td>\n    </tr>\n    <tr>\n      <th>4</th>\n      <td>05.11.2011</td>\n      <td>Viljandi</td>\n      <td>Flora</td>\n      <td>2</td>\n      <td>4</td>\n      <td>NaN</td>\n      <td>Estonia</td>\n      <td>Meistriliiga</td>\n      <td>2011</td>\n      <td>first/Estonia_Meistriliiga_2011.csv</td>\n      <td>first</td>\n    </tr>\n  </tbody>\n</table>\n</div>"
     },
     "execution_count": 44,
     "metadata": {},
     "output_type": "execute_result"
    }
   ],
   "source": [
    "matches = pd.read_csv('matches.csv')\n",
    "matches.head()"
   ],
   "metadata": {
    "collapsed": false,
    "pycharm": {
     "name": "#%%\n"
    }
   }
  },
  {
   "cell_type": "code",
   "execution_count": 56,
   "id": "e83e46cd",
   "metadata": {
    "ExecuteTime": {
     "end_time": "2021-10-31T06:23:34.260370Z",
     "start_time": "2021-10-31T06:23:33.632554Z"
    },
    "scrolled": false,
    "pycharm": {
     "name": "#%%\n"
    }
   },
   "outputs": [
    {
     "data": {
      "text/plain": "         index       date       home_team       away_team  \\\n361296   59939 2022-08-31      Tuzla City   Siroki Brijeg   \n361295   59938 2022-08-31         Posusje     Zeljeznicar   \n361309  189174 2022-08-31           Plzen        Slovacko   \n361301  189172 2022-08-31  Mlada Boleslav  Hradec Kralove   \n361310   59937 2022-08-31        Igman K.         Sloboda   \n\n                       country          league  season  tournament_type  \\\n361296  Bosnia And Herzegovina  Premier League    2022                1   \n361295  Bosnia And Herzegovina  Premier League    2022                1   \n361309          Czech Republic         1. Liga    2022                1   \n361301          Czech Republic         1. Liga    2022                1   \n361310  Bosnia And Herzegovina  Premier League    2022                1   \n\n                           tournament outcome  is_pandemic  draw_probability  \n361296  Bosnia And Herzegovina. First       H            0               0.2  \n361295  Bosnia And Herzegovina. First       A            0               0.2  \n361309          Czech Republic. First       H            0               0.2  \n361301          Czech Republic. First       A            0               0.2  \n361310  Bosnia And Herzegovina. First       D            0               0.2  ",
      "text/html": "<div>\n<style scoped>\n    .dataframe tbody tr th:only-of-type {\n        vertical-align: middle;\n    }\n\n    .dataframe tbody tr th {\n        vertical-align: top;\n    }\n\n    .dataframe thead th {\n        text-align: right;\n    }\n</style>\n<table border=\"1\" class=\"dataframe\">\n  <thead>\n    <tr style=\"text-align: right;\">\n      <th></th>\n      <th>index</th>\n      <th>date</th>\n      <th>home_team</th>\n      <th>away_team</th>\n      <th>country</th>\n      <th>league</th>\n      <th>season</th>\n      <th>tournament_type</th>\n      <th>tournament</th>\n      <th>outcome</th>\n      <th>is_pandemic</th>\n      <th>draw_probability</th>\n    </tr>\n  </thead>\n  <tbody>\n    <tr>\n      <th>361296</th>\n      <td>59939</td>\n      <td>2022-08-31</td>\n      <td>Tuzla City</td>\n      <td>Siroki Brijeg</td>\n      <td>Bosnia And Herzegovina</td>\n      <td>Premier League</td>\n      <td>2022</td>\n      <td>1</td>\n      <td>Bosnia And Herzegovina. First</td>\n      <td>H</td>\n      <td>0</td>\n      <td>0.2</td>\n    </tr>\n    <tr>\n      <th>361295</th>\n      <td>59938</td>\n      <td>2022-08-31</td>\n      <td>Posusje</td>\n      <td>Zeljeznicar</td>\n      <td>Bosnia And Herzegovina</td>\n      <td>Premier League</td>\n      <td>2022</td>\n      <td>1</td>\n      <td>Bosnia And Herzegovina. First</td>\n      <td>A</td>\n      <td>0</td>\n      <td>0.2</td>\n    </tr>\n    <tr>\n      <th>361309</th>\n      <td>189174</td>\n      <td>2022-08-31</td>\n      <td>Plzen</td>\n      <td>Slovacko</td>\n      <td>Czech Republic</td>\n      <td>1. Liga</td>\n      <td>2022</td>\n      <td>1</td>\n      <td>Czech Republic. First</td>\n      <td>H</td>\n      <td>0</td>\n      <td>0.2</td>\n    </tr>\n    <tr>\n      <th>361301</th>\n      <td>189172</td>\n      <td>2022-08-31</td>\n      <td>Mlada Boleslav</td>\n      <td>Hradec Kralove</td>\n      <td>Czech Republic</td>\n      <td>1. Liga</td>\n      <td>2022</td>\n      <td>1</td>\n      <td>Czech Republic. First</td>\n      <td>A</td>\n      <td>0</td>\n      <td>0.2</td>\n    </tr>\n    <tr>\n      <th>361310</th>\n      <td>59937</td>\n      <td>2022-08-31</td>\n      <td>Igman K.</td>\n      <td>Sloboda</td>\n      <td>Bosnia And Herzegovina</td>\n      <td>Premier League</td>\n      <td>2022</td>\n      <td>1</td>\n      <td>Bosnia And Herzegovina. First</td>\n      <td>D</td>\n      <td>0</td>\n      <td>0.2</td>\n    </tr>\n  </tbody>\n</table>\n</div>"
     },
     "execution_count": 56,
     "metadata": {},
     "output_type": "execute_result"
    }
   ],
   "source": [
    "matches = pd.read_csv('matches.csv')\n",
    "matches = DataPreprocessor(is_actual_draw_predictions=False).preprocessing(matches)\n",
    "matches.tail(5)"
   ]
  },
  {
   "cell_type": "code",
   "execution_count": 57,
   "outputs": [
    {
     "data": {
      "text/plain": "         index       date      home_team            away_team        country  \\\n357497  183188 2022-05-21  Maccabi Haifa              Netanya         Israel   \n349244  138891 2022-01-03  Maccabi Haifa     Maccabi Tel Aviv         Israel   \n341754  138992 2021-09-11  Maccabi Haifa              Sakhnin         Israel   \n343437  138975 2021-09-26  Maccabi Haifa  Maccabi Petah Tikva         Israel   \n343940  138968 2021-10-03  Maccabi Haifa        H. Beer Sheva         Israel   \n...        ...        ...            ...                  ...            ...   \n28104   199535 2011-04-23  Maccabi Haifa              Netanya         Israel   \n28780   199531 2011-04-30  Maccabi Haifa      Hapoel Tel Aviv         Israel   \n30930   199525 2011-05-16  Maccabi Haifa        Kiryat Shmona         Israel   \n31781   374749 2011-05-25  Maccabi Haifa      Hapoel Tel Aviv         Israel   \n5039    406288 2010-07-29  Maccabi Haifa           Din. Minsk  Europa League   \n\n                                  league  season  tournament_type  \\\n357497  Ligat ha'Al - Championship Group    2021                1   \n349244                       Ligat ha'Al    2021                1   \n341754                       Ligat ha'Al    2021                1   \n343437                       Ligat ha'Al    2021                1   \n343940                       Ligat ha'Al    2021                1   \n...                                  ...     ...              ...   \n28104   Ligat ha'Al - Championship Group    2010                1   \n28780   Ligat ha'Al - Championship Group    2010                1   \n30930   Ligat ha'Al - Championship Group    2010                1   \n31781                          State Cup    2010                4   \n5039       Europa League - Qualification    2010                3   \n\n                 tournament outcome  is_pandemic  draw_probability  \n357497        Israel. First       H            0               0.2  \n349244        Israel. First       H            0               0.3  \n341754        Israel. First       H            0               0.2  \n343437        Israel. First       H            0               0.3  \n343940        Israel. First       A            0               0.2  \n...                     ...     ...          ...               ...  \n28104         Israel. First       A            0               0.2  \n28780         Israel. First       H            0               0.2  \n30930         Israel. First       H            0               0.2  \n31781          Israel. Cups       A            0               0.2  \n5039    Europa League. Cups       H            0               0.2  \n\n[249 rows x 12 columns]",
      "text/html": "<div>\n<style scoped>\n    .dataframe tbody tr th:only-of-type {\n        vertical-align: middle;\n    }\n\n    .dataframe tbody tr th {\n        vertical-align: top;\n    }\n\n    .dataframe thead th {\n        text-align: right;\n    }\n</style>\n<table border=\"1\" class=\"dataframe\">\n  <thead>\n    <tr style=\"text-align: right;\">\n      <th></th>\n      <th>index</th>\n      <th>date</th>\n      <th>home_team</th>\n      <th>away_team</th>\n      <th>country</th>\n      <th>league</th>\n      <th>season</th>\n      <th>tournament_type</th>\n      <th>tournament</th>\n      <th>outcome</th>\n      <th>is_pandemic</th>\n      <th>draw_probability</th>\n    </tr>\n  </thead>\n  <tbody>\n    <tr>\n      <th>357497</th>\n      <td>183188</td>\n      <td>2022-05-21</td>\n      <td>Maccabi Haifa</td>\n      <td>Netanya</td>\n      <td>Israel</td>\n      <td>Ligat ha'Al - Championship Group</td>\n      <td>2021</td>\n      <td>1</td>\n      <td>Israel. First</td>\n      <td>H</td>\n      <td>0</td>\n      <td>0.2</td>\n    </tr>\n    <tr>\n      <th>349244</th>\n      <td>138891</td>\n      <td>2022-01-03</td>\n      <td>Maccabi Haifa</td>\n      <td>Maccabi Tel Aviv</td>\n      <td>Israel</td>\n      <td>Ligat ha'Al</td>\n      <td>2021</td>\n      <td>1</td>\n      <td>Israel. First</td>\n      <td>H</td>\n      <td>0</td>\n      <td>0.3</td>\n    </tr>\n    <tr>\n      <th>341754</th>\n      <td>138992</td>\n      <td>2021-09-11</td>\n      <td>Maccabi Haifa</td>\n      <td>Sakhnin</td>\n      <td>Israel</td>\n      <td>Ligat ha'Al</td>\n      <td>2021</td>\n      <td>1</td>\n      <td>Israel. First</td>\n      <td>H</td>\n      <td>0</td>\n      <td>0.2</td>\n    </tr>\n    <tr>\n      <th>343437</th>\n      <td>138975</td>\n      <td>2021-09-26</td>\n      <td>Maccabi Haifa</td>\n      <td>Maccabi Petah Tikva</td>\n      <td>Israel</td>\n      <td>Ligat ha'Al</td>\n      <td>2021</td>\n      <td>1</td>\n      <td>Israel. First</td>\n      <td>H</td>\n      <td>0</td>\n      <td>0.3</td>\n    </tr>\n    <tr>\n      <th>343940</th>\n      <td>138968</td>\n      <td>2021-10-03</td>\n      <td>Maccabi Haifa</td>\n      <td>H. Beer Sheva</td>\n      <td>Israel</td>\n      <td>Ligat ha'Al</td>\n      <td>2021</td>\n      <td>1</td>\n      <td>Israel. First</td>\n      <td>A</td>\n      <td>0</td>\n      <td>0.2</td>\n    </tr>\n    <tr>\n      <th>...</th>\n      <td>...</td>\n      <td>...</td>\n      <td>...</td>\n      <td>...</td>\n      <td>...</td>\n      <td>...</td>\n      <td>...</td>\n      <td>...</td>\n      <td>...</td>\n      <td>...</td>\n      <td>...</td>\n      <td>...</td>\n    </tr>\n    <tr>\n      <th>28104</th>\n      <td>199535</td>\n      <td>2011-04-23</td>\n      <td>Maccabi Haifa</td>\n      <td>Netanya</td>\n      <td>Israel</td>\n      <td>Ligat ha'Al - Championship Group</td>\n      <td>2010</td>\n      <td>1</td>\n      <td>Israel. First</td>\n      <td>A</td>\n      <td>0</td>\n      <td>0.2</td>\n    </tr>\n    <tr>\n      <th>28780</th>\n      <td>199531</td>\n      <td>2011-04-30</td>\n      <td>Maccabi Haifa</td>\n      <td>Hapoel Tel Aviv</td>\n      <td>Israel</td>\n      <td>Ligat ha'Al - Championship Group</td>\n      <td>2010</td>\n      <td>1</td>\n      <td>Israel. First</td>\n      <td>H</td>\n      <td>0</td>\n      <td>0.2</td>\n    </tr>\n    <tr>\n      <th>30930</th>\n      <td>199525</td>\n      <td>2011-05-16</td>\n      <td>Maccabi Haifa</td>\n      <td>Kiryat Shmona</td>\n      <td>Israel</td>\n      <td>Ligat ha'Al - Championship Group</td>\n      <td>2010</td>\n      <td>1</td>\n      <td>Israel. First</td>\n      <td>H</td>\n      <td>0</td>\n      <td>0.2</td>\n    </tr>\n    <tr>\n      <th>31781</th>\n      <td>374749</td>\n      <td>2011-05-25</td>\n      <td>Maccabi Haifa</td>\n      <td>Hapoel Tel Aviv</td>\n      <td>Israel</td>\n      <td>State Cup</td>\n      <td>2010</td>\n      <td>4</td>\n      <td>Israel. Cups</td>\n      <td>A</td>\n      <td>0</td>\n      <td>0.2</td>\n    </tr>\n    <tr>\n      <th>5039</th>\n      <td>406288</td>\n      <td>2010-07-29</td>\n      <td>Maccabi Haifa</td>\n      <td>Din. Minsk</td>\n      <td>Europa League</td>\n      <td>Europa League - Qualification</td>\n      <td>2010</td>\n      <td>3</td>\n      <td>Europa League. Cups</td>\n      <td>H</td>\n      <td>0</td>\n      <td>0.2</td>\n    </tr>\n  </tbody>\n</table>\n<p>249 rows × 12 columns</p>\n</div>"
     },
     "execution_count": 57,
     "metadata": {},
     "output_type": "execute_result"
    }
   ],
   "source": [
    "matches.loc[matches['home_team'].str.contains('Maccabi Haifa')].sort_values(['season'], ascending=False)"
   ],
   "metadata": {
    "collapsed": false,
    "pycharm": {
     "name": "#%%\n"
    }
   }
  },
  {
   "cell_type": "code",
   "execution_count": 46,
   "outputs": [
    {
     "data": {
      "text/plain": "(328894, 13)"
     },
     "execution_count": 46,
     "metadata": {},
     "output_type": "execute_result"
    }
   ],
   "source": [
    "matches.shape"
   ],
   "metadata": {
    "collapsed": false,
    "pycharm": {
     "name": "#%%\n"
    }
   }
  },
  {
   "cell_type": "markdown",
   "source": [],
   "metadata": {
    "collapsed": false,
    "pycharm": {
     "name": "#%% md\n"
    }
   }
  },
  {
   "cell_type": "code",
   "execution_count": 30,
   "outputs": [],
   "source": [
    "count_matches, count_seasons, count_tournaments, uefa_teams_without_national, duplicated_teams = DataPreprocessor().test_data(matches)"
   ],
   "metadata": {
    "collapsed": false,
    "pycharm": {
     "name": "#%%\n"
    }
   }
  },
  {
   "cell_type": "markdown",
   "source": [],
   "metadata": {
    "collapsed": false,
    "pycharm": {
     "name": "#%% md\n"
    }
   }
  },
  {
   "cell_type": "markdown",
   "source": [],
   "metadata": {
    "collapsed": false,
    "pycharm": {
     "name": "#%% md\n"
    }
   }
  },
  {
   "cell_type": "code",
   "execution_count": 31,
   "outputs": [
    {
     "data": {
      "text/plain": "       country  tournament_type  season  number_matches\n57   Argentina                2    2021              11\n540     Greece                2    2020              15",
      "text/html": "<div>\n<style scoped>\n    .dataframe tbody tr th:only-of-type {\n        vertical-align: middle;\n    }\n\n    .dataframe tbody tr th {\n        vertical-align: top;\n    }\n\n    .dataframe thead th {\n        text-align: right;\n    }\n</style>\n<table border=\"1\" class=\"dataframe\">\n  <thead>\n    <tr style=\"text-align: right;\">\n      <th></th>\n      <th>country</th>\n      <th>tournament_type</th>\n      <th>season</th>\n      <th>number_matches</th>\n    </tr>\n  </thead>\n  <tbody>\n    <tr>\n      <th>57</th>\n      <td>Argentina</td>\n      <td>2</td>\n      <td>2021</td>\n      <td>11</td>\n    </tr>\n    <tr>\n      <th>540</th>\n      <td>Greece</td>\n      <td>2</td>\n      <td>2020</td>\n      <td>15</td>\n    </tr>\n  </tbody>\n</table>\n</div>"
     },
     "execution_count": 31,
     "metadata": {},
     "output_type": "execute_result"
    }
   ],
   "source": [
    "count_matches"
   ],
   "metadata": {
    "collapsed": false,
    "pycharm": {
     "name": "#%%\n"
    }
   }
  },
  {
   "cell_type": "code",
   "execution_count": 32,
   "outputs": [
    {
     "data": {
      "text/plain": "           country  tournament_type  number_seasons\n20      Azerbaijan                2               2\n80   Faroe Islands                2               2\n103         Greece                2               2",
      "text/html": "<div>\n<style scoped>\n    .dataframe tbody tr th:only-of-type {\n        vertical-align: middle;\n    }\n\n    .dataframe tbody tr th {\n        vertical-align: top;\n    }\n\n    .dataframe thead th {\n        text-align: right;\n    }\n</style>\n<table border=\"1\" class=\"dataframe\">\n  <thead>\n    <tr style=\"text-align: right;\">\n      <th></th>\n      <th>country</th>\n      <th>tournament_type</th>\n      <th>number_seasons</th>\n    </tr>\n  </thead>\n  <tbody>\n    <tr>\n      <th>20</th>\n      <td>Azerbaijan</td>\n      <td>2</td>\n      <td>2</td>\n    </tr>\n    <tr>\n      <th>80</th>\n      <td>Faroe Islands</td>\n      <td>2</td>\n      <td>2</td>\n    </tr>\n    <tr>\n      <th>103</th>\n      <td>Greece</td>\n      <td>2</td>\n      <td>2</td>\n    </tr>\n  </tbody>\n</table>\n</div>"
     },
     "execution_count": 32,
     "metadata": {},
     "output_type": "execute_result"
    }
   ],
   "source": [
    "count_seasons"
   ],
   "metadata": {
    "collapsed": false,
    "pycharm": {
     "name": "#%%\n"
    }
   }
  },
  {
   "cell_type": "code",
   "execution_count": 33,
   "outputs": [
    {
     "data": {
      "text/plain": "Empty DataFrame\nColumns: [country, number_tournaments, tournament_type]\nIndex: []",
      "text/html": "<div>\n<style scoped>\n    .dataframe tbody tr th:only-of-type {\n        vertical-align: middle;\n    }\n\n    .dataframe tbody tr th {\n        vertical-align: top;\n    }\n\n    .dataframe thead th {\n        text-align: right;\n    }\n</style>\n<table border=\"1\" class=\"dataframe\">\n  <thead>\n    <tr style=\"text-align: right;\">\n      <th></th>\n      <th>country</th>\n      <th>number_tournaments</th>\n      <th>tournament_type</th>\n    </tr>\n  </thead>\n  <tbody>\n  </tbody>\n</table>\n</div>"
     },
     "execution_count": 33,
     "metadata": {},
     "output_type": "execute_result"
    }
   ],
   "source": [
    "count_tournaments"
   ],
   "metadata": {
    "collapsed": false,
    "pycharm": {
     "name": "#%%\n"
    }
   }
  },
  {
   "cell_type": "code",
   "execution_count": 34,
   "outputs": [
    {
     "data": {
      "text/plain": "[]"
     },
     "execution_count": 34,
     "metadata": {},
     "output_type": "execute_result"
    }
   ],
   "source": [
    "uefa_teams_without_national"
   ],
   "metadata": {
    "collapsed": false,
    "pycharm": {
     "name": "#%%\n"
    }
   }
  },
  {
   "cell_type": "code",
   "execution_count": 35,
   "outputs": [
    {
     "data": {
      "text/plain": "Empty DataFrame\nColumns: [home_team, country]\nIndex: []",
      "text/html": "<div>\n<style scoped>\n    .dataframe tbody tr th:only-of-type {\n        vertical-align: middle;\n    }\n\n    .dataframe tbody tr th {\n        vertical-align: top;\n    }\n\n    .dataframe thead th {\n        text-align: right;\n    }\n</style>\n<table border=\"1\" class=\"dataframe\">\n  <thead>\n    <tr style=\"text-align: right;\">\n      <th></th>\n      <th>home_team</th>\n      <th>country</th>\n    </tr>\n  </thead>\n  <tbody>\n  </tbody>\n</table>\n</div>"
     },
     "execution_count": 35,
     "metadata": {},
     "output_type": "execute_result"
    }
   ],
   "source": [
    "duplicated_teams"
   ],
   "metadata": {
    "collapsed": false,
    "pycharm": {
     "name": "#%%\n"
    }
   }
  },
  {
   "cell_type": "code",
   "execution_count": null,
   "outputs": [],
   "source": [],
   "metadata": {
    "collapsed": false,
    "pycharm": {
     "name": "#%%\n"
    }
   }
  },
  {
   "cell_type": "markdown",
   "source": [],
   "metadata": {
    "collapsed": false,
    "pycharm": {
     "name": "#%% md\n"
    }
   }
  },
  {
   "cell_type": "code",
   "execution_count": null,
   "outputs": [],
   "source": [
    "matches.info()"
   ],
   "metadata": {
    "collapsed": false,
    "pycharm": {
     "name": "#%%\n"
    }
   }
  },
  {
   "cell_type": "code",
   "execution_count": null,
   "id": "e991a1e8",
   "metadata": {
    "ExecuteTime": {
     "end_time": "2021-10-24T11:04:09.063149Z",
     "start_time": "2021-10-24T11:04:08.908334Z"
    },
    "pycharm": {
     "name": "#%%\n"
    }
   },
   "outputs": [],
   "source": [
    "# matches['draw_probability'].mean()"
   ]
  },
  {
   "cell_type": "code",
   "execution_count": null,
   "id": "71ca8c4a",
   "metadata": {
    "ExecuteTime": {
     "end_time": "2021-10-23T08:31:55.616338Z",
     "start_time": "2021-10-23T08:31:55.175290Z"
    },
    "pycharm": {
     "name": "#%%\n"
    }
   },
   "outputs": [],
   "source": [
    "# # matches.loc[(matches['home_team'].str.contains('B')) & (matches['away_team'].str.contains('AS Roma'))]"
   ]
  },
  {
   "cell_type": "code",
   "execution_count": null,
   "id": "d2bc426d",
   "metadata": {
    "ExecuteTime": {
     "end_time": "2021-10-17T16:50:39.263142Z",
     "start_time": "2021-10-17T16:50:39.201859Z"
    },
    "pycharm": {
     "name": "#%%\n"
    }
   },
   "outputs": [],
   "source": [
    "# matches.info()"
   ]
  },
  {
   "cell_type": "code",
   "execution_count": null,
   "outputs": [],
   "source": [
    "# matches['season'].value_counts()"
   ],
   "metadata": {
    "collapsed": false,
    "pycharm": {
     "name": "#%%\n"
    }
   }
  },
  {
   "cell_type": "code",
   "execution_count": null,
   "outputs": [],
   "source": [
    "# matches.loc[matches['tournament'].str.contains('Con')]"
   ],
   "metadata": {
    "collapsed": false,
    "pycharm": {
     "name": "#%%\n"
    }
   }
  },
  {
   "cell_type": "markdown",
   "id": "11653b5c",
   "metadata": {
    "pycharm": {
     "name": "#%% md\n"
    }
   },
   "source": [
    "# Fit Params"
   ]
  },
  {
   "cell_type": "markdown",
   "source": [],
   "metadata": {
    "collapsed": false,
    "pycharm": {
     "name": "#%% md\n"
    }
   }
  },
  {
   "cell_type": "code",
   "execution_count": 23,
   "id": "da811e92",
   "metadata": {
    "ExecuteTime": {
     "end_time": "2021-10-11T10:45:05.038512Z",
     "start_time": "2021-10-11T10:42:55.647176Z"
    },
    "pycharm": {
     "name": "#%%\n"
    }
   },
   "outputs": [
    {
     "name": "stdout",
     "output_type": "stream",
     "text": [
      "Current Loss: 44728.34473780513\n",
      "Russia. First 1500\n",
      "Estonia. First 1500\n",
      "Norway. Second 1500\n",
      "Armenia. Second 1500\n",
      "Slovakia. First 1500\n",
      "Northern Ireland. Second 1500\n",
      "Hungary. First 1500\n",
      "Belgium. First 1500\n",
      "Germany. First 1500\n",
      "San Marino. First 1500\n",
      "Ukraine. Second 1500\n",
      "Scotland. First 1500\n",
      "Bulgaria. First 1500\n",
      "Serbia. First 1500\n",
      "Argentina. Second 1500\n",
      "Georgia. Second 1500\n",
      "Azerbaijan. First 1500\n",
      "Romania. Second 1500\n",
      "Iceland. Second 1500\n",
      "Norway. First 1500\n",
      "Uruguay. First 1500\n",
      "Wales. First 1500\n",
      "Faroe Islands. First 1500\n",
      "Italy. First 1500\n",
      "Croatia. First 1500\n",
      "Lithuania. Second 1500\n",
      "Slovenia. Second 1500\n",
      "Switzerland. First 1500\n",
      "Brazil. Second 1500\n",
      "England. First 1500\n",
      "Scotland. Second 1500\n",
      "Albania. First 1500\n",
      "Kosovo. First 1500\n",
      "Ireland. First 1500\n",
      "Latvia. First 1500\n",
      "Argentina. First 1500\n",
      "Bosnia And Herzegovina. First 1500\n",
      "Belgium. Second 1500\n",
      "Brazil. First 1500\n",
      "Finland. Second 1500\n",
      "Ecuador. First 1500\n",
      "Netherlands. Second 1500\n",
      "Peru. First 1500\n",
      "Malta. First 1500\n",
      "Venezuela. First 1500\n",
      "Albania. Second 1500\n",
      "Faroe Islands. Second 1500\n",
      "Belarus. Second 1500\n",
      "Armenia. First 1500\n",
      "Switzerland. Second 1500\n",
      "Finland. First 1500\n",
      "Sweden. First 1500\n",
      "Ukraine. First 1500\n",
      "Estonia. Second 1500\n",
      "Turkey. Second 1500\n",
      "Netherlands. First 1500\n",
      "Chile. First 1500\n",
      "Portugal. First 1500\n",
      "Austria. Second 1500\n",
      "Romania. First 1500\n",
      "Luxembourg. First 1500\n",
      "Israel. Second 1500\n"
     ]
    },
    {
     "ename": "KeyboardInterrupt",
     "evalue": "",
     "output_type": "error",
     "traceback": [
      "\u001B[0;31m---------------------------------------------------------------------------\u001B[0m",
      "\u001B[0;31mKeyboardInterrupt\u001B[0m                         Traceback (most recent call last)",
      "Input \u001B[0;32mIn [23]\u001B[0m, in \u001B[0;36m<cell line: 2>\u001B[0;34m()\u001B[0m\n\u001B[1;32m      1\u001B[0m glicko \u001B[38;5;241m=\u001B[39m GlickoSoccer()  \u001B[38;5;66;03m#\u001B[39;00m\n\u001B[0;32m----> 2\u001B[0m league_params \u001B[38;5;241m=\u001B[39m \u001B[43mglicko\u001B[49m\u001B[38;5;241;43m.\u001B[39;49m\u001B[43mfit_params\u001B[49m\u001B[43m(\u001B[49m\u001B[43mmatches\u001B[49m\u001B[43m,\u001B[49m\u001B[43m \u001B[49m\u001B[38;5;241;43m1\u001B[39;49m\u001B[43m,\u001B[49m\u001B[43m \u001B[49m\u001B[43mis_params_initialization\u001B[49m\u001B[38;5;241;43m=\u001B[39;49m\u001B[38;5;28;43;01mTrue\u001B[39;49;00m\u001B[43m)\u001B[49m\n",
      "File \u001B[0;32m~/PycharmProjects/GlickoSoccer/euro_soccer/glicko_soccer.py:442\u001B[0m, in \u001B[0;36mGlickoSoccer.fit_params\u001B[0;34m(self, results, number_iterations, is_params_initialization)\u001B[0m\n\u001B[1;32m    439\u001B[0m \u001B[38;5;28;01mfor\u001B[39;00m country_params \u001B[38;5;129;01min\u001B[39;00m params_list:\n\u001B[1;32m    440\u001B[0m     league_params_copy[league]\u001B[38;5;241m.\u001B[39mupdate(\u001B[38;5;28mzip\u001B[39m(league_params_copy[league], country_params))\n\u001B[0;32m--> 442\u001B[0m     params_loss[country_params] \u001B[38;5;241m=\u001B[39m \u001B[38;5;28;43mself\u001B[39;49m\u001B[38;5;241;43m.\u001B[39;49m\u001B[43mcalculate_loss\u001B[49m\u001B[43m(\u001B[49m\u001B[43mresults\u001B[49m\u001B[43m,\u001B[49m\u001B[43m \u001B[49m\u001B[43mleague_params_copy\u001B[49m\u001B[43m,\u001B[49m\u001B[43m \u001B[49m\u001B[43mteam_leagues_all\u001B[49m\u001B[43m,\u001B[49m\u001B[43m \u001B[49m\u001B[43mmissed_prev\u001B[49m\u001B[43m,\u001B[49m\n\u001B[1;32m    443\u001B[0m \u001B[43m                                                      \u001B[49m\u001B[43mchanged\u001B[49m\u001B[43m,\u001B[49m\n\u001B[1;32m    444\u001B[0m \u001B[43m                                                      \u001B[49m\u001B[43msame\u001B[49m\u001B[43m,\u001B[49m\n\u001B[1;32m    445\u001B[0m \u001B[43m                                                      \u001B[49m\u001B[43mindexes_for_update\u001B[49m\u001B[43m)\u001B[49m\n\u001B[1;32m    447\u001B[0m optimal_params \u001B[38;5;241m=\u001B[39m \u001B[38;5;28mmin\u001B[39m(params_loss, key\u001B[38;5;241m=\u001B[39mparams_loss\u001B[38;5;241m.\u001B[39mget)\n\u001B[1;32m    449\u001B[0m \u001B[38;5;66;03m# if params_loss[optimal_params] < current_loss:\u001B[39;00m\n\u001B[1;32m    450\u001B[0m \u001B[38;5;66;03m#     optimal_params_dict = dict(zip(league_params_copy[league], optimal_params))\u001B[39;00m\n\u001B[1;32m    451\u001B[0m \u001B[38;5;66;03m#     league_params[league] = optimal_params_dict\u001B[39;00m\n\u001B[0;32m   (...)\u001B[0m\n\u001B[1;32m    455\u001B[0m \u001B[38;5;66;03m#\u001B[39;00m\n\u001B[1;32m    456\u001B[0m \u001B[38;5;66;03m#     current_loss = params_loss[optimal_params]\u001B[39;00m\n",
      "File \u001B[0;32m~/PycharmProjects/GlickoSoccer/euro_soccer/glicko_soccer.py:301\u001B[0m, in \u001B[0;36mGlickoSoccer.calculate_loss\u001B[0;34m(self, results, league_params, team_leagues_all, missed_previous_season, changed_league, same_league, indexes_for_update_ratings)\u001B[0m\n\u001B[1;32m    298\u001B[0m         log_loss_value \u001B[38;5;241m+\u001B[39m\u001B[38;5;241m=\u001B[39m three_outcomes_log_loss(win_probability, tie_probability, loss_probability, outcome)\n\u001B[1;32m    300\u001B[0m     \u001B[38;5;66;03m# update team ratings\u001B[39;00m\n\u001B[0;32m--> 301\u001B[0m     ratings[home_team], ratings[away_team] \u001B[38;5;241m=\u001B[39m \u001B[43mglicko\u001B[49m\u001B[38;5;241;43m.\u001B[39;49m\u001B[43mrate\u001B[49m\u001B[43m(\u001B[49m\u001B[43mhome_rating\u001B[49m\u001B[43m,\u001B[49m\n\u001B[1;32m    302\u001B[0m \u001B[43m                                                         \u001B[49m\u001B[43maway_rating\u001B[49m\u001B[43m,\u001B[49m\n\u001B[1;32m    303\u001B[0m \u001B[43m                                                         \u001B[49m\u001B[43mhome_advantage\u001B[49m\u001B[43m,\u001B[49m\n\u001B[1;32m    304\u001B[0m \u001B[43m                                                         \u001B[49m\u001B[43moutcome\u001B[49m\u001B[43m,\u001B[49m\n\u001B[1;32m    305\u001B[0m \u001B[43m                                                         \u001B[49m\u001B[43mskellam_draw_probability\u001B[49m\u001B[43m)\u001B[49m\n\u001B[1;32m    307\u001B[0m \u001B[38;5;28;01mreturn\u001B[39;00m log_loss_value\n",
      "File \u001B[0;32m~/PycharmProjects/GlickoSoccer/glicko2.py:224\u001B[0m, in \u001B[0;36mGlicko2.rate\u001B[0;34m(self, home_rating, away_rating, advantage, outcome, skellam_draw_probability)\u001B[0m\n\u001B[1;32m    221\u001B[0m \u001B[38;5;28;01melse\u001B[39;00m:\n\u001B[1;32m    222\u001B[0m     new_increased_home_rating \u001B[38;5;241m=\u001B[39m \u001B[38;5;28mself\u001B[39m\u001B[38;5;241m.\u001B[39m_update_rating(increased_home_rating, decreased_away_rating, \u001B[38;5;241m0\u001B[39m,\n\u001B[1;32m    223\u001B[0m                                                     skellam_draw_probability)\n\u001B[0;32m--> 224\u001B[0m     new_decreased_away_rating \u001B[38;5;241m=\u001B[39m \u001B[38;5;28;43mself\u001B[39;49m\u001B[38;5;241;43m.\u001B[39;49m\u001B[43m_update_rating\u001B[49m\u001B[43m(\u001B[49m\u001B[43mdecreased_away_rating\u001B[49m\u001B[43m,\u001B[49m\u001B[43m \u001B[49m\u001B[43mincreased_home_rating\u001B[49m\u001B[43m,\u001B[49m\u001B[43m \u001B[49m\u001B[38;5;241;43m1\u001B[39;49m\u001B[43m,\u001B[49m\n\u001B[1;32m    225\u001B[0m \u001B[43m                                                    \u001B[49m\u001B[43mskellam_draw_probability\u001B[49m\u001B[43m)\u001B[49m\n\u001B[1;32m    227\u001B[0m \u001B[38;5;66;03m# subtract advantage\u001B[39;00m\n\u001B[1;32m    228\u001B[0m updated_home_rating \u001B[38;5;241m=\u001B[39m \u001B[38;5;28mself\u001B[39m\u001B[38;5;241m.\u001B[39m_increase_mu(new_increased_home_rating, \u001B[38;5;241m-\u001B[39madvantage)\n",
      "File \u001B[0;32m~/PycharmProjects/GlickoSoccer/glicko2.py:163\u001B[0m, in \u001B[0;36mGlicko2._update_rating\u001B[0;34m(self, rating, rating_opp, outcome, skellam_draw_probability)\u001B[0m\n\u001B[1;32m    155\u001B[0m \u001B[38;5;124;03m\"\"\"\u001B[39;00m\n\u001B[1;32m    156\u001B[0m \u001B[38;5;124;03m    Run all steps.\u001B[39;00m\n\u001B[1;32m    157\u001B[0m \u001B[38;5;124;03m    Step 6. Update the rating deviation to the new pre-rating period value, φ*.\u001B[39;00m\n\u001B[1;32m    158\u001B[0m \u001B[38;5;124;03m    Step 7. Update the rating and RD to the new values, µ' and φ'.\u001B[39;00m\n\u001B[1;32m    159\u001B[0m \u001B[38;5;124;03m    Step 8. Convert ratings and RD’s back to original scale\u001B[39;00m\n\u001B[1;32m    160\u001B[0m \u001B[38;5;124;03m\"\"\"\u001B[39;00m\n\u001B[1;32m    162\u001B[0m rating \u001B[38;5;241m=\u001B[39m \u001B[38;5;28mself\u001B[39m\u001B[38;5;241m.\u001B[39m_convert_into_glicko2(rating)\n\u001B[0;32m--> 163\u001B[0m rating_opp \u001B[38;5;241m=\u001B[39m \u001B[38;5;28;43mself\u001B[39;49m\u001B[38;5;241;43m.\u001B[39;49m\u001B[43m_convert_into_glicko2\u001B[49m\u001B[43m(\u001B[49m\u001B[43mrating_opp\u001B[49m\u001B[43m)\u001B[49m\n\u001B[1;32m    165\u001B[0m mu \u001B[38;5;241m=\u001B[39m rating\u001B[38;5;241m.\u001B[39mmu\n\u001B[1;32m    166\u001B[0m phi \u001B[38;5;241m=\u001B[39m rating\u001B[38;5;241m.\u001B[39mrd\n",
      "File \u001B[0;32m~/PycharmProjects/GlickoSoccer/glicko2.py:33\u001B[0m, in \u001B[0;36mGlicko2._convert_into_glicko2\u001B[0;34m(self, rating)\u001B[0m\n\u001B[1;32m     31\u001B[0m mu \u001B[38;5;241m=\u001B[39m ((rating\u001B[38;5;241m.\u001B[39mmu \u001B[38;5;241m-\u001B[39m \u001B[38;5;28mself\u001B[39m\u001B[38;5;241m.\u001B[39mmu) \u001B[38;5;241m*\u001B[39m \u001B[38;5;28mself\u001B[39m\u001B[38;5;241m.\u001B[39mq)\n\u001B[1;32m     32\u001B[0m phi \u001B[38;5;241m=\u001B[39m (rating\u001B[38;5;241m.\u001B[39mrd \u001B[38;5;241m*\u001B[39m \u001B[38;5;28mself\u001B[39m\u001B[38;5;241m.\u001B[39mq)\n\u001B[0;32m---> 33\u001B[0m \u001B[38;5;28;01mreturn\u001B[39;00m \u001B[43mRating\u001B[49m\u001B[43m(\u001B[49m\u001B[43mmu\u001B[49m\u001B[43m,\u001B[49m\u001B[43m \u001B[49m\u001B[43mphi\u001B[49m\u001B[43m,\u001B[49m\u001B[43m \u001B[49m\u001B[43mrating\u001B[49m\u001B[38;5;241;43m.\u001B[39;49m\u001B[43mvolatility\u001B[49m\u001B[43m)\u001B[49m\n",
      "File \u001B[0;32m<string>:2\u001B[0m, in \u001B[0;36m__init__\u001B[0;34m(self, mu, rd, volatility)\u001B[0m\n",
      "\u001B[0;31mKeyboardInterrupt\u001B[0m: "
     ]
    }
   ],
   "source": [
    "glicko = GlickoSoccer()  #\n",
    "league_params = glicko.fit_params(matches, 1, is_params_initialization=True)"
   ]
  },
  {
   "cell_type": "markdown",
   "source": [],
   "metadata": {
    "collapsed": false,
    "pycharm": {
     "name": "#%% md\n"
    }
   }
  },
  {
   "cell_type": "markdown",
   "source": [],
   "metadata": {
    "collapsed": false,
    "pycharm": {
     "name": "#%% md\n"
    }
   }
  },
  {
   "cell_type": "markdown",
   "source": [],
   "metadata": {
    "collapsed": false,
    "pycharm": {
     "name": "#%% md\n"
    }
   }
  },
  {
   "cell_type": "code",
   "execution_count": null,
   "outputs": [],
   "source": [],
   "metadata": {
    "collapsed": false,
    "pycharm": {
     "name": "#%%\n"
    }
   }
  },
  {
   "cell_type": "code",
   "execution_count": null,
   "outputs": [],
   "source": [],
   "metadata": {
    "collapsed": false,
    "pycharm": {
     "name": "#%%\n"
    }
   }
  },
  {
   "cell_type": "code",
   "execution_count": null,
   "outputs": [],
   "source": [],
   "metadata": {
    "collapsed": false,
    "pycharm": {
     "name": "#%%\n"
    }
   }
  },
  {
   "cell_type": "code",
   "execution_count": null,
   "outputs": [],
   "source": [],
   "metadata": {
    "collapsed": false,
    "pycharm": {
     "name": "#%%\n"
    }
   }
  },
  {
   "cell_type": "code",
   "execution_count": null,
   "outputs": [],
   "source": [],
   "metadata": {
    "collapsed": false,
    "pycharm": {
     "name": "#%%\n"
    }
   }
  },
  {
   "cell_type": "code",
   "execution_count": null,
   "outputs": [],
   "source": [],
   "metadata": {
    "collapsed": false,
    "pycharm": {
     "name": "#%%\n"
    }
   }
  },
  {
   "cell_type": "markdown",
   "source": [],
   "metadata": {
    "collapsed": false,
    "pycharm": {
     "name": "#%% md\n"
    }
   }
  },
  {
   "cell_type": "markdown",
   "id": "c0b250f0",
   "metadata": {
    "pycharm": {
     "name": "#%% md\n"
    }
   },
   "source": [
    "# Ratings"
   ]
  },
  {
   "cell_type": "code",
   "execution_count": 54,
   "id": "4cd7df5b",
   "metadata": {
    "ExecuteTime": {
     "end_time": "2021-10-31T06:24:00.223216Z",
     "start_time": "2021-10-31T06:23:57.642851Z"
    },
    "scrolled": false,
    "pycharm": {
     "name": "#%%\n"
    }
   },
   "outputs": [
    {
     "data": {
      "text/plain": "       #                          league  rating\n0      1                  England. First  1889.1\n1      2                    Italy. First  1867.3\n2      3                    Spain. First  1849.4\n3      4                  Germany. First  1827.0\n4      5                   Cyprus. First  1801.3\n5      6                 Portugal. First  1778.8\n6      7                   France. First  1778.7\n7      8           Czech Republic. First  1777.4\n8      9         Northern Ireland. First  1775.1\n9     10                 Bulgaria. First  1773.3\n10    11                   Russia. First  1769.4\n11    12                   Norway. First  1768.8\n12    13                   Sweden. First  1763.3\n13    14                   Brazil. First  1756.7\n14    15              Netherlands. First  1755.9\n15    16                  Denmark. First  1752.5\n16    17                   Serbia. First  1752.4\n17    18                  Belgium. First  1748.0\n18    19                  Belarus. First  1747.6\n19    20                  Albania. First  1747.1\n20    21                   Turkey. First  1740.3\n21    22                  Croatia. First  1740.1\n22    23          North Macedonia. First  1734.7\n23    24   Bosnia And Herzegovina. First  1727.2\n24    25                  Finland. First  1720.7\n25    26                  Estonia. First  1718.5\n26    27               Luxembourg. First  1718.0\n27    28                  Austria. First  1713.4\n28    29                 Scotland. First  1711.0\n29    30                    Malta. First  1706.0\n30    31                  Romania. First  1703.9\n31    32                  Iceland. First  1697.0\n32    33                   Poland. First  1685.6\n33    34                Lithuania. First  1684.8\n34    35                 Slovakia. First  1679.5\n35    36                 Slovenia. First  1679.1\n36    37              Switzerland. First  1677.7\n37    38                  Hungary. First  1675.9\n38    39                  Georgia. First  1672.5\n39    40                   Greece. First  1671.4\n40    41                   Latvia. First  1670.9\n41    42                  Ireland. First  1656.0\n42    43               Kazakhstan. First  1652.3\n43    44                   Israel. First  1650.6\n44    45                  Uruguay. First  1644.3\n45    46                 Paraguay. First  1643.9\n46    47                  Ecuador. First  1641.2\n47    48            Faroe Islands. First  1638.1\n48    49                 Colombia. First  1636.1\n49    50                   Kosovo. First  1629.9\n50    51                     Peru. First  1629.2\n51    52                  Andorra. First  1612.3\n52    53                  Moldova. First  1610.3\n53    54               Montenegro. First  1608.0\n54    55                    Wales. First  1607.9\n55    56                  Armenia. First  1596.7\n56    57                    Chile. First  1591.3\n57    58                  Bolivia. First  1584.5\n58    59               Azerbaijan. First  1581.0\n59    60                Venezuela. First  1577.9\n60    61                Argentina. First  1559.5\n61    62                 Germany. Second  1547.1\n62    63                Gibraltar. First  1539.7\n63    64                 England. Second  1539.0\n64    65               San Marino. First  1537.3\n65    66                  Ukraine. First  1535.3\n66    67  Bosnia And Herzegovina. Second  1530.7\n67    68                  Brazil. Second  1523.3\n68    69                   Spain. Second  1515.0\n69    70              Azerbaijan. Second  1511.5\n70    71                  France. Second  1510.4\n71    72                  Turkey. Second  1509.8\n72    73                 Denmark. Second  1509.3\n73    74                  Poland. Second  1509.3\n74    75                Bulgaria. Second  1508.0\n75    76                 Albania. Second  1503.3\n76    77                  Russia. Second  1500.8\n77    78                  Sweden. Second  1499.8\n78    79                 Hungary. Second  1499.3\n79    80                   Malta. Second  1498.5\n80    81                   Italy. Second  1497.7\n81    82                 Croatia. Second  1492.7\n82    83         North Macedonia. Second  1490.0\n83    84                  Israel. Second  1486.8\n84    85                  Serbia. Second  1483.9\n85    86                  Norway. Second  1483.9\n86    87                 Finland. Second  1483.7\n87    88          Czech Republic. Second  1483.2\n88    89                Slovenia. Second  1482.7\n89    90                 Estonia. Second  1478.0\n90    91                 Romania. Second  1476.8\n91    92                 Georgia. Second  1475.6\n92    93                Scotland. Second  1469.0\n93    94                  Greece. Second  1466.2\n94    95                 Austria. Second  1464.2\n95    96             Switzerland. Second  1456.3\n96    97                Portugal. Second  1454.0\n97    98                 Belgium. Second  1453.9\n98    99                  Cyprus. Second  1446.6\n99   100                Slovakia. Second  1446.1\n100  101               Argentina. Second  1443.1\n101  102                 Ukraine. Second  1443.0\n102  103                 Belarus. Second  1432.7\n103  104                 Iceland. Second  1426.4\n104  105        Northern Ireland. Second  1418.4\n105  106                 Armenia. Second  1404.5\n106  107             Netherlands. Second  1400.1\n107  108               Lithuania. Second  1398.0\n108  109           Faroe Islands. Second  1396.0\n109  110              Kazakhstan. Second  1383.8\n110  111                  Latvia. Second  1379.0\n111  112                 Ireland. Second  1309.2",
      "text/html": "<div>\n<style scoped>\n    .dataframe tbody tr th:only-of-type {\n        vertical-align: middle;\n    }\n\n    .dataframe tbody tr th {\n        vertical-align: top;\n    }\n\n    .dataframe thead th {\n        text-align: right;\n    }\n</style>\n<table border=\"1\" class=\"dataframe\">\n  <thead>\n    <tr style=\"text-align: right;\">\n      <th></th>\n      <th>#</th>\n      <th>league</th>\n      <th>rating</th>\n    </tr>\n  </thead>\n  <tbody>\n    <tr>\n      <th>0</th>\n      <td>1</td>\n      <td>England. First</td>\n      <td>1889.1</td>\n    </tr>\n    <tr>\n      <th>1</th>\n      <td>2</td>\n      <td>Italy. First</td>\n      <td>1867.3</td>\n    </tr>\n    <tr>\n      <th>2</th>\n      <td>3</td>\n      <td>Spain. First</td>\n      <td>1849.4</td>\n    </tr>\n    <tr>\n      <th>3</th>\n      <td>4</td>\n      <td>Germany. First</td>\n      <td>1827.0</td>\n    </tr>\n    <tr>\n      <th>4</th>\n      <td>5</td>\n      <td>Cyprus. First</td>\n      <td>1801.3</td>\n    </tr>\n    <tr>\n      <th>5</th>\n      <td>6</td>\n      <td>Portugal. First</td>\n      <td>1778.8</td>\n    </tr>\n    <tr>\n      <th>6</th>\n      <td>7</td>\n      <td>France. First</td>\n      <td>1778.7</td>\n    </tr>\n    <tr>\n      <th>7</th>\n      <td>8</td>\n      <td>Czech Republic. First</td>\n      <td>1777.4</td>\n    </tr>\n    <tr>\n      <th>8</th>\n      <td>9</td>\n      <td>Northern Ireland. First</td>\n      <td>1775.1</td>\n    </tr>\n    <tr>\n      <th>9</th>\n      <td>10</td>\n      <td>Bulgaria. First</td>\n      <td>1773.3</td>\n    </tr>\n    <tr>\n      <th>10</th>\n      <td>11</td>\n      <td>Russia. First</td>\n      <td>1769.4</td>\n    </tr>\n    <tr>\n      <th>11</th>\n      <td>12</td>\n      <td>Norway. First</td>\n      <td>1768.8</td>\n    </tr>\n    <tr>\n      <th>12</th>\n      <td>13</td>\n      <td>Sweden. First</td>\n      <td>1763.3</td>\n    </tr>\n    <tr>\n      <th>13</th>\n      <td>14</td>\n      <td>Brazil. First</td>\n      <td>1756.7</td>\n    </tr>\n    <tr>\n      <th>14</th>\n      <td>15</td>\n      <td>Netherlands. First</td>\n      <td>1755.9</td>\n    </tr>\n    <tr>\n      <th>15</th>\n      <td>16</td>\n      <td>Denmark. First</td>\n      <td>1752.5</td>\n    </tr>\n    <tr>\n      <th>16</th>\n      <td>17</td>\n      <td>Serbia. First</td>\n      <td>1752.4</td>\n    </tr>\n    <tr>\n      <th>17</th>\n      <td>18</td>\n      <td>Belgium. First</td>\n      <td>1748.0</td>\n    </tr>\n    <tr>\n      <th>18</th>\n      <td>19</td>\n      <td>Belarus. First</td>\n      <td>1747.6</td>\n    </tr>\n    <tr>\n      <th>19</th>\n      <td>20</td>\n      <td>Albania. First</td>\n      <td>1747.1</td>\n    </tr>\n    <tr>\n      <th>20</th>\n      <td>21</td>\n      <td>Turkey. First</td>\n      <td>1740.3</td>\n    </tr>\n    <tr>\n      <th>21</th>\n      <td>22</td>\n      <td>Croatia. First</td>\n      <td>1740.1</td>\n    </tr>\n    <tr>\n      <th>22</th>\n      <td>23</td>\n      <td>North Macedonia. First</td>\n      <td>1734.7</td>\n    </tr>\n    <tr>\n      <th>23</th>\n      <td>24</td>\n      <td>Bosnia And Herzegovina. First</td>\n      <td>1727.2</td>\n    </tr>\n    <tr>\n      <th>24</th>\n      <td>25</td>\n      <td>Finland. First</td>\n      <td>1720.7</td>\n    </tr>\n    <tr>\n      <th>25</th>\n      <td>26</td>\n      <td>Estonia. First</td>\n      <td>1718.5</td>\n    </tr>\n    <tr>\n      <th>26</th>\n      <td>27</td>\n      <td>Luxembourg. First</td>\n      <td>1718.0</td>\n    </tr>\n    <tr>\n      <th>27</th>\n      <td>28</td>\n      <td>Austria. First</td>\n      <td>1713.4</td>\n    </tr>\n    <tr>\n      <th>28</th>\n      <td>29</td>\n      <td>Scotland. First</td>\n      <td>1711.0</td>\n    </tr>\n    <tr>\n      <th>29</th>\n      <td>30</td>\n      <td>Malta. First</td>\n      <td>1706.0</td>\n    </tr>\n    <tr>\n      <th>30</th>\n      <td>31</td>\n      <td>Romania. First</td>\n      <td>1703.9</td>\n    </tr>\n    <tr>\n      <th>31</th>\n      <td>32</td>\n      <td>Iceland. First</td>\n      <td>1697.0</td>\n    </tr>\n    <tr>\n      <th>32</th>\n      <td>33</td>\n      <td>Poland. First</td>\n      <td>1685.6</td>\n    </tr>\n    <tr>\n      <th>33</th>\n      <td>34</td>\n      <td>Lithuania. First</td>\n      <td>1684.8</td>\n    </tr>\n    <tr>\n      <th>34</th>\n      <td>35</td>\n      <td>Slovakia. First</td>\n      <td>1679.5</td>\n    </tr>\n    <tr>\n      <th>35</th>\n      <td>36</td>\n      <td>Slovenia. First</td>\n      <td>1679.1</td>\n    </tr>\n    <tr>\n      <th>36</th>\n      <td>37</td>\n      <td>Switzerland. First</td>\n      <td>1677.7</td>\n    </tr>\n    <tr>\n      <th>37</th>\n      <td>38</td>\n      <td>Hungary. First</td>\n      <td>1675.9</td>\n    </tr>\n    <tr>\n      <th>38</th>\n      <td>39</td>\n      <td>Georgia. First</td>\n      <td>1672.5</td>\n    </tr>\n    <tr>\n      <th>39</th>\n      <td>40</td>\n      <td>Greece. First</td>\n      <td>1671.4</td>\n    </tr>\n    <tr>\n      <th>40</th>\n      <td>41</td>\n      <td>Latvia. First</td>\n      <td>1670.9</td>\n    </tr>\n    <tr>\n      <th>41</th>\n      <td>42</td>\n      <td>Ireland. First</td>\n      <td>1656.0</td>\n    </tr>\n    <tr>\n      <th>42</th>\n      <td>43</td>\n      <td>Kazakhstan. First</td>\n      <td>1652.3</td>\n    </tr>\n    <tr>\n      <th>43</th>\n      <td>44</td>\n      <td>Israel. First</td>\n      <td>1650.6</td>\n    </tr>\n    <tr>\n      <th>44</th>\n      <td>45</td>\n      <td>Uruguay. First</td>\n      <td>1644.3</td>\n    </tr>\n    <tr>\n      <th>45</th>\n      <td>46</td>\n      <td>Paraguay. First</td>\n      <td>1643.9</td>\n    </tr>\n    <tr>\n      <th>46</th>\n      <td>47</td>\n      <td>Ecuador. First</td>\n      <td>1641.2</td>\n    </tr>\n    <tr>\n      <th>47</th>\n      <td>48</td>\n      <td>Faroe Islands. First</td>\n      <td>1638.1</td>\n    </tr>\n    <tr>\n      <th>48</th>\n      <td>49</td>\n      <td>Colombia. First</td>\n      <td>1636.1</td>\n    </tr>\n    <tr>\n      <th>49</th>\n      <td>50</td>\n      <td>Kosovo. First</td>\n      <td>1629.9</td>\n    </tr>\n    <tr>\n      <th>50</th>\n      <td>51</td>\n      <td>Peru. First</td>\n      <td>1629.2</td>\n    </tr>\n    <tr>\n      <th>51</th>\n      <td>52</td>\n      <td>Andorra. First</td>\n      <td>1612.3</td>\n    </tr>\n    <tr>\n      <th>52</th>\n      <td>53</td>\n      <td>Moldova. First</td>\n      <td>1610.3</td>\n    </tr>\n    <tr>\n      <th>53</th>\n      <td>54</td>\n      <td>Montenegro. First</td>\n      <td>1608.0</td>\n    </tr>\n    <tr>\n      <th>54</th>\n      <td>55</td>\n      <td>Wales. First</td>\n      <td>1607.9</td>\n    </tr>\n    <tr>\n      <th>55</th>\n      <td>56</td>\n      <td>Armenia. First</td>\n      <td>1596.7</td>\n    </tr>\n    <tr>\n      <th>56</th>\n      <td>57</td>\n      <td>Chile. First</td>\n      <td>1591.3</td>\n    </tr>\n    <tr>\n      <th>57</th>\n      <td>58</td>\n      <td>Bolivia. First</td>\n      <td>1584.5</td>\n    </tr>\n    <tr>\n      <th>58</th>\n      <td>59</td>\n      <td>Azerbaijan. First</td>\n      <td>1581.0</td>\n    </tr>\n    <tr>\n      <th>59</th>\n      <td>60</td>\n      <td>Venezuela. First</td>\n      <td>1577.9</td>\n    </tr>\n    <tr>\n      <th>60</th>\n      <td>61</td>\n      <td>Argentina. First</td>\n      <td>1559.5</td>\n    </tr>\n    <tr>\n      <th>61</th>\n      <td>62</td>\n      <td>Germany. Second</td>\n      <td>1547.1</td>\n    </tr>\n    <tr>\n      <th>62</th>\n      <td>63</td>\n      <td>Gibraltar. First</td>\n      <td>1539.7</td>\n    </tr>\n    <tr>\n      <th>63</th>\n      <td>64</td>\n      <td>England. Second</td>\n      <td>1539.0</td>\n    </tr>\n    <tr>\n      <th>64</th>\n      <td>65</td>\n      <td>San Marino. First</td>\n      <td>1537.3</td>\n    </tr>\n    <tr>\n      <th>65</th>\n      <td>66</td>\n      <td>Ukraine. First</td>\n      <td>1535.3</td>\n    </tr>\n    <tr>\n      <th>66</th>\n      <td>67</td>\n      <td>Bosnia And Herzegovina. Second</td>\n      <td>1530.7</td>\n    </tr>\n    <tr>\n      <th>67</th>\n      <td>68</td>\n      <td>Brazil. Second</td>\n      <td>1523.3</td>\n    </tr>\n    <tr>\n      <th>68</th>\n      <td>69</td>\n      <td>Spain. Second</td>\n      <td>1515.0</td>\n    </tr>\n    <tr>\n      <th>69</th>\n      <td>70</td>\n      <td>Azerbaijan. Second</td>\n      <td>1511.5</td>\n    </tr>\n    <tr>\n      <th>70</th>\n      <td>71</td>\n      <td>France. Second</td>\n      <td>1510.4</td>\n    </tr>\n    <tr>\n      <th>71</th>\n      <td>72</td>\n      <td>Turkey. Second</td>\n      <td>1509.8</td>\n    </tr>\n    <tr>\n      <th>72</th>\n      <td>73</td>\n      <td>Denmark. Second</td>\n      <td>1509.3</td>\n    </tr>\n    <tr>\n      <th>73</th>\n      <td>74</td>\n      <td>Poland. Second</td>\n      <td>1509.3</td>\n    </tr>\n    <tr>\n      <th>74</th>\n      <td>75</td>\n      <td>Bulgaria. Second</td>\n      <td>1508.0</td>\n    </tr>\n    <tr>\n      <th>75</th>\n      <td>76</td>\n      <td>Albania. Second</td>\n      <td>1503.3</td>\n    </tr>\n    <tr>\n      <th>76</th>\n      <td>77</td>\n      <td>Russia. Second</td>\n      <td>1500.8</td>\n    </tr>\n    <tr>\n      <th>77</th>\n      <td>78</td>\n      <td>Sweden. Second</td>\n      <td>1499.8</td>\n    </tr>\n    <tr>\n      <th>78</th>\n      <td>79</td>\n      <td>Hungary. Second</td>\n      <td>1499.3</td>\n    </tr>\n    <tr>\n      <th>79</th>\n      <td>80</td>\n      <td>Malta. Second</td>\n      <td>1498.5</td>\n    </tr>\n    <tr>\n      <th>80</th>\n      <td>81</td>\n      <td>Italy. Second</td>\n      <td>1497.7</td>\n    </tr>\n    <tr>\n      <th>81</th>\n      <td>82</td>\n      <td>Croatia. Second</td>\n      <td>1492.7</td>\n    </tr>\n    <tr>\n      <th>82</th>\n      <td>83</td>\n      <td>North Macedonia. Second</td>\n      <td>1490.0</td>\n    </tr>\n    <tr>\n      <th>83</th>\n      <td>84</td>\n      <td>Israel. Second</td>\n      <td>1486.8</td>\n    </tr>\n    <tr>\n      <th>84</th>\n      <td>85</td>\n      <td>Serbia. Second</td>\n      <td>1483.9</td>\n    </tr>\n    <tr>\n      <th>85</th>\n      <td>86</td>\n      <td>Norway. Second</td>\n      <td>1483.9</td>\n    </tr>\n    <tr>\n      <th>86</th>\n      <td>87</td>\n      <td>Finland. Second</td>\n      <td>1483.7</td>\n    </tr>\n    <tr>\n      <th>87</th>\n      <td>88</td>\n      <td>Czech Republic. Second</td>\n      <td>1483.2</td>\n    </tr>\n    <tr>\n      <th>88</th>\n      <td>89</td>\n      <td>Slovenia. Second</td>\n      <td>1482.7</td>\n    </tr>\n    <tr>\n      <th>89</th>\n      <td>90</td>\n      <td>Estonia. Second</td>\n      <td>1478.0</td>\n    </tr>\n    <tr>\n      <th>90</th>\n      <td>91</td>\n      <td>Romania. Second</td>\n      <td>1476.8</td>\n    </tr>\n    <tr>\n      <th>91</th>\n      <td>92</td>\n      <td>Georgia. Second</td>\n      <td>1475.6</td>\n    </tr>\n    <tr>\n      <th>92</th>\n      <td>93</td>\n      <td>Scotland. Second</td>\n      <td>1469.0</td>\n    </tr>\n    <tr>\n      <th>93</th>\n      <td>94</td>\n      <td>Greece. Second</td>\n      <td>1466.2</td>\n    </tr>\n    <tr>\n      <th>94</th>\n      <td>95</td>\n      <td>Austria. Second</td>\n      <td>1464.2</td>\n    </tr>\n    <tr>\n      <th>95</th>\n      <td>96</td>\n      <td>Switzerland. Second</td>\n      <td>1456.3</td>\n    </tr>\n    <tr>\n      <th>96</th>\n      <td>97</td>\n      <td>Portugal. Second</td>\n      <td>1454.0</td>\n    </tr>\n    <tr>\n      <th>97</th>\n      <td>98</td>\n      <td>Belgium. Second</td>\n      <td>1453.9</td>\n    </tr>\n    <tr>\n      <th>98</th>\n      <td>99</td>\n      <td>Cyprus. Second</td>\n      <td>1446.6</td>\n    </tr>\n    <tr>\n      <th>99</th>\n      <td>100</td>\n      <td>Slovakia. Second</td>\n      <td>1446.1</td>\n    </tr>\n    <tr>\n      <th>100</th>\n      <td>101</td>\n      <td>Argentina. Second</td>\n      <td>1443.1</td>\n    </tr>\n    <tr>\n      <th>101</th>\n      <td>102</td>\n      <td>Ukraine. Second</td>\n      <td>1443.0</td>\n    </tr>\n    <tr>\n      <th>102</th>\n      <td>103</td>\n      <td>Belarus. Second</td>\n      <td>1432.7</td>\n    </tr>\n    <tr>\n      <th>103</th>\n      <td>104</td>\n      <td>Iceland. Second</td>\n      <td>1426.4</td>\n    </tr>\n    <tr>\n      <th>104</th>\n      <td>105</td>\n      <td>Northern Ireland. Second</td>\n      <td>1418.4</td>\n    </tr>\n    <tr>\n      <th>105</th>\n      <td>106</td>\n      <td>Armenia. Second</td>\n      <td>1404.5</td>\n    </tr>\n    <tr>\n      <th>106</th>\n      <td>107</td>\n      <td>Netherlands. Second</td>\n      <td>1400.1</td>\n    </tr>\n    <tr>\n      <th>107</th>\n      <td>108</td>\n      <td>Lithuania. Second</td>\n      <td>1398.0</td>\n    </tr>\n    <tr>\n      <th>108</th>\n      <td>109</td>\n      <td>Faroe Islands. Second</td>\n      <td>1396.0</td>\n    </tr>\n    <tr>\n      <th>109</th>\n      <td>110</td>\n      <td>Kazakhstan. Second</td>\n      <td>1383.8</td>\n    </tr>\n    <tr>\n      <th>110</th>\n      <td>111</td>\n      <td>Latvia. Second</td>\n      <td>1379.0</td>\n    </tr>\n    <tr>\n      <th>111</th>\n      <td>112</td>\n      <td>Ireland. Second</td>\n      <td>1309.2</td>\n    </tr>\n  </tbody>\n</table>\n</div>"
     },
     "execution_count": 54,
     "metadata": {},
     "output_type": "execute_result"
    }
   ],
   "source": [
    "glicko = GlickoSoccer()\n",
    "league_params = joblib.load('data/league_params.pkl')\n",
    "ratings = glicko.rate_teams(matches, league_params)\n",
    "ratings = glicko.ratings_to_df(ratings, matches)\n",
    "leagues_ratings = glicko.league_ratings(ratings, number_top_teams=10)\n",
    "leagues_ratings"
   ]
  },
  {
   "cell_type": "code",
   "execution_count": null,
   "outputs": [],
   "source": [
    "pd.concat([leagues_ratings[0:25].reset_index(drop=True),\n",
    "           leagues_ratings[25:50].reset_index(drop=True)], axis=1)"
   ],
   "metadata": {
    "collapsed": false,
    "pycharm": {
     "name": "#%%\n"
    }
   }
  },
  {
   "cell_type": "code",
   "execution_count": null,
   "outputs": [],
   "source": [
    "pd.concat([leagues_ratings[50:74].reset_index(drop=True),\n",
    "           leagues_ratings[74:].reset_index(drop=True)], axis=1)"
   ],
   "metadata": {
    "collapsed": false,
    "pycharm": {
     "name": "#%%\n"
    }
   }
  },
  {
   "cell_type": "code",
   "execution_count": 55,
   "outputs": [
    {
     "data": {
      "text/plain": "         #             team  rating             league\n0        1    Crvena zvezda  2149.7      Serbia. First\n1        2  Manchester City  2118.9     England. First\n2        3            Flora  2115.8     Estonia. First\n3        4         FC Porto  2111.1    Portugal. First\n4        5          Levadia  2060.6     Estonia. First\n...    ...              ...     ...                ...\n2781  2782   Saldus/Brocenu  1090.9                NaN\n2782  2783      Aktobe Zhas  1078.1                NaN\n2783  2784           Cosmos  1059.4  San Marino. First\n2784  2785            Balvu  1052.5                NaN\n2785  2786         Plavinas  1043.8                NaN\n\n[2786 rows x 4 columns]",
      "text/html": "<div>\n<style scoped>\n    .dataframe tbody tr th:only-of-type {\n        vertical-align: middle;\n    }\n\n    .dataframe tbody tr th {\n        vertical-align: top;\n    }\n\n    .dataframe thead th {\n        text-align: right;\n    }\n</style>\n<table border=\"1\" class=\"dataframe\">\n  <thead>\n    <tr style=\"text-align: right;\">\n      <th></th>\n      <th>#</th>\n      <th>team</th>\n      <th>rating</th>\n      <th>league</th>\n    </tr>\n  </thead>\n  <tbody>\n    <tr>\n      <th>0</th>\n      <td>1</td>\n      <td>Crvena zvezda</td>\n      <td>2149.7</td>\n      <td>Serbia. First</td>\n    </tr>\n    <tr>\n      <th>1</th>\n      <td>2</td>\n      <td>Manchester City</td>\n      <td>2118.9</td>\n      <td>England. First</td>\n    </tr>\n    <tr>\n      <th>2</th>\n      <td>3</td>\n      <td>Flora</td>\n      <td>2115.8</td>\n      <td>Estonia. First</td>\n    </tr>\n    <tr>\n      <th>3</th>\n      <td>4</td>\n      <td>FC Porto</td>\n      <td>2111.1</td>\n      <td>Portugal. First</td>\n    </tr>\n    <tr>\n      <th>4</th>\n      <td>5</td>\n      <td>Levadia</td>\n      <td>2060.6</td>\n      <td>Estonia. First</td>\n    </tr>\n    <tr>\n      <th>...</th>\n      <td>...</td>\n      <td>...</td>\n      <td>...</td>\n      <td>...</td>\n    </tr>\n    <tr>\n      <th>2781</th>\n      <td>2782</td>\n      <td>Saldus/Brocenu</td>\n      <td>1090.9</td>\n      <td>NaN</td>\n    </tr>\n    <tr>\n      <th>2782</th>\n      <td>2783</td>\n      <td>Aktobe Zhas</td>\n      <td>1078.1</td>\n      <td>NaN</td>\n    </tr>\n    <tr>\n      <th>2783</th>\n      <td>2784</td>\n      <td>Cosmos</td>\n      <td>1059.4</td>\n      <td>San Marino. First</td>\n    </tr>\n    <tr>\n      <th>2784</th>\n      <td>2785</td>\n      <td>Balvu</td>\n      <td>1052.5</td>\n      <td>NaN</td>\n    </tr>\n    <tr>\n      <th>2785</th>\n      <td>2786</td>\n      <td>Plavinas</td>\n      <td>1043.8</td>\n      <td>NaN</td>\n    </tr>\n  </tbody>\n</table>\n<p>2786 rows × 4 columns</p>\n</div>"
     },
     "execution_count": 55,
     "metadata": {},
     "output_type": "execute_result"
    }
   ],
   "source": [
    "ratings"
   ],
   "metadata": {
    "collapsed": false,
    "pycharm": {
     "name": "#%%\n"
    }
   }
  },
  {
   "cell_type": "code",
   "execution_count": null,
   "outputs": [],
   "source": [],
   "metadata": {
    "collapsed": false,
    "pycharm": {
     "name": "#%%\n"
    }
   }
  },
  {
   "cell_type": "code",
   "execution_count": null,
   "outputs": [],
   "source": [],
   "metadata": {
    "collapsed": false,
    "pycharm": {
     "name": "#%%\n"
    }
   }
  },
  {
   "cell_type": "code",
   "execution_count": null,
   "outputs": [],
   "source": [
    "leagues_ratings.to_csv('20.csv', index=False)"
   ],
   "metadata": {
    "collapsed": false,
    "pycharm": {
     "name": "#%%\n"
    }
   }
  },
  {
   "cell_type": "code",
   "execution_count": null,
   "id": "c6157e65",
   "metadata": {
    "pycharm": {
     "name": "#%%\n"
    }
   },
   "outputs": [],
   "source": [
    "ratings.head(50)"
   ]
  },
  {
   "cell_type": "code",
   "execution_count": null,
   "outputs": [],
   "source": [],
   "metadata": {
    "collapsed": false,
    "pycharm": {
     "name": "#%%\n"
    }
   }
  },
  {
   "cell_type": "code",
   "execution_count": null,
   "outputs": [],
   "source": [],
   "metadata": {
    "collapsed": false,
    "pycharm": {
     "name": "#%%\n"
    }
   }
  },
  {
   "cell_type": "code",
   "execution_count": null,
   "outputs": [],
   "source": [],
   "metadata": {
    "collapsed": false,
    "pycharm": {
     "name": "#%%\n"
    }
   }
  },
  {
   "cell_type": "code",
   "execution_count": null,
   "outputs": [],
   "source": [],
   "metadata": {
    "collapsed": false,
    "pycharm": {
     "name": "#%%\n"
    }
   }
  },
  {
   "cell_type": "code",
   "execution_count": null,
   "outputs": [],
   "source": [],
   "metadata": {
    "collapsed": false,
    "pycharm": {
     "name": "#%%\n"
    }
   }
  },
  {
   "cell_type": "code",
   "execution_count": null,
   "outputs": [],
   "source": [],
   "metadata": {
    "collapsed": false,
    "pycharm": {
     "name": "#%%\n"
    }
   }
  },
  {
   "cell_type": "code",
   "execution_count": null,
   "outputs": [],
   "source": [],
   "metadata": {
    "collapsed": false,
    "pycharm": {
     "name": "#%%\n"
    }
   }
  },
  {
   "cell_type": "code",
   "execution_count": null,
   "outputs": [],
   "source": [],
   "metadata": {
    "collapsed": false,
    "pycharm": {
     "name": "#%%\n"
    }
   }
  },
  {
   "cell_type": "code",
   "execution_count": null,
   "outputs": [],
   "source": [],
   "metadata": {
    "collapsed": false,
    "pycharm": {
     "name": "#%%\n"
    }
   }
  },
  {
   "cell_type": "markdown",
   "id": "7ebcdb5e",
   "metadata": {
    "pycharm": {
     "name": "#%% md\n"
    }
   },
   "source": [
    "# Skellam"
   ]
  },
  {
   "cell_type": "code",
   "execution_count": null,
   "id": "fdac8ee0",
   "metadata": {
    "ExecuteTime": {
     "end_time": "2021-10-16T16:01:42.563459Z",
     "start_time": "2021-10-16T16:01:42.504174Z"
    },
    "pycharm": {
     "name": "#%%\n"
    }
   },
   "outputs": [],
   "source": [
    "# from euro_soccer.draw_model import DrawLightGBM\n",
    "\n",
    "DrawLightGBM().cross_val_score()"
   ]
  },
  {
   "cell_type": "code",
   "execution_count": null,
   "id": "312839bf",
   "metadata": {
    "pycharm": {
     "name": "#%%\n"
    }
   },
   "outputs": [],
   "source": []
  },
  {
   "cell_type": "code",
   "execution_count": null,
   "id": "c2fcc9b7",
   "metadata": {
    "ExecuteTime": {
     "end_time": "2021-10-16T13:28:56.955628Z",
     "start_time": "2021-10-16T13:28:56.890048Z"
    },
    "pycharm": {
     "name": "#%%\n"
    }
   },
   "outputs": [],
   "source": [
    "# import joblib\n",
    "train = joblib.load('data/train.pkl')\n",
    "train.head()"
   ]
  },
  {
   "cell_type": "code",
   "execution_count": null,
   "id": "fd266457",
   "metadata": {
    "ExecuteTime": {
     "end_time": "2021-10-16T13:30:08.902908Z",
     "start_time": "2021-10-16T13:30:08.869178Z"
    },
    "pycharm": {
     "name": "#%%\n"
    }
   },
   "outputs": [],
   "source": [
    "# train.loc[train['team'] == 'Manchester City']"
   ]
  },
  {
   "cell_type": "code",
   "execution_count": null,
   "id": "d5ff79e2",
   "metadata": {
    "ExecuteTime": {
     "end_time": "2021-10-16T13:56:52.818523Z",
     "start_time": "2021-10-16T13:56:52.808515Z"
    },
    "pycharm": {
     "name": "#%%\n"
    }
   },
   "outputs": [],
   "source": [
    "# train['avg_scoring_10'].mean()"
   ]
  },
  {
   "cell_type": "code",
   "execution_count": null,
   "outputs": [],
   "source": [],
   "metadata": {
    "collapsed": false,
    "pycharm": {
     "name": "#%%\n"
    }
   }
  }
 ],
 "metadata": {
  "kernelspec": {
   "name": "python3",
   "language": "python",
   "display_name": "Python 3 (ipykernel)"
  },
  "language_info": {
   "codemirror_mode": {
    "name": "ipython",
    "version": 3
   },
   "file_extension": ".py",
   "mimetype": "text/x-python",
   "name": "python",
   "nbconvert_exporter": "python",
   "pygments_lexer": "ipython3",
   "version": "3.9.7"
  }
 },
 "nbformat": 4,
 "nbformat_minor": 5
}