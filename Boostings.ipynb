{
 "cells": [
  {
   "cell_type": "code",
   "metadata": {
    "collapsed": true,
    "ExecuteTime": {
     "end_time": "2024-07-29T12:55:58.922401Z",
     "start_time": "2024-07-29T12:55:25.749036Z"
    }
   },
   "source": [
    "%reload_ext autoreload\n",
    "%autoreload 2\n",
    "\n",
    "import pandas as pd\n",
    "\n",
    "pd.options.display.max_columns, pd.options.display.max_rows = 500, 200\n",
    "pd.options.display.float_format = '{:.3f}'.format\n",
    "import warnings\n",
    "warnings.filterwarnings('ignore')\n",
    "\n",
    "from soccer.outcomes_features import TrainCreator\n",
    "from soccer.preprocessing import DataPreprocessor\n",
    "from soccer.outcomes_catboost import OutcomesCatBoost\n",
    "from soccer.outcomes_lgbm import OutcomesLGBM"
   ],
   "outputs": [],
   "execution_count": 1
  },
  {
   "cell_type": "raw",
   "source": [
    "Catboost"
   ],
   "metadata": {
    "collapsed": false
   }
  },
  {
   "cell_type": "code",
   "source": [
    "matches = DataPreprocessor(is_boosting_train=False).preprocessing()"
   ],
   "metadata": {
    "collapsed": false,
    "ExecuteTime": {
     "end_time": "2024-07-29T13:04:13.163246Z",
     "start_time": "2024-07-29T13:02:51.811352Z"
    }
   },
   "outputs": [
    {
     "name": "stdout",
     "output_type": "stream",
     "text": [
      "[LightGBM] [Warning] lambda_l1 is set=2.05114, reg_alpha=0.0 will be ignored. Current value: lambda_l1=2.05114\n",
      "[LightGBM] [Warning] bagging_freq is set=2, subsample_freq=0 will be ignored. Current value: bagging_freq=2\n",
      "[LightGBM] [Warning] lambda_l2 is set=7.23524, reg_lambda=0.0 will be ignored. Current value: lambda_l2=7.23524\n",
      "[LightGBM] [Warning] bagging_fraction is set=0.772, subsample=1.0 will be ignored. Current value: bagging_fraction=0.772\n",
      "[LightGBM] [Warning] min_data_in_leaf is set=20, min_child_samples=20 will be ignored. Current value: min_data_in_leaf=20\n",
      "[LightGBM] [Warning] feature_fraction is set=0.35, colsample_bytree=1.0 will be ignored. Current value: feature_fraction=0.35\n"
     ]
    }
   ],
   "execution_count": 3
  },
  {
   "cell_type": "code",
   "source": [
    "train, validation, test = TrainCreator().train_validation_test(matches)"
   ],
   "metadata": {
    "collapsed": false,
    "ExecuteTime": {
     "end_time": "2024-07-29T13:07:19.797668Z",
     "start_time": "2024-07-29T13:07:09.991752Z"
    }
   },
   "outputs": [],
   "execution_count": 4
  },
  {
   "cell_type": "code",
   "source": [
    "train['season'].max(), validation['season'].max(), test['season'].min(), test['season'].max()"
   ],
   "metadata": {
    "collapsed": false,
    "ExecuteTime": {
     "end_time": "2024-07-29T13:07:54.985586Z",
     "start_time": "2024-07-29T13:07:54.951986Z"
    }
   },
   "outputs": [
    {
     "data": {
      "text/plain": [
       "(2020, 2020, 2021, 2022)"
      ]
     },
     "execution_count": 5,
     "metadata": {},
     "output_type": "execute_result"
    }
   ],
   "execution_count": 5
  },
  {
   "cell_type": "code",
   "source": [
    "OutcomesCatBoost().cross_val_score()"
   ],
   "metadata": {
    "collapsed": false,
    "ExecuteTime": {
     "end_time": "2024-07-29T13:12:45.639705Z",
     "start_time": "2024-07-29T13:07:57.007161Z"
    }
   },
   "outputs": [
    {
     "name": "stdout",
     "output_type": "stream",
     "text": [
      "Training on fold [0/3]\n",
      "\n",
      "bestTest = 0.8794734727\n",
      "bestIteration = 998\n",
      "\n",
      "Training on fold [1/3]\n",
      "\n",
      "bestTest = 0.8785374681\n",
      "bestIteration = 947\n",
      "\n",
      "Training on fold [2/3]\n",
      "\n",
      "bestTest = 0.8775554527\n",
      "bestIteration = 999\n",
      "\n"
     ]
    },
    {
     "data": {
      "text/plain": [
       "0.8785274144332368"
      ]
     },
     "execution_count": 6,
     "metadata": {},
     "output_type": "execute_result"
    }
   ],
   "execution_count": 6
  },
  {
   "cell_type": "code",
   "source": [
    "OutcomesCatBoost().save_model()"
   ],
   "metadata": {
    "collapsed": false,
    "ExecuteTime": {
     "end_time": "2024-07-29T13:14:58.490792Z",
     "start_time": "2024-07-29T13:12:45.642005Z"
    }
   },
   "outputs": [],
   "execution_count": 7
  },
  {
   "cell_type": "code",
   "source": [
    "validation = OutcomesCatBoost().validation()"
   ],
   "metadata": {
    "collapsed": false,
    "ExecuteTime": {
     "end_time": "2024-07-29T13:14:58.687281Z",
     "start_time": "2024-07-29T13:14:58.492325Z"
    }
   },
   "outputs": [
    {
     "name": "stdout",
     "output_type": "stream",
     "text": [
      "MSE:  1.415918917498779\n",
      "MAE:  0.9263701895222806\n"
     ]
    }
   ],
   "execution_count": 8
  },
  {
   "cell_type": "code",
   "source": [
    "# experiments = OutcomesCatBoost().optuna_optimization(100)"
   ],
   "metadata": {
    "collapsed": false,
    "ExecuteTime": {
     "end_time": "2024-07-29T13:14:58.701517Z",
     "start_time": "2024-07-29T13:14:58.689671Z"
    }
   },
   "outputs": [],
   "execution_count": 9
  },
  {
   "cell_type": "code",
   "source": [
    "predictions = OutcomesCatBoost().predict()\n",
    "predictions.head()"
   ],
   "metadata": {
    "collapsed": false,
    "ExecuteTime": {
     "end_time": "2024-07-29T13:15:05.472520Z",
     "start_time": "2024-07-29T13:14:58.702305Z"
    }
   },
   "outputs": [
    {
     "data": {
      "text/plain": [
       "   match_id  home_goals  away_goals  home_win  draw  away_win\n",
       "0    186911       1.731       0.832     0.587 0.235     0.178\n",
       "1    186910       1.468       0.991     0.482 0.263     0.255\n",
       "2    186909       1.210       0.992     0.410 0.289     0.301\n",
       "3    186908       1.243       1.343     0.345 0.264     0.391\n",
       "4    186907       1.737       0.873     0.578 0.235     0.187"
      ],
      "text/html": [
       "<div>\n",
       "<style scoped>\n",
       "    .dataframe tbody tr th:only-of-type {\n",
       "        vertical-align: middle;\n",
       "    }\n",
       "\n",
       "    .dataframe tbody tr th {\n",
       "        vertical-align: top;\n",
       "    }\n",
       "\n",
       "    .dataframe thead th {\n",
       "        text-align: right;\n",
       "    }\n",
       "</style>\n",
       "<table border=\"1\" class=\"dataframe\">\n",
       "  <thead>\n",
       "    <tr style=\"text-align: right;\">\n",
       "      <th></th>\n",
       "      <th>match_id</th>\n",
       "      <th>home_goals</th>\n",
       "      <th>away_goals</th>\n",
       "      <th>home_win</th>\n",
       "      <th>draw</th>\n",
       "      <th>away_win</th>\n",
       "    </tr>\n",
       "  </thead>\n",
       "  <tbody>\n",
       "    <tr>\n",
       "      <th>0</th>\n",
       "      <td>186911</td>\n",
       "      <td>1.731</td>\n",
       "      <td>0.832</td>\n",
       "      <td>0.587</td>\n",
       "      <td>0.235</td>\n",
       "      <td>0.178</td>\n",
       "    </tr>\n",
       "    <tr>\n",
       "      <th>1</th>\n",
       "      <td>186910</td>\n",
       "      <td>1.468</td>\n",
       "      <td>0.991</td>\n",
       "      <td>0.482</td>\n",
       "      <td>0.263</td>\n",
       "      <td>0.255</td>\n",
       "    </tr>\n",
       "    <tr>\n",
       "      <th>2</th>\n",
       "      <td>186909</td>\n",
       "      <td>1.210</td>\n",
       "      <td>0.992</td>\n",
       "      <td>0.410</td>\n",
       "      <td>0.289</td>\n",
       "      <td>0.301</td>\n",
       "    </tr>\n",
       "    <tr>\n",
       "      <th>3</th>\n",
       "      <td>186908</td>\n",
       "      <td>1.243</td>\n",
       "      <td>1.343</td>\n",
       "      <td>0.345</td>\n",
       "      <td>0.264</td>\n",
       "      <td>0.391</td>\n",
       "    </tr>\n",
       "    <tr>\n",
       "      <th>4</th>\n",
       "      <td>186907</td>\n",
       "      <td>1.737</td>\n",
       "      <td>0.873</td>\n",
       "      <td>0.578</td>\n",
       "      <td>0.235</td>\n",
       "      <td>0.187</td>\n",
       "    </tr>\n",
       "  </tbody>\n",
       "</table>\n",
       "</div>"
      ]
     },
     "execution_count": 10,
     "metadata": {},
     "output_type": "execute_result"
    }
   ],
   "execution_count": 10
  },
  {
   "cell_type": "raw",
   "source": [
    "LGBM"
   ],
   "metadata": {
    "collapsed": false
   }
  },
  {
   "cell_type": "code",
   "source": [
    "matches = DataPreprocessor(is_boosting_train=False).preprocessing()\n",
    "train, validation, test = TrainCreator().train_validation_test(matches)"
   ],
   "metadata": {
    "collapsed": false,
    "ExecuteTime": {
     "end_time": "2024-07-29T13:15:24.540243Z",
     "start_time": "2024-07-29T13:15:05.473184Z"
    }
   },
   "outputs": [],
   "execution_count": 11
  },
  {
   "cell_type": "code",
   "source": [
    "matches.shape"
   ],
   "metadata": {
    "collapsed": false,
    "ExecuteTime": {
     "end_time": "2024-07-29T13:15:24.557565Z",
     "start_time": "2024-07-29T13:15:24.541490Z"
    }
   },
   "outputs": [
    {
     "data": {
      "text/plain": [
       "(363415, 13)"
      ]
     },
     "execution_count": 12,
     "metadata": {},
     "output_type": "execute_result"
    }
   ],
   "execution_count": 12
  },
  {
   "cell_type": "code",
   "source": [
    "OutcomesLGBM().cross_val_score() # 8767173807530748"
   ],
   "metadata": {
    "collapsed": false,
    "ExecuteTime": {
     "end_time": "2024-07-29T13:19:54.394106Z",
     "start_time": "2024-07-29T13:15:24.558147Z"
    }
   },
   "outputs": [
    {
     "data": {
      "text/plain": [
       "0.8765695168140738"
      ]
     },
     "execution_count": 13,
     "metadata": {},
     "output_type": "execute_result"
    }
   ],
   "execution_count": 13
  },
  {
   "cell_type": "code",
   "source": [
    "OutcomesLGBM().save_model()"
   ],
   "metadata": {
    "collapsed": false,
    "ExecuteTime": {
     "end_time": "2024-07-29T13:20:47.519530Z",
     "start_time": "2024-07-29T13:19:54.395483Z"
    }
   },
   "outputs": [
    {
     "name": "stdout",
     "output_type": "stream",
     "text": [
      "Training until validation scores don't improve for 100 rounds\n",
      "Early stopping, best iteration is:\n",
      "[3585]\tvalid_0's poisson: 0.880691\n"
     ]
    }
   ],
   "execution_count": 14
  },
  {
   "cell_type": "code",
   "source": [
    "validation = OutcomesLGBM().validation()\n",
    "validation.head()"
   ],
   "metadata": {
    "collapsed": false,
    "ExecuteTime": {
     "end_time": "2024-07-29T13:20:52.861422Z",
     "start_time": "2024-07-29T13:20:47.521498Z"
    }
   },
   "outputs": [
    {
     "name": "stdout",
     "output_type": "stream",
     "text": [
      "MSE:  1.4137228438904672\n",
      "MAE:  0.9260970657765656\n"
     ]
    },
    {
     "data": {
      "text/plain": [
       "   is_home  is_pandemic  avg_scoring_5  avg_scoring_10  avg_scoring_20  \\\n",
       "0     True         True          1.600           2.500           1.850   \n",
       "1     True         True          1.000           1.400           1.400   \n",
       "2     True         True          0.800           1.100           1.050   \n",
       "3     True         True          1.400           1.400           1.650   \n",
       "4     True         True          1.400           1.600           1.650   \n",
       "\n",
       "   avg_scoring_30  avg_scoring_5_against  avg_scoring_10_against  \\\n",
       "0           1.567                  1.800                   1.600   \n",
       "1           1.367                  1.200                   1.700   \n",
       "2           1.167                  1.000                   0.800   \n",
       "3           1.567                  1.000                   0.800   \n",
       "4           1.567                  1.600                   1.300   \n",
       "\n",
       "   avg_scoring_20_against  avg_scoring_30_against tournament_type  \\\n",
       "0                   1.400                   1.200               1   \n",
       "1                   1.400                   1.400               1   \n",
       "2                   0.800                   1.100               1   \n",
       "3                   1.000                   0.900               1   \n",
       "4                   1.400                   1.600               1   \n",
       "\n",
       "        tournament           league       opp_league  location_mean_score_5  \\\n",
       "0  Colombia. First  Colombia. First  Colombia. First                  3.000   \n",
       "1  Colombia. First  Colombia. First  Colombia. First                  1.600   \n",
       "2  Colombia. First  Colombia. First  Colombia. First                  1.400   \n",
       "3  Colombia. First  Colombia. First  Colombia. First                  1.200   \n",
       "4  Colombia. First  Colombia. First  Colombia. First                  1.600   \n",
       "\n",
       "   location_mean_score_10  location_mean_score_20  location_mean_score_30  \\\n",
       "0                   2.000                   1.650                   1.600   \n",
       "1                   1.200                   1.300                   1.300   \n",
       "2                   1.300                   1.650                   1.467   \n",
       "3                   1.400                   1.400                   1.633   \n",
       "4                   1.800                   1.600                   1.567   \n",
       "\n",
       "   location_median_score_5  location_median_score_10  \\\n",
       "0                    2.000                     1.000   \n",
       "1                    1.000                     1.000   \n",
       "2                    1.000                     1.000   \n",
       "3                    1.000                     1.000   \n",
       "4                    2.000                     2.000   \n",
       "\n",
       "   location_median_score_20  location_median_score_30  \\\n",
       "0                     1.000                     1.000   \n",
       "1                     1.000                     1.000   \n",
       "2                     1.500                     1.000   \n",
       "3                     1.000                     1.000   \n",
       "4                     2.000                     2.000   \n",
       "\n",
       "   location_mean_score_5_against  location_mean_score_10_against  \\\n",
       "0                          0.600                           0.500   \n",
       "1                          1.000                           0.900   \n",
       "2                          0.800                           1.100   \n",
       "3                          1.600                           1.700   \n",
       "4                          1.200                           1.000   \n",
       "\n",
       "   location_mean_score_20_against  location_median_score_10_against  \\\n",
       "0                           1.000                             0.000   \n",
       "1                           0.850                             1.000   \n",
       "2                           0.900                             1.000   \n",
       "3                           1.350                             2.000   \n",
       "4                           0.900                             1.000   \n",
       "\n",
       "   location_max_score_10  score  prediction  \n",
       "0                  6.000      1       1.783  \n",
       "1                  3.000      1       1.569  \n",
       "2                  2.000      2       1.314  \n",
       "3                  3.000      2       1.287  \n",
       "4                  3.000      1       1.763  "
      ],
      "text/html": [
       "<div>\n",
       "<style scoped>\n",
       "    .dataframe tbody tr th:only-of-type {\n",
       "        vertical-align: middle;\n",
       "    }\n",
       "\n",
       "    .dataframe tbody tr th {\n",
       "        vertical-align: top;\n",
       "    }\n",
       "\n",
       "    .dataframe thead th {\n",
       "        text-align: right;\n",
       "    }\n",
       "</style>\n",
       "<table border=\"1\" class=\"dataframe\">\n",
       "  <thead>\n",
       "    <tr style=\"text-align: right;\">\n",
       "      <th></th>\n",
       "      <th>is_home</th>\n",
       "      <th>is_pandemic</th>\n",
       "      <th>avg_scoring_5</th>\n",
       "      <th>avg_scoring_10</th>\n",
       "      <th>avg_scoring_20</th>\n",
       "      <th>avg_scoring_30</th>\n",
       "      <th>avg_scoring_5_against</th>\n",
       "      <th>avg_scoring_10_against</th>\n",
       "      <th>avg_scoring_20_against</th>\n",
       "      <th>avg_scoring_30_against</th>\n",
       "      <th>tournament_type</th>\n",
       "      <th>tournament</th>\n",
       "      <th>league</th>\n",
       "      <th>opp_league</th>\n",
       "      <th>location_mean_score_5</th>\n",
       "      <th>location_mean_score_10</th>\n",
       "      <th>location_mean_score_20</th>\n",
       "      <th>location_mean_score_30</th>\n",
       "      <th>location_median_score_5</th>\n",
       "      <th>location_median_score_10</th>\n",
       "      <th>location_median_score_20</th>\n",
       "      <th>location_median_score_30</th>\n",
       "      <th>location_mean_score_5_against</th>\n",
       "      <th>location_mean_score_10_against</th>\n",
       "      <th>location_mean_score_20_against</th>\n",
       "      <th>location_median_score_10_against</th>\n",
       "      <th>location_max_score_10</th>\n",
       "      <th>score</th>\n",
       "      <th>prediction</th>\n",
       "    </tr>\n",
       "  </thead>\n",
       "  <tbody>\n",
       "    <tr>\n",
       "      <th>0</th>\n",
       "      <td>True</td>\n",
       "      <td>True</td>\n",
       "      <td>1.600</td>\n",
       "      <td>2.500</td>\n",
       "      <td>1.850</td>\n",
       "      <td>1.567</td>\n",
       "      <td>1.800</td>\n",
       "      <td>1.600</td>\n",
       "      <td>1.400</td>\n",
       "      <td>1.200</td>\n",
       "      <td>1</td>\n",
       "      <td>Colombia. First</td>\n",
       "      <td>Colombia. First</td>\n",
       "      <td>Colombia. First</td>\n",
       "      <td>3.000</td>\n",
       "      <td>2.000</td>\n",
       "      <td>1.650</td>\n",
       "      <td>1.600</td>\n",
       "      <td>2.000</td>\n",
       "      <td>1.000</td>\n",
       "      <td>1.000</td>\n",
       "      <td>1.000</td>\n",
       "      <td>0.600</td>\n",
       "      <td>0.500</td>\n",
       "      <td>1.000</td>\n",
       "      <td>0.000</td>\n",
       "      <td>6.000</td>\n",
       "      <td>1</td>\n",
       "      <td>1.783</td>\n",
       "    </tr>\n",
       "    <tr>\n",
       "      <th>1</th>\n",
       "      <td>True</td>\n",
       "      <td>True</td>\n",
       "      <td>1.000</td>\n",
       "      <td>1.400</td>\n",
       "      <td>1.400</td>\n",
       "      <td>1.367</td>\n",
       "      <td>1.200</td>\n",
       "      <td>1.700</td>\n",
       "      <td>1.400</td>\n",
       "      <td>1.400</td>\n",
       "      <td>1</td>\n",
       "      <td>Colombia. First</td>\n",
       "      <td>Colombia. First</td>\n",
       "      <td>Colombia. First</td>\n",
       "      <td>1.600</td>\n",
       "      <td>1.200</td>\n",
       "      <td>1.300</td>\n",
       "      <td>1.300</td>\n",
       "      <td>1.000</td>\n",
       "      <td>1.000</td>\n",
       "      <td>1.000</td>\n",
       "      <td>1.000</td>\n",
       "      <td>1.000</td>\n",
       "      <td>0.900</td>\n",
       "      <td>0.850</td>\n",
       "      <td>1.000</td>\n",
       "      <td>3.000</td>\n",
       "      <td>1</td>\n",
       "      <td>1.569</td>\n",
       "    </tr>\n",
       "    <tr>\n",
       "      <th>2</th>\n",
       "      <td>True</td>\n",
       "      <td>True</td>\n",
       "      <td>0.800</td>\n",
       "      <td>1.100</td>\n",
       "      <td>1.050</td>\n",
       "      <td>1.167</td>\n",
       "      <td>1.000</td>\n",
       "      <td>0.800</td>\n",
       "      <td>0.800</td>\n",
       "      <td>1.100</td>\n",
       "      <td>1</td>\n",
       "      <td>Colombia. First</td>\n",
       "      <td>Colombia. First</td>\n",
       "      <td>Colombia. First</td>\n",
       "      <td>1.400</td>\n",
       "      <td>1.300</td>\n",
       "      <td>1.650</td>\n",
       "      <td>1.467</td>\n",
       "      <td>1.000</td>\n",
       "      <td>1.000</td>\n",
       "      <td>1.500</td>\n",
       "      <td>1.000</td>\n",
       "      <td>0.800</td>\n",
       "      <td>1.100</td>\n",
       "      <td>0.900</td>\n",
       "      <td>1.000</td>\n",
       "      <td>2.000</td>\n",
       "      <td>2</td>\n",
       "      <td>1.314</td>\n",
       "    </tr>\n",
       "    <tr>\n",
       "      <th>3</th>\n",
       "      <td>True</td>\n",
       "      <td>True</td>\n",
       "      <td>1.400</td>\n",
       "      <td>1.400</td>\n",
       "      <td>1.650</td>\n",
       "      <td>1.567</td>\n",
       "      <td>1.000</td>\n",
       "      <td>0.800</td>\n",
       "      <td>1.000</td>\n",
       "      <td>0.900</td>\n",
       "      <td>1</td>\n",
       "      <td>Colombia. First</td>\n",
       "      <td>Colombia. First</td>\n",
       "      <td>Colombia. First</td>\n",
       "      <td>1.200</td>\n",
       "      <td>1.400</td>\n",
       "      <td>1.400</td>\n",
       "      <td>1.633</td>\n",
       "      <td>1.000</td>\n",
       "      <td>1.000</td>\n",
       "      <td>1.000</td>\n",
       "      <td>1.000</td>\n",
       "      <td>1.600</td>\n",
       "      <td>1.700</td>\n",
       "      <td>1.350</td>\n",
       "      <td>2.000</td>\n",
       "      <td>3.000</td>\n",
       "      <td>2</td>\n",
       "      <td>1.287</td>\n",
       "    </tr>\n",
       "    <tr>\n",
       "      <th>4</th>\n",
       "      <td>True</td>\n",
       "      <td>True</td>\n",
       "      <td>1.400</td>\n",
       "      <td>1.600</td>\n",
       "      <td>1.650</td>\n",
       "      <td>1.567</td>\n",
       "      <td>1.600</td>\n",
       "      <td>1.300</td>\n",
       "      <td>1.400</td>\n",
       "      <td>1.600</td>\n",
       "      <td>1</td>\n",
       "      <td>Colombia. First</td>\n",
       "      <td>Colombia. First</td>\n",
       "      <td>Colombia. First</td>\n",
       "      <td>1.600</td>\n",
       "      <td>1.800</td>\n",
       "      <td>1.600</td>\n",
       "      <td>1.567</td>\n",
       "      <td>2.000</td>\n",
       "      <td>2.000</td>\n",
       "      <td>2.000</td>\n",
       "      <td>2.000</td>\n",
       "      <td>1.200</td>\n",
       "      <td>1.000</td>\n",
       "      <td>0.900</td>\n",
       "      <td>1.000</td>\n",
       "      <td>3.000</td>\n",
       "      <td>1</td>\n",
       "      <td>1.763</td>\n",
       "    </tr>\n",
       "  </tbody>\n",
       "</table>\n",
       "</div>"
      ]
     },
     "execution_count": 15,
     "metadata": {},
     "output_type": "execute_result"
    }
   ],
   "execution_count": 15
  },
  {
   "cell_type": "code",
   "source": "# experiments = OutcomesLGBM().optuna_optimization(200)",
   "metadata": {
    "collapsed": false,
    "ExecuteTime": {
     "end_time": "2024-07-29T13:33:03.160003Z",
     "start_time": "2024-07-29T13:33:03.131954Z"
    }
   },
   "outputs": [],
   "execution_count": 18
  },
  {
   "cell_type": "code",
   "execution_count": null,
   "outputs": [],
   "source": "# experiments.head()",
   "metadata": {
    "collapsed": false
   }
  },
  {
   "cell_type": "code",
   "source": [
    "predictions = OutcomesLGBM().predict()\n",
    "predictions.head()"
   ],
   "metadata": {
    "collapsed": false,
    "ExecuteTime": {
     "end_time": "2024-07-29T13:21:04.652454Z",
     "start_time": "2024-07-29T13:20:52.862088Z"
    }
   },
   "outputs": [
    {
     "data": {
      "text/plain": [
       "   match_id  home_goals  away_goals  home_win  draw  away_win\n",
       "0    186911       1.783       0.832     0.599 0.229     0.172\n",
       "1    186910       1.569       1.001     0.506 0.253     0.241\n",
       "2    186909       1.314       1.024     0.432 0.277     0.291\n",
       "3    186908       1.287       1.317     0.361 0.264     0.375\n",
       "4    186907       1.763       0.876     0.583 0.232     0.184"
      ],
      "text/html": [
       "<div>\n",
       "<style scoped>\n",
       "    .dataframe tbody tr th:only-of-type {\n",
       "        vertical-align: middle;\n",
       "    }\n",
       "\n",
       "    .dataframe tbody tr th {\n",
       "        vertical-align: top;\n",
       "    }\n",
       "\n",
       "    .dataframe thead th {\n",
       "        text-align: right;\n",
       "    }\n",
       "</style>\n",
       "<table border=\"1\" class=\"dataframe\">\n",
       "  <thead>\n",
       "    <tr style=\"text-align: right;\">\n",
       "      <th></th>\n",
       "      <th>match_id</th>\n",
       "      <th>home_goals</th>\n",
       "      <th>away_goals</th>\n",
       "      <th>home_win</th>\n",
       "      <th>draw</th>\n",
       "      <th>away_win</th>\n",
       "    </tr>\n",
       "  </thead>\n",
       "  <tbody>\n",
       "    <tr>\n",
       "      <th>0</th>\n",
       "      <td>186911</td>\n",
       "      <td>1.783</td>\n",
       "      <td>0.832</td>\n",
       "      <td>0.599</td>\n",
       "      <td>0.229</td>\n",
       "      <td>0.172</td>\n",
       "    </tr>\n",
       "    <tr>\n",
       "      <th>1</th>\n",
       "      <td>186910</td>\n",
       "      <td>1.569</td>\n",
       "      <td>1.001</td>\n",
       "      <td>0.506</td>\n",
       "      <td>0.253</td>\n",
       "      <td>0.241</td>\n",
       "    </tr>\n",
       "    <tr>\n",
       "      <th>2</th>\n",
       "      <td>186909</td>\n",
       "      <td>1.314</td>\n",
       "      <td>1.024</td>\n",
       "      <td>0.432</td>\n",
       "      <td>0.277</td>\n",
       "      <td>0.291</td>\n",
       "    </tr>\n",
       "    <tr>\n",
       "      <th>3</th>\n",
       "      <td>186908</td>\n",
       "      <td>1.287</td>\n",
       "      <td>1.317</td>\n",
       "      <td>0.361</td>\n",
       "      <td>0.264</td>\n",
       "      <td>0.375</td>\n",
       "    </tr>\n",
       "    <tr>\n",
       "      <th>4</th>\n",
       "      <td>186907</td>\n",
       "      <td>1.763</td>\n",
       "      <td>0.876</td>\n",
       "      <td>0.583</td>\n",
       "      <td>0.232</td>\n",
       "      <td>0.184</td>\n",
       "    </tr>\n",
       "  </tbody>\n",
       "</table>\n",
       "</div>"
      ]
     },
     "execution_count": 16,
     "metadata": {},
     "output_type": "execute_result"
    }
   ],
   "execution_count": 16
  },
  {
   "cell_type": "code",
   "source": [],
   "metadata": {
    "collapsed": false,
    "ExecuteTime": {
     "end_time": "2024-07-29T13:21:04.655304Z",
     "start_time": "2024-07-29T13:21:04.653099Z"
    }
   },
   "outputs": [],
   "execution_count": 16
  },
  {
   "cell_type": "code",
   "source": [],
   "metadata": {
    "collapsed": false,
    "ExecuteTime": {
     "end_time": "2024-07-29T13:21:04.658796Z",
     "start_time": "2024-07-29T13:21:04.656855Z"
    }
   },
   "outputs": [],
   "execution_count": 16
  },
  {
   "cell_type": "raw",
   "source": [
    "Compare Models"
   ],
   "metadata": {
    "collapsed": false
   }
  },
  {
   "cell_type": "code",
   "source": [
    "from soccer.compare_models import compare_models\n",
    "compare_models()"
   ],
   "metadata": {
    "collapsed": false,
    "ExecuteTime": {
     "end_time": "2024-07-29T13:21:57.155351Z",
     "start_time": "2024-07-29T13:21:04.660046Z"
    }
   },
   "outputs": [
    {
     "data": {
      "text/plain": [
       "               model  loss\n",
       "0           Catboost 0.588\n",
       "1           LightGBM 0.588\n",
       "2  Modified Glicko-2 0.583\n",
       "3  Original Glicko-2 0.594"
      ],
      "text/html": [
       "<div>\n",
       "<style scoped>\n",
       "    .dataframe tbody tr th:only-of-type {\n",
       "        vertical-align: middle;\n",
       "    }\n",
       "\n",
       "    .dataframe tbody tr th {\n",
       "        vertical-align: top;\n",
       "    }\n",
       "\n",
       "    .dataframe thead th {\n",
       "        text-align: right;\n",
       "    }\n",
       "</style>\n",
       "<table border=\"1\" class=\"dataframe\">\n",
       "  <thead>\n",
       "    <tr style=\"text-align: right;\">\n",
       "      <th></th>\n",
       "      <th>model</th>\n",
       "      <th>loss</th>\n",
       "    </tr>\n",
       "  </thead>\n",
       "  <tbody>\n",
       "    <tr>\n",
       "      <th>0</th>\n",
       "      <td>Catboost</td>\n",
       "      <td>0.588</td>\n",
       "    </tr>\n",
       "    <tr>\n",
       "      <th>1</th>\n",
       "      <td>LightGBM</td>\n",
       "      <td>0.588</td>\n",
       "    </tr>\n",
       "    <tr>\n",
       "      <th>2</th>\n",
       "      <td>Modified Glicko-2</td>\n",
       "      <td>0.583</td>\n",
       "    </tr>\n",
       "    <tr>\n",
       "      <th>3</th>\n",
       "      <td>Original Glicko-2</td>\n",
       "      <td>0.594</td>\n",
       "    </tr>\n",
       "  </tbody>\n",
       "</table>\n",
       "</div>"
      ]
     },
     "execution_count": 17,
     "metadata": {},
     "output_type": "execute_result"
    }
   ],
   "execution_count": 17
  },
  {
   "cell_type": "code",
   "execution_count": null,
   "outputs": [],
   "source": [],
   "metadata": {
    "collapsed": false
   }
  },
  {
   "cell_type": "code",
   "execution_count": null,
   "outputs": [],
   "source": [],
   "metadata": {
    "collapsed": false
   }
  },
  {
   "cell_type": "code",
   "execution_count": null,
   "outputs": [],
   "source": [],
   "metadata": {
    "collapsed": false
   }
  }
 ],
 "metadata": {
  "kernelspec": {
   "display_name": "Python 3",
   "language": "python",
   "name": "python3"
  },
  "language_info": {
   "codemirror_mode": {
    "name": "ipython",
    "version": 2
   },
   "file_extension": ".py",
   "mimetype": "text/x-python",
   "name": "python",
   "nbconvert_exporter": "python",
   "pygments_lexer": "ipython2",
   "version": "2.7.6"
  }
 },
 "nbformat": 4,
 "nbformat_minor": 0
}
