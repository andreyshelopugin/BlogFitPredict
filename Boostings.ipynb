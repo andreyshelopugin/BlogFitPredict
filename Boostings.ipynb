{
 "cells": [
  {
   "cell_type": "code",
   "execution_count": 37,
   "metadata": {
    "collapsed": true,
    "ExecuteTime": {
     "end_time": "2023-09-23T14:52:46.602427Z",
     "start_time": "2023-09-23T14:52:46.212688Z"
    }
   },
   "outputs": [],
   "source": [
    "%reload_ext autoreload\n",
    "%autoreload 2\n",
    "\n",
    "import pandas as pd\n",
    "\n",
    "pd.options.display.max_columns, pd.options.display.max_rows = 500, 200\n",
    "pd.options.display.float_format = '{:.3f}'.format\n",
    "import joblib\n",
    "import warnings\n",
    "warnings.filterwarnings('ignore')\n",
    "\n",
    "from soccer.outcomes_features import TrainCreator\n",
    "from soccer.preprocessing import DataPreprocessor\n",
    "from soccer.outcomes_catboost import OutcomesCatBoost\n",
    "from soccer.outcomes_lgbm import OutcomesLGBM"
   ]
  },
  {
   "cell_type": "raw",
   "source": [
    "Catboost"
   ],
   "metadata": {
    "collapsed": false
   }
  },
  {
   "cell_type": "code",
   "execution_count": 67,
   "outputs": [],
   "source": [
    "matches = DataPreprocessor(is_train=False).preprocessing()"
   ],
   "metadata": {
    "collapsed": false,
    "ExecuteTime": {
     "end_time": "2023-09-23T17:17:33.958645Z",
     "start_time": "2023-09-23T17:17:25.573713Z"
    }
   }
  },
  {
   "cell_type": "code",
   "execution_count": 68,
   "outputs": [],
   "source": [
    "train, validation, test = TrainCreator().train_validation_test(matches)"
   ],
   "metadata": {
    "collapsed": false,
    "ExecuteTime": {
     "end_time": "2023-09-23T17:17:44.487363Z",
     "start_time": "2023-09-23T17:17:33.958Z"
    }
   }
  },
  {
   "cell_type": "code",
   "execution_count": 69,
   "outputs": [
    {
     "name": "stdout",
     "output_type": "stream",
     "text": [
      "Training on fold [0/3]\n",
      "\n",
      "bestTest = 0.881852265\n",
      "bestIteration = 853\n",
      "\n",
      "Training on fold [1/3]\n",
      "\n",
      "bestTest = 0.8816533872\n",
      "bestIteration = 987\n",
      "\n",
      "Training on fold [2/3]\n",
      "\n",
      "bestTest = 0.8808610051\n",
      "bestIteration = 888\n",
      "\n"
     ]
    },
    {
     "data": {
      "text/plain": "0.881469924486442"
     },
     "execution_count": 69,
     "metadata": {},
     "output_type": "execute_result"
    }
   ],
   "source": [
    "OutcomesCatBoost().cross_val_score()"
   ],
   "metadata": {
    "collapsed": false,
    "ExecuteTime": {
     "end_time": "2023-09-23T17:21:56.677697Z",
     "start_time": "2023-09-23T17:17:44.489501Z"
    }
   }
  },
  {
   "cell_type": "code",
   "execution_count": 33,
   "outputs": [],
   "source": [
    "OutcomesCatBoost().save_model()"
   ],
   "metadata": {
    "collapsed": false,
    "ExecuteTime": {
     "end_time": "2023-09-23T14:19:37.437979Z",
     "start_time": "2023-09-23T14:19:15.821253Z"
    }
   }
  },
  {
   "cell_type": "code",
   "execution_count": 70,
   "outputs": [
    {
     "name": "stdout",
     "output_type": "stream",
     "text": [
      "MSE:  1.4481320772368373\n",
      "MAE:  0.9390377800920607\n"
     ]
    }
   ],
   "source": [
    "validation = OutcomesCatBoost().validation()"
   ],
   "metadata": {
    "collapsed": false,
    "ExecuteTime": {
     "end_time": "2023-09-23T17:21:56.861038Z",
     "start_time": "2023-09-23T17:21:56.671581Z"
    }
   }
  },
  {
   "cell_type": "code",
   "execution_count": 28,
   "outputs": [],
   "source": [
    "# experiments = OutcomesCatBoost().optuna_optimization(100)"
   ],
   "metadata": {
    "collapsed": false,
    "ExecuteTime": {
     "end_time": "2023-09-23T14:11:01.101563Z",
     "start_time": "2023-09-23T14:11:01.066759Z"
    }
   }
  },
  {
   "cell_type": "code",
   "execution_count": 71,
   "outputs": [
    {
     "data": {
      "text/plain": "   match_id  home_goals  away_goals  home_win  draw  away_win\n0      2165       1.330       1.508     0.335 0.250     0.415\n1      2166       2.052       0.948     0.629 0.205     0.166\n2      2459       1.469       1.060     0.466 0.261     0.273\n3      2460       1.370       0.994     0.455 0.273     0.273\n4      2461       1.080       0.889     0.396 0.309     0.295",
      "text/html": "<div>\n<style scoped>\n    .dataframe tbody tr th:only-of-type {\n        vertical-align: middle;\n    }\n\n    .dataframe tbody tr th {\n        vertical-align: top;\n    }\n\n    .dataframe thead th {\n        text-align: right;\n    }\n</style>\n<table border=\"1\" class=\"dataframe\">\n  <thead>\n    <tr style=\"text-align: right;\">\n      <th></th>\n      <th>match_id</th>\n      <th>home_goals</th>\n      <th>away_goals</th>\n      <th>home_win</th>\n      <th>draw</th>\n      <th>away_win</th>\n    </tr>\n  </thead>\n  <tbody>\n    <tr>\n      <th>0</th>\n      <td>2165</td>\n      <td>1.330</td>\n      <td>1.508</td>\n      <td>0.335</td>\n      <td>0.250</td>\n      <td>0.415</td>\n    </tr>\n    <tr>\n      <th>1</th>\n      <td>2166</td>\n      <td>2.052</td>\n      <td>0.948</td>\n      <td>0.629</td>\n      <td>0.205</td>\n      <td>0.166</td>\n    </tr>\n    <tr>\n      <th>2</th>\n      <td>2459</td>\n      <td>1.469</td>\n      <td>1.060</td>\n      <td>0.466</td>\n      <td>0.261</td>\n      <td>0.273</td>\n    </tr>\n    <tr>\n      <th>3</th>\n      <td>2460</td>\n      <td>1.370</td>\n      <td>0.994</td>\n      <td>0.455</td>\n      <td>0.273</td>\n      <td>0.273</td>\n    </tr>\n    <tr>\n      <th>4</th>\n      <td>2461</td>\n      <td>1.080</td>\n      <td>0.889</td>\n      <td>0.396</td>\n      <td>0.309</td>\n      <td>0.295</td>\n    </tr>\n  </tbody>\n</table>\n</div>"
     },
     "execution_count": 71,
     "metadata": {},
     "output_type": "execute_result"
    }
   ],
   "source": [
    "predictions = OutcomesCatBoost().predict()\n",
    "predictions.head()"
   ],
   "metadata": {
    "collapsed": false,
    "ExecuteTime": {
     "end_time": "2023-09-23T17:22:02.624720Z",
     "start_time": "2023-09-23T17:21:56.861242Z"
    }
   }
  },
  {
   "cell_type": "raw",
   "source": [
    "LGBM"
   ],
   "metadata": {
    "collapsed": false
   }
  },
  {
   "cell_type": "code",
   "execution_count": 72,
   "outputs": [],
   "source": [
    "matches = DataPreprocessor(is_train=False).preprocessing()\n",
    "train, validation, test = TrainCreator().train_validation_test(matches)"
   ],
   "metadata": {
    "collapsed": false,
    "ExecuteTime": {
     "end_time": "2023-09-23T17:22:21.119171Z",
     "start_time": "2023-09-23T17:22:02.624934Z"
    }
   }
  },
  {
   "cell_type": "code",
   "execution_count": 97,
   "outputs": [
    {
     "data": {
      "text/plain": "0.880711042192055"
     },
     "execution_count": 97,
     "metadata": {},
     "output_type": "execute_result"
    }
   ],
   "source": [
    "OutcomesLGBM().cross_val_score()"
   ],
   "metadata": {
    "collapsed": false,
    "ExecuteTime": {
     "end_time": "2023-09-23T19:03:23.476294Z",
     "start_time": "2023-09-23T19:03:01.705799Z"
    }
   }
  },
  {
   "cell_type": "code",
   "execution_count": 74,
   "outputs": [
    {
     "name": "stdout",
     "output_type": "stream",
     "text": [
      "[LightGBM] [Warning] bagging_freq is set=50, subsample_freq=0 will be ignored. Current value: bagging_freq=50\n",
      "[LightGBM] [Warning] lambda_l1 is set=1.11749, reg_alpha=0.0 will be ignored. Current value: lambda_l1=1.11749\n",
      "[LightGBM] [Warning] lambda_l2 is set=3.50433, reg_lambda=0.0 will be ignored. Current value: lambda_l2=3.50433\n",
      "[LightGBM] [Warning] feature_fraction is set=0.8, colsample_bytree=1.0 will be ignored. Current value: feature_fraction=0.8\n",
      "[LightGBM] [Warning] bagging_fraction is set=0.9, subsample=1.0 will be ignored. Current value: bagging_fraction=0.9\n",
      "[LightGBM] [Warning] min_data_in_leaf is set=20, min_child_samples=20 will be ignored. Current value: min_data_in_leaf=20\n",
      "[LightGBM] [Warning] bagging_freq is set=50, subsample_freq=0 will be ignored. Current value: bagging_freq=50\n",
      "[LightGBM] [Warning] lambda_l1 is set=1.11749, reg_alpha=0.0 will be ignored. Current value: lambda_l1=1.11749\n",
      "[LightGBM] [Warning] lambda_l2 is set=3.50433, reg_lambda=0.0 will be ignored. Current value: lambda_l2=3.50433\n",
      "[LightGBM] [Warning] feature_fraction is set=0.8, colsample_bytree=1.0 will be ignored. Current value: feature_fraction=0.8\n",
      "[LightGBM] [Warning] bagging_fraction is set=0.9, subsample=1.0 will be ignored. Current value: bagging_fraction=0.9\n",
      "[LightGBM] [Warning] min_data_in_leaf is set=20, min_child_samples=20 will be ignored. Current value: min_data_in_leaf=20\n",
      "[LightGBM] [Info] Auto-choosing row-wise multi-threading, the overhead of testing was 0.011365 seconds.\n",
      "You can set `force_row_wise=true` to remove the overhead.\n",
      "And if memory is not enough, you can set `force_col_wise=true`.\n",
      "[LightGBM] [Info] Total Bins 2636\n",
      "[LightGBM] [Info] Number of data points in the train set: 502380, number of used features: 27\n",
      "[LightGBM] [Warning] bagging_freq is set=50, subsample_freq=0 will be ignored. Current value: bagging_freq=50\n",
      "[LightGBM] [Warning] lambda_l1 is set=1.11749, reg_alpha=0.0 will be ignored. Current value: lambda_l1=1.11749\n",
      "[LightGBM] [Warning] lambda_l2 is set=3.50433, reg_lambda=0.0 will be ignored. Current value: lambda_l2=3.50433\n",
      "[LightGBM] [Warning] feature_fraction is set=0.8, colsample_bytree=1.0 will be ignored. Current value: feature_fraction=0.8\n",
      "[LightGBM] [Warning] bagging_fraction is set=0.9, subsample=1.0 will be ignored. Current value: bagging_fraction=0.9\n",
      "[LightGBM] [Warning] min_data_in_leaf is set=20, min_child_samples=20 will be ignored. Current value: min_data_in_leaf=20\n",
      "[LightGBM] [Info] Start training from score 0.295394\n",
      "Training until validation scores don't improve for 100 rounds\n",
      "Early stopping, best iteration is:\n",
      "[132]\tvalid_0's poisson: 0.887972\n"
     ]
    }
   ],
   "source": [
    "OutcomesLGBM().save_model()"
   ],
   "metadata": {
    "collapsed": false,
    "ExecuteTime": {
     "end_time": "2023-09-23T17:22:47.319309Z",
     "start_time": "2023-09-23T17:22:41.031965Z"
    }
   }
  },
  {
   "cell_type": "code",
   "execution_count": 98,
   "outputs": [
    {
     "name": "stdout",
     "output_type": "stream",
     "text": [
      "[LightGBM] [Warning] lambda_l1 is set=1.11749, reg_alpha=0.0 will be ignored. Current value: lambda_l1=1.11749\n",
      "[LightGBM] [Warning] bagging_freq is set=50, subsample_freq=0 will be ignored. Current value: bagging_freq=50\n",
      "[LightGBM] [Warning] lambda_l2 is set=3.50433, reg_lambda=0.0 will be ignored. Current value: lambda_l2=3.50433\n",
      "[LightGBM] [Warning] bagging_fraction is set=0.9, subsample=1.0 will be ignored. Current value: bagging_fraction=0.9\n",
      "[LightGBM] [Warning] min_data_in_leaf is set=20, min_child_samples=20 will be ignored. Current value: min_data_in_leaf=20\n",
      "[LightGBM] [Warning] feature_fraction is set=0.8, colsample_bytree=1.0 will be ignored. Current value: feature_fraction=0.8\n",
      "MSE:  1.4311947585596805\n",
      "MAE:  0.9337249958930501\n"
     ]
    },
    {
     "data": {
      "text/plain": "   is_home  is_pandemic  avg_scoring_5  avg_scoring_10  avg_scoring_20  \\\n0     True            0          2.200           1.500           1.800   \n1     True            0          1.200           1.100           0.800   \n2     True            0          1.000           1.100           0.800   \n3     True            0          1.400           0.900           1.100   \n4     True            0          1.200           1.300           1.500   \n\n   avg_scoring_30  avg_scoring_5_against  avg_scoring_10_against  \\\n0           1.633                  1.200                   0.900   \n1           1.067                  0.800                   1.000   \n2           0.867                  1.000                   0.700   \n3           1.333                  0.600                   1.200   \n4           1.400                  1.200                   1.200   \n\n   avg_scoring_20_against  avg_scoring_30_against tournament_type  \\\n0                   1.450                   1.533               1   \n1                   1.050                   1.000               1   \n2                   0.850                   0.967               1   \n3                   1.200                   1.200               1   \n4                   1.250                   1.367               1   \n\n       tournament          league      opp_league  location_mean_score_5  \\\n0  Uruguay. First  Uruguay. First  Uruguay. First                  3.000   \n1  Uruguay. First  Uruguay. First  Uruguay. First                  1.200   \n2  Uruguay. First  Uruguay. First  Uruguay. First                  1.000   \n3  Uruguay. First  Uruguay. First  Uruguay. First                  0.800   \n4  Uruguay. First  Uruguay. First  Uruguay. First                  2.000   \n\n   location_mean_score_10  location_mean_score_20  location_mean_score_30  \\\n0                   2.700                   1.950                   1.667   \n1                   1.700                   1.400                   1.400   \n2                   1.000                   1.100                   1.167   \n3                   0.900                   1.100                   1.533   \n4                   1.600                   1.600                   1.500   \n\n   location_median_score_5  location_median_score_10  \\\n0                    2.000                     2.500   \n1                    1.000                     1.500   \n2                    1.000                     1.000   \n3                    1.000                     1.000   \n4                    1.000                     1.500   \n\n   location_median_score_20  location_median_score_30  \\\n0                     1.000                     1.000   \n1                     1.000                     1.000   \n2                     1.000                     1.000   \n3                     1.000                     1.000   \n4                     1.000                     1.000   \n\n   location_mean_score_5_against  location_mean_score_10_against  \\\n0                          1.000                           1.600   \n1                          1.200                           1.600   \n2                          1.200                           1.900   \n3                          0.400                           0.500   \n4                          1.000                           1.500   \n\n   location_mean_score_20_against  location_median_score_10_against  \\\n0                           1.350                             1.500   \n1                           1.300                             2.000   \n2                           1.600                             2.000   \n3                           0.650                             0.000   \n4                           1.450                             2.000   \n\n   location_max_score_10  score  prediction  \n0                  7.000      1       1.649  \n1                  3.000      0       1.167  \n2                  2.000      1       1.095  \n3                  2.000      1       1.292  \n4                  4.000      0       1.420  ",
      "text/html": "<div>\n<style scoped>\n    .dataframe tbody tr th:only-of-type {\n        vertical-align: middle;\n    }\n\n    .dataframe tbody tr th {\n        vertical-align: top;\n    }\n\n    .dataframe thead th {\n        text-align: right;\n    }\n</style>\n<table border=\"1\" class=\"dataframe\">\n  <thead>\n    <tr style=\"text-align: right;\">\n      <th></th>\n      <th>is_home</th>\n      <th>is_pandemic</th>\n      <th>avg_scoring_5</th>\n      <th>avg_scoring_10</th>\n      <th>avg_scoring_20</th>\n      <th>avg_scoring_30</th>\n      <th>avg_scoring_5_against</th>\n      <th>avg_scoring_10_against</th>\n      <th>avg_scoring_20_against</th>\n      <th>avg_scoring_30_against</th>\n      <th>tournament_type</th>\n      <th>tournament</th>\n      <th>league</th>\n      <th>opp_league</th>\n      <th>location_mean_score_5</th>\n      <th>location_mean_score_10</th>\n      <th>location_mean_score_20</th>\n      <th>location_mean_score_30</th>\n      <th>location_median_score_5</th>\n      <th>location_median_score_10</th>\n      <th>location_median_score_20</th>\n      <th>location_median_score_30</th>\n      <th>location_mean_score_5_against</th>\n      <th>location_mean_score_10_against</th>\n      <th>location_mean_score_20_against</th>\n      <th>location_median_score_10_against</th>\n      <th>location_max_score_10</th>\n      <th>score</th>\n      <th>prediction</th>\n    </tr>\n  </thead>\n  <tbody>\n    <tr>\n      <th>0</th>\n      <td>True</td>\n      <td>0</td>\n      <td>2.200</td>\n      <td>1.500</td>\n      <td>1.800</td>\n      <td>1.633</td>\n      <td>1.200</td>\n      <td>0.900</td>\n      <td>1.450</td>\n      <td>1.533</td>\n      <td>1</td>\n      <td>Uruguay. First</td>\n      <td>Uruguay. First</td>\n      <td>Uruguay. First</td>\n      <td>3.000</td>\n      <td>2.700</td>\n      <td>1.950</td>\n      <td>1.667</td>\n      <td>2.000</td>\n      <td>2.500</td>\n      <td>1.000</td>\n      <td>1.000</td>\n      <td>1.000</td>\n      <td>1.600</td>\n      <td>1.350</td>\n      <td>1.500</td>\n      <td>7.000</td>\n      <td>1</td>\n      <td>1.649</td>\n    </tr>\n    <tr>\n      <th>1</th>\n      <td>True</td>\n      <td>0</td>\n      <td>1.200</td>\n      <td>1.100</td>\n      <td>0.800</td>\n      <td>1.067</td>\n      <td>0.800</td>\n      <td>1.000</td>\n      <td>1.050</td>\n      <td>1.000</td>\n      <td>1</td>\n      <td>Uruguay. First</td>\n      <td>Uruguay. First</td>\n      <td>Uruguay. First</td>\n      <td>1.200</td>\n      <td>1.700</td>\n      <td>1.400</td>\n      <td>1.400</td>\n      <td>1.000</td>\n      <td>1.500</td>\n      <td>1.000</td>\n      <td>1.000</td>\n      <td>1.200</td>\n      <td>1.600</td>\n      <td>1.300</td>\n      <td>2.000</td>\n      <td>3.000</td>\n      <td>0</td>\n      <td>1.167</td>\n    </tr>\n    <tr>\n      <th>2</th>\n      <td>True</td>\n      <td>0</td>\n      <td>1.000</td>\n      <td>1.100</td>\n      <td>0.800</td>\n      <td>0.867</td>\n      <td>1.000</td>\n      <td>0.700</td>\n      <td>0.850</td>\n      <td>0.967</td>\n      <td>1</td>\n      <td>Uruguay. First</td>\n      <td>Uruguay. First</td>\n      <td>Uruguay. First</td>\n      <td>1.000</td>\n      <td>1.000</td>\n      <td>1.100</td>\n      <td>1.167</td>\n      <td>1.000</td>\n      <td>1.000</td>\n      <td>1.000</td>\n      <td>1.000</td>\n      <td>1.200</td>\n      <td>1.900</td>\n      <td>1.600</td>\n      <td>2.000</td>\n      <td>2.000</td>\n      <td>1</td>\n      <td>1.095</td>\n    </tr>\n    <tr>\n      <th>3</th>\n      <td>True</td>\n      <td>0</td>\n      <td>1.400</td>\n      <td>0.900</td>\n      <td>1.100</td>\n      <td>1.333</td>\n      <td>0.600</td>\n      <td>1.200</td>\n      <td>1.200</td>\n      <td>1.200</td>\n      <td>1</td>\n      <td>Uruguay. First</td>\n      <td>Uruguay. First</td>\n      <td>Uruguay. First</td>\n      <td>0.800</td>\n      <td>0.900</td>\n      <td>1.100</td>\n      <td>1.533</td>\n      <td>1.000</td>\n      <td>1.000</td>\n      <td>1.000</td>\n      <td>1.000</td>\n      <td>0.400</td>\n      <td>0.500</td>\n      <td>0.650</td>\n      <td>0.000</td>\n      <td>2.000</td>\n      <td>1</td>\n      <td>1.292</td>\n    </tr>\n    <tr>\n      <th>4</th>\n      <td>True</td>\n      <td>0</td>\n      <td>1.200</td>\n      <td>1.300</td>\n      <td>1.500</td>\n      <td>1.400</td>\n      <td>1.200</td>\n      <td>1.200</td>\n      <td>1.250</td>\n      <td>1.367</td>\n      <td>1</td>\n      <td>Uruguay. First</td>\n      <td>Uruguay. First</td>\n      <td>Uruguay. First</td>\n      <td>2.000</td>\n      <td>1.600</td>\n      <td>1.600</td>\n      <td>1.500</td>\n      <td>1.000</td>\n      <td>1.500</td>\n      <td>1.000</td>\n      <td>1.000</td>\n      <td>1.000</td>\n      <td>1.500</td>\n      <td>1.450</td>\n      <td>2.000</td>\n      <td>4.000</td>\n      <td>0</td>\n      <td>1.420</td>\n    </tr>\n  </tbody>\n</table>\n</div>"
     },
     "execution_count": 98,
     "metadata": {},
     "output_type": "execute_result"
    }
   ],
   "source": [
    "validation = OutcomesLGBM().validation()\n",
    "validation.head()"
   ],
   "metadata": {
    "collapsed": false,
    "ExecuteTime": {
     "end_time": "2023-09-23T19:03:23.838409Z",
     "start_time": "2023-09-23T19:03:23.476966Z"
    }
   }
  },
  {
   "cell_type": "code",
   "execution_count": null,
   "outputs": [
    {
     "name": "stderr",
     "output_type": "stream",
     "text": [
      "[I 2023-09-23 16:03:23,864] A new study created in memory with name: no-name-8fcfd4ff-ed1a-4cc2-8c71-a9f2db235947\n"
     ]
    },
    {
     "data": {
      "text/plain": "  0%|          | 0/200 [00:00<?, ?it/s]",
      "application/vnd.jupyter.widget-view+json": {
       "version_major": 2,
       "version_minor": 0,
       "model_id": "4cfdd6781fad4d13a9b9aedd90e64622"
      }
     },
     "metadata": {},
     "output_type": "display_data"
    },
    {
     "name": "stdout",
     "output_type": "stream",
     "text": [
      "[I 2023-09-23 16:04:08,339] Trial 0 finished with value: 0.8800511981808229 and parameters: {'learning_rate': 0.022712999999999997, 'feature_fraction': 0.65, 'num_leaves': 40, 'lambda_l1': 2.83243, 'lambda_l2': 2.26221, 'bagging_fraction': 0.9299999999999999, 'bagging_freq': 128}. Best is trial 0 with value: 0.8800511981808229.\n",
      "[I 2023-09-23 16:04:44,251] Trial 1 finished with value: 0.8801123071219513 and parameters: {'learning_rate': 0.027017, 'feature_fraction': 0.794, 'num_leaves': 33, 'lambda_l1': 2.1945500000000004, 'lambda_l2': 3.4118000000000004, 'bagging_fraction': 0.822, 'bagging_freq': 112}. Best is trial 0 with value: 0.8800511981808229.\n",
      "[I 2023-09-23 16:05:39,720] Trial 2 finished with value: 0.8797074333989379 and parameters: {'learning_rate': 0.014926, 'feature_fraction': 0.722, 'num_leaves': 26, 'lambda_l1': 1.44441, 'lambda_l2': 4.27483, 'bagging_fraction': 0.786, 'bagging_freq': 76}. Best is trial 2 with value: 0.8797074333989379.\n",
      "[I 2023-09-23 16:06:16,303] Trial 3 finished with value: 0.8803758747166487 and parameters: {'learning_rate': 0.030902, 'feature_fraction': 0.866, 'num_leaves': 45, 'lambda_l1': 3.1875, 'lambda_l2': 1.49505, 'bagging_fraction': 0.894, 'bagging_freq': 128}. Best is trial 2 with value: 0.8797074333989379.\n",
      "[I 2023-09-23 16:07:07,714] Trial 4 finished with value: 0.880252745982166 and parameters: {'learning_rate': 0.019979999999999998, 'feature_fraction': 0.758, 'num_leaves': 41, 'lambda_l1': 2.39291, 'lambda_l2': 3.7407600000000003, 'bagging_fraction': 0.822, 'bagging_freq': 148}. Best is trial 2 with value: 0.8797074333989379.\n",
      "[I 2023-09-23 16:07:43,411] Trial 5 finished with value: 0.8804641905886745 and parameters: {'learning_rate': 0.032449, 'feature_fraction': 0.758, 'num_leaves': 57, 'lambda_l1': 2.90015, 'lambda_l2': 3.46241, 'bagging_fraction': 0.9299999999999999, 'bagging_freq': 164}. Best is trial 2 with value: 0.8797074333989379.\n",
      "[I 2023-09-23 16:08:21,660] Trial 6 finished with value: 0.8803667718312084 and parameters: {'learning_rate': 0.027359, 'feature_fraction': 0.866, 'num_leaves': 40, 'lambda_l1': 2.7362, 'lambda_l2': 1.19425, 'bagging_fraction': 0.75, 'bagging_freq': 190}. Best is trial 2 with value: 0.8797074333989379.\n",
      "[I 2023-09-23 16:09:15,777] Trial 7 finished with value: 0.8802717639849543 and parameters: {'learning_rate': 0.017775, 'feature_fraction': 0.794, 'num_leaves': 46, 'lambda_l1': 3.2858300000000003, 'lambda_l2': 2.6788, 'bagging_fraction': 0.75, 'bagging_freq': 114}. Best is trial 2 with value: 0.8797074333989379.\n",
      "[I 2023-09-23 16:09:47,753] Trial 8 finished with value: 0.8804550512949364 and parameters: {'learning_rate': 0.032362999999999996, 'feature_fraction': 0.794, 'num_leaves': 43, 'lambda_l1': 1.00987, 'lambda_l2': 1.76301, 'bagging_fraction': 0.786, 'bagging_freq': 168}. Best is trial 2 with value: 0.8797074333989379.\n",
      "[I 2023-09-23 16:10:33,829] Trial 9 finished with value: 0.8799110539739669 and parameters: {'learning_rate': 0.019512, 'feature_fraction': 0.758, 'num_leaves': 27, 'lambda_l1': 3.4421100000000004, 'lambda_l2': 4.79368, 'bagging_fraction': 0.75, 'bagging_freq': 104}. Best is trial 2 with value: 0.8797074333989379.\n",
      "[I 2023-09-23 16:12:02,821] Trial 10 finished with value: 0.8794367715391239 and parameters: {'learning_rate': 0.010463, 'feature_fraction': 0.65, 'num_leaves': 20, 'lambda_l1': 1.00055, 'lambda_l2': 4.902290000000001, 'bagging_fraction': 0.822, 'bagging_freq': 30}. Best is trial 10 with value: 0.8794367715391239.\n",
      "[I 2023-09-23 16:13:20,625] Trial 11 finished with value: 0.8794452688970171 and parameters: {'learning_rate': 0.011369, 'feature_fraction': 0.65, 'num_leaves': 22, 'lambda_l1': 0.88992, 'lambda_l2': 4.99943, 'bagging_fraction': 0.858, 'bagging_freq': 38}. Best is trial 10 with value: 0.8794367715391239.\n",
      "[I 2023-09-23 16:15:01,747] Trial 12 finished with value: 0.8793993854254522 and parameters: {'learning_rate': 0.010678, 'feature_fraction': 0.65, 'num_leaves': 20, 'lambda_l1': 0.5133, 'lambda_l2': 4.945410000000001, 'bagging_fraction': 0.858, 'bagging_freq': 4}. Best is trial 12 with value: 0.8793993854254522.\n",
      "[I 2023-09-23 16:15:30,225] Trial 13 finished with value: 0.8794753396466762 and parameters: {'learning_rate': 0.039049, 'feature_fraction': 0.686, 'num_leaves': 21, 'lambda_l1': 0.62148, 'lambda_l2': 4.25579, 'bagging_fraction': 0.858, 'bagging_freq': 6}. Best is trial 12 with value: 0.8793993854254522.\n",
      "[I 2023-09-23 16:17:04,081] Trial 14 finished with value: 0.8795747166490965 and parameters: {'learning_rate': 0.011463000000000001, 'feature_fraction': 0.686, 'num_leaves': 30, 'lambda_l1': 1.6056300000000001, 'lambda_l2': 4.35191, 'bagging_fraction': 0.894, 'bagging_freq': 6}. Best is trial 12 with value: 0.8793993854254522.\n",
      "[I 2023-09-23 16:18:09,744] Trial 15 finished with value: 0.8798941205888138 and parameters: {'learning_rate': 0.015209, 'feature_fraction': 0.686, 'num_leaves': 34, 'lambda_l1': 3.9656700000000003, 'lambda_l2': 4.64843, 'bagging_fraction': 0.966, 'bagging_freq': 56}. Best is trial 12 with value: 0.8793993854254522.\n",
      "[I 2023-09-23 16:19:44,411] Trial 16 finished with value: 0.8794456659737587 and parameters: {'learning_rate': 0.010345, 'feature_fraction': 0.65, 'num_leaves': 20, 'lambda_l1': 0.51341, 'lambda_l2': 3.8752500000000003, 'bagging_fraction': 0.822, 'bagging_freq': 32}. Best is trial 12 with value: 0.8793993854254522.\n",
      "[I 2023-09-23 16:21:02,463] Trial 17 finished with value: 0.88014926492648 and parameters: {'learning_rate': 0.014297, 'feature_fraction': 0.722, 'num_leaves': 52, 'lambda_l1': 1.46095, 'lambda_l2': 2.7814, 'bagging_fraction': 0.894, 'bagging_freq': 74}. Best is trial 12 with value: 0.8793993854254522.\n",
      "[I 2023-09-23 16:21:44,706] Trial 18 finished with value: 0.879641381654761 and parameters: {'learning_rate': 0.023843, 'feature_fraction': 0.65, 'num_leaves': 26, 'lambda_l1': 1.89155, 'lambda_l2': 4.5848, 'bagging_fraction': 0.786, 'bagging_freq': 32}. Best is trial 12 with value: 0.8793993854254522.\n",
      "[I 2023-09-23 16:22:51,660] Trial 19 finished with value: 0.8796667834043618 and parameters: {'learning_rate': 0.016663999999999998, 'feature_fraction': 0.722, 'num_leaves': 34, 'lambda_l1': 1.07535, 'lambda_l2': 3.94817, 'bagging_fraction': 0.858, 'bagging_freq': 4}. Best is trial 12 with value: 0.8793993854254522.\n",
      "[I 2023-09-23 16:23:58,260] Trial 20 finished with value: 0.8796154246592147 and parameters: {'learning_rate': 0.013111000000000001, 'feature_fraction': 0.686, 'num_leaves': 23, 'lambda_l1': 1.13022, 'lambda_l2': 3.23773, 'bagging_fraction': 0.822, 'bagging_freq': 80}. Best is trial 12 with value: 0.8793993854254522.\n",
      "[I 2023-09-23 16:25:40,944] Trial 21 finished with value: 0.8794232845391136 and parameters: {'learning_rate': 0.010075, 'feature_fraction': 0.65, 'num_leaves': 20, 'lambda_l1': 0.7829200000000001, 'lambda_l2': 4.9503200000000005, 'bagging_fraction': 0.858, 'bagging_freq': 34}. Best is trial 12 with value: 0.8793993854254522.\n",
      "[I 2023-09-23 16:27:18,639] Trial 22 finished with value: 0.8795761148636593 and parameters: {'learning_rate': 0.010773, 'feature_fraction': 0.65, 'num_leaves': 29, 'lambda_l1': 0.74051, 'lambda_l2': 4.87425, 'bagging_fraction': 0.858, 'bagging_freq': 52}. Best is trial 12 with value: 0.8793993854254522.\n",
      "[I 2023-09-23 16:28:33,935] Trial 23 finished with value: 0.8795271861540236 and parameters: {'learning_rate': 0.012672, 'feature_fraction': 0.686, 'num_leaves': 24, 'lambda_l1': 1.22077, 'lambda_l2': 4.477830000000001, 'bagging_fraction': 0.858, 'bagging_freq': 24}. Best is trial 12 with value: 0.8793993854254522.\n",
      "[I 2023-09-23 16:29:37,304] Trial 24 finished with value: 0.8796829672230171 and parameters: {'learning_rate': 0.017419, 'feature_fraction': 0.65, 'num_leaves': 30, 'lambda_l1': 0.5541, 'lambda_l2': 4.95557, 'bagging_fraction': 0.894, 'bagging_freq': 52}. Best is trial 12 with value: 0.8793993854254522.\n",
      "[I 2023-09-23 16:31:16,421] Trial 25 finished with value: 0.8794178935134439 and parameters: {'learning_rate': 0.010077000000000001, 'feature_fraction': 0.722, 'num_leaves': 21, 'lambda_l1': 1.80013, 'lambda_l2': 3.9863000000000004, 'bagging_fraction': 0.822, 'bagging_freq': 22}. Best is trial 12 with value: 0.8793993854254522.\n",
      "[I 2023-09-23 16:32:08,157] Trial 26 finished with value: 0.879571995567466 and parameters: {'learning_rate': 0.02063, 'feature_fraction': 0.722, 'num_leaves': 24, 'lambda_l1': 1.9838500000000001, 'lambda_l2': 4.03224, 'bagging_fraction': 0.9299999999999999, 'bagging_freq': 14}. Best is trial 12 with value: 0.8793993854254522.\n",
      "[I 2023-09-23 16:33:18,402] Trial 27 finished with value: 0.8798053861231052 and parameters: {'learning_rate': 0.013291, 'feature_fraction': 0.8300000000000001, 'num_leaves': 36, 'lambda_l1': 1.7824000000000002, 'lambda_l2': 3.6632800000000003, 'bagging_fraction': 0.786, 'bagging_freq': 20}. Best is trial 12 with value: 0.8793993854254522.\n",
      "[I 2023-09-23 16:33:45,374] Trial 28 finished with value: 0.8797933451352072 and parameters: {'learning_rate': 0.039973, 'feature_fraction': 0.686, 'num_leaves': 28, 'lambda_l1': 1.37036, 'lambda_l2': 4.12205, 'bagging_fraction': 0.858, 'bagging_freq': 44}. Best is trial 12 with value: 0.8793993854254522.\n",
      "[I 2023-09-23 16:34:33,543] Trial 29 finished with value: 0.8798885095014882 and parameters: {'learning_rate': 0.022079, 'feature_fraction': 0.722, 'num_leaves': 37, 'lambda_l1': 0.80246, 'lambda_l2': 2.32752, 'bagging_fraction': 0.894, 'bagging_freq': 58}. Best is trial 12 with value: 0.8793993854254522.\n",
      "[I 2023-09-23 16:35:47,709] Trial 30 finished with value: 0.8801583403419334 and parameters: {'learning_rate': 0.016376, 'feature_fraction': 0.686, 'num_leaves': 50, 'lambda_l1': 2.4379, 'lambda_l2': 4.468070000000001, 'bagging_fraction': 0.966, 'bagging_freq': 68}. Best is trial 12 with value: 0.8793993854254522.\n",
      "[I 2023-09-23 16:37:27,018] Trial 31 finished with value: 0.8794318806429954 and parameters: {'learning_rate': 0.010328, 'feature_fraction': 0.65, 'num_leaves': 20, 'lambda_l1': 0.90337, 'lambda_l2': 4.695030000000001, 'bagging_fraction': 0.822, 'bagging_freq': 20}. Best is trial 12 with value: 0.8793993854254522.\n",
      "[I 2023-09-23 16:38:44,484] Trial 32 finished with value: 0.8795012344747845 and parameters: {'learning_rate': 0.012546999999999999, 'feature_fraction': 0.65, 'num_leaves': 24, 'lambda_l1': 0.7792300000000001, 'lambda_l2': 4.71872, 'bagging_fraction': 0.822, 'bagging_freq': 14}. Best is trial 12 with value: 0.8793993854254522.\n",
      "[I 2023-09-23 16:40:06,682] Trial 33 finished with value: 0.8793986155236473 and parameters: {'learning_rate': 0.01454, 'feature_fraction': 0.65, 'num_leaves': 20, 'lambda_l1': 1.27367, 'lambda_l2': 4.62393, 'bagging_fraction': 0.786, 'bagging_freq': 2}. Best is trial 33 with value: 0.8793986155236473.\n",
      "[I 2023-09-23 16:41:20,317] Trial 34 finished with value: 0.8794232355163376 and parameters: {'learning_rate': 0.014558999999999999, 'feature_fraction': 0.686, 'num_leaves': 25, 'lambda_l1': 1.6465400000000001, 'lambda_l2': 4.24085, 'bagging_fraction': 0.786, 'bagging_freq': 4}. Best is trial 33 with value: 0.8793986155236473.\n",
      "[I 2023-09-23 16:42:32,882] Trial 35 finished with value: 0.8794892287822029 and parameters: {'learning_rate': 0.015043, 'feature_fraction': 0.686, 'num_leaves': 26, 'lambda_l1': 2.11733, 'lambda_l2': 4.22057, 'bagging_fraction': 0.786, 'bagging_freq': 2}. Best is trial 33 with value: 0.8793986155236473.\n",
      "[I 2023-09-23 16:43:38,886] Trial 36 finished with value: 0.879641544877363 and parameters: {'learning_rate': 0.013954000000000001, 'feature_fraction': 0.722, 'num_leaves': 23, 'lambda_l1': 1.68849, 'lambda_l2': 3.30965, 'bagging_fraction': 0.786, 'bagging_freq': 88}. Best is trial 33 with value: 0.8793986155236473.\n",
      "[I 2023-09-23 16:44:20,102] Trial 37 finished with value: 0.8796878020291287 and parameters: {'learning_rate': 0.026410999999999997, 'feature_fraction': 0.722, 'num_leaves': 32, 'lambda_l1': 1.31649, 'lambda_l2': 3.6607800000000004, 'bagging_fraction': 0.75, 'bagging_freq': 14}. Best is trial 33 with value: 0.8793986155236473.\n",
      "[I 2023-09-23 16:45:16,128] Trial 38 finished with value: 0.8796638193564467 and parameters: {'learning_rate': 0.019038, 'feature_fraction': 0.686, 'num_leaves': 26, 'lambda_l1': 2.35984, 'lambda_l2': 3.03221, 'bagging_fraction': 0.786, 'bagging_freq': 42}. Best is trial 33 with value: 0.8793986155236473.\n",
      "[I 2023-09-23 16:46:19,930] Trial 39 finished with value: 0.8797598106959503 and parameters: {'learning_rate': 0.015493, 'feature_fraction': 0.758, 'num_leaves': 23, 'lambda_l1': 1.53108, 'lambda_l2': 4.32879, 'bagging_fraction': 0.822, 'bagging_freq': 130}. Best is trial 33 with value: 0.8793986155236473.\n",
      "[I 2023-09-23 16:47:22,985] Trial 40 finished with value: 0.879496214293388 and parameters: {'learning_rate': 0.018351, 'feature_fraction': 0.686, 'num_leaves': 31, 'lambda_l1': 2.0748, 'lambda_l2': 3.8637300000000003, 'bagging_fraction': 0.75, 'bagging_freq': 2}. Best is trial 33 with value: 0.8793986155236473.\n",
      "[I 2023-09-23 16:48:44,253] Trial 41 finished with value: 0.8794670856202224 and parameters: {'learning_rate': 0.01206, 'feature_fraction': 0.65, 'num_leaves': 20, 'lambda_l1': 1.28865, 'lambda_l2': 4.50408, 'bagging_fraction': 0.822, 'bagging_freq': 20}. Best is trial 33 with value: 0.8793986155236473.\n",
      "[I 2023-09-23 16:50:22,339] Trial 42 finished with value: 0.8794694151011168 and parameters: {'learning_rate': 0.010039000000000001, 'feature_fraction': 0.65, 'num_leaves': 22, 'lambda_l1': 1.82684, 'lambda_l2': 4.742990000000001, 'bagging_fraction': 0.786, 'bagging_freq': 28}. Best is trial 33 with value: 0.8793986155236473.\n",
      "[I 2023-09-23 16:51:41,055] Trial 43 finished with value: 0.8795552920149056 and parameters: {'learning_rate': 0.013909000000000001, 'feature_fraction': 0.65, 'num_leaves': 27, 'lambda_l1': 1.15468, 'lambda_l2': 4.98668, 'bagging_fraction': 0.858, 'bagging_freq': 12}. Best is trial 33 with value: 0.8793986155236473.\n",
      "[I 2023-09-23 16:53:09,577] Trial 44 finished with value: 0.8794827215592015 and parameters: {'learning_rate': 0.012091000000000001, 'feature_fraction': 0.65, 'num_leaves': 25, 'lambda_l1': 0.70386, 'lambda_l2': 4.115310000000001, 'bagging_fraction': 0.822, 'bagging_freq': 40}. Best is trial 33 with value: 0.8793986155236473.\n",
      "[I 2023-09-23 16:53:45,668] Trial 45 finished with value: 0.8795459237916711 and parameters: {'learning_rate': 0.028866999999999997, 'feature_fraction': 0.686, 'num_leaves': 22, 'lambda_l1': 2.59905, 'lambda_l2': 4.40428, 'bagging_fraction': 0.858, 'bagging_freq': 12}. Best is trial 33 with value: 0.8793986155236473.\n",
      "[I 2023-09-23 16:54:13,952] Trial 46 finished with value: 0.8796008637497718 and parameters: {'learning_rate': 0.036343, 'feature_fraction': 0.686, 'num_leaves': 20, 'lambda_l1': 0.94208, 'lambda_l2': 4.60131, 'bagging_fraction': 0.786, 'bagging_freq': 26}. Best is trial 33 with value: 0.8793986155236473.\n",
      "[I 2023-09-23 16:54:58,016] Trial 47 finished with value: 0.8796686265492241 and parameters: {'learning_rate': 0.021157000000000002, 'feature_fraction': 0.65, 'num_leaves': 22, 'lambda_l1': 1.69316, 'lambda_l2': 4.80175, 'bagging_fraction': 0.75, 'bagging_freq': 36}. Best is trial 33 with value: 0.8793986155236473.\n",
      "[I 2023-09-23 16:56:15,899] Trial 48 finished with value: 0.8799247923099237 and parameters: {'learning_rate': 0.016234, 'feature_fraction': 0.722, 'num_leaves': 58, 'lambda_l1': 1.5090100000000002, 'lambda_l2': 1.94561, 'bagging_fraction': 0.822, 'bagging_freq': 2}. Best is trial 33 with value: 0.8793986155236473.\n",
      "[I 2023-09-23 16:57:35,982] Trial 49 finished with value: 0.8797810218119864 and parameters: {'learning_rate': 0.011576, 'feature_fraction': 0.758, 'num_leaves': 25, 'lambda_l1': 2.2147200000000002, 'lambda_l2': 3.49039, 'bagging_fraction': 0.786, 'bagging_freq': 182}. Best is trial 33 with value: 0.8793986155236473.\n",
      "[I 2023-09-23 16:58:45,862] Trial 50 finished with value: 0.8797971069413061 and parameters: {'learning_rate': 0.014564, 'feature_fraction': 0.794, 'num_leaves': 28, 'lambda_l1': 0.6204500000000001, 'lambda_l2': 4.180110000000001, 'bagging_fraction': 0.9299999999999999, 'bagging_freq': 140}. Best is trial 33 with value: 0.8793986155236473.\n",
      "[I 2023-09-23 17:00:22,306] Trial 51 finished with value: 0.8794242949945955 and parameters: {'learning_rate': 0.011129, 'feature_fraction': 0.65, 'num_leaves': 20, 'lambda_l1': 0.9909000000000001, 'lambda_l2': 4.68984, 'bagging_fraction': 0.822, 'bagging_freq': 20}. Best is trial 33 with value: 0.8793986155236473.\n",
      "[I 2023-09-23 17:02:00,927] Trial 52 finished with value: 0.8793983023030215 and parameters: {'learning_rate': 0.011456000000000001, 'feature_fraction': 0.65, 'num_leaves': 21, 'lambda_l1': 1.01897, 'lambda_l2': 4.80119, 'bagging_fraction': 0.822, 'bagging_freq': 10}. Best is trial 52 with value: 0.8793983023030215.\n",
      "[I 2023-09-23 17:03:26,772] Trial 53 finished with value: 0.8794569842513877 and parameters: {'learning_rate': 0.012921, 'feature_fraction': 0.65, 'num_leaves': 22, 'lambda_l1': 1.41788, 'lambda_l2': 4.37439, 'bagging_fraction': 0.858, 'bagging_freq': 8}. Best is trial 52 with value: 0.8793983023030215.\n",
      "[I 2023-09-23 17:04:55,608] Trial 54 finished with value: 0.8794820866270064 and parameters: {'learning_rate': 0.011574000000000001, 'feature_fraction': 0.65, 'num_leaves': 22, 'lambda_l1': 1.09415, 'lambda_l2': 4.8774, 'bagging_fraction': 0.894, 'bagging_freq': 30}. Best is trial 52 with value: 0.8793983023030215.\n",
      "[I 2023-09-23 17:06:33,658] Trial 55 finished with value: 0.8794687566701263 and parameters: {'learning_rate': 0.010013000000000001, 'feature_fraction': 0.758, 'num_leaves': 21, 'lambda_l1': 1.21483, 'lambda_l2': 4.59094, 'bagging_fraction': 0.822, 'bagging_freq': 46}. Best is trial 52 with value: 0.8793983023030215.\n",
      "[I 2023-09-23 17:07:45,236] Trial 56 finished with value: 0.8795060470379772 and parameters: {'learning_rate': 0.013817, 'feature_fraction': 0.686, 'num_leaves': 24, 'lambda_l1': 1.61745, 'lambda_l2': 1.2873, 'bagging_fraction': 0.858, 'bagging_freq': 10}. Best is trial 52 with value: 0.8793983023030215.\n",
      "[I 2023-09-23 17:08:49,943] Trial 57 finished with value: 0.880079531028156 and parameters: {'learning_rate': 0.017495, 'feature_fraction': 0.65, 'num_leaves': 42, 'lambda_l1': 0.51634, 'lambda_l2': 4.84475, 'bagging_fraction': 0.822, 'bagging_freq': 98}. Best is trial 52 with value: 0.8793983023030215.\n",
      "[I 2023-09-23 17:09:58,921] Trial 58 finished with value: 0.8798520870194079 and parameters: {'learning_rate': 0.015543, 'feature_fraction': 0.686, 'num_leaves': 47, 'lambda_l1': 0.81506, 'lambda_l2': 4.97749, 'bagging_fraction': 0.786, 'bagging_freq': 20}. Best is trial 52 with value: 0.8793983023030215.\n",
      "[I 2023-09-23 17:11:12,109] Trial 59 finished with value: 0.8794634452285185 and parameters: {'learning_rate': 0.012474, 'feature_fraction': 0.686, 'num_leaves': 21, 'lambda_l1': 0.70138, 'lambda_l2': 4.532400000000001, 'bagging_fraction': 0.858, 'bagging_freq': 34}. Best is trial 52 with value: 0.8793983023030215.\n",
      "[I 2023-09-23 17:12:45,876] Trial 60 finished with value: 0.8802663312783371 and parameters: {'learning_rate': 0.011187, 'feature_fraction': 0.866, 'num_leaves': 55, 'lambda_l1': 1.9495300000000002, 'lambda_l2': 4.01463, 'bagging_fraction': 0.894, 'bagging_freq': 64}. Best is trial 52 with value: 0.8793983023030215.\n",
      "[I 2023-09-23 17:14:20,635] Trial 61 finished with value: 0.8794161698943898 and parameters: {'learning_rate': 0.010794, 'feature_fraction': 0.65, 'num_leaves': 20, 'lambda_l1': 1.04902, 'lambda_l2': 4.695640000000001, 'bagging_fraction': 0.822, 'bagging_freq': 20}. Best is trial 52 with value: 0.8793983023030215.\n",
      "[I 2023-09-23 17:15:57,012] Trial 62 finished with value: 0.8794588639905455 and parameters: {'learning_rate': 0.01088, 'feature_fraction': 0.65, 'num_leaves': 25, 'lambda_l1': 1.03403, 'lambda_l2': 4.30222, 'bagging_fraction': 0.822, 'bagging_freq': 8}. Best is trial 52 with value: 0.8793983023030215.\n",
      "[I 2023-09-23 17:17:15,363] Trial 63 finished with value: 0.879499815332967 and parameters: {'learning_rate': 0.013347, 'feature_fraction': 0.65, 'num_leaves': 21, 'lambda_l1': 0.86199, 'lambda_l2': 4.70219, 'bagging_fraction': 0.786, 'bagging_freq': 26}. Best is trial 52 with value: 0.8793983023030215.\n",
      "[I 2023-09-23 17:18:37,630] Trial 64 finished with value: 0.8794911639002106 and parameters: {'learning_rate': 0.012482, 'feature_fraction': 0.65, 'num_leaves': 23, 'lambda_l1': 3.83808, 'lambda_l2': 4.79274, 'bagging_fraction': 0.822, 'bagging_freq': 16}. Best is trial 52 with value: 0.8793983023030215.\n",
      "[I 2023-09-23 17:19:48,995] Trial 65 finished with value: 0.8794467860353697 and parameters: {'learning_rate': 0.014482, 'feature_fraction': 0.65, 'num_leaves': 20, 'lambda_l1': 1.2551, 'lambda_l2': 4.52742, 'bagging_fraction': 0.858, 'bagging_freq': 8}. Best is trial 52 with value: 0.8793983023030215.\n",
      "[I 2023-09-23 17:21:13,976] Trial 66 finished with value: 0.8798226530619521 and parameters: {'learning_rate': 0.010885, 'feature_fraction': 0.8300000000000001, 'num_leaves': 39, 'lambda_l1': 0.61387, 'lambda_l2': 3.8582, 'bagging_fraction': 0.786, 'bagging_freq': 24}. Best is trial 52 with value: 0.8793983023030215.\n",
      "[I 2023-09-23 17:22:41,990] Trial 67 finished with value: 0.8796078647158782 and parameters: {'learning_rate': 0.011654, 'feature_fraction': 0.686, 'num_leaves': 28, 'lambda_l1': 1.37776, 'lambda_l2': 4.856260000000001, 'bagging_fraction': 0.75, 'bagging_freq': 48}. Best is trial 52 with value: 0.8793983023030215.\n",
      "[I 2023-09-23 17:23:30,302] Trial 68 finished with value: 0.8794701258201174 and parameters: {'learning_rate': 0.023333, 'feature_fraction': 0.65, 'num_leaves': 24, 'lambda_l1': 0.9419900000000001, 'lambda_l2': 4.42187, 'bagging_fraction': 0.822, 'bagging_freq': 2}. Best is trial 52 with value: 0.8793983023030215.\n",
      "[I 2023-09-23 17:25:12,216] Trial 69 finished with value: 0.8794388708801528 and parameters: {'learning_rate': 0.010102, 'feature_fraction': 0.722, 'num_leaves': 23, 'lambda_l1': 1.5656, 'lambda_l2': 4.250970000000001, 'bagging_fraction': 0.858, 'bagging_freq': 16}. Best is trial 52 with value: 0.8793983023030215.\n",
      "[I 2023-09-23 17:26:24,780] Trial 70 finished with value: 0.8794491473018472 and parameters: {'learning_rate': 0.013289, 'feature_fraction': 0.65, 'num_leaves': 21, 'lambda_l1': 1.1619000000000002, 'lambda_l2': 4.998100000000001, 'bagging_fraction': 0.786, 'bagging_freq': 36}. Best is trial 52 with value: 0.8793983023030215.\n",
      "[I 2023-09-23 17:31:11,254] Trial 71 finished with value: 0.8794324281761895 and parameters: {'learning_rate': 0.010837, 'feature_fraction': 0.65, 'num_leaves': 20, 'lambda_l1': 0.98624, 'lambda_l2': 4.6929, 'bagging_fraction': 0.822, 'bagging_freq': 18}. Best is trial 52 with value: 0.8793983023030215.\n",
      "[I 2023-09-23 17:32:31,785] Trial 72 finished with value: 0.8794287669971322 and parameters: {'learning_rate': 0.011832, 'feature_fraction': 0.65, 'num_leaves': 21, 'lambda_l1': 1.0829300000000002, 'lambda_l2': 4.632300000000001, 'bagging_fraction': 0.822, 'bagging_freq': 22}. Best is trial 52 with value: 0.8793983023030215.\n",
      "[I 2023-09-23 17:33:58,655] Trial 73 finished with value: 0.8793878855559262 and parameters: {'learning_rate': 0.011107, 'feature_fraction': 0.65, 'num_leaves': 20, 'lambda_l1': 0.8616, 'lambda_l2': 4.777100000000001, 'bagging_fraction': 0.822, 'bagging_freq': 10}. Best is trial 73 with value: 0.8793878855559262.\n",
      "[I 2023-09-23 17:35:02,625] Trial 74 finished with value: 0.879533683507042 and parameters: {'learning_rate': 0.015812, 'feature_fraction': 0.686, 'num_leaves': 26, 'lambda_l1': 0.6532, 'lambda_l2': 4.868970000000001, 'bagging_fraction': 0.858, 'bagging_freq': 8}. Best is trial 73 with value: 0.8793878855559262.\n",
      "[I 2023-09-23 17:36:15,761] Trial 75 finished with value: 0.8795063314315058 and parameters: {'learning_rate': 0.013181, 'feature_fraction': 0.65, 'num_leaves': 23, 'lambda_l1': 0.79074, 'lambda_l2': 4.46288, 'bagging_fraction': 0.786, 'bagging_freq': 28}. Best is trial 73 with value: 0.8793878855559262.\n",
      "[I 2023-09-23 17:37:22,237] Trial 76 finished with value: 0.8795360486552383 and parameters: {'learning_rate': 0.016881, 'feature_fraction': 0.65, 'num_leaves': 25, 'lambda_l1': 2.9861500000000003, 'lambda_l2': 4.583970000000001, 'bagging_fraction': 0.822, 'bagging_freq': 12}. Best is trial 73 with value: 0.8793878855559262.\n",
      "[I 2023-09-23 17:38:24,644] Trial 77 finished with value: 0.8795952062016186 and parameters: {'learning_rate': 0.014799, 'feature_fraction': 0.686, 'num_leaves': 21, 'lambda_l1': 0.89792, 'lambda_l2': 4.760730000000001, 'bagging_fraction': 0.858, 'bagging_freq': 114}. Best is trial 73 with value: 0.8793878855559262.\n",
      "[I 2023-09-23 17:39:52,833] Trial 78 finished with value: 0.8793949120036596 and parameters: {'learning_rate': 0.012358000000000001, 'feature_fraction': 0.686, 'num_leaves': 22, 'lambda_l1': 1.72198, 'lambda_l2': 4.9013800000000005, 'bagging_fraction': 0.786, 'bagging_freq': 2}. Best is trial 73 with value: 0.8793878855559262.\n",
      "[I 2023-09-23 17:41:23,952] Trial 79 finished with value: 0.879487332256911 and parameters: {'learning_rate': 0.012299000000000001, 'feature_fraction': 0.686, 'num_leaves': 27, 'lambda_l1': 1.7675, 'lambda_l2': 4.08872, 'bagging_fraction': 0.786, 'bagging_freq': 2}. Best is trial 73 with value: 0.8793878855559262.\n",
      "[I 2023-09-23 17:42:37,794] Trial 80 finished with value: 0.8794320935114811 and parameters: {'learning_rate': 0.013984, 'feature_fraction': 0.722, 'num_leaves': 24, 'lambda_l1': 1.4431, 'lambda_l2': 2.73078, 'bagging_fraction': 0.75, 'bagging_freq': 8}. Best is trial 73 with value: 0.8793878855559262.\n",
      "[I 2023-09-23 17:44:18,054] Trial 81 finished with value: 0.8793849110082897 and parameters: {'learning_rate': 0.010002, 'feature_fraction': 0.722, 'num_leaves': 20, 'lambda_l1': 1.29203, 'lambda_l2': 4.89848, 'bagging_fraction': 0.822, 'bagging_freq': 12}. Best is trial 81 with value: 0.8793849110082897.\n",
      "[I 2023-09-23 17:45:45,033] Trial 82 finished with value: 0.8794258399516096 and parameters: {'learning_rate': 0.010788, 'feature_fraction': 0.722, 'num_leaves': 22, 'lambda_l1': 1.32009, 'lambda_l2': 4.88086, 'bagging_fraction': 0.786, 'bagging_freq': 14}. Best is trial 81 with value: 0.8793849110082897.\n",
      "[I 2023-09-23 17:47:08,524] Trial 83 finished with value: 0.8794297068233137 and parameters: {'learning_rate': 0.012013, 'feature_fraction': 0.758, 'num_leaves': 20, 'lambda_l1': 1.8650000000000002, 'lambda_l2': 4.771280000000001, 'bagging_fraction': 0.822, 'bagging_freq': 6}. Best is trial 81 with value: 0.8793849110082897.\n",
      "[I 2023-09-23 17:48:26,252] Trial 84 finished with value: 0.8795000949857359 and parameters: {'learning_rate': 0.012747, 'feature_fraction': 0.686, 'num_leaves': 23, 'lambda_l1': 1.6073700000000002, 'lambda_l2': 4.60275, 'bagging_fraction': 0.822, 'bagging_freq': 16}. Best is trial 81 with value: 0.8793849110082897.\n",
      "[I 2023-09-23 17:48:57,634] Trial 85 finished with value: 0.8796680131340825 and parameters: {'learning_rate': 0.033250999999999996, 'feature_fraction': 0.722, 'num_leaves': 22, 'lambda_l1': 2.05493, 'lambda_l2': 4.915850000000001, 'bagging_fraction': 0.786, 'bagging_freq': 24}. Best is trial 81 with value: 0.8793849110082897.\n",
      "[I 2023-09-23 17:52:58,181] Trial 86 finished with value: 0.8794356709341518 and parameters: {'learning_rate': 0.011306, 'feature_fraction': 0.722, 'num_leaves': 21, 'lambda_l1': 1.17088, 'lambda_l2': 4.35764, 'bagging_fraction': 0.822, 'bagging_freq': 6}. Best is trial 81 with value: 0.8793849110082897.\n",
      "[I 2023-09-23 17:54:40,297] Trial 87 finished with value: 0.8794030908384473 and parameters: {'learning_rate': 0.010074, 'feature_fraction': 0.686, 'num_leaves': 23, 'lambda_l1': 1.70737, 'lambda_l2': 4.45448, 'bagging_fraction': 0.786, 'bagging_freq': 2}. Best is trial 81 with value: 0.8793849110082897.\n",
      "[I 2023-09-23 17:56:12,423] Trial 88 finished with value: 0.8793878945810931 and parameters: {'learning_rate': 0.010035, 'feature_fraction': 0.686, 'num_leaves': 20, 'lambda_l1': 1.4829, 'lambda_l2': 3.0229600000000003, 'bagging_fraction': 0.786, 'bagging_freq': 12}. Best is trial 81 with value: 0.8793849110082897.\n",
      "[I 2023-09-23 17:57:37,067] Trial 89 finished with value: 0.8796774087447895 and parameters: {'learning_rate': 0.010007, 'feature_fraction': 0.686, 'num_leaves': 20, 'lambda_l1': 1.48801, 'lambda_l2': 3.06497, 'bagging_fraction': 0.75, 'bagging_freq': 154}. Best is trial 81 with value: 0.8793849110082897.\n",
      "[I 2023-09-23 17:58:20,577] Trial 90 finished with value: 0.8795946366775381 and parameters: {'learning_rate': 0.024960999999999997, 'feature_fraction': 0.686, 'num_leaves': 24, 'lambda_l1': 1.3354400000000002, 'lambda_l2': 2.4205, 'bagging_fraction': 0.786, 'bagging_freq': 12}. Best is trial 81 with value: 0.8793849110082897.\n",
      "[I 2023-09-23 18:00:13,808] Trial 91 finished with value: 0.8793932652534946 and parameters: {'learning_rate': 0.010733, 'feature_fraction': 0.65, 'num_leaves': 23, 'lambda_l1': 1.25482, 'lambda_l2': 4.79356, 'bagging_fraction': 0.786, 'bagging_freq': 2}. Best is trial 81 with value: 0.8793849110082897.\n",
      "[I 2023-09-23 18:02:04,794] Trial 92 finished with value: 0.8793745522690131 and parameters: {'learning_rate': 0.010615, 'feature_fraction': 0.65, 'num_leaves': 22, 'lambda_l1': 1.25, 'lambda_l2': 4.78131, 'bagging_fraction': 0.786, 'bagging_freq': 2}. Best is trial 92 with value: 0.8793745522690131.\n",
      "[I 2023-09-23 18:03:43,962] Trial 93 finished with value: 0.8794152306231577 and parameters: {'learning_rate': 0.011672, 'feature_fraction': 0.65, 'num_leaves': 23, 'lambda_l1': 1.24428, 'lambda_l2': 1.65551, 'bagging_fraction': 0.786, 'bagging_freq': 2}. Best is trial 92 with value: 0.8793745522690131.\n",
      "[I 2023-09-23 18:05:58,843] Trial 94 finished with value: 0.8793910132729191 and parameters: {'learning_rate': 0.010635, 'feature_fraction': 0.65, 'num_leaves': 22, 'lambda_l1': 1.73645, 'lambda_l2': 4.99894, 'bagging_fraction': 0.786, 'bagging_freq': 10}. Best is trial 92 with value: 0.8793745522690131.\n",
      "[I 2023-09-23 18:08:06,004] Trial 95 finished with value: 0.8793963341107102 and parameters: {'learning_rate': 0.012008, 'feature_fraction': 0.65, 'num_leaves': 22, 'lambda_l1': 1.38103, 'lambda_l2': 4.932360000000001, 'bagging_fraction': 0.786, 'bagging_freq': 10}. Best is trial 92 with value: 0.8793745522690131.\n",
      "[I 2023-09-23 18:09:57,780] Trial 96 finished with value: 0.8794330871911153 and parameters: {'learning_rate': 0.013634, 'feature_fraction': 0.65, 'num_leaves': 22, 'lambda_l1': 1.38895, 'lambda_l2': 2.87354, 'bagging_fraction': 0.786, 'bagging_freq': 10}. Best is trial 92 with value: 0.8793745522690131.\n",
      "[I 2023-09-23 18:12:02,332] Trial 97 finished with value: 0.87991888700408 and parameters: {'learning_rate': 0.012577, 'feature_fraction': 0.65, 'num_leaves': 60, 'lambda_l1': 1.49695, 'lambda_l2': 4.81734, 'bagging_fraction': 0.75, 'bagging_freq': 16}. Best is trial 92 with value: 0.8793745522690131.\n",
      "[I 2023-09-23 18:13:54,132] Trial 98 finished with value: 0.8795932140925551 and parameters: {'learning_rate': 0.011398, 'feature_fraction': 0.65, 'num_leaves': 26, 'lambda_l1': 1.20425, 'lambda_l2': 4.9239500000000005, 'bagging_fraction': 0.786, 'bagging_freq': 32}. Best is trial 92 with value: 0.8793745522690131.\n",
      "[I 2023-09-23 18:15:39,968] Trial 99 finished with value: 0.8794461234320069 and parameters: {'learning_rate': 0.012049, 'feature_fraction': 0.65, 'num_leaves': 22, 'lambda_l1': 1.2970100000000002, 'lambda_l2': 1.04308, 'bagging_fraction': 0.786, 'bagging_freq': 12}. Best is trial 92 with value: 0.8793745522690131.\n",
      "[I 2023-09-23 18:17:52,468] Trial 100 finished with value: 0.8793552698014571 and parameters: {'learning_rate': 0.010725, 'feature_fraction': 0.65, 'num_leaves': 21, 'lambda_l1': 1.4340700000000002, 'lambda_l2': 2.48292, 'bagging_fraction': 0.786, 'bagging_freq': 6}. Best is trial 100 with value: 0.8793552698014571.\n",
      "[I 2023-09-23 18:20:05,120] Trial 101 finished with value: 0.8793726386728348 and parameters: {'learning_rate': 0.010769, 'feature_fraction': 0.65, 'num_leaves': 21, 'lambda_l1': 1.5477100000000001, 'lambda_l2': 2.48376, 'bagging_fraction': 0.786, 'bagging_freq': 6}. Best is trial 100 with value: 0.8793552698014571.\n"
     ]
    }
   ],
   "source": [
    "experiments = OutcomesLGBM().optuna_optimization(200)"
   ],
   "metadata": {
    "collapsed": false,
    "is_executing": true,
    "ExecuteTime": {
     "start_time": "2023-09-23T19:03:23.823412Z"
    }
   }
  },
  {
   "cell_type": "code",
   "execution_count": 83,
   "outputs": [
    {
     "name": "stdout",
     "output_type": "stream",
     "text": [
      "[LightGBM] [Warning] lambda_l1 is set=1.11749, reg_alpha=0.0 will be ignored. Current value: lambda_l1=1.11749\n",
      "[LightGBM] [Warning] bagging_freq is set=50, subsample_freq=0 will be ignored. Current value: bagging_freq=50\n",
      "[LightGBM] [Warning] lambda_l2 is set=3.50433, reg_lambda=0.0 will be ignored. Current value: lambda_l2=3.50433\n",
      "[LightGBM] [Warning] bagging_fraction is set=0.9, subsample=1.0 will be ignored. Current value: bagging_fraction=0.9\n",
      "[LightGBM] [Warning] min_data_in_leaf is set=20, min_child_samples=20 will be ignored. Current value: min_data_in_leaf=20\n",
      "[LightGBM] [Warning] feature_fraction is set=0.8, colsample_bytree=1.0 will be ignored. Current value: feature_fraction=0.8\n"
     ]
    },
    {
     "data": {
      "text/plain": "   match_id  home_goals  away_goals  home_win  draw  away_win\n0      2165       1.766       1.315     0.481 0.233     0.286\n1      2166       1.686       1.145     0.500 0.241     0.259\n2      2459       1.395       1.305     0.392 0.258     0.350\n3      2460       1.297       1.134     0.403 0.273     0.324\n4      2461       1.249       1.041     0.410 0.282     0.307",
      "text/html": "<div>\n<style scoped>\n    .dataframe tbody tr th:only-of-type {\n        vertical-align: middle;\n    }\n\n    .dataframe tbody tr th {\n        vertical-align: top;\n    }\n\n    .dataframe thead th {\n        text-align: right;\n    }\n</style>\n<table border=\"1\" class=\"dataframe\">\n  <thead>\n    <tr style=\"text-align: right;\">\n      <th></th>\n      <th>match_id</th>\n      <th>home_goals</th>\n      <th>away_goals</th>\n      <th>home_win</th>\n      <th>draw</th>\n      <th>away_win</th>\n    </tr>\n  </thead>\n  <tbody>\n    <tr>\n      <th>0</th>\n      <td>2165</td>\n      <td>1.766</td>\n      <td>1.315</td>\n      <td>0.481</td>\n      <td>0.233</td>\n      <td>0.286</td>\n    </tr>\n    <tr>\n      <th>1</th>\n      <td>2166</td>\n      <td>1.686</td>\n      <td>1.145</td>\n      <td>0.500</td>\n      <td>0.241</td>\n      <td>0.259</td>\n    </tr>\n    <tr>\n      <th>2</th>\n      <td>2459</td>\n      <td>1.395</td>\n      <td>1.305</td>\n      <td>0.392</td>\n      <td>0.258</td>\n      <td>0.350</td>\n    </tr>\n    <tr>\n      <th>3</th>\n      <td>2460</td>\n      <td>1.297</td>\n      <td>1.134</td>\n      <td>0.403</td>\n      <td>0.273</td>\n      <td>0.324</td>\n    </tr>\n    <tr>\n      <th>4</th>\n      <td>2461</td>\n      <td>1.249</td>\n      <td>1.041</td>\n      <td>0.410</td>\n      <td>0.282</td>\n      <td>0.307</td>\n    </tr>\n  </tbody>\n</table>\n</div>"
     },
     "execution_count": 83,
     "metadata": {},
     "output_type": "execute_result"
    }
   ],
   "source": [
    "predictions = OutcomesLGBM().predict()\n",
    "predictions.head()"
   ],
   "metadata": {
    "collapsed": false,
    "ExecuteTime": {
     "end_time": "2023-09-23T18:36:47.987930Z",
     "start_time": "2023-09-23T18:36:41.430756Z"
    }
   }
  },
  {
   "cell_type": "code",
   "execution_count": 28,
   "outputs": [],
   "source": [],
   "metadata": {
    "collapsed": false,
    "ExecuteTime": {
     "end_time": "2023-09-23T14:12:49.245286Z",
     "start_time": "2023-09-23T14:12:49.211751Z"
    }
   }
  },
  {
   "cell_type": "code",
   "execution_count": 28,
   "outputs": [],
   "source": [],
   "metadata": {
    "collapsed": false,
    "ExecuteTime": {
     "end_time": "2023-09-23T14:12:49.248739Z",
     "start_time": "2023-09-23T14:12:49.232822Z"
    }
   }
  },
  {
   "cell_type": "raw",
   "source": [
    "Compare Models"
   ],
   "metadata": {
    "collapsed": false
   }
  },
  {
   "cell_type": "code",
   "execution_count": 92,
   "outputs": [
    {
     "name": "stdout",
     "output_type": "stream",
     "text": [
      "[LightGBM] [Warning] lambda_l1 is set=1.11749, reg_alpha=0.0 will be ignored. Current value: lambda_l1=1.11749\n",
      "[LightGBM] [Warning] bagging_freq is set=50, subsample_freq=0 will be ignored. Current value: bagging_freq=50\n",
      "[LightGBM] [Warning] lambda_l2 is set=3.50433, reg_lambda=0.0 will be ignored. Current value: lambda_l2=3.50433\n",
      "[LightGBM] [Warning] bagging_fraction is set=0.9, subsample=1.0 will be ignored. Current value: bagging_fraction=0.9\n",
      "[LightGBM] [Warning] min_data_in_leaf is set=20, min_child_samples=20 will be ignored. Current value: min_data_in_leaf=20\n",
      "[LightGBM] [Warning] feature_fraction is set=0.8, colsample_bytree=1.0 will be ignored. Current value: feature_fraction=0.8\n"
     ]
    },
    {
     "data": {
      "text/plain": "               model  loss\n0           Catboost 0.596\n1           LightGBM 0.592\n2  Modified Glicko-2 0.585\n3  Original Glicko-2 0.593",
      "text/html": "<div>\n<style scoped>\n    .dataframe tbody tr th:only-of-type {\n        vertical-align: middle;\n    }\n\n    .dataframe tbody tr th {\n        vertical-align: top;\n    }\n\n    .dataframe thead th {\n        text-align: right;\n    }\n</style>\n<table border=\"1\" class=\"dataframe\">\n  <thead>\n    <tr style=\"text-align: right;\">\n      <th></th>\n      <th>model</th>\n      <th>loss</th>\n    </tr>\n  </thead>\n  <tbody>\n    <tr>\n      <th>0</th>\n      <td>Catboost</td>\n      <td>0.596</td>\n    </tr>\n    <tr>\n      <th>1</th>\n      <td>LightGBM</td>\n      <td>0.592</td>\n    </tr>\n    <tr>\n      <th>2</th>\n      <td>Modified Glicko-2</td>\n      <td>0.585</td>\n    </tr>\n    <tr>\n      <th>3</th>\n      <td>Original Glicko-2</td>\n      <td>0.593</td>\n    </tr>\n  </tbody>\n</table>\n</div>"
     },
     "execution_count": 92,
     "metadata": {},
     "output_type": "execute_result"
    }
   ],
   "source": [
    "from soccer.compare_models import compare_models\n",
    "\n",
    "compare_models()"
   ],
   "metadata": {
    "collapsed": false,
    "ExecuteTime": {
     "end_time": "2023-09-23T18:57:31.607248Z",
     "start_time": "2023-09-23T18:56:45.850108Z"
    }
   }
  },
  {
   "cell_type": "code",
   "execution_count": null,
   "outputs": [],
   "source": [],
   "metadata": {
    "collapsed": false
   }
  },
  {
   "cell_type": "code",
   "execution_count": null,
   "outputs": [],
   "source": [],
   "metadata": {
    "collapsed": false
   }
  },
  {
   "cell_type": "code",
   "execution_count": null,
   "outputs": [],
   "source": [],
   "metadata": {
    "collapsed": false
   }
  }
 ],
 "metadata": {
  "kernelspec": {
   "display_name": "Python 3",
   "language": "python",
   "name": "python3"
  },
  "language_info": {
   "codemirror_mode": {
    "name": "ipython",
    "version": 2
   },
   "file_extension": ".py",
   "mimetype": "text/x-python",
   "name": "python",
   "nbconvert_exporter": "python",
   "pygments_lexer": "ipython2",
   "version": "2.7.6"
  }
 },
 "nbformat": 4,
 "nbformat_minor": 0
}
