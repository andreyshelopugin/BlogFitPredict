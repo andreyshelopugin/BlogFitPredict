{
 "cells": [
  {
   "cell_type": "code",
   "execution_count": 91,
   "metadata": {
    "collapsed": true,
    "ExecuteTime": {
     "end_time": "2023-09-26T22:11:26.926041Z",
     "start_time": "2023-09-26T22:11:26.872623Z"
    }
   },
   "outputs": [],
   "source": [
    "%reload_ext autoreload\n",
    "%autoreload 2\n",
    "\n",
    "from glicko2 import Rating, Glicko2"
   ]
  },
  {
   "cell_type": "raw",
   "source": [
    "Glicko-2\n",
    "\n",
    "Glicko-2 represents the strength of each team as a probability distribution. Initially, each team is associated with a normal prior distribution. As match outcomes accumulate, teams are approximated to a posterior distribution. When the team wins its rating increases. This increase is influenced by two key factors: firstly, the difference in ratings (mu), resulting in a more substantial increase when a poor-rated team wins, and secondly, rating deviations (rd), which lead to rapid ratings adjustments when there is limited historical match data available for the opponents."
   ],
   "metadata": {
    "collapsed": false
   }
  },
  {
   "cell_type": "code",
   "execution_count": 95,
   "outputs": [
    {
     "data": {
      "text/plain": "Rating(mu=1500, rd=200, volatility=0.06)"
     },
     "execution_count": 95,
     "metadata": {},
     "output_type": "execute_result"
    }
   ],
   "source": [
    "# initialize ratings\n",
    "rating1 = Rating(mu=1500, rd=200)\n",
    "rating2 = Rating(mu=1500, rd=200)\n",
    "\n",
    "rating1"
   ],
   "metadata": {
    "collapsed": false,
    "ExecuteTime": {
     "end_time": "2023-09-26T22:11:39.103395Z",
     "start_time": "2023-09-26T22:11:39.029545Z"
    }
   }
  },
  {
   "cell_type": "code",
   "execution_count": 98,
   "outputs": [],
   "source": [
    "# \"disable\" home field advantage\n",
    "neutral_filed = 0\n",
    "\n",
    "# apriori draw probability, this value is calculated from the boosting model\n",
    "apriori_draw_proba = 0.33"
   ],
   "metadata": {
    "collapsed": false,
    "ExecuteTime": {
     "end_time": "2023-09-26T22:12:47.427839Z",
     "start_time": "2023-09-26T22:12:47.381879Z"
    }
   }
  },
  {
   "cell_type": "code",
   "execution_count": 99,
   "outputs": [
    {
     "data": {
      "text/plain": "(0.318590211976103, 0.36281957604779397, 0.318590211976103)"
     },
     "execution_count": 99,
     "metadata": {},
     "output_type": "execute_result"
    }
   ],
   "source": [
    "# calculate outcome probabilities\n",
    "home_win_proba, tie_proba, away_win_proba = Glicko2().probabilities(rating1, rating2, neutral_filed, apriori_draw_proba)\n",
    "home_win_proba, tie_proba, away_win_proba"
   ],
   "metadata": {
    "collapsed": false,
    "ExecuteTime": {
     "end_time": "2023-09-26T22:12:48.690412Z",
     "start_time": "2023-09-26T22:12:48.651244Z"
    }
   }
  },
  {
   "cell_type": "raw",
   "source": [
    "The probabilities of a home win and away win are equal."
   ],
   "metadata": {
    "collapsed": false
   }
  },
  {
   "cell_type": "code",
   "execution_count": 101,
   "outputs": [
    {
     "data": {
      "text/plain": "(Rating(mu=1578.8017117324646, rd=180.07828241994562, volatility=0.059998510217965345),\n Rating(mu=1421.1982882675354, rd=180.07828241994562, volatility=0.059998510217965345))"
     },
     "execution_count": 101,
     "metadata": {},
     "output_type": "execute_result"
    }
   ],
   "source": [
    "# possible outcomes: 'H' represents a win for the home team, 'D' is a draw, 'A' is a win for away team\n",
    "# recalculate ratings after a home team win.\n",
    "\n",
    "new_rating1, new_rating2 = Glicko2().rate(rating1, rating2, neutral_filed, 'H', apriori_draw_proba)\n",
    "new_rating1, new_rating2"
   ],
   "metadata": {
    "collapsed": false,
    "ExecuteTime": {
     "end_time": "2023-09-26T22:17:56.316845Z",
     "start_time": "2023-09-26T22:17:56.237478Z"
    }
   }
  },
  {
   "cell_type": "raw",
   "source": [
    "After the win of the first team, the rating of the first team increased by 78.8 points."
   ],
   "metadata": {
    "collapsed": false
   }
  },
  {
   "cell_type": "code",
   "execution_count": 102,
   "outputs": [
    {
     "data": {
      "text/plain": "(Rating(mu=1748.5954852560465, rd=182.9374462139586, volatility=0.059995663932024136),\n Rating(mu=1451.4045147439535, rd=182.9374462139586, volatility=0.059995663932024136))"
     },
     "execution_count": 102,
     "metadata": {},
     "output_type": "execute_result"
    }
   ],
   "source": [
    "# initialize ratings again, now the first team is the favorite\n",
    "rating1 = Rating(mu=1700, rd=200)\n",
    "rating2 = Rating(mu=1500, rd=200)\n",
    "\n",
    "new_rating1, new_rating2 = Glicko2().rate(rating1, rating2, neutral_filed, 'H', apriori_draw_proba)\n",
    "new_rating1, new_rating2"
   ],
   "metadata": {
    "collapsed": false,
    "ExecuteTime": {
     "end_time": "2023-09-26T22:23:01.894935Z",
     "start_time": "2023-09-26T22:23:01.838276Z"
    }
   }
  },
  {
   "cell_type": "raw",
   "source": [
    "The rating of the first team increased by only 48.6 points because it was already the favorite, and the model does not significantly change ratings"
   ],
   "metadata": {
    "collapsed": false
   }
  },
  {
   "cell_type": "code",
   "execution_count": 103,
   "outputs": [
    {
     "data": {
      "text/plain": "(Rating(mu=1714.4177679857044, rd=97.61896663544542, volatility=0.059994079892625896),\n Rating(mu=1485.5822320142956, rd=97.61896663544542, volatility=0.059994079892625896))"
     },
     "execution_count": 103,
     "metadata": {},
     "output_type": "execute_result"
    }
   ],
   "source": [
    "# initialize ratings again, now the first team is the favorite and rating deviations are small,\n",
    "# small rating deviation means that we are confident about given ratings\n",
    "rating1 = Rating(mu=1700, rd=100)\n",
    "rating2 = Rating(mu=1500, rd=100)\n",
    "\n",
    "new_rating1, new_rating2 = Glicko2().rate(rating1, rating2, neutral_filed, 'H', apriori_draw_proba)\n",
    "new_rating1, new_rating2"
   ],
   "metadata": {
    "collapsed": false,
    "ExecuteTime": {
     "end_time": "2023-09-26T22:33:24.232799Z",
     "start_time": "2023-09-26T22:33:24.141150Z"
    }
   }
  },
  {
   "cell_type": "raw",
   "source": [
    "The rating of the first team increased by only 14.4 points because it was already the favorite and RD were small"
   ],
   "metadata": {
    "collapsed": false
   }
  },
  {
   "cell_type": "raw",
   "source": [
    "Home Field Advantage"
   ],
   "metadata": {
    "collapsed": false
   }
  },
  {
   "cell_type": "code",
   "execution_count": 106,
   "outputs": [
    {
     "data": {
      "text/plain": "Rating(mu=1500, rd=200, volatility=0.06)"
     },
     "execution_count": 106,
     "metadata": {},
     "output_type": "execute_result"
    }
   ],
   "source": [
    "# initialize ratings\n",
    "rating1 = Rating(mu=1500, rd=200)\n",
    "rating2 = Rating(mu=1500, rd=200)\n",
    "\n",
    "rating1"
   ],
   "metadata": {
    "collapsed": false,
    "ExecuteTime": {
     "end_time": "2023-09-26T22:41:48.643939Z",
     "start_time": "2023-09-26T22:41:48.605874Z"
    }
   }
  },
  {
   "cell_type": "code",
   "execution_count": 110,
   "outputs": [],
   "source": [
    "# apriori draw probability\n",
    "apriori_draw_proba = 0.30\n",
    "\n",
    "# define home filed advantage\n",
    "home_field_advantage = 30"
   ],
   "metadata": {
    "collapsed": false,
    "ExecuteTime": {
     "end_time": "2023-09-26T22:43:13.753700Z",
     "start_time": "2023-09-26T22:43:13.637551Z"
    }
   }
  },
  {
   "cell_type": "code",
   "execution_count": 111,
   "outputs": [
    {
     "data": {
      "text/plain": "(0.3886971098298659, 0.3493805802816519, 0.26192230988848214)"
     },
     "execution_count": 111,
     "metadata": {},
     "output_type": "execute_result"
    }
   ],
   "source": [
    "home_win_proba, tie_proba, away_win_proba = Glicko2().probabilities(rating1, rating2, home_field_advantage, apriori_draw_proba)\n",
    "home_win_proba, tie_proba, away_win_proba"
   ],
   "metadata": {
    "collapsed": false,
    "ExecuteTime": {
     "end_time": "2023-09-26T22:43:14.281774Z",
     "start_time": "2023-09-26T22:43:14.241728Z"
    }
   }
  },
  {
   "cell_type": "raw",
   "source": [
    "The probability of a home win is higher than that of an away team win because of the home field advantage."
   ],
   "metadata": {
    "collapsed": false
   }
  },
  {
   "cell_type": "code",
   "execution_count": 112,
   "outputs": [
    {
     "data": {
      "text/plain": "(Rating(mu=1569.024063217785, rd=180.3560206268279, volatility=0.059997147634433194),\n Rating(mu=1430.975936782215, rd=180.3560206268279, volatility=0.059997147634433194))"
     },
     "execution_count": 112,
     "metadata": {},
     "output_type": "execute_result"
    }
   ],
   "source": [
    "new_rating1, new_rating2 = Glicko2().rate(rating1, rating2, home_field_advantage, 'H', apriori_draw_proba)\n",
    "new_rating1, new_rating2"
   ],
   "metadata": {
    "collapsed": false,
    "ExecuteTime": {
     "end_time": "2023-09-26T22:43:27.447678Z",
     "start_time": "2023-09-26T22:43:27.394667Z"
    }
   }
  },
  {
   "cell_type": "raw",
   "source": [
    "After the win of the home team, the rating of the home team increased by 69 points."
   ],
   "metadata": {
    "collapsed": false
   }
  },
  {
   "cell_type": "code",
   "execution_count": 113,
   "outputs": [
    {
     "data": {
      "text/plain": "(Rating(mu=1489.979092702602, rd=180.3559894421362, volatility=0.059992424579571234),\n Rating(mu=1510.020907297398, rd=180.3559894421362, volatility=0.059992424579571234))"
     },
     "execution_count": 113,
     "metadata": {},
     "output_type": "execute_result"
    }
   ],
   "source": [
    "new_rating1, new_rating2 = Glicko2().rate(rating1, rating2, home_field_advantage, 'D', apriori_draw_proba)\n",
    "new_rating1, new_rating2"
   ],
   "metadata": {
    "collapsed": false,
    "ExecuteTime": {
     "end_time": "2023-09-26T22:43:34.393997Z",
     "start_time": "2023-09-26T22:43:34.355646Z"
    }
   }
  },
  {
   "cell_type": "raw",
   "source": [
    "After a draw, the rating of the home team decreased despite the fact that the ratings were equal before the game due to the loss of home field advantage."
   ],
   "metadata": {
    "collapsed": false
   }
  },
  {
   "cell_type": "code",
   "execution_count": 53,
   "outputs": [
    {
     "data": {
      "text/plain": "(Rating(mu=1410.8956759134726, rd=180.3580688921342, volatility=0.06000036465459351),\n Rating(mu=1589.1043240865274, rd=180.3580688921342, volatility=0.060000364654593484))"
     },
     "execution_count": 53,
     "metadata": {},
     "output_type": "execute_result"
    }
   ],
   "source": [
    "new_rating1, new_rating2 = Glicko2().rate(rating1, rating2, home_field_advantage, 'A', apriori_draw_proba)\n",
    "new_rating1, new_rating2"
   ],
   "metadata": {
    "collapsed": false,
    "ExecuteTime": {
     "end_time": "2023-09-25T02:23:27.401354Z",
     "start_time": "2023-09-25T02:23:27.386789Z"
    }
   }
  },
  {
   "cell_type": "raw",
   "source": [
    "After the win of the away team, the rating of away team increased by 89 points."
   ],
   "metadata": {
    "collapsed": false
   }
  },
  {
   "cell_type": "code",
   "execution_count": 53,
   "outputs": [],
   "source": [],
   "metadata": {
    "collapsed": false,
    "ExecuteTime": {
     "end_time": "2023-09-25T02:23:28.574676Z",
     "start_time": "2023-09-25T02:23:28.553252Z"
    }
   }
  },
  {
   "cell_type": "code",
   "execution_count": 53,
   "outputs": [],
   "source": [],
   "metadata": {
    "collapsed": false,
    "ExecuteTime": {
     "end_time": "2023-09-25T02:23:28.662496Z",
     "start_time": "2023-09-25T02:23:28.659479Z"
    }
   }
  },
  {
   "cell_type": "code",
   "execution_count": 53,
   "outputs": [],
   "source": [],
   "metadata": {
    "collapsed": false,
    "ExecuteTime": {
     "end_time": "2023-09-25T02:23:28.823937Z",
     "start_time": "2023-09-25T02:23:28.821252Z"
    }
   }
  },
  {
   "cell_type": "code",
   "execution_count": 53,
   "outputs": [],
   "source": [],
   "metadata": {
    "collapsed": false,
    "ExecuteTime": {
     "end_time": "2023-09-25T02:23:29.006754Z",
     "start_time": "2023-09-25T02:23:29.004239Z"
    }
   }
  },
  {
   "cell_type": "code",
   "execution_count": 53,
   "outputs": [],
   "source": [],
   "metadata": {
    "collapsed": false,
    "ExecuteTime": {
     "end_time": "2023-09-25T02:23:29.122414Z",
     "start_time": "2023-09-25T02:23:29.120451Z"
    }
   }
  },
  {
   "cell_type": "code",
   "execution_count": 53,
   "outputs": [],
   "source": [],
   "metadata": {
    "collapsed": false,
    "ExecuteTime": {
     "end_time": "2023-09-25T02:23:29.259135Z",
     "start_time": "2023-09-25T02:23:29.257267Z"
    }
   }
  },
  {
   "cell_type": "code",
   "execution_count": 53,
   "outputs": [],
   "source": [],
   "metadata": {
    "collapsed": false,
    "ExecuteTime": {
     "end_time": "2023-09-25T02:23:29.391604Z",
     "start_time": "2023-09-25T02:23:29.389278Z"
    }
   }
  },
  {
   "cell_type": "code",
   "execution_count": null,
   "outputs": [],
   "source": [],
   "metadata": {
    "collapsed": false
   }
  }
 ],
 "metadata": {
  "kernelspec": {
   "display_name": "Python 3",
   "language": "python",
   "name": "python3"
  },
  "language_info": {
   "codemirror_mode": {
    "name": "ipython",
    "version": 2
   },
   "file_extension": ".py",
   "mimetype": "text/x-python",
   "name": "python",
   "nbconvert_exporter": "python",
   "pygments_lexer": "ipython2",
   "version": "2.7.6"
  }
 },
 "nbformat": 4,
 "nbformat_minor": 0
}
